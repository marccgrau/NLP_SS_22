{
 "cells": [
  {
   "cell_type": "markdown",
   "source": [
    "## Transform audio files\n",
    "Read in all audio files and convert them to .wav files with a sample rate of 16'000. "
   ],
   "metadata": {
    "collapsed": false,
    "pycharm": {
     "name": "#%% md\n"
    }
   }
  },
  {
   "cell_type": "code",
   "execution_count": null,
   "outputs": [],
   "source": [
    "import librosa\n",
    "import soundfile as sf\n",
    "import glob\n",
    "import os"
   ],
   "metadata": {
    "collapsed": false,
    "pycharm": {
     "name": "#%%\n"
    }
   }
  },
  {
   "cell_type": "code",
   "execution_count": null,
   "outputs": [],
   "source": [
    "AUDIO_DATA = \"../data\"\n",
    "SAMPLE_RATE= 16000"
   ],
   "metadata": {
    "collapsed": false,
    "pycharm": {
     "name": "#%%\n"
    }
   }
  },
  {
   "cell_type": "code",
   "execution_count": null,
   "outputs": [],
   "source": [
    "audio_files = glob.glob(os.path.join(AUDIO_DATA, '*.wav'))"
   ],
   "metadata": {
    "collapsed": false,
    "pycharm": {
     "name": "#%%\n"
    }
   }
  },
  {
   "cell_type": "code",
   "execution_count": null,
   "outputs": [],
   "source": [
    "print(audio_files)"
   ],
   "metadata": {
    "collapsed": false,
    "pycharm": {
     "name": "#%%\n"
    }
   }
  },
  {
   "cell_type": "code",
   "execution_count": null,
   "outputs": [],
   "source": [
    "names = [\"processed_0428_part1\", \"processed_0324_part2\", \"processed_0428_part2\", \"processed_0224_part1\", \"processed_0224_part2\", \"processed_0428_part3\", \"processed_0324_part1\"]"
   ],
   "metadata": {
    "collapsed": false,
    "pycharm": {
     "name": "#%%\n"
    }
   }
  },
  {
   "cell_type": "code",
   "execution_count": null,
   "outputs": [],
   "source": [
    "idx = 0\n",
    "for audio in audio_files:\n",
    "    print(audio)\n",
    "    data, sr = librosa.load(audio, sr = SAMPLE_RATE)\n",
    "    name = \"../data/\" + names[idx] + \".wav\"\n",
    "    sf.write(name, data, samplerate = SAMPLE_RATE)\n",
    "    idx+=1\n",
    "    "
   ],
   "metadata": {
    "collapsed": false,
    "pycharm": {
     "name": "#%%\n"
    }
   }
  },
  {
   "cell_type": "markdown",
   "source": [
    "## Merge audio files of the same session"
   ],
   "metadata": {
    "collapsed": false,
    "pycharm": {
     "name": "#%% md\n"
    }
   }
  },
  {
   "cell_type": "code",
   "execution_count": null,
   "outputs": [],
   "source": [
    "from pydub import AudioSegment"
   ],
   "metadata": {
    "collapsed": false,
    "pycharm": {
     "name": "#%%\n"
    }
   }
  },
  {
   "cell_type": "code",
   "execution_count": null,
   "outputs": [],
   "source": [
    "# Parliament session at the 28/04/2021\n",
    "session_0428_1 = AudioSegment.from_wav(os.path.join(AUDIO_DATA, \"processed_0428_part1.wav\"))\n",
    "session_0428_2 = AudioSegment.from_wav(os.path.join(AUDIO_DATA, \"processed_0428_part2.wav\"))\n",
    "session_0428_3 = AudioSegment.from_wav(os.path.join(AUDIO_DATA, \"processed_0428_part3.wav\"))\n",
    "\n",
    "session_0428 = session_0428_1 + session_0428_2 + session_0428_3\n",
    "session_0428.export(os.path.join(AUDIO_DATA, \"final_0428.wav\"), format=\"wav\")"
   ],
   "metadata": {
    "collapsed": false,
    "pycharm": {
     "name": "#%%\n"
    }
   }
  },
  {
   "cell_type": "code",
   "execution_count": null,
   "outputs": [],
   "source": [
    "# Parliament session at the 24/03/2021\n",
    "session_0324_1 = AudioSegment.from_wav(os.path.join(AUDIO_DATA, \"processed_0324_part1.wav\"))\n",
    "session_0324_2 = AudioSegment.from_wav(os.path.join(AUDIO_DATA, \"processed_0324_part2.wav\"))\n",
    "\n",
    "session_0324 = session_0324_1 + session_0324_2\n",
    "session_0324.export(os.path.join(AUDIO_DATA, \"final_0324.wav\"), format=\"wav\")"
   ],
   "metadata": {
    "collapsed": false,
    "pycharm": {
     "name": "#%%\n"
    }
   }
  },
  {
   "cell_type": "code",
   "execution_count": null,
   "outputs": [],
   "source": [
    "# Parliament session at the 24/03/2021\n",
    "session_0224_1 = AudioSegment.from_wav(os.path.join(AUDIO_DATA, \"processed_0224_part1.wav\"))\n",
    "session_0224_2 = AudioSegment.from_wav(os.path.join(AUDIO_DATA, \"processed_0224_part2.wav\"))\n",
    "\n",
    "session_0224 = session_0224_1 + session_0224_2\n",
    "session_0224.export(os.path.join(AUDIO_DATA, \"final_0224.wav\"), format=\"wav\")"
   ],
   "metadata": {
    "collapsed": false,
    "pycharm": {
     "name": "#%%\n"
    }
   }
  },
  {
   "cell_type": "code",
   "execution_count": null,
   "outputs": [],
   "source": [],
   "metadata": {
    "collapsed": false,
    "pycharm": {
     "name": "#%%\n"
    }
   }
  },
  {
   "cell_type": "code",
   "execution_count": 6,
   "metadata": {
    "collapsed": false,
    "jupyter": {
     "outputs_hidden": false
    },
    "pycharm": {
     "name": "#%%\n"
    }
   },
   "outputs": [
    {
     "name": "stdout",
     "output_type": "stream",
     "text": [
      "../data/04-KR-Sitzung_2021-04-28-R1_20210428-084844.wav\n",
      "../data/03-KR-Sitzung_2021-03-24-210324-001.wav\n",
      "../data/05-KR-Sitzung_2021-04-28-R2_20210428-124912.wav\n",
      "../data/00-KR-Sitzung_2021-02-24-STE-000.wav\n",
      "../data/01-KR-Sitzung_2021-02-24-STE-001.wav\n",
      "../data/06-KR-Sitzung_2021-04-28-R3_20210428-155455.wav\n",
      "../data/02-KR-Sitzung_2021-03-24-210324-000.wav\n"
     ]
    }
   ],
   "source": [
    "idx = 0\n",
    "for audio in audio_files:\n",
    "    print(audio)\n",
    "    data, sr = librosa.load(audio, sr = SAMPLE_RATE)\n",
    "    name = \"../data/\" + names[idx] + \".wav\"\n",
    "    sf.write(name, data, samplerate = SAMPLE_RATE)\n",
    "    idx+=1\n",
    "    "
   ]
  },
  {
   "cell_type": "markdown",
   "metadata": {
    "pycharm": {
     "name": "#%% md\n"
    }
   },
   "source": [
    "## Merge audio files of the same session"
   ]
  },
  {
   "cell_type": "code",
   "execution_count": 7,
   "metadata": {
    "pycharm": {
     "name": "#%%\n"
    }
   },
   "outputs": [],
   "source": [
    "from pydub import AudioSegment"
   ]
  },
  {
   "cell_type": "code",
   "execution_count": 8,
   "metadata": {
    "pycharm": {
     "name": "#%%\n"
    }
   },
   "outputs": [
    {
     "data": {
      "text/plain": [
       "<_io.BufferedRandom name='../data/final_0428.wav'>"
      ]
     },
     "execution_count": 8,
     "metadata": {},
     "output_type": "execute_result"
    }
   ],
   "source": [
    "# Parliament session at the 28/04/2021\n",
    "session_0428_1 = AudioSegment.from_wav(os.path.join(AUDIO_DATA, \"processed_0428_part1.wav\"))\n",
    "session_0428_2 = AudioSegment.from_wav(os.path.join(AUDIO_DATA, \"processed_0428_part2.wav\"))\n",
    "session_0428_3 = AudioSegment.from_wav(os.path.join(AUDIO_DATA, \"processed_0428_part3.wav\"))\n",
    "\n",
    "session_0428 = session_0428_1 + session_0428_2 + session_0428_3\n",
    "session_0428.export(os.path.join(AUDIO_DATA, \"final_0428.wav\"), format=\"wav\")"
   ]
  },
  {
   "cell_type": "code",
   "execution_count": 9,
   "metadata": {
    "pycharm": {
     "name": "#%%\n"
    }
   },
   "outputs": [
    {
     "data": {
      "text/plain": [
       "<_io.BufferedRandom name='../data/final_0324.wav'>"
      ]
     },
     "execution_count": 9,
     "metadata": {},
     "output_type": "execute_result"
    }
   ],
   "source": [
    "# Parliament session at the 24/03/2021\n",
    "session_0324_1 = AudioSegment.from_wav(os.path.join(AUDIO_DATA, \"processed_0324_part1.wav\"))\n",
    "session_0324_2 = AudioSegment.from_wav(os.path.join(AUDIO_DATA, \"processed_0324_part2.wav\"))\n",
    "\n",
    "session_0324 = session_0324_1 + session_0324_2\n",
    "session_0324.export(os.path.join(AUDIO_DATA, \"final_0324.wav\"), format=\"wav\")"
   ]
  },
  {
   "cell_type": "code",
   "execution_count": 10,
   "metadata": {
    "pycharm": {
     "name": "#%%\n"
    }
   },
   "outputs": [
    {
     "data": {
      "text/plain": [
       "<_io.BufferedRandom name='../data/final_0224.wav'>"
      ]
     },
     "execution_count": 10,
     "metadata": {},
     "output_type": "execute_result"
    }
   ],
   "source": [
    "# Parliament session at the 24/03/2021\n",
    "session_0224_1 = AudioSegment.from_wav(os.path.join(AUDIO_DATA, \"processed_0224_part1.wav\"))\n",
    "session_0224_2 = AudioSegment.from_wav(os.path.join(AUDIO_DATA, \"processed_0224_part2.wav\"))\n",
    "\n",
    "session_0224 = session_0224_1 + session_0224_2\n",
    "session_0224.export(os.path.join(AUDIO_DATA, \"final_0224.wav\"), format=\"wav\")"
   ]
  },
  {
   "cell_type": "code",
   "execution_count": null,
   "metadata": {
    "pycharm": {
     "name": "#%%\n"
    }
   },
   "outputs": [],
   "source": []
  }
 ],
 "metadata": {
  "kernelspec": {
   "display_name": "Python 3 (ipykernel)",
   "language": "python",
   "name": "python3"
  },
  "language_info": {
   "codemirror_mode": {
    "name": "ipython",
    "version": 3
   },
   "file_extension": ".py",
   "mimetype": "text/x-python",
   "name": "python",
   "nbconvert_exporter": "python",
   "pygments_lexer": "ipython3",
   "version": "3.9.13"
  }
 },
 "nbformat": 4,
 "nbformat_minor": 4
}