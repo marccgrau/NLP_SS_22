{
 "cells": [
  {
   "cell_type": "code",
   "execution_count": 1,
   "metadata": {
    "pycharm": {
     "name": "#%%\n"
    }
   },
   "outputs": [
    {
     "name": "stdout",
     "output_type": "stream",
     "text": [
      "\u001b[33mWARNING: The directory '/home/user/.cache/pip' or its parent directory is not owned or is not writable by the current user. The cache has been disabled. Check the permissions and owner of that directory. If executing pip with sudo, you should use sudo's -H flag.\u001b[0m\u001b[33m\n",
      "\u001b[0mDefaulting to user installation because normal site-packages is not writeable\n",
      "Requirement already satisfied: spacy in /home/user/.local/lib/python3.9/site-packages (3.3.1)\n",
      "Requirement already satisfied: jinja2 in /home/user/.local/lib/python3.9/site-packages (from spacy) (3.1.2)\n",
      "Requirement already satisfied: tqdm<5.0.0,>=4.38.0 in /home/user/.local/lib/python3.9/site-packages (from spacy) (4.64.0)\n",
      "Requirement already satisfied: typer<0.5.0,>=0.3.0 in /home/user/.local/lib/python3.9/site-packages (from spacy) (0.4.1)\n",
      "Requirement already satisfied: murmurhash<1.1.0,>=0.28.0 in /home/user/.local/lib/python3.9/site-packages (from spacy) (1.0.7)\n",
      "Requirement already satisfied: spacy-loggers<2.0.0,>=1.0.0 in /home/user/.local/lib/python3.9/site-packages (from spacy) (1.0.2)\n",
      "Requirement already satisfied: pathy>=0.3.5 in /home/user/.local/lib/python3.9/site-packages (from spacy) (0.6.1)\n",
      "Requirement already satisfied: srsly<3.0.0,>=2.4.3 in /home/user/.local/lib/python3.9/site-packages (from spacy) (2.4.3)\n",
      "Requirement already satisfied: pydantic!=1.8,!=1.8.1,<1.9.0,>=1.7.4 in /home/user/.local/lib/python3.9/site-packages (from spacy) (1.8.2)\n",
      "Requirement already satisfied: langcodes<4.0.0,>=3.2.0 in /home/user/.local/lib/python3.9/site-packages (from spacy) (3.3.0)\n",
      "Requirement already satisfied: setuptools in /home/user/.local/lib/python3.9/site-packages (from spacy) (59.5.0)\n",
      "Requirement already satisfied: spacy-legacy<3.1.0,>=3.0.9 in /home/user/.local/lib/python3.9/site-packages (from spacy) (3.0.9)\n",
      "Requirement already satisfied: thinc<8.1.0,>=8.0.14 in /home/user/.local/lib/python3.9/site-packages (from spacy) (8.0.17)\n",
      "Requirement already satisfied: catalogue<2.1.0,>=2.0.6 in /home/user/.local/lib/python3.9/site-packages (from spacy) (2.0.7)\n",
      "Requirement already satisfied: blis<0.8.0,>=0.4.0 in /home/user/.local/lib/python3.9/site-packages (from spacy) (0.7.7)\n",
      "Requirement already satisfied: cymem<2.1.0,>=2.0.2 in /home/user/.local/lib/python3.9/site-packages (from spacy) (2.0.6)\n",
      "Requirement already satisfied: wasabi<1.1.0,>=0.9.1 in /home/user/.local/lib/python3.9/site-packages (from spacy) (0.9.1)\n",
      "Requirement already satisfied: requests<3.0.0,>=2.13.0 in /home/user/.local/lib/python3.9/site-packages (from spacy) (2.27.1)\n",
      "Requirement already satisfied: numpy>=1.15.0 in /home/user/.local/lib/python3.9/site-packages (from spacy) (1.21.6)\n",
      "Requirement already satisfied: packaging>=20.0 in /home/user/.local/lib/python3.9/site-packages (from spacy) (21.3)\n",
      "Requirement already satisfied: preshed<3.1.0,>=3.0.2 in /home/user/.local/lib/python3.9/site-packages (from spacy) (3.0.6)\n",
      "Requirement already satisfied: pyparsing!=3.0.5,>=2.0.2 in /home/user/.local/lib/python3.9/site-packages (from packaging>=20.0->spacy) (3.0.9)\n",
      "Requirement already satisfied: smart-open<6.0.0,>=5.0.0 in /home/user/.local/lib/python3.9/site-packages (from pathy>=0.3.5->spacy) (5.2.1)\n",
      "Requirement already satisfied: typing-extensions>=3.7.4.3 in /home/user/.local/lib/python3.9/site-packages (from pydantic!=1.8,!=1.8.1,<1.9.0,>=1.7.4->spacy) (4.2.0)\n",
      "Requirement already satisfied: urllib3<1.27,>=1.21.1 in /home/user/.local/lib/python3.9/site-packages (from requests<3.0.0,>=2.13.0->spacy) (1.26.9)\n",
      "Requirement already satisfied: charset-normalizer~=2.0.0 in /home/user/.local/lib/python3.9/site-packages (from requests<3.0.0,>=2.13.0->spacy) (2.0.12)\n",
      "Requirement already satisfied: certifi>=2017.4.17 in /home/user/.local/lib/python3.9/site-packages (from requests<3.0.0,>=2.13.0->spacy) (2022.5.18.1)\n",
      "Requirement already satisfied: idna<4,>=2.5 in /home/user/.local/lib/python3.9/site-packages (from requests<3.0.0,>=2.13.0->spacy) (3.3)\n",
      "Requirement already satisfied: click<9.0.0,>=7.1.1 in /home/user/.local/lib/python3.9/site-packages (from typer<0.5.0,>=0.3.0->spacy) (8.1.3)\n",
      "Requirement already satisfied: MarkupSafe>=2.0 in /home/user/.local/lib/python3.9/site-packages (from jinja2->spacy) (2.1.1)\n",
      "\u001b[33mWARNING: The directory '/home/user/.cache/pip' or its parent directory is not owned or is not writable by the current user. The cache has been disabled. Check the permissions and owner of that directory. If executing pip with sudo, you should use sudo's -H flag.\u001b[0m\u001b[33m\n",
      "\u001b[0mDefaulting to user installation because normal site-packages is not writeable\n",
      "Requirement already satisfied: num2words in /home/user/.local/lib/python3.9/site-packages (0.5.10)\n",
      "Requirement already satisfied: docopt>=0.6.2 in /home/user/.local/lib/python3.9/site-packages (from num2words) (0.6.2)\n"
     ]
    }
   ],
   "source": [
    "!pip install spacy\n",
    "!pip install num2words"
   ]
  },
  {
   "cell_type": "code",
   "execution_count": 2,
   "metadata": {
    "pycharm": {
     "name": "#%%\n"
    }
   },
   "outputs": [
    {
     "name": "stdout",
     "output_type": "stream",
     "text": [
      "\u001b[33mWARNING: The directory '/home/user/.cache/pip' or its parent directory is not owned or is not writable by the current user. The cache has been disabled. Check the permissions and owner of that directory. If executing pip with sudo, you should use sudo's -H flag.\u001b[0m\u001b[33m\n",
      "\u001b[0mDefaulting to user installation because normal site-packages is not writeable\n",
      "Collecting de-core-news-sm==3.3.0\n",
      "  Downloading https://github.com/explosion/spacy-models/releases/download/de_core_news_sm-3.3.0/de_core_news_sm-3.3.0-py3-none-any.whl (14.6 MB)\n",
      "\u001b[2K     \u001b[90m━━━━━━━━━━━━━━━━━━━━━━━━━━━━━━━━━━━━━━━━\u001b[0m \u001b[32m14.6/14.6 MB\u001b[0m \u001b[31m26.9 MB/s\u001b[0m eta \u001b[36m0:00:00\u001b[0ma \u001b[36m0:00:01\u001b[0m\n",
      "\u001b[?25hRequirement already satisfied: spacy<3.4.0,>=3.3.0.dev0 in /home/user/.local/lib/python3.9/site-packages (from de-core-news-sm==3.3.0) (3.3.1)\n",
      "Requirement already satisfied: cymem<2.1.0,>=2.0.2 in /home/user/.local/lib/python3.9/site-packages (from spacy<3.4.0,>=3.3.0.dev0->de-core-news-sm==3.3.0) (2.0.6)\n",
      "Requirement already satisfied: langcodes<4.0.0,>=3.2.0 in /home/user/.local/lib/python3.9/site-packages (from spacy<3.4.0,>=3.3.0.dev0->de-core-news-sm==3.3.0) (3.3.0)\n",
      "Requirement already satisfied: requests<3.0.0,>=2.13.0 in /home/user/.local/lib/python3.9/site-packages (from spacy<3.4.0,>=3.3.0.dev0->de-core-news-sm==3.3.0) (2.27.1)\n",
      "Requirement already satisfied: spacy-legacy<3.1.0,>=3.0.9 in /home/user/.local/lib/python3.9/site-packages (from spacy<3.4.0,>=3.3.0.dev0->de-core-news-sm==3.3.0) (3.0.9)\n",
      "Requirement already satisfied: numpy>=1.15.0 in /home/user/.local/lib/python3.9/site-packages (from spacy<3.4.0,>=3.3.0.dev0->de-core-news-sm==3.3.0) (1.21.6)\n",
      "Requirement already satisfied: thinc<8.1.0,>=8.0.14 in /home/user/.local/lib/python3.9/site-packages (from spacy<3.4.0,>=3.3.0.dev0->de-core-news-sm==3.3.0) (8.0.17)\n",
      "Requirement already satisfied: typer<0.5.0,>=0.3.0 in /home/user/.local/lib/python3.9/site-packages (from spacy<3.4.0,>=3.3.0.dev0->de-core-news-sm==3.3.0) (0.4.1)\n",
      "Requirement already satisfied: wasabi<1.1.0,>=0.9.1 in /home/user/.local/lib/python3.9/site-packages (from spacy<3.4.0,>=3.3.0.dev0->de-core-news-sm==3.3.0) (0.9.1)\n",
      "Requirement already satisfied: pathy>=0.3.5 in /home/user/.local/lib/python3.9/site-packages (from spacy<3.4.0,>=3.3.0.dev0->de-core-news-sm==3.3.0) (0.6.1)\n",
      "Requirement already satisfied: tqdm<5.0.0,>=4.38.0 in /home/user/.local/lib/python3.9/site-packages (from spacy<3.4.0,>=3.3.0.dev0->de-core-news-sm==3.3.0) (4.64.0)\n",
      "Requirement already satisfied: blis<0.8.0,>=0.4.0 in /home/user/.local/lib/python3.9/site-packages (from spacy<3.4.0,>=3.3.0.dev0->de-core-news-sm==3.3.0) (0.7.7)\n",
      "Requirement already satisfied: catalogue<2.1.0,>=2.0.6 in /home/user/.local/lib/python3.9/site-packages (from spacy<3.4.0,>=3.3.0.dev0->de-core-news-sm==3.3.0) (2.0.7)\n",
      "Requirement already satisfied: murmurhash<1.1.0,>=0.28.0 in /home/user/.local/lib/python3.9/site-packages (from spacy<3.4.0,>=3.3.0.dev0->de-core-news-sm==3.3.0) (1.0.7)\n",
      "Requirement already satisfied: jinja2 in /home/user/.local/lib/python3.9/site-packages (from spacy<3.4.0,>=3.3.0.dev0->de-core-news-sm==3.3.0) (3.1.2)\n",
      "Requirement already satisfied: packaging>=20.0 in /home/user/.local/lib/python3.9/site-packages (from spacy<3.4.0,>=3.3.0.dev0->de-core-news-sm==3.3.0) (21.3)\n",
      "Requirement already satisfied: preshed<3.1.0,>=3.0.2 in /home/user/.local/lib/python3.9/site-packages (from spacy<3.4.0,>=3.3.0.dev0->de-core-news-sm==3.3.0) (3.0.6)\n",
      "Requirement already satisfied: srsly<3.0.0,>=2.4.3 in /home/user/.local/lib/python3.9/site-packages (from spacy<3.4.0,>=3.3.0.dev0->de-core-news-sm==3.3.0) (2.4.3)\n",
      "Requirement already satisfied: setuptools in /home/user/.local/lib/python3.9/site-packages (from spacy<3.4.0,>=3.3.0.dev0->de-core-news-sm==3.3.0) (59.5.0)\n",
      "Requirement already satisfied: spacy-loggers<2.0.0,>=1.0.0 in /home/user/.local/lib/python3.9/site-packages (from spacy<3.4.0,>=3.3.0.dev0->de-core-news-sm==3.3.0) (1.0.2)\n",
      "Requirement already satisfied: pydantic!=1.8,!=1.8.1,<1.9.0,>=1.7.4 in /home/user/.local/lib/python3.9/site-packages (from spacy<3.4.0,>=3.3.0.dev0->de-core-news-sm==3.3.0) (1.8.2)\n",
      "Requirement already satisfied: pyparsing!=3.0.5,>=2.0.2 in /home/user/.local/lib/python3.9/site-packages (from packaging>=20.0->spacy<3.4.0,>=3.3.0.dev0->de-core-news-sm==3.3.0) (3.0.9)\n",
      "Requirement already satisfied: smart-open<6.0.0,>=5.0.0 in /home/user/.local/lib/python3.9/site-packages (from pathy>=0.3.5->spacy<3.4.0,>=3.3.0.dev0->de-core-news-sm==3.3.0) (5.2.1)\n",
      "Requirement already satisfied: typing-extensions>=3.7.4.3 in /home/user/.local/lib/python3.9/site-packages (from pydantic!=1.8,!=1.8.1,<1.9.0,>=1.7.4->spacy<3.4.0,>=3.3.0.dev0->de-core-news-sm==3.3.0) (4.2.0)\n",
      "Requirement already satisfied: idna<4,>=2.5 in /home/user/.local/lib/python3.9/site-packages (from requests<3.0.0,>=2.13.0->spacy<3.4.0,>=3.3.0.dev0->de-core-news-sm==3.3.0) (3.3)\n",
      "Requirement already satisfied: certifi>=2017.4.17 in /home/user/.local/lib/python3.9/site-packages (from requests<3.0.0,>=2.13.0->spacy<3.4.0,>=3.3.0.dev0->de-core-news-sm==3.3.0) (2022.5.18.1)\n",
      "Requirement already satisfied: charset-normalizer~=2.0.0 in /home/user/.local/lib/python3.9/site-packages (from requests<3.0.0,>=2.13.0->spacy<3.4.0,>=3.3.0.dev0->de-core-news-sm==3.3.0) (2.0.12)\n",
      "Requirement already satisfied: urllib3<1.27,>=1.21.1 in /home/user/.local/lib/python3.9/site-packages (from requests<3.0.0,>=2.13.0->spacy<3.4.0,>=3.3.0.dev0->de-core-news-sm==3.3.0) (1.26.9)\n",
      "Requirement already satisfied: click<9.0.0,>=7.1.1 in /home/user/.local/lib/python3.9/site-packages (from typer<0.5.0,>=0.3.0->spacy<3.4.0,>=3.3.0.dev0->de-core-news-sm==3.3.0) (8.1.3)\n",
      "Requirement already satisfied: MarkupSafe>=2.0 in /home/user/.local/lib/python3.9/site-packages (from jinja2->spacy<3.4.0,>=3.3.0.dev0->de-core-news-sm==3.3.0) (2.1.1)\n",
      "\u001b[38;5;2m✔ Download and installation successful\u001b[0m\n",
      "You can now load the package via spacy.load('de_core_news_sm')\n"
     ]
    }
   ],
   "source": [
    "!python -m spacy download de_core_news_sm"
   ]
  },
  {
   "cell_type": "code",
   "execution_count": 3,
   "metadata": {
    "collapsed": false,
    "jupyter": {
     "outputs_hidden": false
    },
    "pycharm": {
     "name": "#%%\n"
    }
   },
   "outputs": [
    {
     "name": "stderr",
     "output_type": "stream",
     "text": [
      "################################################################################\n",
      "### WARNING, path does not exist: KALDI_ROOT=/mnt/matylda5/iveselyk/Tools/kaldi-trunk\n",
      "###          (please add 'export KALDI_ROOT=<your_path>' in your $HOME/.profile)\n",
      "###          (or run as: KALDI_ROOT=<your_path> python <your_script>.py)\n",
      "################################################################################\n",
      "\n"
     ]
    }
   ],
   "source": [
    "import os\n",
    "import glob\n",
    "import nemo.collections.asr as nemo_asr\n",
    "import torch\n",
    "import numpy as np\n",
    "import ctc_decoders\n",
    "import torchaudio\n",
    "import soundfile as sf\n",
    "import librosa\n",
    "import pandas as pd\n",
    "from num2words import num2words\n",
    "import re"
   ]
  },
  {
   "cell_type": "code",
   "execution_count": 4,
   "metadata": {
    "collapsed": false,
    "jupyter": {
     "outputs_hidden": false
    },
    "pycharm": {
     "name": "#%%\n"
    }
   },
   "outputs": [],
   "source": [
    "from processing.text_processor import preprocess_transcript_for_alignment, preprocess_transcript_for_sentence_split, split_to_sentences\n",
    "from transcribing.stt_transcribe import get_stt_transcription, get_stt_probs"
   ]
  },
  {
   "cell_type": "code",
   "execution_count": 5,
   "metadata": {
    "collapsed": false,
    "jupyter": {
     "outputs_hidden": false
    },
    "pycharm": {
     "name": "#%%\n"
    }
   },
   "outputs": [
    {
     "name": "stdout",
     "output_type": "stream",
     "text": [
      "1.11.0\n",
      "cuda\n"
     ]
    }
   ],
   "source": [
    "torch.random.manual_seed(0)\n",
    "device = torch.device(\"cuda\" if torch.cuda.is_available() else \"cpu\")\n",
    "\n",
    "print(torch.__version__)\n",
    "print(device)"
   ]
  },
  {
   "cell_type": "markdown",
   "metadata": {
    "pycharm": {
     "name": "#%% md\n"
    }
   },
   "source": [
    "## Read true transcript\n",
    "Read the text from the complete protocol provided by the parliament of canton Schwyz. After reading the text process everything and split the whole text into its sentences. "
   ]
  },
  {
   "cell_type": "code",
   "execution_count": 6,
   "metadata": {
    "collapsed": false,
    "jupyter": {
     "outputs_hidden": false
    },
    "pycharm": {
     "name": "#%%\n"
    }
   },
   "outputs": [],
   "source": [
    "PATH_TO_TRANSCRIPT = 'data/text_processed_2021-02-24.txt'"
   ]
  },
  {
   "cell_type": "code",
   "execution_count": 7,
   "metadata": {},
   "outputs": [],
   "source": [
    "numeral_to_ordinal = {\n",
    "    ' 1. ': ' erster ',\n",
    "    ' 2. ': ' zweiter ',\n",
    "    ' 3. ': ' dritter ',\n",
    "    ' 4. ': ' vierter ',\n",
    "    ' 5. ': ' fünfter ',\n",
    "    ' 6. ': ' sechster ',\n",
    "    ' 7. ': ' siebter ',\n",
    "    ' 8. ': ' achter ',\n",
    "    ' 9. ': ' neunter ',\n",
    "    ' 10. ': ' zehnter ',\n",
    "    ' 11. ': ' elfter ',\n",
    "    ' 12. ': ' zwölfter ',\n",
    "    ' 13. ': ' dreizehnter ',\n",
    "    ' 14. ': ' vierzehnter ',\n",
    "    ' 15. ': ' fünfzehnter ',\n",
    "    ' 16. ': ' sechszehnter ',\n",
    "    ' 17. ': ' siebzehnter ',\n",
    "    ' 18. ': ' achtzehnter ',\n",
    "    ' 19. ': ' neunzehnter ',\n",
    "    ' 20. ': ' zwanzigster ',\n",
    "    ' 21. ': ' einundzwanzigster ',\n",
    "    ' 22. ': ' zweiundzwanzigster ',\n",
    "    ' 23. ': ' dreiundzwanzigster ',\n",
    "    ' 24. ': ' vierundzwanzigster ',\n",
    "    ' 25. ': ' fünfundzwanzigster ',\n",
    "    ' 26. ': ' sechsundzwanzigster ',\n",
    "    ' 27. ': ' siebenundzwanzigster ',\n",
    "    ' 28. ': ' achtundzwanzigster ',\n",
    "    ' 29. ': ' neunundzwanzigster ',\n",
    "    ' 30. ': ' dreissigster ',\n",
    "    ' 31. ': ' einunddreissigster '\n",
    "}"
   ]
  },
  {
   "cell_type": "code",
   "execution_count": 8,
   "metadata": {
    "collapsed": false,
    "jupyter": {
     "outputs_hidden": false
    },
    "pycharm": {
     "name": "#%%\n"
    }
   },
   "outputs": [],
   "source": [
    "#TODO adjust for fifth, sixth ect.\n",
    "with open(PATH_TO_TRANSCRIPT, encoding='utf-8') as f:\n",
    "    transcript = f.read()\n",
    "    transcript = preprocess_transcript_for_sentence_split(transcript)\n",
    "    for key in numeral_to_ordinal.keys():\n",
    "        transcript = transcript.replace(key, numeral_to_ordinal[key])\n",
    "    transcript = transcript.replace('%','Prozent')\n",
    "    transcript = transcript.replace('Mio.','Millionen')\n",
    "    transcript = transcript.replace('Fr.','Franken')\n",
    "    transcript = transcript.replace('KRP','Kantonsratpräsident')\n",
    "    transcript = transcript.replace('KR','Kantonsrat')\n",
    "    transcript = transcript.replace('Dr.','Doktor')\n",
    "    transcript = transcript.replace('§§','Paragraph')\n",
    "    transcript = transcript.replace('§','Paragraph')\n",
    "    transcript = transcript.replace('Abs.','Absatz')\n",
    "    transcript = transcript.replace('z. B.','zum Beispiel')\n",
    "    transcript = re.sub(r\"(\\d+)\", lambda x: num2words(int(x.group(0)), lang='de'), transcript)\n",
    "    truth_sentences = split_to_sentences(transcript)"
   ]
  },
  {
   "cell_type": "code",
   "execution_count": 9,
   "metadata": {
    "collapsed": false,
    "jupyter": {
     "outputs_hidden": false
    },
    "pycharm": {
     "name": "#%%\n"
    }
   },
   "outputs": [
    {
     "name": "stdout",
     "output_type": "stream",
     "text": [
      "['Guten Morgen, geschätzte Damen und Herren Kantonsrätinnen, Kantonsräte, geschätzte Frau Landammann, geschätzte Herren Regierungsräte, liebe Vertreterinnen und Vertreter der Medien.', 'Ich begrüsse Sie recht herzlich zur ersten Sitzung im Jahr zweitausendeinundzwanzig.', 'Ich hoffe, Sie sind gut gerutscht – auch wenn es schon länger her ist und wahrscheinlich anders war als in anderen Jahren.', 'Ich komme zu den Mitteilungen:', 'Leider muss ich Ihnen drei Todesfälle bekannt geben.', 'Am fünfter Januar zweitausendeinundzwanzig ist alt Kantonsrat Adrian Dummermuth-Reichmuth aus Goldau verstorben.', 'Er nahm zweitausendsieben bis zum Legislaturwechsel im Sommer zweitausendzwanzig als CVP-Vertreter aus der Gemeinde Arth im Kantonsrat Einsitz.', 'Von zweitausendzwölf bis zweitausendfünfzehn war er Fraktionspräsident der CVP und von zweitausendsechzehn bis zweitausendachtzehn amtete er als Präsident der Kommission für Bildung und Kultur.', 'Ebenfalls am fünfter Januar zweitausendeinundzwanzig ist alt Kantonsrat Jost Stössel aus Brunnen von uns gegangen.', 'Er sass von eintausendneunhundertzweiundsiebzig bis eintausendneunhundertachtzig als SP-Vertreter aus der Gemeinde Ingenbohl im Kantonsrat.', 'Am sechster Februar zweitausendeinundzwanzig verstarb alt Kantonsrat Bruno Germann aus Pfäffikon.', 'Er war von zweitausendsechs bis zweitausendacht als Vertreter der SP aus der Gemeinde Freienbach im Kantonsrat.', 'Ich bitte Sie, die lieben Verstorbenen in Ihr stilles Gebet einzuschliessen.', 'Vielen Dank.', 'Wir sind es uns beinahe gewohnt, hier drin zu tagen.', 'Erlauben Sie mir trotzdem, die wichtigsten Punkte unseres Sicherheitskonzepts noch einmal kurz erläutern.', 'Bitte halten Sie heute die Abstands- und die Hygienemassnahmen den ganzen Tag wiederum konsequent ein.', 'Wir haben alles darangesetzt, dass wir hier gute Rahmenbedingungen haben.', 'Gesprochen wird wie üblich vorne an einem der Rednerpulte.', 'Es empfiehlt sich auch, bereits nach vorne zu kommen, wenn der Vorredner oder die Vorrednerin noch am Sprechen ist.', 'Sie können vorne auf den Stühlen Platz nehmen.', 'Ich bitte Sie, für das Votum jeweils immer das vom Vorredner oder der Vorrednerin nicht benutzte Rednerpult zu verwenden, weil das andere Rednerpult jeweils nach dem vorgängigen Votum gereinigt wird.', 'Während des ganzen Tages herrscht auf dem Gelände des MythenForums eine generelle Maskenpflicht.', 'Lediglich am Rednerpult ist das Tragen der Maske fakultativ.', 'Im hintersten Bereich sind wiederum jene Kantonsratsmitglieder platziert, die mit einem Arztzeugnis von der Maskenpflicht befreit sind.', 'Wer sich ohne Arztzeugnis nicht an die Maskenpflicht hält, wird aus dem Saal gewiesen.', 'Für die übrigen Sicherheitsmassnahmen verweise ich Sie auf unser Schutzkonzept.', 'Wir kommen zur Festlegung des Sitzungsortes.', 'Wie Sie wissen, braucht es gemäss', 'Paragraph einundvierzig Absatz eins der Geschäftsordnung für eine Festlegung eines anderen Sitzungsortes eine Zwei-Drittels-Mehrheit der Stimmenden.', 'Wir stimmen darüber ab.', 'Es sind auch Medienvertreter anwesend.', 'Wir haben – wie schon fast üblich – den Livestream, dieses Mal von Bote und March Anzeiger gemeinsam organisiert und verbreitet.', 'Ebenfalls haben wir das Schweizer Fernsehen zu den Corona-Traktanden im Saal.', 'Ein Bericht darüber wird, soviel ich weiss, heute in Schweiz aktuell ausgestrahlt.', 'Wir kommen zum Geschäftsverzeichnis.', 'Gibt es Wortmeldungen zum Geschäftsverzeichnis?', 'Sehr geehrter Präsident, meine Damen und Herren.', 'Letzte Woche haben die bürgerlichen Parteien einen offenen Brief an die Regierung verfasst.', 'In diesem offenen Brief fordern wir die Regierung auf, sich gegenüber Bundesbern mit Nachdruck für eine Lockerung der Corona-Massnahmen einzusetzen.', 'Im Namen einer Mehrheit der CVP-Fraktion und im Namen der SVP-Fraktion haben dann Kantonsrat Marcel Föllmi und ich letzte Woche das Postulat P drei/einundzwanzig mit den genau gleichen Forderungen eingereicht.', 'Mit einer Dringlich- und Erheblicherklärung dieses Postulats hätten wir heute als Parlament die Möglichkeit gehabt, die Regierung auf diese Forderungen zu verpflichten oder entsprechende Handlungen einzufordern.', 'Glücklicherweise hat dieser Druck bereits genützt, hat doch die Regierung anfangs Woche ein Communiqué mit ihren Forderungen gegenüber dem Bundesrat quasi als Stellungnahme zur Konsultation der Kantone veröffentlicht.', 'In dieser Stellungnahme fordert die Regierung eine schnelle Öffnung der Gastronomiebetriebe, von Freizeit- und Sportanlagen und gewissen Veranstaltungen per erster März zweitausendeinundzwanzig.', 'Dies liegt ganz im Sinne unseres Postulats.', 'Natürlich sollen all diese Öffnungen unter Einbezug von Schutzkonzepten stattfinden.', 'Dafür danke ich der Regierung herzlich.', 'Respekt für die mutige und couragierte Kommunikation und danke für die schnelle Aufnahme unseres Anliegens.', 'Das ist wirklich toll, hier arbeitet man nämlich bei uns im Kanton mit den Leuten zusammen, es wird auf die Leute gehört, das schätzen wir wirklich sehr.', 'Nicht so, wie es nämlich die Landesregierung bisweilen tut.', 'Wir sehen es gerade heute.', 'Heute entscheidet der Bundesrat wieder.', 'Mit teilweise absolut bizarren und immer auch mit neuen Argumenten versucht er den Lockdown, in dem wir uns derzeit befinden, weiter zu verlängern.', 'Wir müssen schon sehen, die Auswirkungen dieses Lockdowns sind für die Wirtschaft aber auch für die Menschen in diesem Land absolut katastrophal – Leute vereinsamen.', 'Wenn man heute die Medien liest, leidet auch die Psyche der Menschen, häusliche Gewalt nimmt zu und Tausende Arbeits- und Ausbildungsplätze gehen verloren, Betriebe werden in den Ruin getrieben, unglaublich.', 'Jede Stunde steigt die Staatsverschuldung um weitere sechs Millionen Franken an.', 'Das ist verantwortungslos und völlig absurd, wenn man sieht, was diese Massnahmen wirklich bringen.', 'Langsam aber sicher müssen wir uns fragen, sind die Folgen der Behandlung nicht schwerer als es die Krankheit?', 'Auch heute werden wir voraussichtlich wieder eine Millionenhilfe sprechen, um die Auswirkungen dieses Lockdowns abzufedern, es wird wahrscheinlich auch nicht das letzte Mal sein.', 'Denken Sie daran, das ist wirklich unglaublich, was wir hier zukünftigen Generationen zumuten.', 'Nehmen Sie diese Verantwortung bitte wahr, wehren Sie sich gegen diese praktisch absolutistische Corona-Diktatur des Bundesrates.', 'Das dürfen wir nicht mehr akzeptieren, bitte wehren auch Sie sich.', 'Von Seiten der Postulanten verzichten wir auf den Antrag, das Postulat für dringlich zu erklären.', 'Wir unterstützen den Kurs der Regierung.', 'Was Sie auch noch mitnehmen sollten:', 'Reduzieren Sie die Massnahmen im Kanton Schwyz, die Einschränkungen, die im Moment über das Obligatorium hinausgehen.', 'reduzieren Sie diese auf ein Minimum.', 'Der Bildungsdirektor weiss, was ich meine.', 'Wir verzichten auf eine Dringlicherklärung des Postulats, wir werden dieses zurückziehen.', 'Danke vielmals.', 'Sehr geehrter Präsident, meine Damen und Herren.', 'Letzte Woche haben die bürgerlichen Parteien einen offenen Brief an die Regierung verfasst.', 'In diesem offenen Brief fordern wir die Regierung auf, sich gegenüber Bundesbern mit Nachdruck für eine Lockerung der Corona-Massnahmen einzusetzen.', 'Im Namen einer Mehrheit der CVP-Fraktion und im Namen der SVP-Fraktion haben dann Kantonsrat Marcel Föllmi und ich letzte Woche das Postulat P drei/einundzwanzig mit den genau gleichen Forderungen eingereicht.', 'Mit einer Dringlich- und Erheblicherklärung dieses Postulats hätten wir heute als Parlament die Möglichkeit gehabt, die Regierung auf diese Forderungen zu verpflichten oder entsprechende Handlungen einzufordern.', 'Glücklicherweise hat dieser Druck bereits genützt, hat doch die Regierung anfangs Woche ein Communiqué mit ihren Forderungen gegenüber dem Bundesrat quasi als Stellungnahme zur Konsultation der Kantone veröffentlicht.', 'In dieser Stellungnahme fordert die Regierung eine schnelle Öffnung der Gastronomiebetriebe, von Freizeit- und Sportanlagen und gewissen Veranstaltungen per erster März zweitausendeinundzwanzig.', 'Dies liegt ganz im Sinne unseres Postulats.', 'Natürlich sollen all diese Öffnungen unter Einbezug von Schutzkonzepten stattfinden.', 'Dafür danke ich der Regierung herzlich.', 'Respekt für die mutige und couragierte Kommunikation und danke für die schnelle Aufnahme unseres Anliegens.', 'Das ist wirklich toll, hier arbeitet man nämlich bei uns im Kanton mit den Leuten zusammen, es wird auf die Leute gehört, das schätzen wir wirklich sehr.', 'Nicht so, wie es nämlich die Landesregierung bisweilen tut.', 'Wir sehen es gerade heute.', 'Heute entscheidet der Bundesrat wieder.', 'Mit teilweise absolut bizarren und immer auch mit neuen Argumenten versucht er den Lockdown, in dem wir uns derzeit befinden, weiter zu verlängern.', 'Wir müssen schon sehen, die Auswirkungen dieses Lockdowns sind für die Wirtschaft aber auch für die Menschen in diesem Land absolut katastrophal – Leute vereinsamen.', 'Wenn man heute die Medien liest, leidet auch die Psyche der Menschen, häusliche Gewalt nimmt zu und Tausende Arbeits- und Ausbildungsplätze gehen verloren, Betriebe werden in den Ruin getrieben, unglaublich.', 'Jede Stunde steigt die Staatsverschuldung um weitere sechs Millionen Franken an.', 'Das ist verantwortungslos und völlig absurd, wenn man sieht, was diese Massnahmen wirklich bringen.', 'Langsam aber sicher müssen wir uns fragen, sind die Folgen der Behandlung nicht schwerer als es die Krankheit?', 'Auch heute werden wir voraussichtlich wieder eine Millionenhilfe sprechen, um die Auswirkungen dieses Lockdowns abzufedern, es wird wahrscheinlich auch nicht das letzte Mal sein.', 'Denken Sie daran, das ist wirklich unglaublich, was wir hier zukünftigen Generationen zumuten.', 'Nehmen Sie diese Verantwortung bitte wahr, wehren Sie sich gegen diese praktisch absolutistische Corona-Diktatur des Bundesrates.', 'Das dürfen wir nicht mehr akzeptieren, bitte wehren auch Sie sich.', 'Von Seiten der Postulanten verzichten wir auf den Antrag, das Postulat für dringlich zu erklären.', 'Wir unterstützen den Kurs der Regierung.', 'Was Sie auch noch mitnehmen sollten:', 'Reduzieren Sie die Massnahmen im Kanton Schwyz, die Einschränkungen, die im Moment über das Obligatorium hinausgehen.', 'reduzieren Sie diese auf ein Minimum.', 'Der Bildungsdirektor weiss, was ich meine.', 'Wir verzichten auf eine Dringlicherklärung des Postulats, wir werden dieses zurückziehen.', 'Danke vielmals.', 'Wir sind nach wie vor beim Geschäftsverzeichnis.', 'Für Corona-Diskussionen haben wir beim übernächsten Traktandum viel Zeit.', 'Wenn es noch weitere Voten zum Geschäftsverzeichnis gibt, dann bitte jetzt.', 'Herr Präsident, meine Damen und Herren.', 'Ich bin sehr verwirrt.', 'Wir sprechen über das Geschäftsverzeichnis und dann kommt ein solches Votum.', 'Wir haben keinen Antrag zum Geschäftsverzeichnis gehört.', 'Ich kann mir nicht vorstellen, weshalb jetzt dieses Votum unter diesem Traktandum hätte gehalten werden sollen.', 'Ich bin wirklich erneut wieder sehr, sehr enttäuscht.', 'Ich finde es gibt absolut keinen Platz hier drin, um von Diktatur zu sprechen.', 'Es ist eine Schande für den Kanton Schwyz, wenn wir hier drin solche Voten hören.', 'Das gehört sich nicht.', 'Wir leben in einer der besten Demokratien der Welt.', 'Was Sie jetzt abgeliefert haben, ist wirklich eine Schande für den Kanton Schwyz, das gehört sich nicht in diesem Saal, das gehört nicht in den Kantonsratssaal.', 'Ich bin von diesem Votum wirklich sehr enttäuscht, es hat keinen Platz hier drin.', 'Gerade in einer solch schwierigen Zeit muss das nicht sein.', 'Wir sind nach wie vor beim Geschäftsverzeichnis.', 'Ich habe jetzt fünf Sekunden gewartet.', 'Es gibt keine Voten mehr zum Geschäftsverzeichnis, damit gilt es als genehmigt.', 'Wir kommen zur Traktandum eins, Information zur aktuellen epidemiologischen Lage.', 'Es ist wichtig, dass wir als Kantonsrätinnen und Kantonsräte direkt aus erster Hand von der Regierung informiert werden.', 'Hierfür hat sich Frau Landammann bereits bereitgemacht.', 'Herr Präsident, meine Damen und Herren.', 'Coronavirus breitet sich in Europa aus.', 'In Italien ist die Zahl der Toten durch das Coronavirus auf sieben gestiegen.', 'Mehr als zweihundertzwanzig Menschen sind infiziert.', 'Die Regierung ergriff drastische Massnahmen gegen die Ausbreitung.', 'Das waren heute vor einem Jahr die Schlagzeilen.', 'Am fünfundzwanzigster Februar zweitausendzwanzig wurde offiziell der erste Corona-Fall in der Schweiz im Tessin registriert.', 'Die Corona-Pandemie beeinflusst unser Leben also seit einem Jahr – dies nicht nur im Gesundheitsbereich.', 'Eine Krise, die seit zwölf Monaten dauert, hinterlässt Spuren bei jedem Einzelnen aber auch in der Gesellschaft.', 'Die Corona-Pandemie beeinflusst unser Leben, unser Verhalten, unsere Gefühle, unser Klima, unseren Konsum und sogar unsere Sprache.', 'Kurz: Corona hat unser Leben verändert.', 'Masken werden so selbstverständlich getragen wie Socken, es gibt Ellbogengruss statt Umarmung, alte Hobbys werden aufgegeben und neue werden gefunden.', 'Ein häufiger Satz lautet: Du musst noch das Mikrophon einstellen.', 'Im Fernsehen sieht man auf einen Blick, welche Filme vor Corona gedreht wurden und bei den Bildern vom Oktoberfest ist man schon fast peinlich berührt.', 'Das Gesundheitswesen in der Schweiz ist im vergangen Jahr an seine Grenzen gelangt.', 'Die Wirtschaft muss mit Milliardenpaketen vom Staat gestützt werden.', 'Die Krise hat uns schonungslos Defizite in der Digitalisierung aufgezeigt und sogar der Föderalismus ist zeitweise hinterfragt worden.', 'Nach einem Jahr stehen wir jetzt an einem Wendepunkt.', 'Wir wissen nicht, neigt sich die Pandemie dem Ende entgegen oder kommt die dritte Welle?', 'Wir fordern Lockerungen, weil die Leute eine Perspektive brauchen – und dies nicht nur wirtschaftlich gesehen.', 'Wir beobachten die zunehmende Polarisierung mit Sorge.', 'Corona ist schwierig, braucht Geduld, ist frustrierend, schürt Ängste und verlangt Jung und Alt viel ab.', 'Aber all das ändert nichts daran:', 'Durch diese Krise kommen wir nur gemeinsam.', 'Stärker denn je braucht es ein Zusammenstehen, ein Rücksichtnehmen und ein Füreinandereinstehen.', 'Ich bedanke mich bei allen von ganzem Herzen, die genau dies vorleben, mittragen und mitgestalten.', 'Sie sind der Kitt unserer Gesellschaft.', 'Nun zu ein paar nüchternen Zahlen und Fakten:', 'Aktuell sind im Kanton Schwyz einhundertachtundsechzig Personen mit Corona infiziert, davon befinden sich einhunderteinundsechzig zuhause und sieben sind hospitalisiert.', 'neuntausendfünfhunderteins Personen wurden bis anhin insgesamt positiv auf COVID getestet.', 'zweihundertvierzehn Todesfälle haben rund um Corona beklagt werden müssen.', 'Seit einer Woche kam zum Glück kein weiterer Todesfall mehr dazu.', 'Der Altersdurchschnitt bei den Todesfällen liegt bei zweiundachtzig.sechs Jahren.', 'dreihundertsiebenundvierzig Personen befinden sich aktuell in Quarantäne.', 'Bei den Tests haben wir eine Positivitätsrate von vier.vier Prozent und die sieben-Tage-Inzidenz liegt bei sechzig.', 'Der Höchstwert am zweiter November zweitausendzwanzig betrug sechshundertelf.', 'Das Contact Tracing funktioniert, ebenfalls das Ausbruchsmanagement.', 'Das bedeutet, wenn zum Beispiel in einer Schulklasse ein Fall auftritt, dass die ganze Klasse durchgetestet wird.', 'Zum Impfen: Es wurden elf achthundertsechsundsiebzig Impfungen verabreicht, über siebentausend Termine sind vergeben und knapp achttausend Personen befinden sich auf der Warteliste.', 'Einschränkendes Element ist nach wie vor der verfügbare Impfstoff.', 'Das sind Zahlen, aber hinter jeder Zahl steht ein Mensch.', 'Es gibt Menschen, die Angehörige verloren haben, die selber erkrankt sind oder noch Wochen später unter den Folgen leiden.', 'Vergessen wir neben den gesellschaftlichen und wirtschaftlichen Aspekten diese Menschen nicht.', 'Zu den Zahlen im Bereich Volkswirtschaft wird Sie unter Traktandum zwei der Volkswirtschaftsdirektor informieren.', 'Jetzt eine Information, die mich sehr freut und uns auch wirklich Hoffnung gibt: Wir hatten vor Weihnachten am einundzwanzigster Dezember zweitausendzwanzig auf diverse Pflegeheime verteilt insgesamt neunundneunzig infizierte Bewohnerinnen und Bewohner.', 'Am dreiundzwanzigster Dezember zweitausendzwanzig haben wir in den Pflegeheimen zu impfen begonnen – nebenbei vier Tage nach der Zulassung des Impfstoffs.', 'Am zwölfter Februar zweitausendeinundzwanzig haben alle impfwilligen Bewohnerinnen und Bewohner der Alters- und Pflegeheime bereits die zweite Impfung erhalten.', 'Stand heute ist keine einzige Person mehr in einem Pflegeheim infiziert.', 'Vielleicht ist das statistisch nicht relevant und epidemiologisch nicht aussagekräftig, aber sehr erfreulich ist es trotzdem.', 'Es war ja immer unser Ansinnen, die gefährdeten Personen zu schützen und das Gesundheitswesen nicht zu überlasten.', 'Aufgrund dieser Entwicklung, aber auch aufgrund der gesellschaftlichen und wirtschaftlichen Aspekte hat sich der Regierungsrat bei der Konsultation zu den Öffnungsschritten dafür ausgesprochen, schneller und stärker zu öffnen.', 'Sie konnten es lesen, der Regierungsrat hat beantragt, die Gastronomiebetriebe – selbstverständlich unter Einhaltung der entsprechenden Schutzkonzepte – bereits ab erster März zweitausendeinundzwanzig zu öffnen.', 'Professionelle Veranstaltungen in den Bereichen Kultur, Freizeit und Sport, Sport und Kultur auch im Innenbereich, sollen unter Einhaltung der entsprechenden Schutzkonzepte ab erster März zweitausendeinundzwanzig möglich sein.', 'Dazu gehören auch religiöse Veranstaltungen.', 'Kapazitätsbeschränkungen bei Ladengeschäften und Dienstleistungsbetrieben sollen bei den heute geltenden zehn mzwei pro Kunde liegen und nicht auf fünfundzwanzig mzwei pro Kunde erhöht werden.', 'Der Regierungsrat des Kantons Schwyz hat ebenfalls angemerkt, dass weitere Schritte nicht erst nach einem Monat entschieden werden sollen, sondern in kürzeren Intervallen.', 'Das sind weitgehende Forderungen, welche die Exekutive des Kantons Schwyz an die Exekutive des Bundes gerichtet hat.', 'Wichtig zu diesen Massnahmen ist noch zu wissen, dass wir kantonal – ausser wenigen im Bereich Bildung – schon seit längerem keine weitergehenden kantonalen Massnahmen mehr haben.', 'Der Bundesrat wird heute Morgen entscheiden, welche Lockerungen ab erster März zweitausendeinundzwanzig definitiv gelten, wie das weitere Vorgehen aussieht und dies am Nachmittag kundtun.', 'Meine Damen und Herren, die nächsten Wochen werden entscheidend sein:', 'Die Auswirkungen der Lockerungen, die Entwicklung der Mutationen, die Geschwindigkeit beim Impfen, aber allem voran das Verhalten der Leute.', 'Helfen Sie durch Ihr Verhalten mit, dass der Weg der Lockerungen möglichst rasch beschritten werden kann.', 'Wir brauchen Ihre Unterstützung und ich bedanke mich bei allen ganz herzlich, die uns diese Unterstützung geben.', 'Tragen Sie Sorge zu sich und zu jenen Menschen in Ihrem Umfeld, die Ihnen wichtig sind.', 'Herzlichen Dank.', 'Dem Dank von Frau Landammann schliesse ich mich sehr gerne an.', 'Es ist mir aber auch ein Anliegen, der Frau Landammann und dem Regierungsrat im Namen des Kantonsrates für den grossen Einsatz für die Bewältigung dieser Pandemie zu danken.', 'Wenn ich mir noch eine persönliche Bemerkung erlauben darf, ich danke auch dafür, dass Sie gewissen Ideen in Bern die Stirn bieten.', 'Das ist ja etwas, das uns Schwyzern liegt.', 'Wir werden zuerst eine Eintretensdebatte über alle drei Themen halten.', 'Anschliessend werden wir die Detailberatung zu den einzelnen Punkten durchführen.', 'Das Wort ist frei für den Kommissionssprecher.', 'Geschätzter Herr Präsident, geschätzte Damen und Herren Regierungsräte, liebe Ratskolleginnen und -kollegen.', 'Angesichts des ausführlichen Votums von LA Petra Steimen-Rickenbacher möchte ich zur Situation, in der wir uns befinden, und weshalb die ganze Massnahme, über die wir jetzt diskutieren, notwendig sind, nicht weiter ausholen.', 'An der Session vom sechszehnter Dezember des letzten Jahres hat der Kantonsrat beschlossen, sich aufgrund der COVID-neunzehn-Pandemie an einem ersten vom Bund lancierten COVID-neunzehn-Pandemie Härtefall-Unterstützungspaket mit einem Bundesvolumen von insgesamt eins Mrd. Franken in einem kantonal maximal möglichen Umfang zu beteiligen und damit der Schwyzer Wirtschaft zu helfen.', 'Mit Ausgaben von vier.neunhundertsechsundsiebzig Millionen Franken zulasten der Kantonskasse konnten wir damals ein erstes Hilfspaket für die Schwyzer Wirtschaft im Umfang von fünfzehn.fünfundfünfzig Millionen Franken schnüren.', 'Bereits am achtzehnter Dezember zweitausendzwanzig, also nur zwei Tage später, hat der Bundesrat aufgrund des sich abzeichnenden grösseren Bedarfs ein weiteres Unterstützungspaket im schweizweiten Umfang von siebenhundertfünfzig Millionen Franken aufgesetzt.', 'Dabei wurden die Anwendungskriterien leicht gelockert, mindestens auf Stufe Bund.', 'Neu ist nicht nur ein Umsatzrückgang von vierzigProzent im Jahr zweitausendzwanzig ausschlaggebend, sondern auch eine behördliche Schliessung von mindestens vierzig Tagen im Zeitraum vom erster November zweitausendzwanzig bis dreissigster Juni zweitausendeinundzwanzig.', 'Das sind also die gelockerten Bundeskriterien zur Ausschüttung von solchen Härtefallentschädigungen.', 'Über die Beteiligung an diesem neuen Härtefallunterstützungspaket zweitausendeinundzwanzig haben wir heute zu entscheiden.', 'Falls sich der Kanton Schwyz auch an diesem Programm beteiligt, kann er mit einem Mitteleinsatz von drei.achthunderteinundsechzig Millionen Franken zulasten des Kantonssäckels insgesamt zehn.fünfhundertvierundsiebzig Millionen Franken für die notleidenden Betriebe auslösen.', 'Zusammen mit dem Programm des letzten Jahres betragen die für die Betriebe zur Verfügung stehenden Mittel insgesamt siebenundzwanzig.fünfundzwanzig Millionen Franken.', 'Die Staatswirtschaftskommission hat sich an einer virtuell stattfindenden Sitzung vom siebenundzwanzigster Januar zweitausendeinundzwanzig darüber informieren können, dass die zusätzlichen Mittel auch im Kanton Schwyz dringend benötigt werden.', 'Im Amt für Wirtschaft geht man aufgrund von Rückmeldungen davon aus, dass die bei einer Annahme des heute zur Debatte stehenden Pakets zur Verfügung stehenden Mittel nicht einmal die Hälfte des erwarteten Hilfsvolumens abdecken.', 'Wir sind also noch nicht am Ende, wie bereits ein Vorredner bemerkt hat.', 'Es ist kaum anzunehmen, dass der Kanton Schwyz im Vergleich mit anderen Kantonen besonders exponiert ist, besonders schlecht dasteht.', 'Es ist vielmehr davon auszugehen, dass weitere Hilfsprogramme folgen dürften.', 'In der STAWIKO war die Beteiligung an diesem zweiten Unterstützungspaket deshalb unbestritten.', 'Ebenso unbestritten war, dass die Härtefallgelder in Form von à fonds perdu Beiträgen eingesetzt werden.', 'In der aktuellen Situation helfen rückzahlbare Kredite nichts.', 'Es wurde aber in der STAWIKO sehr wohl darüber diskutiert, wie man eine möglichst faire, bedürfnisgerechte Verteilung der Mittel sicherstellen kann, ohne in eine zu tiefe, letztendlich nicht zielführende Granularität der anwendbaren Regeln abzurutschen.', 'Die Festlegung der Kriterien – der Kanton hat hier, wie Sie sicher wissen, die Bundesregeln noch etwas verfeinert – sowie die Auszahlungsmodalitäten sind sicher diskussionswürdig, aber nicht Bestandteil des heutigen Entscheids.', 'Der Regierungsrat ist in der Verantwortung für eine faire Verteilung dieser Mittel und der Regierungsrat hält sich dabei an Paragraph fünf Absatz eins des Gesetzes über die Wirtschaftsförderung.', 'Aufgrund des enormen, letztlich aber nicht klar definierten Bedarfs hat die Kommission immerhin volles Verständnis dafür, dass man vorläufig nur fünfzigProzent der berechneten Entschädigungssumme ausbezahlt, damit der Punkt nicht zu früh erreicht wird, dass keine Mittel mehr vorhanden sind und man die gesuchstellenden Betriebe auf später vertrösten müsste.', 'Das wäre wirklich gar nicht gut.', 'Wir hoffen also, dass mit diesem Prozedere mindestens fünfzig Prozent der vorgesehenen Unterstützung sofort gewährt werden kann und die Betriebe auf diese Weise über die Runden kommen.', 'Damit komme ich zum einstimmig angenommenen Antrag der Staatswirtschaftskommission.', 'Der Voranschlagskredit der Erfolgsrechnung zweitausendeinundzwanzig des Amtes für Wirtschaft ist um drei.achthunderteinundsechzig Millionen Franken zu erhöhen und dem Regierungsrat der Auftrag zu erteilen, diese Mittel für die kantonalen Massnahmen zur COVID-neunzehn-Härtefallregelung einzusetzen.', 'Zu den zwei in diesem Traktandum enthaltenen Vorstössen zu pandemiebedingten Mietzinsentlastungen, Motion M sechzehn/zwanzig: «Geschäftsmieten während Corona-Lockdown: Dreidrittels-Kompromiss» sowie Postulat P zwei/einundzwanzig: «Mieter und Eigentümer von Gewerberäumen entlasten», hat die STAWIKO keinen formellen Entscheid fällen wollen.', 'Über diese Vorstösse soll der Kantonsrat frei von einer STAWIKO-Empfehlung diskutieren und entscheiden können.', 'Da, wie vorhin dargelegt, davon auszugehen ist, dass weitere Unterstützungspakete des Bundes geschnürt werden müssen, hat die STAWIKO dem Regierungsrat zur Ermöglichung einer möglichst schnellen Reaktion ans Herz gelegt, unabhängig von den Sitzungsterminen der STAWIKO oder des Kantonsrates einen Rahmenkredit für weitere Unterstützungspakete zu erarbeiten, die dann natürlich von der STAWIKO vorzuberaten und vom Kantonsrat zu verabschieden wären.', 'Ich komme zum Schluss, ich glaube, ich spreche hier im Namen der ganzen Kommission, wenn ich ein paar Worte des Dankes formuliere.', 'Ich bin zwar nicht persönlich an der Front betroffen.', 'Ich bin in der glücklichen Lage, in einem Konzern angestellt zu sein, der nicht sehr betroffen ist.', 'Wenn ich aber die Nachrichten auf den verschiedenen Kanälen studiere, stelle ich fest, dass der Kanton Schwyz bezüglich der Härtefallunterstützung wirklich sehr gut unterwegs ist, früh Gelder ausbezahlen kann, früh die entsprechenden Gesetze erlassen hat.', 'Auch die Umsetzung erfolgt zügig.', 'Natürlich liegt es in der Natur der Sache, dass nicht alle zufrieden sind.', 'Erstens, dass lediglich fünfzig Prozent ausbezahlt werden, und zweitens, dass die Kriterien im einen und anderen Fall halt nicht erfüllt sind, um in den Genuss einer Härtefallentschädigung zu kommen.', 'Auch auf Seiten an der Impffront ist der Kanton Schwyz sehr gut positioniert.', 'Ich möchte dafür im Namen der Staatswirtschafskommission dem Regierungsrat und den involvierten Stellen recht herzlich danken.', 'Herr Kantonsratspräsident, geschätzte Kantonsratskolleginnen und -kollegen.', 'Die Massnahmen von Bund und Kantone für die Bekämpfung des Coronavirus treffen die Schweizer Wirtschaft hart.', 'Unser Gewerbe leidet.', 'In RRB Nr. sechsundsechzig/zweitausendeinundzwanzig sind die finanziellen Eckdaten für die öffentliche Hand – Stand Mitte Januar – sehr gut zusammengefasst: einhundertdreißig Millionen Franken Kurzarbeitsentschädigung, zweiunddreißig Millionen Franken Corona-Erwerbsausfall-Entschädigung, dreihundertachtundfünfzig Millionen Franken COVIDKredite, eins Millionen Franken zusätzlich für Kultur und Sport aus dem Lotteriefonds, Startup-Bürgschaften von rund sechs Millionen Franken, dann das Härtefallpaket, das der Kantonsrat im Dezember im Kanton Schwyz für vier.neunhundertsechsundsiebzig Millionen Franken geschnürt hat und jetzt also noch einmal drei.achthunderteinundsechzig Millionen Franken für das nächste Hilfspaket.', 'auch das wird noch nicht reichen.', 'Der Bund macht jeden Tag aufgrund der Pandemie einhundertvierundvierzig Millionen Franken neue Schulden.', 'Meine Damen und Herren, so kann es definitiv nicht mehr weitergehen.', 'Ich nehme das Virus sehr ernst, aber wir müssen uns damit abfinden, dass das Virus wahrscheinlich noch längere Zeit in unserer Gesellschaft nachgewiesen werden wird und wir müssen lernen, mit dem Virus zu leben.', 'Wir müssen die Risikopersonen schützen und nicht die Gesunden einsperren.', 'Wir können uns diese Massnahmen wirtschaftlich nicht mehr leisten und wir können uns diese Massnahmen aber vor allem auch sozial nicht mehr leisten.', 'Wenn ich sehe, dass sechzig-jährige Arbeiter am Mittag irgendwo am Boden sitzen und ein Sandwich essen, ältere Leute, die zuhause vereinsamen, eine junge Generation, die eingesperrt ist.', 'Sie können sich nicht mehr treffen, sie können nicht mehr in den Ausgang, sie können nicht einmal mehr ins Fitness gehen, um Sport zu machen.', 'Der Drogenkonsum nimmt zu und die KJPD sind zu überlastet, weil immer mehr Jugendliche psychische Probleme haben.', 'Insofern danke ich unserem Regierungsrat, dass er unser Anliegen aufgenommen hat und dass er sich in Bern für eine rasche Öffnung einsetzt.', 'Ich finde generell, unser Regierungsrat im Kanton Schwyz macht einen guten Job.', 'Meine Kritik geht deshalb auch nicht an unsere Regierung, sondern vor allem an das BAG mit seinen über sechshundert teuer bezahlten Mitarbeitern, mit Epidemiologen und Virologen, wie diese alle heissen, und an Bundesrat Alain Berset, der als Chef die Verantwortung für diesen Laden trägt.', 'Wir hatten zuerst ein Maskendebakel, jetzt hapert es mit dem Impfstoff.', 'Die Zahlen werden irgendwie per Fax übermittelt und die Statistiken stimmen nicht.', 'Der R-Wert ist mehrmals nachweislich falsch berechnet worden und jetzt wird auch noch die Positivitätsrate verfälscht.', 'Aufgrund von solchen Daten werden nachher politisch weitreichende Entscheide gefällt.', 'So geht es nicht.', 'Ich bin überzeugt, dies muss nach der Krise schonungslos aufgearbeitet werden.', 'Wir müssen jetzt unter Einhaltung der Schutzmassnahmen die Wirtschaft sofort öffnen und zwar auch das Gastgewerbe und die Eventbranche.', 'Zurück zu der Ausgabenbewilligung:', 'Für die SVP-Fraktion ist ganz klar, wir dürfen unser Gewerbe jetzt nicht hängen lassen.', 'Wir sagen immer:', 'Wer zahlt befiehlt.', 'Es gilt eben auch:', 'Wer befiehlt, zahlt.', 'Wenn der Bund ganzen Branchen von heute auf morgen verbietet, die Geschäfte zu öffnen und Umsatz zu machen, dann müssen sich der Bund und auch die Kantone an den Kosten beteiligen.', 'Mit diesen drei.achthunderteinundsechzig Millionen Franken des Kantons können sieben.achthundertneununddreißig Millionen Franken an Bundesgeldern ausgelöst werden.', 'Die braucht es jetzt.', 'Wie gesagt, auch dies wird noch nicht ausreichen.', 'Die SVP-Fraktion unterstützt die Ausgabenbewilligung grossmehrheitlich.', 'Die neue Härtefallunterstützung leistet einen wichtigen Beitrag an die Fixkosten der betroffenen Betriebe, also somit auch an die Mietkosten bzw. an die Hypothekar- und Unterhaltskosten.', 'Insofern sind die Hauptanliegen des Postulats P zwei/einundzwanzig unserer Meinung nach eigentlich erfüllt.', 'Bei der Motion M sechzehn/zwanzig kommt hinzu, dass diese rund sechzig Prozent der Unternehmen unberücksichtigt lässt, weil sie nur auf die Miete zielt bzw. die Geschäfte in einer eigenen Liegenschaft betrieben werden.', 'Die SVP-Fraktion ist deshalb der Meinung, dass es keine zusätzlichen kantonalen Programme zu diesem Härtefall-Unterstützungspaket braucht.', 'Sie wird die beiden Vorstösse einstimmig nicht erheblich erklären.', 'Besten Dank.', 'Sehr geehrter Präsident, geschätzte Damen und Herren.', 'Wie sind die Auswirkungen der COVID-Krise auf die Unternehmen?', 'Meine Präsidentenkollegen aus der Zentralschweiz des Gewerbeverbandes Luzern und der Wirtschaft Uri haben dazu eine repräsentative Umfrage gemacht, die sicher auch für den Kanton Schwyz ihre Gültigkeit hat.', 'Circa ein Viertel der Unternehmen profitieren von der Krise.', 'Für etwa ein Viertel hat die Krise mehr oder weniger keinen Einfluss.', 'Der Rest, also etwa die Hälfte, sind mehr oder weniger stark betroffen.', 'Rund zwanzig Prozent bezeichnet sich sogar von dieser Krise als sehr stark betroffen.', 'Die Umfrage stammt vom Ende des letzten Jahres.', 'Seit dem neuen Lockdown dieses Jahres hat sich die Betroffenheit spürbar und stark ausgeweitet.', 'Die wirtschaftlichen Schäden sind massiv.', 'Es wäre eine Illusion, wenn man meint, man könne all diese Schäden decken.', 'Für die am stärksten betroffenen Firmen liegt jetzt das zweite Härtefallpaket vor uns.', 'Der Regierungsrat beantragt eine Ausgabenbewilligung von drei.sechsundachtzig Millionen Franken, wodurch der Maximalbetrag der vom Bund für den Kanton Schwyz reservierten Hilfsgelder ausgelöst werden kann.', 'Der Bundesrat hat aber mit dem zweiten Paket nicht nur zusätzliches Geld versprochen, er hat auch die Abläufe vereinfacht.', 'So gelten Firmen, die behördlich geschlossen wurden, automatisch als Härtefall.', 'Auch Firmen, die in den letzten Monaten Umsatzeinbussen von mehr als vierzig Prozent erleidet haben, gelten als Härtefälle.', 'Das Ziel muss jetzt also sein, schnell, einfach, unbürokratisch und vor allem fair die Härtefallgelder auszubezahlen und die dringend notwendige Unterstützung zu leisten.', 'Es darf nicht zu Wettbewerbsverzerrungen kommen.', 'Überschlagsmässig rechnen wir mit eintausend bis eintausenddreihundert Gesuchen, was auch bedeutet, das ein drittes Paket, wie vom Bundesrat bereits angekündigt, notwendig sein wird.', 'Ich stelle aber mit Freude fest, dass es im Kanton Schwyz funktioniert.', 'Bereits konnten dreihundertfünfzig Gesuche abgewickelt und Teilauszahlungen im Umfang von elf Millionen Franken ausbezahlt werden.', 'Gestern habe ich ein E-Mail von einem kleinen KMU erhalten.', 'Ein paar Tage nach der Zusage lag das Geld bereits auf seinem Konto.', 'Er schreibt, ich zitiere:', 'Es ist mir ein Anliegen, für die sehr speditive Arbeit und die Umsetzung der Massnahmen der kantonalen Verwaltung zu danken.', 'Ich gebe diesen Dank sehr gerne weiter.', 'Der Kanton Schwyz ist nicht nur im Vergleich mit den meisten anderen Kantonen zügig unterwegs, er sieht auch eine grosszügige Lösung für die Härtefälle vor.', 'So handelt es sich bei diesen Auszahlungen um reine à fonds perdu Beiträge, die nicht retour bezahlt werden müssen.', 'Massgebend für die Unterstützungsbeiträge sind dabei die tatsächlichen Fixkosten wie Mieten, ich betone es noch einmal, Mieten, Versicherungsprämien, Bewirtschaftungskosten usw., was mich zu den beiden Vorstössen über die Geschäftsmietenregelung bringt.', 'Gerade deshalb, da bei der Fixkostenentschädigung die Mietkosten bereits eingerechnet sind, und gerade deshalb, da der Bundesrat alle behördlich geschlossenen Betriebe als Härtefalle deklariert hat, sind weitere Beiträge an die Mietkosten, wie es die beiden Vorstösse zusätzlich verlangen, unnötig.', 'Die FDP begrüsst einstimmig diese Ausgabenbewilligung und wird die beiden Vorstösse einstimmig nicht erheblich erklären.', 'Danke.', 'Geschätzter Ratspräsident, geschätzte Ratskollegen und Ratskolleginnen.', 'Für die SP-Fraktion ist die Ausgabenbewilligung und der Nachtragskredit für die COVID-Härtefallregelung absolut unbestritten.', 'Die Belastungen in dieser Pandemie sind gross und vielseitig.', 'Viele Menschen sind gesundheitlich betroffen durch Ängste oder den Virus, andere finanziell aufgrund von Kündigungen oder Betriebsschliessungen.', 'Unsere politische Aufgabe ist es, in dieser absolut extremen Ausnahmesituation zusammenzustehen und allen Betroffenen zu helfen.', 'Für die SP-Fraktion macht unser Kanton zu wenig.', 'Er folgt den Unterstützungsmassnahmen des Bundes zögerlich und hat leider auch sehr lange eine aktive und transparente Informationspolitik vermissen lassen.', 'Ansonsten scheint es, als wollte der Regierungsrat den jahrelangen Sparkurs auch in der Krise fortsetzen.', 'Für uns ist sinnbildlich ist, dass er die beiden Vorstösse zu den Geschäftsmieten plakativ kritisiert und ohne fundierte Entscheidungsgrundlagen versenken will.', 'Für uns ist klar, dass ein DreiDrittels-Kompromiss das Potenzial hat, Privatinitiativen zu fördern und die finanziellen Folgen der Pandemie zusätzlich zu dämpfen.', 'Die Massnahmen, die zur Abfederung der wirtschaftlichen Folgen zu beschliessen sind, verhindern hoffentlich das Schlimmste.', 'Wir hätten uns weiterführende Hilfen gewünscht und vor allem hätten wir uns kantonale Hilfen für die am härtesten von der Krise Betroffenen gewünscht.', 'Wenn Sie sich jetzt fragen, wer sind denn die am härtesten von der Pandemie Betroffenen, dann empfehle ich Ihnen, den in dieser Woche publizierten Report der ETH und der Uni Lausanne zu lesen.', 'Die Studie heisst', 'Corona und Ungleichheit in der Schweiz.', 'Sie untersucht, wie die COVID-neunzehn-Pandemie auf die Einkommensverteilung in der Schweiz gewirkt hat.', 'Ich zitiere aus der Zusammenfassung:', 'Generell zeigt sich, dass die Pandemie bestehende Ungleichheiten verschärft.', 'Haushalte am unteren Ende der Einkommensverteilung sind in den meisten Dimensionen teils deutlich stärker von der Krise betroffen als reichere Haushalte.', 'Die SP-Fraktion wird die Ausgabenbewilligung annehmen und für die Erheblicherklärung der Vorstösse stimmen.', 'Geschätzter Präsident, geschätzte Kollegen.', 'Wie gehört, wir haben heute bereits das zweite Hilfspaket vor uns, das dritte ist schon unterwegs und ich befürchte, wie die meisten Vorredner auch, dass das nicht das letzte sein wird.', 'Dabei geht es um Summen, die wir uns vor zwölf Monaten noch gar nicht vorstellen konnten.', 'Bei allem Verständnis für die schwierige Situation, in der sich viele Betriebe befinden, müssen wir darauf achten, dass das viele Geld nicht nur so schnell wie möglich, sondern auch so fair wie möglich und so sinnvoll wie möglich an die Betroffenen überwiesen wird.', 'Seit dem letzten Härtefallpaket sind die Voraussetzungen, wer als Härtefall anerkannt wird, noch einmal gelockert worden, wir haben es gehört: Zwölf-Monate-Regel, wer vierzigProzent und länger im Lockdown war, usw.', 'Es gibt nun viel mehr Firmen, die jetzt die Möglichkeit haben, von diesem Härtefallprogramm zu profitieren.', 'Alle Firmen, die sich als Härtefall qualifizieren, können davon ausgehen, dass ein grosser Teil ihrer Fixkosten – nicht nur bei der Miete – für mindestens vier bis sechs Monate gedeckt ist, falls wir Kantonsräte heute den Kredit wirklich sprechen.', 'Ich glaube, das steht wirklich ausser Diskussion, wie wir gehört haben.', 'Parallel noch eine Mietzinsentschädigung zu planen, wäre viel komplizierter und würde vermutlich zu mehr Ungerechtigkeiten führen.', 'Es erwartet auch niemand, dass er zwei Mal entschädigt wird.', 'Sicher gibt es auch Firmen, die durch die Masche fallen.', 'Seien es Startups oder Firmen, die aus anderen Gründen wegen Corona sogar vom Konkurs bedroht sind, aber halt nicht im Lockdown waren.', 'Hier helfen die beiden Vorstösse für eine Mietzinsreduktion auch nicht weiter.', 'Allenfalls muss der Bund oder der Kanton bei jenen Firmen, die nicht direkt im Lockdown waren, jedoch dessen Folgeschäden ihre Existenz gefährden, nachbessern.', 'Es sind ja auch noch Vorstösse in diese Richtung hängig.', 'Aber machen wir uns nichts vor, die Pandemie wird noch manches Opfer fordern, ob gesundheitlich oder wirtschaftlich.', 'Auch der Staat stösst an seine Grenzen.', 'Die CVP wird die Unterstützungspakete einstimmig annehmen und die Motion M sechzehn/zwanzig und das Postulat P zwei/einundzwanzig einstimmig nicht erheblich erklären.', 'Danke.', 'Werter Herr Präsident, geschätzte Damen und Herren Regierungs- und Kantonsräte.', 'Die Grünliberalen unterstützen auch die zweite Tranche mit drei.achthunderteinundsechzig Millionen Franken für die Härtefall-Wirtschaftsunterstützung.', 'Zusammen mit der ersten Tranche und der Verdopplung durch den Bund werden so Schwyzer Unternehmen rund siebenundzwanzig Millionen Franken für nicht gedeckte Fixkosten zur Verfügung gestellt.', 'Das bannt zwar nicht die Pandemie, aber immerhin hilft es dem einen oder anderen Unternehmen, über die Runden zu kommen.', 'In Bern scheint man sich zurzeit sogar über die dritte und vierte Tranche Gedanken zu machen, mit welchen dann der Kanton Schwyz in die schwindelerregende Höhe von sechzig bis achtzig Millionen Franken für die Härtefallunterstützung käme.', 'Wenn es natürlich noch lange so weitergeht, dann werden wir auch dorthin gelangen, wenn wir nicht schon dort sind.', 'Umso mehr sollten wir jetzt wirklich beginnen, langfristig und in radikalen Alternativen zu denken, sei das für diese oder die nächste Krise.', 'Persönlich störe ich mich schon länger daran, dass man sich permanent und konstant weigert, darüber nachzudenken, ob man nicht zumindest von denen, die nur einfach dasitzen dürfen, die nur zum Abwarten verdammt sind, sinnvolle und innovative Gegenleistungen für die quasi Passivstellungsbeiträge erhalten könnte.', 'Ein Pilot kann nicht nur fliegen, jemand, der serviert, kann auch in einem Notspital gute Dienstleistungen erbringen.', 'In einem Hotel kann man auch während der Rehabilitation übernachten usw.', 'Klar alles schwierig, aber bekanntermassen macht Not sehr erfinderisch.', 'Zurück zum aktuellen Unterstützungspaket.', 'Der GLP ist es wichtig, dass die Hilfe nun schnell und à fonds perdu eintrifft, um zu verhindern, dass zu späte Hilfe oder Langzeitverschuldung trotzdem viele nachher in den Konkurs treibt.', 'So wie es aussieht, ist da der Kanton aber recht gut aufgestellt.', 'Auch wir möchten hier dem Regierungsrat ein Kränzchen winden.', 'Wir hoffen auf eine übersichtliche, rollende Information über das, was ausbezahlt wurde.', 'Als kritisch und wohl nicht ganz in der Hand des Kantons liegend erachten wir die Hilfsbezugsbedingungen mit fixen Grenzwerten.', 'Es ist krass, wenn man sich anstrengt, mehr als sechzig Prozent Umsatz erzielt und nachher zum Dank nicht unterstützt wird.', 'Es wäre gut, auch hier im Kanton nachzudenken, was man mit solchen sogenannten Grenzhärtefällen tun und wie man diese unterstützen könnte.', 'Ich komme noch auf die zwei Vorstösse zu sprechen:', 'Die gehörten Argumente gegen diese Vorstösse sind mehrheitlich meist zutreffend, aber sind nur für die aktuelle Welle und die aktuelle Härtefallregelung gültig.', 'Bis eine Gesetzesänderung rechtskräftig würde, sind wir allenfalls schon Ende der dritten oder möglicherweise bereits in der vierten Welle.', 'Wie dannzumal die Härtefallregelung aussehen wird, und wer diese bezahlen kann und will, ist offen.', 'Wir lernen ja aktuell schmerzlich, dass eine solche Pandemie, vor der notabene Fachleute schon seit vielen Jahren gewarnt und die Erarbeitung von Strategien verlangt haben, nicht einfach verschwindet.', 'Es muss auch erwartet werden, dass neue, allenfalls noch gefährlichere Pandemien folgen.', 'Man darf also auch hier getrost nachdenken und clever vorsorgen, statt schnell zu schiessen und dies noch daneben.', 'Der Vorschlag, dass der Staat einen Drittel der Geschäftsmieten übernimmt, wenn der Vermieter freiwillig auf einen Drittel verzichtet, ist vom Prinzip her sehr zu begrüssen.', 'Er beruht auf Anreiz und schafft zwischen Vermieter und Mieter eine interessante Verhandlungsbasis.', 'Er baut auch für künftige Krisenzeiten auf Opfersymmetrie und Solidarität statt auf reine Staatskassenabhängigkeit.', 'Die GLP begrüsst respektive fordert vermehrt, auf solche staatssäckelentlastende Anreize und auf liberale Freiwilligkeit bauende Mechanismen zu setzen.', 'Die Umsetzung in einem Gesetz braucht jedoch Zeit und Überlegung, wie diese mit anderen Massnahmen abzugleichen ist und wie es dann zum Beispiel bei der Pacht oder Miete von eigenen Räumlichkeiten usw. zu einer gerechten Lösung kommt.', 'Dafür sind Postulate der richtige Weg.', 'Wir fordern daher oder stellen den Antrag, dass die Motion M sechzehn/zwanzig in ein Postulat umgewandelt wird, um es dann anschliessend erheblich zu erklären.', 'Zusammengefasst, Eintreten', 'Ja, Ja zur Ausgabenbewilligung, Ja zu den Vorstössen, aber nur als Postulate.', 'Besten Dank.', 'Das Wort ist frei für weitere Wortmeldungen zum Eintreten.', 'Zu den einzelnen Geschäften haben Sie nachher natürlich noch die Möglichkeit, sich zu äussern.', 'Gibt es zum Eintreten noch Wortmeldungen?', 'Herr Präsident, geschätzte Damen und Herren.', 'Ich spreche wahrscheinlich wieder einmal, wie wir gehört haben, für eine Minderheit im Rat, aber definitiv für eine Mehrheit der nachfolgenden Generationen, davon bin ich überzeugt.', 'Vor nur gerade zwei Monaten haben Sie gegen meine Empfehlung schon einmal Gelder gesprochen, als gäbe es kein Morgen.', 'Wie schon damals absehbar war, tun wir das heute wieder, um erneut eine Verteilung von Millionen kantonaler Steuergelder vorzunehmen.', 'Es wird nicht das letzte Mal sein, wie wir gehört haben.', 'Erfreulicherweise spricht sich mittlerweile nicht nur die SVP, sondern auch die Schwyzer Regierung deutlich gegen eine Verlängerung von allen unsinnigen und perfiden Corona-Massnahmen aus.', 'Auch ein Grossteil des Parlaments, das habe ich wohlwollend zur Kenntnis genommen, ist zusammen mit dem Schwyzer Volk gegen Zwangsschliessungen von Gaststätten und Geschäften.', 'Meine Kritik an dieser Stelle ist ganz einfach:', 'Der Bundesrat hat all dies verbrochen, er hat die Zwangsschliessungen gegen den Willen der Schweizer angeordnet und er wird auch heute Nachmittag daran festhalten, also soll auch der Bund bezahlen und zwar zu einhundert Prozent.', 'Jetzt wird es problematisch für uns alle hier drin.', 'Wer den Nachkredit und die Verteilung von kantonalen Geldern unterstützt, macht sich zum Gehilfen des Bundesrates, der faktenfrei und mit willkürlich angelegten Massnahmen Tausende von gesunden und arbeitswilligen Schweizern vom normalen Arbeiten abhält.', 'Ich habe schon Mühe:', 'Das Parlament müsste doch eine Würde haben.', 'Es ist doch keine Vollzugsanstalt.', 'Den Raub von diesen Milliarden der nachfolgenden Generation hat der Bundesrat zu verantworten.', 'Entsprechend weigere ich mich, als Insasse einer solchen Vollzugsanstalt betrachtet zu werden.', 'Setzen Sie also ein Zeichen, verweigern auch Sie diesen bücklerischen Nachvollzug und schicken Sie die Vorlage zurück an den Absender.', 'Das Geld, das wir für die Härtefallmassnahmen in unserem Kanton brauchen, kann unser Säckelmeister direkt vom NFA abziehen.', 'Wahrscheinlich merken sie es in Bern ja sowieso nicht, wenn momentan ein paar Millionen fehlen.', 'Besten Dank.', 'Gibt es noch weitere Wortmeldungen zum Eintreten?', 'Das Wort ist frei.', 'Herr Präsident, geschätzte Regierungsräte, geschätzte Kolleginnen und Kollegen.', 'Ich wollte zum Eintreten eigentlich nichts sagen, aber ich habe den Eindruck, es wurde etwas überladen.', 'Wir haben zu Beginn', 'Kantonsrat Samuel Lütolf von Küssnacht gehört, fünfundneunzig Prozent seines Referats waren okay, etwa fünf Prozent kamen schräg daher, nämlich die Aussagen betreffend Corona-Diktatur.', 'Soeben haben wir gehört, wir seien nur eine Vollzugsanstalt oder die Kantone seien nur Vollzugsanstalten.', 'Wir seien Gehilfen des Bundesrates und es seien unsinnige, perfide Corona-Massnahmen getroffen worden.', 'Es', 'muss klargestellt sein, dass solche Voten, dass solche Voten schräg sind.', 'Aus meiner Sicht entsprechen sie einem Grossteil des Parlaments überhaupt nicht.', 'Als Exekutive dieses Landes hat der Bundesrat einen verfassungsmässigen Auftrag und ganz klar auch einen Auftrag aufgrund des Epidemiengesetzes.', 'In schlechten Zeiten, in Krisenzeiten hat der Bundesrat zu intervenieren und zwar sofort.', 'Da werden die entsprechenden persönlichen Rechte ausgesetzt und auch die Rechte der Parlamente sind in diesem Sinne im Moment nicht gefragt, das kommt später.', 'Das Bundesparlament hat sich mittlerweile auch dazu geäussert und äussern können, da ist der Weg ja vorgezeichnet.', 'Der Bundesrat hat die Führungsaufgabe, der Bundesrat hat die Aufgabe, Massnahmen zu treffen.', 'Auch die Kantone hatten diesen Auftrag und zwar primär die Exekutiven der Kantone.', 'Wir sind als Parlament auch irgendwann gefordert, aber in Notzeiten, wenn schnell zu handeln ist, sind die parlamentarischen, die demokratischen Abläufe schlichtweg nicht mehr möglich und in diesem Sinne halt auch ausgesetzt.', 'Jetzt von unsinnigen und perfiden Corona-Massnahmen zu sprechen, von Corona-Diktatur zu sprechen, ist falsch und schräg.', 'Das geht deutlich zu weit.', 'Unsere Exekutivorgane haben nach bestem Wissen und Gewissen entschieden.', 'Sie haben natürlich auch Fehler gemacht und sie werden wieder Fehler machen, das liegt in der Natur der Sache.', 'Aber diese so herabzukanzeln, ist ganz schräg und daneben.', 'Ich verwahre mich auch hier in diesem Parlament gegen solche Äusserungen.', 'Wir sind nicht einfach Vollzugsgehilfen des Bundesrates.', 'Die Abläufe sind in unserer vorgegeben, sind festgelegt und werden auch entsprechend umgesetzt.', 'Wir haben gehört, in unseren Kanton läuft die Umsetzung in dieser Härtefallmassnahmenzeit gut.', 'Mit anderen Worten, der Antrag oder das Votum von Kantonsrat', 'Oliver Flühler ist wirklich nicht in Ordnung.', 'Ich muss hier unsere Regierung stützen.', 'Ich muss auch zum Bundesrat sagen, auch wenn nicht immer alles gut war, auch wenn Fehler passiert sind, hat er es in etwa im Griff.', 'Sie können sich in anderen Ländern umschauen, was dort geschehen ist, wie diese um sich geschlagen haben, wie diese vorgegangen sind, sind wir mit unserem Bundesrat gut beraten.', 'Auch mit unserer Regierung, auch wenn nicht immer alles gut und super gegangen ist, sind wir gut beraten, wir sind gut gefahren.', 'Wir müssen das grobe Ganze sehen, wie es vonstattenging.', 'Wenn man überall Haare in der Suppe sucht, kann man das tun, aber es wird der Sache nicht gerecht.', 'Danke.', 'Gibt es noch weitere Wortmeldungen zum Eintreten?', 'Das scheint nicht der Fall zu sein.', 'Das Eintreten ist bestritten.', 'Ich werde also über das Eintreten abstimmen lassen.', 'Herr Kantonsratspräsident, geschätzte Frau Landammann, geschätzte Damen und Herren Kantonsräte.', 'Vorweg ganz herzlichen Dank für die vielen positiven Rückmeldungen', '.', 'Ich werde die Blumensträusse selbstverständlich jenen Leuten in der kantonalen Verwaltung weitergeben, die es betrifft – im Volkswirtschaftsdepartement aber selbstverständlich auch im Departement des Innern und im Bildungsdepartement.', 'Diese Leute arbeiten wirklich hart, damit es uns wieder gut geht und die Pandemie so schnell wie möglich überwunden werden kann.', 'Zum Härtefallprogramm: Die Härtefallprogramme des Bundes und des Kantons haben zum Ziel, das möchte ich noch einmal in Erinnerung rufen, den von der Corona-Pandemie besonders betroffenen Unternehmen rasch und unbürokratisch finanziell zu helfen.', 'Ich glaube, das wurde von Ihrer Seite auch erkannt.', 'Um an dem vom Bundesrat am achtzehnter Dezember zweitausendzwanzig zusätzlich gesprochenen siebenhundertfünfzig Millionen Franken-Paket partizipieren zu können, unterbreitet Ihnen heute der Regierungsrat das sogenannte Unterstützungspaket zweitausendeinundzwanzig zugunsten der Schwyzer Wirtschaft im Umfang von etwas über drei.acht Millionen Franken.', 'Damit lösen wir Bundesmittel von sieben.achthundertneununddreißig Millionen Franken aus.', 'Gesamthaft ergibt das dann elf.sieben Millionen Franken.', 'Das konnten Sie den Unterlagen entnehmen.', 'Sie haben am sechszehnter Dezember zweitausendzwanzig bereits ein Paket von insgesamt fünfzehn.fünfundfünfzig Millionen Franken beschlossen.', 'Das heisst, wenn heute das Parlament dem zweiten Paket zustimmen wird, würden im Kanton Schwyz siebenundzwanzig Millionen Franken für nicht rückzahlbare Härtefallbeiträge zugunsten von stark betroffenen Schwyzer Unternehmen zur Verfügung stehen.', 'Der Regierungsrat des Kantons Schwyz unterstützt, das haben Sie auch gesehen und auch wahrgenommen, die von der Pandemie besonders hart betroffenen Schwyzer Unternehmen wirkungsvoll.', 'Unsere Unterstützungsbeiträge orientieren sich primär an den tatsächlichen Fixkosten, am Jahresumsatz, berücksichtigt werden zudem die unterschiedliche Betroffenheit und die Schliessungsdauer der einzelnen Unternehmen.', 'Dabei orientieren wir uns an der Praxis unserer Unternehmen und nicht an irgendwelchen Studien von weiss Gott woher.', 'Der Regierungsrat hat deshalb bereits Mitte Januar zweitausendeinundzwanzig beschlossen, die Unterstützungsbeiträge auf den tatsächlichen Fixkosten der Unternehmen basierend festzusetzen.', 'Es sind namentlich die Fixkosten wie beispielsweise Mietzinsen, Versicherungsprämien, Bewirtschaftungskosten, Werbeausgaben usw., die ein Unternehmen kurzfristig kaum senken kann.', 'Die Obergrenze der Härtefallunterstützungen wurde in der Übersicht publiziert.', 'Auch finden Sie diese sowie weitere allgemeine Informationen zum Härtefallprogramm auf der Homepage des Kantons Schwyz, aber auch medial, wo diese Informationen immer wieder kommuniziert wurden.', 'Es gibt die drei Kategorien:', 'Unternehmen mit einem Umsatzrückgang von mehr als vierzig Prozent, Unternehmen, die behördlich ab dem zweiundzwanzigster Dezember zweitausendzwanzig schliessen mussten und Unternehmen, die behördlich ab dem achtzehnter Januar zweitausendeinundzwanzig schliessen mussten.', 'Den Maximalbeitrag haben wir festgelegt auf Franken fünfhundert', 'null.--', '.', 'Die Unterstützungsbeiträge sollen je nach Betroffenheit der Unternehmen die während fünf bzw. sieben Monaten anfallenden Fixkosten abdecken.', 'Wir helfen ausschliesslich, ausschliesslich mit nicht rückzahlbaren Beiträgen und verzichten im Gegensatz zu anderen Kantonen dabei auf zinslose Darlehen, Bürgschaften oder Garantien.', 'Einzelfallbezogen nutzen wir selbstverständlich auch den Spielraum bei der Prüfung der eingereichten Gesuche.', 'Es kann sein, dass ein errechneter Beitrag sich in einem offensichtlichen Missverhältnis zu den ungedeckten Fixkosten eines Unternehmens befindet.', 'Dann können wir diese auch entsprechend anpassen.', 'Es wurde auch erwähnt, mit der ersten Teilzahlung werden fünfzig Prozent des festgesetzten Unterstützungsbeitrags an die Unternehmen ausgerichtet:', 'Gleichzeitig sollen die zur Verfügung stehenden Mittel fair aufgeteilt werden, um sämtliche Unternehmen unterstützen zu können, die jetzt dringend unsere Hilfe brauchen.', 'Zu erwähnen ist auch, dass bei vielen betroffenen Unternehmen die Personalkosten durch die Kurzarbeitsentschädigung oder durch die Corona-Erwerbsersatzentschädigung seit März zweitausendzwanzig gedeckt werden.', 'Lassen Sie mich in diesem Zusammenhang doch noch einige – ich betone – tagesaktuelle Zahlen erwähnen.', 'Im Kanton Schwyz hatten wir rund dreitausendzweihundert Betriebe, die Kurzarbeitsentschädigungen bei der öffentlichen Arbeitslosenkasse abgerechneten.', 'Bis heute sind rund einhundertfünfundvierzig Millionen Franken ausbezahlt worden.', 'Wir können davon ausgehen, dass rund dreißig null Angestellte davon profitieren, das ist rund ein Drittel unser Arbeitnehmer im Kanton.', 'Aktuell beziehen noch rund eintausend Betriebe Kurzarbeitsentschädigung, das ist circa ein Drittel gegenüber anfangs Jahr bei der ersten Welle zweitausendzwanzig.', 'Ich komme zu einigen Zahlen bei den Härtefällen.', 'Sie wissen, dass am neunzehnter Januar zweitausendeinundzwanzig das Eingangstor, das Onlineportal aufging, worüber Anträge eingereicht werden konnten.', 'Bis heute Morgen wurden fünfhundertachtundachtzig Anträge eingereicht.', 'Zurzeit befinden sich einhunderteinundvierzig in Arbeit.', 'Wir schätzen, dass daraus ein Volumen von rund zehn Millionen Franken resultieren wird.', 'Wir mussten aber auch vierundzwanzig Anträge ablehnen.', 'Es wurden bis heute Morgen vierhundertdreiundzwanzig Anträge bewilligt.', 'Zum Volumen dieser bewilligten Anträge', ':', 'Das Gesamtvolumen beträgt fünfundzwanzig Millionen Franken.', 'Es wurde erwähnt, wir haben fünfzig Prozent des bewilligten Beitrags ausbezahlt.', 'Das heisst, bis Ende diese Woche werden zwölf.fünf Millionen Franken im Rahmen einer ersten Teilzahlung überwiesen.', 'Das Parlament hat im Dezember zweitausendzwanzig fünfzehn Millionen Franken gesprochen.', 'Sie sehen also, zwölf von diesen fünfzehn Millionen Franken sind bereits freigegeben und werden ausbezahlt.', 'Deshalb ist es wichtig, dass wir heute Ihre Zustimmung für die nächsten Auszahlungen erhalten, die dann noch geleistet werden müssen.', 'Eine Grössenangabe: Der grösste Betrag, den wir für ein Unternehmen bewilligt haben, beläuft sich auf Franken fünfhundert', 'null.--, der kleinste auf Franken', 'fünftausendsiebenhundertsiebzig.--.', 'Das heisst, durchschnittlich bekommen die Unternehmen Franken sechzig null.--.', 'Das ist eine reine Durchschnittszahl.', 'Wie ist die Aufteilung nach Branchen?', 'Gastro- und Fitnessbetriebe, die seit Dezember zweitausendzwanzig geschlossen bleiben mussten, stellten rund sechzig Prozent der Gesuche.', 'Der Detailhandel, der seit Januar zweitausendeinundzwanzig geschlossen bleibt, macht im Moment zehn Prozent aus, die anderen Branchen, das sind Eventbetriebe, Reisebüros, Hotels, Skilifte usw., ergeben zusammen die restlichen dreißig Prozent.', 'Wir schaffen es, das durfte ich auch positiv entgegennehmen, wir schaffen es in der Regel, falls die Anträge vollständig und korrekt eingereicht werden, diese innerhalb von zwei Wochen zweistufig zu prüfen und anschliessend den bewilligten Betrag auszubezahlen.', 'Leider stellen wir auch fest, dass bei rund fünfzig Prozent der Anträge zusätzliche Informationen eingeholt, zusätzliche Unterlagen eingefordert werden müssen.', 'Dies verzögert dann natürlich auch die Frist.', 'Deshalb kann es ab und zu sein, dass einer sagt, es dauere zu lange.', 'Rund zehn Prozent der Anträge bedürfen einer vertieften Abklärung, weil es sich nicht um achthundertfünfzehn Betriebe handelt.', 'Aber auch dort, glaube ich, werden die betreffenden Gesuch innert vernünftiger Frist bearbeitet.', 'Vergleichen können wir den Kanton Schwyz in Bezug auf Härtefälle nicht mit anderen Kantonen.', 'Weshalb nicht?', 'Es gibt ein paar unterschiedliche Punkte.', 'Wir bezahlen, wie gesagt, nur à fonds perdu Beiträge aus.', 'Berücksichtigt werden sechzig Prozent oder vierzig Prozent der Fixkosten.', 'Andere Kantone berücksichtigen diese leider nicht.', 'Unsere Fixkostenberechnung ist auch grosszügig, indem wir zum Beispiel Marketingkosten usw. auch anrechnen.', 'Vielleicht noch eine Prognose bei der Frage der Konkurse:', 'Wir stellen zurzeit keine erkennbaren Merkmale fest, dass irgendwelche Betriebe oder Branchen extrem gefordert wären und allenfalls mit Konkurse gerechnet werden müsste.', 'Welches sind die gefährdeten Branchen?', 'Klarerweise sind das die Eventbranche, Reisebranche, Schausteller, Zulieferanten, zum Beispiel der Aviatik- und Autoindustrie.', 'Hier beurteilen wir die Lage laufend.', 'Soweit ein Blick in die Werkstatt, was bei uns derzeit abläuft.', 'Ich komme noch zur Behandlung der beiden Vorstösse.', 'Ich danke auch hier für die positive Aufnahme der Argumente, die der Regierungsrat Ihnen auch ausführlich im RRB dargelegt hat.', 'Der Regierungsrat beantragt Ihnen aufgrund der vorhin gegebenen Erläuterungen bezüglich der Fixkosten, die Vorstösse abzulehnen.', 'Die Anliegen der Motionäre oder der Postulanten wurden sehr wohl in die Umsetzung des Härtefallprogramms aufgenommen.', 'Danke, wenn Sie die beiden Vorstösse ablehnen.', 'Noch einen Blick in die Zukunft: Der Bundesrat hat ein viertes Härtefallpaket in der Grössenordnung von zehn Mrd. Franken in die Konsultation gegeben.', 'Es ist angedacht, dass drei Mrd. Franken für Unternehmen von über fünf Millionen Franken, eins Mrd. Franken Bundesratsreserven und sechs Mrd Franken für Unternehmen unter fünf Millionen Franken verwendet werden könnten.', 'Der Verteilschlüssel Bund-Kantone ist noch offen.', 'Man geht davon aus, dass die Bandbreite zwischen null Prozent und dreißig Prozent liegen könnte.', 'Wir sind optimistisch, dass sehr wahrscheinlich eine zwanzig Prozent-Lösung umgesetzt wird.', 'Aber das ist im Moment eine reine Spekulation.', 'Es würde heissen: eins.zwei Mrd. Franken für die Kantone.', 'Da sprechen wir von einem nächsten Programm in der Grössenordnung zwischen fünfzehn und zwanzig Millionen Franken, welche der Kanton noch einmal zuschiessen müsste.', 'Aber wie gesagt, dieses Paket wird der Bundesrat jetzt ausarbeiten und dem Bundeparlament vorlegen.', 'Das Bundesparlament wird das Geschäft in der Frühlingssession behandeln.', 'Wir gehen davon aus, dass dieses Paket am letzten Freitag der dritten Sessionswoche, das ist am neunzehnter März zweitausendeinundzwanzig, beschlossen wird.', 'Dann haben wir über die Grösse, den Umfang und den Kostenverteiler des vierten Pakets Klarheit.', 'Deshalb, geschätzte Damen und Herren, werde ich vermutlich nicht das letzte Mal mit einem solchen Paket vor Ihnen stehen.', 'Die Ausgangslage ist klar und bekannt.', 'Deshalb beantragt Ihnen der Regierungsrat, die Ausgabenbewilligung anzunehmen und die Motion M sechzehn/zwanzig sowie das Postulat P zwei/einundzwanzig nicht erheblich zu erklären.', 'Danke vielmals.', 'Geschätzter Regierungsrat, vielen Dank für die ausführlichen und interessanten Informationen.', 'Mein Dank geht auch an die Mitarbeitenden des Departementes für die schnelle und unbürokratische Arbeit und Abwicklung.', 'Entschuldigung, dass ich die Wortmeldung vor der Abstimmung über das Eintreten übersehen habe.', 'Wahrscheinlich wollte ich gleich schnell sein wie Ihre Mitarbeitenden.', 'Wir kommen jetzt definitiv zur Detailberatung der Ausgabenbewilligung.', 'Ich bitte den Staatsschreiber, den Beschluss vorzulesen.', 'Kantonsratsbeschluss über eine Ausgabenbewilligung und die Genehmigung eines Nachtragskredits für kantonale Massnahmen zur Covid-neunzehn-Härtefallregelung', 'Der Kantonsrat des Kantons Schwyz, gestützt auf Paragraph achtzehn Absatz eins und achtundzwanzig Absatz eins Bst.', 'a des Gesetzes über den kantonalen Finanzhaushalt vom zwanzigster November zwanzigtausendeinhunderteinunddreißig und Paragraph drei Absatz eins Bst.', 'f des Gesetzes über die Wirtschaftsförderung vom siebenundzwanzigster November neunzehntausendachthundertzweiundsechzig, beschliesst:', 'Dem Regierungsrat wird für kantonale Massnahmen zur Covid-neunzehn-Härtefallregelung eine Ausgabenbewilligung von Franken drei achthunderteinundsechzig null.-- eingeräumt.', 'Der Voranschlagskredit zweitausendeinundzwanzig der Erfolgsrechnung des Amtes für Wirtschaft von Franken drei dreihundertachtunddreißig vierhundert.-wird um Franken drei achthunderteinundsechzig null.-- auf Franken sieben einhundertneunundneunzig vierhundert.-- erhöht.', 'Der Regierungsrat stellt die Verwendung gemäss', 'Paragraph fünf Absatz eins Bst.', 'c des Gesetzes über die Wirtschaftsförderung vom siebenundzwanzigster November eintausendneunhundertsechsundachtzig sicher Gibt es hierzu Wortmeldungen?', 'Herr Präsident, geschätzte Kolleginnen und Kollegen, geschätzte Frau und Herren Regierungsräte.', 'Etwa vor einem Jahr ist Bundesrat Alain Berset vor die Medien getreten und hat gesagt: Wir müssen einschränken, aber wir werden entschädigen.', 'Damals hat er, mit Verlaub, noch keine Ahnung haben können, was entschädigen heisst, welche Schäden und welche Löcher verursacht werden.', 'Das Ganze war seinerzeit völlig unabsehbar.', 'Heute wissen wir deutlich mehr über die Schäden, über die finanziellen Löcher, die entstanden sind, aber es ist immer noch lange nicht alles bekannt und wir wissen noch nicht, wann es ein Ende findet.', 'Wir haben von diversen Entschädigungspaketen gehört und solche auch in diesem Rat behandelt, mit denen verschiedene Branchen, leidende Unternehmen mit Krediten und à fonds perdu Beiträgen etc. unterstützt werden.', 'Heute beschliessen wir auch über à fonds perdu Beiträge.', 'Das Amt für Wirtschaft schätzt alleine für die Vergabe dieser Härtefallentschädigungen einen Aufwand von sechzig bis achtzig Millionen Franken in diesem Kanton.', 'Wenn wir heute Ja sagen, sind zusammen mit den Bundesgeldern siebenundzwanzig Millionen Franken gesprochen.', 'Wir sind noch lange nicht fertig, wenn wir sämtliche Härtefälle in diesem Kanton wirklich mit einhundert Prozent der vorgesehenen Entschädigungen abgelten wollen.', 'Wir sind am Anfang, wir sind noch lange nicht fertig.', 'Es wurde vorhin angesprochen, ein weiteres Paket ist angesagt.', 'Wir sprechen hier von Härtefällen.', 'Sie wissen, die sogenannten Härtefälle müssen gewisse Kriterien erfüllen, diese sind nicht tief.', 'Da gibt es viele Unternehmen, die die Härtefallkriterien nicht erreichen, knapp darunterliegen, die Kriterien nicht erfüllen.', 'Diese gehen leer aus.', 'Diese gehen im Bereich der Härtefallentschädigungen leer aus.', 'Sie wissen, Sie haben es vorhin auch gehört, es ist auch richtig, es gibt Branchen, diese haben von der Corona-Krise nicht so stark betroffen, diese sind nicht behelligt, einige haben sogar profitiert.', 'Aber es gibt einen schönen Teil, der uneingeschränkt darunter leidet, der komplett finanziell geschädigt wird, und es gibt eben ein Teil, der die Härtefallkriterien nicht erreicht.', 'Dann gibt es auch Private, die im untersten Einkommenssegment zu kurz kommen, das haben wir heute Morgen auch gehört.', 'Deshalb wäre es angesagt, dass sich der Kanton überlegen würde, das Amt für Wirtschaft oder auch andere Ämter, für diese Leute, welche diese Härtefallkriterien nicht erfüllen, aber auch schlecht dastehen, einen grossen Schaden mitzutragen haben, etwas bereitzustellen, denn der Allgemeinheit wurde befohlen, verboten, untersagt, direkt und indirekt.', 'Wenn wir die Akzeptanz in der Gesellschaft für solche Massnahmen behalten wollen, müssen wir auch an jene denken, die jetzt nicht nur Härtefälle sind.', 'Wir müssen auch an jene denken.', 'Wenn die Akzeptanz weiterhin halten soll – sie ist am Wanken, wie Sie alle spüren und merken –, müssen wir da nachbessern.', 'Ich fordere deshalb die Regierung auf, sich Überlegungen zu machen, ob man nicht ein separates Gefäss für jene Fälle bereitstellen, rüsten will, welche die Härtefallkriterien nicht erreichen.', 'Wenn es der Bundesrat oder der Bund nicht tut, müsste es der Kanton in die Finger nehmen.', 'Das sind wir den Betroffenen schuldig.', 'Einige sind wirklich mehr betroffen als andere.', 'Wer befiehlt soll zahlen.', 'Wenn wir nur die Härtefälle bezahlen, wird diese Grundsatz schlecht umgesetzt bzw. verletzt.', 'Deshalb ersuche ich hier die Regierung, sich über solche Fälle Gedanken zu machen und ein separates Gefäss zu rüsten.', 'Ich danke.', 'Herr Präsident, geschätzte Damen und Herren.', 'Das Geld im Parlament zu sprechen, ist die eine, das Geld zu verteilen, ist die andere Seite.', 'Zum Geld verteilen habe ich zwei Anliegen:', 'Das erste Anliegen richtet sich an die vorberatende Kommission, das zweite Anliegen an den Regierungsrat.', 'Ich sage dies vor allem auch im Hinblick darauf, dass, wie gesagt wurde, weitere Pakete folgen werden.', 'Mein erstes Anliegen betrifft die Kriterien der Geldverteilung.', 'Es wurde heute mehrfach erwähnt, der Kanton Schwyz sei besonders grosszügig und ginge weiter als andere Kantone.', 'Das stimmt meines Erachtens in Bezug auf die Form, wie die Gelder gesprochen werden, nämlich, dass sie nicht rückzahlbar sind, dass es à fonds perdu Beiträge sind.', 'Aber bei den Voraussetzungen, damit die Gelder auch ausbezahlt werden, hat der Kanton Schwyz, hat der Regierungsrat in der Allgemeinverfügung, die er erlassen hat, die Kriterien gegenüber dem Bund verschärft.', 'Konkret hört man im Alltag immer:', 'Wenn die Umsatzeinbusse mehr als vierzig Prozent beträgt, hat man grundsätzlich Härtefallgelder zugute.', 'Der Regierungsrat hat als zusätzliches Kriterium eingeführt, dass auch kein Reingewinn im Jahr zweitausendzwanzig erzielt worden sein darf.', 'Wer Franken eins.-- Reingewinn erzielt hat, fällt raus.', 'Dann gibt es natürlich Unternehmen, die eine Reserve realisiert haben, die Material verkauft haben, damit sie zu Liquidität kommen, die dann zum Reingewinn gerechnet wird, was bedeutet, man bekommt nichts.', 'Ob das richtig oder falsch ist, dazu möchte ich heute gar nichts sagen.', 'Die Mittel sind knapp, muss man sich überlegen, wie die Kriterien festgelegt werden.', 'Ich meine aber, man muss die Kriterien auch im Zusammenhang mit dem Kredit diskutieren.', 'Es genügt nicht, wenn man sagt, heute geht es nur um den Kredit, die Kriterien soll der Regierungsrat festlegen.', 'Es gibt eine Wechselwirkung.', 'Je nachdem, wie eng oder wie weit man die Kriterien fasst, ergibt sich ein unterschiedlicher Mittelbedarf.', 'Mein Anliegen an die STAWIKO lautet, bei den weiteren Paketen auch wirklich die Kriterien anzuschauen und zu beurteilen, sind diese Kriterien richtig, wie gross ist die Zahl derer, welche diese Kriterien nicht erfüllen, und welches sind die hinter diesen Kriterien stehenden Überlegungen.', 'Bis anhin habe ich überhaupt nicht wahrgenommen, dass diese Diskussion geführt worden wäre.', 'Ich habe auch mit Kantonsräten gesprochen.', 'Keiner hat gesagt, dass dies wirklich diskutiert wurde.', 'Die meisten waren sogar die Auffassung, es gelten einfach jene Voraussetzungen, die der Bund formuliert hat, um die Beiträge zu sprechen.', 'Nein, der Regierungsrat hat in der Allgemeinverfügung weitere Kriterien festgelegt.', 'Dies wäre mein Wunsch an die STAWIKO, die Kriterien wirklich auch anzuschauen.', 'Das kann man nicht im Parlament tun, das muss in der vorberatenden Kommission geschehen.', 'Mein zweites Anliegen richtet sich an die Regierung.', 'Das Stichwort lautet Gleichbehandlung oder Fairness, wie von Kantonsrat Paul Schnüriger thematisiert.', 'Die Mittel sind knapp, das wissen wir.', 'Umso wichtiger ist es aus meiner Sicht, dass die knappen Mittel fair verteilt werden.', 'Nach meiner Meinung ist dies aufgrund der Allgemeinverfügung, die der Regierungsrat am vierter Februar zweitausendeinundzwanzig erlassen hat, nicht der Fall.', 'Konkret meine ich das Kriterium des Reingewinns.', 'In der ersten Allgemeinverfügung galt dieses Kriterium generell.', 'Wer im Jahr zweitausendzwanzig einen Reingewinn erzielte, hat nichts zugute.', 'Da kann man sagen, das ist richtig oder falsch, aber es war für alle gleich.', 'Mit der zweiten Verfügung hat der Regierungsrat begonnen zu differenzieren.', 'Er hat gesagt, jene Branchen, die von einer Betriebsschliessung betroffen sind, haben die Gelder auch zugute, wenn sie im Jahr zweitausendzwanzig einen Reingewinn erzielt haben, aber die anderen Branchen, die von einer Schliessung nicht betroffen sind, haben die Gelder nur zugute, wenn sie im Jahr zweitausendzwanzig keinen Reingewinn erzielt haben.', 'Ich sehe schlichtweg kein sachliches Argument für diese Differenzierung.', 'Für mich sind die Gelder dazu da, die coronabedingten wirtschaftlichen Nachteile auszugleichen.', 'Hierbei kann für mich das Kriterium, ob jetzt ein Betrieb schliessen musste oder nicht, keine Rolle spielen, sondern entscheidend ist, wie die coronabedingte wirtschaftliche Folge davon im Portemonnaie aussieht.', 'Ein Beispiel: Ein Restaurant, das im Jahr zweitausendzwanzig ein Reingewinn von Franken zwanzig null.-- erzielte, hat nach der neuen Allgemeinverfügung die Härtefallgelder grundsätzlich zugute.', 'Der Getränkelieferant, der nicht schliessen musste, aber nirgendwohin Getränke liefern konnte, weil er praktisch keine Abnehmer mehr hatte, und auch Franken zwanzig null.-- Reingewinn im Jahr zweitausendzwanzig erzielt hat, bekommt gemäss der geltenden Allgemeinverfügung nichts.', 'Der in der Eventbranche tätige Zeltbauer, der keine Zelte mehr liefern kann, weil keine Feste mehr stattfinden, im Jahr zweitausendzwanzig aber einen Reingewinn erzielt hat, hat keine Gelder zugute.', 'Deshalb bitte ich den Regierungsrat, das ist mein zweites Anliegen, noch einmal zu überdenken, ob diese Differenzierung wirklich sachgerecht ist.', 'Aus meiner Sicht ist es nicht.', 'Danke.', 'Herr Präsident, meine Damen und Herren.', 'Ich möchte Kantonsrat', 'Doktor Bruno Beeler für sein Votum wegen des Schliessens von Lücken danken.', 'Ich möchte die Regierung darauf aufmerksam machen, dass wir ja bereits einen überparteilichen Vorstoss eingereicht haben, worin dies gefordert wird.', 'Ich wäre sehr dankbar – ich denke, ich spreche da auch im Namen meiner Mitpostulanten –, wenn wir den Vorstoss Postulat P eins/einundzwanzig «Lücken im Covid-neunzehn-Auffangnetz schliessen» möglichst bald behandeln könnten.', 'Ich denke, es gibt seitens verschiedener Parteien wirklich Diskussionsbedarf.', 'Wir wären sehr froh, wenn wir bald darüber diskutieren könnten.', 'Vielen Dank.', 'Geschätzte Regierung, geschätzte Kantonsrätinnen und Kantonsräte.', 'Ja, dieses Unterstützungspaket braucht es, denn unsere Wirtschaft leidet.', 'Wer hat das zu verantworten?', 'Unsere SP-Bundesräte sind für die Verarmung unserer Bürger verantwortlich.', 'Das Geld, das jetzt verteilt wird, ist Diebstahl, Diebstahl an den jungen Menschen.', 'Das hat unsere Landesregierung zu verantworten.', 'Die junge Generation darf nicht mehr singen, darf nicht mehr tanzen, als ob sie für all die toten Leute verantwortlich wäre, die wohlverstanden im Durchschnitt über achtzig Jahre gelebt haben.', 'Wir haben über eine halbe Million Arbeitslose.', 'Nein, bald eine halbe Million Leute, die nicht mehr arbeiten dürfen, siebenhundertfünfzig null Leute, die unter der Armutsgrenze leben.', 'Wir haben bald dreihundert null Arbeitslose.', 'Das tut einem Herz weh, das Verantwortung hat.', 'Wir haben eine christlich-abendländische uralte Tradition.', 'Unser Wohlstand basiert auf dieser gelebten Tradition.', 'Ich frage mich, wie viele Leute findet man noch, die daran festhalten.', 'Jetzt zerstört man unseren Wohlstand und zwar rasend schnell.', 'Das ist Raubrittertum an unserer Freiheit.', 'Das Leichentuch hat man über unsere Demokratie gespannt.', 'Wir eilen rasend schnell in ein Kastensystem, ohne dass wir es merken.', 'Die einen haben es vielleicht gemerkt.', 'Zur Motion und zum Postulat: Diese sind abzulehnen.', 'Ich habe geschlossen.', 'Danke.', 'Ich bitte Sie, daran zu denken, Ihren Namen zu erwähnen.', 'Das macht es unseren Protokollschreibenden etwas einfacher.', 'Das Wort ist frei.', 'Geschätzter Herr Kantonsratspräsident, geschätzte Damen und Herren Kantonsräte.', 'Ich ziehe die Maske gleich ab.', 'Ich habe sie nur getragen, damit alle lesen können, was darauf steht.', 'Es ist eine Protestmaske und darauf steht:', 'Schützt vor Buse, nicht vor Viren – das steht übrigens auch auf jeder Packung dieser Masken.', 'Ja, ich hätte nicht gedacht, geschätzte Kolleginnen und Kollegen, dass ich von einem eigentlichen Corona-Skeptiker zu einem Massnahmengegner, wie jetzt anscheinend die Mehrheit dieses Kantonsrates und auch unsere Regierung, werde.', 'Ich bin froh darüber.', 'Was habe ich in dieser Zeit nicht alles anhören müssen:', 'Leugner, Verharmloser etc., all das wurde mir vorgeworfen.', 'Deshalb habe ich heute auch keine Mühe, klar Stellung zu nehmen und all diese Massnahmen, diese finanz- und ordnungspolitischen Sündenfälle abzulehnen.', 'Die Akzeptanz in der Bevölkerung ist gekippt, geschätzte Kolleginnen und Kollegen, das wurde angesprochen.', 'Jetzt versucht man einfach, alles mit Geld zu überdecken.', 'Das ist keine Lösung.', 'Es wurde von Frau Landammann gesagt, das Verhalten hat sich in dieser Pandemie grundlegend verändert.', 'Die Masken seien anscheinend eine Selbstverständlichkeit geworden, statt Umarmungen, herzliche Begrüssungen, nur noch «Ellbögeln» oder sonstige komische Verhaltensweisen.', 'Ich habe das jedenfalls nie befolgt.', 'Ich habe das Glück, dass ich ein persönliches Umfeld habe, das mich in dieser Zeit immer gestärkt hat.', 'Dafür bin ich dankbar.', 'Ich weiss, dass das nicht selbstverständlich ist, habe ich doch vor allem von älteren Pärchen viele Anrufe erhalten, die mir erzählt haben, dass ihre Kinder sie nicht mehr besuchen, dass sie sogar leiden.', 'Das tut weh.', 'Es ist eben nicht alles mit Geld abzugelten, geschätzte Kolleginnen und Kollegen.', 'Dieser Graben und die Spaltung in unserer Gesellschaft werden sich noch länger auswirken.', 'Ich hatte auch das Glück, das ist vielleicht das Positive an dieser ganzen Corona-Pandemie, dass ich viele Gleichgesinnte in dieser Zeit gefunden habe, viele gute Menschen, liebe Menschen, die sich für die Freiheit, für die Eigenverantwortung und für unsere verfassungsmässigen Grundsätze eingesetzt haben.', 'Der Vergleich mit anderen Ländern, der hier drin angesprochen wurden, hinkt insofern.', 'Wir sind immer noch eine direkte Demokratie, bei uns hat das Volk das Sagen, so mindestens verstehe ich unser Bundesverfassung, die nach wie vor gilt.', 'Für mich sind die getroffenen Massnahmen in diesem Sinne willkürlich, haben diktatorische Züge und wurden vor allem willfährig hingenommen.', 'Der bis vor kurzem blinde Gehorsam des Regierungsrates, verschiedener Parlamente, Parteien, Gewerbe- und Wirtschaftsverbände hat mich mehr als irritiert.', 'Ich bin sehr dankbar für die Voten meiner Fraktionskollegen, Kantonsrat Samuel Lütolf und Kantonsrat Oliver Flühler, die das ganz gut auf den Punkt gebracht haben.', 'Es wurde am eigenen Volk ein eigentliches Verbrechen begangen.', 'Es ist klar, die aus der Pandemie resultierenden Todesfälle sind tragisch, aber geschätzte Kolleginnen und Kollegen, das wurde ebenfalls erwähnt, es gab in dieser Zeit auch psychischen Druck, Existenzangst oder Vereinsamung.', 'Wer übernimmt hier die Verantwortung?', 'Es ist auch so, dass mehr als die Hälfte der Todesfälle im Kanton Schwyz in Pflege- und Altersheimeinrichtungen zu verzeichnen ware.', 'Ja, der Tod gehört zum Leben, so schmerzhaft das ist.', 'Ich danke in diesem Sinn nicht den Regierungen, Verwaltungen, dem BAG oder ganz zuletzt der Task Force.', 'Mein Dank gilt der Bevölkerung, die unter diesen Massnahmen gelitten hat.', 'Abschliessend: Bitte lassen Sie nicht zu, dass der Impfzwang zu einem Zwang wird, dann hätten wir wirklich eine Zweiklassengesellschaft.', 'Besten Dank.', 'Herr Präsident, meine Damen und Herren.', 'Als ich mich bei der Fraktion für dieses Votum, besser gesagt für dieses Traktandum, meldete, habe ich natürlich nicht gedacht, dass ich so viel zum Zug komme.', 'Ich hätte mir diesen Morgen gerne etwas gemütlicher vorgestellt.', 'Wir sind alle coronamüde.', 'Es ist für die SP absolut verständlich, dass betroffene UnternehmerInnen eine Lockerung der Massnahmen wünschen.', 'Es ist absolut verständlich, dass unser Gesundheitspersonal für ihren Einsatz mehr als nur zusätzlichen Applaus bekommen sollten.', 'Es ist absolut verständlich, dass sich unsere Gastwirtinnen und Gastwirte, unsere GeschäftsbesitzerInnen, unsere Kulturschaffenden, unsere Lehrpersonen und noch sehr viele andere Junge, Menschen mittleren Alters und alte Menschen nach einer Zeit ohne Corona-Einschränkungen sehnen.', 'Zusammen mit all diesen Menschen hoffen wir, dass sich die epidemiologische Lage weiter entspannt und dass die Verantwortlichen die Massnahmen bald wieder lockern können.', 'Für die SP-Fraktion ist aber absolut nicht verständlich, dass, wie bereits erwähnt, Schwyzer Politikerinnen und Politiker von Diktatur sprechen.', 'Wir leben wirklich in einem der besten Demokratien der Welt, hier von Diktatur zu sprechen, ist nicht angebracht.', 'Wir erinnern Sie noch einmal daran, einfach auch, weil ich überhaupt nicht verstehen kann, dass man das System nicht begreifen kann.', 'Unser Bundesrat hat sieben Sitze.', 'Im Bundesrat sitzen zwei Mitglieder von der SP.', 'Der Bundesrat funktioniert nach dem Kollegialitätsprinzip.', 'Dieses wird vom Bundesrat immer wieder bestätigt.', 'Solche Aussagen hier drin zu tätigen, zeugt nicht gerade von sehr viel Kenntnis unseres Politsystems.', 'Bitte, unterlassen Sie solche Aussagen, das ist aufwieglerisch und hat hier drin nichts zu suchen.', 'Bitte halten Sie sich doch an die demokratischen Spielregeln.', 'Hören Sie auf, von solchen Dingen zu reden.', 'Wie gesagt, wir haben absolutes Verständnis dafür, dass die Leute müde sind, aber das sollte nicht dazu führen, so miteinander zu sprechen.', 'Vielen Dank.', 'Geschätzter Herr Kantonsratspräsident, geschätzte Kolleginnen und Kollegen.', 'Wir sprechen mittlerweile leider fast nur noch von den Massnahmen und den Lockerungen in einer sehr polarisierten Art und Weise.', 'Ich will ganz kurz aus ärztlicher Sicht an den Grund für die Massnahmen und die Folgen der Lockerungen erinnern.', 'Die von der Regierung eingeschlagene Stossrichtung einer beschleunigten Lockerung ist sicher legitim, widerspiegelt sie doch ziemlich sicher vor allem die vorherrschende Grundstimmung in der Bevölkerung in unserem Kanton – dies in einem, und das sage ich ihm positiven Sinne, kritischen bis sogar etwas aufmüpfigen Kanton.', 'Aber wir müssen uns der möglichen Folgen bewusst sein und die Abfederung der notwendigen Massnahmen konkret planen.', 'Man kann von den Massnahmen, vom Massnahmenpaket halten, was man will, sie sind ohne Zweifel wirksam.', 'Ich kann dies aus beruflicher Erfahrung bestätigen.', 'Nie war es im Winter in meiner Praxis so ruhig.', 'Ich hatte kaum virale Infekte der oberen Luftwege, Schnupfen, «Pfnüsel», was auch immer zu behandeln, die Grippewelle ist bis jetzt abgesagt.', 'Hier sind die Massnahmen sicher wirksam.', 'Inwiefern der Lockdown mit all seinen Spielvarianten für die Wirksamkeit verantwortlich ist und inwieweit die mehrheitlich befolgten Verhaltensregeln oder die viel umstrittene Maskenpflicht zur Wirksamkeit beitragen, können wir nicht genau auseinanderdividieren.', 'Aber sicher ist, dass eine Lockerung entsprechend verantwortungsvoll angegangen werden muss.', 'Wir müssen akzeptieren, dass es bei einer Lockerung wahrscheinlich doch zu vermehrten Hospitalisationen und möglicherweise zu Todesfällen führen wird.', 'Ich spreche jetzt nicht vom Anstieg der Fallzahlen, das ist komplex und zum Teil verfälschungsanfällig, aber wir müssen dann die Verantwortung dann übernehmen und versuchen, es abzufedern.', 'Wir müssen für die Änderung des Kurses geradstehen und versuchen, mit dem Virus zu leben, was ich glaube, dass dies notwendig sein wird.', 'Ich bin überzeugt, dass uns das Virus noch lange Zeit begleiten wird.', 'Es ist notwendig, dass wir dies anpassen und nicht ewig so weitermachen.', 'Mit dem Virus leben heisst, bis zu einem gewissen Grad zu Leben und Tod gesellschaftlich einen etwas anderen Zugang zu finden.', 'Ich selber bin durchaus der Ansicht, dass die Lockerung gewagt werden sollte, da die, wie wir es ein paar Mal gesagt haben, Bio-, Psycho- und sozioökonomischen Folgen der Maximalvariante des Lockdowns in meinen Augen im Vergleich zum vermeintlichen Gewinn zu hoch sind.', 'Wenn die Regierung die geforderten Lockerungen vorantreiben will, was im Sinne der Mehrheit von uns zu sein scheint, dann müssen die notwendigen flankierenden Massnahmen angedacht werden, auch auf kantonaler Ebene.', 'Ich nenne als Stichwort: Erweiterung der Flaschenhälse bei der Behandlung der schweren Fälle.', 'Wir können auf parlamentarischer Ebene Inputs geben, um gemeinsam, Exekutive und Legislative, parteiübergreifend, weniger polarisierend daran zu arbeiten, aus dieser Krise zu kommen.', 'Dies ist jetzt notwendiger denn je.', 'Besten Dank.', 'Geschätzte Damen und Herren Kantonsräte.', 'Wir sind mittlerweile beim Fach Staatskunde, Wirksamkeit oder Sinnhaftigkeit von Massnahmen und Lockerungsempfehlungen, angekommen.', 'Wir stehen aber nach wie vor beim Traktandum über die Ausgabenbewilligung.', 'Ich bitte Sie, sich auf das Thema zu fokussieren.', 'Das Wort ist frei.', 'Geschätzter Herr Präsident, geschätzte Kolleginnen und Kollegen.', 'Ich möchte mich auch noch einmal grundsätzlich äussern, trotz des Votums des Präsidenten.', 'Wir haben es heute Morgen gehört, die Regierung hat sich entschieden, sich für eine schnellere Öffnung einzusetzen.', 'Sie hat sich nicht nur entschieden, sie hat es auch getan.', 'Ich gehe davon aus, dass der Regierung dieser Entscheid nicht ganz einfach gefallen ist und dass sie das intensiv diskutiert hat.', 'Dem Votum der Frau Landammann habe ich entnommen, dass zwei Punkte wichtig waren: Perspektive für alle und Polarisierung.', 'Ich glaube, beide sind wichtig.', 'Die gemäss den Worten von Kantonsrat', 'Doktor Bruno Beeler schrägen Voten, die wir gehört haben, haben, glaube ich, gezeigt, dass die Polarisierung tatsächlich ein Problem ist.', 'Hier geht mein Appell an alle, einfach ruhig zu bleiben, Ruhe zu bewahren und nicht mehr Öl ins Feuer zu giessen.', 'Was die Perspektive angeht, Perspektive für alle, das ist sicher auch ein ganz wichtiger Punkt.', 'In der Perspektive, so wie ich das Wort verstehe, ist es etwas Mittelund Langfristiges.', 'Es geht nicht darum, was tun wir am nächsten Sonntag, können wir in die Bar oder können wir nicht in die Bar.', 'Die unterschiedlichen Reaktionen der Kantone auf die Vorschläge des Bundesrates zeigen, glaube ich, wie schwierig die Abwägung zwischen dem schnellen Öffnen und der kontrollierten Rückkehr ist.', 'Wir sollten uns, das ist die Haltung der Grünliberalen, bei diesen Entscheiden von Fakten leiten lassen.', 'Ungeduld und Frust, auch wenn diese teilweise verständlich sind, sind ein schlechter Ratgeber, besonders für die Politik.', 'Aus Sicht von uns Grünliberalen ist der Bundesrat grundsätzlich auf dem richtigen Weg.', 'Mit der schrittweisen und kontrollieren Lockerung der Massnahmen und der regelmässigen Überprüfung der Situation haben wir nämlich die Chance auf einen Sommer mit Reisen und Strandferien.', 'Natürlich, der Weg ist nicht schmerzfrei und vielleicht, das kann sein, ich kann es auch nicht ausschliessen, wäre tatsächlich schnell mehr möglich, als der Bundesrat bis jetzt vorgesehen hat.', 'Aber ungeachtet des Risikos, eine schnelle Lockerung auf allen Ebenen zu fordern, ist eine gefährliche Strategie.', 'Eine dritte Welle mit einem erneuten Shutdown, da sind wir uns alle einig, will niemand.', 'Wenn wir die Ausbreitung jetzt nicht in den Griff bekommen, dann drohen uns, wie im Moment im Tirol, im Sommer vielleicht geschlossene Grenzen.', 'Das wollen wir mit den Worten von Kantonsrat Thomas Haas unseren Leuten nicht zu muten, weil wir die Gesunden nicht einsperren wollen.', 'Gerade weil wir grosse Opfer gebracht haben, sollten oder dürfen wir jetzt nicht zu früh nachlassen.', 'Es ist ein bisschen wie beim Lauberhornrennen:', 'Die Beine tun bereits weh, wenn man auf das Ziel zu schiesst, aber jetzt aus der Hocke zu gehen und aufzustehen, wäre das Falsche.', 'So gewinnt man das Rennen nicht.', 'Danke.', 'Wir sind nach wie vor beim Traktandum Ausgabenbewilligung.', 'Ich verstehe, dass ein Bedürfnis für allgemeine Äusserungen besteht.', 'Ich werde diese auch zulassen, mir aber gleichzeitig erlauben, die Redezeit auf zweieinhalb Minuten zu halbieren.', 'Danke.', 'Das Wort ist frei.', 'Sehr geehrter Herr Präsident, meine Damen und Herren, Kantonsrat Jonathan Prelicz, wenn Sie nicht darum herumkommen, x-mal nach vorne zu gehen und sich zu beklagen und nachher noch zusätzlich jammern, es sei so streng, jedes Mal nach vorne zu kommen, dann hält sich mein Mitleid in Grenzen.', 'Wir müssen schon sehen, es ist absolut wichtig, dass wir eine kritische Haltung einnehmen und die Gelder nicht einfach so sprechen.', 'Und wenn der geschätzte Kantonsrat Doktor Bruno Beeler fünf Prozent meines Votums kritisiert, muss ich mich natürlich fragen, habe ich vielleicht ein bisschen zu wenig falsch gemacht?', 'Es ist wichtig, dass wir eine kritische Haltung einnehmen.', 'Es ist zentral, denn unser Staat fusst ja auf dem Föderalismus und der direkten Demokratie.', 'Wenn man dies nicht mehr kritisieren kann, wenn diese Schritte oder diese zentralen Säulen einfach aussen vor gelassen werden, dann haben wir einen kritischen Punkt erreicht.', 'Danke.', 'Das Wort ist frei für weitere Wortmeldungen.', 'Das scheint nicht mehr der Fall zu sein.', 'Dann kommen wir zur Abstimmung.', 'Der Regierungsrat und die Staatswirtschaftskommission empfehlen Ihnen die Annahme dieser Ausgabenbewilligung.', 'Ich weise Sie darauf hin, dass es für das Zustandekommen des Ausgabenbeschlusses sechzig Stimmen braucht.', 'Wir kommen zum nächsten Geschäft, Detailberatung der Motion M sechzehn/zwanzig.', 'Ich bitte den Motionär.', 'Herr Präsident, geschätzte Damen und Herren.', 'Es ist sehr erfreulich zu vernehmen, dass sich unser Kanton bei Härtefallmassnahmen für einmal recht grosszügig zeigt, aber das macht die Dreidrittels-Lösung der Geschäftsmieten noch lange nicht unnötig.', 'Restaurants und viele andere Geschäfte müssen aufgrund dieser Lage Miete bezahlen.', 'An guten Lagen mit vielen Passanten ist die Miete deshalb teurer als anderen Orts, ohne Berücksichtigung allfälliger Liegenschaftskosten.', 'Bei sehr vielen Geschäftsmieten steuern Angebot und Nachfrage den Preis der Mieten.', 'Doch während des Lockdowns konnten die Mieter ihre gemieteten Räume gar nicht benützen.', 'Die Mietsache war in dieser Zeit wertlos.', 'Weshalb sollen die Mieter trotzdem die volle Miete bezahlen müssen?', 'Und weshalb sollen sie alleine das Risiko des Pandemieausfalls tragen, während die Liegenschaftsbesitzer den vollen Gewinn machen können?', 'Ob die betroffenen Mieter während des Lockdowns tatsächlich den Mietzins schuldig sind, ist alles andere als klar.', 'Es wird wahrscheinlich diesbezüglich auch noch einige gerichtliche Auseinandersetzungen geben.', 'Einvernehmliche Lösungen wären deshalb umso wichtiger.', 'Zum Glück hat es ja auch schon einige einvernehmliche Lösungen gegeben.', 'Trotzdem besteht Handlungsbedarf in diesem Bereich.', 'Die Pandemie hat gewaltige Auswirkungen auf den Staat.', 'Bund und Kantone müssen enorm viel Geld dafür ausgeben, wir haben es vorhin gehört, wie viel das ist.', 'Die Unternehmen müssen unverschuldet auf viel Geld verzichten.', 'Trotz dieser siebenundzwanzig Millionen Franken, die wir jetzt gesprochen haben, haben wir vorhin gehört, dass alleine für die Härtefallmassnahmen eigentlich mit Kosten von sechzig bis achtzig Millionen Franken zu rechnen ist und dass noch lange nicht alle von diesen Härtefallmassnahmen profitieren können.', 'Die Einzigen, welche die Pandemie-Krise unbeschadet überstehen und vollen Gewinn machen können, sind die Liegenschaftsbesitzer, die sich bis jetzt geweigert haben, eine Mietzinsvergünstigung zu gewähren, und dies, obwohl ihre Mietsache nicht benutzt werden konnte.', 'Weshalb sollen alle anderen an die Folgen bezahlen, nicht aber die Besitzer?', 'Es kann doch nicht sein, dass sich die Vermieter aus der Verantwortung stehlen und nun ihre Mieter auffordern, die staatlichen Härtefallgelder dafür zu verwenden, ihnen den vollen Mietzins zu bezahlen.', 'Die Dreidrittels-Lösung ist eine absolut faire und pragmatische Lösung, die einen Anreiz schafft, dass nicht nur die betroffenen Geschäfte Verluste machen – eine Win-win-Situation für alle.', 'Zudem gibt es ja auch einen Passus, der verhindern soll, dass doppelte Unterstützungsbeiträge ausbezahlt werden.', 'Wir beantragen Ihnen deshalb die Erheblicherklärung dieser Motion respektive sind wir bereit, diese Motion in ein Postulat umzuwandeln, und bitten Sie, eine Umwandlung zu unterstützen.', 'Wir sind auch bereit, das Postulat P zwei/einundzwanzig zu unterstützen, und beantragen dessen Erheblicherklärung.', 'Danke.', 'Im Namen der CVP-Fraktion spreche ich zur Motion, gleichzeitig aber auch zum Postulat, das im Anschluss behandelt wird.', 'Es ist schon einiges gesagt worden.', 'Ich kann mein Votum glücklicherweise recht stark kürzen.', 'Es würde mich zwar gelüsten, zu gewissen Voten Stellung zu nehmen, aber ich lasse dies jetzt sein, weil sonst natürlich wieder eine Gegenreaktion ausgelöst würde.', 'Mit allem was hier vorne gesagt wurde, bin ich schon nicht ganz einverstanden.', 'Aber wie gesagt, ich überlasse es dem Einzelnen, dies zu werten.', 'Die Dreidrittels-Lösung, wie sie das Postulat vorschlägt, hätte natürlich den Vorteil, dass sich der Vermieter ebenfalls solidarisch an dieser Pandemie beteiligen kann.', 'Man darf aber auch feststellen, dass hier bereits einige Vermieter etwas getan haben.', 'Die CVP-Fraktion nimmt auch positiv zur Kenntnis, dass es mit der Ausgabenbewilligung, die wir jetzt verabschiedet haben, einen guten Schritt vorwärtsgeht.', 'Wie es der Regierungsrat treffend kommuniziert hat, ist dieses Unterstützungspaket sehr grosszügig.', 'Wir geben Gelder à fonds perdu, wir verlangen diese nicht zurück und wir bezahlen bereits Gelder aus, das ist nicht in jedem Kanton der Fall.', 'Der Regierungsrat hat heute auch gesagt, dass nicht alle Branchen von der Pandemie betroffen sind und dass aktuell nicht erkennbar ist, dass es im Kanton Schwyz zu massenhaften Konkursen kommt.', 'Auch konnte man lesen, dass im Jahr zweitausendzwanzig die Umsatz- und Gewinnzahlen der Gastronomiebetriebe überraschend auf einem hohen Niveau waren.', 'Die CVP setzt sich für eine rasche Auszahlung der Härtefallgelder ein, kulant und schnell.', 'Wenn jetzt die Geschäftsmieten ebenfalls noch berücksichtigt werden sollen, könnte dies zu Parallelen führen, Parallelen bei der Härtefallklausel, bei der Härtefallregelung.', 'Man kann wirklich positiv zur Kenntnis nehmen, dass hier der Regierungsrat schnell und unkompliziert gehandelt hat.', 'Ja, eine weitere Dreidrittels-Lösung könnte jetzt das Ganze noch zusätzlich verkomplizieren.', 'Die Auszahlungen könnten ein wenig ins Stocken geraten, denn man müsste kontrollieren, ob jemand bereits etwas erhalten hat oder noch etwas für die Miete erhalten wird etc. Doppelt gemoppelt, das ist ein Problem, das entstehen kann.', 'Gerne unterstreiche ich noch die Ausführungen von Kantonsrat', 'Doktor Roger Brändli.', 'Ich hoffe, Sie haben diese sehr gut zur Kenntnis genommen.', 'Auch die Regierung hat die Problematik, die Kantonsrat Doktor Roger Brändli hier vorne dargelegt hat, deutlich zur Kenntnis genommen und wird diese intern diskutieren.', 'Hier sehe ich noch grosses Handlungspotenzial.', 'Bei den Beispielen, die Kantonsrat Doktor Roger Brändli hier vorne konkret aufgeführt hat, kann es nicht sein, dass die betroffenen Unternehmen nicht vom Unterstützungspaket profitieren können.', 'Das muss angepasst werden, das muss justiert werden.', 'Ich ersuche den Regierungsrat eindringlich, die von Kantonsrat Doktor Roger Brändli aufgezeigte Problematik anzugehen.', 'Besten Dank.', 'Geschätzter Herr Präsident, meine Damen und Herren.', 'Der Vorschlag des Dreidrittels-Kompromisses, dass der Staat einen Drittel der Geschäftsmieten übernimmt, wenn der Vermieter freiwillig auf einen Drittel verzichtet, ist vom Prinzip her sehr zu begrüssen.', 'Bei einer staatlichen Zwangsschliessung in Krisenzeiten, wie wir sie aktuell kennengelernt haben, können Unternehmen, wie Restaurants, Sport- oder Freizeiteinrichtungen, kein Geld mehr erwirtschaften.', 'Einer der grössten Ausgabenblöcke für diese Unternehmen ist die Miete.', 'Aber auch der Vermieter hat laufende Verpflichtungen.', 'Ein kompletter Verzicht könnte auf beiden Seiten einen grösseren finanziellen Schaden bedeuten und somit einem Skaleneffekt bei ausbleibenden Investitionen gleichkommen.', 'Wichtig für uns ist, dass die Lösung Anreize statt Zwänge schafft.', 'Vermieter und Mieter müssen sich einigen.', 'Das ist die Voraussetzung.', 'Aber eine gewisse Solidarität des Vermieters muss auch gezeigt werden.', 'Wer kein Schönwetterkapitän ist, wird langfristig mit treuen Mietern belohnt.', 'In der aktuellen Krisenzeit haben wir mit der von der Regierung ausgearbeiteten Härtefallregelung eine sehr gute Lösung.', 'Die Umsetzung der Motion in einem Gesetz braucht Zeit und ist aus unserer Sicht etwas, das man für die Zukunft prüfen könnte, es muss auch mit weiteren Massnahmen abgeglichen werden.', 'Wie mein Vorredner Kantonsrat Doktor Michael Spirig schon erwähnt hat, müsste man zum Beispiel für die Pacht oder die Miete von eigenen Räumen eine gerechte Lösung finden.', 'Aber wie sieht es jetzt in der nächsten Pandemie aus oder wenn wieder irgendeine Welle kommt und wir erneut einen Shutdown beschliessen müssen?', 'Wir haben jetzt genug Zeit, eine gute Lösung zu prüfen.', 'Deshalb beantragt die GLP die Umwandlung in ein Postulat, damit die Regierung für die zukünftige Bekämpfung der Auswirkungen einer nächsten Pandemie neue Pfeile im Köcher hat.', 'Kurz und knapp: Das Postulat werden wir unterstützen, die Motion weniger.', 'Danke.', 'Herr Präsident, meine Damen und Herren.', 'Ich erlaube mir aus Effizienzgründen gleich auf beide Vorstösse einzugehen, M sechzehn/zwanzig und P zwei/einundzwanzig.', 'Wir haben es heute verschiedentlich gehört:', 'Wer befiehlt, der zahlt auch.', 'Der Verursacher dieser Miesere ist in erster Reihe ja die Pandemie und in zweiter Linie sind es notgedrungenen, muss man sagen, die Dirigenten der behördlichen Schliessungen respektive Einschränkungen zur Ausübung der verschiedenen Gewerbe.', 'Somit ist eigentlich auch klar, wer dafür gradestehen muss.', 'Es ist der Staat, vornehmlich die Eidgenossenschaft und in eigentlicher Sippenhaft, aber zum Teil auch als Mitverursacher von Zusatzbeschränkungen, der Kanton.', 'Diese sind jetzt in der Pflicht, angemessen, und jetzt kommt noch etwas Wichtiges, aber stets auch im Interesse des Steuerzahlers, zu agieren und für die Folgen gradezustehen.', 'Vorhin, beim Votum von Kantonsrat Andreas Marty, ist mir aufgefallen, dass er ein Perpetuum Mobile erfunden hat, indem man nämlich die unter der Pandemie Leidenden entschädigt und die Vermieter belastet.', 'Damit schafft man gleich eine neue Kategorie von Härtefällen.', 'Diese Überlegung ist noch interessant.', 'Wie gesagt, die Verpflichtung, wie ich vorhin ausgeführt habe, die eigentlich beim Staat liegt, jetzt auf andere, namentlich auf die Vermieter, abzuwälzen, ist doch in verschiedener Hinsicht ein Sündenfall.', 'Überlegen wir uns einmal, wer ist der Vermieter?', 'Das sind Pensionskassen, es sind Firmen und es sind private Eigentümer.', 'Und diese, geschätzte Damen und Herren, haben weder die Pandemie noch die Einschränkungen verfügt.', 'Das waren nicht diese.', 'Losgelöst vom Verursacherprinzip, das ich jetzt skizziert habe, könnte man ja ebenso gut fordern, dass jetzt zum Beispiel die SP oder die CVP, welche die beiden Vorstösse platziert haben, je einen Drittel beisteuern sollen.', 'Das ist etwa gleich logisch und das Prinzip ist genau gleich eingehalten.', 'Ich finde, das wäre seltsam wie auch ungerecht.', 'Nun, immerhin wird bei beiden Vorstössen Freiwilligkeit vorausgesetzt.', 'Dennoch, auch wenn es freiwillig ist, entsteht doch moralischer Druck, ein klassisches «Nagging», das man ein Stück weit sogar Mobbing nennen könnte.', 'Deshalb ist die SVP einstimmig gegen die beiden Vorstösse und empfiehlt beide kategorisch zur Ablehnung.', 'Danke.', 'Das Wort ist frei für weitere Fraktionssprechende.', 'Keine Fraktionssprechende.', 'Wir haben einen Antrag auf Umwandlung in ein Postulat und wir haben auch einen Antrag für die Erheblicherklärung als Postulat oder Motion.', 'Deshalb werde ich zuerst über die Umwandlung in ein Postulat abstimmen lassen und anschliessend über die Erheblicherklärung der obsiegenden Vorstossform.', 'Wir kommen zur Detailberatung des Postulats P zwei/einundzwanzig.', 'Auch wenn schon teilweise vorhin auf das Postulat eingegangen wurde, werde ich den Ablauf trotzdem beibehalten.', 'Der Postulant hat noch einmal die Möglichkeit, vom Rednerpult aus zu sprechen, wenn das gewünscht wird.', 'Gibt es noch Fraktionssprechende?', 'Weitere Wortmeldungen?', 'Das scheint nicht der Fall zu sein.', 'Dann lasse ich auch hier über die Erheblich- oder Nichterheblicherklärung des Postulats P zwei/einundzwanzig abstimmen.', 'Geschätzter Präsident, geschätzte Damen und Herren.', 'Jetzt, bei diesem Traktandum kann der Kantonsrat bei dem, was er vorhin beschlossen hat, Nachhaltigkeit demonstrieren.', 'Vorhin haben wir Geld für Firmen ausgegeben, die stark von Corona betroffen sind.', 'Jetzt können wir mit der Motion M zehn/zwanzig zeigen, dass wir als öffentliche Hand bei unserem Gewerbe einkaufen wollen.', 'Um was geht es in dieser Motion?', 'Wenn die öffentliche Hand eine Ausschreibung tätigt, beträgt die Gewichtung des Preises vielfach sechzig Prozent und mehr.', 'Das heisst, dass der Preis das wichtigste und am stärksten gewichtete Zuschlagskriterium ist.', 'Genau in diesem Punkt werden unsere Unternehmen gegenüber Anbietern aus dem Ausland diskriminiert, weil die Produktionskosten, sprich Lohn, Sozialleistungen, Bodenpreise und Auflagen an das Gewerbe, in der Schweiz hoch sind.', 'Somit produziert eine Firma in der Schweiz zu höheren Preisen, auch wenn sie sehr effizient arbeitet.', 'Die eingereichte Motion will, dass im Kanton Schwyz bei den Zuschlagskriterien des öffentlichen Beschaffungsgesetzes die Berücksichtigung der unterschiedlichen Preisniveaus in den Ländern, wo die Leistung erbracht wird, analog zum Bundesgesetz, das seit erster Januar zweitausendeinundzwanzig in Kraft ist, zum Tragen kommt.', 'Mit diesem zusätzlichen Zuschlagskriterium im kantonalen Gesetz heben wir die Diskriminierung der Unternehmen bei der Preisgewichtung auf.', 'Das heisst, wenn zukünftig ein Produkt aus dem Ausland offeriert wird und das Preisniveau im betreffenden Land fünfundzwanzig Prozent tiefer liegt als in der Schweiz, muss auch das Produkt fünfundzwanzig Prozent günstiger angeboten werden als das Schweizer Produkt, damit es bei der Preisgewichtung gleich gut wie ein Schweizer Produkt abschneidet.', 'Somit können wir Apfel mit Apfel und Birne mit Birne vergleichen.', 'Mit der Aufnahme einer Preisniveauklausel bei den Zuschlagskriterien geben wir der Regierung und der Verwaltung ein Instrument in die Hand, um unsere Unternehmen bei der öffentlichen Ausschreibung fair zu behandeln.', 'Weiter hat das Ganze Folgen für unsere Arbeitsplätze, Ausbildungsplätze, Steuereinnahmen, die Wertschöpfung bleibt im Land.', 'Das heisst, dort, wo der Steuerfranken anfällt, wird er auch wieder investiert.', 'Wie wichtig Arbeitsplätze sind, sehen wir gerade in dieser Krise.', 'Der Vorschlag der Regierung, die Motion in ein Postulat umzuwandeln, ist der falsche Weg.', 'Nach der Geschäftsordnung könnte die Regierung bei einem Postulat den Vorstoss mit einem Bericht abschreiben.', 'Einen Bericht des Berichts braucht der Kantonsrat nicht.', 'Als Motionär beantrage ich dem Kantonsrat die Motion, erheblich zu erklären.', 'Nur so ist der Auftrag an die Regierung klar, dass sie dem Kantonsrat eine Gesetzesvorlage mit dem zusätzlichen Zuschlagskriterium Berücksichtigung der unterschiedlichen Preisniveaus in den Ländern, wo die Leistung erbracht wird, zu unterbreiten hat.', 'Dies haben auch mehrere Parteien und Vernehmlasser in der Vernehmlassung zum neuen Beschaffungsgesetzes gefordert.', 'Ich danke Ihnen, wenn Sie die Motion M zehn/zwanzig: Keine Diskriminierung für unser Gewerbe im Beschaffungswesen als Motion erheblich erklären, ganz im Sinne von Hopp Schwyz – nicht nur angeben, sondern auch nachleben.', 'Zum Schluss noch die Meinung der CVP-Fraktion: Die Motion M zehn/zwanzig: Keine Diskriminierung für unser Gewerbe im Beschaffungswesen wird einstimmig als Motion erheblich erklärt und das Postulat P sechs/zwanzig: Echtes', 'Hopp Schwyz wird von der CVP ebenfalls einstimmig erheblich erklärt.', 'Danke.', 'Ich habe mich vielleicht zu Beginn nicht ganz klar ausgedrückt.', 'Wir haben zwar ein Traktandum, aber zwei Geschäfte.', 'Das heisst, ich werde zuerst die Motion behandeln, durchbesprechen, darüber abstimmen lassen, und anschliessend das Postulat behandeln, durchbesprechen, darüber abstimmen lassen.', 'Dies, damit man weiss, wann, was an der Reihe ist.', 'Das Wort ist frei für die Fraktionssprechenden.', 'Herr Präsident, meine Damen und Herren.', 'Die Motion: Keine Diskriminierung für unser Gewerbe trifft den Nagel auf den Kopf.', 'Es ist nichts dringlicher, gerade in dieser Situation, in der wir uns befinden.', 'Es wurde vorhin gesagt, wir müssen zu uns schauen.', 'Wir sprechen Gelder, aber ich glaube, noch wichtiger wäre, dass man die Arbeit bei uns behalten kann und die Arbeit nicht exportiert, wortwörtlich.', 'Bei dieser Motion, Kantonsrat Bruno Hasler, hat das vorhin super gesagt, geht es darum, die Arbeitsplätze, die Ausbildungsplätze und die Wertschöpfung im Kanton Schwyz behalten zu können.', 'Nachdem natürlich das Ausland viel günstigere Produktionsbedingungen hat, leuchtet dies, glaube ich, jedem ein, oder?', 'Die dortigen Landpreise, Bodenpreise, um nur irgendeine Halle zu bauen, bewegen sich im Vergleich zu uns teilweise im Promille- oder Prozentbereich.', 'Wir haben viel höhere Anforderungen, Vorschriften, Umweltvorschriften, all das.', 'Ich weiss nicht, ob es zum Beispiel in Polen mit seinen Billigprodukten einen Vaterschaftsurlaub gibt.', 'Mit all dem müssen unsere Firmen mit dem Ausland konkurrenzieren können.', 'Meine Damen und Herren, das kann ja gar nicht funktionieren, denken wir jetzt einfach einmal logisch.', 'Das kann nicht gehen und es ist eigentlich eine Zumutung, dass wir unsere Firmen mit solchen Bedingungen dem Ausland gegenüberstellen.', 'Es ist klar, dass diese gar nicht konkurrenzieren können.', 'Ich möchte Sie recht herzlich bitten, die Motion zu unterstützen.', 'Die SVP-Fraktion wird dies auch tun, um hier einen Nagel einzuschlagen und sagen zu können:', 'Wir wollen das.', 'In der Vernehmlassung haben wir das auch gefordert.', 'Wie gesagt, der Regierungsrat ist nicht ganz gleicher Meinung.', 'Er möchte den Vorstoss lieber in ein Postulat umwandeln.', 'Aber ich bin dafür, dass wir eine klare Haltung haben und an der Motion festhalten.', 'Ich bin sicher, dass es eine Möglichkeit für die Umsetzung unseres Anliegens gibt, um dieser Motion entsprechend gerecht zu werden.', 'Unsere Firmen bezahlen hier Steuern.', 'Sie schaffen Arbeitsplätze, die Angestellten bezahlen wieder Steuern.', 'Dafür sind die Firmen gut genug, Ausbildungsplätze, Arbeitsplätze zu schaffen, das soziale Umfeld zu integrieren oder Asylanten zu integrieren.', 'Mit allerbestem Dank vergibt nachher der Kanton die Arbeit ins Ausland, viele Grüsse.', 'Sie können sich vorstellen, dass es dem einen oder anderen nebst der ganzen Corona-Situation auch deswegen verleidet.', 'Unterstützen wir unser Gewerbe, setzen wir uns dafür ein, behalten wir die Arbeit im Kanton Schwyz und schauen zu unseren Leuten.', 'Ich empfehle Ihnen, wie unsere Fraktion, diese Motion zu unterstützen.', 'Danke.', 'Ich spreche im Namen der FDP-Fraktion.', 'Ich möchte gleich zur Motion und zum Postulat Stellung nehmen.', 'Als Neuling oder Kantonsratshamburger habe ich schnell gemerkt, dass man in den Fraktionen nicht immer der gleichen Meinungen ist – auch in der FDP-Fraktion.', 'Bei den Diskussionen über die Motion gab es Argumente für die wie auch gegen die Motion.', 'Schlussendlich hat die FDP-Fraktion beschlossen, die Motion leider abzulehnen, dafür eine Umwandlung in ein Postulat zu befürworten.', 'Bei der Abstimmung über das Postulat hat man sich in der Mitte gefunden, die Hälfte ist dafür und die Hälfte dagegen.', 'Das Postulat', 'Hopp Schwyz lehnen wir mehrheitlich ab.', 'Wir wollen, dass alle Schweizer Unternehmer gleichbehandelt werden, wir wollen keinen Kantönligeist.', 'Unsere Schwyzer Unternehmer sind auch froh, wenn sie in anderen Kantonen zu gleichen Bedingungen Aufträge erhalten können.', 'Danke.', 'Geschätzter Präsident, geschätzte Damen und Herren.', 'Ich spreche für die SP-Fraktion zu beiden Vorstössen.', 'Die SP ist ganz klar für einheimische, nachhaltige und lokale Produkte.', 'Diese sollen – vor allem auch mit dem Geld, das der Kanton ausgibt –auch eingekauft werden.', 'Hier sprechen wir vor allem über die Lokalität.', 'Wir sind einerseits für die Motion, dass man diese erheblich erklärt, ebenso sind wir auch beim zweiten Punkt für das Postulat.', 'Merci.', 'Herr Präsident, meine Damen und Herren.', 'Ich bin etwas unsicher.', 'Im Geschäftsverzeichnis haben wir für beide Vorstösse einen Regierungsratsbeschluss.', 'Mein Votum bezieht sich deshalb, und ist auch so vorbereitet, auf die Motion und das Postulat.', 'Für den Fall, dass ich jetzt einen Fehler mache, hoffe ich, dass Sie mir das verzeihen.', 'Vorab, wir von der GLP haben volles Verständnis für die Grundanliegen der Motion respektive des Postulats und unterstützen diese.', 'Aus folgenden Gründen lehnen wir den Antrag des Regierungsrates zur Umwandlung der Motion M zehn/zwanzig in ein Postulat ab, ebenso lehnen wir ab, das Postulat P sechs/zwanzig erheblich zu erklären.', 'Meine Damen und Herren, es geht um das Beschaffungswesen, Beschaffungswesen der öffentlichen Hand.', 'In meinen vergangen zwanzig Jahren beruflicher Tätigkeit habe ich nicht weniger als einhundert solcher Beschaffungen beantragen dürfen, Pflichtenhefte beantwortet, ausgefüllt, Verfahren gemacht.', 'Ich weiss, wovon ich spreche.', 'Seit erster Januar zweitausendeinundzwanzig, also dieses Jahr, ist das neue Bundesgesetz über das öffentliche Beschaffungswesen, kurz BöB, in Kraft.', 'Damit vollzieht der Bund einen Paradigmenwechsel bei den Zuschlagskriterien und zwar weg vom Preis, hin zum Qualitätswettbewerb.', 'Statt wie bisher das wirtschaftlich günstigste Angebot bekommt neu im Sinne von Art.', 'einundvierzig', 'BöB das vorteilhafteste Angebot den Zuschlag.', 'Damit ist das reine Preisdenken bei der Vergabe Geschichte, wenn sich die ausschreibenden Stellen, insbesondere auch der Kanton, Mühe machen, die möglichen Vergabekriterien konsequent umzusetzen.', 'Neu bekommen qualitative Zuschlagskriterien ein stärkeres Gewicht.', 'Gemäss Art.', 'neunundzwanzig Absatz eins', 'BöB hat die Auftraggeberin das Angebot neben dem Preis anhand der Kriterien Lebenszykluskosten, Nachhaltigkeit, Fachkompetenz etc. zu prüfen.', 'Ein wichtiges Ziel des neuen Beschaffungsrechts ist die Harmonisierung des Beschaffungswesens, somit auch bei Ausschreibungsverfahren in der Schweiz, damit es für Anbieterinnen einfacher wird, ihre Leistungen überall anbieten zu können.', 'Damit das sogenannte Government Procurement Agreement, kurz GPA, ein WTOÜbereinkommen, auch auf kantonaler Ebene umgesetzt wird, haben die Kantone respektive das interkantonale Organ für das öffentliche Beschaffungswesen am fünfzehnter November zweitausendneunzehn eine Totalrevision der Interkantonalen Vereinbarung über das öffentliche Beschaffungswesen, kurz IVöB, verabschiedet.', 'Der Regierungsrat hat von Juli bis Mitte Oktober das Vernehmlassungsverfahren zum Beitritt zur totalrevidierten IVöB durchgeführt und offenbar verschiedentlich auch die Forderung gehört, das Zuschlagskriterium soll unter Berücksichtigung der unterschiedlichen Preisniveaus in den Ländern, in denen die Leistungen erbracht werden, sowie der Verlässlichkeit des Preises in das kantonale Recht übernommen werden.', 'Das können Sie unter Ziffer zwei.drei von RRB Nr. achthundertneunundachtzig/zweitausendzwanzig nachlesen.', 'Die beiden Kriterien wurden aber von den Kanonen bewusst nicht in das IVöB übernommen.', 'Weshalb?', 'Das in Auftrag gegebene Gutachten der Schweizerischen Bau-, Planungs- und Umweltdirektoren-Konferenz, kurz BPUK, hat derart erhebliche Vorbehalte der Rechtmässigkeit und Effektivität der Preisniveauklausel aufgezeigt, dass die Kantone allzu grosse Schwierigkeiten bei der Umsetzung dieser beiden Zuschlagskriterien befürchtet haben, Ziffer zwei.vier von RRB Nr. achthundertneunundachtzig/zweitausendzwanzig.', 'Es ist einfach zu verstehen:', 'Anhand von was berechnet sich das Preisniveau?', 'Anhand der Preise von Hamburgern oder anhand der Preise von eins mzwei Land oder eins mdrei Holz oder vielleicht anhand der Preise für ein Kommunalfahrzeug?', 'Meine Damen und Herren, selbst wenn Sie in Deutschland ein Preisniveau haben, ist vielleicht in Baden-Württemberg der Hamburger günstiger, aber am Schluss ist das Preisniveau in Mecklenburg-Vorpommern oder im Osten von Berlin noch tiefer.', 'Unter dem neuen Beschaffungsrecht lassen sich eben die Anliegen der Motion wie des Postulats hervorragend umsetzen.', 'Wir von der GLP wünschen nichts anderes, als dass der Kanton die entsprechende interkantonale Vereinbarung annimmt, durch die kantonale Verordnung umgehend in Kraft setzt und dann eben die Regeln konsequent anwendet, um bei öffentlichen Bauten und Beschaffungen die submissionsrechtlichen Möglichkeiten maximal und zugunsten der einheimischen Produkte auszuschöpfen.', 'Bekomme ich noch eine Minute, damit ich nachher kein Postulat machen muss?', '(Kantonsratpräsident René Baggenstos: Nein, bitte kommen Sie zum Schluss).', 'Ich komme zum Schluss.', 'Fazit: Wir lehnen deshalb den Antrag des Regierungsrates zur Umwandlung der Motion M zehn/zwanzig in ein Postulat ab, ebenso lehnen wir ab, das Postulat P sechs/zwanzig erheblich zu erklären, und empfehlen Ihnen, dasselbe zu tun, es ist schlicht nicht notwendig.', 'Dafür laden wir den Regierungsrat ein, das IVöB mit seiner Verordnung bald möglichst in Kraft zu setzen und die neuen Zuschlagskriterien der Nachhaltigkeit bei jeder Ausschreibung konsequent einzufordern.', 'Damit wird der Kanton nicht nur grüner, sondern erlebt auch ein echtes Hopp Schwyz.', 'Sehr geehrter Präsident, meine Damen und Herren.', 'Ich spreche für eine Minderheit der FDP-Fraktion, aber auch als Gewerbler.', 'Ich unterstütze die Vorlage mit Überzeugung und zwar ihre Erheblicherklärung als Motion.', 'Die Vorlage darf nicht isoliert betrachtet, sondern muss in den eidgenössischen Kontext gestellt werden.', 'In Bundesbern ist die Preisniveauklausel übrigens gegen den Willen der Verwaltung vom Parlament angenommen worden.', 'Die Umsetzung auf Bundesebene steht kurz vor dem Abschluss.', 'Man hat dort eine einfache, praktikable Lösung gefunden, welche die Fairness beim Vergabeprozess gewährleistet.', 'Unsere Fraktionsminderheit, die ich hier vertrete, ist der Meinung, dass dies ebenfalls auf kantonaler Ebene möglich sein muss.', 'Auch die kantonalen Gewerbeverbände setzen sich landauf landab bei ihrer Regierung und ihren Parlamenten mit Vehemenz dafür ein, dass die Preisniveauklausel in den jeweiligen kantonalen Gesetzen verankert wird.', 'Der Kanton Schwyz ist früh dran und übernimmt eine Vorreiterrolle.', 'Damit können wir hier und heute mit unserem Entscheid auch an die anderen Kantone ein klares Signal aussenden.', 'Wir wollen das.', 'Es ist nicht praktikabel, dass in einem solch wichtigen Punkt ein so grossen Unterschied zwischen BöB und IVöB besteht.', 'Wir müssen das Rad jetzt wirklich nicht neu erfinden, es gibt genug andere Übungsanlagen.', 'Erlauben Sie mir, vor dem Hintergrund der Hopp Schwyz-Kampagne, mit der der Kanton Schwyz sein Bekenntnis zum Werkplatz Schwyz und zum Gewerbe gezeigt hat, noch ein paar grundlegende Überlegungen einzubringen.', 'Wir spüren am meisten Widerstand gegen diese Klausel aus den Verwaltungen, zuerst beim Bund, dann bei den Kantonen.', 'Die Verwaltungen habe alle Ausreden bereit, weshalb es nicht möglich ist und weshalb es nicht funktionieren soll.', 'Das ist typisch.', 'Für Studien, Expertisen, Gutachten, Berichte bezahlen wir Unmengen an Summen, ohne dass diese gross hinterfragt werden.', 'Wenn aber eine in der Schweiz hergestellte, von Schweizer Arbeitern angefertigte, mit Schweizer Löhnen produzierte Maschine ein paar Franken mehr kostet, dann soll sie zu teuer sein.', 'Bei der Begründung versteckt man sich hinter den Submissionsverordnungen.', 'Unsere produzierenden Unternehmen sind absolut wettbewerbsfähig, gerade im Bereich Technologie und Digitalisierung haben sie die Nase vorn.', 'Sobald aber Hammer und Schraubenschlüssel zum Einsatz kommen, sprich von Hand gearbeitet werden muss, haben sie grosse Nachteile und keine Chance aufzuholen.', 'Es ist jetzt an der Zeit, für unsere Handwerksbetriebe einzustehen und ihnen gleich lange Spiesse bei den Submissionsverfahren zu verschaffen.', 'De facto sind einheimische Betriebe gegenüber auswärtigen im Nachteil, obwohl sie hier Steuern bezahlen, Lehrlinge ausbilden und durch ihre Regionalität auch einen grossen Beitrag an die Nachhaltigkeit leisten – nicht nur bei den Löhnen und Arbeitsplätzen, sondern auch im Umweltbereich, indem sie zum Beispiel kurze Transportwege haben.', 'Ich komme zum Schluss:', 'Wir unterstützen die eingereichte Motion und deren Erheblicherklärung.', 'Eine andere Lösung als beim Bund würde bei den Anbietern zu grossem administrativen Mehraufwand führen und die Harmonisierungsvorteile, weswegen die Vorlage umgesetzt wird oder umgesetzt werden soll, würden wieder wegfallen.', 'Die Preisniveauklausel und das Zuschlagskriterium Verlässlichkeit des Preises muss zum Zweck der vollständigen schweizweiten Harmonisierung in die IVöB aufgenommen werden, um einen Regulierungsdschungel zu vermeiden.', 'Danke.', 'Herr Präsident, geschätzte Kolleginnen und Kollegen.', 'Ich habe zwei kurze Anmerkungen: Die Diskussion zeigt eine Fokussierung auf zwei Aspekte, das ist der Preis und jene, die in die Schweiz importieren.', 'Ich glaube, beides greift etwas kurz.', 'Der Preis, das wurde vorhin gesagt, ist ein Kriterium.', 'Man kann heute mit dem neuen Beschaffungsgesetz zusätzliche Kriterien einfügen, wie eben beispielsweise die Nachhaltigkeit, damit man sich in Zukunft nicht mehr nur auf den Preis fokussiert.', 'Wir wollen nicht, dass der Preis weiterhin das entscheidende Kriterium bleibt.', 'Der zweite Punkt betrifft den Import/Export.', 'Wir haben auch eine grosse Exportwirtschaft.', 'Die Exportwirtschaft muss konkurrenzfähig bleiben.', 'Deswegen können wir nicht irgendeinen Zusatzartikel einbauen.', 'Wir müssen schauen, dass unsere Exportwirtschaft nicht bestraft wird, wenn wir jetzt eine solche eine Preisniveauklausel einführen.', 'Man kann sich zum Beispiel vorstellen, dass das Ausland eine Ausbildungsniveauklausel einführt, indem gesagt wird, die Schweizer sind so gut ausgebildet, sie haben einen Vorteil, das müssen wir irgendwie bestrafen, wenn diese exportieren wollen.', 'Es ist ein wichtiges Anliegen, dass wir lokal arbeiten können.', 'Das neue Beschaffungswesen gibt die Möglichkeit dazu, ohne dass wir mit einer solchen Preisniveauklausel Tricks und Tricklein machen.', 'Danke.', 'Jene, welche sich noch zu Wort melden wollen, sollen doch bitte daran denken, dass man nach vorne kommen und dort sitzen kann, dann können wir die Zeit noch besser nutzen.', 'Ich will es ganz kurz machen.', 'Wir haben ganz gute Argumente gehört, dafür und dagegen.', 'Ich möchte Ihnen ans Herz legen, die Motion M zehn/zwanzig erheblich zu erklären.', 'Es erfolgt daraus keine Diskriminierung des Gewerbes in anderen Kantonen.', 'Ich bin überzeugt, dass uns unsere Regierung etwas Gutes vorlegen wird.', 'Darauf vertraue ich.', 'Ich will Ihnen noch einmal ans Herz legen, die Motion erheblich zu erklären.', 'Danke, ich habe geschlossen.', 'Die Wortmeldungen aus dem Rat sind erschöpft.', 'Das Wort hat unser Landesstatthalter.', 'Vielen Dank Herr Präsident, geschätzte Damen und Herren.', 'Es wurde eigentlich auch aus meiner Sicht, das meiste, was gesagt wurde, richtig oder mindestens verständlich und nachvollziehbar dargelegt.', 'Bei dieser, derzeit für das Gewerbe etwas emotionalen Thematik, hat man durchaus Verständnis.', 'Sie konnten der Antwort der Regierung entnehmen, dass wir uns offen zeigen.', 'Nichts desto trotz gibt es bei dieser Thematik ein paar Herausforderungen.', 'Das wurde auch von verschiedenen Sprechenden gesagt.', 'Wir reden hier von einem Beitritt zu einem Konkordat.', 'Das haben wir auch schon in anderem Zusammenhang getan.', 'Dabei stellt sich immer die Frage, wie viel Sie als Parlament noch an einem Konkordat ändern können.', 'Am Konkordat selber können Sie eben nichts ändern.', 'Jetzt kam die Streitfrage auf, die man auch gutachterlich angeschaut hat, ob man in der Beitrittsgesetzgebung zu diesem Thema überhaupt noch etwas sagen kann.', 'Das ist der eine Punkt.', 'Gut, da darf man sich nicht immer von irgendwelchen Meinungen gleich abschrecken lassen.', 'Man kann auch einfach einmal etwas machen, daran soll es nicht entscheidend scheitern.', 'Das Zweite betrifft aber dann die konkrete Umsetzung dieser Preisniveauklausel.', 'Dabei ist es nicht ganz richtig, was Kantonsrat Heinz Theiler gesagt hat, dass bereits eine praktikable Umsetzungslösung vorliege.', 'Das Gegenteil ist der Fall.', 'Das Gesetz wurde vor einem Dreivierteljahr vom Bundesparlament beschlossen.', 'Man hat bis heute keinen Weg gefunden, wie man die Preisniveauklausel verlässlich, nachvollziehbar, mit vertretbaren Aufwand, und zwar für beide Seiten, mit einem vernünftigen und transparenten Vorgehen bei den Unternehmern, ein Stück weit dann aber auch bei der Verwaltung, umsetzen kann.', 'Gerade gestern haben die betreffenden Gremien wieder getagt.', 'Viel weiter sind sie offenbar noch nicht.', 'Das ist die Herausforderung und die Schwierigkeit.', 'In diesem Gremium hat auch eine Vertretung der Unternehmenseite, des Fairplays, Einsitz, das sich eben stark macht bzw. bei der Beratung des Bundesparlaments für diese Klausel stark gemacht hat.', 'Man hat bis heute noch keinen praktikablen Weg für die Umsetzung gefunden.', 'Das ist auch relativ einfach nachvollziehbar.', 'Es gibt heute kaum ein Produkt, dass entweder einhundert Prozent made in Switzerland oder made in Croatia oder von wo auch immer in Anspruch nehmen kann.', 'Ein Gesamtprodukt setzt sich aus Bestandteilen zusammen.', 'Die Herausforderung liegt darin, sinnvoll und einigermassen transparent aufzuschlüsseln, welcher Anteil eines Endproduktes in welchem Land produziert wurde, und die Anteile einigermassen schlau zu gewichten.', 'Verstehen Sie mich bitte nicht falsch, ich suche nicht oder ich will nicht nach Gründen suchen, weshalb wir das nicht tun, absolut nicht, aber wir müssen auch schauen, dass wir Gesetze beschliessen, mit denen nachher keine falschen Erwartungen geweckt werden, und die vor allem umsetzbar und durchsetzbar sind.', 'Wir müssen auch aufpassen, je nachdem dann die Klausel ausgestaltet ist, dass nicht jede Vergabe – definitionsgemäss gibt es auch immer wieder unterliegende Parteien – angefochten wird, dass der Staat, aber indirekt eben auch der Obsiegende nachher prozessieren muss, weil jedes Mal angezweifelt werden kann, ob das Kriterium des Preises richtig gewichtet wurde oder nicht.', 'Im Kanton Schwyz haben wir zwar auch Sachgüter, die wir auf dem freien Markt im Rahmen von Submissionen erwerben, aber der ganz grosse Teil der submissionsrelevanten Aufträge betreffen konstant den Tiefbau, alle zehn Jahren einmal eine Hochbaute.', 'Hier haben wir das Glück, dass wir weitgehend einheimische, das heisst schweizerische, Unternehmer haben, die hier die Leistungen anbieten.', 'Natürlich gibt es bei gewissen Zusammenhängen auch Güterbeschaffungen, die wir ausschreiben.', 'Dort kommt die vorliegende Problematik effektiv zum Tragen.', 'Wie gesagt, die Regierung wollte es nicht ausschliessen, wir wollen das anschauen, wir wollen schauen, wie es der Bund macht.', 'Das Gesetz wurde vor einem Dreivierteljahr beschlossen.', 'Es ist seit anfangs Jahr in Kraft.', 'Aber das Kriterium wird in der Praxis noch nicht angewandt, weil man es eben in diesem Dreivierteljahr offenbar nicht geschafft hat, eine schlaue Umsetzungsmöglichkeit zu finden.', 'Deshalb wollen wir im Kanton Schwyz auch noch zuwarten.', 'Wir waren einer der ersten Kantone, der ein Beitrittsverfahren lanciert und auch die Vernehmlassung durchgeführt hat.', 'Bis heute ist noch kein Kanton beigetreten.', 'Wenn ich die Stimmung hier richtig deute und die Preisniveauklausel ernsthaft diskutiert wird, dann werde ich den Vorschlag unterbreiten, dass wir, mindestens bis wir vom Bund Klarheit haben, wie er das umsetzt, noch etwas zuwarten.', 'Dann kann ich nachher mit Ihnen transparent in der vorberatenden Kommission und anschliessend auch im Kantonsrat diskutieren, wie der Bund die Preisniveauklausel umsetzt, wie wir es tun könnten, ist dies ein Weg, der als zielführend erachtet wird oder nicht.', 'Das ist eben auch der Grund, weshalb wir, um die Offenheit zu behalten, Ihnen die Umwandlung in ein Postulat beantragt haben.', 'Noch zur Verbindlichkeit:', 'Das Gesetzgebungsverfahren ist lanciert und wir kommen mit dieser Vorlage in den Kantonsrat, insoweit ist die Motion oder von mir aus sogar das Postulat eigentlich hinfällig geworden.', 'Die Motion wurde von Kantonsrat Bruno Hasler eingereicht, bevor die Regierung die Vernehmlassung in die Wege geleitet hat.', 'Aber jetzt können Sie diesen Antrag im Rahmen des Beitrittsverfahrens respektive der Gesetzesberatung sowieso stellen.', 'Deshalb ist es nicht notwendig, dass wir einen verbindlichen Auftrag haben, jeder von Ihnen kann diesen wieder einbringen, aber es lässt uns etwas mehr Spielraum bei der hoffentlich guten Umsetzung.', 'Besten Dank.', 'Dann komme ich zur Abstimmung.', 'Es stehen die Umwandlung in ein Postulat und die Beibehaltung als Motion im Raum.', 'Deshalb werde ich zuerst darüber abstimmen, ob Sie das Geschäft als Motion oder als Postulat weiterbehandeln wollen.', 'In einem zweiten Schritt lasse ich über die Erheblicherklärung abstimmen.', 'Wir kommen zum Postulat P sechs/zwanzig.', 'Hier werde ich auch noch einmal Gelegenheit zu Wortmeldungen geben.', 'Der Postulant ist ans Rednerpult eingeladen.', 'Herr Präsident, meine Damen und Herren.', 'Zum Postulat: Echtes Hopp Schwyz', ': Eigene Ressourcen im Kanton Schwyz nutzen.', 'Vorhin haben wir über Beschaffungen im Ausland diskutiert.', 'Hier haben wir gerade das Gegenteil, nämlich Beschaffungen im Inland respektive regional und lokal, darum geht es.', 'Es ist für mich etwas seltsam, dass zum Beispiel die FDP als Unternehmerpartei nicht dahinterstehen kann und sich für das Gewerbe stark macht, auch beim vorherigen Vorstoss.', 'Was für mich ganz speziell ist, dass die GLP, die teilweise immer sagt, wir müssen ökologisch, ökonomisch sein und schauen, ja keine COzwei-Emmissionen zu verursachen, das Postulat nicht unterstützen will.', 'Meine Damen und Herren, hier könnte man doch einhacken, möglichst vor Ort die notwendigen Waren mit kurzen Transportwege organisieren.', 'Jetzt will man hier nicht mitmachen, ganz interessant muss ich sagen.', 'Mit diesem Postulat wollen wir auf ökologische und ökonomische Weise die Wertschöpfung im Kanton Schwyz behalten.', 'Auch eine Baukultur könnte daraus entstehen, indem man unsere Waren vor Ort verbaut.', 'Die Denkmalpflege wird uns in zweihundert Jahren dankbar sein, nicht nachforschen zu müssen, ob das Holz aus Polen stammt.', 'Das wird interessant.', 'Unser Kanton hat beispielsweise zweihundertfünfzig ha eigenen Wald, wir selber, wir als Kantonsbürger.', 'Weshalb gehen wir denn nicht in unseren Wald und fällen Holz.', 'Wir haben schlagreife Wälder.', 'Lassen wir doch das Holz in unserem Kanton sägen, zusammenleimen und abbinden.', 'Die Herausforderung sollte doch sein, in unseren Kanton die Waren zu organisieren und bearbeiten, damit keine Dachlatte über die Kantonsgrenze geführt wird, meine Damen und Herren.', 'Das wären Innovationen, die wir vorantreiben könnten.', 'Aber ich höre es bereits wieder, es geht nicht wegen den Ausschreibungen, Submissionen.', 'Sonst ist man auch phantasievoll und lässt Gutachten erstellen, wie es vorhin Kantonsrat Heinz Theiler erwähnt hat, aber hier hat man keine Innovationen, das will man gar nicht, vielleicht weil es Neuland ist, einfach so als Gedankenanstoss.', 'Ihr geht ja auch nicht, wenn Ihr zuhause selber gärtnert, im Coop einen Salat für siebzig Rappen einkaufen, währenddessen der Kanton sogar mehrere Gärtner angestellt hat, die zu unserem Wald schauen.', 'Wenn das Holz geschlagen werden kann, kaufen wir anderswo billigeres.', 'Das ist interessant, das soll mir einmal jemand erklären.', 'Wir haben auch viele Dienstleistungen in unserem Kanton, die wir auch nützen können.', 'Wie ich vorhin schon gesagt habe, um Steuern zu bezahlen, Ausbildungsplätze bereitzuhalten und all dies, sind unsere Unternehmungen gut und recht.', 'Wenn es dann gerade in dieser Corona-Situation darum geht, Arbeit zu bekommen und Aufträge zu erhalten, sind dann die anderen da.', 'Der Regierungsrat, das freut mich sehr, hat das erkannt und wird sich hoffentlich auch einsetzen.', 'Ich denke, LS André Rüegsegger mit seiner Mannschaft wird das Postulat auch möglichst gut umsetzen.', 'Es ist relativ einfach, jeder, der ein Amt bekleidet, soll einmal daran denken, von wem er den Lohn hat, wer ihm Ende Monat den Lohn bezahlt.', 'Das sind doch wir, wir Steuerzahler, die Unternehmen im Kanton Schwyz.', 'Man muss sich für diese zu ihrer Zufriedenheit entsprechend einsetzen.', 'Derjenige, der den Lohn bezahlt, soll auch wieder Arbeit bekommen.', 'Ich denke die Steuerzahler und all diejenigen werden das verdanken.', 'Unsere Firmen, unser Gewerbe ist dankbar, wenn Sie diesem Postulat zustimmen.', 'Ich bin überzeugt, dass der Kanton mit dem zuständigen Departementsvorsteher LS André Rüegsegger das Postulat bestmöglich umsetzen, sich für unser Gewerbe, sich für die Nutzung unserer eigenen Ressourcen nachhaltig einsetzen und dies auch dementsprechend vorantreiben wird.', 'Danke', 'vielmals für die Unterstützung dieses Postulats.', 'Herr Präsident, meine Damen und Herren.', 'Ich nehme den Steilpass auf, Kantonsrat Martin Brun, Danke, die GLP ist dafür.', 'Wichtig ist, dass man die Kriterien in den Ausschreibungen maximal einfordert, die Kriterien, die Sie genau genannt haben.', 'Aber man kann nicht sagen, wir nehmen das hiesige Holz, leider ist das drei Mal so teuer.', 'Aber man die Qualität ins Feld führen.', 'Wir nehmen Holz mit möglichst wenig grauer Energie und möglichst wenig COzwei-Ausstoss, also kurze Transportwege.', 'Man kann auch sagen, wir nehmen das Kommunalfahrzeug von hier, mit viel Fachkompetenz, nicht weit hertransportiert, mit Ersatzteillieferungen aus der Nähe.', 'Man muss das aber einfordern.', 'Ich hoffe, dass LS André Rüegsegger möglichst bald einen Weg findet, diesem Konkordat beizutreten, damit wir dieses miteinander beraten können, dann können wir die Argumente einfordern.', 'Wenn man in Zukunft eine Ausschreibung für das HZI in Ibach macht, dann kann man eben verlangen, dass das Holz möglichst wenig COzwei beim Transport verursachen darf.', 'Das ist ein Kriterium der Nachhaltigkeit, das man einfordern kann.', 'Ich möchte Sie einladen, dies in Zukunft zu tun.', 'Nichts desto trotz, wir empfehlen Ihnen, das Postulat nicht erheblich zu erklären, sondern möglichst bald zu schauen, dass wir dem Konkordat mit der Verordnung beitreten und das Gesetz maximal anwenden.', 'Besten Dank.', 'Das Wort ist frei für weitere Fraktionssprechende.', 'Keine Wortmeldungen.', 'Dann ist das Wort frei für Wortmeldungen aus dem Rat.', 'Geschätzter Herr Präsident, meine Damen und Herren.', 'Ich nehme zum Postulat Hopp Schwyz Stellung.', 'Regionale Wirtschaftskreisläufe sind wichtig, sie bringen Arbeitsplätze, Wertschöpfung, machen die Regionen resilienter, das ist gerade jetzt wichtig, auch in Pandemiezeiten.', 'Wie die Postulanten sagen, reduzieren kurze Wege auch die negativen Verkehrsemissionen und schonen so die Umwelt.', 'Ein wichtiger Hebel, um regionale Wirtschaftskreisläufe zu stärken, ist die Kostenwahrheit im Verkehr.', 'Auf den Gütertransport fällt die leistungsabhängige Schwerverkehrsabgabe an.', 'Diese deckt aber nicht einmal die Hälfte der verursachten Kosten, auf über eins Mrd. Franken pro Jahr bleiben wir als Gesellschaft sitzen.', 'Wenn der Transport von Gütern seine Kosten vollumfänglich decken würde, bekämen auch regional hergestellte Güter automatisch einen Preisvorteil.', 'Doch diesen Knopf lösen wir nicht hier im Schwyzer Kantonsrat, der Bund arbeitet aktuell an der Weiterentwicklung der LSVA.', 'Diese wird in einem Jahr in Bern im Parlament verhandelt.', 'Was wir tun können, ist bei öffentlichen Aufträgen die Herkunft von Gütern und Dienstleistungen stärker zu gewichten.', 'Das Postulat', 'Hopp Schwyz geht aus meiner Sicht in die richtige Richtung.', 'Es ist möglich, dass die neuen Nachhaltigkeitsbestimmungen im revidierten BöB ausreichen, wie meine Fraktionskollegen der Meinung sind, aus meiner Sicht ist ein Prüfungsauftrag für die Regierung aber trotzdem angezeigt.', 'Auch die zweite Forderung des Postulats, dass unsere Regierung bei öffentlichen Bauten auf einheimische Produkte und Dienstleistungen setzt, unterstütze ich, auch wenn ich regionale Kreisläufe gerne etwas grösser denk, als nur innerhalb der Kantonsgrenzen.', 'Trotzdem hat das Postulat mein Ja als Grünliberaler.', 'Besten Dank.', 'Herr Präsident, geschätzte Kolleginnen und Kollegen.', 'Ich möchte gerne zum Votum von Kantonsrat Martin Brun ein paar Worte sagen.', 'Es ist so, die verstärkte Nutzung der lokal verfügbaren Ressourcen wie Holz, Kies, Stein, ist tatsächlich auch ein grosses Anliegen der Grünliberalen.', 'Das ist ja das, was das Postulat fordert.', 'Kurze Transportwege, Kantonsrat Django Betschart, hat es gerade gesagt, sind gut für die Umwelt.', 'Es ist gut, wenn wir die heimische und lokale Wirtschaft stärken können.', 'In diesem Sinn, stimme ich in diesem Teil mit der Analyse von Kantonsrat Martin Brun eigentlich einhundert Prozent überein.', 'Ich teile auch die Auffassung, dass der Kanton mit gutem Vorbild bei der Beschaffung von Baustoffen vorangehen soll.', 'Natürlich auch in anderen Bereichen, wenn es darum geht, gute energetische Gebäude zu bauen, oder wenn man zum Beispiel an den Fahrzeugpark des Kantons denkt, wo bezüglich Elektromobilität noch viel Luft nach oben vorhanden wäre.', 'Ich bin auch zuversichtlich, dass der Kanton diesen Spielraum nützt und seine Vorbildfunktion wahrnimmt, nicht nur im Beschaffungswesen.', 'Bei der Forderung, und das ist eben die Forderung dieses Postulats, dass man eine Anpassung des kantonalen Gesetzes prüfen soll, bin ich aber als Liberaler nicht mehr gleicher Meinung wie Kantonsrat Martin Brun.', 'Das öffentliche Beschaffungswesen ist vom Bundesgesetz her relativ stark geregelt, also das BöB, das Binnenmarktgesetz.', 'Das ist gut so, das ist auch gut für unsere Wirtschaft.', 'Kantonale Sonderregelungen führen für die Wirtschaft im sowieso schon komplizierten Beschaffungswesen noch einmal zu einem erheblichen Zusatzaufwand.', 'Deshalb, weil man das eben nicht verordnen kann, Kantonsrat Martin Brun hat die Baukultur angesprochen, ich finde das einen guten Hinweis, aber wir können Baukultur, das ist ein typischer Fall, eben nicht verordnen.', 'Deshalb ist für mich das Postulat abzulehnen.', 'Aber ich bin an diesem Thema interessiert, Kantonsrat Martin Brun.', 'Ich würde Sie gerne einladen, auch zusammen mit anderen, vielleicht Möglichkeiten zu suchen, im Kanton Schwyz den Baustoff Holz tatsächlich zu fördern.', 'Vielleicht braucht es Anpassungen im Baurecht, ich weiss es nicht genau.', 'Man könnte es sich zum Beispiel vorstellen, dass im Rahmen von Gestaltungsplänen gewisse Vorteile gewährt werden, wenn mit Holz gebaut wird.', 'Das wäre vielleicht einmal zu prüfen.', 'Überhaupt denke ich, wir sollten – auch unter dem Stichwort Baukultur – nicht nur an den Staat denken und vom Staat eine Lösung erwarten, dass der Staat hilft und die Baustoffe kauft.', 'Es gibt viele private Bauherren und wir sollten uns vielleicht die Frage stellen, wie können wir Anreize schaffen, dass private Bauherren vermehrt einheimisches Holz, Bauholz nachfragen.', 'Hier wäre sicher ein gewisses Potenzial vorhanden und da helfen wir als Grünliberale gerne mit.', 'Danke.', 'Scherben bringen Glück.', 'Mal schauen, ob das anschliessend auch für die Abstimmung gilt.', 'Scherben bringen Glück.', 'Entschuldigung, dass ich noch einen Schaden angerichtet habe.', 'Ich muss schnell reagieren.', 'Es ist schon eigenartig «Geld zurück in den Kanton Schwyz», die Wertschöpfung hier behalten, von der GLP hoch propagiert, aber das Postulat ist halt nicht ganz so sexy wie die erwähnte Initiative.', 'Daraus resultiert keine Amtsstelle, kein neues Büro, man hat keinen zehn Millionen Franken Topf, den man verteilen kann.', 'Meine Damen und Herren, das ist halt nicht so sexy.', 'Ich verstehe, dass dies nicht allen Orts unterstützt wird.', 'Ich komme auf die Baukultur zurück.', 'Was war beim Bauen in früheren Zeiten die Herausforderung?', 'Die Ware an den Bestimmungsort zu schaffen.', 'Es kam niemandem in den Sinn, das benötigte Holz in Hinter-Ost-Bosnien zu schlagen und dieses dann mühsam in unsere Gefilde zu transportieren.', 'Man die Tannen möglichst nah gefällt.', 'Weshalb?', 'Jeder Meter, den man eine Tanne über den Boden zerren musste, war einfach einen Meter zu viel.', 'Dies gab eine Baukultur, meine Damen und Herren, ganz automatisch.', 'Man hat die vor Ort vorhandenen Steine verwendet.', 'Im Tessin findet man Steinhäuser.', 'Im Bündnerland auch, weil es dort mehr Steine als Holz gab.', 'So ergab sich allen Orts automatisch eine Regionalität.', 'Wenn wir die vor Ort vorhandenen Baumaterialien verwenden, dann müssen wir auch keine speziellen Vorschriften, wie gebaut werden muss.', 'Ich stimme Kantonsrat', 'Doktor Rudolf Bopp sogar zu.', 'Man müsste vielleicht einmal den Hochschulen, die wir ja auch finanzieren, sagen, dass man eventuell bei der Architektenausbildung darauf hinweist, örtlich vorhandene Materialien zu verwenden.', 'Damit würde auch eine Baukultur entstehen.', 'Danke', 'vielmals für die Unterstützung des Postulats.', 'Geschätzte Kantonsratsinnen und Kantonsräte, ich möchte Sie daran erinnern, dass es unüblich ist, zwei Mal zum Gleichen zu sprechen, ausser man werde persönlich angegriffen.', 'Bitte behalten Sie dies im Kopf.', 'Es ist heute schon das zweite Mal, dass jemand zwei Mal zum Gleichen gesprochen hat.', 'Das Wort ist frei.', 'Eigentlich wollte ich zu diesem Thema gar nichts sagen, aber der gute, geschätzte Kantonsrat Martin Brun hat mich schon ein bisschen provoziert.', 'Ich habe grosses Verständnis für die Unterstützung der hiesigen Wirtschaft.', 'Ich habe auch grosses Verständnis gegen einen Kampf, gegen Dumpingpreise, weiss der Teufel, was alles.', 'Aber ich habe kein Verständnis für Forderungen, für Schutzmassnahmen gegenüber ausserkantonaler Konkurrenz.', 'Das ist absolut unliberal und wäre absolut der helle Wahnsinn.', 'Stellen Sie sich vor, was dabei herauskommen würde, wenn wir dies tun würden.', 'Wir hätten schlechte Beziehungen mit unseren Nachbarkantonen, wir würden mit Garantie Retorsionsmassnahmen provozieren.', 'Wir sind sicherlich ein NFA zahlender Kanton, der nicht nur dank des hervorragend sparsamen Umgangs mit den eigenen Finanzen zu einem NFA Zahler wurde, sondern auch dank der Nähe zu den grossen Wirtschaftsregionen Luzern, Zug und Zürich.', 'Wir würden nur eine negative Stimmung schaffen.', 'Ganz wichtig ist zu schauen, um welche Wirtschaftsräume es sich handelt.', 'Wir können doch nicht sagen, wir schützen nur in die Innerschwyz, lassen zwar etwas aus der Ausserschwyz zu, aber nichts aus den je nach Ort näher gelegenen Regionen Zug oder Luzern.', 'Das macht ja überhaupt keinen Sinn.', 'Deshalb ist meines Erachtens der in Betracht fallende Wirtschaftsraum die ganze Schweiz.', 'Wir können nicht innerhalb der Schweiz beginnen, zusätzliche Grenzen aufzubauen.', 'Infolgedessen ist das Postulat meines Erachtens leider abzulehnen.', 'Die vorhin von den Grünliberalen vorgebrachten Ideen bezüglich des Einbaus von Submissionskriterien sind zu begrüssen, aber dies wird im automatischen Gesetzgebungsprozess wahrscheinlich getan.', 'Vielen Dank.', 'Das Wort ist frei für weitere Wortmeldungen aus dem Rat.', 'Diese haben sich erschöpft.', 'Dann wollen wir nun schauen, wie sich der Glasbruch auswirkt.', 'Wir kommen zur Abstimmung über das Postulat P sechs/zwanzig.', 'Der Regierungsrat beantragt Ihnen, dieses erheblich zu erklären.', 'Es gibt aber Fraktionen und Votanten, die das Postulat P sechs/zwanzig nicht erheblich erklären wollen.', 'Geschätzter Präsident, geschätzte Damen und Herren.', 'Ich versuche mich, aufgrund der fortgeschrittenen Zeit kurz zu halten.', 'Der Regierungsrat beantragt dem Kantonsrat eine Ausgabenbewilligung im Umfang von elf.neunhunderteins Millionen Franken für den Ersatz- und Erweiterungsausbau des Wohnheims mit Beschäftigung der Stiftung Phönix.', 'Gemäss dem Gesetz über soziale Einrichtung des Kantons Schwyz vom achtundzwanzigster März zweitausendsieben ist der Kanton zuständig, für die Errichtung aber auch für den Betrieb von Einrichtungen für Menschen mit einer Behinderung.', 'Hierzu hat der Kanton mit verschiedenen Institutionen Leistungsvereinbarungen abgeschlossen.', 'Als grösste und wohl bekannteste Institutionen sind sicherlich die BSZ-Stiftung oder eben auch die Stiftung Phönix zu nennen.', 'Vergleichbare Verträge mit Leistungsvereinbarungen werden auch zum Beispiel von Gemeinden vereinbart, die Leistungsvereinbarungen mit Alters- und Wohnheimen abschliessen.', 'Diese sind in etwa vergleichbar.', 'Die Stiftung Phönix ist einer dieser Leistungserbringer, der sich um Menschen mit Behinderungen kümmert.', 'Das derzeit bestehende Wohnheim Flora in Einsiedeln ist eine neben weiteren Einrichtungen in Buttikon und in Seewen, welche die Stiftung Phönix betreibt.', 'Das Wohnheim Flora ist inzwischen einhundertsechzig Jahre alt und in keiner Weise mehr für die Weiterführung des Betriebs geeignet.', 'Der Planung eines Neubaus ging ein langer Weg voraus.', 'Der Planungsprozess wurde von der Stiftung Phönix als Bauherrin vorangetrieben, jedoch seit Beginn vom Kanton eng begleitet.', 'Das Neubauprojekt soll auf dem sogenannten Gotthardstallareal realisiert werden, das dem Bezirk Einsiedeln gehört und im Baurecht der Stiftung abgegeben wird.', 'Das Einsiedler Stimmvolk hat dem Baurechtsvertrag im Zuge einer Initiative im Jahr zweitausendsiebzehn deutlich zugestimmt.', 'Ich möchte an dieser Stelle nicht vertiefter auf das Projekt eingehen.', 'Die Baupläne wurden in der Kommission detailliert erläutert und sind auch schlüssig.', 'Das Neubauprojekt wird im zugrundeliegenden RRB Nr. neunhundertvierzig/zweitausendzwanzig ausführlich beschrieben.', 'Um den aktuellen Bedarf an Unterbringungsplätzen gewährleisten zu können, sollen die vorhanden zwanzig Plätze im alten Wohnheim auf dreißig neue Plätze erweitert werden.', 'Der Bedarf für diese Erhöhung wurde der Kommission klar ausgewiesen.', 'Die Finanzierung respektive die Kostenübernahme durch den Kanton, wie vorhin bereits dargelegt, ist gesetzlich klar geregelt und unbestritten.', 'Der Kantonsbeitrag wurde nach den Baurichtlinien festgelegt.', 'So sind zusätzliche Wünsche der Stiftung Phönix selber zu tragen und werden nicht vom Kanton übernommen, zum Beispiel zusätzliche, nicht von den Baurichtlinien vorgegebene Tiefgaragenplätze werden durch die Stiftung Phönix übernommen und nicht durch den Kanton finanziert.', 'Speziell an dieser Ausgabenbewilligung ist jedoch, dass der Kanton nicht als Bauherr auftritt, sondern die Stiftung Phönix das Bauprojekt realisiert und der Kanton nur Hauptträger der Kosten ist.', 'Die Zuständigkeiten sind jedoch klar geregelt.', 'So liegt es nicht mehr beim Kanton, bei der Ausführung massgebend mitbestimmen zu können, jedoch ist die Stiftung Phönix verpflichtet, dem kantonalen Hochbauamt bei Kostenabweichungen Bericht zu erstatten.', 'Die ausgewiesenen Reserven im Kostenvoranschlag dürfen somit nur beansprucht werden, wenn der Kanton sein Einverständnis gibt.', 'Die Kommission für Bauten, Strassen und Anlagen hat das Geschäft an ihrer Sitzung vom einundzwanzigster Januar zweitausendeinundzwanzig vorberaten und beantragt Ihnen, der Ausgabenbewilligung im Umfang von elf.neunhunderteins Millionen Franken zuzustimmen.', 'Das Projekt hat uns als vorberatende Kommission überzeugt und wir sind der Meinung, mit dem vorliegenden Neubau einen wichtigen Beitrag für die Betreuung von Menschen mit einer Beeinträchtigung leisten zu können.', 'Ich bedanke mich bei LS André Rüegsegger und LA Petra Steimen-Rickenbacher für die Vorberatung und die interessanten Ausführungen, Departementssekretär Norbert Mettler, Roland Wespi, Vorsteher des Amtes für Gesundheit und Soziales, und Christoph Dettling vom Amt für Hochbau für die Vorstellung des Projekts.', 'Ebenfalls herzlichen Dank Gabriela Stössel für das Protokoll und meinen Kommissionsmitgliedern für die angeregten Diskussionen.', 'Sehr geehrter Herr Präsident, sehr geehrte Damen und Herren.', 'Die Stiftung Phönix bietet im Auftrag des Kantons Schwyz beeinträchtigten Menschen', 'Wohnen und Beschäftigung an.', 'Gemäss dem Gesetz über soziale Einrichtung des Kantons Schwyz muss der Kanton Kostenbeiträge an Wohnheime für behinderte Menschen leisten.', 'Menschen mit einer psychischen Beeinträchtigung gehören auch dazu.', 'Seit fast dreißig Jahren besteht das Wohnheim Flora in Einsiedeln, später kam noch das Haus Sonneck dazu.', 'Im Moment hat es für zwanzig psychisch beeinträchtigte Personen Platz.', 'Die Gebäude sind veraltet und entsprechen nicht mehr den heutigen und den zukünftigen Anforderungen bzw. Sicherheitsanforderungen.', 'In enger Zusammenarbeit zwischen der Stiftung Phönix und dem Kanton Schwyz wird nun auf dem Nachbargrundstück ein Neu- und Erweiterungsbau für elf.neun Millionen Franken geplant.', 'Kein Luxusbau, sondern ein Bau, der den heutigen Anforderungen und den Bedürfnissen der psychisch beeinträchtigten Bewohnern entspricht.', 'Am achtundzwanzigster Februar zweitausendsechzehn hat das Stimmvolk von Einsiedeln mit siebenundsechzig Prozent zugestimmt, dass der Bezirk das Grundstück Gotthardareal an die Stiftung Phönix im Baurecht abgibt.', 'Der Standort ist ideal.', 'Die Menschen, die dort zuhause sind, sind in ein paar Minuten in der Dorfmitte, können zu Fuss zum Doktor, etwas einkaufen gehen, sie sind auch in ein paar Minuten beim Bahnhof oder können am täglichen Geschehen im Dorf teilnehmen.', 'Sie sind mitten drin und nicht am Rand.', 'Der Standort hat noch einen weiteren Vorteil.', 'Es braucht keine Zwischenlösung.', 'Wenn es soweit ist, kann man einfach über die Strasse in den Neubau umziehen.', 'Im Neubau werden dreißig Wohnplätze für Klienten geschaffen, für Menschen mit einer psychischen Beeinträchtigung.', 'Diese Beeinträchtigung sieht man diesen Menschen vielfach gar nicht an.', 'Vom achtzehnter Lebensjahr bis zum fünfundsechzig.', 'Lebensjahr können Frauen und Männer in ein Wohnheim der Stiftung Phönix eintreten.', 'Sie dürfen dort auch nach Vollendung des fünfundsechzig.', 'Altersjahres bleiben.', 'In den Altersheimen ist die Betreuung für psychisch Kranke nicht immer gewährleistet.', 'Viele dieser Menschen leben dauernd oder auch lange Zeit in den Wohnheimen.', 'Im Flora in Einsiedeln hat es Leute, die seit Beginn dort wohnen.', 'Diese Menschen gehen nicht aus Freude in ein Wohnheim, Angst und Ungewissheit begleiten sie.', 'Für viele wird es aber zu einem neuen Zuhause, wo sie sich wohlfühlen können, eine neue Tagesstruktur haben, nicht überfordert werden und auch die richtige Betreuung gewährleistet ist.', 'Es gibt noch einen weiteren Punkt, die Familie im Hintergrund.', 'Wie manche Mutter, mancher Vater, mancher Mann, manche Frau oder manches Kind sind dankbar, wenn sie wissen, dass ihr psychisch krankes Familienmitglied an einem schönen Ort zuhause ist, wo gut zu ihm geschaut wird.', 'Wir haben es in der Hand, mit einem Ja zur Kostengutsprache von elf.neun Millionen Franken für den Ersatz- und Erweiterungsbau, sagen wir auch Ja zu zehn neuen Wohnplätzen, zu drei neuen einhundert Prozent Arbeitsstellen sowie zu einem guten Beitrag für die Wirtschaft.', 'Die CVP-Fraktion ist einstimmig dafür, dass der Beitrag von elf.neun Millionen Franken gesprochen wird.', 'Ich danke für die Aufmerksamkeit.', 'Herr Präsident, meine Damen und Herren.', 'Ich spreche für die FDP-Fraktion.', 'Meine Vorrednerin und der Kommissionspräsident haben das Geschäft ausgiebig erörtert.', 'Ich darf mich kurzfassen.', 'Die FDP-Fraktion unterstützt den Ersatz- und Erweiterungsbau des Wohnheims der Stiftung Phönix in Einsiedeln ebenfalls geschlossen und wird die Ausgabenbewilligung in der Höhe von elf.neunhunderteins Millionen Franken einstimmig annehmen.', 'Danke vielmals.', 'Geschätzter Präsident, geschätzte Damen und Herren.', 'Ich fasse mich wie mein Vorredner auch kurz.', 'Ich gehe deshalb auf die gesetzliche Verpflichtung des Kantons und auf die Stiftung Phönix nicht weiter ein.', 'Zum Neubauprojekt: Dieses entspricht den Vorgaben und erfüllt die Anforderungen, um den Bedürfnissen von Menschen mit einer Invalidität gerecht zu werden.', 'Deshalb bitte ich Sie, meine Damen und Herren, dem Antrag der Regierung zu folgen und der Ausgabenbewilligung zuzustimmen.', 'Besten Dank für Ihre Aufmerksamkeit.', 'Geschätzter Präsident, geschätzte Kantonsrätinnen und Kantonsräte.', 'Die SVP-Fraktion hat die Grundlagen und die Ausführungen der Regierung zur Ausgabenbewilligung für das Projekt der Stiftung Phönix in Einsiedeln diskutiert.', 'Die Ausgangslage basiert auf einem gesetzlichen Auftrag.', 'Demzufolge muss jeder Kanton gewährleisten, dass invaliden Personen, die Wohnsitz in seinem Gebiet haben, ein Angebot an Institutionen zur Verfügung steht, das ihren Bedürfnissen in angemessener Weise entspricht.', 'Die Stiftung Phönix ist eine angerkannte Institution für die Betreuung von psychisch kranken Personen.', 'Sie betreibt ja bereits heute das Wohnheim Flora in Einsiedeln.', 'Die Gebäude in Einsiedeln entsprechen aktuell nicht mehr den heutigen Anforderungen, vor allem mit Blick auf die Sicherheitstechnik, die Behindertengerechtigkeit und das Raumprogramm für die heutigen therapeutischen Notwendigkeiten.', 'Es hat sich die Möglichkeit ergeben, in unmittelbarer Nähe das Grundstück Gotthardareal des Bezirks Einsiedeln im Baurecht zu erwerben.', 'Dies wurde ja bereits vom Einsiedler Stimmvolk gutgeheissen.', 'Nach dem erfolgten Architekturwettbewerb und der weiteren Bearbeitung des Siegerprojekts haben sich Gesamtkosten von zwölf.dreiundsiebzig Millionen Franken ergeben.', 'Daraus resultiert jetzt der Kantonsbeitrag von elf.neun Millionen Franken.', 'Dieser ist als Maximalwert zu verstehen.', 'Die Berechnung und die Beantragung dieses Betrags begründet sich auf dem gesetzlichen Leistungsauftrag, der vom Kantonsrat zu bewilligen ist.', 'Das ganze Projekt wurde mit einem fundierten Nachweis des Bedarfs an solchen Heimplätzen erstellt.', 'Ebenfalls wird die projektierte Raumorganisation den heutigen Richtlinien und therapeutischen Anforderungen gerecht.', 'Aufgrund des gesetzlichen Leistungsauftrags für Menschen mit Behinderung unterstützt die SVP-Fraktion grossmehrheitlich diese Ausgabenbewilligung.', 'Besten Dank für Ihre Unterstützung.', 'Herr Präsident, meine Damen und Herren.', 'Es ist zwölf.null Uhr vorbei, wir sind bei Traktandum vier, ich fasse mich kurz.', 'Die Grünliberalen erachten den Ersatz des Erweiterungsbaus des Wohnheims der Stiftung Phönix in Einsiedeln als sinnvoll und notwendig.', 'Die beiden alten Gebäude Flora und Sonneck entsprechen nicht mehr den heutigen wie auch zukünftigen baulichen Anforderungen und dem notwendigen Sicherheitsstandard eines modernen Wohnheims.', 'Das vorgelegte Projekt und die Argumente für eine zusätzliche Erweiterung von zwanzig auf dreißig Wohnheimplätze überzeugen uns.', 'Deshalb unterstützt die GLP-Faktion die Ausgabenbewilligung gemäss Regierungsratsbeschluss einstimmig.', 'Danke vielmals.', 'Auch ich werde es kurz machen.', 'Ich möchte gerne die Aufmerksamkeit auf einen bestimmten Aspekt dieser Ausgabenbewilligung richten.', 'Die Stiftung Phönix ist ein Aushängeschild für unseren Kanton.', 'Sie zeigt erstens, dass bei uns der Mensch im Mittelpunkt steht, und zweitens, dass aufgrund einer persönlichen Initiative ein grosses Werk geschaffen werden kann, das bereits dreißig Jahre überdauert und die Lebensqualität in unserem Kanton entscheidend verbessert.', 'Ich nenne drei Namen: Franz Kälin, Einsiedeln, Richard Schibli, Lachen, Urs Gössi, Rickenbach.', 'Das sind jene drei Personen, die einmal gesagt haben:', 'Wir brauchen etwas in diesem Kanton, wir haben nichts.', 'Menschen mit Beeinträchtigungen nach Zug zu schicken, verursacht viel zu hohe Kosten.', 'Realisieren wir selber etwas, packen wir es an.', 'Sie haben es getan.', 'Heute nach dreißig Jahren kann der Kantonsrat zugunsten dieser Stiftung Phönix eine Ausgabe bewilligen, die weiterhin ihren Bestand sichert.', 'Für mich steigert dies die Lebensqualität in diesem Kanton enorm, denn wir sind gefordert, mit solchen Leuten zusammenzuleben.', 'Wir sehen sie täglich auf der Strasse, wir treten mit ihnen in Interaktion, wir leben mit ihnen zusammen.', 'Dies ist für mich ein entscheidender Faktor für den Slogan:', 'Im Mittelpunkt steht der Mensch im Kanton.', 'Ich bitte Sie, dieser Ausgabenbewilligung zuzustimmen.', 'Dankeschön.', 'Die Wortmeldungen aus dem Rat sind erschöpft, das Wort hat unsere Frau Landammann.', 'Herr Präsident, meine Damen und Herren.', 'Das Wichtigste vorab, der Regierungsrat steht vollumfänglich hinter diesem Projekt, dies sowohl in inhaltlicher wie auch in baulicher Hinsicht.', 'Übrigens schliesse ich mich dem Dank meines Vorredners an die betroffenen Personen gerne an.', 'Die Ausführungen zu diesem Projekt haben Sie vom Kommissionspräsidenten und auch von den Fraktionssprechenden gehört.', 'Ich bedanke mich ganz herzlich für die grosse Unterstützung, vor allem auch im Namen der betroffenen Personen.', 'Herzlichen Dank.', 'Das Eintreten ist unbestritten.', 'Wir kommen zur Detailberatung.', 'Ich bitte den Staatsschreiber, den Kantonsratsbeschluss vorzulesen.', 'Kantonsratsbeschluss über eine Ausgabenbewilligung für den Ersatz- und Erweiterungsbau des Wohnheims mit Beschäftigung der Stiftung Phönix', 'Der Kantonsrat des Kantons Schwyz, gestützt auf Paragraph siebzehn des Gesetzes über soziale Einrichtungen vom achtundzwanzigster März zweitausendsieben, nach Einsicht in Bericht und Vorlage des Regierungsrates, beschliesst:', 'Dem Regierungsrat wird für den Ersatz- und Erweiterungsbau des Wohnheims mit Beschäftigung für Menschen mit Behinderung der Stiftung Phönix Schwyz in Einsiedeln eine Ausgabenbewilligung von elf.neunhunderteins Millionen Franken eingeräumt.', 'Die Ausgabenbewilligung basiert auf dem Zürcher Index der Wohnbaupreise von einhunderteins.eins Punkten vom erster April zweitausendzwanzig (Basis erster April zweitausendsiebzehn = einhundert Punkte).', 'Sie erhöht oder vermindert sich um allfällige teuerungsbedingte Mehr- oder Minderkosten.', 'Dieser Beschluss unterliegt dem Referendum gemäss', 'Paragraph vierunddreißig oder fünfunddreißig der Kantonsverfassung.', 'Der Regierungsrat wird mit dem Vollzug beauftragt.', 'Gibt es noch Wortmeldungen?', 'Das scheint nicht der Fall zu sein.', 'Dann kommen wir zur Schlussabstimmung.', 'Ich weise Sie daraufhin, dass dieser Beschluss der Ausgabenbremse unterliegt, sprich wir brauchen sechzig Stimmen, damit das Geschäft zustande kommt.', 'Es ist jetzt zwölf.zehn Uhr.', 'Wir haben auf der Einladung mitgeteilt, dass die Sitzung längstens bis zwölf.dreißig Uhr dauert.', 'Ich will versuchen, das Gesetzgebungsprogramm fertig beraten zu lassen.', 'Das Eintretensreferat hält die Frau Landammann.', 'Herr Präsident, meine Damen und Herren.', 'Der Regierungsrat legt Ihnen das Gesetzgebungsprogramm zweitausendeinundzwanzig–zweitausendzweiundzwanzig zur Beschlussfassung vor und erstattet gleichzeitig Bericht über den Vollzug des Gesetzgebungsprogramms zweitausendneunzehn–zweitausendzwanzig.', 'Zum Gesetzgebungsprogramm zweitausendneunzehn–zweitausendzwanzig zieht der Regierungsrat eine positive Bilanz.', 'Von den neunzehn Gesetzgebungsvorhaben sind dreizehn erfolgreich umgesetzt, sechs sind noch in Arbeit.', 'Erfolgreich umgesetzt wurde die Teilrevision des Steuergesetzes mit der Überführung des Bundesgesetzes über die Steuerreform und die AHVFinanzierung, besser bekannt unter der Abkürzung STAF.', 'Damit wurden attraktive steuerliche Rahmenbedingungen für die juristischen Personen im Kanton Schwyz geschaffen.', 'Mit der Teilrevision des Gesetzes über die Öffentlichkeit der Verwaltung und den Datenschutz sind die Rechte der betroffenen Personen gestärkt und einen zeitgemässen Datenschutz verankert worden.', 'Angeregt durch eine Motion haben wir das Waldgesetz revidiert.', 'Seit Juli zweitausendzwanzig besteht eine rechtliche Grundlage, dass der Kanton bei der Waldbewirtschaftung Aufgaben an die Forstbetriebe delegieren kann.', 'Am erster Januar zweitausendeinundzwanzig ist das Polizeigesetz in Kraft getreten, damit wurde das Bedrohungsmanagement eingeführt, was die Schutzmassnahmen im Bereich häuslicher Gewalt verbessert und die polizeilichen Überwachungsmassnahmen klar regelt.', 'Ebenfalls angeregt durch den Kantonsrat wurde das Volksschulgesetz geändert und der Stichtag für die Einschulung um zwei Monate vorverlegt, die Erziehungsberechtigten haben jetzt auch ein unbürokratisches Mitspracherecht.', 'Einige Gesetzgebungsvorhaben konnten noch nicht abgeschlossen werden.', 'Die Arbeiten am Personal- und Besoldungsgesetz sind aber soweit fortgeschritten, dass noch in diesem Jahr die Vernehmlassung durchgeführt werden kann.', 'Das Gleiche gilt auch für das Planungs- und Baugesetz.', 'Beim Gesetz über die Interkantonale Vereinbarung über das öffentliche Beschaffungswesen ist die Vernehmlassung abgeschlossen und der Kantonsrat kann noch in diesem Jahr darüber beraten.', 'Beim Gesetz über den Bevölkerungsschutz mussten die Änderungen des Bundesgesetzes abgewartet werden.', 'Dieses ist seit erster Januar zweitausendeinundzwanzig in Kraft, so dass die Arbeiten für den kantonalen Vollzug aufgenommen werden können.', 'So viel zur Bilanz und jetzt ein Blick in die Zukunft.', 'Der Regierungsrat plant achtzehn Gesetzgebungen.', 'Acht werden wegen Änderungen des Bundesrechts oder anderen übergeordneten Vorgaben notwendig, mehrere Revisionen werden notwendig, weil sich die Lage geändert hat, so zum Beispiel beim Pensionskassengesetz.', 'Bei neun Vorlagen wurde eine Revision mittels erheblich erklärtem Vorstoss aus den Reihen des Kantonsrates angeregt.', 'Der Regierungsrat wird Ihnen also einen Neuerlass, vier Totalrevisionen und dreizehn Teilrevisionen unterbreiten.', 'Das Bundesgericht hat bei seiner abstrakten Normenkontrolle den Paragraphen über die anonymen Spenden im Transparenzgesetz beanstandet, deshalb wird der Regierungsrat dem Kantonsrat eine rechtskonforme Regelung unterbreiten.', 'Mit einer Teilrevision des Pensionskassengesetzes soll die finanzielle Stabilität der Pensionskasse auch bei steigender Lebenserwartung und tiefem Zinsumfeld gewährleistet werden.', 'Auch die Revision des Personalund Besoldungsgesetzes wird angegangen.', 'Wegen den neuen Ordnungsbussentatbeständen im Bundesrecht wird eine Teilrevision des kantonalen Ordnungsbussengesetzes notwendig.', 'In einer der nächsten Kantonsratssitzungen werden Sie die Teilrevision des Gesetzes über die Ergänzungsleistungen zur AHV/IV beraten.', 'Die Revision des Gesetzes über die Inkassohilfe und die Bevorschussung von Unterhaltsbeiträgen für Kinder ist in der Vernehmlassung.', 'Und mit einer Änderung des Gesetzes über soziale Einrichtungen sollen die Kosten von angeordneten Massnahmen der KESB neu vom Kanton und den betroffenen Gemeinden zu gleichen Teilen getragen werden.', 'Auch das Strassengesetz soll teilrevidiert werden, so werden Zubringerstrassen zu Autobahnanschlüssen neu als Hauptstrassen qualifiziert und ein allfälliger Anpassungsbedarf aus der Überprüfung des Haupt- und Verbindungsstrassennetzes berücksichtigt.', 'Mit der Revision des Volksschulgesetzes und des Personalund Besoldungsgesetzes für Lehrpersonen werden notwendige Aktualisierungen im Volksschulwesen vorgenommen.', 'Die Vernehmlassung zur Teilrevision des Mittelschulgesetzes ist abgeschlossen.', 'Schliesslich wird auch das Umweltschutzgesetz und das Jagd- und Wildschutzgesetz aufgrund von erheblich erklärten Vorstössen revidiert.', 'Wie schon im vergangen Gesetzgebungsprogramm beschrieben, sind das Gesetz über den Bevölkerungsschutz und den Zivilschutz, das Planungs- und Baugesetz sowie die Interkantonale Vereinbarung über das öffentliche Beschaffungswesen auch im neuen Gesetzgebungsprogramm enthalten.', 'Der Regierungsrat unterbreitet Ihnen also ein Gesetzgebungsprogramm, das auf das Regierungsprogramm abgestimmt ist, das die von Ihnen erheblich erklärten parlamentarischen Vorstösse umsetzt, das gezielte Änderungen mit Augenmass vorsieht und nicht zur Überregulierung beiträgt.', 'Es bringt Verbesserungen für die Bevölkerung, die Gemeinden und die verschiedenen Anspruchsgruppen im Kanton.', 'Der Regierungsrat beantragt Ihnen, das Gesetzgebungsprogramm zweitausendeinundzwanzig–zweitausendzweiundzwanzig zu genehmigen.', 'Besten Dank.', 'Herr Präsident, geschätzte Damen und Herren.', 'Das vorliegende Gesetzgebungsprogramm der Regierung ist der Fahrplan für die Jahre zweitausendeinundzwanzig–zweitausendzweiundzwanzig, welche kantonalen Gesetze behandelt werden sollen.', 'Vorweg, diese Vorlage verursacht gemäss', 'Bericht keine unmittelbaren Kosten.', 'Diese Aussage lasse ich hier mit einem Fragezeichen unkommentiert stehen.', 'Zum Rückblick: Wenn man gemäss Bericht zurückblickt, wurden aus welchen Gründen auch immer ein paar Gesetzesvorlagen noch nicht ganz abgeschlossen, die geplant gewesen waren.', 'Das können wir positiv oder negativ beurteilen.', 'Aber aus freiheitlicher Sicht ist jedes Gesetz weniger eben auch ein gutes Gesetz.', 'Zum Vorausblick:', 'Gemäss Bericht gibt es in der nächsten Zeit einige interessante Gesetze zu behandeln.', 'Ich möchte hier ein paar wenige Gesetz herausgreifen und besonders erwähnen.', 'So sind für das zweite Quartal aufgeführt:', 'Mittelschulgesetz, Stichwort ist hier sicher die Zusammenlegung des Theresianums Ingenbohl mit dem Kollegium Schwyz;', 'Personal- und Besoldungsgesetz für Lehrpersonen, Stichwort ist gleicher Lohn für Kindergartenlehrpersonen und Primarschullehrpersonen, konkret geht es um die Anhebung des Lohns der Kindergartenlehrpersonen.', 'Im vierten Quartal ist unter anderem das Transparenzgesetz auf der Tagesordnung, hierbei geht es um die anonymen Spenden an die Politik und die Parteien.', 'Es warten also noch viele kontroverse Themen und wahrscheinlich noch manche Diskussion dazu auf uns.', 'Lange Rede, kurzes Fazit:', 'Die SVP-Fraktion nimmt das vorliegende Gesetzgebungsprogramm zur Kenntnis und wird diesem zustimmen.', 'Danke für Ihre Aufmerksamkeit.', 'Geschätzter Herr Präsident, geschätzte Kolleginnen und Kollegen.', 'Auch die GLP wird dem Gesetzgebungsprogramm zustimmen.', 'Ich habe aber zwei Bemerkungen:', 'Die erste betrifft das Transparenzgesetz.', 'Wir sind erstaunt, dass dieses Gesetz erst im letzten Quartal dieses Jahres behandelt werden soll.', 'Es gilt ja, immerhin einen Volksentscheid umzusetzen.', 'Ich glaube, dies verdient eine hohe Priorität, da sind wir uns wahrscheinlich einig.', 'Das Bundesgericht hat bereits im letzten Oktober schon entschieden.', 'Es geht eigentlich nur noch um die kleine Frage der anonymen Spenden, diese zwar schon auch Diskussionen geben wird.', 'Ich staune deswegen, dass die entsprechende Vorlage so spät kommt.', 'Der zweite Punkt, auf den ich hinweisen möchte, betrifft eine Motion, die mir fehlt.', 'Die Frau Landammann hat vorhin erwähnt, dass das Gesetzgebungsprogramm alle Vorstösse umfassen und umsetzen soll, die erheblich erklärt wurden.', 'Wenn man im vorliegenden Gesetzgebungsprogramm auf Seite acht nachschaut, dann steht dort, dass die Vorstösse mindestens so weit bearbeitet werden sollen, dass innerhalb des Planungszeitraums, also bis Ende zweitausendzweiundzwanzig, ein Vernehmlassungsverfahren eröffnet werden kann.', 'Was uns in diesem Sinn fehlt oder mir fehlt, ist die Motion M achtzehn/neunzehn.', 'Bei dieser geht es um den Langsamverkehr und zwar um die Finanzierung des Langsamverkehrs.', 'Die Motion wurde im Juni des letzten Jahres erheblich erklärt und müsste also in diesem Planungszeitraum eigentlich umgesetzt werden.', 'Wir finden im Gesetzgebungsprogramm keinen Hinweis, dass das tatsächlich der Fall ist bzw. gemacht werden soll.', 'Es erstaunt umso mehr, dass es Ende des vierten Quartals zweitausendeinundzwanzig eine Anpassung des Strassengesetzes geben soll, bei der es auch um die Finanzierung der Strassen geht.', 'Dort geht es um eine einfachere, kostenadäquatere und transparentere Regelung in Bezug auf die Finanzierung der Strassen.', 'Gegenstand ist das Kantonsstrassennetz, es gibt sehr starke Überschneidungen, weswegen es schwer verständlich ist, dass das eine getan werden soll und das andere nicht.', 'Ich habe beim Baudirektor rückgefragt.', 'Er hat mir erklärt, dass die Regierung mit der Langsamverkehrsgeschichte warten möchte, bis das nationale Veloweggesetz in Kraft getreten ist.', 'Dieses wurde im Herbst zweitausendachtzehn vom Volk angenommen.', 'Die Vernehmlassung wurde im letzten September abgeschlossen, das Veloweggesetz kommt demnächst auf Bundesebene ins Parlament.', 'Die Aussage des Baudirektors lautet, dass es nicht so ganz klar ist, wie man die Langsamverkehrsmotion im Kanton Schwyz umsetzen will, weshalb diese noch nicht im Gesetzgebungsprogramm enthalten ist.', 'Eventuell, meint er, könnte es dann auch sein, dass es ein neues Veloweggesetz gibt.', 'Allerdings findet man ein solches im Gesetzgebungsprogramm natürlich auch nicht.', 'Für mich folgt daraus, dass wir einfordern sollten, dass das Veloweggesetz oder zumindest eine weitere Teilrevision des Strassengesetzes ins Gesetzgebungsprogramm zweitausendeinundzwanzig–zweitausendzweiundzwanzig aufgenommen wird, damit, wie die Frau Landammann gesagt hat, die erheblich erklärten Vorstösse auch wirklich umgesetzt werden.', 'Wenn wir das nicht tun, riskieren wir, dass weitere Jahre ins Land gehen, ohne dass beim Langsamverkehr etwas vorwärtsgeht.', 'Ich stelle in diesem Sinn gestützt auf Paragraph einundsechzig Absatz vier der Geschäftsordnung des Kantonsrates, wo steht, dass wir mit der Beschlussfassung zum Gesetzgebungsprogramm Änderungen, Ergänzungen oder Streichungen beantragen können, einen Antrag.', 'Staatsschreiber Doktor Mathias E. Brun und ich sind uns nicht ganz einig, ob das geht oder nicht.', 'Für mich ist der Wortlaut:', 'Mit der Beschlussfassung können Änderungen, Ergänzungen oder Streichungen beantragt werden, eigentlich klar.', 'Mein Antrag lautet in diesem Sinn wie folgt:', 'Im Gesetzgebungsprogramm ist ein weiteres Vorhaben aufzunehmen, welches die zeitgerechte Umsetzung der Motion M achtzehn/neunzehn garantiert.', 'Dies kann im Rahmen einer Teilrevision des Strassengesetzes oder durch ein eigenes Langsamverkehrsgesetz erfolgen.', 'Ich nehme an, der Staatsschreiber wird jetzt etwas dazu sagen.', 'Wenn der Antrag möglich ist, bitte ich Sie, diesen zu unterstützen.', 'Dankeschön.', 'Sehr geehrter Herr Präsident, geschätzte Kolleginnen und Kollegen.', 'Genau wie in den letzten Jahren verdeutlicht das Gesetzgebungsprogramm, wie klein der aktive Gestaltungswille der Regierung ist.', 'vierzehn der achtzehn geplanten Vorlagen, das sindachtundsiebzig Prozent, sind eine Reaktion auf übergeordnetes Recht oder eine Reaktion auf parlamentarische Vorstösse.', 'Der Regierungsrat hat also salopp gesagt nur bei einem Fünftel dieses Programms selber die Initiative ergriffen.', 'Dabei gäbe es so viele Handlungsfelder, wo eine aktive Gestaltung der Regierung möglich wäre.', 'Es gibt so viel zu tun:', 'Beim Steuersystem, um das Leben der Menschen mit tiefen Einkommen zu erleichtern, bei den bezahlbaren Kinderbetreuungsangeboten, es gäbe noch ganz viele weitere Beispiele.', 'Aber statt einfach nur das Votum, welches Kantonsrat Thomas Büeler beim letzten Gesetzgebungsprogramm auch schon gehalten hat, weiter zu paraphrasieren:', 'Es hat sich beim Gesetzgebungsprogramm nichts verändert, deshalb das Votum der SP auch nicht.', 'Wir werden das Programm ablehnen, weil es nicht unserer Vorstellung von aktiver Gestaltung entspricht.', 'Uns ist bewusst, dass das Programm natürlich durchkommen wird, deshalb zwei Hinweise, die auch die GLP bereits gemacht hat:', 'Dass die Änderung des Transparenzgesetzes erst Ende Jahr in den Rat kommen soll, ist unverständlich.', 'Der Spielraum ist nach dem Entscheid des Bundesgerichts sehr eng und es ist klar, was man anpassen muss.', 'Damit die Änderung bis zu den Wahlen im Jahr zweitausendzweiundzwanzig umgesetzt sein wird, sollte es nicht bis Ende Jahr dauern.', 'Ausserdem unterstützen wir auch das Anliegen der GLP.', 'Wir werden jetzt hören, ob das ein Antrag sein kann oder einfach ein Hinweis zuhanden der Regierung.', 'Danke vielmals.', 'Das Wort ist frei für weitere Fraktionssprechende.', 'Dies scheint nicht der Fall zu sein.', 'Dann gebe ich das Wort dem Juristen im Regierungsrat, LS André Rüegsegger.', 'Herr Präsident, meine Damen und Herren.', 'Ich spreche nicht primär als Jurist, aber ich kann zum Antrag der Grünliberalen, es geht ja in das gleiche Thema, betreffend Umsetzung der Motion gerne etwas sagen.', 'Ich wurde von Kantonsrat Doktor Rudolf Bopp richtig zitiert.', 'Wir haben schon zwei Mal über dieses Thema gesprochen.', 'Ich habe ihm versucht zu erklären, dass der Fahrplan noch nicht ganz bestimmt ist.', 'Richtig wiedergegeben, wir wissen nicht ganz genau, wann das Bundesgesetz kommt.', 'Das nicht Veloweggesetz des Bundes kommt frühestens im Herbst ins Parlament, in die erste Kammer, frühestens im Winter in die zweite Kammer.', 'Also wird es zweitausendzweiundzwanzig bis das Bundesgesetz beschlossen ist.', 'Ich glaube, es ist nachvollziehbar, dass wir bei dieser neuen Gesetzesmaterie schauen müssen, wie sie der Bund handhabt, welche Vorgaben er macht und welche Funktionen er wahrnimmt.', 'Es handelt sich ein Stück weit um eine Anschlussgesetzgebung.', 'Wenn das Bundesgesetz nach heutigem Fahrplan im Frühling verabschiedet wird, wird es relativ knapp, um bereits zweitausendzweiundzwanzig dem Kantonsrat eine entsprechende Vorlage zu unterbreiten.', 'Die Kästchen, die Sie im Gesetzgebungsprogramm zweitausendeinundzwanzig–zweitausendzweiundzwanzig sehen, beziehen sich, Irrtum vorbehalten, auf den geplanten Zeitpunkt der Beratung im Kantonsrat.', 'Sie sehen, dass der Fahrplan spitz ist.', 'Ich habe aber auch gesagt, wenn es möglich oder sinnvoll ist, könnte man entsprechende Bestimmungen in das Strassengesetz hineinnehmen.', 'Hier sind die Optionen offen.', 'Wenn jetzt Kantonsrat Doktor Rudolf Bopp die explizite Aufnahme eines Veloweggesetzes beantragen will, ist das meines Erachtens ein zulässiger Antrag.', 'Ich bitte Sie aber, diesen abzulehnen, weil man noch, wie gesagt, im Trüben fischt.', 'Es macht keinen Sinn, wenn ich Ihnen aktuell noch nicht einmal sagen kann, ob wir die entsprechenden Velo-Bestimmungen sinnvollerweise ins Strassengesetz hineinnehmen oder ob wir sinnvollerweise ein Langsamverkehrsgesetz ausarbeiten.', 'Abhängig von der Bundesgesetzgebung bitte ich Sie, nicht noch schnell um zwölf.fünfundzwanzig Uhr ein Gesetz ins Gesetzgebungsprogramm zweitausendeinundzwanzig–zweitausendzweiundzwanzig aufzunehmen und damit etwas zu statuieren, was dann vielleicht anders kommt.', 'Aber langer Rede kurzer Sinn:', 'Es handelt sich um ein Programm, ein Gesetzgebungsprogramm, das auch ein Stück weit orientierenden Charakter hat.', 'Wenn wir Gründe dafür haben, können wir diesem auch anderes hinzufügen.', 'Es kann aber auch sein, dass das eine oder andere Gesetz nicht genau in diesem Fahrplan passt, deshalb geben wir ja auch rückblickend Rechenschaft darüber ab, weshalb dies, wenn es eben gute Gründe gibt, nicht der Fall ist.', 'In diesem Sinne würde ich vorschlagen, der Antrag ist zulässig, wenn Sie wirklich darüber abstimmen wollen, dass man ein Veloweggesetz oder was auch immer, ich wüsste noch nicht einmal, wie das Gesetz heissen soll, hinzufügt.', 'Ich möchte Sie aber bitten, diesen Antrag abzulehnen, was nicht heisst, dass wir nicht an der Materie dran sind.', 'Wir konnten auch die Langsamverkehrsstelle, wenn ich das noch informativ anfügen darf, zum Baudepartement nehmen.', 'Wir haben ebenfalls, was wir in der Verwaltung ja gerne tun, Stellen aufgestockt, damit wir diese Materie in Zukunft seriös und noch besser behandeln können.', 'Dem können Sie entnehmen, dass wir nicht nur ankündigen, sondern auch agieren.', 'Aber noch einmal, es sind bei den Velowegen sehr hohe Erwartungen vorhanden.', 'Wenn wir zum ersten Mal mit den Landeigentümern verhandeln und offenlegen, wir möchten querfeldein einen neuen Veloweg bauen, dann beginnen die Schwierigkeiten.', 'Diese dürfen sie nicht unterschätzen.', 'Ich habe den Auftrag erhalten, zum Transparenzgesetz stellvertretend für den Sicherheitsdirektor zu sprechen.', 'Die Umsetzung des Bundesgerichtsurteils befindet sich derzeit im verwaltungsinternen Mitberichtsverfahren.', 'Im Frühling werden wir den Änderungsentwurf in die Vernehmlassung geben, damit Bericht und Vorlage im Verlauf des Herbstes dem Kantonsrat zugeleitet werden können.', 'Sie dürfen die Zeitspanne nicht ganz unterschätzen.', 'Wir haben einen Prozess, den es einzuhalten gilt.', 'Die Beschwerdeführer haben das Transparenzgesetz vor Bundesgericht gezogen und zwei Jahre lang verzögert, nicht der Regierungsrat.', 'Die Beschwerde wurde jetzt in einem untergeordneten Punkt gutgeheissen.', 'Das wird mit einem verwaltungsinternen Mitberichtsverfahren, mit einem Vernehmlassungsverfahren, mit der Kommissionsberatung und dann mit der Beratung im Kantonsrat umgesetzt.', 'Das ganze Prozedere benötigt ein paar Monate, aber wie gesagt, die Änderung des Transparenzgesetzes wird mutmasslich noch dieses Jahr in den Kantonsrat kommen.', 'Besten Dank.', 'Geschätzter Kantonsrat', 'Doktor Rudolf Bopp ich interpretiere Ihren Antrag als Antrag für die Ausarbeitung eines Veloweggesetzes, ist das auch in Ihrem Sinn?', 'Geschätzter Herr Präsident, geschätzte Kolleginnen und Kollegen.', 'Nein, das ist nicht ganz so.', 'Ich versuche, es noch einmal versuchen zu präzisieren.', 'Grundsätzlich geht es um die Motion M achtzehn/neunzehn.', 'In dieser Motion geht es um die Finanzierung.', 'Es geht also noch nicht darum, dass wir jetzt sagen, wo die Velowege gebaut werden sollen, es geht auch noch nicht um Enteignungen und all diese schwierigen Dinge, sondern es geht darum, dass man die Finanzierung dieser Aufgaben, die uns mit dem nationalen Gesetz übertragen werden, im Kanton Schwyz sicherstellen.', 'Das ist eigentlich der Punkt.', 'Der Antrag ist in diesem Sinne auch nicht dahingehend zu verstehen, dass ein neues Veloweggesetz oder so etwas in das Gesetzgebungsprogramm aufgenommen werden soll.', 'Sondern der Antrag lautet, dass in das Gesetzgebungsprogramm ein weiteres Vorhaben aufzunehmen ist, welches die zeitgerechte Umsetzung der Motion M achtzehn/neunzehn garantiert.', 'Das kann durch ein neues Gesetz geschehen, das kann durch eine Teilrevision des Strassengesetzes sein.', 'Dort ist offen, wie das die Regierung nachher umsetzt.', 'Der Antrag lautet, dass die Umsetzung der Motion, bei der es um die Finanzierung geht, ich wiederhole mich, ins Gesetzgebungsprogramm aufgenommen wird.', 'Herr Kantonsrat', 'Doktor Rudolf Bopp manchmal verhalten Sie sich halt schon umständlich.', 'Das muss ich jetzt ganz ehrlich sagen.', 'Wir haben doch noch ein paar andere Themen auf dieser Welt und in diesem Kanton als Ihr Parteiprogramm, damit das vielleicht auch einmal gesagt ist.', 'Ich habe Ihnen gesagt, dass das Bundesgesetz Vorgaben machen, den Rahmen abstecken wird.', 'Wir wissen noch nicht einmal, ob es mit dem Bund und den Kantonen eine Co-Finanzierung gibt.', 'Ergo scheint es doch Sinn zu machen und logisch zu sein, dass wir sagen, wir müssen warten, bis der Bund dies geregelt hat, und dann kommen wir.', 'Ihre Motion ist an der Reihe, wenn wir die Fakten kennen.', 'Dann werden wir sie zeitnah beantworten.', 'Aber solange wir das nicht wissen, können wir auch Ihre Motion nicht beantworten respektive umsetzen.', 'Ich bitte Sie, geschätzte Kantonsräte, dies so zur Kenntnis zu nehmen und den Antrag abzulehnen.', 'Wir haben jetzt eine Interpretationsfrage, wie wir unser Gesetz auslegen müssen.', 'Im Normalfall müsste man hierfür vor Gericht.', 'Das würde teuer und die Anwälte verdienten viel, ausser man ist der Gesetzgeber und das sind Sie.', 'Deshalb werde ich abstimmen lassen, ob ein solcher Antrag überhaupt zulässig sein soll oder nicht.', 'Wenn der Antrag von Ihnen als zulässig deklariert wird, würden wir nachher über den Antrag abstimmen, sonst stimmen wir über den Antrag nicht ab.', 'Ich bitte die Stimmenzähler.', 'Dann kommen wir zur Detailberatung.', 'Gibt es Wortmeldungen zum Rückblick über das Gesetzgebungsprogramm?', 'Das scheint nicht der Fall zu sein.', 'Gibt es Wortmeldungen zum Gesetzgebungsprogramm zweitausendeinundzwanzig–zweitausendzweiundzwanzig?', 'Das scheint auch nicht der Fall zu sein.', 'Über die Anträge haben wir bereits abgestimmt.', 'Gibt es sonst noch irgendwelche weitere Wortmeldungen?', 'Das ist nicht der Fall.', 'Dann kommen wir zur Schlussabstimmung.', 'Wir machen hier einen Break.', 'Wir fahren mit den anschliessenden Traktanden das nächste Mal weiter.', 'Ich komme noch zu den Mitteilungen zum Sitzungsende:', 'Kantonsrat Walter Duss hat am neunzehnter Februar zweitausendeinundzwanzig aus gesundheitlichen Gründen seinen sofortigen Rücktritt als Kantonsrat mitgeteilt.', 'Kantonsrat Walter Duss nahm seit zweitausendacht als SVP-Vertreter aus der Gemeinde Freienbach im Kantonsrat Einsitz.', 'In der Staatswirtschaftskommission war er seit zweitausendacht Mitglied und seit zweitausendzwölf bis heute Präsident.', 'Während seiner Amtszeit hat er in insgesamt neun Spezialkommissionen mitgewirkt, bei drei davon auch als Präsident.', 'Im Namen des Kantonsrates danke ich ihm bestens für sein grosses Engagement für den Kanton Schwyz und wünschen ihm rasche und gute Besserung.', 'Die nächste Sitzung findet voraussichtlich am vierundzwanzigster März zweitausendeinundzwanzig statt.', 'Ob dem so sein wird, wird nachher die Ratsleitung im Anschluss an die Kantonsratssitzung entscheiden.', 'Die Ratsleitung trifft sich in fünfzehn Minuten im Kantonsratssaal.', 'Dann habe ich noch eine Mitteilung für die Kommission für Bauten, Strassen und Anlagen:', 'Der Präsident bittet mich, Ihnen mitzuteilen, dass sich die Kommission für Bauten, Strassen und Anlagen zu einer kurzen Kommissionssitzung im Amt für Militär, Feuer und Zivilschutz an der Schlagstrasse siebenundachtzig, Kaltbach, Schwyz, in dreißig Minuten trifft.', 'In diesem Sine bleibt mir nur noch, Ihnen zu wünschen, dass Sie gesund bleiben, haben Sie es gut, die Sitzung ist geschlossen.', 'Merci.']\n"
     ]
    }
   ],
   "source": [
    "print(truth_sentences)"
   ]
  },
  {
   "cell_type": "markdown",
   "metadata": {
    "pycharm": {
     "name": "#%% md\n"
    }
   },
   "source": [
    "## Retrieve all audio files to later match with the corresponding text"
   ]
  },
  {
   "cell_type": "code",
   "execution_count": 10,
   "metadata": {
    "collapsed": false,
    "jupyter": {
     "outputs_hidden": false
    },
    "pycharm": {
     "name": "#%%\n"
    }
   },
   "outputs": [],
   "source": [
    "PATH_TO_AUDIO = '/data/voice/SZ_parliament/raw/parts'"
   ]
  },
  {
   "cell_type": "code",
   "execution_count": 11,
   "metadata": {
    "collapsed": false,
    "jupyter": {
     "outputs_hidden": false
    },
    "pycharm": {
     "name": "#%%\n"
    }
   },
   "outputs": [],
   "source": [
    "audio_files = glob.glob(os.path.join(PATH_TO_AUDIO, '*.wav'))\n",
    "#print(audio_files)"
   ]
  },
  {
   "cell_type": "markdown",
   "metadata": {
    "pycharm": {
     "name": "#%% md\n"
    }
   },
   "source": [
    "For testing use a test file randomly extracted from one of the audio files"
   ]
  },
  {
   "cell_type": "code",
   "execution_count": 12,
   "metadata": {
    "collapsed": false,
    "jupyter": {
     "outputs_hidden": false
    },
    "pycharm": {
     "name": "#%%\n"
    }
   },
   "outputs": [],
   "source": [
    "# set a single pregenerated file for testing\n",
    "TEST_FILE = ['data/processed_0224_part2.wav']"
   ]
  },
  {
   "cell_type": "markdown",
   "metadata": {
    "pycharm": {
     "name": "#%% md\n"
    }
   },
   "source": [
    "## Transcription\n",
    "Load and instantiate a pre-trained model from NVIDIA. In this case we use CTC decoding as output. "
   ]
  },
  {
   "cell_type": "code",
   "execution_count": 13,
   "metadata": {
    "collapsed": false,
    "jupyter": {
     "outputs_hidden": false
    },
    "pycharm": {
     "name": "#%%\n"
    }
   },
   "outputs": [
    {
     "name": "stdout",
     "output_type": "stream",
     "text": [
      "[NeMo I 2022-06-15 11:22:50 cloud:56] Found existing object /home/user/.cache/torch/NeMo/NeMo_1.8.2/stt_de_quartznet15x5/b82da4f9a238e099c0d94a6a0f7e8b4d/stt_de_quartznet15x5.nemo.\n",
      "[NeMo I 2022-06-15 11:22:50 cloud:62] Re-using file from: /home/user/.cache/torch/NeMo/NeMo_1.8.2/stt_de_quartznet15x5/b82da4f9a238e099c0d94a6a0f7e8b4d/stt_de_quartznet15x5.nemo\n",
      "[NeMo I 2022-06-15 11:22:50 common:747] Instantiating model from pre-trained checkpoint\n"
     ]
    },
    {
     "name": "stderr",
     "output_type": "stream",
     "text": [
      "[NeMo W 2022-06-15 11:22:51 modelPT:148] If you intend to do training or fine-tuning, please call the ModelPT.setup_training_data() method and provide a valid configuration file to setup the train data loader.\n",
      "    Train config : \n",
      "    manifest_filepath: /raid/noneval.json\n",
      "    sample_rate: 16000\n",
      "    labels:\n",
      "    - ' '\n",
      "    - a\n",
      "    - b\n",
      "    - c\n",
      "    - d\n",
      "    - e\n",
      "    - f\n",
      "    - g\n",
      "    - h\n",
      "    - i\n",
      "    - j\n",
      "    - k\n",
      "    - l\n",
      "    - m\n",
      "    - 'n'\n",
      "    - o\n",
      "    - p\n",
      "    - q\n",
      "    - r\n",
      "    - s\n",
      "    - t\n",
      "    - u\n",
      "    - v\n",
      "    - w\n",
      "    - x\n",
      "    - 'y'\n",
      "    - z\n",
      "    - ä\n",
      "    - ö\n",
      "    - ü\n",
      "    - ß\n",
      "    batch_size: 32\n",
      "    trim_silence: true\n",
      "    max_duration: 16.7\n",
      "    shuffle: true\n",
      "    is_tarred: false\n",
      "    tarred_audio_filepaths: null\n",
      "    num_workers: 8\n",
      "    pin_memory: true\n",
      "    \n",
      "[NeMo W 2022-06-15 11:22:51 modelPT:155] If you intend to do validation, please call the ModelPT.setup_validation_data() or ModelPT.setup_multiple_validation_data() method and provide a valid configuration file to setup the validation data loader(s). \n",
      "    Validation config : \n",
      "    manifest_filepath: /raid/dev.json\n",
      "    sample_rate: 16000\n",
      "    labels:\n",
      "    - ' '\n",
      "    - a\n",
      "    - b\n",
      "    - c\n",
      "    - d\n",
      "    - e\n",
      "    - f\n",
      "    - g\n",
      "    - h\n",
      "    - i\n",
      "    - j\n",
      "    - k\n",
      "    - l\n",
      "    - m\n",
      "    - 'n'\n",
      "    - o\n",
      "    - p\n",
      "    - q\n",
      "    - r\n",
      "    - s\n",
      "    - t\n",
      "    - u\n",
      "    - v\n",
      "    - w\n",
      "    - x\n",
      "    - 'y'\n",
      "    - z\n",
      "    - ä\n",
      "    - ö\n",
      "    - ü\n",
      "    - ß\n",
      "    batch_size: 32\n",
      "    shuffle: false\n",
      "    num_workers: 8\n",
      "    pin_memory: true\n",
      "    \n"
     ]
    },
    {
     "name": "stdout",
     "output_type": "stream",
     "text": [
      "[NeMo I 2022-06-15 11:22:51 features:259] PADDING: 16\n",
      "[NeMo I 2022-06-15 11:22:51 features:276] STFT using torch\n"
     ]
    },
    {
     "name": "stderr",
     "output_type": "stream",
     "text": [
      "[NeMo W 2022-06-15 11:22:52 nemo_logging:349] /home/user/.local/lib/python3.9/site-packages/torchmetrics/utilities/prints.py:36: UserWarning: Torchmetrics v0.9 introduced a new argument class property called `full_state_update` that has\n",
      "                    not been set for this class (WER). The property determines if `update` by\n",
      "                    default needs access to the full metric state. If this is not the case, significant speedups can be\n",
      "                    achieved and we recommend setting this to `False`.\n",
      "                    We provide an checking function\n",
      "                    `from torchmetrics.utilities import check_forward_no_full_state`\n",
      "                    that can be used to check if the `full_state_update=True` (old and potential slower behaviour,\n",
      "                    default for now) or if `full_state_update=False` can be used safely.\n",
      "                    \n",
      "      warnings.warn(*args, **kwargs)\n",
      "    \n"
     ]
    },
    {
     "name": "stdout",
     "output_type": "stream",
     "text": [
      "[NeMo I 2022-06-15 11:22:53 save_restore_connector:209] Model EncDecCTCModel was successfully restored from /home/user/.cache/torch/NeMo/NeMo_1.8.2/stt_de_quartznet15x5/b82da4f9a238e099c0d94a6a0f7e8b4d/stt_de_quartznet15x5.nemo.\n"
     ]
    }
   ],
   "source": [
    "# load model once\n",
    "model = nemo_asr.models.EncDecCTCModel.from_pretrained(model_name=\"stt_de_quartznet15x5\")"
   ]
  },
  {
   "cell_type": "markdown",
   "metadata": {
    "pycharm": {
     "name": "#%% md\n"
    }
   },
   "source": [
    "Retrieve the transcript of the given audio sequence"
   ]
  },
  {
   "cell_type": "code",
   "execution_count": 14,
   "metadata": {
    "collapsed": false,
    "jupyter": {
     "outputs_hidden": false
    },
    "pycharm": {
     "name": "#%%\n"
    }
   },
   "outputs": [
    {
     "data": {
      "application/vnd.jupyter.widget-view+json": {
       "model_id": "4de22916c97442c88a13e7e7fb924d09",
       "version_major": 2,
       "version_minor": 0
      },
      "text/plain": [
       "Transcribing:   0%|          | 0/1 [00:00<?, ?it/s]"
      ]
     },
     "metadata": {},
     "output_type": "display_data"
    }
   ],
   "source": [
    "stt_output = get_stt_transcription(model, TEST_FILE)"
   ]
  },
  {
   "cell_type": "code",
   "execution_count": 15,
   "metadata": {
    "collapsed": false,
    "jupyter": {
     "outputs_hidden": false
    },
    "pycharm": {
     "name": "#%%\n"
    }
   },
   "outputs": [],
   "source": [
    "#print(stt_output)"
   ]
  },
  {
   "cell_type": "markdown",
   "metadata": {
    "pycharm": {
     "name": "#%% md\n"
    }
   },
   "source": [
    "For comparison we attach the actual true transcript of the given sequence"
   ]
  },
  {
   "cell_type": "code",
   "execution_count": 16,
   "metadata": {
    "collapsed": false,
    "jupyter": {
     "outputs_hidden": false
    },
    "pycharm": {
     "name": "#%%\n"
    }
   },
   "outputs": [],
   "source": [
    "#true_transcript = \"die zur Verfügung stehenden Mittel fair aufgeteilt werden, um sämtliche Unternehmen unterstützen zu können, die jetzt dringend unsere Hilfe brauchen. Zu erwähnen ist auch, dass bei vielen betroffenen Unternehmen die Personalkosten durch die Kurzarbeitsentschädigung oder durch die Corona-Erwerbsersatzentschädigung seit März 2020 gedeckt\""
   ]
  },
  {
   "cell_type": "code",
   "execution_count": 17,
   "metadata": {
    "collapsed": false,
    "jupyter": {
     "outputs_hidden": false
    },
    "pycharm": {
     "name": "#%%\n"
    }
   },
   "outputs": [],
   "source": [
    "#print(true_transcript)"
   ]
  },
  {
   "cell_type": "code",
   "execution_count": 18,
   "metadata": {
    "collapsed": false,
    "jupyter": {
     "outputs_hidden": false
    },
    "pycharm": {
     "name": "#%%\n"
    }
   },
   "outputs": [
    {
     "name": "stdout",
     "output_type": "stream",
     "text": [
      "\u001b[33mWARNING: The directory '/home/user/.cache/pip' or its parent directory is not owned or is not writable by the current user. The cache has been disabled. Check the permissions and owner of that directory. If executing pip with sudo, you should use sudo's -H flag.\u001b[0m\u001b[33m\n",
      "\u001b[0mDefaulting to user installation because normal site-packages is not writeable\n",
      "Requirement already satisfied: biopython in /home/user/.local/lib/python3.9/site-packages (1.79)\n",
      "Requirement already satisfied: numpy in /home/user/.local/lib/python3.9/site-packages (from biopython) (1.21.6)\n"
     ]
    }
   ],
   "source": [
    "!pip install biopython"
   ]
  },
  {
   "cell_type": "markdown",
   "metadata": {
    "pycharm": {
     "name": "#%% md\n"
    }
   },
   "source": [
    "## TODO\n",
    "Implement the start and end point detection for each sentence, then pass it along to the sentence aligner"
   ]
  },
  {
   "cell_type": "markdown",
   "metadata": {
    "pycharm": {
     "name": "#%% md\n"
    }
   },
   "source": [
    "Get the probabilities for each token in the transcript"
   ]
  },
  {
   "cell_type": "code",
   "execution_count": 19,
   "metadata": {
    "collapsed": false,
    "jupyter": {
     "outputs_hidden": false
    },
    "pycharm": {
     "name": "#%%\n"
    }
   },
   "outputs": [],
   "source": [
    "def get_stt_probs(model, file):\n",
    "    logits = model.transcribe(paths2audio_files=file, logprobs=True)[0]\n",
    "    probs = softmax(logits)\n",
    "    return probs\n",
    "\n",
    "def get_stt_logits(model, file):\n",
    "    logits = model.transcribe(paths2audio_files=file, logprobs=True)[0]\n",
    "    return logits\n",
    "\n",
    "def softmax(logits):\n",
    "    e = np.exp(logits - np.max(logits))\n",
    "    return e / e.sum(axis=-1).reshape([logits.shape[0], 1])"
   ]
  },
  {
   "cell_type": "code",
   "execution_count": 20,
   "metadata": {
    "collapsed": false,
    "jupyter": {
     "outputs_hidden": false
    },
    "pycharm": {
     "name": "#%%\n"
    }
   },
   "outputs": [
    {
     "data": {
      "application/vnd.jupyter.widget-view+json": {
       "model_id": "e3a9440deca44f968b6279d0e5ab01c9",
       "version_major": 2,
       "version_minor": 0
      },
      "text/plain": [
       "Transcribing:   0%|          | 0/1 [00:00<?, ?it/s]"
      ]
     },
     "metadata": {},
     "output_type": "display_data"
    }
   ],
   "source": [
    "stt_probs = get_stt_probs(model, TEST_FILE)"
   ]
  },
  {
   "cell_type": "code",
   "execution_count": 21,
   "metadata": {
    "collapsed": false,
    "jupyter": {
     "outputs_hidden": false
    },
    "pycharm": {
     "name": "#%%\n"
    }
   },
   "outputs": [
    {
     "data": {
      "application/vnd.jupyter.widget-view+json": {
       "model_id": "d947deba3aab4356b852f6bf416cb1fb",
       "version_major": 2,
       "version_minor": 0
      },
      "text/plain": [
       "Transcribing:   0%|          | 0/1 [00:00<?, ?it/s]"
      ]
     },
     "metadata": {},
     "output_type": "display_data"
    }
   ],
   "source": [
    "stt_logits = get_stt_logits(model, TEST_FILE)"
   ]
  },
  {
   "cell_type": "code",
   "execution_count": 22,
   "metadata": {
    "collapsed": false,
    "jupyter": {
     "outputs_hidden": false
    },
    "pycharm": {
     "name": "#%%\n"
    }
   },
   "outputs": [],
   "source": [
    "#print(stt_logits)"
   ]
  },
  {
   "cell_type": "markdown",
   "metadata": {
    "pycharm": {
     "name": "#%% md\n"
    }
   },
   "source": [
    "## Timestep extraction\n",
    "Define the duration of a timestep "
   ]
  },
  {
   "cell_type": "code",
   "execution_count": 23,
   "metadata": {
    "collapsed": false,
    "jupyter": {
     "outputs_hidden": false
    },
    "pycharm": {
     "name": "#%%\n"
    }
   },
   "outputs": [],
   "source": [
    "# 40ms is duration of a timestep at output of the model\n",
    "time_stride = 0.02"
   ]
  },
  {
   "cell_type": "markdown",
   "metadata": {
    "pycharm": {
     "name": "#%% md\n"
    }
   },
   "source": [
    "Get the model's alphabet and replace unknown token with 'space'"
   ]
  },
  {
   "cell_type": "code",
   "execution_count": 24,
   "metadata": {
    "collapsed": false,
    "jupyter": {
     "outputs_hidden": false
    },
    "pycharm": {
     "name": "#%%\n"
    }
   },
   "outputs": [],
   "source": [
    "labels = list(model.cfg.decoder.vocabulary) + ['blank']\n",
    "labels[0] = 'space'"
   ]
  },
  {
   "cell_type": "code",
   "execution_count": 25,
   "metadata": {
    "collapsed": false,
    "jupyter": {
     "outputs_hidden": false
    },
    "pycharm": {
     "name": "#%%\n"
    }
   },
   "outputs": [
    {
     "name": "stdout",
     "output_type": "stream",
     "text": [
      "['space', 'a', 'b', 'c', 'd', 'e', 'f', 'g', 'h', 'i', 'j', 'k', 'l', 'm', 'n', 'o', 'p', 'q', 'r', 's', 't', 'u', 'v', 'w', 'x', 'y', 'z', 'ä', 'ö', 'ü', 'ß', 'blank']\n"
     ]
    }
   ],
   "source": [
    "print(labels)"
   ]
  },
  {
   "cell_type": "code",
   "execution_count": 26,
   "metadata": {
    "collapsed": false,
    "jupyter": {
     "outputs_hidden": false
    },
    "pycharm": {
     "name": "#%%\n"
    }
   },
   "outputs": [],
   "source": [
    "try:\n",
    "    from plotly import graph_objects as go\n",
    "except ModuleNotFoundError:\n",
    "    !pip install plotly\n",
    "    from plotly import graph_objects as go"
   ]
  },
  {
   "cell_type": "code",
   "execution_count": 27,
   "metadata": {
    "collapsed": false,
    "jupyter": {
     "outputs_hidden": false
    },
    "pycharm": {
     "name": "#%%\n"
    }
   },
   "outputs": [
    {
     "data": {
      "text/plain": [
       "\"\\n# plot probability distribution over characters for each timestep\\nfig_probs = go.Figure(\\n    go.Heatmap(z=stt_probs.transpose(),\\n               colorscale=[\\n                   [0, 'rgb(30,62,62)'],\\n                   [1, 'rgb(30,255,30)'],\\n               ],\\n               y=labels,\\n               dx=time_stride,\\n               name='Probs',\\n               hovertemplate='Time: %{x:.2f} s<br>Character: %{y}<br>Probability: %{z:.2f}<extra></extra>'),\\n    layout={\\n        'height': 300,\\n        'xaxis': {'title': 'Time, s'},\\n        'yaxis': {'title': 'Characters'},\\n        'title': 'Character Probabilities',\\n        'margin': dict(l=0, r=0, t=40, b=0, pad=0),\\n    }\\n)\\nfig_probs.show()\\n\""
      ]
     },
     "execution_count": 27,
     "metadata": {},
     "output_type": "execute_result"
    }
   ],
   "source": [
    "'''\n",
    "# plot probability distribution over characters for each timestep\n",
    "fig_probs = go.Figure(\n",
    "    go.Heatmap(z=stt_probs.transpose(),\n",
    "               colorscale=[\n",
    "                   [0, 'rgb(30,62,62)'],\n",
    "                   [1, 'rgb(30,255,30)'],\n",
    "               ],\n",
    "               y=labels,\n",
    "               dx=time_stride,\n",
    "               name='Probs',\n",
    "               hovertemplate='Time: %{x:.2f} s<br>Character: %{y}<br>Probability: %{z:.2f}<extra></extra>'),\n",
    "    layout={\n",
    "        'height': 300,\n",
    "        'xaxis': {'title': 'Time, s'},\n",
    "        'yaxis': {'title': 'Characters'},\n",
    "        'title': 'Character Probabilities',\n",
    "        'margin': dict(l=0, r=0, t=40, b=0, pad=0),\n",
    "    }\n",
    ")\n",
    "fig_probs.show()\n",
    "'''"
   ]
  },
  {
   "cell_type": "markdown",
   "metadata": {
    "pycharm": {
     "name": "#%% md\n"
    }
   },
   "source": [
    "Extract timestamps for 'space' tokens"
   ]
  },
  {
   "cell_type": "code",
   "execution_count": 28,
   "metadata": {
    "collapsed": false,
    "jupyter": {
     "outputs_hidden": false
    },
    "pycharm": {
     "name": "#%%\n"
    }
   },
   "outputs": [],
   "source": [
    "#print(np.argmax(stt_probs[6]))"
   ]
  },
  {
   "cell_type": "code",
   "execution_count": 29,
   "metadata": {
    "collapsed": false,
    "jupyter": {
     "outputs_hidden": false
    },
    "pycharm": {
     "name": "#%%\n"
    }
   },
   "outputs": [],
   "source": [
    "#print(stt_probs[0])"
   ]
  },
  {
   "cell_type": "code",
   "execution_count": 30,
   "metadata": {
    "collapsed": false,
    "jupyter": {
     "outputs_hidden": false
    },
    "pycharm": {
     "name": "#%%\n"
    }
   },
   "outputs": [],
   "source": [
    "#for i in range(0, stt_probs.shape[0]):\n",
    "#    print(np.argmax(stt_probs[i]))"
   ]
  },
  {
   "cell_type": "code",
   "execution_count": 31,
   "metadata": {
    "collapsed": false,
    "jupyter": {
     "outputs_hidden": false
    },
    "pycharm": {
     "name": "#%%\n"
    }
   },
   "outputs": [],
   "source": [
    "# get timestamps for space symbols\n",
    "spaces = []\n",
    "\n",
    "state = ''\n",
    "idx_state = 0\n",
    "\n",
    "if np.argmax(stt_probs[0]) == 0:\n",
    "    state = 'space'\n",
    "\n",
    "for idx in range(1, stt_probs.shape[0]):\n",
    "    current_char_idx = np.argmax(stt_probs[idx])\n",
    "    if state == 'space' and current_char_idx != 0 and current_char_idx != 31:\n",
    "        spaces.append([idx_state, idx-1])\n",
    "        state = ''\n",
    "    if state == '':\n",
    "        if current_char_idx == 0:\n",
    "            state = 'space'\n",
    "            idx_state = idx\n",
    "\n",
    "if state == 'space':\n",
    "    spaces.append([idx_state, len(stt_probs)-1])"
   ]
  },
  {
   "cell_type": "code",
   "execution_count": 32,
   "metadata": {},
   "outputs": [
    {
     "name": "stdout",
     "output_type": "stream",
     "text": [
      "blank\n"
     ]
    }
   ],
   "source": [
    "print(labels[31])"
   ]
  },
  {
   "cell_type": "code",
   "execution_count": 33,
   "metadata": {},
   "outputs": [],
   "source": [
    "no_conf = []\n",
    "char_argmax = []\n",
    "char_probs = []\n",
    "\n",
    "conf_state = ''\n",
    "index_state = 0\n",
    "\n",
    "for index in range(1, stt_probs.shape[0]):\n",
    "    current_char_index = np.argmax(stt_probs[index])\n",
    "    if conf_state == 'space' and current_char_index != 0 and current_char_index != 31:\n",
    "        no_conf.append([index_state, index-1])\n",
    "        conf_state = ''\n",
    "    if conf_state == '':\n",
    "        if current_char_index != 31:\n",
    "            max_index = np.argmax(stt_probs[index])\n",
    "            char_argmax.append(max_index)\n",
    "            char_probs.append(stt_probs[index][max_index])\n",
    "        if current_char_index == 0:\n",
    "            conf_state = 'space'\n",
    "            index_state = index\n"
   ]
  },
  {
   "cell_type": "code",
   "execution_count": 34,
   "metadata": {},
   "outputs": [],
   "source": [
    "#print(char_probs)"
   ]
  },
  {
   "cell_type": "code",
   "execution_count": 35,
   "metadata": {},
   "outputs": [],
   "source": [
    "vocab_dict = { i : labels[i] for i in range(0, len(labels), 1)}"
   ]
  },
  {
   "cell_type": "code",
   "execution_count": 36,
   "metadata": {},
   "outputs": [
    {
     "name": "stdout",
     "output_type": "stream",
     "text": [
      "{0: 'space', 1: 'a', 2: 'b', 3: 'c', 4: 'd', 5: 'e', 6: 'f', 7: 'g', 8: 'h', 9: 'i', 10: 'j', 11: 'k', 12: 'l', 13: 'm', 14: 'n', 15: 'o', 16: 'p', 17: 'q', 18: 'r', 19: 's', 20: 't', 21: 'u', 22: 'v', 23: 'w', 24: 'x', 25: 'y', 26: 'z', 27: 'ä', 28: 'ö', 29: 'ü', 30: 'ß', 31: 'blank'}\n"
     ]
    }
   ],
   "source": [
    "print(vocab_dict)"
   ]
  },
  {
   "cell_type": "code",
   "execution_count": 37,
   "metadata": {},
   "outputs": [],
   "source": [
    "char_tokens = list(map(vocab_dict.get, char_argmax))"
   ]
  },
  {
   "cell_type": "code",
   "execution_count": 38,
   "metadata": {},
   "outputs": [],
   "source": [
    "average_probs = []\n",
    "current_prob = []\n",
    "for idx, token in enumerate(char_tokens):\n",
    "    if token != 'space':\n",
    "        current_prob.append(char_probs[idx])\n",
    "    if token == 'space':\n",
    "        average_probs.append(np.mean(current_prob))\n",
    "        current_prob = []\n",
    "        \n",
    "    "
   ]
  },
  {
   "cell_type": "code",
   "execution_count": 39,
   "metadata": {},
   "outputs": [
    {
     "name": "stdout",
     "output_type": "stream",
     "text": [
      "3520\n"
     ]
    }
   ],
   "source": [
    "print(len(average_probs))"
   ]
  },
  {
   "cell_type": "code",
   "execution_count": 40,
   "metadata": {
    "collapsed": false,
    "jupyter": {
     "outputs_hidden": false
    },
    "pycharm": {
     "name": "#%%\n"
    }
   },
   "outputs": [],
   "source": [
    "#print(spaces)"
   ]
  },
  {
   "cell_type": "code",
   "execution_count": 41,
   "metadata": {
    "collapsed": false,
    "jupyter": {
     "outputs_hidden": false
    },
    "pycharm": {
     "name": "#%%\n"
    }
   },
   "outputs": [],
   "source": [
    "#print(stt_output)"
   ]
  },
  {
   "cell_type": "markdown",
   "metadata": {
    "pycharm": {
     "name": "#%% md\n"
    }
   },
   "source": [
    "split audio signal into separate words"
   ]
  },
  {
   "cell_type": "code",
   "execution_count": 42,
   "metadata": {
    "collapsed": false,
    "jupyter": {
     "outputs_hidden": false
    },
    "pycharm": {
     "name": "#%%\n"
    }
   },
   "outputs": [],
   "source": [
    "from IPython.display import Audio, display"
   ]
  },
  {
   "cell_type": "code",
   "execution_count": 43,
   "metadata": {
    "collapsed": false,
    "jupyter": {
     "outputs_hidden": false
    },
    "pycharm": {
     "name": "#%%\n"
    }
   },
   "outputs": [],
   "source": [
    "#signal, sample_rate = librosa.load(TEST_FILE[0], sr=None)"
   ]
  },
  {
   "cell_type": "code",
   "execution_count": 44,
   "metadata": {
    "collapsed": false,
    "jupyter": {
     "outputs_hidden": false
    },
    "pycharm": {
     "name": "#%%\n"
    }
   },
   "outputs": [],
   "source": [
    "#print(stt_output)"
   ]
  },
  {
   "cell_type": "code",
   "execution_count": 45,
   "metadata": {
    "collapsed": false,
    "jupyter": {
     "outputs_hidden": false
    },
    "pycharm": {
     "name": "#%%\n"
    }
   },
   "outputs": [],
   "source": [
    "storage_words = list()\n",
    "storage_start_time = list()\n",
    "storage_end_time = list()"
   ]
  },
  {
   "cell_type": "code",
   "execution_count": 46,
   "metadata": {
    "collapsed": false,
    "jupyter": {
     "outputs_hidden": false
    },
    "pycharm": {
     "name": "#%%\n"
    }
   },
   "outputs": [
    {
     "data": {
      "text/plain": [
       "'ich'"
      ]
     },
     "metadata": {},
     "output_type": "display_data"
    },
    {
     "data": {
      "text/plain": [
       "'mich'"
      ]
     },
     "metadata": {},
     "output_type": "display_data"
    },
    {
     "data": {
      "text/plain": [
       "'ridrale'"
      ]
     },
     "metadata": {},
     "output_type": "display_data"
    },
    {
     "data": {
      "text/plain": [
       "'eire'"
      ]
     },
     "metadata": {},
     "output_type": "display_data"
    },
    {
     "data": {
      "text/plain": [
       "'defte'"
      ]
     },
     "metadata": {},
     "output_type": "display_data"
    },
    {
     "data": {
      "text/plain": [
       "'päfraktion'"
      ]
     },
     "metadata": {},
     "output_type": "display_data"
    },
    {
     "data": {
      "text/plain": [
       "'unterstützt'"
      ]
     },
     "metadata": {},
     "output_type": "display_data"
    },
    {
     "data": {
      "text/plain": [
       "'abenfalls'"
      ]
     },
     "metadata": {},
     "output_type": "display_data"
    },
    {
     "data": {
      "text/plain": [
       "'schlosse'"
      ]
     },
     "metadata": {},
     "output_type": "display_data"
    },
    {
     "data": {
      "text/plain": [
       "'der'"
      ]
     },
     "metadata": {},
     "output_type": "display_data"
    },
    {
     "data": {
      "text/plain": [
       "'ersatz'"
      ]
     },
     "metadata": {},
     "output_type": "display_data"
    },
    {
     "data": {
      "text/plain": [
       "'und'"
      ]
     },
     "metadata": {},
     "output_type": "display_data"
    },
    {
     "data": {
      "text/plain": [
       "'der'"
      ]
     },
     "metadata": {},
     "output_type": "display_data"
    },
    {
     "data": {
      "text/plain": [
       "'wiedrigsbau'"
      ]
     },
     "metadata": {},
     "output_type": "display_data"
    },
    {
     "data": {
      "text/plain": [
       "'von'"
      ]
     },
     "metadata": {},
     "output_type": "display_data"
    },
    {
     "data": {
      "text/plain": [
       "'wonheim'"
      ]
     },
     "metadata": {},
     "output_type": "display_data"
    },
    {
     "data": {
      "text/plain": [
       "'phöenix'"
      ]
     },
     "metadata": {},
     "output_type": "display_data"
    },
    {
     "data": {
      "text/plain": [
       "'en'"
      ]
     },
     "metadata": {},
     "output_type": "display_data"
    },
    {
     "data": {
      "text/plain": [
       "'einsiedler'"
      ]
     },
     "metadata": {},
     "output_type": "display_data"
    },
    {
     "data": {
      "text/plain": [
       "'und'"
      ]
     },
     "metadata": {},
     "output_type": "display_data"
    },
    {
     "data": {
      "text/plain": [
       "'wihrt'"
      ]
     },
     "metadata": {},
     "output_type": "display_data"
    },
    {
     "data": {
      "text/plain": [
       "'die'"
      ]
     },
     "metadata": {},
     "output_type": "display_data"
    },
    {
     "data": {
      "text/plain": [
       "'usgaberbewelligung'"
      ]
     },
     "metadata": {},
     "output_type": "display_data"
    },
    {
     "data": {
      "text/plain": [
       "'itder'"
      ]
     },
     "metadata": {},
     "output_type": "display_data"
    },
    {
     "data": {
      "text/plain": [
       "'höfi'"
      ]
     },
     "metadata": {},
     "output_type": "display_data"
    },
    {
     "data": {
      "text/plain": [
       "'vor'"
      ]
     },
     "metadata": {},
     "output_type": "display_data"
    },
    {
     "data": {
      "text/plain": [
       "'elf'"
      ]
     },
     "metadata": {},
     "output_type": "display_data"
    },
    {
     "data": {
      "text/plain": [
       "'ko'"
      ]
     },
     "metadata": {},
     "output_type": "display_data"
    },
    {
     "data": {
      "text/plain": [
       "'nylnulreis'"
      ]
     },
     "metadata": {},
     "output_type": "display_data"
    },
    {
     "data": {
      "text/plain": [
       "'millionen'"
      ]
     },
     "metadata": {},
     "output_type": "display_data"
    },
    {
     "data": {
      "text/plain": [
       "'francre'"
      ]
     },
     "metadata": {},
     "output_type": "display_data"
    },
    {
     "data": {
      "text/plain": [
       "'eichtimigarne'"
      ]
     },
     "metadata": {},
     "output_type": "display_data"
    },
    {
     "data": {
      "text/plain": [
       "'danca'"
      ]
     },
     "metadata": {},
     "output_type": "display_data"
    },
    {
     "data": {
      "text/plain": [
       "'vemauworde'"
      ]
     },
     "metadata": {},
     "output_type": "display_data"
    },
    {
     "data": {
      "text/plain": [
       "'dich'"
      ]
     },
     "metadata": {},
     "output_type": "display_data"
    },
    {
     "data": {
      "text/plain": [
       "'friedri'"
      ]
     },
     "metadata": {},
     "output_type": "display_data"
    },
    {
     "data": {
      "text/plain": [
       "'drie'"
      ]
     },
     "metadata": {},
     "output_type": "display_data"
    },
    {
     "data": {
      "text/plain": [
       "'froaktionssprachendecucimerica'"
      ]
     },
     "metadata": {},
     "output_type": "display_data"
    },
    {
     "data": {
      "text/plain": [
       "'aspessim'"
      ]
     },
     "metadata": {},
     "output_type": "display_data"
    },
    {
     "data": {
      "text/plain": [
       "'suro'"
      ]
     },
     "metadata": {},
     "output_type": "display_data"
    },
    {
     "data": {
      "text/plain": [
       "'buticer'"
      ]
     },
     "metadata": {},
     "output_type": "display_data"
    },
    {
     "data": {
      "text/plain": [
       "'ctspräsident'"
      ]
     },
     "metadata": {},
     "output_type": "display_data"
    },
    {
     "data": {
      "text/plain": [
       "'ces'"
      ]
     },
     "metadata": {},
     "output_type": "display_data"
    },
    {
     "data": {
      "text/plain": [
       "'damem'"
      ]
     },
     "metadata": {},
     "output_type": "display_data"
    },
    {
     "data": {
      "text/plain": [
       "'und'"
      ]
     },
     "metadata": {},
     "output_type": "display_data"
    },
    {
     "data": {
      "text/plain": [
       "'herre'"
      ]
     },
     "metadata": {},
     "output_type": "display_data"
    },
    {
     "data": {
      "text/plain": [
       "'halte'"
      ]
     },
     "metadata": {},
     "output_type": "display_data"
    },
    {
     "data": {
      "text/plain": [
       "'mich'"
      ]
     },
     "metadata": {},
     "output_type": "display_data"
    },
    {
     "data": {
      "text/plain": [
       "'auchots'"
      ]
     },
     "metadata": {},
     "output_type": "display_data"
    },
    {
     "data": {
      "text/plain": [
       "'deen'"
      ]
     },
     "metadata": {},
     "output_type": "display_data"
    },
    {
     "data": {
      "text/plain": [
       "'vorredner'"
      ]
     },
     "metadata": {},
     "output_type": "display_data"
    },
    {
     "data": {
      "text/plain": [
       "'gongrum'"
      ]
     },
     "metadata": {},
     "output_type": "display_data"
    },
    {
     "data": {
      "text/plain": [
       "'uv'"
      ]
     },
     "metadata": {},
     "output_type": "display_data"
    },
    {
     "data": {
      "text/plain": [
       "'tetsas'"
      ]
     },
     "metadata": {},
     "output_type": "display_data"
    },
    {
     "data": {
      "text/plain": [
       "'kanton'"
      ]
     },
     "metadata": {},
     "output_type": "display_data"
    },
    {
     "data": {
      "text/plain": [
       "'pflichtetic'"
      ]
     },
     "metadata": {},
     "output_type": "display_data"
    },
    {
     "data": {
      "text/plain": [
       "'einen'"
      ]
     },
     "metadata": {},
     "output_type": "display_data"
    },
    {
     "data": {
      "text/plain": [
       "'uftstiftig'"
      ]
     },
     "metadata": {},
     "output_type": "display_data"
    },
    {
     "data": {
      "text/plain": [
       "'könig'"
      ]
     },
     "metadata": {},
     "output_type": "display_data"
    },
    {
     "data": {
      "text/plain": [
       "'phoenisenne'"
      ]
     },
     "metadata": {},
     "output_type": "display_data"
    },
    {
     "data": {
      "text/plain": [
       "'witerimilforräne'"
      ]
     },
     "metadata": {},
     "output_type": "display_data"
    },
    {
     "data": {
      "text/plain": [
       "'des'"
      ]
     },
     "metadata": {},
     "output_type": "display_data"
    },
    {
     "data": {
      "text/plain": [
       "'schuckmachtunds'"
      ]
     },
     "metadata": {},
     "output_type": "display_data"
    },
    {
     "data": {
      "text/plain": [
       "'witd'"
      ]
     },
     "metadata": {},
     "output_type": "display_data"
    },
    {
     "data": {
      "text/plain": [
       "'kommissionssprach'"
      ]
     },
     "metadata": {},
     "output_type": "display_data"
    },
    {
     "data": {
      "text/plain": [
       "'zum'"
      ]
     },
     "metadata": {},
     "output_type": "display_data"
    },
    {
     "data": {
      "text/plain": [
       "'nivealprojekt'"
      ]
     },
     "metadata": {},
     "output_type": "display_data"
    },
    {
     "data": {
      "text/plain": [
       "'zauber'"
      ]
     },
     "metadata": {},
     "output_type": "display_data"
    },
    {
     "data": {
      "text/plain": [
       "'es'"
      ]
     },
     "metadata": {},
     "output_type": "display_data"
    },
    {
     "data": {
      "text/plain": [
       "'entspricht'"
      ]
     },
     "metadata": {},
     "output_type": "display_data"
    },
    {
     "data": {
      "text/plain": [
       "'der'"
      ]
     },
     "metadata": {},
     "output_type": "display_data"
    },
    {
     "data": {
      "text/plain": [
       "'vorgabe'"
      ]
     },
     "metadata": {},
     "output_type": "display_data"
    },
    {
     "data": {
      "text/plain": [
       "'und'"
      ]
     },
     "metadata": {},
     "output_type": "display_data"
    },
    {
     "data": {
      "text/plain": [
       "'derfür'"
      ]
     },
     "metadata": {},
     "output_type": "display_data"
    },
    {
     "data": {
      "text/plain": [
       "'davorderige'"
      ]
     },
     "metadata": {},
     "output_type": "display_data"
    },
    {
     "data": {
      "text/plain": [
       "'aus'"
      ]
     },
     "metadata": {},
     "output_type": "display_data"
    },
    {
     "data": {
      "text/plain": [
       "'bruft'"
      ]
     },
     "metadata": {},
     "output_type": "display_data"
    },
    {
     "data": {
      "text/plain": [
       "'um'"
      ]
     },
     "metadata": {},
     "output_type": "display_data"
    },
    {
     "data": {
      "text/plain": [
       "'manche'"
      ]
     },
     "metadata": {},
     "output_type": "display_data"
    },
    {
     "data": {
      "text/plain": [
       "'mittere'"
      ]
     },
     "metadata": {},
     "output_type": "display_data"
    },
    {
     "data": {
      "text/plain": [
       "'ivlirität'"
      ]
     },
     "metadata": {},
     "output_type": "display_data"
    },
    {
     "data": {
      "text/plain": [
       "'ihne'"
      ]
     },
     "metadata": {},
     "output_type": "display_data"
    },
    {
     "data": {
      "text/plain": [
       "'bedürfnis'"
      ]
     },
     "metadata": {},
     "output_type": "display_data"
    },
    {
     "data": {
      "text/plain": [
       "'krachtswerte'"
      ]
     },
     "metadata": {},
     "output_type": "display_data"
    },
    {
     "data": {
      "text/plain": [
       "'und'"
      ]
     },
     "metadata": {},
     "output_type": "display_data"
    },
    {
     "data": {
      "text/plain": [
       "'darum'"
      ]
     },
     "metadata": {},
     "output_type": "display_data"
    },
    {
     "data": {
      "text/plain": [
       "'bitte'"
      ]
     },
     "metadata": {},
     "output_type": "display_data"
    },
    {
     "data": {
      "text/plain": [
       "'ec'"
      ]
     },
     "metadata": {},
     "output_type": "display_data"
    },
    {
     "data": {
      "text/plain": [
       "'sie'"
      ]
     },
     "metadata": {},
     "output_type": "display_data"
    },
    {
     "data": {
      "text/plain": [
       "'mit'"
      ]
     },
     "metadata": {},
     "output_type": "display_data"
    },
    {
     "data": {
      "text/plain": [
       "'amenterra'"
      ]
     },
     "metadata": {},
     "output_type": "display_data"
    },
    {
     "data": {
      "text/plain": [
       "'matraf'"
      ]
     },
     "metadata": {},
     "output_type": "display_data"
    },
    {
     "data": {
      "text/plain": [
       "'de'"
      ]
     },
     "metadata": {},
     "output_type": "display_data"
    },
    {
     "data": {
      "text/plain": [
       "'rgigsfolge'"
      ]
     },
     "metadata": {},
     "output_type": "display_data"
    },
    {
     "data": {
      "text/plain": [
       "'und'"
      ]
     },
     "metadata": {},
     "output_type": "display_data"
    },
    {
     "data": {
      "text/plain": [
       "'der'"
      ]
     },
     "metadata": {},
     "output_type": "display_data"
    },
    {
     "data": {
      "text/plain": [
       "'usgaubewilligung'"
      ]
     },
     "metadata": {},
     "output_type": "display_data"
    },
    {
     "data": {
      "text/plain": [
       "'zuestimmeng'"
      ]
     },
     "metadata": {},
     "output_type": "display_data"
    },
    {
     "data": {
      "text/plain": [
       "'böcstedank'"
      ]
     },
     "metadata": {},
     "output_type": "display_data"
    },
    {
     "data": {
      "text/plain": [
       "'für'"
      ]
     },
     "metadata": {},
     "output_type": "display_data"
    },
    {
     "data": {
      "text/plain": [
       "'aufmerksamkeitals'"
      ]
     },
     "metadata": {},
     "output_type": "display_data"
    },
    {
     "data": {
      "text/plain": [
       "'wote'"
      ]
     },
     "metadata": {},
     "output_type": "display_data"
    },
    {
     "data": {
      "text/plain": [
       "'viel'"
      ]
     },
     "metadata": {},
     "output_type": "display_data"
    },
    {
     "data": {
      "text/plain": [
       "'ver'"
      ]
     },
     "metadata": {},
     "output_type": "display_data"
    },
    {
     "data": {
      "text/plain": [
       "'fraktionsprachenderalf'"
      ]
     },
     "metadata": {},
     "output_type": "display_data"
    },
    {
     "data": {
      "text/plain": [
       "'schmi'"
      ]
     },
     "metadata": {},
     "output_type": "display_data"
    },
    {
     "data": {
      "text/plain": [
       "'schiburach'"
      ]
     },
     "metadata": {},
     "output_type": "display_data"
    },
    {
     "data": {
      "text/plain": [
       "'jazzepräsident'"
      ]
     },
     "metadata": {},
     "output_type": "display_data"
    },
    {
     "data": {
      "text/plain": [
       "'jessy'"
      ]
     },
     "metadata": {},
     "output_type": "display_data"
    },
    {
     "data": {
      "text/plain": [
       "'cantonsradin'"
      ]
     },
     "metadata": {},
     "output_type": "display_data"
    },
    {
     "data": {
      "text/plain": [
       "'und'"
      ]
     },
     "metadata": {},
     "output_type": "display_data"
    },
    {
     "data": {
      "text/plain": [
       "'cantonsrat'"
      ]
     },
     "metadata": {},
     "output_type": "display_data"
    },
    {
     "data": {
      "text/plain": [
       "'dephe'"
      ]
     },
     "metadata": {},
     "output_type": "display_data"
    },
    {
     "data": {
      "text/plain": [
       "'tsvp'"
      ]
     },
     "metadata": {},
     "output_type": "display_data"
    },
    {
     "data": {
      "text/plain": [
       "'fraktion'"
      ]
     },
     "metadata": {},
     "output_type": "display_data"
    },
    {
     "data": {
      "text/plain": [
       "'hat'"
      ]
     },
     "metadata": {},
     "output_type": "display_data"
    },
    {
     "data": {
      "text/plain": [
       "'grundlagen'"
      ]
     },
     "metadata": {},
     "output_type": "display_data"
    },
    {
     "data": {
      "text/plain": [
       "'en'"
      ]
     },
     "metadata": {},
     "output_type": "display_data"
    },
    {
     "data": {
      "text/plain": [
       "'dushührige'"
      ]
     },
     "metadata": {},
     "output_type": "display_data"
    },
    {
     "data": {
      "text/plain": [
       "'von'"
      ]
     },
     "metadata": {},
     "output_type": "display_data"
    },
    {
     "data": {
      "text/plain": [
       "'der'"
      ]
     },
     "metadata": {},
     "output_type": "display_data"
    },
    {
     "data": {
      "text/plain": [
       "'gjerigs'"
      ]
     },
     "metadata": {},
     "output_type": "display_data"
    },
    {
     "data": {
      "text/plain": [
       "'ruskaber'"
      ]
     },
     "metadata": {},
     "output_type": "display_data"
    },
    {
     "data": {
      "text/plain": [
       "'bewilligung'"
      ]
     },
     "metadata": {},
     "output_type": "display_data"
    },
    {
     "data": {
      "text/plain": [
       "'für'"
      ]
     },
     "metadata": {},
     "output_type": "display_data"
    },
    {
     "data": {
      "text/plain": [
       "'das'"
      ]
     },
     "metadata": {},
     "output_type": "display_data"
    },
    {
     "data": {
      "text/plain": [
       "'projekt'"
      ]
     },
     "metadata": {},
     "output_type": "display_data"
    },
    {
     "data": {
      "text/plain": [
       "'wurde'"
      ]
     },
     "metadata": {},
     "output_type": "display_data"
    },
    {
     "data": {
      "text/plain": [
       "'stifti'"
      ]
     },
     "metadata": {},
     "output_type": "display_data"
    },
    {
     "data": {
      "text/plain": [
       "'phoenix'"
      ]
     },
     "metadata": {},
     "output_type": "display_data"
    },
    {
     "data": {
      "text/plain": [
       "'in'"
      ]
     },
     "metadata": {},
     "output_type": "display_data"
    },
    {
     "data": {
      "text/plain": [
       "'einseelel'"
      ]
     },
     "metadata": {},
     "output_type": "display_data"
    },
    {
     "data": {
      "text/plain": [
       "'diskutiertdusganslarg'"
      ]
     },
     "metadata": {},
     "output_type": "display_data"
    },
    {
     "data": {
      "text/plain": [
       "'begründet'"
      ]
     },
     "metadata": {},
     "output_type": "display_data"
    },
    {
     "data": {
      "text/plain": [
       "'sich'"
      ]
     },
     "metadata": {},
     "output_type": "display_data"
    },
    {
     "data": {
      "text/plain": [
       "'um'"
      ]
     },
     "metadata": {},
     "output_type": "display_data"
    },
    {
     "data": {
      "text/plain": [
       "'sätzlichen'"
      ]
     },
     "metadata": {},
     "output_type": "display_data"
    },
    {
     "data": {
      "text/plain": [
       "'huftrag'"
      ]
     },
     "metadata": {},
     "output_type": "display_data"
    },
    {
     "data": {
      "text/plain": [
       "'dem'"
      ]
     },
     "metadata": {},
     "output_type": "display_data"
    },
    {
     "data": {
      "text/plain": [
       "'zufolk'"
      ]
     },
     "metadata": {},
     "output_type": "display_data"
    },
    {
     "data": {
      "text/plain": [
       "'wo'"
      ]
     },
     "metadata": {},
     "output_type": "display_data"
    },
    {
     "data": {
      "text/plain": [
       "'jeder'"
      ]
     },
     "metadata": {},
     "output_type": "display_data"
    },
    {
     "data": {
      "text/plain": [
       "'kanton'"
      ]
     },
     "metadata": {},
     "output_type": "display_data"
    },
    {
     "data": {
      "text/plain": [
       "'wahrleishte'"
      ]
     },
     "metadata": {},
     "output_type": "display_data"
    },
    {
     "data": {
      "text/plain": [
       "'das'"
      ]
     },
     "metadata": {},
     "output_type": "display_data"
    },
    {
     "data": {
      "text/plain": [
       "'in'"
      ]
     },
     "metadata": {},
     "output_type": "display_data"
    },
    {
     "data": {
      "text/plain": [
       "'verlidenpersonen'"
      ]
     },
     "metadata": {},
     "output_type": "display_data"
    },
    {
     "data": {
      "text/plain": [
       "'die'"
      ]
     },
     "metadata": {},
     "output_type": "display_data"
    },
    {
     "data": {
      "text/plain": [
       "'wohnsitz'"
      ]
     },
     "metadata": {},
     "output_type": "display_data"
    },
    {
     "data": {
      "text/plain": [
       "'in'"
      ]
     },
     "metadata": {},
     "output_type": "display_data"
    },
    {
     "data": {
      "text/plain": [
       "'seinem'"
      ]
     },
     "metadata": {},
     "output_type": "display_data"
    },
    {
     "data": {
      "text/plain": [
       "'gebiet'"
      ]
     },
     "metadata": {},
     "output_type": "display_data"
    },
    {
     "data": {
      "text/plain": [
       "'haben'"
      ]
     },
     "metadata": {},
     "output_type": "display_data"
    },
    {
     "data": {
      "text/plain": [
       "'ein'"
      ]
     },
     "metadata": {},
     "output_type": "display_data"
    },
    {
     "data": {
      "text/plain": [
       "'angebot'"
      ]
     },
     "metadata": {},
     "output_type": "display_data"
    },
    {
     "data": {
      "text/plain": [
       "'in'"
      ]
     },
     "metadata": {},
     "output_type": "display_data"
    },
    {
     "data": {
      "text/plain": [
       "'anninstatutionen'"
      ]
     },
     "metadata": {},
     "output_type": "display_data"
    },
    {
     "data": {
      "text/plain": [
       "'zur'"
      ]
     },
     "metadata": {},
     "output_type": "display_data"
    },
    {
     "data": {
      "text/plain": [
       "'verfügung'"
      ]
     },
     "metadata": {},
     "output_type": "display_data"
    },
    {
     "data": {
      "text/plain": [
       "'steht'"
      ]
     },
     "metadata": {},
     "output_type": "display_data"
    },
    {
     "data": {
      "text/plain": [
       "'dass'"
      ]
     },
     "metadata": {},
     "output_type": "display_data"
    },
    {
     "data": {
      "text/plain": [
       "'in'"
      ]
     },
     "metadata": {},
     "output_type": "display_data"
    },
    {
     "data": {
      "text/plain": [
       "'ihren'"
      ]
     },
     "metadata": {},
     "output_type": "display_data"
    },
    {
     "data": {
      "text/plain": [
       "'bedürfnissen'"
      ]
     },
     "metadata": {},
     "output_type": "display_data"
    },
    {
     "data": {
      "text/plain": [
       "'in'"
      ]
     },
     "metadata": {},
     "output_type": "display_data"
    },
    {
     "data": {
      "text/plain": [
       "'angemessener'"
      ]
     },
     "metadata": {},
     "output_type": "display_data"
    },
    {
     "data": {
      "text/plain": [
       "'weise'"
      ]
     },
     "metadata": {},
     "output_type": "display_data"
    },
    {
     "data": {
      "text/plain": [
       "'entspricht'"
      ]
     },
     "metadata": {},
     "output_type": "display_data"
    },
    {
     "data": {
      "text/plain": [
       "'hriften'"
      ]
     },
     "metadata": {},
     "output_type": "display_data"
    },
    {
     "data": {
      "text/plain": [
       "'königs'"
      ]
     },
     "metadata": {},
     "output_type": "display_data"
    },
    {
     "data": {
      "text/plain": [
       "'ignorarant'"
      ]
     },
     "metadata": {},
     "output_type": "display_data"
    },
    {
     "data": {
      "text/plain": [
       "'die'"
      ]
     },
     "metadata": {},
     "output_type": "display_data"
    },
    {
     "data": {
      "text/plain": [
       "'institution'"
      ]
     },
     "metadata": {},
     "output_type": "display_data"
    },
    {
     "data": {
      "text/plain": [
       "'für'"
      ]
     },
     "metadata": {},
     "output_type": "display_data"
    },
    {
     "data": {
      "text/plain": [
       "'betrük'"
      ]
     },
     "metadata": {},
     "output_type": "display_data"
    },
    {
     "data": {
      "text/plain": [
       "'forpsychische'"
      ]
     },
     "metadata": {},
     "output_type": "display_data"
    },
    {
     "data": {
      "text/plain": [
       "'ranke'"
      ]
     },
     "metadata": {},
     "output_type": "display_data"
    },
    {
     "data": {
      "text/plain": [
       "'personen'"
      ]
     },
     "metadata": {},
     "output_type": "display_data"
    },
    {
     "data": {
      "text/plain": [
       "'sie'"
      ]
     },
     "metadata": {},
     "output_type": "display_data"
    },
    {
     "data": {
      "text/plain": [
       "'betriebt'"
      ]
     },
     "metadata": {},
     "output_type": "display_data"
    },
    {
     "data": {
      "text/plain": [
       "'ja'"
      ]
     },
     "metadata": {},
     "output_type": "display_data"
    },
    {
     "data": {
      "text/plain": [
       "'bereits'"
      ]
     },
     "metadata": {},
     "output_type": "display_data"
    },
    {
     "data": {
      "text/plain": [
       "'hütsonheim'"
      ]
     },
     "metadata": {},
     "output_type": "display_data"
    },
    {
     "data": {
      "text/plain": [
       "'in'"
      ]
     },
     "metadata": {},
     "output_type": "display_data"
    },
    {
     "data": {
      "text/plain": [
       "'einseele'"
      ]
     },
     "metadata": {},
     "output_type": "display_data"
    },
    {
     "data": {
      "text/plain": [
       "'djetzige'"
      ]
     },
     "metadata": {},
     "output_type": "display_data"
    },
    {
     "data": {
      "text/plain": [
       "'debüt'"
      ]
     },
     "metadata": {},
     "output_type": "display_data"
    },
    {
     "data": {
      "text/plain": [
       "'in'"
      ]
     },
     "metadata": {},
     "output_type": "display_data"
    },
    {
     "data": {
      "text/plain": [
       "'einsieder'"
      ]
     },
     "metadata": {},
     "output_type": "display_data"
    },
    {
     "data": {
      "text/plain": [
       "'entsprached'"
      ]
     },
     "metadata": {},
     "output_type": "display_data"
    },
    {
     "data": {
      "text/plain": [
       "'nehmen'"
      ]
     },
     "metadata": {},
     "output_type": "display_data"
    },
    {
     "data": {
      "text/plain": [
       "'der'"
      ]
     },
     "metadata": {},
     "output_type": "display_data"
    },
    {
     "data": {
      "text/plain": [
       "'hütigenahwordrige'"
      ]
     },
     "metadata": {},
     "output_type": "display_data"
    },
    {
     "data": {
      "text/plain": [
       "'vor'"
      ]
     },
     "metadata": {},
     "output_type": "display_data"
    },
    {
     "data": {
      "text/plain": [
       "'alm'"
      ]
     },
     "metadata": {},
     "output_type": "display_data"
    },
    {
     "data": {
      "text/plain": [
       "'phosite'"
      ]
     },
     "metadata": {},
     "output_type": "display_data"
    },
    {
     "data": {
      "text/plain": [
       "'sicherheitstechnik'"
      ]
     },
     "metadata": {},
     "output_type": "display_data"
    },
    {
     "data": {
      "text/plain": [
       "'pinktekraftigkeit'"
      ]
     },
     "metadata": {},
     "output_type": "display_data"
    },
    {
     "data": {
      "text/plain": [
       "'ruhmnprogramm'"
      ]
     },
     "metadata": {},
     "output_type": "display_data"
    },
    {
     "data": {
      "text/plain": [
       "'für'"
      ]
     },
     "metadata": {},
     "output_type": "display_data"
    },
    {
     "data": {
      "text/plain": [
       "'die'"
      ]
     },
     "metadata": {},
     "output_type": "display_data"
    },
    {
     "data": {
      "text/plain": [
       "'hütig'"
      ]
     },
     "metadata": {},
     "output_type": "display_data"
    },
    {
     "data": {
      "text/plain": [
       "'therapeutisch'"
      ]
     },
     "metadata": {},
     "output_type": "display_data"
    },
    {
     "data": {
      "text/plain": [
       "'therbeutigegebeheite'"
      ]
     },
     "metadata": {},
     "output_type": "display_data"
    },
    {
     "data": {
      "text/plain": [
       "'eitdes'"
      ]
     },
     "metadata": {},
     "output_type": "display_data"
    },
    {
     "data": {
      "text/plain": [
       "'möglichkeit'"
      ]
     },
     "metadata": {},
     "output_type": "display_data"
    },
    {
     "data": {
      "text/plain": [
       "'agar'"
      ]
     },
     "metadata": {},
     "output_type": "display_data"
    },
    {
     "data": {
      "text/plain": [
       "'in'"
      ]
     },
     "metadata": {},
     "output_type": "display_data"
    },
    {
     "data": {
      "text/plain": [
       "'unmittelbarer'"
      ]
     },
     "metadata": {},
     "output_type": "display_data"
    },
    {
     "data": {
      "text/plain": [
       "'nöchi'"
      ]
     },
     "metadata": {},
     "output_type": "display_data"
    },
    {
     "data": {
      "text/plain": [
       "'grundstück'"
      ]
     },
     "metadata": {},
     "output_type": "display_data"
    },
    {
     "data": {
      "text/plain": [
       "'gottorstarb'"
      ]
     },
     "metadata": {},
     "output_type": "display_data"
    },
    {
     "data": {
      "text/plain": [
       "'areal'"
      ]
     },
     "metadata": {},
     "output_type": "display_data"
    },
    {
     "data": {
      "text/plain": [
       "'vom'"
      ]
     },
     "metadata": {},
     "output_type": "display_data"
    },
    {
     "data": {
      "text/plain": [
       "'bezirk'"
      ]
     },
     "metadata": {},
     "output_type": "display_data"
    },
    {
     "data": {
      "text/plain": [
       "'reinsiedeln'"
      ]
     },
     "metadata": {},
     "output_type": "display_data"
    },
    {
     "data": {
      "text/plain": [
       "'in'"
      ]
     },
     "metadata": {},
     "output_type": "display_data"
    },
    {
     "data": {
      "text/plain": [
       "'buracht'"
      ]
     },
     "metadata": {},
     "output_type": "display_data"
    },
    {
     "data": {
      "text/plain": [
       "'zer'"
      ]
     },
     "metadata": {},
     "output_type": "display_data"
    },
    {
     "data": {
      "text/plain": [
       "'werbe'"
      ]
     },
     "metadata": {},
     "output_type": "display_data"
    },
    {
     "data": {
      "text/plain": [
       "'dass'"
      ]
     },
     "metadata": {},
     "output_type": "display_data"
    },
    {
     "data": {
      "text/plain": [
       "'hat'"
      ]
     },
     "metadata": {},
     "output_type": "display_data"
    },
    {
     "data": {
      "text/plain": [
       "'er'"
      ]
     },
     "metadata": {},
     "output_type": "display_data"
    },
    {
     "data": {
      "text/plain": [
       "'bereits'"
      ]
     },
     "metadata": {},
     "output_type": "display_data"
    },
    {
     "data": {
      "text/plain": [
       "'aun'"
      ]
     },
     "metadata": {},
     "output_type": "display_data"
    },
    {
     "data": {
      "text/plain": [
       "'zeinzee'"
      ]
     },
     "metadata": {},
     "output_type": "display_data"
    },
    {
     "data": {
      "text/plain": [
       "'stimmfog'"
      ]
     },
     "metadata": {},
     "output_type": "display_data"
    },
    {
     "data": {
      "text/plain": [
       "'faguacas'"
      ]
     },
     "metadata": {},
     "output_type": "display_data"
    },
    {
     "data": {
      "text/plain": [
       "'nachm'"
      ]
     },
     "metadata": {},
     "output_type": "display_data"
    },
    {
     "data": {
      "text/plain": [
       "'er'"
      ]
     },
     "metadata": {},
     "output_type": "display_data"
    },
    {
     "data": {
      "text/plain": [
       "'folgte'"
      ]
     },
     "metadata": {},
     "output_type": "display_data"
    },
    {
     "data": {
      "text/plain": [
       "'arnekturwettbewerb'"
      ]
     },
     "metadata": {},
     "output_type": "display_data"
    },
    {
     "data": {
      "text/plain": [
       "'und'"
      ]
     },
     "metadata": {},
     "output_type": "display_data"
    },
    {
     "data": {
      "text/plain": [
       "'wieder'"
      ]
     },
     "metadata": {},
     "output_type": "display_data"
    },
    {
     "data": {
      "text/plain": [
       "'bearbeitig'"
      ]
     },
     "metadata": {},
     "output_type": "display_data"
    },
    {
     "data": {
      "text/plain": [
       "'vom'"
      ]
     },
     "metadata": {},
     "output_type": "display_data"
    },
    {
     "data": {
      "text/plain": [
       "'sieger'"
      ]
     },
     "metadata": {},
     "output_type": "display_data"
    },
    {
     "data": {
      "text/plain": [
       "'projekt'"
      ]
     },
     "metadata": {},
     "output_type": "display_data"
    },
    {
     "data": {
      "text/plain": [
       "'han'"
      ]
     },
     "metadata": {},
     "output_type": "display_data"
    },
    {
     "data": {
      "text/plain": [
       "'sich'"
      ]
     },
     "metadata": {},
     "output_type": "display_data"
    },
    {
     "data": {
      "text/plain": [
       "'die'"
      ]
     },
     "metadata": {},
     "output_type": "display_data"
    },
    {
     "data": {
      "text/plain": [
       "'sam'"
      ]
     },
     "metadata": {},
     "output_type": "display_data"
    },
    {
     "data": {
      "text/plain": [
       "'köchte'"
      ]
     },
     "metadata": {},
     "output_type": "display_data"
    },
    {
     "data": {
      "text/plain": [
       "'vor'"
      ]
     },
     "metadata": {},
     "output_type": "display_data"
    },
    {
     "data": {
      "text/plain": [
       "'zwölf'"
      ]
     },
     "metadata": {},
     "output_type": "display_data"
    },
    {
     "data": {
      "text/plain": [
       "'komma'"
      ]
     },
     "metadata": {},
     "output_type": "display_data"
    },
    {
     "data": {
      "text/plain": [
       "'sieben'"
      ]
     },
     "metadata": {},
     "output_type": "display_data"
    },
    {
     "data": {
      "text/plain": [
       "'drüh'"
      ]
     },
     "metadata": {},
     "output_type": "display_data"
    },
    {
     "data": {
      "text/plain": [
       "'millionen'"
      ]
     },
     "metadata": {},
     "output_type": "display_data"
    },
    {
     "data": {
      "text/plain": [
       "'frankenga'"
      ]
     },
     "metadata": {},
     "output_type": "display_data"
    },
    {
     "data": {
      "text/plain": [
       "'dott'"
      ]
     },
     "metadata": {},
     "output_type": "display_data"
    },
    {
     "data": {
      "text/plain": [
       "'ruse'"
      ]
     },
     "metadata": {},
     "output_type": "display_data"
    },
    {
     "data": {
      "text/plain": [
       "'resultiert'"
      ]
     },
     "metadata": {},
     "output_type": "display_data"
    },
    {
     "data": {
      "text/plain": [
       "'jetzt'"
      ]
     },
     "metadata": {},
     "output_type": "display_data"
    },
    {
     "data": {
      "text/plain": [
       "'der'"
      ]
     },
     "metadata": {},
     "output_type": "display_data"
    },
    {
     "data": {
      "text/plain": [
       "'kantonsbitrag'"
      ]
     },
     "metadata": {},
     "output_type": "display_data"
    },
    {
     "data": {
      "text/plain": [
       "'vor'"
      ]
     },
     "metadata": {},
     "output_type": "display_data"
    },
    {
     "data": {
      "text/plain": [
       "'elfcommunün'"
      ]
     },
     "metadata": {},
     "output_type": "display_data"
    },
    {
     "data": {
      "text/plain": [
       "'millionenfrancken'"
      ]
     },
     "metadata": {},
     "output_type": "display_data"
    },
    {
     "data": {
      "text/plain": [
       "'dajo'"
      ]
     },
     "metadata": {},
     "output_type": "display_data"
    },
    {
     "data": {
      "text/plain": [
       "'ous'"
      ]
     },
     "metadata": {},
     "output_type": "display_data"
    },
    {
     "data": {
      "text/plain": [
       "'maximal'"
      ]
     },
     "metadata": {},
     "output_type": "display_data"
    },
    {
     "data": {
      "text/plain": [
       "'werkt'"
      ]
     },
     "metadata": {},
     "output_type": "display_data"
    },
    {
     "data": {
      "text/plain": [
       "'zerstoen'"
      ]
     },
     "metadata": {},
     "output_type": "display_data"
    },
    {
     "data": {
      "text/plain": [
       "'die'"
      ]
     },
     "metadata": {},
     "output_type": "display_data"
    },
    {
     "data": {
      "text/plain": [
       "'berachtiger'"
      ]
     },
     "metadata": {},
     "output_type": "display_data"
    },
    {
     "data": {
      "text/plain": [
       "'beotrage'"
      ]
     },
     "metadata": {},
     "output_type": "display_data"
    },
    {
     "data": {
      "text/plain": [
       "'vor'"
      ]
     },
     "metadata": {},
     "output_type": "display_data"
    },
    {
     "data": {
      "text/plain": [
       "'dem'"
      ]
     },
     "metadata": {},
     "output_type": "display_data"
    },
    {
     "data": {
      "text/plain": [
       "'betrag'"
      ]
     },
     "metadata": {},
     "output_type": "display_data"
    },
    {
     "data": {
      "text/plain": [
       "'begründet'"
      ]
     },
     "metadata": {},
     "output_type": "display_data"
    },
    {
     "data": {
      "text/plain": [
       "'sich'"
      ]
     },
     "metadata": {},
     "output_type": "display_data"
    },
    {
     "data": {
      "text/plain": [
       "'vensetzlicher'"
      ]
     },
     "metadata": {},
     "output_type": "display_data"
    },
    {
     "data": {
      "text/plain": [
       "'leichtik'"
      ]
     },
     "metadata": {},
     "output_type": "display_data"
    },
    {
     "data": {
      "text/plain": [
       "'sufttrag'"
      ]
     },
     "metadata": {},
     "output_type": "display_data"
    },
    {
     "data": {
      "text/plain": [
       "'wo'"
      ]
     },
     "metadata": {},
     "output_type": "display_data"
    },
    {
     "data": {
      "text/plain": [
       "'von'"
      ]
     },
     "metadata": {},
     "output_type": "display_data"
    },
    {
     "data": {
      "text/plain": [
       "'kanton'"
      ]
     },
     "metadata": {},
     "output_type": "display_data"
    },
    {
     "data": {
      "text/plain": [
       "'trot'"
      ]
     },
     "metadata": {},
     "output_type": "display_data"
    },
    {
     "data": {
      "text/plain": [
       "'bewilligen'"
      ]
     },
     "metadata": {},
     "output_type": "display_data"
    },
    {
     "data": {
      "text/plain": [
       "'ish'"
      ]
     },
     "metadata": {},
     "output_type": "display_data"
    },
    {
     "data": {
      "text/plain": [
       "'das'"
      ]
     },
     "metadata": {},
     "output_type": "display_data"
    },
    {
     "data": {
      "text/plain": [
       "'ganze'"
      ]
     },
     "metadata": {},
     "output_type": "display_data"
    },
    {
     "data": {
      "text/plain": [
       "'projekt'"
      ]
     },
     "metadata": {},
     "output_type": "display_data"
    },
    {
     "data": {
      "text/plain": [
       "'mifundierte'"
      ]
     },
     "metadata": {},
     "output_type": "display_data"
    },
    {
     "data": {
      "text/plain": [
       "'narhwies'"
      ]
     },
     "metadata": {},
     "output_type": "display_data"
    },
    {
     "data": {
      "text/plain": [
       "'über'"
      ]
     },
     "metadata": {},
     "output_type": "display_data"
    },
    {
     "data": {
      "text/plain": [
       "'dem'"
      ]
     },
     "metadata": {},
     "output_type": "display_data"
    },
    {
     "data": {
      "text/plain": [
       "'bedorf'"
      ]
     },
     "metadata": {},
     "output_type": "display_data"
    },
    {
     "data": {
      "text/plain": [
       "'vor'"
      ]
     },
     "metadata": {},
     "output_type": "display_data"
    },
    {
     "data": {
      "text/plain": [
       "'seine'"
      ]
     },
     "metadata": {},
     "output_type": "display_data"
    },
    {
     "data": {
      "text/plain": [
       "'geheimplatz'"
      ]
     },
     "metadata": {},
     "output_type": "display_data"
    },
    {
     "data": {
      "text/plain": [
       "'erstellt'"
      ]
     },
     "metadata": {},
     "output_type": "display_data"
    },
    {
     "data": {
      "text/plain": [
       "'wurde'"
      ]
     },
     "metadata": {},
     "output_type": "display_data"
    },
    {
     "data": {
      "text/plain": [
       "'aberfalls'"
      ]
     },
     "metadata": {},
     "output_type": "display_data"
    },
    {
     "data": {
      "text/plain": [
       "'die'"
      ]
     },
     "metadata": {},
     "output_type": "display_data"
    },
    {
     "data": {
      "text/plain": [
       "'stromorganisation'"
      ]
     },
     "metadata": {},
     "output_type": "display_data"
    },
    {
     "data": {
      "text/plain": [
       "'der'"
      ]
     },
     "metadata": {},
     "output_type": "display_data"
    },
    {
     "data": {
      "text/plain": [
       "'hüttige'"
      ]
     },
     "metadata": {},
     "output_type": "display_data"
    },
    {
     "data": {
      "text/plain": [
       "'richtlinie'"
      ]
     },
     "metadata": {},
     "output_type": "display_data"
    },
    {
     "data": {
      "text/plain": [
       "'und'"
      ]
     },
     "metadata": {},
     "output_type": "display_data"
    },
    {
     "data": {
      "text/plain": [
       "'therapeutisch'"
      ]
     },
     "metadata": {},
     "output_type": "display_data"
    },
    {
     "data": {
      "text/plain": [
       "'auwordrige'"
      ]
     },
     "metadata": {},
     "output_type": "display_data"
    },
    {
     "data": {
      "text/plain": [
       "'kraftworde'"
      ]
     },
     "metadata": {},
     "output_type": "display_data"
    },
    {
     "data": {
      "text/plain": [
       "'aufgrund'"
      ]
     },
     "metadata": {},
     "output_type": "display_data"
    },
    {
     "data": {
      "text/plain": [
       "'wurde'"
      ]
     },
     "metadata": {},
     "output_type": "display_data"
    },
    {
     "data": {
      "text/plain": [
       "'setzliche'"
      ]
     },
     "metadata": {},
     "output_type": "display_data"
    },
    {
     "data": {
      "text/plain": [
       "'funksetzlicher'"
      ]
     },
     "metadata": {},
     "output_type": "display_data"
    },
    {
     "data": {
      "text/plain": [
       "'leichtegshuftrag'"
      ]
     },
     "metadata": {},
     "output_type": "display_data"
    },
    {
     "data": {
      "text/plain": [
       "'für'"
      ]
     },
     "metadata": {},
     "output_type": "display_data"
    },
    {
     "data": {
      "text/plain": [
       "'manche'"
      ]
     },
     "metadata": {},
     "output_type": "display_data"
    },
    {
     "data": {
      "text/plain": [
       "'mit'"
      ]
     },
     "metadata": {},
     "output_type": "display_data"
    },
    {
     "data": {
      "text/plain": [
       "'behendrik'"
      ]
     },
     "metadata": {},
     "output_type": "display_data"
    },
    {
     "data": {
      "text/plain": [
       "'unterstützt'"
      ]
     },
     "metadata": {},
     "output_type": "display_data"
    },
    {
     "data": {
      "text/plain": [
       "'dßvp'"
      ]
     },
     "metadata": {},
     "output_type": "display_data"
    },
    {
     "data": {
      "text/plain": [
       "'fraktion'"
      ]
     },
     "metadata": {},
     "output_type": "display_data"
    },
    {
     "data": {
      "text/plain": [
       "'großmehrheitlich'"
      ]
     },
     "metadata": {},
     "output_type": "display_data"
    },
    {
     "data": {
      "text/plain": [
       "'die'"
      ]
     },
     "metadata": {},
     "output_type": "display_data"
    },
    {
     "data": {
      "text/plain": [
       "'usgabebewilligung'"
      ]
     },
     "metadata": {},
     "output_type": "display_data"
    },
    {
     "data": {
      "text/plain": [
       "'welche'"
      ]
     },
     "metadata": {},
     "output_type": "display_data"
    },
    {
     "data": {
      "text/plain": [
       "'dank'"
      ]
     },
     "metadata": {},
     "output_type": "display_data"
    },
    {
     "data": {
      "text/plain": [
       "'feride'"
      ]
     },
     "metadata": {},
     "output_type": "display_data"
    },
    {
     "data": {
      "text/plain": [
       "'und'"
      ]
     },
     "metadata": {},
     "output_type": "display_data"
    },
    {
     "data": {
      "text/plain": [
       "'stitzigs'"
      ]
     },
     "metadata": {},
     "output_type": "display_data"
    },
    {
     "data": {
      "text/plain": [
       "'wurde'"
      ]
     },
     "metadata": {},
     "output_type": "display_data"
    },
    {
     "data": {
      "text/plain": [
       "'di'"
      ]
     },
     "metadata": {},
     "output_type": "display_data"
    },
    {
     "data": {
      "text/plain": [
       "'frieiviiete'"
      ]
     },
     "metadata": {},
     "output_type": "display_data"
    },
    {
     "data": {
      "text/plain": [
       "'fraktionsspracheneragewolywitz'"
      ]
     },
     "metadata": {},
     "output_type": "display_data"
    },
    {
     "data": {
      "text/plain": [
       "'für'"
      ]
     },
     "metadata": {},
     "output_type": "display_data"
    },
    {
     "data": {
      "text/plain": [
       "'gelbe'"
      ]
     },
     "metadata": {},
     "output_type": "display_data"
    },
    {
     "data": {
      "text/plain": [
       "'fraktionen'"
      ]
     },
     "metadata": {},
     "output_type": "display_data"
    },
    {
     "data": {
      "text/plain": [
       "'herr'"
      ]
     },
     "metadata": {},
     "output_type": "display_data"
    },
    {
     "data": {
      "text/plain": [
       "'prädent'"
      ]
     },
     "metadata": {},
     "output_type": "display_data"
    },
    {
     "data": {
      "text/plain": [
       "'wiener'"
      ]
     },
     "metadata": {},
     "output_type": "display_data"
    },
    {
     "data": {
      "text/plain": [
       "'monlerre'"
      ]
     },
     "metadata": {},
     "output_type": "display_data"
    },
    {
     "data": {
      "text/plain": [
       "'sich'"
      ]
     },
     "metadata": {},
     "output_type": "display_data"
    },
    {
     "data": {
      "text/plain": [
       "'zwelffixiret'"
      ]
     },
     "metadata": {},
     "output_type": "display_data"
    },
    {
     "data": {
      "text/plain": [
       "'sind'"
      ]
     },
     "metadata": {},
     "output_type": "display_data"
    },
    {
     "data": {
      "text/plain": [
       "'tokhton'"
      ]
     },
     "metadata": {},
     "output_type": "display_data"
    },
    {
     "data": {
      "text/plain": [
       "'u'"
      ]
     },
     "metadata": {},
     "output_type": "display_data"
    },
    {
     "data": {
      "text/plain": [
       "'dumfer'"
      ]
     },
     "metadata": {},
     "output_type": "display_data"
    },
    {
     "data": {
      "text/plain": [
       "'mochtwurz'"
      ]
     },
     "metadata": {},
     "output_type": "display_data"
    },
    {
     "data": {
      "text/plain": [
       "'grinlebrale'"
      ]
     },
     "metadata": {},
     "output_type": "display_data"
    },
    {
     "data": {
      "text/plain": [
       "'rachti'"
      ]
     },
     "metadata": {},
     "output_type": "display_data"
    },
    {
     "data": {
      "text/plain": [
       "'der'"
      ]
     },
     "metadata": {},
     "output_type": "display_data"
    },
    {
     "data": {
      "text/plain": [
       "'satz'"
      ]
     },
     "metadata": {},
     "output_type": "display_data"
    },
    {
     "data": {
      "text/plain": [
       "'von'"
      ]
     },
     "metadata": {},
     "output_type": "display_data"
    },
    {
     "data": {
      "text/plain": [
       "'rietigsbuch'"
      ]
     },
     "metadata": {},
     "output_type": "display_data"
    },
    {
     "data": {
      "text/plain": [
       "'von'"
      ]
     },
     "metadata": {},
     "output_type": "display_data"
    },
    {
     "data": {
      "text/plain": [
       "'fhöenix'"
      ]
     },
     "metadata": {},
     "output_type": "display_data"
    },
    {
     "data": {
      "text/plain": [
       "'wonheim'"
      ]
     },
     "metadata": {},
     "output_type": "display_data"
    },
    {
     "data": {
      "text/plain": [
       "'in'"
      ]
     },
     "metadata": {},
     "output_type": "display_data"
    },
    {
     "data": {
      "text/plain": [
       "'einzeeder'"
      ]
     },
     "metadata": {},
     "output_type": "display_data"
    },
    {
     "data": {
      "text/plain": [
       "'sinnvoll'"
      ]
     },
     "metadata": {},
     "output_type": "display_data"
    },
    {
     "data": {
      "text/plain": [
       "'nötig'"
      ]
     },
     "metadata": {},
     "output_type": "display_data"
    },
    {
     "data": {
      "text/plain": [
       "'die'"
      ]
     },
     "metadata": {},
     "output_type": "display_data"
    },
    {
     "data": {
      "text/plain": [
       "'beide'"
      ]
     },
     "metadata": {},
     "output_type": "display_data"
    },
    {
     "data": {
      "text/plain": [
       "'autgebiefe'"
      ]
     },
     "metadata": {},
     "output_type": "display_data"
    },
    {
     "data": {
      "text/plain": [
       "'ore'"
      ]
     },
     "metadata": {},
     "output_type": "display_data"
    },
    {
     "data": {
      "text/plain": [
       "'und'"
      ]
     },
     "metadata": {},
     "output_type": "display_data"
    },
    {
     "data": {
      "text/plain": [
       "'soneck'"
      ]
     },
     "metadata": {},
     "output_type": "display_data"
    },
    {
     "data": {
      "text/plain": [
       "'entsprache'"
      ]
     },
     "metadata": {},
     "output_type": "display_data"
    },
    {
     "data": {
      "text/plain": [
       "'nünbernötigund'"
      ]
     },
     "metadata": {},
     "output_type": "display_data"
    },
    {
     "data": {
      "text/plain": [
       "'zukünftige'"
      ]
     },
     "metadata": {},
     "output_type": "display_data"
    },
    {
     "data": {
      "text/plain": [
       "'buhdihe'"
      ]
     },
     "metadata": {},
     "output_type": "display_data"
    },
    {
     "data": {
      "text/plain": [
       "'horworderige'"
      ]
     },
     "metadata": {},
     "output_type": "display_data"
    },
    {
     "data": {
      "text/plain": [
       "'und'"
      ]
     },
     "metadata": {},
     "output_type": "display_data"
    },
    {
     "data": {
      "text/plain": [
       "'sichereitsstanmawordfordemmn'"
      ]
     },
     "metadata": {},
     "output_type": "display_data"
    },
    {
     "data": {
      "text/plain": [
       "'wommodernen'"
      ]
     },
     "metadata": {},
     "output_type": "display_data"
    },
    {
     "data": {
      "text/plain": [
       "'monheim'"
      ]
     },
     "metadata": {},
     "output_type": "display_data"
    },
    {
     "data": {
      "text/plain": [
       "'bevorhlag'"
      ]
     },
     "metadata": {},
     "output_type": "display_data"
    },
    {
     "data": {
      "text/plain": [
       "'breg'"
      ]
     },
     "metadata": {},
     "output_type": "display_data"
    },
    {
     "data": {
      "text/plain": [
       "'und'"
      ]
     },
     "metadata": {},
     "output_type": "display_data"
    },
    {
     "data": {
      "text/plain": [
       "'dorgument'"
      ]
     },
     "metadata": {},
     "output_type": "display_data"
    },
    {
     "data": {
      "text/plain": [
       "'für'"
      ]
     },
     "metadata": {},
     "output_type": "display_data"
    },
    {
     "data": {
      "text/plain": [
       "'de'"
      ]
     },
     "metadata": {},
     "output_type": "display_data"
    },
    {
     "data": {
      "text/plain": [
       "'zursätze'"
      ]
     },
     "metadata": {},
     "output_type": "display_data"
    },
    {
     "data": {
      "text/plain": [
       "'für'"
      ]
     },
     "metadata": {},
     "output_type": "display_data"
    },
    {
     "data": {
      "text/plain": [
       "'widri'"
      ]
     },
     "metadata": {},
     "output_type": "display_data"
    },
    {
     "data": {
      "text/plain": [
       "'vozrandsgefrieß'"
      ]
     },
     "metadata": {},
     "output_type": "display_data"
    },
    {
     "data": {
      "text/plain": [
       "'mohnhein'"
      ]
     },
     "metadata": {},
     "output_type": "display_data"
    },
    {
     "data": {
      "text/plain": [
       "'plattz'"
      ]
     },
     "metadata": {},
     "output_type": "display_data"
    },
    {
     "data": {
      "text/plain": [
       "'überzügt'"
      ]
     },
     "metadata": {},
     "output_type": "display_data"
    },
    {
     "data": {
      "text/plain": [
       "'üs'"
      ]
     },
     "metadata": {},
     "output_type": "display_data"
    },
    {
     "data": {
      "text/plain": [
       "'darum'"
      ]
     },
     "metadata": {},
     "output_type": "display_data"
    },
    {
     "data": {
      "text/plain": [
       "'und'"
      ]
     },
     "metadata": {},
     "output_type": "display_data"
    },
    {
     "data": {
      "text/plain": [
       "'schützgerbe'"
      ]
     },
     "metadata": {},
     "output_type": "display_data"
    },
    {
     "data": {
      "text/plain": [
       "'fraktion'"
      ]
     },
     "metadata": {},
     "output_type": "display_data"
    },
    {
     "data": {
      "text/plain": [
       "'eistimmig'"
      ]
     },
     "metadata": {},
     "output_type": "display_data"
    },
    {
     "data": {
      "text/plain": [
       "'die'"
      ]
     },
     "metadata": {},
     "output_type": "display_data"
    },
    {
     "data": {
      "text/plain": [
       "'usgaberwilligung'"
      ]
     },
     "metadata": {},
     "output_type": "display_data"
    },
    {
     "data": {
      "text/plain": [
       "'gemnazegedigsl'"
      ]
     },
     "metadata": {},
     "output_type": "display_data"
    },
    {
     "data": {
      "text/plain": [
       "'aus'"
      ]
     },
     "metadata": {},
     "output_type": "display_data"
    },
    {
     "data": {
      "text/plain": [
       "'schloßdanc'"
      ]
     },
     "metadata": {},
     "output_type": "display_data"
    },
    {
     "data": {
      "text/plain": [
       "'rm'"
      ]
     },
     "metadata": {},
     "output_type": "display_data"
    },
    {
     "data": {
      "text/plain": [
       "'gezwiete'"
      ]
     },
     "metadata": {},
     "output_type": "display_data"
    },
    {
     "data": {
      "text/plain": [
       "'die'"
      ]
     },
     "metadata": {},
     "output_type": "display_data"
    },
    {
     "data": {
      "text/plain": [
       "'wotmaligas'"
      ]
     },
     "metadata": {},
     "output_type": "display_data"
    },
    {
     "data": {
      "text/plain": [
       "'rat'"
      ]
     },
     "metadata": {},
     "output_type": "display_data"
    },
    {
     "data": {
      "text/plain": [
       "'derfraunzhom'"
      ]
     },
     "metadata": {},
     "output_type": "display_data"
    },
    {
     "data": {
      "text/plain": [
       "'sind'"
      ]
     },
     "metadata": {},
     "output_type": "display_data"
    },
    {
     "data": {
      "text/plain": [
       "'einsiedler'"
      ]
     },
     "metadata": {},
     "output_type": "display_data"
    },
    {
     "data": {
      "text/plain": [
       "'aiteltosmacher'"
      ]
     },
     "metadata": {},
     "output_type": "display_data"
    },
    {
     "data": {
      "text/plain": [
       "'breggen'"
      ]
     },
     "metadata": {},
     "output_type": "display_data"
    },
    {
     "data": {
      "text/plain": [
       "'duschmerksamkeit'"
      ]
     },
     "metadata": {},
     "output_type": "display_data"
    },
    {
     "data": {
      "text/plain": [
       "'uf'"
      ]
     },
     "metadata": {},
     "output_type": "display_data"
    },
    {
     "data": {
      "text/plain": [
       "'ebestimmter'"
      ]
     },
     "metadata": {},
     "output_type": "display_data"
    },
    {
     "data": {
      "text/plain": [
       "'sparkferdinftenverdämberr'"
      ]
     },
     "metadata": {},
     "output_type": "display_data"
    },
    {
     "data": {
      "text/plain": [
       "'de'"
      ]
     },
     "metadata": {},
     "output_type": "display_data"
    },
    {
     "data": {
      "text/plain": [
       "'ufgabewirkung'"
      ]
     },
     "metadata": {},
     "output_type": "display_data"
    },
    {
     "data": {
      "text/plain": [
       "'richte'"
      ]
     },
     "metadata": {},
     "output_type": "display_data"
    },
    {
     "data": {
      "text/plain": [
       "'die'"
      ]
     },
     "metadata": {},
     "output_type": "display_data"
    },
    {
     "data": {
      "text/plain": [
       "'stiftig'"
      ]
     },
     "metadata": {},
     "output_type": "display_data"
    },
    {
     "data": {
      "text/plain": [
       "'königliches'"
      ]
     },
     "metadata": {},
     "output_type": "display_data"
    },
    {
     "data": {
      "text/plain": [
       "'urshangecgild'"
      ]
     },
     "metadata": {},
     "output_type": "display_data"
    },
    {
     "data": {
      "text/plain": [
       "'fürise'"
      ]
     },
     "metadata": {},
     "output_type": "display_data"
    },
    {
     "data": {
      "text/plain": [
       "'kanton'"
      ]
     },
     "metadata": {},
     "output_type": "display_data"
    },
    {
     "data": {
      "text/plain": [
       "'wurd'"
      ]
     },
     "metadata": {},
     "output_type": "display_data"
    },
    {
     "data": {
      "text/plain": [
       "'zeigt'"
      ]
     },
     "metadata": {},
     "output_type": "display_data"
    },
    {
     "data": {
      "text/plain": [
       "'das'"
      ]
     },
     "metadata": {},
     "output_type": "display_data"
    },
    {
     "data": {
      "text/plain": [
       "'büste'"
      ]
     },
     "metadata": {},
     "output_type": "display_data"
    },
    {
     "data": {
      "text/plain": [
       "'manche'"
      ]
     },
     "metadata": {},
     "output_type": "display_data"
    },
    {
     "data": {
      "text/plain": [
       "'mitterundt'"
      ]
     },
     "metadata": {},
     "output_type": "display_data"
    },
    {
     "data": {
      "text/plain": [
       "'sdoat'"
      ]
     },
     "metadata": {},
     "output_type": "display_data"
    },
    {
     "data": {
      "text/plain": [
       "'ertenzeich'"
      ]
     },
     "metadata": {},
     "output_type": "display_data"
    },
    {
     "data": {
      "text/plain": [
       "'und'"
      ]
     },
     "metadata": {},
     "output_type": "display_data"
    },
    {
     "data": {
      "text/plain": [
       "'zweitens'"
      ]
     },
     "metadata": {},
     "output_type": "display_data"
    },
    {
     "data": {
      "text/plain": [
       "'dass'"
      ]
     },
     "metadata": {},
     "output_type": "display_data"
    },
    {
     "data": {
      "text/plain": [
       "'aufgrund'"
      ]
     },
     "metadata": {},
     "output_type": "display_data"
    },
    {
     "data": {
      "text/plain": [
       "'von'"
      ]
     },
     "metadata": {},
     "output_type": "display_data"
    },
    {
     "data": {
      "text/plain": [
       "'erer'"
      ]
     },
     "metadata": {},
     "output_type": "display_data"
    },
    {
     "data": {
      "text/plain": [
       "'persönliche'"
      ]
     },
     "metadata": {},
     "output_type": "display_data"
    },
    {
     "data": {
      "text/plain": [
       "'initiative'"
      ]
     },
     "metadata": {},
     "output_type": "display_data"
    },
    {
     "data": {
      "text/plain": [
       "'als'"
      ]
     },
     "metadata": {},
     "output_type": "display_data"
    },
    {
     "data": {
      "text/plain": [
       "'großes'"
      ]
     },
     "metadata": {},
     "output_type": "display_data"
    },
    {
     "data": {
      "text/plain": [
       "'warchr'"
      ]
     },
     "metadata": {},
     "output_type": "display_data"
    },
    {
     "data": {
      "text/plain": [
       "'schofferwarte'"
      ]
     },
     "metadata": {},
     "output_type": "display_data"
    },
    {
     "data": {
      "text/plain": [
       "'od'"
      ]
     },
     "metadata": {},
     "output_type": "display_data"
    },
    {
     "data": {
      "text/plain": [
       "'riece'"
      ]
     },
     "metadata": {},
     "output_type": "display_data"
    },
    {
     "data": {
      "text/plain": [
       "'geor'"
      ]
     },
     "metadata": {},
     "output_type": "display_data"
    },
    {
     "data": {
      "text/plain": [
       "'onhet'"
      ]
     },
     "metadata": {},
     "output_type": "display_data"
    },
    {
     "data": {
      "text/plain": [
       "'und'"
      ]
     },
     "metadata": {},
     "output_type": "display_data"
    },
    {
     "data": {
      "text/plain": [
       "'labeskoliti'"
      ]
     },
     "metadata": {},
     "output_type": "display_data"
    },
    {
     "data": {
      "text/plain": [
       "'kontonentscheidend'"
      ]
     },
     "metadata": {},
     "output_type": "display_data"
    },
    {
     "data": {
      "text/plain": [
       "'verbesserte'"
      ]
     },
     "metadata": {},
     "output_type": "display_data"
    },
    {
     "data": {
      "text/plain": [
       "'dtetrynananane'"
      ]
     },
     "metadata": {},
     "output_type": "display_data"
    },
    {
     "data": {
      "text/plain": [
       "'fronchali'"
      ]
     },
     "metadata": {},
     "output_type": "display_data"
    },
    {
     "data": {
      "text/plain": [
       "'einsiedler'"
      ]
     },
     "metadata": {},
     "output_type": "display_data"
    },
    {
     "data": {
      "text/plain": [
       "'richardhiwilacher'"
      ]
     },
     "metadata": {},
     "output_type": "display_data"
    },
    {
     "data": {
      "text/plain": [
       "'ulsgös'"
      ]
     },
     "metadata": {},
     "output_type": "display_data"
    },
    {
     "data": {
      "text/plain": [
       "'rickerbach'"
      ]
     },
     "metadata": {},
     "output_type": "display_data"
    },
    {
     "data": {
      "text/plain": [
       "'din'"
      ]
     },
     "metadata": {},
     "output_type": "display_data"
    },
    {
     "data": {
      "text/plain": [
       "'diryvanavo'"
      ]
     },
     "metadata": {},
     "output_type": "display_data"
    },
    {
     "data": {
      "text/plain": [
       "'sich'"
      ]
     },
     "metadata": {},
     "output_type": "display_data"
    },
    {
     "data": {
      "text/plain": [
       "'einig'"
      ]
     },
     "metadata": {},
     "output_type": "display_data"
    },
    {
     "data": {
      "text/plain": [
       "'zeiten'"
      ]
     },
     "metadata": {},
     "output_type": "display_data"
    },
    {
     "data": {
      "text/plain": [
       "'ebruri'"
      ]
     },
     "metadata": {},
     "output_type": "display_data"
    },
    {
     "data": {
      "text/plain": [
       "'öphie'"
      ]
     },
     "metadata": {},
     "output_type": "display_data"
    },
    {
     "data": {
      "text/plain": [
       "'den'"
      ]
     },
     "metadata": {},
     "output_type": "display_data"
    },
    {
     "data": {
      "text/plain": [
       "'kanton'"
      ]
     },
     "metadata": {},
     "output_type": "display_data"
    },
    {
     "data": {
      "text/plain": [
       "'hindnüt'"
      ]
     },
     "metadata": {},
     "output_type": "display_data"
    },
    {
     "data": {
      "text/plain": [
       "'de'"
      ]
     },
     "metadata": {},
     "output_type": "display_data"
    },
    {
     "data": {
      "text/plain": [
       "'lyddiseizuga'"
      ]
     },
     "metadata": {},
     "output_type": "display_data"
    },
    {
     "data": {
      "text/plain": [
       "'schicke'"
      ]
     },
     "metadata": {},
     "output_type": "display_data"
    },
    {
     "data": {
      "text/plain": [
       "'wird'"
      ]
     },
     "metadata": {},
     "output_type": "display_data"
    },
    {
     "data": {
      "text/plain": [
       "'nur'"
      ]
     },
     "metadata": {},
     "output_type": "display_data"
    },
    {
     "data": {
      "text/plain": [
       "'viel'"
      ]
     },
     "metadata": {},
     "output_type": "display_data"
    },
    {
     "data": {
      "text/plain": [
       "'größehete'"
      ]
     },
     "metadata": {},
     "output_type": "display_data"
    },
    {
     "data": {
      "text/plain": [
       "'urssacher'"
      ]
     },
     "metadata": {},
     "output_type": "display_data"
    },
    {
     "data": {
      "text/plain": [
       "'marmor'"
      ]
     },
     "metadata": {},
     "output_type": "display_data"
    },
    {
     "data": {
      "text/plain": [
       "'bisalber'"
      ]
     },
     "metadata": {},
     "output_type": "display_data"
    },
    {
     "data": {
      "text/plain": [
       "'parkmssasiens'"
      ]
     },
     "metadata": {},
     "output_type": "display_data"
    },
    {
     "data": {
      "text/plain": [
       "'gemocht'"
      ]
     },
     "metadata": {},
     "output_type": "display_data"
    },
    {
     "data": {
      "text/plain": [
       "'hüd'"
      ]
     },
     "metadata": {},
     "output_type": "display_data"
    },
    {
     "data": {
      "text/plain": [
       "'nach'"
      ]
     },
     "metadata": {},
     "output_type": "display_data"
    },
    {
     "data": {
      "text/plain": [
       "'wiesjar'"
      ]
     },
     "metadata": {},
     "output_type": "display_data"
    },
    {
     "data": {
      "text/plain": [
       "'stömedor'"
      ]
     },
     "metadata": {},
     "output_type": "display_data"
    },
    {
     "data": {
      "text/plain": [
       "'den'"
      ]
     },
     "metadata": {},
     "output_type": "display_data"
    },
    {
     "data": {
      "text/plain": [
       "'in'"
      ]
     },
     "metadata": {},
     "output_type": "display_data"
    },
    {
     "data": {
      "text/plain": [
       "'den'"
      ]
     },
     "metadata": {},
     "output_type": "display_data"
    },
    {
     "data": {
      "text/plain": [
       "'kantonsraten'"
      ]
     },
     "metadata": {},
     "output_type": "display_data"
    },
    {
     "data": {
      "text/plain": [
       "'krölnt'"
      ]
     },
     "metadata": {},
     "output_type": "display_data"
    },
    {
     "data": {
      "text/plain": [
       "'oderstiftigm'"
      ]
     },
     "metadata": {},
     "output_type": "display_data"
    },
    {
     "data": {
      "text/plain": [
       "'nuskar'"
      ]
     },
     "metadata": {},
     "output_type": "display_data"
    },
    {
     "data": {
      "text/plain": [
       "'bewelliger'"
      ]
     },
     "metadata": {},
     "output_type": "display_data"
    },
    {
     "data": {
      "text/plain": [
       "'wiederhin'"
      ]
     },
     "metadata": {},
     "output_type": "display_data"
    },
    {
     "data": {
      "text/plain": [
       "'ihres'"
      ]
     },
     "metadata": {},
     "output_type": "display_data"
    },
    {
     "data": {
      "text/plain": [
       "'ihre'"
      ]
     },
     "metadata": {},
     "output_type": "display_data"
    },
    {
     "data": {
      "text/plain": [
       "'bestauensichrt'"
      ]
     },
     "metadata": {},
     "output_type": "display_data"
    },
    {
     "data": {
      "text/plain": [
       "'für'"
      ]
     },
     "metadata": {},
     "output_type": "display_data"
    },
    {
     "data": {
      "text/plain": [
       "'mich'"
      ]
     },
     "metadata": {},
     "output_type": "display_data"
    },
    {
     "data": {
      "text/plain": [
       "'steigere'"
      ]
     },
     "metadata": {},
     "output_type": "display_data"
    },
    {
     "data": {
      "text/plain": [
       "'glabesgalität'"
      ]
     },
     "metadata": {},
     "output_type": "display_data"
    },
    {
     "data": {
      "text/plain": [
       "'im'"
      ]
     },
     "metadata": {},
     "output_type": "display_data"
    },
    {
     "data": {
      "text/plain": [
       "'kantone'"
      ]
     },
     "metadata": {},
     "output_type": "display_data"
    },
    {
     "data": {
      "text/plain": [
       "'nornden'"
      ]
     },
     "metadata": {},
     "output_type": "display_data"
    },
    {
     "data": {
      "text/plain": [
       "'missin'"
      ]
     },
     "metadata": {},
     "output_type": "display_data"
    },
    {
     "data": {
      "text/plain": [
       "'vortritt'"
      ]
     },
     "metadata": {},
     "output_type": "display_data"
    },
    {
     "data": {
      "text/plain": [
       "'mit'"
      ]
     },
     "metadata": {},
     "output_type": "display_data"
    },
    {
     "data": {
      "text/plain": [
       "'lyd'"
      ]
     },
     "metadata": {},
     "output_type": "display_data"
    },
    {
     "data": {
      "text/plain": [
       "'zahmrtnahber'"
      ]
     },
     "metadata": {},
     "output_type": "display_data"
    },
    {
     "data": {
      "text/plain": [
       "'exenti'"
      ]
     },
     "metadata": {},
     "output_type": "display_data"
    },
    {
     "data": {
      "text/plain": [
       "'teilichrafte'"
      ]
     },
     "metadata": {},
     "output_type": "display_data"
    },
    {
     "data": {
      "text/plain": [
       "'strausmntmittirnigenitie'"
      ]
     },
     "metadata": {},
     "output_type": "display_data"
    },
    {
     "data": {
      "text/plain": [
       "'interaktion'"
      ]
     },
     "metadata": {},
     "output_type": "display_data"
    },
    {
     "data": {
      "text/plain": [
       "'lavig'"
      ]
     },
     "metadata": {},
     "output_type": "display_data"
    },
    {
     "data": {
      "text/plain": [
       "'meddine'"
      ]
     },
     "metadata": {},
     "output_type": "display_data"
    },
    {
     "data": {
      "text/plain": [
       "'zamer'"
      ]
     },
     "metadata": {},
     "output_type": "display_data"
    },
    {
     "data": {
      "text/plain": [
       "'um'"
      ]
     },
     "metadata": {},
     "output_type": "display_data"
    },
    {
     "data": {
      "text/plain": [
       "'das'"
      ]
     },
     "metadata": {},
     "output_type": "display_data"
    },
    {
     "data": {
      "text/plain": [
       "'für'"
      ]
     },
     "metadata": {},
     "output_type": "display_data"
    },
    {
     "data": {
      "text/plain": [
       "'michn'"
      ]
     },
     "metadata": {},
     "output_type": "display_data"
    },
    {
     "data": {
      "text/plain": [
       "'entscheidende'"
      ]
     },
     "metadata": {},
     "output_type": "display_data"
    },
    {
     "data": {
      "text/plain": [
       "'fraktorfürfür'"
      ]
     },
     "metadata": {},
     "output_type": "display_data"
    },
    {
     "data": {
      "text/plain": [
       "'cetisslorius'"
      ]
     },
     "metadata": {},
     "output_type": "display_data"
    },
    {
     "data": {
      "text/plain": [
       "'sabrene'"
      ]
     },
     "metadata": {},
     "output_type": "display_data"
    },
    {
     "data": {
      "text/plain": [
       "'im'"
      ]
     },
     "metadata": {},
     "output_type": "display_data"
    },
    {
     "data": {
      "text/plain": [
       "'mittel'"
      ]
     },
     "metadata": {},
     "output_type": "display_data"
    },
    {
     "data": {
      "text/plain": [
       "'mmittelpunktstaatde'"
      ]
     },
     "metadata": {},
     "output_type": "display_data"
    },
    {
     "data": {
      "text/plain": [
       "'manchem'"
      ]
     },
     "metadata": {},
     "output_type": "display_data"
    },
    {
     "data": {
      "text/plain": [
       "'kanton'"
      ]
     },
     "metadata": {},
     "output_type": "display_data"
    },
    {
     "data": {
      "text/plain": [
       "'isch'"
      ]
     },
     "metadata": {},
     "output_type": "display_data"
    },
    {
     "data": {
      "text/plain": [
       "'pettesi'"
      ]
     },
     "metadata": {},
     "output_type": "display_data"
    },
    {
     "data": {
      "text/plain": [
       "'der'"
      ]
     },
     "metadata": {},
     "output_type": "display_data"
    },
    {
     "data": {
      "text/plain": [
       "'rusgeber'"
      ]
     },
     "metadata": {},
     "output_type": "display_data"
    },
    {
     "data": {
      "text/plain": [
       "'usgabebewerdiugung'"
      ]
     },
     "metadata": {},
     "output_type": "display_data"
    },
    {
     "data": {
      "text/plain": [
       "'zuwort'"
      ]
     },
     "metadata": {},
     "output_type": "display_data"
    },
    {
     "data": {
      "text/plain": [
       "'stehende'"
      ]
     },
     "metadata": {},
     "output_type": "display_data"
    },
    {
     "data": {
      "text/plain": [
       "'dankeun'"
      ]
     },
     "metadata": {},
     "output_type": "display_data"
    },
    {
     "data": {
      "text/plain": [
       "'wortmaltings'"
      ]
     },
     "metadata": {},
     "output_type": "display_data"
    },
    {
     "data": {
      "text/plain": [
       "'rat'"
      ]
     },
     "metadata": {},
     "output_type": "display_data"
    },
    {
     "data": {
      "text/plain": [
       "'jie'"
      ]
     },
     "metadata": {},
     "output_type": "display_data"
    },
    {
     "data": {
      "text/plain": [
       "'ieie'"
      ]
     },
     "metadata": {},
     "output_type": "display_data"
    },
    {
     "data": {
      "text/plain": [
       "'verschüpfte'"
      ]
     },
     "metadata": {},
     "output_type": "display_data"
    },
    {
     "data": {
      "text/plain": [
       "'halte'"
      ]
     },
     "metadata": {},
     "output_type": "display_data"
    },
    {
     "data": {
      "text/plain": [
       "'wurte'"
      ]
     },
     "metadata": {},
     "output_type": "display_data"
    },
    {
     "data": {
      "text/plain": [
       "'sie'"
      ]
     },
     "metadata": {},
     "output_type": "display_data"
    },
    {
     "data": {
      "text/plain": [
       "'frau'"
      ]
     },
     "metadata": {},
     "output_type": "display_data"
    },
    {
     "data": {
      "text/plain": [
       "'an'"
      ]
     },
     "metadata": {},
     "output_type": "display_data"
    },
    {
     "data": {
      "text/plain": [
       "'dammeherr'"
      ]
     },
     "metadata": {},
     "output_type": "display_data"
    },
    {
     "data": {
      "text/plain": [
       "'beseumpini'"
      ]
     },
     "metadata": {},
     "output_type": "display_data"
    },
    {
     "data": {
      "text/plain": [
       "'daman'"
      ]
     },
     "metadata": {},
     "output_type": "display_data"
    },
    {
     "data": {
      "text/plain": [
       "'und'"
      ]
     },
     "metadata": {},
     "output_type": "display_data"
    },
    {
     "data": {
      "text/plain": [
       "'heeres'"
      ]
     },
     "metadata": {},
     "output_type": "display_data"
    },
    {
     "data": {
      "text/plain": [
       "'wichtigsten'"
      ]
     },
     "metadata": {},
     "output_type": "display_data"
    },
    {
     "data": {
      "text/plain": [
       "'vorab'"
      ]
     },
     "metadata": {},
     "output_type": "display_data"
    },
    {
     "data": {
      "text/plain": [
       "'der'"
      ]
     },
     "metadata": {},
     "output_type": "display_data"
    },
    {
     "data": {
      "text/plain": [
       "'regierigsrat'"
      ]
     },
     "metadata": {},
     "output_type": "display_data"
    },
    {
     "data": {
      "text/plain": [
       "'stand'"
      ]
     },
     "metadata": {},
     "output_type": "display_data"
    },
    {
     "data": {
      "text/plain": [
       "'voll'"
      ]
     },
     "metadata": {},
     "output_type": "display_data"
    },
    {
     "data": {
      "text/plain": [
       "'umfanglich'"
      ]
     },
     "metadata": {},
     "output_type": "display_data"
    },
    {
     "data": {
      "text/plain": [
       "'hinter'"
      ]
     },
     "metadata": {},
     "output_type": "display_data"
    },
    {
     "data": {
      "text/plain": [
       "'dem'"
      ]
     },
     "metadata": {},
     "output_type": "display_data"
    },
    {
     "data": {
      "text/plain": [
       "'projekt'"
      ]
     },
     "metadata": {},
     "output_type": "display_data"
    },
    {
     "data": {
      "text/plain": [
       "'und'"
      ]
     },
     "metadata": {},
     "output_type": "display_data"
    },
    {
     "data": {
      "text/plain": [
       "'tas'"
      ]
     },
     "metadata": {},
     "output_type": "display_data"
    },
    {
     "data": {
      "text/plain": [
       "'sowohl'"
      ]
     },
     "metadata": {},
     "output_type": "display_data"
    },
    {
     "data": {
      "text/plain": [
       "'inhaltlicher'"
      ]
     },
     "metadata": {},
     "output_type": "display_data"
    },
    {
     "data": {
      "text/plain": [
       "'wie'"
      ]
     },
     "metadata": {},
     "output_type": "display_data"
    },
    {
     "data": {
      "text/plain": [
       "'auibulischer'"
      ]
     },
     "metadata": {},
     "output_type": "display_data"
    },
    {
     "data": {
      "text/plain": [
       "'hinsicht'"
      ]
     },
     "metadata": {},
     "output_type": "display_data"
    },
    {
     "data": {
      "text/plain": [
       "'übrigens'"
      ]
     },
     "metadata": {},
     "output_type": "display_data"
    },
    {
     "data": {
      "text/plain": [
       "'schließlich'"
      ]
     },
     "metadata": {},
     "output_type": "display_data"
    },
    {
     "data": {
      "text/plain": [
       "'mich'"
      ]
     },
     "metadata": {},
     "output_type": "display_data"
    },
    {
     "data": {
      "text/plain": [
       "'am'"
      ]
     },
     "metadata": {},
     "output_type": "display_data"
    },
    {
     "data": {
      "text/plain": [
       "'dank'"
      ]
     },
     "metadata": {},
     "output_type": "display_data"
    },
    {
     "data": {
      "text/plain": [
       "'von'"
      ]
     },
     "metadata": {},
     "output_type": "display_data"
    },
    {
     "data": {
      "text/plain": [
       "'ihm'"
      ]
     },
     "metadata": {},
     "output_type": "display_data"
    },
    {
     "data": {
      "text/plain": [
       "'vorredner'"
      ]
     },
     "metadata": {},
     "output_type": "display_data"
    },
    {
     "data": {
      "text/plain": [
       "'gern'"
      ]
     },
     "metadata": {},
     "output_type": "display_data"
    },
    {
     "data": {
      "text/plain": [
       "'o'"
      ]
     },
     "metadata": {},
     "output_type": "display_data"
    },
    {
     "data": {
      "text/plain": [
       "'die'"
      ]
     },
     "metadata": {},
     "output_type": "display_data"
    },
    {
     "data": {
      "text/plain": [
       "'betroffene'"
      ]
     },
     "metadata": {},
     "output_type": "display_data"
    },
    {
     "data": {
      "text/plain": [
       "'persone'"
      ]
     },
     "metadata": {},
     "output_type": "display_data"
    },
    {
     "data": {
      "text/plain": [
       "'duswüriger'"
      ]
     },
     "metadata": {},
     "output_type": "display_data"
    },
    {
     "data": {
      "text/plain": [
       "'zu'"
      ]
     },
     "metadata": {},
     "output_type": "display_data"
    },
    {
     "data": {
      "text/plain": [
       "'dem'"
      ]
     },
     "metadata": {},
     "output_type": "display_data"
    },
    {
     "data": {
      "text/plain": [
       "'projekt'"
      ]
     },
     "metadata": {},
     "output_type": "display_data"
    },
    {
     "data": {
      "text/plain": [
       "'hänt'"
      ]
     },
     "metadata": {},
     "output_type": "display_data"
    },
    {
     "data": {
      "text/plain": [
       "'sie'"
      ]
     },
     "metadata": {},
     "output_type": "display_data"
    },
    {
     "data": {
      "text/plain": [
       "'vom'"
      ]
     },
     "metadata": {},
     "output_type": "display_data"
    },
    {
     "data": {
      "text/plain": [
       "'kommissionspräsident'"
      ]
     },
     "metadata": {},
     "output_type": "display_data"
    },
    {
     "data": {
      "text/plain": [
       "'und'"
      ]
     },
     "metadata": {},
     "output_type": "display_data"
    },
    {
     "data": {
      "text/plain": [
       "'auf'"
      ]
     },
     "metadata": {},
     "output_type": "display_data"
    },
    {
     "data": {
      "text/plain": [
       "'der'"
      ]
     },
     "metadata": {},
     "output_type": "display_data"
    },
    {
     "data": {
      "text/plain": [
       "'fraktionssprache'"
      ]
     },
     "metadata": {},
     "output_type": "display_data"
    },
    {
     "data": {
      "text/plain": [
       "'chört'"
      ]
     },
     "metadata": {},
     "output_type": "display_data"
    },
    {
     "data": {
      "text/plain": [
       "'ich'"
      ]
     },
     "metadata": {},
     "output_type": "display_data"
    },
    {
     "data": {
      "text/plain": [
       "'bedanke'"
      ]
     },
     "metadata": {},
     "output_type": "display_data"
    },
    {
     "data": {
      "text/plain": [
       "'mich'"
      ]
     },
     "metadata": {},
     "output_type": "display_data"
    },
    {
     "data": {
      "text/plain": [
       "'ganzherzlich'"
      ]
     },
     "metadata": {},
     "output_type": "display_data"
    },
    {
     "data": {
      "text/plain": [
       "'für'"
      ]
     },
     "metadata": {},
     "output_type": "display_data"
    },
    {
     "data": {
      "text/plain": [
       "'die'"
      ]
     },
     "metadata": {},
     "output_type": "display_data"
    },
    {
     "data": {
      "text/plain": [
       "'große'"
      ]
     },
     "metadata": {},
     "output_type": "display_data"
    },
    {
     "data": {
      "text/plain": [
       "'unterstützig'"
      ]
     },
     "metadata": {},
     "output_type": "display_data"
    },
    {
     "data": {
      "text/plain": [
       "'vor'"
      ]
     },
     "metadata": {},
     "output_type": "display_data"
    },
    {
     "data": {
      "text/plain": [
       "'allmau'"
      ]
     },
     "metadata": {},
     "output_type": "display_data"
    },
    {
     "data": {
      "text/plain": [
       "'im'"
      ]
     },
     "metadata": {},
     "output_type": "display_data"
    },
    {
     "data": {
      "text/plain": [
       "'name'"
      ]
     },
     "metadata": {},
     "output_type": "display_data"
    },
    {
     "data": {
      "text/plain": [
       "'für'"
      ]
     },
     "metadata": {},
     "output_type": "display_data"
    },
    {
     "data": {
      "text/plain": [
       "'der'"
      ]
     },
     "metadata": {},
     "output_type": "display_data"
    },
    {
     "data": {
      "text/plain": [
       "'betroffenen'"
      ]
     },
     "metadata": {},
     "output_type": "display_data"
    },
    {
     "data": {
      "text/plain": [
       "'persone'"
      ]
     },
     "metadata": {},
     "output_type": "display_data"
    },
    {
     "data": {
      "text/plain": [
       "'herziche'"
      ]
     },
     "metadata": {},
     "output_type": "display_data"
    },
    {
     "data": {
      "text/plain": [
       "'dankgott'"
      ]
     },
     "metadata": {},
     "output_type": "display_data"
    },
    {
     "data": {
      "text/plain": [
       "'itate'"
      ]
     },
     "metadata": {},
     "output_type": "display_data"
    },
    {
     "data": {
      "text/plain": [
       "'ich'"
      ]
     },
     "metadata": {},
     "output_type": "display_data"
    },
    {
     "data": {
      "text/plain": [
       "'unbespitte'"
      ]
     },
     "metadata": {},
     "output_type": "display_data"
    },
    {
     "data": {
      "text/plain": [
       "'mither'"
      ]
     },
     "metadata": {},
     "output_type": "display_data"
    },
    {
     "data": {
      "text/plain": [
       "'met'"
      ]
     },
     "metadata": {},
     "output_type": "display_data"
    },
    {
     "data": {
      "text/plain": [
       "'zu'"
      ]
     },
     "metadata": {},
     "output_type": "display_data"
    },
    {
     "data": {
      "text/plain": [
       "'taperate'"
      ]
     },
     "metadata": {},
     "output_type": "display_data"
    },
    {
     "data": {
      "text/plain": [
       "'gespitete'"
      ]
     },
     "metadata": {},
     "output_type": "display_data"
    },
    {
     "data": {
      "text/plain": [
       "'staatschrieber'"
      ]
     },
     "metadata": {},
     "output_type": "display_data"
    },
    {
     "data": {
      "text/plain": [
       "'kantonsrarzschluss'"
      ]
     },
     "metadata": {},
     "output_type": "display_data"
    },
    {
     "data": {
      "text/plain": [
       "'folzlassen'"
      ]
     },
     "metadata": {},
     "output_type": "display_data"
    },
    {
     "data": {
      "text/plain": [
       "'kantonsradbeschluss'"
      ]
     },
     "metadata": {},
     "output_type": "display_data"
    },
    {
     "data": {
      "text/plain": [
       "'sübe'"
      ]
     },
     "metadata": {},
     "output_type": "display_data"
    },
    {
     "data": {
      "text/plain": [
       "'deierausgabenwilligung'"
      ]
     },
     "metadata": {},
     "output_type": "display_data"
    },
    {
     "data": {
      "text/plain": [
       "'für'"
      ]
     },
     "metadata": {},
     "output_type": "display_data"
    },
    {
     "data": {
      "text/plain": [
       "'den'"
      ]
     },
     "metadata": {},
     "output_type": "display_data"
    },
    {
     "data": {
      "text/plain": [
       "'ersatz'"
      ]
     },
     "metadata": {},
     "output_type": "display_data"
    },
    {
     "data": {
      "text/plain": [
       "'und'"
      ]
     },
     "metadata": {},
     "output_type": "display_data"
    },
    {
     "data": {
      "text/plain": [
       "'erweiterungsbau'"
      ]
     },
     "metadata": {},
     "output_type": "display_data"
    },
    {
     "data": {
      "text/plain": [
       "'des'"
      ]
     },
     "metadata": {},
     "output_type": "display_data"
    },
    {
     "data": {
      "text/plain": [
       "'wohnheims'"
      ]
     },
     "metadata": {},
     "output_type": "display_data"
    },
    {
     "data": {
      "text/plain": [
       "'mit'"
      ]
     },
     "metadata": {},
     "output_type": "display_data"
    },
    {
     "data": {
      "text/plain": [
       "'beschäftigung'"
      ]
     },
     "metadata": {},
     "output_type": "display_data"
    },
    {
     "data": {
      "text/plain": [
       "'der'"
      ]
     },
     "metadata": {},
     "output_type": "display_data"
    },
    {
     "data": {
      "text/plain": [
       "'stiftung'"
      ]
     },
     "metadata": {},
     "output_type": "display_data"
    },
    {
     "data": {
      "text/plain": [
       "'phoenix'"
      ]
     },
     "metadata": {},
     "output_type": "display_data"
    },
    {
     "data": {
      "text/plain": [
       "'der'"
      ]
     },
     "metadata": {},
     "output_type": "display_data"
    },
    {
     "data": {
      "text/plain": [
       "'cantonsrap'"
      ]
     },
     "metadata": {},
     "output_type": "display_data"
    },
    {
     "data": {
      "text/plain": [
       "'bslies'"
      ]
     },
     "metadata": {},
     "output_type": "display_data"
    },
    {
     "data": {
      "text/plain": [
       "'düstens'"
      ]
     },
     "metadata": {},
     "output_type": "display_data"
    },
    {
     "data": {
      "text/plain": [
       "'dem'"
      ]
     },
     "metadata": {},
     "output_type": "display_data"
    },
    {
     "data": {
      "text/plain": [
       "'regierungsrat'"
      ]
     },
     "metadata": {},
     "output_type": "display_data"
    },
    {
     "data": {
      "text/plain": [
       "'wird'"
      ]
     },
     "metadata": {},
     "output_type": "display_data"
    },
    {
     "data": {
      "text/plain": [
       "'für'"
      ]
     },
     "metadata": {},
     "output_type": "display_data"
    },
    {
     "data": {
      "text/plain": [
       "'den'"
      ]
     },
     "metadata": {},
     "output_type": "display_data"
    },
    {
     "data": {
      "text/plain": [
       "'ersatz'"
      ]
     },
     "metadata": {},
     "output_type": "display_data"
    },
    {
     "data": {
      "text/plain": [
       "'und'"
      ]
     },
     "metadata": {},
     "output_type": "display_data"
    },
    {
     "data": {
      "text/plain": [
       "'erweiterungsbau'"
      ]
     },
     "metadata": {},
     "output_type": "display_data"
    },
    {
     "data": {
      "text/plain": [
       "'des'"
      ]
     },
     "metadata": {},
     "output_type": "display_data"
    },
    {
     "data": {
      "text/plain": [
       "'wohnheims'"
      ]
     },
     "metadata": {},
     "output_type": "display_data"
    },
    {
     "data": {
      "text/plain": [
       "'mit'"
      ]
     },
     "metadata": {},
     "output_type": "display_data"
    },
    {
     "data": {
      "text/plain": [
       "'beschäftigung'"
      ]
     },
     "metadata": {},
     "output_type": "display_data"
    },
    {
     "data": {
      "text/plain": [
       "'für'"
      ]
     },
     "metadata": {},
     "output_type": "display_data"
    },
    {
     "data": {
      "text/plain": [
       "'menschen'"
      ]
     },
     "metadata": {},
     "output_type": "display_data"
    },
    {
     "data": {
      "text/plain": [
       "'mit'"
      ]
     },
     "metadata": {},
     "output_type": "display_data"
    },
    {
     "data": {
      "text/plain": [
       "'behinderung'"
      ]
     },
     "metadata": {},
     "output_type": "display_data"
    },
    {
     "data": {
      "text/plain": [
       "'der'"
      ]
     },
     "metadata": {},
     "output_type": "display_data"
    },
    {
     "data": {
      "text/plain": [
       "'stiftung'"
      ]
     },
     "metadata": {},
     "output_type": "display_data"
    },
    {
     "data": {
      "text/plain": [
       "'phoenig'"
      ]
     },
     "metadata": {},
     "output_type": "display_data"
    },
    {
     "data": {
      "text/plain": [
       "'schwiez'"
      ]
     },
     "metadata": {},
     "output_type": "display_data"
    },
    {
     "data": {
      "text/plain": [
       "'in'"
      ]
     },
     "metadata": {},
     "output_type": "display_data"
    },
    {
     "data": {
      "text/plain": [
       "'einsiedeln'"
      ]
     },
     "metadata": {},
     "output_type": "display_data"
    },
    {
     "data": {
      "text/plain": [
       "'eine'"
      ]
     },
     "metadata": {},
     "output_type": "display_data"
    },
    {
     "data": {
      "text/plain": [
       "'ausgabenbewilligung'"
      ]
     },
     "metadata": {},
     "output_type": "display_data"
    },
    {
     "data": {
      "text/plain": [
       "'von'"
      ]
     },
     "metadata": {},
     "output_type": "display_data"
    },
    {
     "data": {
      "text/plain": [
       "'elf'"
      ]
     },
     "metadata": {},
     "output_type": "display_data"
    },
    {
     "data": {
      "text/plain": [
       "'comma'"
      ]
     },
     "metadata": {},
     "output_type": "display_data"
    },
    {
     "data": {
      "text/plain": [
       "'neun'"
      ]
     },
     "metadata": {},
     "output_type": "display_data"
    },
    {
     "data": {
      "text/plain": [
       "'null'"
      ]
     },
     "metadata": {},
     "output_type": "display_data"
    },
    {
     "data": {
      "text/plain": [
       "'eins'"
      ]
     },
     "metadata": {},
     "output_type": "display_data"
    },
    {
     "data": {
      "text/plain": [
       "'millionen'"
      ]
     },
     "metadata": {},
     "output_type": "display_data"
    },
    {
     "data": {
      "text/plain": [
       "'franken'"
      ]
     },
     "metadata": {},
     "output_type": "display_data"
    },
    {
     "data": {
      "text/plain": [
       "'eingereiht'"
      ]
     },
     "metadata": {},
     "output_type": "display_data"
    },
    {
     "data": {
      "text/plain": [
       "'zweitens'"
      ]
     },
     "metadata": {},
     "output_type": "display_data"
    },
    {
     "data": {
      "text/plain": [
       "'die'"
      ]
     },
     "metadata": {},
     "output_type": "display_data"
    },
    {
     "data": {
      "text/plain": [
       "'ausgambewähligung'"
      ]
     },
     "metadata": {},
     "output_type": "display_data"
    },
    {
     "data": {
      "text/plain": [
       "'basiert'"
      ]
     },
     "metadata": {},
     "output_type": "display_data"
    },
    {
     "data": {
      "text/plain": [
       "'auf'"
      ]
     },
     "metadata": {},
     "output_type": "display_data"
    },
    {
     "data": {
      "text/plain": [
       "'dem'"
      ]
     },
     "metadata": {},
     "output_type": "display_data"
    },
    {
     "data": {
      "text/plain": [
       "'zürcher'"
      ]
     },
     "metadata": {},
     "output_type": "display_data"
    },
    {
     "data": {
      "text/plain": [
       "'index'"
      ]
     },
     "metadata": {},
     "output_type": "display_data"
    },
    {
     "data": {
      "text/plain": [
       "'der'"
      ]
     },
     "metadata": {},
     "output_type": "display_data"
    },
    {
     "data": {
      "text/plain": [
       "'wombahpreise'"
      ]
     },
     "metadata": {},
     "output_type": "display_data"
    },
    {
     "data": {
      "text/plain": [
       "'von'"
      ]
     },
     "metadata": {},
     "output_type": "display_data"
    },
    {
     "data": {
      "text/plain": [
       "'hundertundeins'"
      ]
     },
     "metadata": {},
     "output_type": "display_data"
    },
    {
     "data": {
      "text/plain": [
       "'commanz'"
      ]
     },
     "metadata": {},
     "output_type": "display_data"
    },
    {
     "data": {
      "text/plain": [
       "'punkten'"
      ]
     },
     "metadata": {},
     "output_type": "display_data"
    },
    {
     "data": {
      "text/plain": [
       "'vom'"
      ]
     },
     "metadata": {},
     "output_type": "display_data"
    },
    {
     "data": {
      "text/plain": [
       "'ersten'"
      ]
     },
     "metadata": {},
     "output_type": "display_data"
    },
    {
     "data": {
      "text/plain": [
       "'april'"
      ]
     },
     "metadata": {},
     "output_type": "display_data"
    },
    {
     "data": {
      "text/plain": [
       "'zweitausenddzwanzig'"
      ]
     },
     "metadata": {},
     "output_type": "display_data"
    },
    {
     "data": {
      "text/plain": [
       "'in'"
      ]
     },
     "metadata": {},
     "output_type": "display_data"
    },
    {
     "data": {
      "text/plain": [
       "'chrammerr'"
      ]
     },
     "metadata": {},
     "output_type": "display_data"
    },
    {
     "data": {
      "text/plain": [
       "'basis'"
      ]
     },
     "metadata": {},
     "output_type": "display_data"
    },
    {
     "data": {
      "text/plain": [
       "'hehrstadt'"
      ]
     },
     "metadata": {},
     "output_type": "display_data"
    },
    {
     "data": {
      "text/plain": [
       "'april'"
      ]
     },
     "metadata": {},
     "output_type": "display_data"
    },
    {
     "data": {
      "text/plain": [
       "'zweitusikund'"
      ]
     },
     "metadata": {},
     "output_type": "display_data"
    },
    {
     "data": {
      "text/plain": [
       "'siebezer'"
      ]
     },
     "metadata": {},
     "output_type": "display_data"
    },
    {
     "data": {
      "text/plain": [
       "'glei'"
      ]
     },
     "metadata": {},
     "output_type": "display_data"
    },
    {
     "data": {
      "text/plain": [
       "'hunde'"
      ]
     },
     "metadata": {},
     "output_type": "display_data"
    },
    {
     "data": {
      "text/plain": [
       "'punkte'"
      ]
     },
     "metadata": {},
     "output_type": "display_data"
    },
    {
     "data": {
      "text/plain": [
       "'chrammergschlosse'"
      ]
     },
     "metadata": {},
     "output_type": "display_data"
    },
    {
     "data": {
      "text/plain": [
       "'sie'"
      ]
     },
     "metadata": {},
     "output_type": "display_data"
    },
    {
     "data": {
      "text/plain": [
       "'erhöht'"
      ]
     },
     "metadata": {},
     "output_type": "display_data"
    },
    {
     "data": {
      "text/plain": [
       "'ad'"
      ]
     },
     "metadata": {},
     "output_type": "display_data"
    },
    {
     "data": {
      "text/plain": [
       "'er'"
      ]
     },
     "metadata": {},
     "output_type": "display_data"
    },
    {
     "data": {
      "text/plain": [
       "'vermindet'"
      ]
     },
     "metadata": {},
     "output_type": "display_data"
    },
    {
     "data": {
      "text/plain": [
       "'sich'"
      ]
     },
     "metadata": {},
     "output_type": "display_data"
    },
    {
     "data": {
      "text/plain": [
       "'or'"
      ]
     },
     "metadata": {},
     "output_type": "display_data"
    },
    {
     "data": {
      "text/plain": [
       "'maulfällige'"
      ]
     },
     "metadata": {},
     "output_type": "display_data"
    },
    {
     "data": {
      "text/plain": [
       "'teurungsbedingte'"
      ]
     },
     "metadata": {},
     "output_type": "display_data"
    },
    {
     "data": {
      "text/plain": [
       "'mehr'"
      ]
     },
     "metadata": {},
     "output_type": "display_data"
    },
    {
     "data": {
      "text/plain": [
       "'oder'"
      ]
     },
     "metadata": {},
     "output_type": "display_data"
    },
    {
     "data": {
      "text/plain": [
       "'minderkosten'"
      ]
     },
     "metadata": {},
     "output_type": "display_data"
    },
    {
     "data": {
      "text/plain": [
       "'drittens'"
      ]
     },
     "metadata": {},
     "output_type": "display_data"
    },
    {
     "data": {
      "text/plain": [
       "'dieser'"
      ]
     },
     "metadata": {},
     "output_type": "display_data"
    },
    {
     "data": {
      "text/plain": [
       "'beschluss'"
      ]
     },
     "metadata": {},
     "output_type": "display_data"
    },
    {
     "data": {
      "text/plain": [
       "'unterliegten'"
      ]
     },
     "metadata": {},
     "output_type": "display_data"
    },
    {
     "data": {
      "text/plain": [
       "'referendum'"
      ]
     },
     "metadata": {},
     "output_type": "display_data"
    },
    {
     "data": {
      "text/plain": [
       "'gemäßparagraphen'"
      ]
     },
     "metadata": {},
     "output_type": "display_data"
    },
    {
     "data": {
      "text/plain": [
       "'vierenreis'"
      ]
     },
     "metadata": {},
     "output_type": "display_data"
    },
    {
     "data": {
      "text/plain": [
       "'über'"
      ]
     },
     "metadata": {},
     "output_type": "display_data"
    },
    {
     "data": {
      "text/plain": [
       "'der'"
      ]
     },
     "metadata": {},
     "output_type": "display_data"
    },
    {
     "data": {
      "text/plain": [
       "'fünfunddreißig'"
      ]
     },
     "metadata": {},
     "output_type": "display_data"
    },
    {
     "data": {
      "text/plain": [
       "'der'"
      ]
     },
     "metadata": {},
     "output_type": "display_data"
    },
    {
     "data": {
      "text/plain": [
       "'cantonsverfassung'"
      ]
     },
     "metadata": {},
     "output_type": "display_data"
    },
    {
     "data": {
      "text/plain": [
       "'viertens'"
      ]
     },
     "metadata": {},
     "output_type": "display_data"
    },
    {
     "data": {
      "text/plain": [
       "'der'"
      ]
     },
     "metadata": {},
     "output_type": "display_data"
    },
    {
     "data": {
      "text/plain": [
       "'regierungsrat'"
      ]
     },
     "metadata": {},
     "output_type": "display_data"
    },
    {
     "data": {
      "text/plain": [
       "'wir'"
      ]
     },
     "metadata": {},
     "output_type": "display_data"
    },
    {
     "data": {
      "text/plain": [
       "'mit'"
      ]
     },
     "metadata": {},
     "output_type": "display_data"
    },
    {
     "data": {
      "text/plain": [
       "'dem'"
      ]
     },
     "metadata": {},
     "output_type": "display_data"
    },
    {
     "data": {
      "text/plain": [
       "'vorlzug'"
      ]
     },
     "metadata": {},
     "output_type": "display_data"
    },
    {
     "data": {
      "text/plain": [
       "'beauftragtdie'"
      ]
     },
     "metadata": {},
     "output_type": "display_data"
    },
    {
     "data": {
      "text/plain": [
       "'san'"
      ]
     },
     "metadata": {},
     "output_type": "display_data"
    },
    {
     "data": {
      "text/plain": [
       "'wortmalige'"
      ]
     },
     "metadata": {},
     "output_type": "display_data"
    },
    {
     "data": {
      "text/plain": [
       "'dzu'"
      ]
     },
     "metadata": {},
     "output_type": "display_data"
    },
    {
     "data": {
      "text/plain": [
       "'das'"
      ]
     },
     "metadata": {},
     "output_type": "display_data"
    },
    {
     "data": {
      "text/plain": [
       "'schi'"
      ]
     },
     "metadata": {},
     "output_type": "display_data"
    },
    {
     "data": {
      "text/plain": [
       "'nite'"
      ]
     },
     "metadata": {},
     "output_type": "display_data"
    },
    {
     "data": {
      "text/plain": [
       "'falzieh'"
      ]
     },
     "metadata": {},
     "output_type": "display_data"
    },
    {
     "data": {
      "text/plain": [
       "'des'"
      ]
     },
     "metadata": {},
     "output_type": "display_data"
    },
    {
     "data": {
      "text/plain": [
       "'en'"
      ]
     },
     "metadata": {},
     "output_type": "display_data"
    },
    {
     "data": {
      "text/plain": [
       "'wir'"
      ]
     },
     "metadata": {},
     "output_type": "display_data"
    },
    {
     "data": {
      "text/plain": [
       "'zu'"
      ]
     },
     "metadata": {},
     "output_type": "display_data"
    },
    {
     "data": {
      "text/plain": [
       "'schluss'"
      ]
     },
     "metadata": {},
     "output_type": "display_data"
    },
    {
     "data": {
      "text/plain": [
       "'abstimmig'"
      ]
     },
     "metadata": {},
     "output_type": "display_data"
    },
    {
     "data": {
      "text/plain": [
       "'schrieß'"
      ]
     },
     "metadata": {},
     "output_type": "display_data"
    },
    {
     "data": {
      "text/plain": [
       "'ich'"
      ]
     },
     "metadata": {},
     "output_type": "display_data"
    },
    {
     "data": {
      "text/plain": [
       "'a'"
      ]
     },
     "metadata": {},
     "output_type": "display_data"
    },
    {
     "data": {
      "text/plain": [
       "'rautdrafi'"
      ]
     },
     "metadata": {},
     "output_type": "display_data"
    },
    {
     "data": {
      "text/plain": [
       "'dass'"
      ]
     },
     "metadata": {},
     "output_type": "display_data"
    },
    {
     "data": {
      "text/plain": [
       "'mar'"
      ]
     },
     "metadata": {},
     "output_type": "display_data"
    },
    {
     "data": {
      "text/plain": [
       "'der'"
      ]
     },
     "metadata": {},
     "output_type": "display_data"
    },
    {
     "data": {
      "text/plain": [
       "'uskaberbremse'"
      ]
     },
     "metadata": {},
     "output_type": "display_data"
    },
    {
     "data": {
      "text/plain": [
       "'unterligt'"
      ]
     },
     "metadata": {},
     "output_type": "display_data"
    },
    {
     "data": {
      "text/plain": [
       "'spricht'"
      ]
     },
     "metadata": {},
     "output_type": "display_data"
    },
    {
     "data": {
      "text/plain": [
       "'verbruch'"
      ]
     },
     "metadata": {},
     "output_type": "display_data"
    },
    {
     "data": {
      "text/plain": [
       "'er'"
      ]
     },
     "metadata": {},
     "output_type": "display_data"
    },
    {
     "data": {
      "text/plain": [
       "'dar'"
      ]
     },
     "metadata": {},
     "output_type": "display_data"
    },
    {
     "data": {
      "text/plain": [
       "'sacht'"
      ]
     },
     "metadata": {},
     "output_type": "display_data"
    },
    {
     "data": {
      "text/plain": [
       "'stimme'"
      ]
     },
     "metadata": {},
     "output_type": "display_data"
    },
    {
     "data": {
      "text/plain": [
       "'damit'"
      ]
     },
     "metadata": {},
     "output_type": "display_data"
    },
    {
     "data": {
      "text/plain": [
       "'das'"
      ]
     },
     "metadata": {},
     "output_type": "display_data"
    },
    {
     "data": {
      "text/plain": [
       "'schraft'"
      ]
     },
     "metadata": {},
     "output_type": "display_data"
    },
    {
     "data": {
      "text/plain": [
       "'stands'"
      ]
     },
     "metadata": {},
     "output_type": "display_data"
    },
    {
     "data": {
      "text/plain": [
       "'grund'"
      ]
     },
     "metadata": {},
     "output_type": "display_data"
    },
    {
     "data": {
      "text/plain": [
       "'ich'"
      ]
     },
     "metadata": {},
     "output_type": "display_data"
    },
    {
     "data": {
      "text/plain": [
       "'wärde'"
      ]
     },
     "metadata": {},
     "output_type": "display_data"
    },
    {
     "data": {
      "text/plain": [
       "'erste'"
      ]
     },
     "metadata": {},
     "output_type": "display_data"
    },
    {
     "data": {
      "text/plain": [
       "'medona'"
      ]
     },
     "metadata": {},
     "output_type": "display_data"
    },
    {
     "data": {
      "text/plain": [
       "'vor'"
      ]
     },
     "metadata": {},
     "output_type": "display_data"
    },
    {
     "data": {
      "text/plain": [
       "'der'"
      ]
     },
     "metadata": {},
     "output_type": "display_data"
    },
    {
     "data": {
      "text/plain": [
       "'bewilfon'"
      ]
     },
     "metadata": {},
     "output_type": "display_data"
    },
    {
     "data": {
      "text/plain": [
       "'der'"
      ]
     },
     "metadata": {},
     "output_type": "display_data"
    },
    {
     "data": {
      "text/plain": [
       "'ruoscup'"
      ]
     },
     "metadata": {},
     "output_type": "display_data"
    },
    {
     "data": {
      "text/plain": [
       "'na'"
      ]
     },
     "metadata": {},
     "output_type": "display_data"
    },
    {
     "data": {
      "text/plain": [
       "'un'"
      ]
     },
     "metadata": {},
     "output_type": "display_data"
    },
    {
     "data": {
      "text/plain": [
       "'ter'"
      ]
     },
     "metadata": {},
     "output_type": "display_data"
    },
    {
     "data": {
      "text/plain": [
       "'hisitamate'"
      ]
     },
     "metadata": {},
     "output_type": "display_data"
    },
    {
     "data": {
      "text/plain": [
       "'ableinig'"
      ]
     },
     "metadata": {},
     "output_type": "display_data"
    },
    {
     "data": {
      "text/plain": [
       "'wer'"
      ]
     },
     "metadata": {},
     "output_type": "display_data"
    },
    {
     "data": {
      "text/plain": [
       "'die'"
      ]
     },
     "metadata": {},
     "output_type": "display_data"
    },
    {
     "data": {
      "text/plain": [
       "'umsgautbildigung'"
      ]
     },
     "metadata": {},
     "output_type": "display_data"
    },
    {
     "data": {
      "text/plain": [
       "'verkur'"
      ]
     },
     "metadata": {},
     "output_type": "display_data"
    },
    {
     "data": {
      "text/plain": [
       "'teilßte'"
      ]
     },
     "metadata": {},
     "output_type": "display_data"
    },
    {
     "data": {
      "text/plain": [
       "'sertaste'"
      ]
     },
     "metadata": {},
     "output_type": "display_data"
    },
    {
     "data": {
      "text/plain": [
       "'jetzt'"
      ]
     },
     "metadata": {},
     "output_type": "display_data"
    },
    {
     "data": {
      "text/plain": [
       "'mit'"
      ]
     },
     "metadata": {},
     "output_type": "display_data"
    },
    {
     "data": {
      "text/plain": [
       "'haudzehchen'"
      ]
     },
     "metadata": {},
     "output_type": "display_data"
    },
    {
     "data": {
      "text/plain": [
       "'bezügerüher'"
      ]
     },
     "metadata": {},
     "output_type": "display_data"
    },
    {
     "data": {
      "text/plain": [
       "'firskwvr'"
      ]
     },
     "metadata": {},
     "output_type": "display_data"
    },
    {
     "data": {
      "text/plain": [
       "'wer'"
      ]
     },
     "metadata": {},
     "output_type": "display_data"
    },
    {
     "data": {
      "text/plain": [
       "'die'"
      ]
     },
     "metadata": {},
     "output_type": "display_data"
    },
    {
     "data": {
      "text/plain": [
       "'aushudigung'"
      ]
     },
     "metadata": {},
     "output_type": "display_data"
    },
    {
     "data": {
      "text/plain": [
       "'mitab'"
      ]
     },
     "metadata": {},
     "output_type": "display_data"
    },
    {
     "data": {
      "text/plain": [
       "'lehde'"
      ]
     },
     "metadata": {},
     "output_type": "display_data"
    },
    {
     "data": {
      "text/plain": [
       "'wird'"
      ]
     },
     "metadata": {},
     "output_type": "display_data"
    },
    {
     "data": {
      "text/plain": [
       "'es'"
      ]
     },
     "metadata": {},
     "output_type": "display_data"
    },
    {
     "data": {
      "text/plain": [
       "'jetzt'"
      ]
     },
     "metadata": {},
     "output_type": "display_data"
    },
    {
     "data": {
      "text/plain": [
       "'mit'"
      ]
     },
     "metadata": {},
     "output_type": "display_data"
    },
    {
     "data": {
      "text/plain": [
       "'aunzeicher'"
      ]
     },
     "metadata": {},
     "output_type": "display_data"
    },
    {
     "data": {
      "text/plain": [
       "'bezügenu'"
      ]
     },
     "metadata": {},
     "output_type": "display_data"
    },
    {
     "data": {
      "text/plain": [
       "'zwei'"
      ]
     },
     "metadata": {},
     "output_type": "display_data"
    },
    {
     "data": {
      "text/plain": [
       "'sind'"
      ]
     },
     "metadata": {},
     "output_type": "display_data"
    },
    {
     "data": {
      "text/plain": [
       "'der'"
      ]
     },
     "metadata": {},
     "output_type": "display_data"
    },
    {
     "data": {
      "text/plain": [
       "'beschluss'"
      ]
     },
     "metadata": {},
     "output_type": "display_data"
    },
    {
     "data": {
      "text/plain": [
       "'mit'"
      ]
     },
     "metadata": {},
     "output_type": "display_data"
    },
    {
     "data": {
      "text/plain": [
       "'viebedacht'"
      ]
     },
     "metadata": {},
     "output_type": "display_data"
    },
    {
     "data": {
      "text/plain": [
       "'zu'"
      ]
     },
     "metadata": {},
     "output_type": "display_data"
    },
    {
     "data": {
      "text/plain": [
       "'zwei'"
      ]
     },
     "metadata": {},
     "output_type": "display_data"
    },
    {
     "data": {
      "text/plain": [
       "'stämme'"
      ]
     },
     "metadata": {},
     "output_type": "display_data"
    },
    {
     "data": {
      "text/plain": [
       "'der'"
      ]
     },
     "metadata": {},
     "output_type": "display_data"
    },
    {
     "data": {
      "text/plain": [
       "'häblicherqlat'"
      ]
     },
     "metadata": {},
     "output_type": "display_data"
    },
    {
     "data": {
      "text/plain": [
       "'und'"
      ]
     },
     "metadata": {},
     "output_type": "display_data"
    },
    {
     "data": {
      "text/plain": [
       "'agno'"
      ]
     },
     "metadata": {},
     "output_type": "display_data"
    },
    {
     "data": {
      "text/plain": [
       "'damit'"
      ]
     },
     "metadata": {},
     "output_type": "display_data"
    },
    {
     "data": {
      "text/plain": [
       "'gilts'"
      ]
     },
     "metadata": {},
     "output_type": "display_data"
    },
    {
     "data": {
      "text/plain": [
       "'rokorativ'"
      ]
     },
     "metadata": {},
     "output_type": "display_data"
    },
    {
     "data": {
      "text/plain": [
       "'referandunt'"
      ]
     },
     "metadata": {},
     "output_type": "display_data"
    },
    {
     "data": {
      "text/plain": [
       "'gurt'"
      ]
     },
     "metadata": {},
     "output_type": "display_data"
    },
    {
     "data": {
      "text/plain": [
       "'mit'"
      ]
     },
     "metadata": {},
     "output_type": "display_data"
    },
    {
     "data": {
      "text/plain": [
       "'hensetzt'"
      ]
     },
     "metadata": {},
     "output_type": "display_data"
    },
    {
     "data": {
      "text/plain": [
       "'zahb'"
      ]
     },
     "metadata": {},
     "output_type": "display_data"
    },
    {
     "data": {
      "text/plain": [
       "'zwölfie'"
      ]
     },
     "metadata": {},
     "output_type": "display_data"
    },
    {
     "data": {
      "text/plain": [
       "'drdidatic'"
      ]
     },
     "metadata": {},
     "output_type": "display_data"
    },
    {
     "data": {
      "text/plain": [
       "'machker'"
      ]
     },
     "metadata": {},
     "output_type": "display_data"
    },
    {
     "data": {
      "text/plain": [
       "'bis'"
      ]
     },
     "metadata": {},
     "output_type": "display_data"
    },
    {
     "data": {
      "text/plain": [
       "'maximum'"
      ]
     },
     "metadata": {},
     "output_type": "display_data"
    },
    {
     "data": {
      "text/plain": [
       "'halpereis'"
      ]
     },
     "metadata": {},
     "output_type": "display_data"
    },
    {
     "data": {
      "text/plain": [
       "'ich'"
      ]
     },
     "metadata": {},
     "output_type": "display_data"
    },
    {
     "data": {
      "text/plain": [
       "'wettelsgan'"
      ]
     },
     "metadata": {},
     "output_type": "display_data"
    },
    {
     "data": {
      "text/plain": [
       "'provier'"
      ]
     },
     "metadata": {},
     "output_type": "display_data"
    },
    {
     "data": {
      "text/plain": [
       "'über'"
      ]
     },
     "metadata": {},
     "output_type": "display_data"
    },
    {
     "data": {
      "text/plain": [
       "'das'"
      ]
     },
     "metadata": {},
     "output_type": "display_data"
    },
    {
     "data": {
      "text/plain": [
       "'selzkabis'"
      ]
     },
     "metadata": {},
     "output_type": "display_data"
    },
    {
     "data": {
      "text/plain": [
       "'programm'"
      ]
     },
     "metadata": {},
     "output_type": "display_data"
    },
    {
     "data": {
      "text/plain": [
       "'ei'"
      ]
     },
     "metadata": {},
     "output_type": "display_data"
    },
    {
     "data": {
      "text/plain": [
       "'noch'"
      ]
     },
     "metadata": {},
     "output_type": "display_data"
    },
    {
     "data": {
      "text/plain": [
       "'ein'"
      ]
     },
     "metadata": {},
     "output_type": "display_data"
    },
    {
     "data": {
      "text/plain": [
       "'durrachendrum'"
      ]
     },
     "metadata": {},
     "output_type": "display_data"
    },
    {
     "data": {
      "text/plain": [
       "'vetor'"
      ]
     },
     "metadata": {},
     "output_type": "display_data"
    },
    {
     "data": {
      "text/plain": [
       "'startagat'"
      ]
     },
     "metadata": {},
     "output_type": "display_data"
    },
    {
     "data": {
      "text/plain": [
       "'mit'"
      ]
     },
     "metadata": {},
     "output_type": "display_data"
    },
    {
     "data": {
      "text/plain": [
       "'dem'"
      ]
     },
     "metadata": {},
     "output_type": "display_data"
    },
    {
     "data": {
      "text/plain": [
       "'dochtord'"
      ]
     },
     "metadata": {},
     "output_type": "display_data"
    },
    {
     "data": {
      "text/plain": [
       "'um'"
      ]
     },
     "metadata": {},
     "output_type": "display_data"
    },
    {
     "data": {
      "text/plain": [
       "'fünf'"
      ]
     },
     "metadata": {},
     "output_type": "display_data"
    },
    {
     "data": {
      "text/plain": [
       "'itathe'"
      ]
     },
     "metadata": {},
     "output_type": "display_data"
    },
    {
     "data": {
      "text/plain": [
       "'war'"
      ]
     },
     "metadata": {},
     "output_type": "display_data"
    },
    {
     "data": {
      "text/plain": [
       "'seir'"
      ]
     },
     "metadata": {},
     "output_type": "display_data"
    },
    {
     "data": {
      "text/plain": [
       "'vraute'"
      ]
     },
     "metadata": {},
     "output_type": "display_data"
    },
    {
     "data": {
      "text/plain": [
       "'pur'"
      ]
     },
     "metadata": {},
     "output_type": "display_data"
    },
    {
     "data": {
      "text/plain": [
       "'the'"
      ]
     },
     "metadata": {},
     "output_type": "display_data"
    },
    {
     "data": {
      "text/plain": [
       "'frau'"
      ]
     },
     "metadata": {},
     "output_type": "display_data"
    },
    {
     "data": {
      "text/plain": [
       "'landomeherr'"
      ]
     },
     "metadata": {},
     "output_type": "display_data"
    },
    {
     "data": {
      "text/plain": [
       "'präsidentin'"
      ]
     },
     "metadata": {},
     "output_type": "display_data"
    },
    {
     "data": {
      "text/plain": [
       "'die'"
      ]
     },
     "metadata": {},
     "output_type": "display_data"
    },
    {
     "data": {
      "text/plain": [
       "'ammen'"
      ]
     },
     "metadata": {},
     "output_type": "display_data"
    },
    {
     "data": {
      "text/plain": [
       "'und'"
      ]
     },
     "metadata": {},
     "output_type": "display_data"
    },
    {
     "data": {
      "text/plain": [
       "'herre'"
      ]
     },
     "metadata": {},
     "output_type": "display_data"
    },
    {
     "data": {
      "text/plain": [
       "'der'"
      ]
     },
     "metadata": {},
     "output_type": "display_data"
    },
    {
     "data": {
      "text/plain": [
       "'rgierugsrat'"
      ]
     },
     "metadata": {},
     "output_type": "display_data"
    },
    {
     "data": {
      "text/plain": [
       "'leigenes'"
      ]
     },
     "metadata": {},
     "output_type": "display_data"
    },
    {
     "data": {
      "text/plain": [
       "'gretzkapispogrammen'"
      ]
     },
     "metadata": {},
     "output_type": "display_data"
    },
    {
     "data": {
      "text/plain": [
       "'einezwanzig'"
      ]
     },
     "metadata": {},
     "output_type": "display_data"
    },
    {
     "data": {
      "text/plain": [
       "'zweizwang'"
      ]
     },
     "metadata": {},
     "output_type": "display_data"
    },
    {
     "data": {
      "text/plain": [
       "'zu'"
      ]
     },
     "metadata": {},
     "output_type": "display_data"
    },
    {
     "data": {
      "text/plain": [
       "'kloßhasig'"
      ]
     },
     "metadata": {},
     "output_type": "display_data"
    },
    {
     "data": {
      "text/plain": [
       "'vor'"
      ]
     },
     "metadata": {},
     "output_type": "display_data"
    },
    {
     "data": {
      "text/plain": [
       "'und'"
      ]
     },
     "metadata": {},
     "output_type": "display_data"
    },
    {
     "data": {
      "text/plain": [
       "'er'"
      ]
     },
     "metadata": {},
     "output_type": "display_data"
    },
    {
     "data": {
      "text/plain": [
       "'stattet'"
      ]
     },
     "metadata": {},
     "output_type": "display_data"
    },
    {
     "data": {
      "text/plain": [
       "'brichzefig'"
      ]
     },
     "metadata": {},
     "output_type": "display_data"
    },
    {
     "data": {
      "text/plain": [
       "'bricht'"
      ]
     },
     "metadata": {},
     "output_type": "display_data"
    },
    {
     "data": {
      "text/plain": [
       "'über'"
      ]
     },
     "metadata": {},
     "output_type": "display_data"
    },
    {
     "data": {
      "text/plain": [
       "'die'"
      ]
     },
     "metadata": {},
     "output_type": "display_data"
    },
    {
     "data": {
      "text/plain": [
       "'volzug'"
      ]
     },
     "metadata": {},
     "output_type": "display_data"
    },
    {
     "data": {
      "text/plain": [
       "'vom'"
      ]
     },
     "metadata": {},
     "output_type": "display_data"
    },
    {
     "data": {
      "text/plain": [
       "'xetzgapicsprogramm'"
      ]
     },
     "metadata": {},
     "output_type": "display_data"
    },
    {
     "data": {
      "text/plain": [
       "'nünzer'"
      ]
     },
     "metadata": {},
     "output_type": "display_data"
    },
    {
     "data": {
      "text/plain": [
       "'zwansk'"
      ]
     },
     "metadata": {},
     "output_type": "display_data"
    },
    {
     "data": {
      "text/plain": [
       "'zum'"
      ]
     },
     "metadata": {},
     "output_type": "display_data"
    },
    {
     "data": {
      "text/plain": [
       "'selzkapihsproogramm'"
      ]
     },
     "metadata": {},
     "output_type": "display_data"
    },
    {
     "data": {
      "text/plain": [
       "'nünze'"
      ]
     },
     "metadata": {},
     "output_type": "display_data"
    },
    {
     "data": {
      "text/plain": [
       "'zwanfig'"
      ]
     },
     "metadata": {},
     "output_type": "display_data"
    },
    {
     "data": {
      "text/plain": [
       "'vierte'"
      ]
     },
     "metadata": {},
     "output_type": "display_data"
    },
    {
     "data": {
      "text/plain": [
       "'rejerigsat'"
      ]
     },
     "metadata": {},
     "output_type": "display_data"
    },
    {
     "data": {
      "text/plain": [
       "'der'"
      ]
     },
     "metadata": {},
     "output_type": "display_data"
    },
    {
     "data": {
      "text/plain": [
       "'positive'"
      ]
     },
     "metadata": {},
     "output_type": "display_data"
    },
    {
     "data": {
      "text/plain": [
       "'bilanz'"
      ]
     },
     "metadata": {},
     "output_type": "display_data"
    },
    {
     "data": {
      "text/plain": [
       "'fudenynzexesgabisvorhaber'"
      ]
     },
     "metadata": {},
     "output_type": "display_data"
    },
    {
     "data": {
      "text/plain": [
       "'sin'"
      ]
     },
     "metadata": {},
     "output_type": "display_data"
    },
    {
     "data": {
      "text/plain": [
       "'priza'"
      ]
     },
     "metadata": {},
     "output_type": "display_data"
    },
    {
     "data": {
      "text/plain": [
       "'erfolglich'"
      ]
     },
     "metadata": {},
     "output_type": "display_data"
    },
    {
     "data": {
      "text/plain": [
       "'rumsetzt'"
      ]
     },
     "metadata": {},
     "output_type": "display_data"
    },
    {
     "data": {
      "text/plain": [
       "'zach'"
      ]
     },
     "metadata": {},
     "output_type": "display_data"
    },
    {
     "data": {
      "text/plain": [
       "'sind'"
      ]
     },
     "metadata": {},
     "output_type": "display_data"
    },
    {
     "data": {
      "text/plain": [
       "'nuiorbit'"
      ]
     },
     "metadata": {},
     "output_type": "display_data"
    },
    {
     "data": {
      "text/plain": [
       "'erfolglichung'"
      ]
     },
     "metadata": {},
     "output_type": "display_data"
    },
    {
     "data": {
      "text/plain": [
       "'setz'"
      ]
     },
     "metadata": {},
     "output_type": "display_data"
    },
    {
     "data": {
      "text/plain": [
       "'worte'"
      ]
     },
     "metadata": {},
     "output_type": "display_data"
    },
    {
     "data": {
      "text/plain": [
       "'nichtarlrevision'"
      ]
     },
     "metadata": {},
     "output_type": "display_data"
    },
    {
     "data": {
      "text/plain": [
       "'von'"
      ]
     },
     "metadata": {},
     "output_type": "display_data"
    },
    {
     "data": {
      "text/plain": [
       "'stürksetz'"
      ]
     },
     "metadata": {},
     "output_type": "display_data"
    },
    {
     "data": {
      "text/plain": [
       "'mit'"
      ]
     },
     "metadata": {},
     "output_type": "display_data"
    },
    {
     "data": {
      "text/plain": [
       "'der'"
      ]
     },
     "metadata": {},
     "output_type": "display_data"
    },
    {
     "data": {
      "text/plain": [
       "'überführig'"
      ]
     },
     "metadata": {},
     "output_type": "display_data"
    },
    {
     "data": {
      "text/plain": [
       "'von'"
      ]
     },
     "metadata": {},
     "output_type": "display_data"
    },
    {
     "data": {
      "text/plain": [
       "'bundesgsätze'"
      ]
     },
     "metadata": {},
     "output_type": "display_data"
    },
    {
     "data": {
      "text/plain": [
       "'mit'"
      ]
     },
     "metadata": {},
     "output_type": "display_data"
    },
    {
     "data": {
      "text/plain": [
       "'stüreforme'"
      ]
     },
     "metadata": {},
     "output_type": "display_data"
    },
    {
     "data": {
      "text/plain": [
       "'und'"
      ]
     },
     "metadata": {},
     "output_type": "display_data"
    },
    {
     "data": {
      "text/plain": [
       "'darauf'"
      ]
     },
     "metadata": {},
     "output_type": "display_data"
    },
    {
     "data": {
      "text/plain": [
       "'auf'"
      ]
     },
     "metadata": {},
     "output_type": "display_data"
    },
    {
     "data": {
      "text/plain": [
       "'finanzierig'"
      ]
     },
     "metadata": {},
     "output_type": "display_data"
    },
    {
     "data": {
      "text/plain": [
       "'besser'"
      ]
     },
     "metadata": {},
     "output_type": "display_data"
    },
    {
     "data": {
      "text/plain": [
       "'bekannt'"
      ]
     },
     "metadata": {},
     "output_type": "display_data"
    },
    {
     "data": {
      "text/plain": [
       "'und'"
      ]
     },
     "metadata": {},
     "output_type": "display_data"
    },
    {
     "data": {
      "text/plain": [
       "'drapulzig'"
      ]
     },
     "metadata": {},
     "output_type": "display_data"
    },
    {
     "data": {
      "text/plain": [
       "'stoff'"
      ]
     },
     "metadata": {},
     "output_type": "display_data"
    },
    {
     "data": {
      "text/plain": [
       "'sind'"
      ]
     },
     "metadata": {},
     "output_type": "display_data"
    },
    {
     "data": {
      "text/plain": [
       "'attraktiv'"
      ]
     },
     "metadata": {},
     "output_type": "display_data"
    },
    {
     "data": {
      "text/plain": [
       "'wie'"
      ]
     },
     "metadata": {},
     "output_type": "display_data"
    },
    {
     "data": {
      "text/plain": [
       "'stüdliche'"
      ]
     },
     "metadata": {},
     "output_type": "display_data"
    },
    {
     "data": {
      "text/plain": [
       "'ramabedingige'"
      ]
     },
     "metadata": {},
     "output_type": "display_data"
    },
    {
     "data": {
      "text/plain": [
       "'für'"
      ]
     },
     "metadata": {},
     "output_type": "display_data"
    },
    {
     "data": {
      "text/plain": [
       "'die'"
      ]
     },
     "metadata": {},
     "output_type": "display_data"
    },
    {
     "data": {
      "text/plain": [
       "'juristische'"
      ]
     },
     "metadata": {},
     "output_type": "display_data"
    },
    {
     "data": {
      "text/plain": [
       "'personen'"
      ]
     },
     "metadata": {},
     "output_type": "display_data"
    },
    {
     "data": {
      "text/plain": [
       "'kanton'"
      ]
     },
     "metadata": {},
     "output_type": "display_data"
    },
    {
     "data": {
      "text/plain": [
       "'schwizschafe'"
      ]
     },
     "metadata": {},
     "output_type": "display_data"
    },
    {
     "data": {
      "text/plain": [
       "'wurde'"
      ]
     },
     "metadata": {},
     "output_type": "display_data"
    },
    {
     "data": {
      "text/plain": [
       "'midetarlrevisionen'"
      ]
     },
     "metadata": {},
     "output_type": "display_data"
    },
    {
     "data": {
      "text/plain": [
       "'zum'"
      ]
     },
     "metadata": {},
     "output_type": "display_data"
    },
    {
     "data": {
      "text/plain": [
       "'secs'"
      ]
     },
     "metadata": {},
     "output_type": "display_data"
    },
    {
     "data": {
      "text/plain": [
       "'überde'"
      ]
     },
     "metadata": {},
     "output_type": "display_data"
    },
    {
     "data": {
      "text/plain": [
       "'öffentlichkeit'"
      ]
     },
     "metadata": {},
     "output_type": "display_data"
    },
    {
     "data": {
      "text/plain": [
       "'für'"
      ]
     },
     "metadata": {},
     "output_type": "display_data"
    },
    {
     "data": {
      "text/plain": [
       "'die'"
      ]
     },
     "metadata": {},
     "output_type": "display_data"
    },
    {
     "data": {
      "text/plain": [
       "'verwaltug'"
      ]
     },
     "metadata": {},
     "output_type": "display_data"
    },
    {
     "data": {
      "text/plain": [
       "'und'"
      ]
     },
     "metadata": {},
     "output_type": "display_data"
    },
    {
     "data": {
      "text/plain": [
       "'im'"
      ]
     },
     "metadata": {},
     "output_type": "display_data"
    },
    {
     "data": {
      "text/plain": [
       "'datenschutz'"
      ]
     },
     "metadata": {},
     "output_type": "display_data"
    },
    {
     "data": {
      "text/plain": [
       "'sind'"
      ]
     },
     "metadata": {},
     "output_type": "display_data"
    },
    {
     "data": {
      "text/plain": [
       "'racht'"
      ]
     },
     "metadata": {},
     "output_type": "display_data"
    },
    {
     "data": {
      "text/plain": [
       "'wur'"
      ]
     },
     "metadata": {},
     "output_type": "display_data"
    },
    {
     "data": {
      "text/plain": [
       "'die'"
      ]
     },
     "metadata": {},
     "output_type": "display_data"
    },
    {
     "data": {
      "text/plain": [
       "'betroffene'"
      ]
     },
     "metadata": {},
     "output_type": "display_data"
    },
    {
     "data": {
      "text/plain": [
       "'persone'"
      ]
     },
     "metadata": {},
     "output_type": "display_data"
    },
    {
     "data": {
      "text/plain": [
       "'gestärkt'"
      ]
     },
     "metadata": {},
     "output_type": "display_data"
    },
    {
     "data": {
      "text/plain": [
       "'unde'"
      ]
     },
     "metadata": {},
     "output_type": "display_data"
    },
    {
     "data": {
      "text/plain": [
       "'zietgeißerdatenschutz'"
      ]
     },
     "metadata": {},
     "output_type": "display_data"
    },
    {
     "data": {
      "text/plain": [
       "'vrankert'"
      ]
     },
     "metadata": {},
     "output_type": "display_data"
    },
    {
     "data": {
      "text/plain": [
       "'wurde'"
      ]
     },
     "metadata": {},
     "output_type": "display_data"
    },
    {
     "data": {
      "text/plain": [
       "'arect'"
      ]
     },
     "metadata": {},
     "output_type": "display_data"
    },
    {
     "data": {
      "text/plain": [
       "'oder'"
      ]
     },
     "metadata": {},
     "output_type": "display_data"
    },
    {
     "data": {
      "text/plain": [
       "'motion'"
      ]
     },
     "metadata": {},
     "output_type": "display_data"
    },
    {
     "data": {
      "text/plain": [
       "'hemis'"
      ]
     },
     "metadata": {},
     "output_type": "display_data"
    },
    {
     "data": {
      "text/plain": [
       "'walksätze'"
      ]
     },
     "metadata": {},
     "output_type": "display_data"
    },
    {
     "data": {
      "text/plain": [
       "'revidiert'"
      ]
     },
     "metadata": {},
     "output_type": "display_data"
    },
    {
     "data": {
      "text/plain": [
       "'sidem'"
      ]
     },
     "metadata": {},
     "output_type": "display_data"
    },
    {
     "data": {
      "text/plain": [
       "'juli'"
      ]
     },
     "metadata": {},
     "output_type": "display_data"
    },
    {
     "data": {
      "text/plain": [
       "'zwanfig'"
      ]
     },
     "metadata": {},
     "output_type": "display_data"
    },
    {
     "data": {
      "text/plain": [
       "'zwang'"
      ]
     },
     "metadata": {},
     "output_type": "display_data"
    },
    {
     "data": {
      "text/plain": [
       "'gestand'"
      ]
     },
     "metadata": {},
     "output_type": "display_data"
    },
    {
     "data": {
      "text/plain": [
       "'der'"
      ]
     },
     "metadata": {},
     "output_type": "display_data"
    },
    {
     "data": {
      "text/plain": [
       "'rachtliche'"
      ]
     },
     "metadata": {},
     "output_type": "display_data"
    },
    {
     "data": {
      "text/plain": [
       "'grundlage'"
      ]
     },
     "metadata": {},
     "output_type": "display_data"
    },
    {
     "data": {
      "text/plain": [
       "'das'"
      ]
     },
     "metadata": {},
     "output_type": "display_data"
    },
    {
     "data": {
      "text/plain": [
       "'der'"
      ]
     },
     "metadata": {},
     "output_type": "display_data"
    },
    {
     "data": {
      "text/plain": [
       "'kanton'"
      ]
     },
     "metadata": {},
     "output_type": "display_data"
    },
    {
     "data": {
      "text/plain": [
       "'wie'"
      ]
     },
     "metadata": {},
     "output_type": "display_data"
    },
    {
     "data": {
      "text/plain": [
       "'der'"
      ]
     },
     "metadata": {},
     "output_type": "display_data"
    },
    {
     "data": {
      "text/plain": [
       "'waltbewirtschaftig'"
      ]
     },
     "metadata": {},
     "output_type": "display_data"
    },
    {
     "data": {
      "text/plain": [
       "'ufgabeabforchtbetrieb'"
      ]
     },
     "metadata": {},
     "output_type": "display_data"
    },
    {
     "data": {
      "text/plain": [
       "'radelligiere'"
      ]
     },
     "metadata": {},
     "output_type": "display_data"
    },
    {
     "data": {
      "text/plain": [
       "'am'"
      ]
     },
     "metadata": {},
     "output_type": "display_data"
    },
    {
     "data": {
      "text/plain": [
       "'ersten'"
      ]
     },
     "metadata": {},
     "output_type": "display_data"
    },
    {
     "data": {
      "text/plain": [
       "'an'"
      ]
     },
     "metadata": {},
     "output_type": "display_data"
    },
    {
     "data": {
      "text/plain": [
       "'ur'"
      ]
     },
     "metadata": {},
     "output_type": "display_data"
    },
    {
     "data": {
      "text/plain": [
       "'einundzwanfigis'"
      ]
     },
     "metadata": {},
     "output_type": "display_data"
    },
    {
     "data": {
      "text/plain": [
       "'polizei'"
      ]
     },
     "metadata": {},
     "output_type": "display_data"
    },
    {
     "data": {
      "text/plain": [
       "'sätz'"
      ]
     },
     "metadata": {},
     "output_type": "display_data"
    },
    {
     "data": {
      "text/plain": [
       "'sich'"
      ]
     },
     "metadata": {},
     "output_type": "display_data"
    },
    {
     "data": {
      "text/plain": [
       "'hrafttrakter'"
      ]
     },
     "metadata": {},
     "output_type": "display_data"
    },
    {
     "data": {
      "text/plain": [
       "'dadmit'"
      ]
     },
     "metadata": {},
     "output_type": "display_data"
    },
    {
     "data": {
      "text/plain": [
       "'is'"
      ]
     },
     "metadata": {},
     "output_type": "display_data"
    },
    {
     "data": {
      "text/plain": [
       "'betreugsmanagement'"
      ]
     },
     "metadata": {},
     "output_type": "display_data"
    },
    {
     "data": {
      "text/plain": [
       "'geführt'"
      ]
     },
     "metadata": {},
     "output_type": "display_data"
    },
    {
     "data": {
      "text/plain": [
       "'wurde'"
      ]
     },
     "metadata": {},
     "output_type": "display_data"
    },
    {
     "data": {
      "text/plain": [
       "'wo'"
      ]
     },
     "metadata": {},
     "output_type": "display_data"
    },
    {
     "data": {
      "text/plain": [
       "'schutzmaßnahme'"
      ]
     },
     "metadata": {},
     "output_type": "display_data"
    },
    {
     "data": {
      "text/plain": [
       "'im'"
      ]
     },
     "metadata": {},
     "output_type": "display_data"
    },
    {
     "data": {
      "text/plain": [
       "'bereich'"
      ]
     },
     "metadata": {},
     "output_type": "display_data"
    },
    {
     "data": {
      "text/plain": [
       "'hüsßle'"
      ]
     },
     "metadata": {},
     "output_type": "display_data"
    },
    {
     "data": {
      "text/plain": [
       "'gequalt'"
      ]
     },
     "metadata": {},
     "output_type": "display_data"
    },
    {
     "data": {
      "text/plain": [
       "'verbesseret'"
      ]
     },
     "metadata": {},
     "output_type": "display_data"
    },
    {
     "data": {
      "text/plain": [
       "'und'"
      ]
     },
     "metadata": {},
     "output_type": "display_data"
    },
    {
     "data": {
      "text/plain": [
       "'die'"
      ]
     },
     "metadata": {},
     "output_type": "display_data"
    },
    {
     "data": {
      "text/plain": [
       "'polyzeiliche'"
      ]
     },
     "metadata": {},
     "output_type": "display_data"
    },
    {
     "data": {
      "text/plain": [
       "'überwachigsmaßnahmen'"
      ]
     },
     "metadata": {},
     "output_type": "display_data"
    },
    {
     "data": {
      "text/plain": [
       "'klar'"
      ]
     },
     "metadata": {},
     "output_type": "display_data"
    },
    {
     "data": {
      "text/plain": [
       "'reget'"
      ]
     },
     "metadata": {},
     "output_type": "display_data"
    },
    {
     "data": {
      "text/plain": [
       "'abefasouegt'"
      ]
     },
     "metadata": {},
     "output_type": "display_data"
    },
    {
     "data": {
      "text/plain": [
       "'oder'"
      ]
     },
     "metadata": {},
     "output_type": "display_data"
    },
    {
     "data": {
      "text/plain": [
       "'cantonsrat'"
      ]
     },
     "metadata": {},
     "output_type": "display_data"
    },
    {
     "data": {
      "text/plain": [
       "'des'"
      ]
     },
     "metadata": {},
     "output_type": "display_data"
    },
    {
     "data": {
      "text/plain": [
       "'folksholksets'"
      ]
     },
     "metadata": {},
     "output_type": "display_data"
    },
    {
     "data": {
      "text/plain": [
       "'geandert'"
      ]
     },
     "metadata": {},
     "output_type": "display_data"
    },
    {
     "data": {
      "text/plain": [
       "'wurde'"
      ]
     },
     "metadata": {},
     "output_type": "display_data"
    },
    {
     "data": {
      "text/plain": [
       "'unter'"
      ]
     },
     "metadata": {},
     "output_type": "display_data"
    },
    {
     "data": {
      "text/plain": [
       "'stichtag'"
      ]
     },
     "metadata": {},
     "output_type": "display_data"
    },
    {
     "data": {
      "text/plain": [
       "'für'"
      ]
     },
     "metadata": {},
     "output_type": "display_data"
    },
    {
     "data": {
      "text/plain": [
       "'dischueligun'"
      ]
     },
     "metadata": {},
     "output_type": "display_data"
    },
    {
     "data": {
      "text/plain": [
       "'zwelmünut'"
      ]
     },
     "metadata": {},
     "output_type": "display_data"
    },
    {
     "data": {
      "text/plain": [
       "'vorverleiht'"
      ]
     },
     "metadata": {},
     "output_type": "display_data"
    },
    {
     "data": {
      "text/plain": [
       "'und'"
      ]
     },
     "metadata": {},
     "output_type": "display_data"
    },
    {
     "data": {
      "text/plain": [
       "'die'"
      ]
     },
     "metadata": {},
     "output_type": "display_data"
    },
    {
     "data": {
      "text/plain": [
       "'aezirksberachtigte'"
      ]
     },
     "metadata": {},
     "output_type": "display_data"
    },
    {
     "data": {
      "text/plain": [
       "'hin'"
      ]
     },
     "metadata": {},
     "output_type": "display_data"
    },
    {
     "data": {
      "text/plain": [
       "'jetzau'"
      ]
     },
     "metadata": {},
     "output_type": "display_data"
    },
    {
     "data": {
      "text/plain": [
       "'as'"
      ]
     },
     "metadata": {},
     "output_type": "display_data"
    },
    {
     "data": {
      "text/plain": [
       "'unbürokratisches'"
      ]
     },
     "metadata": {},
     "output_type": "display_data"
    },
    {
     "data": {
      "text/plain": [
       "'mitspracherachtdie'"
      ]
     },
     "metadata": {},
     "output_type": "display_data"
    },
    {
     "data": {
      "text/plain": [
       "'eindicgseitsgabiksvorhabe'"
      ]
     },
     "metadata": {},
     "output_type": "display_data"
    },
    {
     "data": {
      "text/plain": [
       "'en'"
      ]
     },
     "metadata": {},
     "output_type": "display_data"
    },
    {
     "data": {
      "text/plain": [
       "'nunithrenen'"
      ]
     },
     "metadata": {},
     "output_type": "display_data"
    },
    {
     "data": {
      "text/plain": [
       "'abschlossen'"
      ]
     },
     "metadata": {},
     "output_type": "display_data"
    },
    {
     "data": {
      "text/plain": [
       "'werde'"
      ]
     },
     "metadata": {},
     "output_type": "display_data"
    },
    {
     "data": {
      "text/plain": [
       "'darbeten'"
      ]
     },
     "metadata": {},
     "output_type": "display_data"
    },
    {
     "data": {
      "text/plain": [
       "'am'"
      ]
     },
     "metadata": {},
     "output_type": "display_data"
    },
    {
     "data": {
      "text/plain": [
       "'personalun'"
      ]
     },
     "metadata": {},
     "output_type": "display_data"
    },
    {
     "data": {
      "text/plain": [
       "'souldec'"
      ]
     },
     "metadata": {},
     "output_type": "display_data"
    },
    {
     "data": {
      "text/plain": [
       "'setzig'"
      ]
     },
     "metadata": {},
     "output_type": "display_data"
    },
    {
     "data": {
      "text/plain": [
       "'aber'"
      ]
     },
     "metadata": {},
     "output_type": "display_data"
    },
    {
     "data": {
      "text/plain": [
       "'sowie'"
      ]
     },
     "metadata": {},
     "output_type": "display_data"
    },
    {
     "data": {
      "text/plain": [
       "'fortschritte'"
      ]
     },
     "metadata": {},
     "output_type": "display_data"
    },
    {
     "data": {
      "text/plain": [
       "'das'"
      ]
     },
     "metadata": {},
     "output_type": "display_data"
    },
    {
     "data": {
      "text/plain": [
       "'nu'"
      ]
     },
     "metadata": {},
     "output_type": "display_data"
    },
    {
     "data": {
      "text/plain": [
       "'idemia'"
      ]
     },
     "metadata": {},
     "output_type": "display_data"
    },
    {
     "data": {
      "text/plain": [
       "'fürnemlassig'"
      ]
     },
     "metadata": {},
     "output_type": "display_data"
    },
    {
     "data": {
      "text/plain": [
       "'kadoicführt'"
      ]
     },
     "metadata": {},
     "output_type": "display_data"
    },
    {
     "data": {
      "text/plain": [
       "'werde'"
      ]
     },
     "metadata": {},
     "output_type": "display_data"
    },
    {
     "data": {
      "text/plain": [
       "'speelgid'"
      ]
     },
     "metadata": {},
     "output_type": "display_data"
    },
    {
     "data": {
      "text/plain": [
       "'doufis'"
      ]
     },
     "metadata": {},
     "output_type": "display_data"
    },
    {
     "data": {
      "text/plain": [
       "'planigs'"
      ]
     },
     "metadata": {},
     "output_type": "display_data"
    },
    {
     "data": {
      "text/plain": [
       "'und'"
      ]
     },
     "metadata": {},
     "output_type": "display_data"
    },
    {
     "data": {
      "text/plain": [
       "'bugsex'"
      ]
     },
     "metadata": {},
     "output_type": "display_data"
    },
    {
     "data": {
      "text/plain": [
       "'imsetz'"
      ]
     },
     "metadata": {},
     "output_type": "display_data"
    },
    {
     "data": {
      "text/plain": [
       "'ber'"
      ]
     },
     "metadata": {},
     "output_type": "display_data"
    },
    {
     "data": {
      "text/plain": [
       "'die'"
      ]
     },
     "metadata": {},
     "output_type": "display_data"
    },
    {
     "data": {
      "text/plain": [
       "'integranten'"
      ]
     },
     "metadata": {},
     "output_type": "display_data"
    },
    {
     "data": {
      "text/plain": [
       "'ac'"
      ]
     },
     "metadata": {},
     "output_type": "display_data"
    },
    {
     "data": {
      "text/plain": [
       "'frriebardige'"
      ]
     },
     "metadata": {},
     "output_type": "display_data"
    },
    {
     "data": {
      "text/plain": [
       "'besefflich'"
      ]
     },
     "metadata": {},
     "output_type": "display_data"
    },
    {
     "data": {
      "text/plain": [
       "'beschäfigs'"
      ]
     },
     "metadata": {},
     "output_type": "display_data"
    },
    {
     "data": {
      "text/plain": [
       "'waser'"
      ]
     },
     "metadata": {},
     "output_type": "display_data"
    },
    {
     "data": {
      "text/plain": [
       "'ist'"
      ]
     },
     "metadata": {},
     "output_type": "display_data"
    },
    {
     "data": {
      "text/plain": [
       "'vernehmlässige'"
      ]
     },
     "metadata": {},
     "output_type": "display_data"
    },
    {
     "data": {
      "text/plain": [
       "'abschlosse'"
      ]
     },
     "metadata": {},
     "output_type": "display_data"
    },
    {
     "data": {
      "text/plain": [
       "'und'"
      ]
     },
     "metadata": {},
     "output_type": "display_data"
    },
    {
     "data": {
      "text/plain": [
       "'dr'"
      ]
     },
     "metadata": {},
     "output_type": "display_data"
    },
    {
     "data": {
      "text/plain": [
       "'kantonsrat'"
      ]
     },
     "metadata": {},
     "output_type": "display_data"
    },
    {
     "data": {
      "text/plain": [
       "'hanoidemiad'"
      ]
     },
     "metadata": {},
     "output_type": "display_data"
    },
    {
     "data": {
      "text/plain": [
       "'rüber'"
      ]
     },
     "metadata": {},
     "output_type": "display_data"
    },
    {
     "data": {
      "text/plain": [
       "'beraute'"
      ]
     },
     "metadata": {},
     "output_type": "display_data"
    },
    {
     "data": {
      "text/plain": [
       "'im'"
      ]
     },
     "metadata": {},
     "output_type": "display_data"
    },
    {
     "data": {
      "text/plain": [
       "'gesetz'"
      ]
     },
     "metadata": {},
     "output_type": "display_data"
    },
    {
     "data": {
      "text/plain": [
       "'über'"
      ]
     },
     "metadata": {},
     "output_type": "display_data"
    },
    {
     "data": {
      "text/plain": [
       "'die'"
      ]
     },
     "metadata": {},
     "output_type": "display_data"
    },
    {
     "data": {
      "text/plain": [
       "'bevölkriegsschutz'"
      ]
     },
     "metadata": {},
     "output_type": "display_data"
    },
    {
     "data": {
      "text/plain": [
       "'ermürse'"
      ]
     },
     "metadata": {},
     "output_type": "display_data"
    },
    {
     "data": {
      "text/plain": [
       "'dann'"
      ]
     },
     "metadata": {},
     "output_type": "display_data"
    },
    {
     "data": {
      "text/plain": [
       "'wiigr'"
      ]
     },
     "metadata": {},
     "output_type": "display_data"
    },
    {
     "data": {
      "text/plain": [
       "'vom'"
      ]
     },
     "metadata": {},
     "output_type": "display_data"
    },
    {
     "data": {
      "text/plain": [
       "'bundesgsets'"
      ]
     },
     "metadata": {},
     "output_type": "display_data"
    },
    {
     "data": {
      "text/plain": [
       "'abgewartet'"
      ]
     },
     "metadata": {},
     "output_type": "display_data"
    },
    {
     "data": {
      "text/plain": [
       "'werden'"
      ]
     },
     "metadata": {},
     "output_type": "display_data"
    },
    {
     "data": {
      "text/plain": [
       "'dass'"
      ]
     },
     "metadata": {},
     "output_type": "display_data"
    },
    {
     "data": {
      "text/plain": [
       "'sich'"
      ]
     },
     "metadata": {},
     "output_type": "display_data"
    },
    {
     "data": {
      "text/plain": [
       "'jetzt'"
      ]
     },
     "metadata": {},
     "output_type": "display_data"
    },
    {
     "data": {
      "text/plain": [
       "'sitmäh'"
      ]
     },
     "metadata": {},
     "output_type": "display_data"
    },
    {
     "data": {
      "text/plain": [
       "'der'"
      ]
     },
     "metadata": {},
     "output_type": "display_data"
    },
    {
     "data": {
      "text/plain": [
       "'januarin'"
      ]
     },
     "metadata": {},
     "output_type": "display_data"
    },
    {
     "data": {
      "text/plain": [
       "'kraft'"
      ]
     },
     "metadata": {},
     "output_type": "display_data"
    },
    {
     "data": {
      "text/plain": [
       "'ersohl'"
      ]
     },
     "metadata": {},
     "output_type": "display_data"
    },
    {
     "data": {
      "text/plain": [
       "'das'"
      ]
     },
     "metadata": {},
     "output_type": "display_data"
    },
    {
     "data": {
      "text/plain": [
       "'darbite'"
      ]
     },
     "metadata": {},
     "output_type": "display_data"
    },
    {
     "data": {
      "text/plain": [
       "'für'"
      ]
     },
     "metadata": {},
     "output_type": "display_data"
    },
    {
     "data": {
      "text/plain": [
       "'de'"
      ]
     },
     "metadata": {},
     "output_type": "display_data"
    },
    {
     "data": {
      "text/plain": [
       "'canto'"
      ]
     },
     "metadata": {},
     "output_type": "display_data"
    },
    {
     "data": {
      "text/plain": [
       "'nalivolzug'"
      ]
     },
     "metadata": {},
     "output_type": "display_data"
    },
    {
     "data": {
      "text/plain": [
       "'reduv'"
      ]
     },
     "metadata": {},
     "output_type": "display_data"
    },
    {
     "data": {
      "text/plain": [
       "'cno'"
      ]
     },
     "metadata": {},
     "output_type": "display_data"
    },
    {
     "data": {
      "text/plain": [
       "'verde'"
      ]
     },
     "metadata": {},
     "output_type": "display_data"
    },
    {
     "data": {
      "text/plain": [
       "'soviel'"
      ]
     },
     "metadata": {},
     "output_type": "display_data"
    },
    {
     "data": {
      "text/plain": [
       "'zur'"
      ]
     },
     "metadata": {},
     "output_type": "display_data"
    },
    {
     "data": {
      "text/plain": [
       "'bilanz'"
      ]
     },
     "metadata": {},
     "output_type": "display_data"
    },
    {
     "data": {
      "text/plain": [
       "'und'"
      ]
     },
     "metadata": {},
     "output_type": "display_data"
    },
    {
     "data": {
      "text/plain": [
       "'jetzt'"
      ]
     },
     "metadata": {},
     "output_type": "display_data"
    },
    {
     "data": {
      "text/plain": [
       "'bliet'"
      ]
     },
     "metadata": {},
     "output_type": "display_data"
    },
    {
     "data": {
      "text/plain": [
       "'die'"
      ]
     },
     "metadata": {},
     "output_type": "display_data"
    },
    {
     "data": {
      "text/plain": [
       "'zurkunft'"
      ]
     },
     "metadata": {},
     "output_type": "display_data"
    },
    {
     "data": {
      "text/plain": [
       "'der'"
      ]
     },
     "metadata": {},
     "output_type": "display_data"
    },
    {
     "data": {
      "text/plain": [
       "'giesrat'"
      ]
     },
     "metadata": {},
     "output_type": "display_data"
    },
    {
     "data": {
      "text/plain": [
       "'plant'"
      ]
     },
     "metadata": {},
     "output_type": "display_data"
    },
    {
     "data": {
      "text/plain": [
       "'acht'"
      ]
     },
     "metadata": {},
     "output_type": "display_data"
    },
    {
     "data": {
      "text/plain": [
       "'sachsetzgabbige'"
      ]
     },
     "metadata": {},
     "output_type": "display_data"
    },
    {
     "data": {
      "text/plain": [
       "'oft'"
      ]
     },
     "metadata": {},
     "output_type": "display_data"
    },
    {
     "data": {
      "text/plain": [
       "'wewa'"
      ]
     },
     "metadata": {},
     "output_type": "display_data"
    },
    {
     "data": {
      "text/plain": [
       "'andrige'"
      ]
     },
     "metadata": {},
     "output_type": "display_data"
    },
    {
     "data": {
      "text/plain": [
       "'vür'"
      ]
     },
     "metadata": {},
     "output_type": "display_data"
    },
    {
     "data": {
      "text/plain": [
       "'bundesracht'"
      ]
     },
     "metadata": {},
     "output_type": "display_data"
    },
    {
     "data": {
      "text/plain": [
       "'oder'"
      ]
     },
     "metadata": {},
     "output_type": "display_data"
    },
    {
     "data": {
      "text/plain": [
       "'andere'"
      ]
     },
     "metadata": {},
     "output_type": "display_data"
    },
    {
     "data": {
      "text/plain": [
       "'übergeordnete'"
      ]
     },
     "metadata": {},
     "output_type": "display_data"
    },
    {
     "data": {
      "text/plain": [
       "'vorgabe'"
      ]
     },
     "metadata": {},
     "output_type": "display_data"
    },
    {
     "data": {
      "text/plain": [
       "'nötig'"
      ]
     },
     "metadata": {},
     "output_type": "display_data"
    },
    {
     "data": {
      "text/plain": [
       "'mehrere'"
      ]
     },
     "metadata": {},
     "output_type": "display_data"
    },
    {
     "data": {
      "text/plain": [
       "'devisionen'"
      ]
     },
     "metadata": {},
     "output_type": "display_data"
    },
    {
     "data": {
      "text/plain": [
       "'weden'"
      ]
     },
     "metadata": {},
     "output_type": "display_data"
    },
    {
     "data": {
      "text/plain": [
       "'nötig'"
      ]
     },
     "metadata": {},
     "output_type": "display_data"
    },
    {
     "data": {
      "text/plain": [
       "'wie'"
      ]
     },
     "metadata": {},
     "output_type": "display_data"
    },
    {
     "data": {
      "text/plain": [
       "'sich'"
      ]
     },
     "metadata": {},
     "output_type": "display_data"
    },
    {
     "data": {
      "text/plain": [
       "'laggandere'"
      ]
     },
     "metadata": {},
     "output_type": "display_data"
    },
    {
     "data": {
      "text/plain": [
       "'tetso'"
      ]
     },
     "metadata": {},
     "output_type": "display_data"
    },
    {
     "data": {
      "text/plain": [
       "'zum'"
      ]
     },
     "metadata": {},
     "output_type": "display_data"
    },
    {
     "data": {
      "text/plain": [
       "'bispispantionsclassikses'"
      ]
     },
     "metadata": {},
     "output_type": "display_data"
    },
    {
     "data": {
      "text/plain": [
       "'binüenvorgabe'"
      ]
     },
     "metadata": {},
     "output_type": "display_data"
    },
    {
     "data": {
      "text/plain": [
       "'ist'"
      ]
     },
     "metadata": {},
     "output_type": "display_data"
    },
    {
     "data": {
      "text/plain": [
       "'revision'"
      ]
     },
     "metadata": {},
     "output_type": "display_data"
    },
    {
     "data": {
      "text/plain": [
       "'oss'"
      ]
     },
     "metadata": {},
     "output_type": "display_data"
    },
    {
     "data": {
      "text/plain": [
       "'der'"
      ]
     },
     "metadata": {},
     "output_type": "display_data"
    },
    {
     "data": {
      "text/plain": [
       "'reihe'"
      ]
     },
     "metadata": {},
     "output_type": "display_data"
    },
    {
     "data": {
      "text/plain": [
       "'von'"
      ]
     },
     "metadata": {},
     "output_type": "display_data"
    },
    {
     "data": {
      "text/plain": [
       "'kantonsrat'"
      ]
     },
     "metadata": {},
     "output_type": "display_data"
    },
    {
     "data": {
      "text/plain": [
       "'mittels'"
      ]
     },
     "metadata": {},
     "output_type": "display_data"
    },
    {
     "data": {
      "text/plain": [
       "'erheblich'"
      ]
     },
     "metadata": {},
     "output_type": "display_data"
    },
    {
     "data": {
      "text/plain": [
       "'erklarten'"
      ]
     },
     "metadata": {},
     "output_type": "display_data"
    },
    {
     "data": {
      "text/plain": [
       "'vorstoß'"
      ]
     },
     "metadata": {},
     "output_type": "display_data"
    },
    {
     "data": {
      "text/plain": [
       "'erleckt'"
      ]
     },
     "metadata": {},
     "output_type": "display_data"
    },
    {
     "data": {
      "text/plain": [
       "'wurde'"
      ]
     },
     "metadata": {},
     "output_type": "display_data"
    },
    {
     "data": {
      "text/plain": [
       "'der'"
      ]
     },
     "metadata": {},
     "output_type": "display_data"
    },
    {
     "data": {
      "text/plain": [
       "'regierungsrat'"
      ]
     },
     "metadata": {},
     "output_type": "display_data"
    },
    {
     "data": {
      "text/plain": [
       "'wer'"
      ]
     },
     "metadata": {},
     "output_type": "display_data"
    },
    {
     "data": {
      "text/plain": [
       "'ihnen'"
      ]
     },
     "metadata": {},
     "output_type": "display_data"
    },
    {
     "data": {
      "text/plain": [
       "'außer'"
      ]
     },
     "metadata": {},
     "output_type": "display_data"
    },
    {
     "data": {
      "text/plain": [
       "'ainylas'"
      ]
     },
     "metadata": {},
     "output_type": "display_data"
    },
    {
     "data": {
      "text/plain": [
       "'vier'"
      ]
     },
     "metadata": {},
     "output_type": "display_data"
    },
    {
     "data": {
      "text/plain": [
       "'totalrevisione'"
      ]
     },
     "metadata": {},
     "output_type": "display_data"
    },
    {
     "data": {
      "text/plain": [
       "'und'"
      ]
     },
     "metadata": {},
     "output_type": "display_data"
    },
    {
     "data": {
      "text/plain": [
       "'trize'"
      ]
     },
     "metadata": {},
     "output_type": "display_data"
    },
    {
     "data": {
      "text/plain": [
       "'teilrevisionen'"
      ]
     },
     "metadata": {},
     "output_type": "display_data"
    },
    {
     "data": {
      "text/plain": [
       "'unter'"
      ]
     },
     "metadata": {},
     "output_type": "display_data"
    },
    {
     "data": {
      "text/plain": [
       "'breiteras'"
      ]
     },
     "metadata": {},
     "output_type": "display_data"
    },
    {
     "data": {
      "text/plain": [
       "'bundesgericht'"
      ]
     },
     "metadata": {},
     "output_type": "display_data"
    },
    {
     "data": {
      "text/plain": [
       "'hate'"
      ]
     },
     "metadata": {},
     "output_type": "display_data"
    },
    {
     "data": {
      "text/plain": [
       "'is'"
      ]
     },
     "metadata": {},
     "output_type": "display_data"
    },
    {
     "data": {
      "text/plain": [
       "'in'"
      ]
     },
     "metadata": {},
     "output_type": "display_data"
    },
    {
     "data": {
      "text/plain": [
       "'ihren'"
      ]
     },
     "metadata": {},
     "output_type": "display_data"
    },
    {
     "data": {
      "text/plain": [
       "'abstrakte'"
      ]
     },
     "metadata": {},
     "output_type": "display_data"
    },
    {
     "data": {
      "text/plain": [
       "'normer'"
      ]
     },
     "metadata": {},
     "output_type": "display_data"
    },
    {
     "data": {
      "text/plain": [
       "'kontrolle'"
      ]
     },
     "metadata": {},
     "output_type": "display_data"
    },
    {
     "data": {
      "text/plain": [
       "'der'"
      ]
     },
     "metadata": {},
     "output_type": "display_data"
    },
    {
     "data": {
      "text/plain": [
       "'paragraphe'"
      ]
     },
     "metadata": {},
     "output_type": "display_data"
    },
    {
     "data": {
      "text/plain": [
       "'über'"
      ]
     },
     "metadata": {},
     "output_type": "display_data"
    },
    {
     "data": {
      "text/plain": [
       "'die'"
      ]
     },
     "metadata": {},
     "output_type": "display_data"
    },
    {
     "data": {
      "text/plain": [
       "'anonyme'"
      ]
     },
     "metadata": {},
     "output_type": "display_data"
    },
    {
     "data": {
      "text/plain": [
       "'spande'"
      ]
     },
     "metadata": {},
     "output_type": "display_data"
    },
    {
     "data": {
      "text/plain": [
       "'im'"
      ]
     },
     "metadata": {},
     "output_type": "display_data"
    },
    {
     "data": {
      "text/plain": [
       "'transparenzkres'"
      ]
     },
     "metadata": {},
     "output_type": "display_data"
    },
    {
     "data": {
      "text/plain": [
       "'beausstandet'"
      ]
     },
     "metadata": {},
     "output_type": "display_data"
    },
    {
     "data": {
      "text/plain": [
       "'trommieter'"
      ]
     },
     "metadata": {},
     "output_type": "display_data"
    },
    {
     "data": {
      "text/plain": [
       "'rgierigsrat'"
      ]
     },
     "metadata": {},
     "output_type": "display_data"
    },
    {
     "data": {
      "text/plain": [
       "'im'"
      ]
     },
     "metadata": {},
     "output_type": "display_data"
    },
    {
     "data": {
      "text/plain": [
       "'kantonsrat'"
      ]
     },
     "metadata": {},
     "output_type": "display_data"
    },
    {
     "data": {
      "text/plain": [
       "'rrechtskonformi'"
      ]
     },
     "metadata": {},
     "output_type": "display_data"
    },
    {
     "data": {
      "text/plain": [
       "'regelik'"
      ]
     },
     "metadata": {},
     "output_type": "display_data"
    },
    {
     "data": {
      "text/plain": [
       "'unt'"
      ]
     },
     "metadata": {},
     "output_type": "display_data"
    },
    {
     "data": {
      "text/plain": [
       "'breiter'"
      ]
     },
     "metadata": {},
     "output_type": "display_data"
    },
    {
     "data": {
      "text/plain": [
       "'mit'"
      ]
     },
     "metadata": {},
     "output_type": "display_data"
    },
    {
     "data": {
      "text/plain": [
       "'der'"
      ]
     },
     "metadata": {},
     "output_type": "display_data"
    },
    {
     "data": {
      "text/plain": [
       "'tahlrevision'"
      ]
     },
     "metadata": {},
     "output_type": "display_data"
    },
    {
     "data": {
      "text/plain": [
       "'von'"
      ]
     },
     "metadata": {},
     "output_type": "display_data"
    },
    {
     "data": {
      "text/plain": [
       "'bentionscassicsets'"
      ]
     },
     "metadata": {},
     "output_type": "display_data"
    },
    {
     "data": {
      "text/plain": [
       "'soll'"
      ]
     },
     "metadata": {},
     "output_type": "display_data"
    },
    {
     "data": {
      "text/plain": [
       "'die'"
      ]
     },
     "metadata": {},
     "output_type": "display_data"
    },
    {
     "data": {
      "text/plain": [
       "'finanzielle'"
      ]
     },
     "metadata": {},
     "output_type": "display_data"
    },
    {
     "data": {
      "text/plain": [
       "'stabilität'"
      ]
     },
     "metadata": {},
     "output_type": "display_data"
    },
    {
     "data": {
      "text/plain": [
       "'für'"
      ]
     },
     "metadata": {},
     "output_type": "display_data"
    },
    {
     "data": {
      "text/plain": [
       "'die'"
      ]
     },
     "metadata": {},
     "output_type": "display_data"
    },
    {
     "data": {
      "text/plain": [
       "'bentionskrasse'"
      ]
     },
     "metadata": {},
     "output_type": "display_data"
    },
    {
     "data": {
      "text/plain": [
       "'aubistiegende'"
      ]
     },
     "metadata": {},
     "output_type": "display_data"
    },
    {
     "data": {
      "text/plain": [
       "'lappenserwartig'"
      ]
     },
     "metadata": {},
     "output_type": "display_data"
    },
    {
     "data": {
      "text/plain": [
       "'und'"
      ]
     },
     "metadata": {},
     "output_type": "display_data"
    },
    {
     "data": {
      "text/plain": [
       "'tüfen'"
      ]
     },
     "metadata": {},
     "output_type": "display_data"
    },
    {
     "data": {
      "text/plain": [
       "'zensumfalt'"
      ]
     },
     "metadata": {},
     "output_type": "display_data"
    },
    {
     "data": {
      "text/plain": [
       "'querleistet'"
      ]
     },
     "metadata": {},
     "output_type": "display_data"
    },
    {
     "data": {
      "text/plain": [
       "'werde'"
      ]
     },
     "metadata": {},
     "output_type": "display_data"
    },
    {
     "data": {
      "text/plain": [
       "'auh'"
      ]
     },
     "metadata": {},
     "output_type": "display_data"
    },
    {
     "data": {
      "text/plain": [
       "'revision'"
      ]
     },
     "metadata": {},
     "output_type": "display_data"
    },
    {
     "data": {
      "text/plain": [
       "'von'"
      ]
     },
     "metadata": {},
     "output_type": "display_data"
    },
    {
     "data": {
      "text/plain": [
       "'personal'"
      ]
     },
     "metadata": {},
     "output_type": "display_data"
    },
    {
     "data": {
      "text/plain": [
       "'und'"
      ]
     },
     "metadata": {},
     "output_type": "display_data"
    },
    {
     "data": {
      "text/plain": [
       "'soldis'"
      ]
     },
     "metadata": {},
     "output_type": "display_data"
    },
    {
     "data": {
      "text/plain": [
       "'sets'"
      ]
     },
     "metadata": {},
     "output_type": "display_data"
    },
    {
     "data": {
      "text/plain": [
       "'wederabgabe'"
      ]
     },
     "metadata": {},
     "output_type": "display_data"
    },
    {
     "data": {
      "text/plain": [
       "'wagedenia'"
      ]
     },
     "metadata": {},
     "output_type": "display_data"
    },
    {
     "data": {
      "text/plain": [
       "'odnix'"
      ]
     },
     "metadata": {},
     "output_type": "display_data"
    },
    {
     "data": {
      "text/plain": [
       "'bus'"
      ]
     },
     "metadata": {},
     "output_type": "display_data"
    },
    {
     "data": {
      "text/plain": [
       "'tar'"
      ]
     },
     "metadata": {},
     "output_type": "display_data"
    },
    {
     "data": {
      "text/plain": [
       "'bestande'"
      ]
     },
     "metadata": {},
     "output_type": "display_data"
    },
    {
     "data": {
      "text/plain": [
       "'ie'"
      ]
     },
     "metadata": {},
     "output_type": "display_data"
    },
    {
     "data": {
      "text/plain": [
       "'bundesracht'"
      ]
     },
     "metadata": {},
     "output_type": "display_data"
    },
    {
     "data": {
      "text/plain": [
       "'wie'"
      ]
     },
     "metadata": {},
     "output_type": "display_data"
    },
    {
     "data": {
      "text/plain": [
       "'tallrevisionen'"
      ]
     },
     "metadata": {},
     "output_type": "display_data"
    },
    {
     "data": {
      "text/plain": [
       "'vom'"
      ]
     },
     "metadata": {},
     "output_type": "display_data"
    },
    {
     "data": {
      "text/plain": [
       "'kontonalar'"
      ]
     },
     "metadata": {},
     "output_type": "display_data"
    },
    {
     "data": {
      "text/plain": [
       "'honixbrötisecs'"
      ]
     },
     "metadata": {},
     "output_type": "display_data"
    },
    {
     "data": {
      "text/plain": [
       "'nötig'"
      ]
     },
     "metadata": {},
     "output_type": "display_data"
    },
    {
     "data": {
      "text/plain": [
       "'die'"
      ]
     },
     "metadata": {},
     "output_type": "display_data"
    },
    {
     "data": {
      "text/plain": [
       "'eine'"
      ]
     },
     "metadata": {},
     "output_type": "display_data"
    },
    {
     "data": {
      "text/plain": [
       "'von'"
      ]
     },
     "metadata": {},
     "output_type": "display_data"
    },
    {
     "data": {
      "text/plain": [
       "'benahste'"
      ]
     },
     "metadata": {},
     "output_type": "display_data"
    },
    {
     "data": {
      "text/plain": [
       "'condons'"
      ]
     },
     "metadata": {},
     "output_type": "display_data"
    },
    {
     "data": {
      "text/plain": [
       "'razizi'"
      ]
     },
     "metadata": {},
     "output_type": "display_data"
    },
    {
     "data": {
      "text/plain": [
       "'gewetet'"
      ]
     },
     "metadata": {},
     "output_type": "display_data"
    },
    {
     "data": {
      "text/plain": [
       "'sie'"
      ]
     },
     "metadata": {},
     "output_type": "display_data"
    },
    {
     "data": {
      "text/plain": [
       "'tal'"
      ]
     },
     "metadata": {},
     "output_type": "display_data"
    },
    {
     "data": {
      "text/plain": [
       "'revisiomfunk'"
      ]
     },
     "metadata": {},
     "output_type": "display_data"
    },
    {
     "data": {
      "text/plain": [
       "'setz'"
      ]
     },
     "metadata": {},
     "output_type": "display_data"
    },
    {
     "data": {
      "text/plain": [
       "'über'"
      ]
     },
     "metadata": {},
     "output_type": "display_data"
    },
    {
     "data": {
      "text/plain": [
       "'der'"
      ]
     },
     "metadata": {},
     "output_type": "display_data"
    },
    {
     "data": {
      "text/plain": [
       "'danzigs'"
      ]
     },
     "metadata": {},
     "output_type": "display_data"
    },
    {
     "data": {
      "text/plain": [
       "'leichtige'"
      ]
     },
     "metadata": {},
     "output_type": "display_data"
    },
    {
     "data": {
      "text/plain": [
       "'zurauferfa'"
      ]
     },
     "metadata": {},
     "output_type": "display_data"
    },
    {
     "data": {
      "text/plain": [
       "'evau'"
      ]
     },
     "metadata": {},
     "output_type": "display_data"
    },
    {
     "data": {
      "text/plain": [
       "'berater'"
      ]
     },
     "metadata": {},
     "output_type": "display_data"
    },
    {
     "data": {
      "text/plain": [
       "'revision'"
      ]
     },
     "metadata": {},
     "output_type": "display_data"
    },
    {
     "data": {
      "text/plain": [
       "'von'"
      ]
     },
     "metadata": {},
     "output_type": "display_data"
    },
    {
     "data": {
      "text/plain": [
       "'sres'"
      ]
     },
     "metadata": {},
     "output_type": "display_data"
    },
    {
     "data": {
      "text/plain": [
       "'über'"
      ]
     },
     "metadata": {},
     "output_type": "display_data"
    },
    {
     "data": {
      "text/plain": [
       "'in'"
      ]
     },
     "metadata": {},
     "output_type": "display_data"
    },
    {
     "data": {
      "text/plain": [
       "'kassowil'"
      ]
     },
     "metadata": {},
     "output_type": "display_data"
    },
    {
     "data": {
      "text/plain": [
       "'von'"
      ]
     },
     "metadata": {},
     "output_type": "display_data"
    },
    {
     "data": {
      "text/plain": [
       "'bevor'"
      ]
     },
     "metadata": {},
     "output_type": "display_data"
    },
    {
     "data": {
      "text/plain": [
       "'sie'"
      ]
     },
     "metadata": {},
     "output_type": "display_data"
    },
    {
     "data": {
      "text/plain": [
       "'undschosssig'"
      ]
     },
     "metadata": {},
     "output_type": "display_data"
    },
    {
     "data": {
      "text/plain": [
       "'für'"
      ]
     },
     "metadata": {},
     "output_type": "display_data"
    },
    {
     "data": {
      "text/plain": [
       "'unterhaltsbitrag'"
      ]
     },
     "metadata": {},
     "output_type": "display_data"
    },
    {
     "data": {
      "text/plain": [
       "'verscheent'"
      ]
     },
     "metadata": {},
     "output_type": "display_data"
    },
    {
     "data": {
      "text/plain": [
       "'isti'"
      ]
     },
     "metadata": {},
     "output_type": "display_data"
    },
    {
     "data": {
      "text/plain": [
       "'defenehmlassig'"
      ]
     },
     "metadata": {},
     "output_type": "display_data"
    },
    {
     "data": {
      "text/plain": [
       "'um'"
      ]
     },
     "metadata": {},
     "output_type": "display_data"
    },
    {
     "data": {
      "text/plain": [
       "'inter'"
      ]
     },
     "metadata": {},
     "output_type": "display_data"
    },
    {
     "data": {
      "text/plain": [
       "'den'"
      ]
     },
     "metadata": {},
     "output_type": "display_data"
    },
    {
     "data": {
      "text/plain": [
       "'angerieg'"
      ]
     },
     "metadata": {},
     "output_type": "display_data"
    },
    {
     "data": {
      "text/plain": [
       "'von'"
      ]
     },
     "metadata": {},
     "output_type": "display_data"
    },
    {
     "data": {
      "text/plain": [
       "'sätze'"
      ]
     },
     "metadata": {},
     "output_type": "display_data"
    },
    {
     "data": {
      "text/plain": [
       "'ber'"
      ]
     },
     "metadata": {},
     "output_type": "display_data"
    },
    {
     "data": {
      "text/plain": [
       "'soziali'"
      ]
     },
     "metadata": {},
     "output_type": "display_data"
    },
    {
     "data": {
      "text/plain": [
       "'ir'"
      ]
     },
     "metadata": {},
     "output_type": "display_data"
    },
    {
     "data": {
      "text/plain": [
       "'richtige'"
      ]
     },
     "metadata": {},
     "output_type": "display_data"
    },
    {
     "data": {
      "text/plain": [
       "'selle'"
      ]
     },
     "metadata": {},
     "output_type": "display_data"
    },
    {
     "data": {
      "text/plain": [
       "'kröchte'"
      ]
     },
     "metadata": {},
     "output_type": "display_data"
    },
    {
     "data": {
      "text/plain": [
       "'vorageordnete'"
      ]
     },
     "metadata": {},
     "output_type": "display_data"
    },
    {
     "data": {
      "text/plain": [
       "'maßnahme'"
      ]
     },
     "metadata": {},
     "output_type": "display_data"
    },
    {
     "data": {
      "text/plain": [
       "'von'"
      ]
     },
     "metadata": {},
     "output_type": "display_data"
    },
    {
     "data": {
      "text/plain": [
       "'the'"
      ]
     },
     "metadata": {},
     "output_type": "display_data"
    },
    {
     "data": {
      "text/plain": [
       "'qeske'"
      ]
     },
     "metadata": {},
     "output_type": "display_data"
    },
    {
     "data": {
      "text/plain": [
       "'neu'"
      ]
     },
     "metadata": {},
     "output_type": "display_data"
    },
    {
     "data": {
      "text/plain": [
       "'vom'"
      ]
     },
     "metadata": {},
     "output_type": "display_data"
    },
    {
     "data": {
      "text/plain": [
       "'kanton'"
      ]
     },
     "metadata": {},
     "output_type": "display_data"
    },
    {
     "data": {
      "text/plain": [
       "'und'"
      ]
     },
     "metadata": {},
     "output_type": "display_data"
    },
    {
     "data": {
      "text/plain": [
       "'die'"
      ]
     },
     "metadata": {},
     "output_type": "display_data"
    },
    {
     "data": {
      "text/plain": [
       "'betroffene'"
      ]
     },
     "metadata": {},
     "output_type": "display_data"
    },
    {
     "data": {
      "text/plain": [
       "'kmaindezugrihe'"
      ]
     },
     "metadata": {},
     "output_type": "display_data"
    },
    {
     "data": {
      "text/plain": [
       "'teil'"
      ]
     },
     "metadata": {},
     "output_type": "display_data"
    },
    {
     "data": {
      "text/plain": [
       "'treit'"
      ]
     },
     "metadata": {},
     "output_type": "display_data"
    },
    {
     "data": {
      "text/plain": [
       "'werdeals'"
      ]
     },
     "metadata": {},
     "output_type": "display_data"
    },
    {
     "data": {
      "text/plain": [
       "'straßesätze'"
      ]
     },
     "metadata": {},
     "output_type": "display_data"
    },
    {
     "data": {
      "text/plain": [
       "'dail'"
      ]
     },
     "metadata": {},
     "output_type": "display_data"
    },
    {
     "data": {
      "text/plain": [
       "'revidiert'"
      ]
     },
     "metadata": {},
     "output_type": "display_data"
    },
    {
     "data": {
      "text/plain": [
       "'werdelsowrde'"
      ]
     },
     "metadata": {},
     "output_type": "display_data"
    },
    {
     "data": {
      "text/plain": [
       "'zur'"
      ]
     },
     "metadata": {},
     "output_type": "display_data"
    },
    {
     "data": {
      "text/plain": [
       "'brigerstraße'"
      ]
     },
     "metadata": {},
     "output_type": "display_data"
    },
    {
     "data": {
      "text/plain": [
       "'zum'"
      ]
     },
     "metadata": {},
     "output_type": "display_data"
    },
    {
     "data": {
      "text/plain": [
       "'autobahnanschluss'"
      ]
     },
     "metadata": {},
     "output_type": "display_data"
    },
    {
     "data": {
      "text/plain": [
       "'aus'"
      ]
     },
     "metadata": {},
     "output_type": "display_data"
    },
    {
     "data": {
      "text/plain": [
       "'hauptstraße'"
      ]
     },
     "metadata": {},
     "output_type": "display_data"
    },
    {
     "data": {
      "text/plain": [
       "'qualifiziert'"
      ]
     },
     "metadata": {},
     "output_type": "display_data"
    },
    {
     "data": {
      "text/plain": [
       "'und'"
      ]
     },
     "metadata": {},
     "output_type": "display_data"
    },
    {
     "data": {
      "text/plain": [
       "'allfälliger'"
      ]
     },
     "metadata": {},
     "output_type": "display_data"
    },
    {
     "data": {
      "text/plain": [
       "'abassiks'"
      ]
     },
     "metadata": {},
     "output_type": "display_data"
    },
    {
     "data": {
      "text/plain": [
       "'bedarf'"
      ]
     },
     "metadata": {},
     "output_type": "display_data"
    },
    {
     "data": {
      "text/plain": [
       "'fusste'"
      ]
     },
     "metadata": {},
     "output_type": "display_data"
    },
    {
     "data": {
      "text/plain": [
       "'überbrüfig'"
      ]
     },
     "metadata": {},
     "output_type": "display_data"
    },
    {
     "data": {
      "text/plain": [
       "'vom'"
      ]
     },
     "metadata": {},
     "output_type": "display_data"
    },
    {
     "data": {
      "text/plain": [
       "'haupt'"
      ]
     },
     "metadata": {},
     "output_type": "display_data"
    },
    {
     "data": {
      "text/plain": [
       "'und'"
      ]
     },
     "metadata": {},
     "output_type": "display_data"
    },
    {
     "data": {
      "text/plain": [
       "'verbindugstraßenetz'"
      ]
     },
     "metadata": {},
     "output_type": "display_data"
    },
    {
     "data": {
      "text/plain": [
       "'berücksichtigt'"
      ]
     },
     "metadata": {},
     "output_type": "display_data"
    },
    {
     "data": {
      "text/plain": [
       "'mit'"
      ]
     },
     "metadata": {},
     "output_type": "display_data"
    },
    {
     "data": {
      "text/plain": [
       "'der'"
      ]
     },
     "metadata": {},
     "output_type": "display_data"
    },
    {
     "data": {
      "text/plain": [
       "'revision'"
      ]
     },
     "metadata": {},
     "output_type": "display_data"
    },
    {
     "data": {
      "text/plain": [
       "'von'"
      ]
     },
     "metadata": {},
     "output_type": "display_data"
    },
    {
     "data": {
      "text/plain": [
       "'volksschocksetzend'"
      ]
     },
     "metadata": {},
     "output_type": "display_data"
    },
    {
     "data": {
      "text/plain": [
       "'em'"
      ]
     },
     "metadata": {},
     "output_type": "display_data"
    },
    {
     "data": {
      "text/plain": [
       "'personal'"
      ]
     },
     "metadata": {},
     "output_type": "display_data"
    },
    {
     "data": {
      "text/plain": [
       "'um'"
      ]
     },
     "metadata": {},
     "output_type": "display_data"
    },
    {
     "data": {
      "text/plain": [
       "'soltixtets'"
      ]
     },
     "metadata": {},
     "output_type": "display_data"
    },
    {
     "data": {
      "text/plain": [
       "'ferlehrpesone'"
      ]
     },
     "metadata": {},
     "output_type": "display_data"
    },
    {
     "data": {
      "text/plain": [
       "'wedet'"
      ]
     },
     "metadata": {},
     "output_type": "display_data"
    },
    {
     "data": {
      "text/plain": [
       "'notwandige'"
      ]
     },
     "metadata": {},
     "output_type": "display_data"
    },
    {
     "data": {
      "text/plain": [
       "'oktualisieriger'"
      ]
     },
     "metadata": {},
     "output_type": "display_data"
    },
    {
     "data": {
      "text/plain": [
       "'im'"
      ]
     },
     "metadata": {},
     "output_type": "display_data"
    },
    {
     "data": {
      "text/plain": [
       "'volksscholwesser'"
      ]
     },
     "metadata": {},
     "output_type": "display_data"
    },
    {
     "data": {
      "text/plain": [
       "'folkno'"
      ]
     },
     "metadata": {},
     "output_type": "display_data"
    },
    {
     "data": {
      "text/plain": [
       "'für'"
      ]
     },
     "metadata": {},
     "output_type": "display_data"
    },
    {
     "data": {
      "text/plain": [
       "'nemlastik'"
      ]
     },
     "metadata": {},
     "output_type": "display_data"
    },
    {
     "data": {
      "text/plain": [
       "'von'"
      ]
     },
     "metadata": {},
     "output_type": "display_data"
    },
    {
     "data": {
      "text/plain": [
       "'mitelcholk'"
      ]
     },
     "metadata": {},
     "output_type": "display_data"
    },
    {
     "data": {
      "text/plain": [
       "'segt'"
      ]
     },
     "metadata": {},
     "output_type": "display_data"
    },
    {
     "data": {
      "text/plain": [
       "'sich'"
      ]
     },
     "metadata": {},
     "output_type": "display_data"
    },
    {
     "data": {
      "text/plain": [
       "'abschlosse'"
      ]
     },
     "metadata": {},
     "output_type": "display_data"
    },
    {
     "data": {
      "text/plain": [
       "'und'"
      ]
     },
     "metadata": {},
     "output_type": "display_data"
    },
    {
     "data": {
      "text/plain": [
       "'lesewe'"
      ]
     },
     "metadata": {},
     "output_type": "display_data"
    },
    {
     "data": {
      "text/plain": [
       "'as'"
      ]
     },
     "metadata": {},
     "output_type": "display_data"
    },
    {
     "data": {
      "text/plain": [
       "'umwautschutzgsetz'"
      ]
     },
     "metadata": {},
     "output_type": "display_data"
    },
    {
     "data": {
      "text/plain": [
       "'unds'"
      ]
     },
     "metadata": {},
     "output_type": "display_data"
    },
    {
     "data": {
      "text/plain": [
       "'jagd'"
      ]
     },
     "metadata": {},
     "output_type": "display_data"
    },
    {
     "data": {
      "text/plain": [
       "'und'"
      ]
     },
     "metadata": {},
     "output_type": "display_data"
    },
    {
     "data": {
      "text/plain": [
       "'wirtschutzssetz'"
      ]
     },
     "metadata": {},
     "output_type": "display_data"
    },
    {
     "data": {
      "text/plain": [
       "'aufgrund'"
      ]
     },
     "metadata": {},
     "output_type": "display_data"
    },
    {
     "data": {
      "text/plain": [
       "'vorerheblicherklarte'"
      ]
     },
     "metadata": {},
     "output_type": "display_data"
    },
    {
     "data": {
      "text/plain": [
       "'vorstöß'"
      ]
     },
     "metadata": {},
     "output_type": "display_data"
    },
    {
     "data": {
      "text/plain": [
       "'revidiertwier'"
      ]
     },
     "metadata": {},
     "output_type": "display_data"
    },
    {
     "data": {
      "text/plain": [
       "'sho'"
      ]
     },
     "metadata": {},
     "output_type": "display_data"
    },
    {
     "data": {
      "text/plain": [
       "'im'"
      ]
     },
     "metadata": {},
     "output_type": "display_data"
    },
    {
     "data": {
      "text/plain": [
       "'vergangenen'"
      ]
     },
     "metadata": {},
     "output_type": "display_data"
    },
    {
     "data": {
      "text/plain": [
       "'exetzgabix'"
      ]
     },
     "metadata": {},
     "output_type": "display_data"
    },
    {
     "data": {
      "text/plain": [
       "'programm'"
      ]
     },
     "metadata": {},
     "output_type": "display_data"
    },
    {
     "data": {
      "text/plain": [
       "'beschriebe'"
      ]
     },
     "metadata": {},
     "output_type": "display_data"
    },
    {
     "data": {
      "text/plain": [
       "'sind'"
      ]
     },
     "metadata": {},
     "output_type": "display_data"
    },
    {
     "data": {
      "text/plain": [
       "'gsets'"
      ]
     },
     "metadata": {},
     "output_type": "display_data"
    },
    {
     "data": {
      "text/plain": [
       "'über'"
      ]
     },
     "metadata": {},
     "output_type": "display_data"
    },
    {
     "data": {
      "text/plain": [
       "'bevölkergsschutz'"
      ]
     },
     "metadata": {},
     "output_type": "display_data"
    },
    {
     "data": {
      "text/plain": [
       "'und'"
      ]
     },
     "metadata": {},
     "output_type": "display_data"
    },
    {
     "data": {
      "text/plain": [
       "'der'"
      ]
     },
     "metadata": {},
     "output_type": "display_data"
    },
    {
     "data": {
      "text/plain": [
       "'zivilschutz'"
      ]
     },
     "metadata": {},
     "output_type": "display_data"
    },
    {
     "data": {
      "text/plain": [
       "'planiks'"
      ]
     },
     "metadata": {},
     "output_type": "display_data"
    },
    {
     "data": {
      "text/plain": [
       "'und'"
      ]
     },
     "metadata": {},
     "output_type": "display_data"
    },
    {
     "data": {
      "text/plain": [
       "'baugsetz'"
      ]
     },
     "metadata": {},
     "output_type": "display_data"
    },
    {
     "data": {
      "text/plain": [
       "'sowie'"
      ]
     },
     "metadata": {},
     "output_type": "display_data"
    },
    {
     "data": {
      "text/plain": [
       "'die'"
      ]
     },
     "metadata": {},
     "output_type": "display_data"
    },
    {
     "data": {
      "text/plain": [
       "'intergamtonali'"
      ]
     },
     "metadata": {},
     "output_type": "display_data"
    },
    {
     "data": {
      "text/plain": [
       "'friebarri'"
      ]
     },
     "metadata": {},
     "output_type": "display_data"
    },
    {
     "data": {
      "text/plain": [
       "'übes'"
      ]
     },
     "metadata": {},
     "output_type": "display_data"
    },
    {
     "data": {
      "text/plain": [
       "'öffentlich'"
      ]
     },
     "metadata": {},
     "output_type": "display_data"
    },
    {
     "data": {
      "text/plain": [
       "'beschäfigswesser'"
      ]
     },
     "metadata": {},
     "output_type": "display_data"
    },
    {
     "data": {
      "text/plain": [
       "'awim'"
      ]
     },
     "metadata": {},
     "output_type": "display_data"
    },
    {
     "data": {
      "text/plain": [
       "'mew'"
      ]
     },
     "metadata": {},
     "output_type": "display_data"
    },
    {
     "data": {
      "text/plain": [
       "'ik'"
      ]
     },
     "metadata": {},
     "output_type": "display_data"
    },
    {
     "data": {
      "text/plain": [
       "'sazcapic'"
      ]
     },
     "metadata": {},
     "output_type": "display_data"
    },
    {
     "data": {
      "text/plain": [
       "'programme'"
      ]
     },
     "metadata": {},
     "output_type": "display_data"
    },
    {
     "data": {
      "text/plain": [
       "'enthalte'"
      ]
     },
     "metadata": {},
     "output_type": "display_data"
    },
    {
     "data": {
      "text/plain": [
       "'für'"
      ]
     },
     "metadata": {},
     "output_type": "display_data"
    },
    {
     "data": {
      "text/plain": [
       "'de'"
      ]
     },
     "metadata": {},
     "output_type": "display_data"
    },
    {
     "data": {
      "text/plain": [
       "'gexrat'"
      ]
     },
     "metadata": {},
     "output_type": "display_data"
    },
    {
     "data": {
      "text/plain": [
       "'unterbreitet'"
      ]
     },
     "metadata": {},
     "output_type": "display_data"
    },
    {
     "data": {
      "text/plain": [
       "'ihnen'"
      ]
     },
     "metadata": {},
     "output_type": "display_data"
    },
    {
     "data": {
      "text/plain": [
       "'auso'"
      ]
     },
     "metadata": {},
     "output_type": "display_data"
    },
    {
     "data": {
      "text/plain": [
       "'esxetts'"
      ]
     },
     "metadata": {},
     "output_type": "display_data"
    },
    {
     "data": {
      "text/plain": [
       "'gavicks'"
      ]
     },
     "metadata": {},
     "output_type": "display_data"
    },
    {
     "data": {
      "text/plain": [
       "'pologramm'"
      ]
     },
     "metadata": {},
     "output_type": "display_data"
    },
    {
     "data": {
      "text/plain": [
       "'wo'"
      ]
     },
     "metadata": {},
     "output_type": "display_data"
    },
    {
     "data": {
      "text/plain": [
       "'ouf'"
      ]
     },
     "metadata": {},
     "output_type": "display_data"
    },
    {
     "data": {
      "text/plain": [
       "'die'"
      ]
     },
     "metadata": {},
     "output_type": "display_data"
    },
    {
     "data": {
      "text/plain": [
       "'regierigsprogramm'"
      ]
     },
     "metadata": {},
     "output_type": "display_data"
    },
    {
     "data": {
      "text/plain": [
       "'abstimmlich'"
      ]
     },
     "metadata": {},
     "output_type": "display_data"
    },
    {
     "data": {
      "text/plain": [
       "'wo'"
      ]
     },
     "metadata": {},
     "output_type": "display_data"
    },
    {
     "data": {
      "text/plain": [
       "'devoine'"
      ]
     },
     "metadata": {},
     "output_type": "display_data"
    },
    {
     "data": {
      "text/plain": [
       "'erheblicherwat'"
      ]
     },
     "metadata": {},
     "output_type": "display_data"
    },
    {
     "data": {
      "text/plain": [
       "'der'"
      ]
     },
     "metadata": {},
     "output_type": "display_data"
    },
    {
     "data": {
      "text/plain": [
       "'parlamentarische'"
      ]
     },
     "metadata": {},
     "output_type": "display_data"
    },
    {
     "data": {
      "text/plain": [
       "'vorstoß'"
      ]
     },
     "metadata": {},
     "output_type": "display_data"
    },
    {
     "data": {
      "text/plain": [
       "'umsetzt'"
      ]
     },
     "metadata": {},
     "output_type": "display_data"
    },
    {
     "data": {
      "text/plain": [
       "'vogeziert'"
      ]
     },
     "metadata": {},
     "output_type": "display_data"
    },
    {
     "data": {
      "text/plain": [
       "'die'"
      ]
     },
     "metadata": {},
     "output_type": "display_data"
    },
    {
     "data": {
      "text/plain": [
       "'anwrige'"
      ]
     },
     "metadata": {},
     "output_type": "display_data"
    },
    {
     "data": {
      "text/plain": [
       "'mit'"
      ]
     },
     "metadata": {},
     "output_type": "display_data"
    },
    {
     "data": {
      "text/plain": [
       "'augamaß'"
      ]
     },
     "metadata": {},
     "output_type": "display_data"
    },
    {
     "data": {
      "text/plain": [
       "'forgsät'"
      ]
     },
     "metadata": {},
     "output_type": "display_data"
    },
    {
     "data": {
      "text/plain": [
       "'und'"
      ]
     },
     "metadata": {},
     "output_type": "display_data"
    },
    {
     "data": {
      "text/plain": [
       "'die'"
      ]
     },
     "metadata": {},
     "output_type": "display_data"
    },
    {
     "data": {
      "text/plain": [
       "'zur'"
      ]
     },
     "metadata": {},
     "output_type": "display_data"
    },
    {
     "data": {
      "text/plain": [
       "'überregonal'"
      ]
     },
     "metadata": {},
     "output_type": "display_data"
    },
    {
     "data": {
      "text/plain": [
       "'regulärig'"
      ]
     },
     "metadata": {},
     "output_type": "display_data"
    },
    {
     "data": {
      "text/plain": [
       "'beatrit'"
      ]
     },
     "metadata": {},
     "output_type": "display_data"
    },
    {
     "data": {
      "text/plain": [
       "'und'"
      ]
     },
     "metadata": {},
     "output_type": "display_data"
    },
    {
     "data": {
      "text/plain": [
       "'wurfer'"
      ]
     },
     "metadata": {},
     "output_type": "display_data"
    },
    {
     "data": {
      "text/plain": [
       "'besserigepring'"
      ]
     },
     "metadata": {},
     "output_type": "display_data"
    },
    {
     "data": {
      "text/plain": [
       "'für'"
      ]
     },
     "metadata": {},
     "output_type": "display_data"
    },
    {
     "data": {
      "text/plain": [
       "'bevölkericg'"
      ]
     },
     "metadata": {},
     "output_type": "display_data"
    },
    {
     "data": {
      "text/plain": [
       "'gemeinde'"
      ]
     },
     "metadata": {},
     "output_type": "display_data"
    },
    {
     "data": {
      "text/plain": [
       "'und'"
      ]
     },
     "metadata": {},
     "output_type": "display_data"
    },
    {
     "data": {
      "text/plain": [
       "'verschieden'"
      ]
     },
     "metadata": {},
     "output_type": "display_data"
    },
    {
     "data": {
      "text/plain": [
       "'die'"
      ]
     },
     "metadata": {},
     "output_type": "display_data"
    },
    {
     "data": {
      "text/plain": [
       "'ausspruchsgruppe'"
      ]
     },
     "metadata": {},
     "output_type": "display_data"
    },
    {
     "data": {
      "text/plain": [
       "'im'"
      ]
     },
     "metadata": {},
     "output_type": "display_data"
    },
    {
     "data": {
      "text/plain": [
       "'kanton'"
      ]
     },
     "metadata": {},
     "output_type": "display_data"
    },
    {
     "data": {
      "text/plain": [
       "'der'"
      ]
     },
     "metadata": {},
     "output_type": "display_data"
    },
    {
     "data": {
      "text/plain": [
       "'egiergsrad'"
      ]
     },
     "metadata": {},
     "output_type": "display_data"
    },
    {
     "data": {
      "text/plain": [
       "'beatra'"
      ]
     },
     "metadata": {},
     "output_type": "display_data"
    },
    {
     "data": {
      "text/plain": [
       "'denedademit'"
      ]
     },
     "metadata": {},
     "output_type": "display_data"
    },
    {
     "data": {
      "text/plain": [
       "'xetzkamix'"
      ]
     },
     "metadata": {},
     "output_type": "display_data"
    },
    {
     "data": {
      "text/plain": [
       "'programm'"
      ]
     },
     "metadata": {},
     "output_type": "display_data"
    },
    {
     "data": {
      "text/plain": [
       "'zwangsg'"
      ]
     },
     "metadata": {},
     "output_type": "display_data"
    },
    {
     "data": {
      "text/plain": [
       "'einudzwanzig'"
      ]
     },
     "metadata": {},
     "output_type": "display_data"
    },
    {
     "data": {
      "text/plain": [
       "'bis'"
      ]
     },
     "metadata": {},
     "output_type": "display_data"
    },
    {
     "data": {
      "text/plain": [
       "'zweizwanziggknemiger'"
      ]
     },
     "metadata": {},
     "output_type": "display_data"
    },
    {
     "data": {
      "text/plain": [
       "'bishedonc'"
      ]
     },
     "metadata": {},
     "output_type": "display_data"
    },
    {
     "data": {
      "text/plain": [
       "'es'"
      ]
     },
     "metadata": {},
     "output_type": "display_data"
    },
    {
     "data": {
      "text/plain": [
       "'wurde'"
      ]
     },
     "metadata": {},
     "output_type": "display_data"
    },
    {
     "data": {
      "text/plain": [
       "'frie'"
      ]
     },
     "metadata": {},
     "output_type": "display_data"
    },
    {
     "data": {
      "text/plain": [
       "'vel'"
      ]
     },
     "metadata": {},
     "output_type": "display_data"
    },
    {
     "data": {
      "text/plain": [
       "'fraktionssprechendeherr'"
      ]
     },
     "metadata": {},
     "output_type": "display_data"
    },
    {
     "data": {
      "text/plain": [
       "'präsident'"
      ]
     },
     "metadata": {},
     "output_type": "display_data"
    },
    {
     "data": {
      "text/plain": [
       "'klätz'"
      ]
     },
     "metadata": {},
     "output_type": "display_data"
    },
    {
     "data": {
      "text/plain": [
       "'die'"
      ]
     },
     "metadata": {},
     "output_type": "display_data"
    },
    {
     "data": {
      "text/plain": [
       "'damen'"
      ]
     },
     "metadata": {},
     "output_type": "display_data"
    },
    {
     "data": {
      "text/plain": [
       "'und'"
      ]
     },
     "metadata": {},
     "output_type": "display_data"
    },
    {
     "data": {
      "text/plain": [
       "'herre'"
      ]
     },
     "metadata": {},
     "output_type": "display_data"
    },
    {
     "data": {
      "text/plain": [
       "'willegiische'"
      ]
     },
     "metadata": {},
     "output_type": "display_data"
    },
    {
     "data": {
      "text/plain": [
       "'voreem'"
      ]
     },
     "metadata": {},
     "output_type": "display_data"
    },
    {
     "data": {
      "text/plain": [
       "'stalde'"
      ]
     },
     "metadata": {},
     "output_type": "display_data"
    },
    {
     "data": {
      "text/plain": [
       "'für'"
      ]
     },
     "metadata": {},
     "output_type": "display_data"
    },
    {
     "data": {
      "text/plain": [
       "'dessp'"
      ]
     },
     "metadata": {},
     "output_type": "display_data"
    },
    {
     "data": {
      "text/plain": [
       "'fraktion'"
      ]
     },
     "metadata": {},
     "output_type": "display_data"
    },
    {
     "data": {
      "text/plain": [
       "'swolegend'"
      ]
     },
     "metadata": {},
     "output_type": "display_data"
    },
    {
     "data": {
      "text/plain": [
       "'glaytese'"
      ]
     },
     "metadata": {},
     "output_type": "display_data"
    },
    {
     "data": {
      "text/plain": [
       "'gabix'"
      ]
     },
     "metadata": {},
     "output_type": "display_data"
    },
    {
     "data": {
      "text/plain": [
       "'graumn'"
      ]
     },
     "metadata": {},
     "output_type": "display_data"
    },
    {
     "data": {
      "text/plain": [
       "'wurde'"
      ]
     },
     "metadata": {},
     "output_type": "display_data"
    },
    {
     "data": {
      "text/plain": [
       "'die'"
      ]
     },
     "metadata": {},
     "output_type": "display_data"
    },
    {
     "data": {
      "text/plain": [
       "'geerig'"
      ]
     },
     "metadata": {},
     "output_type": "display_data"
    },
    {
     "data": {
      "text/plain": [
       "'ihstevorbla'"
      ]
     },
     "metadata": {},
     "output_type": "display_data"
    },
    {
     "data": {
      "text/plain": [
       "'und'"
      ]
     },
     "metadata": {},
     "output_type": "display_data"
    },
    {
     "data": {
      "text/plain": [
       "'für'"
      ]
     },
     "metadata": {},
     "output_type": "display_data"
    },
    {
     "data": {
      "text/plain": [
       "'diora'"
      ]
     },
     "metadata": {},
     "output_type": "display_data"
    },
    {
     "data": {
      "text/plain": [
       "'eine'"
      ]
     },
     "metadata": {},
     "output_type": "display_data"
    },
    {
     "data": {
      "text/plain": [
       "'zwain'"
      ]
     },
     "metadata": {},
     "output_type": "display_data"
    },
    {
     "data": {
      "text/plain": [
       "'scree'"
      ]
     },
     "metadata": {},
     "output_type": "display_data"
    },
    {
     "data": {
      "text/plain": [
       "'war'"
      ]
     },
     "metadata": {},
     "output_type": "display_data"
    },
    {
     "data": {
      "text/plain": [
       "'ane'"
      ]
     },
     "metadata": {},
     "output_type": "display_data"
    },
    {
     "data": {
      "text/plain": [
       "'scros'"
      ]
     },
     "metadata": {},
     "output_type": "display_data"
    },
    {
     "data": {
      "text/plain": [
       "'of'"
      ]
     },
     "metadata": {},
     "output_type": "display_data"
    },
    {
     "data": {
      "text/plain": [
       "'countanovi'"
      ]
     },
     "metadata": {},
     "output_type": "display_data"
    },
    {
     "data": {
      "text/plain": [
       "'sdu'"
      ]
     },
     "metadata": {},
     "output_type": "display_data"
    },
    {
     "data": {
      "text/plain": [
       "'vor'"
      ]
     },
     "metadata": {},
     "output_type": "display_data"
    },
    {
     "data": {
      "text/plain": [
       "'catesbraun'"
      ]
     },
     "metadata": {},
     "output_type": "display_data"
    },
    {
     "data": {
      "text/plain": [
       "'dichtum'"
      ]
     },
     "metadata": {},
     "output_type": "display_data"
    },
    {
     "data": {
      "text/plain": [
       "'behandler'"
      ]
     },
     "metadata": {},
     "output_type": "display_data"
    },
    {
     "data": {
      "text/plain": [
       "'wo'"
      ]
     },
     "metadata": {},
     "output_type": "display_data"
    },
    {
     "data": {
      "text/plain": [
       "'oder'"
      ]
     },
     "metadata": {},
     "output_type": "display_data"
    },
    {
     "data": {
      "text/plain": [
       "'wag'"
      ]
     },
     "metadata": {},
     "output_type": "display_data"
    },
    {
     "data": {
      "text/plain": [
       "'die'"
      ]
     },
     "metadata": {},
     "output_type": "display_data"
    },
    {
     "data": {
      "text/plain": [
       "'vorlag'"
      ]
     },
     "metadata": {},
     "output_type": "display_data"
    },
    {
     "data": {
      "text/plain": [
       "'frohch'"
      ]
     },
     "metadata": {},
     "output_type": "display_data"
    },
    {
     "data": {
      "text/plain": [
       "'ach'"
      ]
     },
     "metadata": {},
     "output_type": "display_data"
    },
    {
     "data": {
      "text/plain": [
       "'gna'"
      ]
     },
     "metadata": {},
     "output_type": "display_data"
    },
    {
     "data": {
      "text/plain": [
       "'spricht'"
      ]
     },
     "metadata": {},
     "output_type": "display_data"
    },
    {
     "data": {
      "text/plain": [
       "'keine'"
      ]
     },
     "metadata": {},
     "output_type": "display_data"
    },
    {
     "data": {
      "text/plain": [
       "'unmittelbare'"
      ]
     },
     "metadata": {},
     "output_type": "display_data"
    },
    {
     "data": {
      "text/plain": [
       "'hoschte'"
      ]
     },
     "metadata": {},
     "output_type": "display_data"
    },
    {
     "data": {
      "text/plain": [
       "'dass'"
      ]
     },
     "metadata": {},
     "output_type": "display_data"
    },
    {
     "data": {
      "text/plain": [
       "'launie'"
      ]
     },
     "metadata": {},
     "output_type": "display_data"
    },
    {
     "data": {
      "text/plain": [
       "'cher'"
      ]
     },
     "metadata": {},
     "output_type": "display_data"
    },
    {
     "data": {
      "text/plain": [
       "'mit'"
      ]
     },
     "metadata": {},
     "output_type": "display_data"
    },
    {
     "data": {
      "text/plain": [
       "'er'"
      ]
     },
     "metadata": {},
     "output_type": "display_data"
    },
    {
     "data": {
      "text/plain": [
       "'fraukezeicher'"
      ]
     },
     "metadata": {},
     "output_type": "display_data"
    },
    {
     "data": {
      "text/plain": [
       "'unkommentiert'"
      ]
     },
     "metadata": {},
     "output_type": "display_data"
    },
    {
     "data": {
      "text/plain": [
       "'starr'"
      ]
     },
     "metadata": {},
     "output_type": "display_data"
    },
    {
     "data": {
      "text/plain": [
       "'rückblick'"
      ]
     },
     "metadata": {},
     "output_type": "display_data"
    },
    {
     "data": {
      "text/plain": [
       "'wenn'"
      ]
     },
     "metadata": {},
     "output_type": "display_data"
    },
    {
     "data": {
      "text/plain": [
       "'magmas'"
      ]
     },
     "metadata": {},
     "output_type": "display_data"
    },
    {
     "data": {
      "text/plain": [
       "'spricht'"
      ]
     },
     "metadata": {},
     "output_type": "display_data"
    },
    {
     "data": {
      "text/plain": [
       "'dropolgt'"
      ]
     },
     "metadata": {},
     "output_type": "display_data"
    },
    {
     "data": {
      "text/plain": [
       "'sehnen'"
      ]
     },
     "metadata": {},
     "output_type": "display_data"
    },
    {
     "data": {
      "text/plain": [
       "'das'"
      ]
     },
     "metadata": {},
     "output_type": "display_data"
    },
    {
     "data": {
      "text/plain": [
       "'pacetses'"
      ]
     },
     "metadata": {},
     "output_type": "display_data"
    },
    {
     "data": {
      "text/plain": [
       "'vorlager'"
      ]
     },
     "metadata": {},
     "output_type": "display_data"
    },
    {
     "data": {
      "text/plain": [
       "'nunicga'"
      ]
     },
     "metadata": {},
     "output_type": "display_data"
    },
    {
     "data": {
      "text/plain": [
       "'un'"
      ]
     },
     "metadata": {},
     "output_type": "display_data"
    },
    {
     "data": {
      "text/plain": [
       "'saubchlose'"
      ]
     },
     "metadata": {},
     "output_type": "display_data"
    },
    {
     "data": {
      "text/plain": [
       "'buoutoro'"
      ]
     },
     "metadata": {},
     "output_type": "display_data"
    },
    {
     "data": {
      "text/plain": [
       "'blanche'"
      ]
     },
     "metadata": {},
     "output_type": "display_data"
    },
    {
     "data": {
      "text/plain": [
       "'sin'"
      ]
     },
     "metadata": {},
     "output_type": "display_data"
    },
    {
     "data": {
      "text/plain": [
       "'und'"
      ]
     },
     "metadata": {},
     "output_type": "display_data"
    },
    {
     "data": {
      "text/plain": [
       "'schwellnrön'"
      ]
     },
     "metadata": {},
     "output_type": "display_data"
    },
    {
     "data": {
      "text/plain": [
       "'daimmr'"
      ]
     },
     "metadata": {},
     "output_type": "display_data"
    },
    {
     "data": {
      "text/plain": [
       "'da'"
      ]
     },
     "metadata": {},
     "output_type": "display_data"
    },
    {
     "data": {
      "text/plain": [
       "'schreie'"
      ]
     },
     "metadata": {},
     "output_type": "display_data"
    },
    {
     "data": {
      "text/plain": [
       "'positiv'"
      ]
     },
     "metadata": {},
     "output_type": "display_data"
    },
    {
     "data": {
      "text/plain": [
       "'oder'"
      ]
     },
     "metadata": {},
     "output_type": "display_data"
    },
    {
     "data": {
      "text/plain": [
       "'negativ'"
      ]
     },
     "metadata": {},
     "output_type": "display_data"
    },
    {
     "data": {
      "text/plain": [
       "'beurdahler'"
      ]
     },
     "metadata": {},
     "output_type": "display_data"
    },
    {
     "data": {
      "text/plain": [
       "'obru'"
      ]
     },
     "metadata": {},
     "output_type": "display_data"
    },
    {
     "data": {
      "text/plain": [
       "'sere'"
      ]
     },
     "metadata": {},
     "output_type": "display_data"
    },
    {
     "data": {
      "text/plain": [
       "'pumbrija'"
      ]
     },
     "metadata": {},
     "output_type": "display_data"
    },
    {
     "data": {
      "text/plain": [
       "'nac'"
      ]
     },
     "metadata": {},
     "output_type": "display_data"
    },
    {
     "data": {
      "text/plain": [
       "'talanka'"
      ]
     },
     "metadata": {},
     "output_type": "display_data"
    },
    {
     "data": {
      "text/plain": [
       "'jediscrats'"
      ]
     },
     "metadata": {},
     "output_type": "display_data"
    },
    {
     "data": {
      "text/plain": [
       "'wennige'"
      ]
     },
     "metadata": {},
     "output_type": "display_data"
    },
    {
     "data": {
      "text/plain": [
       "'rabanauus'"
      ]
     },
     "metadata": {},
     "output_type": "display_data"
    },
    {
     "data": {
      "text/plain": [
       "'goostrig'"
      ]
     },
     "metadata": {},
     "output_type": "display_data"
    },
    {
     "data": {
      "text/plain": [
       "'brusebrick'"
      ]
     },
     "metadata": {},
     "output_type": "display_data"
    },
    {
     "data": {
      "text/plain": [
       "'gmasbricht'"
      ]
     },
     "metadata": {},
     "output_type": "display_data"
    },
    {
     "data": {
      "text/plain": [
       "'geht'"
      ]
     },
     "metadata": {},
     "output_type": "display_data"
    },
    {
     "data": {
      "text/plain": [
       "'sie'"
      ]
     },
     "metadata": {},
     "output_type": "display_data"
    },
    {
     "data": {
      "text/plain": [
       "'derhör'"
      ]
     },
     "metadata": {},
     "output_type": "display_data"
    },
    {
     "data": {
      "text/plain": [
       "'stet'"
      ]
     },
     "metadata": {},
     "output_type": "display_data"
    },
    {
     "data": {
      "text/plain": [
       "'daeinige'"
      ]
     },
     "metadata": {},
     "output_type": "display_data"
    },
    {
     "data": {
      "text/plain": [
       "'inter'"
      ]
     },
     "metadata": {},
     "output_type": "display_data"
    },
    {
     "data": {
      "text/plain": [
       "'scounti'"
      ]
     },
     "metadata": {},
     "output_type": "display_data"
    },
    {
     "data": {
      "text/plain": [
       "'cuaation'"
      ]
     },
     "metadata": {},
     "output_type": "display_data"
    },
    {
     "data": {
      "text/plain": [
       "'berhondermögte'"
      ]
     },
     "metadata": {},
     "output_type": "display_data"
    },
    {
     "data": {
      "text/plain": [
       "'sporreni'"
      ]
     },
     "metadata": {},
     "output_type": "display_data"
    },
    {
     "data": {
      "text/plain": [
       "'cait'"
      ]
     },
     "metadata": {},
     "output_type": "display_data"
    },
    {
     "data": {
      "text/plain": [
       "'shucegby'"
      ]
     },
     "metadata": {},
     "output_type": "display_data"
    },
    {
     "data": {
      "text/plain": [
       "'von'"
      ]
     },
     "metadata": {},
     "output_type": "display_data"
    },
    {
     "data": {
      "text/plain": [
       "'und'"
      ]
     },
     "metadata": {},
     "output_type": "display_data"
    },
    {
     "data": {
      "text/plain": [
       "'ploomde'"
      ]
     },
     "metadata": {},
     "output_type": "display_data"
    },
    {
     "data": {
      "text/plain": [
       "'shavane'"
      ]
     },
     "metadata": {},
     "output_type": "display_data"
    },
    {
     "data": {
      "text/plain": [
       "'verstehen'"
      ]
     },
     "metadata": {},
     "output_type": "display_data"
    },
    {
     "data": {
      "text/plain": [
       "'dim'"
      ]
     },
     "metadata": {},
     "output_type": "display_data"
    },
    {
     "data": {
      "text/plain": [
       "'zweite'"
      ]
     },
     "metadata": {},
     "output_type": "display_data"
    },
    {
     "data": {
      "text/plain": [
       "'quorta'"
      ]
     },
     "metadata": {},
     "output_type": "display_data"
    },
    {
     "data": {
      "text/plain": [
       "'hofcörth'"
      ]
     },
     "metadata": {},
     "output_type": "display_data"
    },
    {
     "data": {
      "text/plain": [
       "'smitsholek'"
      ]
     },
     "metadata": {},
     "output_type": "display_data"
    },
    {
     "data": {
      "text/plain": [
       "'sadz'"
      ]
     },
     "metadata": {},
     "output_type": "display_data"
    },
    {
     "data": {
      "text/plain": [
       "'sterotisc'"
      ]
     },
     "metadata": {},
     "output_type": "display_data"
    },
    {
     "data": {
      "text/plain": [
       "'sded'"
      ]
     },
     "metadata": {},
     "output_type": "display_data"
    },
    {
     "data": {
      "text/plain": [
       "'tszeche'"
      ]
     },
     "metadata": {},
     "output_type": "display_data"
    },
    {
     "data": {
      "text/plain": [
       "'camalie'"
      ]
     },
     "metadata": {},
     "output_type": "display_data"
    },
    {
     "data": {
      "text/plain": [
       "'gecrond'"
      ]
     },
     "metadata": {},
     "output_type": "display_data"
    },
    {
     "data": {
      "text/plain": [
       "'teregiono'"
      ]
     },
     "metadata": {},
     "output_type": "display_data"
    },
    {
     "data": {
      "text/plain": [
       "'mingevol'"
      ]
     },
     "metadata": {},
     "output_type": "display_data"
    },
    {
     "data": {
      "text/plain": [
       "'und'"
      ]
     },
     "metadata": {},
     "output_type": "display_data"
    },
    {
     "data": {
      "text/plain": [
       "'po'"
      ]
     },
     "metadata": {},
     "output_type": "display_data"
    },
    {
     "data": {
      "text/plain": [
       "'college'"
      ]
     },
     "metadata": {},
     "output_type": "display_data"
    },
    {
     "data": {
      "text/plain": [
       "'shwees'"
      ]
     },
     "metadata": {},
     "output_type": "display_data"
    },
    {
     "data": {
      "text/plain": [
       "'o'"
      ]
     },
     "metadata": {},
     "output_type": "display_data"
    },
    {
     "data": {
      "text/plain": [
       "'der'"
      ]
     },
     "metadata": {},
     "output_type": "display_data"
    },
    {
     "data": {
      "text/plain": [
       "'perconal'"
      ]
     },
     "metadata": {},
     "output_type": "display_data"
    },
    {
     "data": {
      "text/plain": [
       "'coltic'"
      ]
     },
     "metadata": {},
     "output_type": "display_data"
    },
    {
     "data": {
      "text/plain": [
       "'state'"
      ]
     },
     "metadata": {},
     "output_type": "display_data"
    },
    {
     "data": {
      "text/plain": [
       "'sur'"
      ]
     },
     "metadata": {},
     "output_type": "display_data"
    },
    {
     "data": {
      "text/plain": [
       "'der'"
      ]
     },
     "metadata": {},
     "output_type": "display_data"
    },
    {
     "data": {
      "text/plain": [
       "'schule'"
      ]
     },
     "metadata": {},
     "output_type": "display_data"
    },
    {
     "data": {
      "text/plain": [
       "'stihwort'"
      ]
     },
     "metadata": {},
     "output_type": "display_data"
    },
    {
     "data": {
      "text/plain": [
       "'licherlohn'"
      ]
     },
     "metadata": {},
     "output_type": "display_data"
    },
    {
     "data": {
      "text/plain": [
       "'frhindergarder'"
      ]
     },
     "metadata": {},
     "output_type": "display_data"
    },
    {
     "data": {
      "text/plain": [
       "'lehrer'"
      ]
     },
     "metadata": {},
     "output_type": "display_data"
    },
    {
     "data": {
      "text/plain": [
       "'und'"
      ]
     },
     "metadata": {},
     "output_type": "display_data"
    },
    {
     "data": {
      "text/plain": [
       "'primarchual'"
      ]
     },
     "metadata": {},
     "output_type": "display_data"
    },
    {
     "data": {
      "text/plain": [
       "'lehrer'"
      ]
     },
     "metadata": {},
     "output_type": "display_data"
    },
    {
     "data": {
      "text/plain": [
       "'konkret'"
      ]
     },
     "metadata": {},
     "output_type": "display_data"
    },
    {
     "data": {
      "text/plain": [
       "'gautch'"
      ]
     },
     "metadata": {},
     "output_type": "display_data"
    },
    {
     "data": {
      "text/plain": [
       "'omarlon'"
      ]
     },
     "metadata": {},
     "output_type": "display_data"
    },
    {
     "data": {
      "text/plain": [
       "'ahebig'"
      ]
     },
     "metadata": {},
     "output_type": "display_data"
    },
    {
     "data": {
      "text/plain": [
       "'phontrinde'"
      ]
     },
     "metadata": {},
     "output_type": "display_data"
    },
    {
     "data": {
      "text/plain": [
       "'gartal'"
      ]
     },
     "metadata": {},
     "output_type": "display_data"
    },
    {
     "data": {
      "text/plain": [
       "'beone'"
      ]
     },
     "metadata": {},
     "output_type": "display_data"
    },
    {
     "data": {
      "text/plain": [
       "'im'"
      ]
     },
     "metadata": {},
     "output_type": "display_data"
    },
    {
     "data": {
      "text/plain": [
       "'vier'"
      ]
     },
     "metadata": {},
     "output_type": "display_data"
    },
    {
     "data": {
      "text/plain": [
       "'te'"
      ]
     },
     "metadata": {},
     "output_type": "display_data"
    },
    {
     "data": {
      "text/plain": [
       "'korthalische'"
      ]
     },
     "metadata": {},
     "output_type": "display_data"
    },
    {
     "data": {
      "text/plain": [
       "'untraundrumstansbraundsceiethschuf'"
      ]
     },
     "metadata": {},
     "output_type": "display_data"
    },
    {
     "data": {
      "text/plain": [
       "'der'"
      ]
     },
     "metadata": {},
     "output_type": "display_data"
    },
    {
     "data": {
      "text/plain": [
       "'dageseonik'"
      ]
     },
     "metadata": {},
     "output_type": "display_data"
    },
    {
     "data": {
      "text/plain": [
       "'tawards'"
      ]
     },
     "metadata": {},
     "output_type": "display_data"
    },
    {
     "data": {
      "text/plain": [
       "'und'"
      ]
     },
     "metadata": {},
     "output_type": "display_data"
    },
    {
     "data": {
      "text/plain": [
       "'die'"
      ]
     },
     "metadata": {},
     "output_type": "display_data"
    },
    {
     "data": {
      "text/plain": [
       "'anonyme'"
      ]
     },
     "metadata": {},
     "output_type": "display_data"
    },
    {
     "data": {
      "text/plain": [
       "'sparnendar'"
      ]
     },
     "metadata": {},
     "output_type": "display_data"
    },
    {
     "data": {
      "text/plain": [
       "'polytek'"
      ]
     },
     "metadata": {},
     "output_type": "display_data"
    },
    {
     "data": {
      "text/plain": [
       "'und'"
      ]
     },
     "metadata": {},
     "output_type": "display_data"
    },
    {
     "data": {
      "text/plain": [
       "'portillar'"
      ]
     },
     "metadata": {},
     "output_type": "display_data"
    },
    {
     "data": {
      "text/plain": [
       "'swarted'"
      ]
     },
     "metadata": {},
     "output_type": "display_data"
    },
    {
     "data": {
      "text/plain": [
       "'alcenovelicontrovasy'"
      ]
     },
     "metadata": {},
     "output_type": "display_data"
    },
    {
     "data": {
      "text/plain": [
       "'daemann'"
      ]
     },
     "metadata": {},
     "output_type": "display_data"
    },
    {
     "data": {
      "text/plain": [
       "'huhys'"
      ]
     },
     "metadata": {},
     "output_type": "display_data"
    },
    {
     "data": {
      "text/plain": [
       "'und'"
      ]
     },
     "metadata": {},
     "output_type": "display_data"
    },
    {
     "data": {
      "text/plain": [
       "'durch'"
      ]
     },
     "metadata": {},
     "output_type": "display_data"
    },
    {
     "data": {
      "text/plain": [
       "'indenomangi'"
      ]
     },
     "metadata": {},
     "output_type": "display_data"
    },
    {
     "data": {
      "text/plain": [
       "'diskussiondezu'"
      ]
     },
     "metadata": {},
     "output_type": "display_data"
    },
    {
     "data": {
      "text/plain": [
       "'langerede'"
      ]
     },
     "metadata": {},
     "output_type": "display_data"
    },
    {
     "data": {
      "text/plain": [
       "'kurzes'"
      ]
     },
     "metadata": {},
     "output_type": "display_data"
    },
    {
     "data": {
      "text/plain": [
       "'forzit'"
      ]
     },
     "metadata": {},
     "output_type": "display_data"
    },
    {
     "data": {
      "text/plain": [
       "'der'"
      ]
     },
     "metadata": {},
     "output_type": "display_data"
    },
    {
     "data": {
      "text/plain": [
       "'swapeif'"
      ]
     },
     "metadata": {},
     "output_type": "display_data"
    },
    {
     "data": {
      "text/plain": [
       "'fraktion'"
      ]
     },
     "metadata": {},
     "output_type": "display_data"
    },
    {
     "data": {
      "text/plain": [
       "'nimt'"
      ]
     },
     "metadata": {},
     "output_type": "display_data"
    },
    {
     "data": {
      "text/plain": [
       "'das'"
      ]
     },
     "metadata": {},
     "output_type": "display_data"
    },
    {
     "data": {
      "text/plain": [
       "'vorlegend'"
      ]
     },
     "metadata": {},
     "output_type": "display_data"
    },
    {
     "data": {
      "text/plain": [
       "'chagegarbix'"
      ]
     },
     "metadata": {},
     "output_type": "display_data"
    },
    {
     "data": {
      "text/plain": [
       "'programm'"
      ]
     },
     "metadata": {},
     "output_type": "display_data"
    },
    {
     "data": {
      "text/plain": [
       "'zur'"
      ]
     },
     "metadata": {},
     "output_type": "display_data"
    },
    {
     "data": {
      "text/plain": [
       "'karmnis'"
      ]
     },
     "metadata": {},
     "output_type": "display_data"
    },
    {
     "data": {
      "text/plain": [
       "'und'"
      ]
     },
     "metadata": {},
     "output_type": "display_data"
    },
    {
     "data": {
      "text/plain": [
       "'wird'"
      ]
     },
     "metadata": {},
     "output_type": "display_data"
    },
    {
     "data": {
      "text/plain": [
       "'den'"
      ]
     },
     "metadata": {},
     "output_type": "display_data"
    },
    {
     "data": {
      "text/plain": [
       "'so'"
      ]
     },
     "metadata": {},
     "output_type": "display_data"
    },
    {
     "data": {
      "text/plain": [
       "'stim'"
      ]
     },
     "metadata": {},
     "output_type": "display_data"
    },
    {
     "data": {
      "text/plain": [
       "'donk'"
      ]
     },
     "metadata": {},
     "output_type": "display_data"
    },
    {
     "data": {
      "text/plain": [
       "'rehne'"
      ]
     },
     "metadata": {},
     "output_type": "display_data"
    },
    {
     "data": {
      "text/plain": [
       "'für'"
      ]
     },
     "metadata": {},
     "output_type": "display_data"
    },
    {
     "data": {
      "text/plain": [
       "'duchmerksamkeit'"
      ]
     },
     "metadata": {},
     "output_type": "display_data"
    },
    {
     "data": {
      "text/plain": [
       "'wurdedu'"
      ]
     },
     "metadata": {},
     "output_type": "display_data"
    },
    {
     "data": {
      "text/plain": [
       "'fürdievheriet'"
      ]
     },
     "metadata": {},
     "output_type": "display_data"
    },
    {
     "data": {
      "text/plain": [
       "'e'"
      ]
     },
     "metadata": {},
     "output_type": "display_data"
    },
    {
     "data": {
      "text/plain": [
       "'ferauktionssprachendealrets'"
      ]
     },
     "metadata": {},
     "output_type": "display_data"
    },
    {
     "data": {
      "text/plain": [
       "'fre'"
      ]
     },
     "metadata": {},
     "output_type": "display_data"
    },
    {
     "data": {
      "text/plain": [
       "'präsident'"
      ]
     },
     "metadata": {},
     "output_type": "display_data"
    },
    {
     "data": {
      "text/plain": [
       "'hätz'"
      ]
     },
     "metadata": {},
     "output_type": "display_data"
    },
    {
     "data": {
      "text/plain": [
       "'e'"
      ]
     },
     "metadata": {},
     "output_type": "display_data"
    },
    {
     "data": {
      "text/plain": [
       "'kolleginnen'"
      ]
     },
     "metadata": {},
     "output_type": "display_data"
    },
    {
     "data": {
      "text/plain": [
       "'und'"
      ]
     },
     "metadata": {},
     "output_type": "display_data"
    },
    {
     "data": {
      "text/plain": [
       "'kollege'"
      ]
     },
     "metadata": {},
     "output_type": "display_data"
    },
    {
     "data": {
      "text/plain": [
       "'au'"
      ]
     },
     "metadata": {},
     "output_type": "display_data"
    },
    {
     "data": {
      "text/plain": [
       "'gelpewirt'"
      ]
     },
     "metadata": {},
     "output_type": "display_data"
    },
    {
     "data": {
      "text/plain": [
       "'dem'"
      ]
     },
     "metadata": {},
     "output_type": "display_data"
    },
    {
     "data": {
      "text/plain": [
       "'gsetzgeltprogramm'"
      ]
     },
     "metadata": {},
     "output_type": "display_data"
    },
    {
     "data": {
      "text/plain": [
       "'zustimmen'"
      ]
     },
     "metadata": {},
     "output_type": "display_data"
    },
    {
     "data": {
      "text/plain": [
       "'ich'"
      ]
     },
     "metadata": {},
     "output_type": "display_data"
    },
    {
     "data": {
      "text/plain": [
       "'an'"
      ]
     },
     "metadata": {},
     "output_type": "display_data"
    },
    {
     "data": {
      "text/plain": [
       "'aber'"
      ]
     },
     "metadata": {},
     "output_type": "display_data"
    },
    {
     "data": {
      "text/plain": [
       "'zwei'"
      ]
     },
     "metadata": {},
     "output_type": "display_data"
    },
    {
     "data": {
      "text/plain": [
       "'bemerkririste'"
      ]
     },
     "metadata": {},
     "output_type": "display_data"
    },
    {
     "data": {
      "text/plain": [
       "'betrifft'"
      ]
     },
     "metadata": {},
     "output_type": "display_data"
    },
    {
     "data": {
      "text/plain": [
       "'transparancsets'"
      ]
     },
     "metadata": {},
     "output_type": "display_data"
    },
    {
     "data": {
      "text/plain": [
       "'das'"
      ]
     },
     "metadata": {},
     "output_type": "display_data"
    },
    {
     "data": {
      "text/plain": [
       "'sie'"
      ]
     },
     "metadata": {},
     "output_type": "display_data"
    },
    {
     "data": {
      "text/plain": [
       "'mehr'"
      ]
     },
     "metadata": {},
     "output_type": "display_data"
    },
    {
     "data": {
      "text/plain": [
       "'erstuhnt'"
      ]
     },
     "metadata": {},
     "output_type": "display_data"
    },
    {
     "data": {
      "text/plain": [
       "'dass'"
      ]
     },
     "metadata": {},
     "output_type": "display_data"
    },
    {
     "data": {
      "text/plain": [
       "'das'"
      ]
     },
     "metadata": {},
     "output_type": "display_data"
    },
    {
     "data": {
      "text/plain": [
       "'seizeers'"
      ]
     },
     "metadata": {},
     "output_type": "display_data"
    },
    {
     "data": {
      "text/plain": [
       "'verlethzte'"
      ]
     },
     "metadata": {},
     "output_type": "display_data"
    },
    {
     "data": {
      "text/plain": [
       "'quortal'"
      ]
     },
     "metadata": {},
     "output_type": "display_data"
    },
    {
     "data": {
      "text/plain": [
       "'vor'"
      ]
     },
     "metadata": {},
     "output_type": "display_data"
    },
    {
     "data": {
      "text/plain": [
       "'dem'"
      ]
     },
     "metadata": {},
     "output_type": "display_data"
    },
    {
     "data": {
      "text/plain": [
       "'jahrersehr'"
      ]
     },
     "metadata": {},
     "output_type": "display_data"
    },
    {
     "data": {
      "text/plain": [
       "'behandelt'"
      ]
     },
     "metadata": {},
     "output_type": "display_data"
    },
    {
     "data": {
      "text/plain": [
       "'werde'"
      ]
     },
     "metadata": {},
     "output_type": "display_data"
    },
    {
     "data": {
      "text/plain": [
       "'als'"
      ]
     },
     "metadata": {},
     "output_type": "display_data"
    },
    {
     "data": {
      "text/plain": [
       "'gelt'"
      ]
     },
     "metadata": {},
     "output_type": "display_data"
    },
    {
     "data": {
      "text/plain": [
       "'je'"
      ]
     },
     "metadata": {},
     "output_type": "display_data"
    },
    {
     "data": {
      "text/plain": [
       "'immeri'"
      ]
     },
     "metadata": {},
     "output_type": "display_data"
    },
    {
     "data": {
      "text/plain": [
       "'inen'"
      ]
     },
     "metadata": {},
     "output_type": "display_data"
    },
    {
     "data": {
      "text/plain": [
       "'volksentscheid'"
      ]
     },
     "metadata": {},
     "output_type": "display_data"
    },
    {
     "data": {
      "text/plain": [
       "'umsetze'"
      ]
     },
     "metadata": {},
     "output_type": "display_data"
    },
    {
     "data": {
      "text/plain": [
       "'und'"
      ]
     },
     "metadata": {},
     "output_type": "display_data"
    },
    {
     "data": {
      "text/plain": [
       "'glab'"
      ]
     },
     "metadata": {},
     "output_type": "display_data"
    },
    {
     "data": {
      "text/plain": [
       "'das'"
      ]
     },
     "metadata": {},
     "output_type": "display_data"
    },
    {
     "data": {
      "text/plain": [
       "'verdiedente'"
      ]
     },
     "metadata": {},
     "output_type": "display_data"
    },
    {
     "data": {
      "text/plain": [
       "'höhre'"
      ]
     },
     "metadata": {},
     "output_type": "display_data"
    },
    {
     "data": {
      "text/plain": [
       "'priorität'"
      ]
     },
     "metadata": {},
     "output_type": "display_data"
    },
    {
     "data": {
      "text/plain": [
       "'das'"
      ]
     },
     "metadata": {},
     "output_type": "display_data"
    },
    {
     "data": {
      "text/plain": [
       "'im'"
      ]
     },
     "metadata": {},
     "output_type": "display_data"
    },
    {
     "data": {
      "text/plain": [
       "'reichwargien'"
      ]
     },
     "metadata": {},
     "output_type": "display_data"
    },
    {
     "data": {
      "text/plain": [
       "'geeinigungsbundesgrichth'"
      ]
     },
     "metadata": {},
     "output_type": "display_data"
    },
    {
     "data": {
      "text/plain": [
       "'im'"
      ]
     },
     "metadata": {},
     "output_type": "display_data"
    },
    {
     "data": {
      "text/plain": [
       "'letschten'"
      ]
     },
     "metadata": {},
     "output_type": "display_data"
    },
    {
     "data": {
      "text/plain": [
       "'oktorische'"
      ]
     },
     "metadata": {},
     "output_type": "display_data"
    },
    {
     "data": {
      "text/plain": [
       "'entschieder'"
      ]
     },
     "metadata": {},
     "output_type": "display_data"
    },
    {
     "data": {
      "text/plain": [
       "'und'"
      ]
     },
     "metadata": {},
     "output_type": "display_data"
    },
    {
     "data": {
      "text/plain": [
       "'scolder'"
      ]
     },
     "metadata": {},
     "output_type": "display_data"
    },
    {
     "data": {
      "text/plain": [
       "'einkriegsnone'"
      ]
     },
     "metadata": {},
     "output_type": "display_data"
    },
    {
     "data": {
      "text/plain": [
       "'um'"
      ]
     },
     "metadata": {},
     "output_type": "display_data"
    },
    {
     "data": {
      "text/plain": [
       "'aichlini'"
      ]
     },
     "metadata": {},
     "output_type": "display_data"
    },
    {
     "data": {
      "text/plain": [
       "'fragh'"
      ]
     },
     "metadata": {},
     "output_type": "display_data"
    },
    {
     "data": {
      "text/plain": [
       "'asochlini'"
      ]
     },
     "metadata": {},
     "output_type": "display_data"
    },
    {
     "data": {
      "text/plain": [
       "'frag'"
      ]
     },
     "metadata": {},
     "output_type": "display_data"
    },
    {
     "data": {
      "text/plain": [
       "'dievitcha'"
      ]
     },
     "metadata": {},
     "output_type": "display_data"
    },
    {
     "data": {
      "text/plain": [
       "'diskussionen'"
      ]
     },
     "metadata": {},
     "output_type": "display_data"
    },
    {
     "data": {
      "text/plain": [
       "'geanonym'"
      ]
     },
     "metadata": {},
     "output_type": "display_data"
    },
    {
     "data": {
      "text/plain": [
       "'stand'"
      ]
     },
     "metadata": {},
     "output_type": "display_data"
    },
    {
     "data": {
      "text/plain": [
       "'as'"
      ]
     },
     "metadata": {},
     "output_type": "display_data"
    },
    {
     "data": {
      "text/plain": [
       "'vor'"
      ]
     },
     "metadata": {},
     "output_type": "display_data"
    },
    {
     "data": {
      "text/plain": [
       "'demher'"
      ]
     },
     "metadata": {},
     "output_type": "display_data"
    },
    {
     "data": {
      "text/plain": [
       "'stune'"
      ]
     },
     "metadata": {},
     "output_type": "display_data"
    },
    {
     "data": {
      "text/plain": [
       "'dass'"
      ]
     },
     "metadata": {},
     "output_type": "display_data"
    },
    {
     "data": {
      "text/plain": [
       "'das'"
      ]
     },
     "metadata": {},
     "output_type": "display_data"
    },
    {
     "data": {
      "text/plain": [
       "'suspar'"
      ]
     },
     "metadata": {},
     "output_type": "display_data"
    },
    {
     "data": {
      "text/plain": [
       "'crund'"
      ]
     },
     "metadata": {},
     "output_type": "display_data"
    },
    {
     "data": {
      "text/plain": [
       "'der'"
      ]
     },
     "metadata": {},
     "output_type": "display_data"
    },
    {
     "data": {
      "text/plain": [
       "'zweitepunkt'"
      ]
     },
     "metadata": {},
     "output_type": "display_data"
    },
    {
     "data": {
      "text/plain": [
       "'nicht'"
      ]
     },
     "metadata": {},
     "output_type": "display_data"
    },
    {
     "data": {
      "text/plain": [
       "'möch'"
      ]
     },
     "metadata": {},
     "output_type": "display_data"
    },
    {
     "data": {
      "text/plain": [
       "'die'"
      ]
     },
     "metadata": {},
     "output_type": "display_data"
    },
    {
     "data": {
      "text/plain": [
       "'lupiewiese'"
      ]
     },
     "metadata": {},
     "output_type": "display_data"
    },
    {
     "data": {
      "text/plain": [
       "'dass'"
      ]
     },
     "metadata": {},
     "output_type": "display_data"
    },
    {
     "data": {
      "text/plain": [
       "'isch'"
      ]
     },
     "metadata": {},
     "output_type": "display_data"
    },
    {
     "data": {
      "text/plain": [
       "'eingkriffsbaustuhlanmotionro'"
      ]
     },
     "metadata": {},
     "output_type": "display_data"
    },
    {
     "data": {
      "text/plain": [
       "'meerfeld'"
      ]
     },
     "metadata": {},
     "output_type": "display_data"
    },
    {
     "data": {
      "text/plain": [
       "'apralondoma'"
      ]
     },
     "metadata": {},
     "output_type": "display_data"
    },
    {
     "data": {
      "text/plain": [
       "'hat'"
      ]
     },
     "metadata": {},
     "output_type": "display_data"
    },
    {
     "data": {
      "text/plain": [
       "'fordenne'"
      ]
     },
     "metadata": {},
     "output_type": "display_data"
    },
    {
     "data": {
      "text/plain": [
       "'erwähnt'"
      ]
     },
     "metadata": {},
     "output_type": "display_data"
    },
    {
     "data": {
      "text/plain": [
       "'das'"
      ]
     },
     "metadata": {},
     "output_type": "display_data"
    },
    {
     "data": {
      "text/plain": [
       "'kretzgewichtsprogramm'"
      ]
     },
     "metadata": {},
     "output_type": "display_data"
    },
    {
     "data": {
      "text/plain": [
       "'eigentlich'"
      ]
     },
     "metadata": {},
     "output_type": "display_data"
    },
    {
     "data": {
      "text/plain": [
       "'ali'"
      ]
     },
     "metadata": {},
     "output_type": "display_data"
    },
    {
     "data": {
      "text/plain": [
       "'dier'"
      ]
     },
     "metadata": {},
     "output_type": "display_data"
    },
    {
     "data": {
      "text/plain": [
       "'vorstößse'"
      ]
     },
     "metadata": {},
     "output_type": "display_data"
    },
    {
     "data": {
      "text/plain": [
       "'umfasste'"
      ]
     },
     "metadata": {},
     "output_type": "display_data"
    },
    {
     "data": {
      "text/plain": [
       "'wo'"
      ]
     },
     "metadata": {},
     "output_type": "display_data"
    },
    {
     "data": {
      "text/plain": [
       "'er'"
      ]
     },
     "metadata": {},
     "output_type": "display_data"
    },
    {
     "data": {
      "text/plain": [
       "'hebch'"
      ]
     },
     "metadata": {},
     "output_type": "display_data"
    },
    {
     "data": {
      "text/plain": [
       "'erfeuert'"
      ]
     },
     "metadata": {},
     "output_type": "display_data"
    },
    {
     "data": {
      "text/plain": [
       "'wurde'"
      ]
     },
     "metadata": {},
     "output_type": "display_data"
    },
    {
     "data": {
      "text/plain": [
       "'sind'"
      ]
     },
     "metadata": {},
     "output_type": "display_data"
    },
    {
     "data": {
      "text/plain": [
       "'und'"
      ]
     },
     "metadata": {},
     "output_type": "display_data"
    },
    {
     "data": {
      "text/plain": [
       "'a'"
      ]
     },
     "metadata": {},
     "output_type": "display_data"
    },
    {
     "data": {
      "text/plain": [
       "'umsätze'"
      ]
     },
     "metadata": {},
     "output_type": "display_data"
    },
    {
     "data": {
      "text/plain": [
       "'und'"
      ]
     },
     "metadata": {},
     "output_type": "display_data"
    },
    {
     "data": {
      "text/plain": [
       "'weima'"
      ]
     },
     "metadata": {},
     "output_type": "display_data"
    },
    {
     "data": {
      "text/plain": [
       "'im'"
      ]
     },
     "metadata": {},
     "output_type": "display_data"
    },
    {
     "data": {
      "text/plain": [
       "'gesetzgebichsprogramm'"
      ]
     },
     "metadata": {},
     "output_type": "display_data"
    },
    {
     "data": {
      "text/plain": [
       "'wois'"
      ]
     },
     "metadata": {},
     "output_type": "display_data"
    },
    {
     "data": {
      "text/plain": [
       "'wohletositen'"
      ]
     },
     "metadata": {},
     "output_type": "display_data"
    },
    {
     "data": {
      "text/plain": [
       "'acht'"
      ]
     },
     "metadata": {},
     "output_type": "display_data"
    },
    {
     "data": {
      "text/plain": [
       "'lurten'"
      ]
     },
     "metadata": {},
     "output_type": "display_data"
    },
    {
     "data": {
      "text/plain": [
       "'städte'"
      ]
     },
     "metadata": {},
     "output_type": "display_data"
    },
    {
     "data": {
      "text/plain": [
       "'schardedao'"
      ]
     },
     "metadata": {},
     "output_type": "display_data"
    },
    {
     "data": {
      "text/plain": [
       "'dass'"
      ]
     },
     "metadata": {},
     "output_type": "display_data"
    },
    {
     "data": {
      "text/plain": [
       "'die'"
      ]
     },
     "metadata": {},
     "output_type": "display_data"
    },
    {
     "data": {
      "text/plain": [
       "'vorstößmindischen'"
      ]
     },
     "metadata": {},
     "output_type": "display_data"
    },
    {
     "data": {
      "text/plain": [
       "'sovizelle'"
      ]
     },
     "metadata": {},
     "output_type": "display_data"
    },
    {
     "data": {
      "text/plain": [
       "'bearbeitet'"
      ]
     },
     "metadata": {},
     "output_type": "display_data"
    },
    {
     "data": {
      "text/plain": [
       "'wärde'"
      ]
     },
     "metadata": {},
     "output_type": "display_data"
    },
    {
     "data": {
      "text/plain": [
       "'das'"
      ]
     },
     "metadata": {},
     "output_type": "display_data"
    },
    {
     "data": {
      "text/plain": [
       "'innerhalb'"
      ]
     },
     "metadata": {},
     "output_type": "display_data"
    },
    {
     "data": {
      "text/plain": [
       "'vom'"
      ]
     },
     "metadata": {},
     "output_type": "display_data"
    },
    {
     "data": {
      "text/plain": [
       "'planig'"
      ]
     },
     "metadata": {},
     "output_type": "display_data"
    },
    {
     "data": {
      "text/plain": [
       "'zitrum'"
      ]
     },
     "metadata": {},
     "output_type": "display_data"
    },
    {
     "data": {
      "text/plain": [
       "'als'"
      ]
     },
     "metadata": {},
     "output_type": "display_data"
    },
    {
     "data": {
      "text/plain": [
       "'antizorjoswansk'"
      ]
     },
     "metadata": {},
     "output_type": "display_data"
    },
    {
     "data": {
      "text/plain": [
       "'als'"
      ]
     },
     "metadata": {},
     "output_type": "display_data"
    },
    {
     "data": {
      "text/plain": [
       "'vernehmmlals'"
      ]
     },
     "metadata": {},
     "output_type": "display_data"
    },
    {
     "data": {
      "text/plain": [
       "'ix'"
      ]
     },
     "metadata": {},
     "output_type": "display_data"
    },
    {
     "data": {
      "text/plain": [
       "'verfahreen'"
      ]
     },
     "metadata": {},
     "output_type": "display_data"
    },
    {
     "data": {
      "text/plain": [
       "'eröffnet'"
      ]
     },
     "metadata": {},
     "output_type": "display_data"
    },
    {
     "data": {
      "text/plain": [
       "'werde'"
      ]
     },
     "metadata": {},
     "output_type": "display_data"
    },
    {
     "data": {
      "text/plain": [
       "'was'"
      ]
     },
     "metadata": {},
     "output_type": "display_data"
    },
    {
     "data": {
      "text/plain": [
       "'eus'"
      ]
     },
     "metadata": {},
     "output_type": "display_data"
    },
    {
     "data": {
      "text/plain": [
       "'damse'"
      ]
     },
     "metadata": {},
     "output_type": "display_data"
    },
    {
     "data": {
      "text/plain": [
       "'in'"
      ]
     },
     "metadata": {},
     "output_type": "display_data"
    },
    {
     "data": {
      "text/plain": [
       "'feltr'"
      ]
     },
     "metadata": {},
     "output_type": "display_data"
    },
    {
     "data": {
      "text/plain": [
       "'mehr'"
      ]
     },
     "metadata": {},
     "output_type": "display_data"
    },
    {
     "data": {
      "text/plain": [
       "'fählt'"
      ]
     },
     "metadata": {},
     "output_type": "display_data"
    },
    {
     "data": {
      "text/plain": [
       "'es'"
      ]
     },
     "metadata": {},
     "output_type": "display_data"
    },
    {
     "data": {
      "text/plain": [
       "'die'"
      ]
     },
     "metadata": {},
     "output_type": "display_data"
    },
    {
     "data": {
      "text/plain": [
       "'motion'"
      ]
     },
     "metadata": {},
     "output_type": "display_data"
    },
    {
     "data": {
      "text/plain": [
       "'m'"
      ]
     },
     "metadata": {},
     "output_type": "display_data"
    },
    {
     "data": {
      "text/plain": [
       "'acht'"
      ]
     },
     "metadata": {},
     "output_type": "display_data"
    },
    {
     "data": {
      "text/plain": [
       "'zahünzer'"
      ]
     },
     "metadata": {},
     "output_type": "display_data"
    },
    {
     "data": {
      "text/plain": [
       "'als'"
      ]
     },
     "metadata": {},
     "output_type": "display_data"
    },
    {
     "data": {
      "text/plain": [
       "'rat'"
      ]
     },
     "metadata": {},
     "output_type": "display_data"
    },
    {
     "data": {
      "text/plain": [
       "'zum'"
      ]
     },
     "metadata": {},
     "output_type": "display_data"
    },
    {
     "data": {
      "text/plain": [
       "'langsamn'"
      ]
     },
     "metadata": {},
     "output_type": "display_data"
    },
    {
     "data": {
      "text/plain": [
       "'verhererens'"
      ]
     },
     "metadata": {},
     "output_type": "display_data"
    },
    {
     "data": {
      "text/plain": [
       "'war'"
      ]
     },
     "metadata": {},
     "output_type": "display_data"
    },
    {
     "data": {
      "text/plain": [
       "'um'"
      ]
     },
     "metadata": {},
     "output_type": "display_data"
    },
    {
     "data": {
      "text/plain": [
       "'finanzierig'"
      ]
     },
     "metadata": {},
     "output_type": "display_data"
    },
    {
     "data": {
      "text/plain": [
       "'von'"
      ]
     },
     "metadata": {},
     "output_type": "display_data"
    },
    {
     "data": {
      "text/plain": [
       "'langsam'"
      ]
     },
     "metadata": {},
     "output_type": "display_data"
    },
    {
     "data": {
      "text/plain": [
       "'verhäerter'"
      ]
     },
     "metadata": {},
     "output_type": "display_data"
    },
    {
     "data": {
      "text/plain": [
       "'sich'"
      ]
     },
     "metadata": {},
     "output_type": "display_data"
    },
    {
     "data": {
      "text/plain": [
       "'im'"
      ]
     },
     "metadata": {},
     "output_type": "display_data"
    },
    {
     "data": {
      "text/plain": [
       "'juni'"
      ]
     },
     "metadata": {},
     "output_type": "display_data"
    },
    {
     "data": {
      "text/plain": [
       "'apo'"
      ]
     },
     "metadata": {},
     "output_type": "display_data"
    },
    {
     "data": {
      "text/plain": [
       "'lecdyor'"
      ]
     },
     "metadata": {},
     "output_type": "display_data"
    },
    {
     "data": {
      "text/plain": [
       "'rebcherkäurt'"
      ]
     },
     "metadata": {},
     "output_type": "display_data"
    },
    {
     "data": {
      "text/plain": [
       "'wurde'"
      ]
     },
     "metadata": {},
     "output_type": "display_data"
    },
    {
     "data": {
      "text/plain": [
       "'mures'"
      ]
     },
     "metadata": {},
     "output_type": "display_data"
    },
    {
     "data": {
      "text/plain": [
       "'auser'"
      ]
     },
     "metadata": {},
     "output_type": "display_data"
    },
    {
     "data": {
      "text/plain": [
       "'dem'"
      ]
     },
     "metadata": {},
     "output_type": "display_data"
    },
    {
     "data": {
      "text/plain": [
       "'planingstitel'"
      ]
     },
     "metadata": {},
     "output_type": "display_data"
    },
    {
     "data": {
      "text/plain": [
       "'um'"
      ]
     },
     "metadata": {},
     "output_type": "display_data"
    },
    {
     "data": {
      "text/plain": [
       "'eigntlich'"
      ]
     },
     "metadata": {},
     "output_type": "display_data"
    },
    {
     "data": {
      "text/plain": [
       "'umgesetzt'"
      ]
     },
     "metadata": {},
     "output_type": "display_data"
    },
    {
     "data": {
      "text/plain": [
       "'werde'"
      ]
     },
     "metadata": {},
     "output_type": "display_data"
    },
    {
     "data": {
      "text/plain": [
       "'und'"
      ]
     },
     "metadata": {},
     "output_type": "display_data"
    },
    {
     "data": {
      "text/plain": [
       "'berfinde'"
      ]
     },
     "metadata": {},
     "output_type": "display_data"
    },
    {
     "data": {
      "text/plain": [
       "'mukran'"
      ]
     },
     "metadata": {},
     "output_type": "display_data"
    },
    {
     "data": {
      "text/plain": [
       "'hawis'"
      ]
     },
     "metadata": {},
     "output_type": "display_data"
    },
    {
     "data": {
      "text/plain": [
       "'dem'"
      ]
     },
     "metadata": {},
     "output_type": "display_data"
    },
    {
     "data": {
      "text/plain": [
       "'zetzkabiz'"
      ]
     },
     "metadata": {},
     "output_type": "display_data"
    },
    {
     "data": {
      "text/plain": [
       "'programm'"
      ]
     },
     "metadata": {},
     "output_type": "display_data"
    },
    {
     "data": {
      "text/plain": [
       "'das'"
      ]
     },
     "metadata": {},
     "output_type": "display_data"
    },
    {
     "data": {
      "text/plain": [
       "'dustautarchch'"
      ]
     },
     "metadata": {},
     "output_type": "display_data"
    },
    {
     "data": {
      "text/plain": [
       "'der'"
      ]
     },
     "metadata": {},
     "output_type": "display_data"
    },
    {
     "data": {
      "text/plain": [
       "'faulisch'"
      ]
     },
     "metadata": {},
     "output_type": "display_data"
    },
    {
     "data": {
      "text/plain": [
       "'und'"
      ]
     },
     "metadata": {},
     "output_type": "display_data"
    },
    {
     "data": {
      "text/plain": [
       "'dass'"
      ]
     },
     "metadata": {},
     "output_type": "display_data"
    },
    {
     "data": {
      "text/plain": [
       "'das'"
      ]
     },
     "metadata": {},
     "output_type": "display_data"
    },
    {
     "data": {
      "text/plain": [
       "'elg'"
      ]
     },
     "metadata": {},
     "output_type": "display_data"
    },
    {
     "data": {
      "text/plain": [
       "'emacht'"
      ]
     },
     "metadata": {},
     "output_type": "display_data"
    },
    {
     "data": {
      "text/plain": [
       "'wäre'"
      ]
     },
     "metadata": {},
     "output_type": "display_data"
    },
    {
     "data": {
      "text/plain": [
       "'dass'"
      ]
     },
     "metadata": {},
     "output_type": "display_data"
    },
    {
     "data": {
      "text/plain": [
       "'er'"
      ]
     },
     "metadata": {},
     "output_type": "display_data"
    },
    {
     "data": {
      "text/plain": [
       "'stund'"
      ]
     },
     "metadata": {},
     "output_type": "display_data"
    },
    {
     "data": {
      "text/plain": [
       "'umso'"
      ]
     },
     "metadata": {},
     "output_type": "display_data"
    },
    {
     "data": {
      "text/plain": [
       "'mähert'"
      ]
     },
     "metadata": {},
     "output_type": "display_data"
    },
    {
     "data": {
      "text/plain": [
       "'dass'"
      ]
     },
     "metadata": {},
     "output_type": "display_data"
    },
    {
     "data": {
      "text/plain": [
       "'es'"
      ]
     },
     "metadata": {},
     "output_type": "display_data"
    },
    {
     "data": {
      "text/plain": [
       "'eigentlich'"
      ]
     },
     "metadata": {},
     "output_type": "display_data"
    },
    {
     "data": {
      "text/plain": [
       "'an'"
      ]
     },
     "metadata": {},
     "output_type": "display_data"
    },
    {
     "data": {
      "text/plain": [
       "'abasig'"
      ]
     },
     "metadata": {},
     "output_type": "display_data"
    },
    {
     "data": {
      "text/plain": [
       "'säuger'"
      ]
     },
     "metadata": {},
     "output_type": "display_data"
    },
    {
     "data": {
      "text/plain": [
       "'vom'"
      ]
     },
     "metadata": {},
     "output_type": "display_data"
    },
    {
     "data": {
      "text/plain": [
       "'straße'"
      ]
     },
     "metadata": {},
     "output_type": "display_data"
    },
    {
     "data": {
      "text/plain": [
       "'setzt'"
      ]
     },
     "metadata": {},
     "output_type": "display_data"
    },
    {
     "data": {
      "text/plain": [
       "'an'"
      ]
     },
     "metadata": {},
     "output_type": "display_data"
    },
    {
     "data": {
      "text/plain": [
       "'die'"
      ]
     },
     "metadata": {},
     "output_type": "display_data"
    },
    {
     "data": {
      "text/plain": [
       "'viers'"
      ]
     },
     "metadata": {},
     "output_type": "display_data"
    },
    {
     "data": {
      "text/plain": [
       "'kartal'"
      ]
     },
     "metadata": {},
     "output_type": "display_data"
    },
    {
     "data": {
      "text/plain": [
       "'eine'"
      ]
     },
     "metadata": {},
     "output_type": "display_data"
    },
    {
     "data": {
      "text/plain": [
       "'zwansg'"
      ]
     },
     "metadata": {},
     "output_type": "display_data"
    },
    {
     "data": {
      "text/plain": [
       "'bos'"
      ]
     },
     "metadata": {},
     "output_type": "display_data"
    },
    {
     "data": {
      "text/plain": [
       "'aa'"
      ]
     },
     "metadata": {},
     "output_type": "display_data"
    },
    {
     "data": {
      "text/plain": [
       "'um'"
      ]
     },
     "metadata": {},
     "output_type": "display_data"
    },
    {
     "data": {
      "text/plain": [
       "'finanzieerigine'"
      ]
     },
     "metadata": {},
     "output_type": "display_data"
    },
    {
     "data": {
      "text/plain": [
       "'foto'"
      ]
     },
     "metadata": {},
     "output_type": "display_data"
    },
    {
     "data": {
      "text/plain": [
       "'straße'"
      ]
     },
     "metadata": {},
     "output_type": "display_data"
    },
    {
     "data": {
      "text/plain": [
       "'garti'"
      ]
     },
     "metadata": {},
     "output_type": "display_data"
    },
    {
     "data": {
      "text/plain": [
       "'karal'"
      ]
     },
     "metadata": {},
     "output_type": "display_data"
    },
    {
     "data": {
      "text/plain": [
       "'einfacher'"
      ]
     },
     "metadata": {},
     "output_type": "display_data"
    },
    {
     "data": {
      "text/plain": [
       "'krotenadäquate'"
      ]
     },
     "metadata": {},
     "output_type": "display_data"
    },
    {
     "data": {
      "text/plain": [
       "'und'"
      ]
     },
     "metadata": {},
     "output_type": "display_data"
    },
    {
     "data": {
      "text/plain": [
       "'transparente'"
      ]
     },
     "metadata": {},
     "output_type": "display_data"
    },
    {
     "data": {
      "text/plain": [
       "'regelung'"
      ]
     },
     "metadata": {},
     "output_type": "display_data"
    },
    {
     "data": {
      "text/plain": [
       "'in'"
      ]
     },
     "metadata": {},
     "output_type": "display_data"
    },
    {
     "data": {
      "text/plain": [
       "'bezug'"
      ]
     },
     "metadata": {},
     "output_type": "display_data"
    },
    {
     "data": {
      "text/plain": [
       "'auf'"
      ]
     },
     "metadata": {},
     "output_type": "display_data"
    },
    {
     "data": {
      "text/plain": [
       "'die'"
      ]
     },
     "metadata": {},
     "output_type": "display_data"
    },
    {
     "data": {
      "text/plain": [
       "'finanzierung'"
      ]
     },
     "metadata": {},
     "output_type": "display_data"
    },
    {
     "data": {
      "text/plain": [
       "'der'"
      ]
     },
     "metadata": {},
     "output_type": "display_data"
    },
    {
     "data": {
      "text/plain": [
       "'straßen'"
      ]
     },
     "metadata": {},
     "output_type": "display_data"
    },
    {
     "data": {
      "text/plain": [
       "'die'"
      ]
     },
     "metadata": {},
     "output_type": "display_data"
    },
    {
     "data": {
      "text/plain": [
       "'gattunskantonstraßennetzer'"
      ]
     },
     "metadata": {},
     "output_type": "display_data"
    },
    {
     "data": {
      "text/plain": [
       "'natzer'"
      ]
     },
     "metadata": {},
     "output_type": "display_data"
    },
    {
     "data": {
      "text/plain": [
       "'sehr'"
      ]
     },
     "metadata": {},
     "output_type": "display_data"
    },
    {
     "data": {
      "text/plain": [
       "'stache'"
      ]
     },
     "metadata": {},
     "output_type": "display_data"
    },
    {
     "data": {
      "text/plain": [
       "'über'"
      ]
     },
     "metadata": {},
     "output_type": "display_data"
    },
    {
     "data": {
      "text/plain": [
       "'schneetdige'"
      ]
     },
     "metadata": {},
     "output_type": "display_data"
    },
    {
     "data": {
      "text/plain": [
       "'und'"
      ]
     },
     "metadata": {},
     "output_type": "display_data"
    },
    {
     "data": {
      "text/plain": [
       "'drom'"
      ]
     },
     "metadata": {},
     "output_type": "display_data"
    },
    {
     "data": {
      "text/plain": [
       "'egeseya'"
      ]
     },
     "metadata": {},
     "output_type": "display_data"
    },
    {
     "data": {
      "text/plain": [
       "'schwer'"
      ]
     },
     "metadata": {},
     "output_type": "display_data"
    },
    {
     "data": {
      "text/plain": [
       "'verstandlich'"
      ]
     },
     "metadata": {},
     "output_type": "display_data"
    },
    {
     "data": {
      "text/plain": [
       "'das'"
      ]
     },
     "metadata": {},
     "output_type": "display_data"
    },
    {
     "data": {
      "text/plain": [
       "'einze'"
      ]
     },
     "metadata": {},
     "output_type": "display_data"
    },
    {
     "data": {
      "text/plain": [
       "'er'"
      ]
     },
     "metadata": {},
     "output_type": "display_data"
    },
    {
     "data": {
      "text/plain": [
       "'gemacht'"
      ]
     },
     "metadata": {},
     "output_type": "display_data"
    },
    {
     "data": {
      "text/plain": [
       "'werd'"
      ]
     },
     "metadata": {},
     "output_type": "display_data"
    },
    {
     "data": {
      "text/plain": [
       "'und'"
      ]
     },
     "metadata": {},
     "output_type": "display_data"
    },
    {
     "data": {
      "text/plain": [
       "'uns'"
      ]
     },
     "metadata": {},
     "output_type": "display_data"
    },
    {
     "data": {
      "text/plain": [
       "'anderenöt'"
      ]
     },
     "metadata": {},
     "output_type": "display_data"
    },
    {
     "data": {
      "text/plain": [
       "'ich'"
      ]
     },
     "metadata": {},
     "output_type": "display_data"
    },
    {
     "data": {
      "text/plain": [
       "'an'"
      ]
     },
     "metadata": {},
     "output_type": "display_data"
    },
    {
     "data": {
      "text/plain": [
       "'rückfrag'"
      ]
     },
     "metadata": {},
     "output_type": "display_data"
    },
    {
     "data": {
      "text/plain": [
       "'frag'"
      ]
     },
     "metadata": {},
     "output_type": "display_data"
    },
    {
     "data": {
      "text/plain": [
       "'bem'"
      ]
     },
     "metadata": {},
     "output_type": "display_data"
    },
    {
     "data": {
      "text/plain": [
       "'bodiraktor'"
      ]
     },
     "metadata": {},
     "output_type": "display_data"
    },
    {
     "data": {
      "text/plain": [
       "'erdmer'"
      ]
     },
     "metadata": {},
     "output_type": "display_data"
    },
    {
     "data": {
      "text/plain": [
       "'alreclerd'"
      ]
     },
     "metadata": {},
     "output_type": "display_data"
    },
    {
     "data": {
      "text/plain": [
       "'das'"
      ]
     },
     "metadata": {},
     "output_type": "display_data"
    },
    {
     "data": {
      "text/plain": [
       "'tregierigmöchtiwart'"
      ]
     },
     "metadata": {},
     "output_type": "display_data"
    },
    {
     "data": {
      "text/plain": [
       "'mitmitder'"
      ]
     },
     "metadata": {},
     "output_type": "display_data"
    },
    {
     "data": {
      "text/plain": [
       "'lanxambreus'"
      ]
     },
     "metadata": {},
     "output_type": "display_data"
    },
    {
     "data": {
      "text/plain": [
       "'schricht'"
      ]
     },
     "metadata": {},
     "output_type": "display_data"
    },
    {
     "data": {
      "text/plain": [
       "'bis'"
      ]
     },
     "metadata": {},
     "output_type": "display_data"
    },
    {
     "data": {
      "text/plain": [
       "'nationaler'"
      ]
     },
     "metadata": {},
     "output_type": "display_data"
    },
    {
     "data": {
      "text/plain": [
       "'wehnerwerksetz'"
      ]
     },
     "metadata": {},
     "output_type": "display_data"
    },
    {
     "data": {
      "text/plain": [
       "'in'"
      ]
     },
     "metadata": {},
     "output_type": "display_data"
    },
    {
     "data": {
      "text/plain": [
       "'kraft'"
      ]
     },
     "metadata": {},
     "output_type": "display_data"
    },
    {
     "data": {
      "text/plain": [
       "'traternichtersicher'"
      ]
     },
     "metadata": {},
     "output_type": "display_data"
    },
    {
     "data": {
      "text/plain": [
       "'im'"
      ]
     },
     "metadata": {},
     "output_type": "display_data"
    },
    {
     "data": {
      "text/plain": [
       "'acht'"
      ]
     },
     "metadata": {},
     "output_type": "display_data"
    },
    {
     "data": {
      "text/plain": [
       "'seinem'"
      ]
     },
     "metadata": {},
     "output_type": "display_data"
    },
    {
     "data": {
      "text/plain": [
       "'herrschrafht'"
      ]
     },
     "metadata": {},
     "output_type": "display_data"
    },
    {
     "data": {
      "text/plain": [
       "'seine'"
      ]
     },
     "metadata": {},
     "output_type": "display_data"
    },
    {
     "data": {
      "text/plain": [
       "'von'"
      ]
     },
     "metadata": {},
     "output_type": "display_data"
    },
    {
     "data": {
      "text/plain": [
       "'voll'"
      ]
     },
     "metadata": {},
     "output_type": "display_data"
    },
    {
     "data": {
      "text/plain": [
       "'kragnowode'"
      ]
     },
     "metadata": {},
     "output_type": "display_data"
    },
    {
     "data": {
      "text/plain": [
       "'vor'"
      ]
     },
     "metadata": {},
     "output_type": "display_data"
    },
    {
     "data": {
      "text/plain": [
       "'nemlas'"
      ]
     },
     "metadata": {},
     "output_type": "display_data"
    },
    {
     "data": {
      "text/plain": [
       "'sii'"
      ]
     },
     "metadata": {},
     "output_type": "display_data"
    },
    {
     "data": {
      "text/plain": [
       "'chem'"
      ]
     },
     "metadata": {},
     "output_type": "display_data"
    },
    {
     "data": {
      "text/plain": [
       "'ledghe'"
      ]
     },
     "metadata": {},
     "output_type": "display_data"
    },
    {
     "data": {
      "text/plain": [
       "'seram'"
      ]
     },
     "metadata": {},
     "output_type": "display_data"
    },
    {
     "data": {
      "text/plain": [
       "'rokschloss'"
      ]
     },
     "metadata": {},
     "output_type": "display_data"
    },
    {
     "data": {
      "text/plain": [
       "'wurden'"
      ]
     },
     "metadata": {},
     "output_type": "display_data"
    },
    {
     "data": {
      "text/plain": [
       "'und'"
      ]
     },
     "metadata": {},
     "output_type": "display_data"
    },
    {
     "data": {
      "text/plain": [
       "'das'"
      ]
     },
     "metadata": {},
     "output_type": "display_data"
    },
    {
     "data": {
      "text/plain": [
       "'rond'"
      ]
     },
     "metadata": {},
     "output_type": "display_data"
    },
    {
     "data": {
      "text/plain": [
       "'demnekstidie'"
      ]
     },
     "metadata": {},
     "output_type": "display_data"
    },
    {
     "data": {
      "text/plain": [
       "'im'"
      ]
     },
     "metadata": {},
     "output_type": "display_data"
    },
    {
     "data": {
      "text/plain": [
       "'of'"
      ]
     },
     "metadata": {},
     "output_type": "display_data"
    },
    {
     "data": {
      "text/plain": [
       "'ubundaabany'"
      ]
     },
     "metadata": {},
     "output_type": "display_data"
    },
    {
     "data": {
      "text/plain": [
       "'engliche'"
      ]
     },
     "metadata": {},
     "output_type": "display_data"
    },
    {
     "data": {
      "text/plain": [
       "'ispalo'"
      ]
     },
     "metadata": {},
     "output_type": "display_data"
    },
    {
     "data": {
      "text/plain": [
       "'man'"
      ]
     },
     "metadata": {},
     "output_type": "display_data"
    },
    {
     "data": {
      "text/plain": [
       "'usakfonbo'"
      ]
     },
     "metadata": {},
     "output_type": "display_data"
    },
    {
     "data": {
      "text/plain": [
       "'deracterisch'"
      ]
     },
     "metadata": {},
     "output_type": "display_data"
    },
    {
     "data": {
      "text/plain": [
       "'das'"
      ]
     },
     "metadata": {},
     "output_type": "display_data"
    },
    {
     "data": {
      "text/plain": [
       "'das'"
      ]
     },
     "metadata": {},
     "output_type": "display_data"
    },
    {
     "data": {
      "text/plain": [
       "'nötzogr'"
      ]
     },
     "metadata": {},
     "output_type": "display_data"
    },
    {
     "data": {
      "text/plain": [
       "'an'"
      ]
     },
     "metadata": {},
     "output_type": "display_data"
    },
    {
     "data": {
      "text/plain": [
       "'sklare'"
      ]
     },
     "metadata": {},
     "output_type": "display_data"
    },
    {
     "data": {
      "text/plain": [
       "'schwemritil'"
      ]
     },
     "metadata": {},
     "output_type": "display_data"
    },
    {
     "data": {
      "text/plain": [
       "'die'"
      ]
     },
     "metadata": {},
     "output_type": "display_data"
    },
    {
     "data": {
      "text/plain": [
       "'langsam'"
      ]
     },
     "metadata": {},
     "output_type": "display_data"
    },
    {
     "data": {
      "text/plain": [
       "'resmution'"
      ]
     },
     "metadata": {},
     "output_type": "display_data"
    },
    {
     "data": {
      "text/plain": [
       "'worde'"
      ]
     },
     "metadata": {},
     "output_type": "display_data"
    },
    {
     "data": {
      "text/plain": [
       "'umsetze'"
      ]
     },
     "metadata": {},
     "output_type": "display_data"
    },
    {
     "data": {
      "text/plain": [
       "'im'"
      ]
     },
     "metadata": {},
     "output_type": "display_data"
    },
    {
     "data": {
      "text/plain": [
       "'crontonschwiz'"
      ]
     },
     "metadata": {},
     "output_type": "display_data"
    },
    {
     "data": {
      "text/plain": [
       "'und'"
      ]
     },
     "metadata": {},
     "output_type": "display_data"
    },
    {
     "data": {
      "text/plain": [
       "'datistromnangiesetzgewichsprogramm'"
      ]
     },
     "metadata": {},
     "output_type": "display_data"
    },
    {
     "data": {
      "text/plain": [
       "'trindänisch'"
      ]
     },
     "metadata": {},
     "output_type": "display_data"
    },
    {
     "data": {
      "text/plain": [
       "'eventuell'"
      ]
     },
     "metadata": {},
     "output_type": "display_data"
    },
    {
     "data": {
      "text/plain": [
       "'main'"
      ]
     },
     "metadata": {},
     "output_type": "display_data"
    },
    {
     "data": {
      "text/plain": [
       "'de'"
      ]
     },
     "metadata": {},
     "output_type": "display_data"
    },
    {
     "data": {
      "text/plain": [
       "'röntistarnasi'"
      ]
     },
     "metadata": {},
     "output_type": "display_data"
    },
    {
     "data": {
      "text/plain": [
       "'das'"
      ]
     },
     "metadata": {},
     "output_type": "display_data"
    },
    {
     "data": {
      "text/plain": [
       "'das'"
      ]
     },
     "metadata": {},
     "output_type": "display_data"
    },
    {
     "data": {
      "text/plain": [
       "'neuess'"
      ]
     },
     "metadata": {},
     "output_type": "display_data"
    },
    {
     "data": {
      "text/plain": [
       "'wellowerk'"
      ]
     },
     "metadata": {},
     "output_type": "display_data"
    },
    {
     "data": {
      "text/plain": [
       "'seitsgit'"
      ]
     },
     "metadata": {},
     "output_type": "display_data"
    },
    {
     "data": {
      "text/plain": [
       "'allerdings'"
      ]
     },
     "metadata": {},
     "output_type": "display_data"
    },
    {
     "data": {
      "text/plain": [
       "'findet'"
      ]
     },
     "metadata": {},
     "output_type": "display_data"
    },
    {
     "data": {
      "text/plain": [
       "'mattas'"
      ]
     },
     "metadata": {},
     "output_type": "display_data"
    },
    {
     "data": {
      "text/plain": [
       "'natülliem'"
      ]
     },
     "metadata": {},
     "output_type": "display_data"
    },
    {
     "data": {
      "text/plain": [
       "'selzgewichstprogramm'"
      ]
     },
     "metadata": {},
     "output_type": "display_data"
    },
    {
     "data": {
      "text/plain": [
       "'aunani'"
      ]
     },
     "metadata": {},
     "output_type": "display_data"
    },
    {
     "data": {
      "text/plain": [
       "'für'"
      ]
     },
     "metadata": {},
     "output_type": "display_data"
    },
    {
     "data": {
      "text/plain": [
       "'micr'"
      ]
     },
     "metadata": {},
     "output_type": "display_data"
    },
    {
     "data": {
      "text/plain": [
       "'folksystem'"
      ]
     },
     "metadata": {},
     "output_type": "display_data"
    },
    {
     "data": {
      "text/plain": [
       "'das'"
      ]
     },
     "metadata": {},
     "output_type": "display_data"
    },
    {
     "data": {
      "text/plain": [
       "'mehre'"
      ]
     },
     "metadata": {},
     "output_type": "display_data"
    },
    {
     "data": {
      "text/plain": [
       "'zeit'"
      ]
     },
     "metadata": {},
     "output_type": "display_data"
    },
    {
     "data": {
      "text/plain": [
       "'i'"
      ]
     },
     "metadata": {},
     "output_type": "display_data"
    },
    {
     "data": {
      "text/plain": [
       "'fordere'"
      ]
     },
     "metadata": {},
     "output_type": "display_data"
    },
    {
     "data": {
      "text/plain": [
       "'das'"
      ]
     },
     "metadata": {},
     "output_type": "display_data"
    },
    {
     "data": {
      "text/plain": [
       "'wählerwerkseits'"
      ]
     },
     "metadata": {},
     "output_type": "display_data"
    },
    {
     "data": {
      "text/plain": [
       "'odersosctalt'"
      ]
     },
     "metadata": {},
     "output_type": "display_data"
    },
    {
     "data": {
      "text/plain": [
       "'zuminderschewitidahl'"
      ]
     },
     "metadata": {},
     "output_type": "display_data"
    },
    {
     "data": {
      "text/plain": [
       "'revigion'"
      ]
     },
     "metadata": {},
     "output_type": "display_data"
    },
    {
     "data": {
      "text/plain": [
       "'vom'"
      ]
     },
     "metadata": {},
     "output_type": "display_data"
    },
    {
     "data": {
      "text/plain": [
       "'straßesettsiskeitsgerichtsprogramm'"
      ]
     },
     "metadata": {},
     "output_type": "display_data"
    },
    {
     "data": {
      "text/plain": [
       "'eines'"
      ]
     },
     "metadata": {},
     "output_type": "display_data"
    },
    {
     "data": {
      "text/plain": [
       "'zwanzigsteuer'"
      ]
     },
     "metadata": {},
     "output_type": "display_data"
    },
    {
     "data": {
      "text/plain": [
       "'zwananisig'"
      ]
     },
     "metadata": {},
     "output_type": "display_data"
    },
    {
     "data": {
      "text/plain": [
       "'u'"
      ]
     },
     "metadata": {},
     "output_type": "display_data"
    },
    {
     "data": {
      "text/plain": [
       "'f'"
      ]
     },
     "metadata": {},
     "output_type": "display_data"
    },
    {
     "data": {
      "text/plain": [
       "'gno'"
      ]
     },
     "metadata": {},
     "output_type": "display_data"
    },
    {
     "data": {
      "text/plain": [
       "'wäredesel'"
      ]
     },
     "metadata": {},
     "output_type": "display_data"
    },
    {
     "data": {
      "text/plain": [
       "'dass'"
      ]
     },
     "metadata": {},
     "output_type": "display_data"
    },
    {
     "data": {
      "text/plain": [
       "'da'"
      ]
     },
     "metadata": {},
     "output_type": "display_data"
    },
    {
     "data": {
      "text/plain": [
       "'tralonda'"
      ]
     },
     "metadata": {},
     "output_type": "display_data"
    },
    {
     "data": {
      "text/plain": [
       "'monate'"
      ]
     },
     "metadata": {},
     "output_type": "display_data"
    },
    {
     "data": {
      "text/plain": [
       "'das'"
      ]
     },
     "metadata": {},
     "output_type": "display_data"
    },
    {
     "data": {
      "text/plain": [
       "'wirkgeräiblich'"
      ]
     },
     "metadata": {},
     "output_type": "display_data"
    },
    {
     "data": {
      "text/plain": [
       "'ergeitvorstandrnerungesetzt'"
      ]
     },
     "metadata": {},
     "output_type": "display_data"
    },
    {
     "data": {
      "text/plain": [
       "'werde'"
      ]
     },
     "metadata": {},
     "output_type": "display_data"
    },
    {
     "data": {
      "text/plain": [
       "'warar'"
      ]
     },
     "metadata": {},
     "output_type": "display_data"
    },
    {
     "data": {
      "text/plain": [
       "'das'"
      ]
     },
     "metadata": {},
     "output_type": "display_data"
    },
    {
     "data": {
      "text/plain": [
       "'nödhyn'"
      ]
     },
     "metadata": {},
     "output_type": "display_data"
    },
    {
     "data": {
      "text/plain": [
       "'riskijermer'"
      ]
     },
     "metadata": {},
     "output_type": "display_data"
    },
    {
     "data": {
      "text/plain": [
       "'das'"
      ]
     },
     "metadata": {},
     "output_type": "display_data"
    },
    {
     "data": {
      "text/plain": [
       "'navire'"
      ]
     },
     "metadata": {},
     "output_type": "display_data"
    },
    {
     "data": {
      "text/plain": [
       "'landesland'"
      ]
     },
     "metadata": {},
     "output_type": "display_data"
    },
    {
     "data": {
      "text/plain": [
       "'vitrijaaresland'"
      ]
     },
     "metadata": {},
     "output_type": "display_data"
    },
    {
     "data": {
      "text/plain": [
       "'gründ'"
      ]
     },
     "metadata": {},
     "output_type": "display_data"
    },
    {
     "data": {
      "text/plain": [
       "'ohne'"
      ]
     },
     "metadata": {},
     "output_type": "display_data"
    },
    {
     "data": {
      "text/plain": [
       "'dass'"
      ]
     },
     "metadata": {},
     "output_type": "display_data"
    },
    {
     "data": {
      "text/plain": [
       "'ben'"
      ]
     },
     "metadata": {},
     "output_type": "display_data"
    },
    {
     "data": {
      "text/plain": [
       "'wahrunsamfreer'"
      ]
     },
     "metadata": {},
     "output_type": "display_data"
    },
    {
     "data": {
      "text/plain": [
       "'bisphor'"
      ]
     },
     "metadata": {},
     "output_type": "display_data"
    },
    {
     "data": {
      "text/plain": [
       "'vorwärts'"
      ]
     },
     "metadata": {},
     "output_type": "display_data"
    },
    {
     "data": {
      "text/plain": [
       "'ga'"
      ]
     },
     "metadata": {},
     "output_type": "display_data"
    },
    {
     "data": {
      "text/plain": [
       "'ich'"
      ]
     },
     "metadata": {},
     "output_type": "display_data"
    },
    {
     "data": {
      "text/plain": [
       "'möchte'"
      ]
     },
     "metadata": {},
     "output_type": "display_data"
    },
    {
     "data": {
      "text/plain": [
       "'ihr'"
      ]
     },
     "metadata": {},
     "output_type": "display_data"
    },
    {
     "data": {
      "text/plain": [
       "'demseien'"
      ]
     },
     "metadata": {},
     "output_type": "display_data"
    },
    {
     "data": {
      "text/plain": [
       "'ch'"
      ]
     },
     "metadata": {},
     "output_type": "display_data"
    },
    {
     "data": {
      "text/plain": [
       "'stütz'"
      ]
     },
     "metadata": {},
     "output_type": "display_data"
    },
    {
     "data": {
      "text/plain": [
       "'ufschafthonik'"
      ]
     },
     "metadata": {},
     "output_type": "display_data"
    },
    {
     "data": {
      "text/plain": [
       "'von'"
      ]
     },
     "metadata": {},
     "output_type": "display_data"
    },
    {
     "data": {
      "text/plain": [
       "'kantonsrabatetraf'"
      ]
     },
     "metadata": {},
     "output_type": "display_data"
    },
    {
     "data": {
      "text/plain": [
       "'eines'"
      ]
     },
     "metadata": {},
     "output_type": "display_data"
    },
    {
     "data": {
      "text/plain": [
       "'ar'"
      ]
     },
     "metadata": {},
     "output_type": "display_data"
    },
    {
     "data": {
      "text/plain": [
       "'obsurt'"
      ]
     },
     "metadata": {},
     "output_type": "display_data"
    },
    {
     "data": {
      "text/plain": [
       "'vier'"
      ]
     },
     "metadata": {},
     "output_type": "display_data"
    },
    {
     "data": {
      "text/plain": [
       "'modrinen'"
      ]
     },
     "metadata": {},
     "output_type": "display_data"
    },
    {
     "data": {
      "text/plain": [
       "'staatus'"
      ]
     },
     "metadata": {},
     "output_type": "display_data"
    },
    {
     "data": {
      "text/plain": [
       "'mehr'"
      ]
     },
     "metadata": {},
     "output_type": "display_data"
    },
    {
     "data": {
      "text/plain": [
       "'mit'"
      ]
     },
     "metadata": {},
     "output_type": "display_data"
    },
    {
     "data": {
      "text/plain": [
       "'dem'"
      ]
     },
     "metadata": {},
     "output_type": "display_data"
    },
    {
     "data": {
      "text/plain": [
       "'schlussfahrsig'"
      ]
     },
     "metadata": {},
     "output_type": "display_data"
    },
    {
     "data": {
      "text/plain": [
       "'zum'"
      ]
     },
     "metadata": {},
     "output_type": "display_data"
    },
    {
     "data": {
      "text/plain": [
       "'seitsgebigsprogramm'"
      ]
     },
     "metadata": {},
     "output_type": "display_data"
    },
    {
     "data": {
      "text/plain": [
       "'andrege'"
      ]
     },
     "metadata": {},
     "output_type": "display_data"
    },
    {
     "data": {
      "text/plain": [
       "'erganzigen'"
      ]
     },
     "metadata": {},
     "output_type": "display_data"
    },
    {
     "data": {
      "text/plain": [
       "'oder'"
      ]
     },
     "metadata": {},
     "output_type": "display_data"
    },
    {
     "data": {
      "text/plain": [
       "'strierige'"
      ]
     },
     "metadata": {},
     "output_type": "display_data"
    },
    {
     "data": {
      "text/plain": [
       "'empetrage'"
      ]
     },
     "metadata": {},
     "output_type": "display_data"
    },
    {
     "data": {
      "text/plain": [
       "'ein'"
      ]
     },
     "metadata": {},
     "output_type": "display_data"
    },
    {
     "data": {
      "text/plain": [
       "'artragställer'"
      ]
     },
     "metadata": {},
     "output_type": "display_data"
    },
    {
     "data": {
      "text/plain": [
       "'sin'"
      ]
     },
     "metadata": {},
     "output_type": "display_data"
    },
    {
     "data": {
      "text/plain": [
       "'art'"
      ]
     },
     "metadata": {},
     "output_type": "display_data"
    },
    {
     "data": {
      "text/plain": [
       "'ac'"
      ]
     },
     "metadata": {},
     "output_type": "display_data"
    },
    {
     "data": {
      "text/plain": [
       "'nickonzani'"
      ]
     },
     "metadata": {},
     "output_type": "display_data"
    },
    {
     "data": {
      "text/plain": [
       "'dommotthias'"
      ]
     },
     "metadata": {},
     "output_type": "display_data"
    },
    {
     "data": {
      "text/plain": [
       "'brun'"
      ]
     },
     "metadata": {},
     "output_type": "display_data"
    },
    {
     "data": {
      "text/plain": [
       "'un'"
      ]
     },
     "metadata": {},
     "output_type": "display_data"
    },
    {
     "data": {
      "text/plain": [
       "'direp'"
      ]
     },
     "metadata": {},
     "output_type": "display_data"
    },
    {
     "data": {
      "text/plain": [
       "'as'"
      ]
     },
     "metadata": {},
     "output_type": "display_data"
    },
    {
     "data": {
      "text/plain": [
       "'grad'"
      ]
     },
     "metadata": {},
     "output_type": "display_data"
    },
    {
     "data": {
      "text/plain": [
       "'o'"
      ]
     },
     "metadata": {},
     "output_type": "display_data"
    },
    {
     "data": {
      "text/plain": [
       "'der'"
      ]
     },
     "metadata": {},
     "output_type": "display_data"
    },
    {
     "data": {
      "text/plain": [
       "'nyed'"
      ]
     },
     "metadata": {},
     "output_type": "display_data"
    },
    {
     "data": {
      "text/plain": [
       "'erer'"
      ]
     },
     "metadata": {},
     "output_type": "display_data"
    },
    {
     "data": {
      "text/plain": [
       "'für'"
      ]
     },
     "metadata": {},
     "output_type": "display_data"
    },
    {
     "data": {
      "text/plain": [
       "'mirchis'"
      ]
     },
     "metadata": {},
     "output_type": "display_data"
    },
    {
     "data": {
      "text/plain": [
       "'egentlich'"
      ]
     },
     "metadata": {},
     "output_type": "display_data"
    },
    {
     "data": {
      "text/plain": [
       "'klar'"
      ]
     },
     "metadata": {},
     "output_type": "display_data"
    },
    {
     "data": {
      "text/plain": [
       "'krönen'"
      ]
     },
     "metadata": {},
     "output_type": "display_data"
    },
    {
     "data": {
      "text/plain": [
       "'änderungen'"
      ]
     },
     "metadata": {},
     "output_type": "display_data"
    },
    {
     "data": {
      "text/plain": [
       "'ergänzungen'"
      ]
     },
     "metadata": {},
     "output_type": "display_data"
    },
    {
     "data": {
      "text/plain": [
       "'oder'"
      ]
     },
     "metadata": {},
     "output_type": "display_data"
    },
    {
     "data": {
      "text/plain": [
       "'streichung'"
      ]
     },
     "metadata": {},
     "output_type": "display_data"
    },
    {
     "data": {
      "text/plain": [
       "'beantragt'"
      ]
     },
     "metadata": {},
     "output_type": "display_data"
    },
    {
     "data": {
      "text/plain": [
       "'werden'"
      ]
     },
     "metadata": {},
     "output_type": "display_data"
    },
    {
     "data": {
      "text/plain": [
       "'und'"
      ]
     },
     "metadata": {},
     "output_type": "display_data"
    },
    {
     "data": {
      "text/plain": [
       "'minatragödi'"
      ]
     },
     "metadata": {},
     "output_type": "display_data"
    },
    {
     "data": {
      "text/plain": [
       "'remseen'"
      ]
     },
     "metadata": {},
     "output_type": "display_data"
    },
    {
     "data": {
      "text/plain": [
       "'wvolgtluter'"
      ]
     },
     "metadata": {},
     "output_type": "display_data"
    },
    {
     "data": {
      "text/plain": [
       "'im'"
      ]
     },
     "metadata": {},
     "output_type": "display_data"
    },
    {
     "data": {
      "text/plain": [
       "'setzgebichsprogramm'"
      ]
     },
     "metadata": {},
     "output_type": "display_data"
    },
    {
     "data": {
      "text/plain": [
       "'ihres'"
      ]
     },
     "metadata": {},
     "output_type": "display_data"
    },
    {
     "data": {
      "text/plain": [
       "'vites'"
      ]
     },
     "metadata": {},
     "output_type": "display_data"
    },
    {
     "data": {
      "text/plain": [
       "'vorhaber'"
      ]
     },
     "metadata": {},
     "output_type": "display_data"
    },
    {
     "data": {
      "text/plain": [
       "'uftsnähe'"
      ]
     },
     "metadata": {},
     "output_type": "display_data"
    },
    {
     "data": {
      "text/plain": [
       "'wo'"
      ]
     },
     "metadata": {},
     "output_type": "display_data"
    },
    {
     "data": {
      "text/plain": [
       "'die'"
      ]
     },
     "metadata": {},
     "output_type": "display_data"
    },
    {
     "data": {
      "text/plain": [
       "'zietgereich'"
      ]
     },
     "metadata": {},
     "output_type": "display_data"
    },
    {
     "data": {
      "text/plain": [
       "'die'"
      ]
     },
     "metadata": {},
     "output_type": "display_data"
    },
    {
     "data": {
      "text/plain": [
       "'umsatz'"
      ]
     },
     "metadata": {},
     "output_type": "display_data"
    },
    {
     "data": {
      "text/plain": [
       "'umseizig'"
      ]
     },
     "metadata": {},
     "output_type": "display_data"
    },
    {
     "data": {
      "text/plain": [
       "'vor'"
      ]
     },
     "metadata": {},
     "output_type": "display_data"
    },
    {
     "data": {
      "text/plain": [
       "'der'"
      ]
     },
     "metadata": {},
     "output_type": "display_data"
    },
    {
     "data": {
      "text/plain": [
       "'motion'"
      ]
     },
     "metadata": {},
     "output_type": "display_data"
    },
    {
     "data": {
      "text/plain": [
       "'m'"
      ]
     },
     "metadata": {},
     "output_type": "display_data"
    },
    {
     "data": {
      "text/plain": [
       "'acht'"
      ]
     },
     "metadata": {},
     "output_type": "display_data"
    },
    {
     "data": {
      "text/plain": [
       "'zarnünzer'"
      ]
     },
     "metadata": {},
     "output_type": "display_data"
    },
    {
     "data": {
      "text/plain": [
       "'garantiert'"
      ]
     },
     "metadata": {},
     "output_type": "display_data"
    },
    {
     "data": {
      "text/plain": [
       "'das'"
      ]
     },
     "metadata": {},
     "output_type": "display_data"
    },
    {
     "data": {
      "text/plain": [
       "'kon'"
      ]
     },
     "metadata": {},
     "output_type": "display_data"
    },
    {
     "data": {
      "text/plain": [
       "'im'"
      ]
     },
     "metadata": {},
     "output_type": "display_data"
    },
    {
     "data": {
      "text/plain": [
       "'rahmen'"
      ]
     },
     "metadata": {},
     "output_type": "display_data"
    },
    {
     "data": {
      "text/plain": [
       "'von'"
      ]
     },
     "metadata": {},
     "output_type": "display_data"
    },
    {
     "data": {
      "text/plain": [
       "'erer'"
      ]
     },
     "metadata": {},
     "output_type": "display_data"
    },
    {
     "data": {
      "text/plain": [
       "'teilregiun'"
      ]
     },
     "metadata": {},
     "output_type": "display_data"
    },
    {
     "data": {
      "text/plain": [
       "'von'"
      ]
     },
     "metadata": {},
     "output_type": "display_data"
    },
    {
     "data": {
      "text/plain": [
       "'straßenzet'"
      ]
     },
     "metadata": {},
     "output_type": "display_data"
    },
    {
     "data": {
      "text/plain": [
       "'oder'"
      ]
     },
     "metadata": {},
     "output_type": "display_data"
    },
    {
     "data": {
      "text/plain": [
       "'durchas'"
      ]
     },
     "metadata": {},
     "output_type": "display_data"
    },
    {
     "data": {
      "text/plain": [
       "'ereignislangsamn'"
      ]
     },
     "metadata": {},
     "output_type": "display_data"
    },
    {
     "data": {
      "text/plain": [
       "'kässets'"
      ]
     },
     "metadata": {},
     "output_type": "display_data"
    },
    {
     "data": {
      "text/plain": [
       "'erfolge'"
      ]
     },
     "metadata": {},
     "output_type": "display_data"
    },
    {
     "data": {
      "text/plain": [
       "'icnemarta'"
      ]
     },
     "metadata": {},
     "output_type": "display_data"
    },
    {
     "data": {
      "text/plain": [
       "'stautschrieb'"
      ]
     },
     "metadata": {},
     "output_type": "display_data"
    },
    {
     "data": {
      "text/plain": [
       "'breize'"
      ]
     },
     "metadata": {},
     "output_type": "display_data"
    },
    {
     "data": {
      "text/plain": [
       "'besager'"
      ]
     },
     "metadata": {},
     "output_type": "display_data"
    },
    {
     "data": {
      "text/plain": [
       "'dazu'"
      ]
     },
     "metadata": {},
     "output_type": "display_data"
    },
    {
     "data": {
      "text/plain": [
       "'warndrockmögische'"
      ]
     },
     "metadata": {},
     "output_type": "display_data"
    },
    {
     "data": {
      "text/plain": [
       "'spätehreude'"
      ]
     },
     "metadata": {},
     "output_type": "display_data"
    },
    {
     "data": {
      "text/plain": [
       "'zu'"
      ]
     },
     "metadata": {},
     "output_type": "display_data"
    },
    {
     "data": {
      "text/plain": [
       "'unterstütze'"
      ]
     },
     "metadata": {},
     "output_type": "display_data"
    },
    {
     "data": {
      "text/plain": [
       "'banchenwolichfle'"
      ]
     },
     "metadata": {},
     "output_type": "display_data"
    },
    {
     "data": {
      "text/plain": [
       "'vermite'"
      ]
     },
     "metadata": {},
     "output_type": "display_data"
    },
    {
     "data": {
      "text/plain": [
       "'e'"
      ]
     },
     "metadata": {},
     "output_type": "display_data"
    },
    {
     "data": {
      "text/plain": [
       "'froationssprachendesehr'"
      ]
     },
     "metadata": {},
     "output_type": "display_data"
    },
    {
     "data": {
      "text/plain": [
       "'gehrte'"
      ]
     },
     "metadata": {},
     "output_type": "display_data"
    },
    {
     "data": {
      "text/plain": [
       "'herr'"
      ]
     },
     "metadata": {},
     "output_type": "display_data"
    },
    {
     "data": {
      "text/plain": [
       "'präsident'"
      ]
     },
     "metadata": {},
     "output_type": "display_data"
    },
    {
     "data": {
      "text/plain": [
       "'christ'"
      ]
     },
     "metadata": {},
     "output_type": "display_data"
    },
    {
     "data": {
      "text/plain": [
       "'die'"
      ]
     },
     "metadata": {},
     "output_type": "display_data"
    },
    {
     "data": {
      "text/plain": [
       "'kollegine'"
      ]
     },
     "metadata": {},
     "output_type": "display_data"
    },
    {
     "data": {
      "text/plain": [
       "'und'"
      ]
     },
     "metadata": {},
     "output_type": "display_data"
    },
    {
     "data": {
      "text/plain": [
       "'kollege'"
      ]
     },
     "metadata": {},
     "output_type": "display_data"
    },
    {
     "data": {
      "text/plain": [
       "'genah'"
      ]
     },
     "metadata": {},
     "output_type": "display_data"
    },
    {
     "data": {
      "text/plain": [
       "'mie'"
      ]
     },
     "metadata": {},
     "output_type": "display_data"
    },
    {
     "data": {
      "text/plain": [
       "'der'"
      ]
     },
     "metadata": {},
     "output_type": "display_data"
    },
    {
     "data": {
      "text/plain": [
       "'letzte'"
      ]
     },
     "metadata": {},
     "output_type": "display_data"
    },
    {
     "data": {
      "text/plain": [
       "'jahre'"
      ]
     },
     "metadata": {},
     "output_type": "display_data"
    },
    {
     "data": {
      "text/plain": [
       "'für'"
      ]
     },
     "metadata": {},
     "output_type": "display_data"
    },
    {
     "data": {
      "text/plain": [
       "'düdliches'"
      ]
     },
     "metadata": {},
     "output_type": "display_data"
    },
    {
     "data": {
      "text/plain": [
       "'gezgebicgsprogramm'"
      ]
     },
     "metadata": {},
     "output_type": "display_data"
    },
    {
     "data": {
      "text/plain": [
       "'wirchelid'"
      ]
     },
     "metadata": {},
     "output_type": "display_data"
    },
    {
     "data": {
      "text/plain": [
       "'arkhivik'"
      ]
     },
     "metadata": {},
     "output_type": "display_data"
    },
    {
     "data": {
      "text/plain": [
       "'staltix'"
      ]
     },
     "metadata": {},
     "output_type": "display_data"
    },
    {
     "data": {
      "text/plain": [
       "'fellefer'"
      ]
     },
     "metadata": {},
     "output_type": "display_data"
    },
    {
     "data": {
      "text/plain": [
       "'drecergisch'"
      ]
     },
     "metadata": {},
     "output_type": "display_data"
    },
    {
     "data": {
      "text/plain": [
       "'vier'"
      ]
     },
     "metadata": {},
     "output_type": "display_data"
    },
    {
     "data": {
      "text/plain": [
       "'zahlvodofhzeit'"
      ]
     },
     "metadata": {},
     "output_type": "display_data"
    },
    {
     "data": {
      "text/plain": [
       "'planete'"
      ]
     },
     "metadata": {},
     "output_type": "display_data"
    },
    {
     "data": {
      "text/plain": [
       "'vorlage'"
      ]
     },
     "metadata": {},
     "output_type": "display_data"
    },
    {
     "data": {
      "text/plain": [
       "'desen'"
      ]
     },
     "metadata": {},
     "output_type": "display_data"
    },
    {
     "data": {
      "text/plain": [
       "'achter'"
      ]
     },
     "metadata": {},
     "output_type": "display_data"
    },
    {
     "data": {
      "text/plain": [
       "'sibbitz'"
      ]
     },
     "metadata": {},
     "output_type": "display_data"
    },
    {
     "data": {
      "text/plain": [
       "'drozant'"
      ]
     },
     "metadata": {},
     "output_type": "display_data"
    },
    {
     "data": {
      "text/plain": [
       "'sind'"
      ]
     },
     "metadata": {},
     "output_type": "display_data"
    },
    {
     "data": {
      "text/plain": [
       "'den'"
      ]
     },
     "metadata": {},
     "output_type": "display_data"
    },
    {
     "data": {
      "text/plain": [
       "'reaktionsübergordigfrachtoder'"
      ]
     },
     "metadata": {},
     "output_type": "display_data"
    },
    {
     "data": {
      "text/plain": [
       "'in'"
      ]
     },
     "metadata": {},
     "output_type": "display_data"
    },
    {
     "data": {
      "text/plain": [
       "'reaktionen'"
      ]
     },
     "metadata": {},
     "output_type": "display_data"
    },
    {
     "data": {
      "text/plain": [
       "'parlamentarische'"
      ]
     },
     "metadata": {},
     "output_type": "display_data"
    },
    {
     "data": {
      "text/plain": [
       "'vorstes'"
      ]
     },
     "metadata": {},
     "output_type": "display_data"
    },
    {
     "data": {
      "text/plain": [
       "'der'"
      ]
     },
     "metadata": {},
     "output_type": "display_data"
    },
    {
     "data": {
      "text/plain": [
       "'gerigsrat'"
      ]
     },
     "metadata": {},
     "output_type": "display_data"
    },
    {
     "data": {
      "text/plain": [
       "'hat'"
      ]
     },
     "metadata": {},
     "output_type": "display_data"
    },
    {
     "data": {
      "text/plain": [
       "'das'"
      ]
     },
     "metadata": {},
     "output_type": "display_data"
    },
    {
     "data": {
      "text/plain": [
       "'dasalobsite'"
      ]
     },
     "metadata": {},
     "output_type": "display_data"
    },
    {
     "data": {
      "text/plain": [
       "'nur'"
      ]
     },
     "metadata": {},
     "output_type": "display_data"
    },
    {
     "data": {
      "text/plain": [
       "'wie'"
      ]
     },
     "metadata": {},
     "output_type": "display_data"
    },
    {
     "data": {
      "text/plain": [
       "'einfünftel'"
      ]
     },
     "metadata": {},
     "output_type": "display_data"
    },
    {
     "data": {
      "text/plain": [
       "'vor'"
      ]
     },
     "metadata": {},
     "output_type": "display_data"
    },
    {
     "data": {
      "text/plain": [
       "'den'"
      ]
     },
     "metadata": {},
     "output_type": "display_data"
    },
    {
     "data": {
      "text/plain": [
       "'programmteil'"
      ]
     },
     "metadata": {},
     "output_type": "display_data"
    },
    {
     "data": {
      "text/plain": [
       "'der'"
      ]
     },
     "metadata": {},
     "output_type": "display_data"
    },
    {
     "data": {
      "text/plain": [
       "'initiative'"
      ]
     },
     "metadata": {},
     "output_type": "display_data"
    },
    {
     "data": {
      "text/plain": [
       "'ergriffen'"
      ]
     },
     "metadata": {},
     "output_type": "display_data"
    },
    {
     "data": {
      "text/plain": [
       "'da'"
      ]
     },
     "metadata": {},
     "output_type": "display_data"
    },
    {
     "data": {
      "text/plain": [
       "'beginnte'"
      ]
     },
     "metadata": {},
     "output_type": "display_data"
    },
    {
     "data": {
      "text/plain": [
       "'biegitophe'"
      ]
     },
     "metadata": {},
     "output_type": "display_data"
    },
    {
     "data": {
      "text/plain": [
       "'handlicksfalder'"
      ]
     },
     "metadata": {},
     "output_type": "display_data"
    },
    {
     "data": {
      "text/plain": [
       "'woan'"
      ]
     },
     "metadata": {},
     "output_type": "display_data"
    },
    {
     "data": {
      "text/plain": [
       "'aktiv'"
      ]
     },
     "metadata": {},
     "output_type": "display_data"
    },
    {
     "data": {
      "text/plain": [
       "'estaltig'"
      ]
     },
     "metadata": {},
     "output_type": "display_data"
    },
    {
     "data": {
      "text/plain": [
       "'für'"
      ]
     },
     "metadata": {},
     "output_type": "display_data"
    },
    {
     "data": {
      "text/plain": [
       "'der'"
      ]
     },
     "metadata": {},
     "output_type": "display_data"
    },
    {
     "data": {
      "text/plain": [
       "'gierig'"
      ]
     },
     "metadata": {},
     "output_type": "display_data"
    },
    {
     "data": {
      "text/plain": [
       "'möglich'"
      ]
     },
     "metadata": {},
     "output_type": "display_data"
    },
    {
     "data": {
      "text/plain": [
       "'wär'"
      ]
     },
     "metadata": {},
     "output_type": "display_data"
    },
    {
     "data": {
      "text/plain": [
       "'die'"
      ]
     },
     "metadata": {},
     "output_type": "display_data"
    },
    {
     "data": {
      "text/plain": [
       "'zoofils'"
      ]
     },
     "metadata": {},
     "output_type": "display_data"
    },
    {
     "data": {
      "text/plain": [
       "'duerl'"
      ]
     },
     "metadata": {},
     "output_type": "display_data"
    },
    {
     "data": {
      "text/plain": [
       "'im'"
      ]
     },
     "metadata": {},
     "output_type": "display_data"
    },
    {
     "data": {
      "text/plain": [
       "'stulrsichstehen'"
      ]
     },
     "metadata": {},
     "output_type": "display_data"
    },
    {
     "data": {
      "text/plain": [
       "'zum'"
      ]
     },
     "metadata": {},
     "output_type": "display_data"
    },
    {
     "data": {
      "text/plain": [
       "'slawer'"
      ]
     },
     "metadata": {},
     "output_type": "display_data"
    },
    {
     "data": {
      "text/plain": [
       "'for'"
      ]
     },
     "metadata": {},
     "output_type": "display_data"
    },
    {
     "data": {
      "text/plain": [
       "'demensch'"
      ]
     },
     "metadata": {},
     "output_type": "display_data"
    },
    {
     "data": {
      "text/plain": [
       "'mit'"
      ]
     },
     "metadata": {},
     "output_type": "display_data"
    },
    {
     "data": {
      "text/plain": [
       "'tief'"
      ]
     },
     "metadata": {},
     "output_type": "display_data"
    },
    {
     "data": {
      "text/plain": [
       "'icrom'"
      ]
     },
     "metadata": {},
     "output_type": "display_data"
    },
    {
     "data": {
      "text/plain": [
       "'erliachtrer'"
      ]
     },
     "metadata": {},
     "output_type": "display_data"
    },
    {
     "data": {
      "text/plain": [
       "'bezahlbar'"
      ]
     },
     "metadata": {},
     "output_type": "display_data"
    },
    {
     "data": {
      "text/plain": [
       "'kinterbetroigsalgebot'"
      ]
     },
     "metadata": {},
     "output_type": "display_data"
    },
    {
     "data": {
      "text/plain": [
       "'es'"
      ]
     },
     "metadata": {},
     "output_type": "display_data"
    },
    {
     "data": {
      "text/plain": [
       "'gibt'"
      ]
     },
     "metadata": {},
     "output_type": "display_data"
    },
    {
     "data": {
      "text/plain": [
       "'er'"
      ]
     },
     "metadata": {},
     "output_type": "display_data"
    },
    {
     "data": {
      "text/plain": [
       "'ganz'"
      ]
     },
     "metadata": {},
     "output_type": "display_data"
    },
    {
     "data": {
      "text/plain": [
       "'viel'"
      ]
     },
     "metadata": {},
     "output_type": "display_data"
    },
    {
     "data": {
      "text/plain": [
       "'biespierleaber'"
      ]
     },
     "metadata": {},
     "output_type": "display_data"
    },
    {
     "data": {
      "text/plain": [
       "'statt'"
      ]
     },
     "metadata": {},
     "output_type": "display_data"
    },
    {
     "data": {
      "text/plain": [
       "'anursvotumbodquo'"
      ]
     },
     "metadata": {},
     "output_type": "display_data"
    },
    {
     "data": {
      "text/plain": [
       "'as'"
      ]
     },
     "metadata": {},
     "output_type": "display_data"
    },
    {
     "data": {
      "text/plain": [
       "'büralati'"
      ]
     },
     "metadata": {},
     "output_type": "display_data"
    },
    {
     "data": {
      "text/plain": [
       "'letstegsetzgebihsprogram'"
      ]
     },
     "metadata": {},
     "output_type": "display_data"
    },
    {
     "data": {
      "text/plain": [
       "'aushocalteheaz'"
      ]
     },
     "metadata": {},
     "output_type": "display_data"
    },
    {
     "data": {
      "text/plain": [
       "'wi'"
      ]
     },
     "metadata": {},
     "output_type": "display_data"
    },
    {
     "data": {
      "text/plain": [
       "'liter'"
      ]
     },
     "metadata": {},
     "output_type": "display_data"
    },
    {
     "data": {
      "text/plain": [
       "'spor'"
      ]
     },
     "metadata": {},
     "output_type": "display_data"
    },
    {
     "data": {
      "text/plain": [
       "'a'"
      ]
     },
     "metadata": {},
     "output_type": "display_data"
    },
    {
     "data": {
      "text/plain": [
       "'eressiere'"
      ]
     },
     "metadata": {},
     "output_type": "display_data"
    },
    {
     "data": {
      "text/plain": [
       "'das'"
      ]
     },
     "metadata": {},
     "output_type": "display_data"
    },
    {
     "data": {
      "text/plain": [
       "'hätt'"
      ]
     },
     "metadata": {},
     "output_type": "display_data"
    },
    {
     "data": {
      "text/plain": [
       "'sich'"
      ]
     },
     "metadata": {},
     "output_type": "display_data"
    },
    {
     "data": {
      "text/plain": [
       "'nie'"
      ]
     },
     "metadata": {},
     "output_type": "display_data"
    },
    {
     "data": {
      "text/plain": [
       "'verandert'"
      ]
     },
     "metadata": {},
     "output_type": "display_data"
    },
    {
     "data": {
      "text/plain": [
       "'wie'"
      ]
     },
     "metadata": {},
     "output_type": "display_data"
    },
    {
     "data": {
      "text/plain": [
       "'dem'"
      ]
     },
     "metadata": {},
     "output_type": "display_data"
    },
    {
     "data": {
      "text/plain": [
       "'setzgebicxprogramm'"
      ]
     },
     "metadata": {},
     "output_type": "display_data"
    },
    {
     "data": {
      "text/plain": [
       "'tromsvotum'"
      ]
     },
     "metadata": {},
     "output_type": "display_data"
    },
    {
     "data": {
      "text/plain": [
       "'der'"
      ]
     },
     "metadata": {},
     "output_type": "display_data"
    },
    {
     "data": {
      "text/plain": [
       "'spunit'"
      ]
     },
     "metadata": {},
     "output_type": "display_data"
    },
    {
     "data": {
      "text/plain": [
       "'miverve'"
      ]
     },
     "metadata": {},
     "output_type": "display_data"
    },
    {
     "data": {
      "text/plain": [
       "'das'"
      ]
     },
     "metadata": {},
     "output_type": "display_data"
    },
    {
     "data": {
      "text/plain": [
       "'programm'"
      ]
     },
     "metadata": {},
     "output_type": "display_data"
    },
    {
     "data": {
      "text/plain": [
       "'opblehnen'"
      ]
     },
     "metadata": {},
     "output_type": "display_data"
    },
    {
     "data": {
      "text/plain": [
       "'wie'"
      ]
     },
     "metadata": {},
     "output_type": "display_data"
    },
    {
     "data": {
      "text/plain": [
       "'das'"
      ]
     },
     "metadata": {},
     "output_type": "display_data"
    },
    {
     "data": {
      "text/plain": [
       "'nödlichere'"
      ]
     },
     "metadata": {},
     "output_type": "display_data"
    },
    {
     "data": {
      "text/plain": [
       "'vorstäle'"
      ]
     },
     "metadata": {},
     "output_type": "display_data"
    },
    {
     "data": {
      "text/plain": [
       "'für'"
      ]
     },
     "metadata": {},
     "output_type": "display_data"
    },
    {
     "data": {
      "text/plain": [
       "'aktive'"
      ]
     },
     "metadata": {},
     "output_type": "display_data"
    },
    {
     "data": {
      "text/plain": [
       "'gestaltig'"
      ]
     },
     "metadata": {},
     "output_type": "display_data"
    },
    {
     "data": {
      "text/plain": [
       "'ent'"
      ]
     },
     "metadata": {},
     "output_type": "display_data"
    },
    {
     "data": {
      "text/plain": [
       "'spricht'"
      ]
     },
     "metadata": {},
     "output_type": "display_data"
    },
    {
     "data": {
      "text/plain": [
       "'obse'"
      ]
     },
     "metadata": {},
     "output_type": "display_data"
    },
    {
     "data": {
      "text/plain": [
       "'ich'"
      ]
     },
     "metadata": {},
     "output_type": "display_data"
    },
    {
     "data": {
      "text/plain": [
       "'bewusst'"
      ]
     },
     "metadata": {},
     "output_type": "display_data"
    },
    {
     "data": {
      "text/plain": [
       "'dass'"
      ]
     },
     "metadata": {},
     "output_type": "display_data"
    },
    {
     "data": {
      "text/plain": [
       "'das'"
      ]
     },
     "metadata": {},
     "output_type": "display_data"
    },
    {
     "data": {
      "text/plain": [
       "'programm'"
      ]
     },
     "metadata": {},
     "output_type": "display_data"
    },
    {
     "data": {
      "text/plain": [
       "'dur'"
      ]
     },
     "metadata": {},
     "output_type": "display_data"
    },
    {
     "data": {
      "text/plain": [
       "'durhovirt'"
      ]
     },
     "metadata": {},
     "output_type": "display_data"
    },
    {
     "data": {
      "text/plain": [
       "'und'"
      ]
     },
     "metadata": {},
     "output_type": "display_data"
    },
    {
     "data": {
      "text/plain": [
       "'zweihiwis'"
      ]
     },
     "metadata": {},
     "output_type": "display_data"
    },
    {
     "data": {
      "text/plain": [
       "'wo'"
      ]
     },
     "metadata": {},
     "output_type": "display_data"
    },
    {
     "data": {
      "text/plain": [
       "'aut'"
      ]
     },
     "metadata": {},
     "output_type": "display_data"
    },
    {
     "data": {
      "text/plain": [
       "'gelterrokgmacht'"
      ]
     },
     "metadata": {},
     "output_type": "display_data"
    },
    {
     "data": {
      "text/plain": [
       "'hät'"
      ]
     },
     "metadata": {},
     "output_type": "display_data"
    },
    {
     "data": {
      "text/plain": [
       "'dass'"
      ]
     },
     "metadata": {},
     "output_type": "display_data"
    },
    {
     "data": {
      "text/plain": [
       "'transparentsitz'"
      ]
     },
     "metadata": {},
     "output_type": "display_data"
    },
    {
     "data": {
      "text/plain": [
       "'erst'"
      ]
     },
     "metadata": {},
     "output_type": "display_data"
    },
    {
     "data": {
      "text/plain": [
       "'einde'"
      ]
     },
     "metadata": {},
     "output_type": "display_data"
    },
    {
     "data": {
      "text/plain": [
       "'jahr'"
      ]
     },
     "metadata": {},
     "output_type": "display_data"
    },
    {
     "data": {
      "text/plain": [
       "'selho'"
      ]
     },
     "metadata": {},
     "output_type": "display_data"
    },
    {
     "data": {
      "text/plain": [
       "'ist'"
      ]
     },
     "metadata": {},
     "output_type": "display_data"
    },
    {
     "data": {
      "text/plain": [
       "'unverstandlich'"
      ]
     },
     "metadata": {},
     "output_type": "display_data"
    },
    {
     "data": {
      "text/plain": [
       "'des'"
      ]
     },
     "metadata": {},
     "output_type": "display_data"
    },
    {
     "data": {
      "text/plain": [
       "'spielrum'"
      ]
     },
     "metadata": {},
     "output_type": "display_data"
    },
    {
     "data": {
      "text/plain": [
       "'ich'"
      ]
     },
     "metadata": {},
     "output_type": "display_data"
    },
    {
     "data": {
      "text/plain": [
       "'noch'"
      ]
     },
     "metadata": {},
     "output_type": "display_data"
    },
    {
     "data": {
      "text/plain": [
       "'im'"
      ]
     },
     "metadata": {},
     "output_type": "display_data"
    },
    {
     "data": {
      "text/plain": [
       "'entscheid'"
      ]
     },
     "metadata": {},
     "output_type": "display_data"
    },
    {
     "data": {
      "text/plain": [
       "'vom'"
      ]
     },
     "metadata": {},
     "output_type": "display_data"
    },
    {
     "data": {
      "text/plain": [
       "'bundsgericht'"
      ]
     },
     "metadata": {},
     "output_type": "display_data"
    },
    {
     "data": {
      "text/plain": [
       "'sehr'"
      ]
     },
     "metadata": {},
     "output_type": "display_data"
    },
    {
     "data": {
      "text/plain": [
       "'ang'"
      ]
     },
     "metadata": {},
     "output_type": "display_data"
    },
    {
     "data": {
      "text/plain": [
       "'und'"
      ]
     },
     "metadata": {},
     "output_type": "display_data"
    },
    {
     "data": {
      "text/plain": [
       "'sichclarsamosaubasse'"
      ]
     },
     "metadata": {},
     "output_type": "display_data"
    },
    {
     "data": {
      "text/plain": [
       "'damit'"
      ]
     },
     "metadata": {},
     "output_type": "display_data"
    },
    {
     "data": {
      "text/plain": [
       "'bis'"
      ]
     },
     "metadata": {},
     "output_type": "display_data"
    },
    {
     "data": {
      "text/plain": [
       "'zar'"
      ]
     },
     "metadata": {},
     "output_type": "display_data"
    },
    {
     "data": {
      "text/plain": [
       "'zu'"
      ]
     },
     "metadata": {},
     "output_type": "display_data"
    },
    {
     "data": {
      "text/plain": [
       "'gewahleten'"
      ]
     },
     "metadata": {},
     "output_type": "display_data"
    },
    {
     "data": {
      "text/plain": [
       "'zweiezwanzig'"
      ]
     },
     "metadata": {},
     "output_type": "display_data"
    },
    {
     "data": {
      "text/plain": [
       "'umsetzt'"
      ]
     },
     "metadata": {},
     "output_type": "display_data"
    },
    {
     "data": {
      "text/plain": [
       "'isch'"
      ]
     },
     "metadata": {},
     "output_type": "display_data"
    },
    {
     "data": {
      "text/plain": [
       "'idws'"
      ]
     },
     "metadata": {},
     "output_type": "display_data"
    },
    {
     "data": {
      "text/plain": [
       "'nözlich'"
      ]
     },
     "metadata": {},
     "output_type": "display_data"
    },
    {
     "data": {
      "text/plain": [
       "'an'"
      ]
     },
     "metadata": {},
     "output_type": "display_data"
    },
    {
     "data": {
      "text/plain": [
       "'teorduran'"
      ]
     },
     "metadata": {},
     "output_type": "display_data"
    },
    {
     "data": {
      "text/plain": [
       "'außerdem'"
      ]
     },
     "metadata": {},
     "output_type": "display_data"
    },
    {
     "data": {
      "text/plain": [
       "'unterstützen'"
      ]
     },
     "metadata": {},
     "output_type": "display_data"
    },
    {
     "data": {
      "text/plain": [
       "'a'"
      ]
     },
     "metadata": {},
     "output_type": "display_data"
    },
    {
     "data": {
      "text/plain": [
       "'das'"
      ]
     },
     "metadata": {},
     "output_type": "display_data"
    },
    {
     "data": {
      "text/plain": [
       "'arlige'"
      ]
     },
     "metadata": {},
     "output_type": "display_data"
    },
    {
     "data": {
      "text/plain": [
       "'von'"
      ]
     },
     "metadata": {},
     "output_type": "display_data"
    },
    {
     "data": {
      "text/plain": [
       "'de'"
      ]
     },
     "metadata": {},
     "output_type": "display_data"
    },
    {
     "data": {
      "text/plain": [
       "'glp'"
      ]
     },
     "metadata": {},
     "output_type": "display_data"
    },
    {
     "data": {
      "text/plain": [
       "'beberretköre'"
      ]
     },
     "metadata": {},
     "output_type": "display_data"
    },
    {
     "data": {
      "text/plain": [
       "'dassen'"
      ]
     },
     "metadata": {},
     "output_type": "display_data"
    },
    {
     "data": {
      "text/plain": [
       "'artrock'"
      ]
     },
     "metadata": {},
     "output_type": "display_data"
    },
    {
     "data": {
      "text/plain": [
       "'hrazi'"
      ]
     },
     "metadata": {},
     "output_type": "display_data"
    },
    {
     "data": {
      "text/plain": [
       "'oder'"
      ]
     },
     "metadata": {},
     "output_type": "display_data"
    },
    {
     "data": {
      "text/plain": [
       "'efachein'"
      ]
     },
     "metadata": {},
     "output_type": "display_data"
    },
    {
     "data": {
      "text/plain": [
       "'hiwiisto'"
      ]
     },
     "metadata": {},
     "output_type": "display_data"
    },
    {
     "data": {
      "text/plain": [
       "'und'"
      ]
     },
     "metadata": {},
     "output_type": "display_data"
    },
    {
     "data": {
      "text/plain": [
       "'für'"
      ]
     },
     "metadata": {},
     "output_type": "display_data"
    },
    {
     "data": {
      "text/plain": [
       "'der'"
      ]
     },
     "metadata": {},
     "output_type": "display_data"
    },
    {
     "data": {
      "text/plain": [
       "'regeringte'"
      ]
     },
     "metadata": {},
     "output_type": "display_data"
    },
    {
     "data": {
      "text/plain": [
       "'tanksfilmunges'"
      ]
     },
     "metadata": {},
     "output_type": "display_data"
    },
    {
     "data": {
      "text/plain": [
       "'word'"
      ]
     },
     "metadata": {},
     "output_type": "display_data"
    },
    {
     "data": {
      "text/plain": [
       "'duch'"
      ]
     },
     "metadata": {},
     "output_type": "display_data"
    },
    {
     "data": {
      "text/plain": [
       "'wief'"
      ]
     },
     "metadata": {},
     "output_type": "display_data"
    },
    {
     "data": {
      "text/plain": [
       "'verwieete'"
      ]
     },
     "metadata": {},
     "output_type": "display_data"
    },
    {
     "data": {
      "text/plain": [
       "'raktionssprachendein'"
      ]
     },
     "metadata": {},
     "output_type": "display_data"
    },
    {
     "data": {
      "text/plain": [
       "'nitefalzi'"
      ]
     },
     "metadata": {},
     "output_type": "display_data"
    },
    {
     "data": {
      "text/plain": [
       "'der'"
      ]
     },
     "metadata": {},
     "output_type": "display_data"
    },
    {
     "data": {
      "text/plain": [
       "'ibesou'"
      ]
     },
     "metadata": {},
     "output_type": "display_data"
    },
    {
     "data": {
      "text/plain": [
       "'dom'"
      ]
     },
     "metadata": {},
     "output_type": "display_data"
    },
    {
     "data": {
      "text/plain": [
       "'juristim'"
      ]
     },
     "metadata": {},
     "output_type": "display_data"
    },
    {
     "data": {
      "text/plain": [
       "'jerichsratimmer'"
      ]
     },
     "metadata": {},
     "output_type": "display_data"
    },
    {
     "data": {
      "text/plain": [
       "'herr'"
      ]
     },
     "metadata": {},
     "output_type": "display_data"
    },
    {
     "data": {
      "text/plain": [
       "'präsident'"
      ]
     },
     "metadata": {},
     "output_type": "display_data"
    },
    {
     "data": {
      "text/plain": [
       "'minidarme'"
      ]
     },
     "metadata": {},
     "output_type": "display_data"
    },
    {
     "data": {
      "text/plain": [
       "'und'"
      ]
     },
     "metadata": {},
     "output_type": "display_data"
    },
    {
     "data": {
      "text/plain": [
       "'herre'"
      ]
     },
     "metadata": {},
     "output_type": "display_data"
    },
    {
     "data": {
      "text/plain": [
       "'credoni'"
      ]
     },
     "metadata": {},
     "output_type": "display_data"
    },
    {
     "data": {
      "text/plain": [
       "'primerls'"
      ]
     },
     "metadata": {},
     "output_type": "display_data"
    },
    {
     "data": {
      "text/plain": [
       "'jurisc'"
      ]
     },
     "metadata": {},
     "output_type": "display_data"
    },
    {
     "data": {
      "text/plain": [
       "'a'"
      ]
     },
     "metadata": {},
     "output_type": "display_data"
    },
    {
     "data": {
      "text/plain": [
       "'porgan'"
      ]
     },
     "metadata": {},
     "output_type": "display_data"
    },
    {
     "data": {
      "text/plain": [
       "'der'"
      ]
     },
     "metadata": {},
     "output_type": "display_data"
    },
    {
     "data": {
      "text/plain": [
       "'dael'"
      ]
     },
     "metadata": {},
     "output_type": "display_data"
    },
    {
     "data": {
      "text/plain": [
       "'bis'"
      ]
     },
     "metadata": {},
     "output_type": "display_data"
    },
    {
     "data": {
      "text/plain": [
       "'zur'"
      ]
     },
     "metadata": {},
     "output_type": "display_data"
    },
    {
     "data": {
      "text/plain": [
       "'saconome'"
      ]
     },
     "metadata": {},
     "output_type": "display_data"
    },
    {
     "data": {
      "text/plain": [
       "'a'"
      ]
     },
     "metadata": {},
     "output_type": "display_data"
    },
    {
     "data": {
      "text/plain": [
       "'zum'"
      ]
     },
     "metadata": {},
     "output_type": "display_data"
    },
    {
     "data": {
      "text/plain": [
       "'mapragor'"
      ]
     },
     "metadata": {},
     "output_type": "display_data"
    },
    {
     "data": {
      "text/plain": [
       "'gardeus'"
      ]
     },
     "metadata": {},
     "output_type": "display_data"
    },
    {
     "data": {
      "text/plain": [
       "'griecheninefort'"
      ]
     },
     "metadata": {},
     "output_type": "display_data"
    },
    {
     "data": {
      "text/plain": [
       "'grünle'"
      ]
     },
     "metadata": {},
     "output_type": "display_data"
    },
    {
     "data": {
      "text/plain": [
       "'brale'"
      ]
     },
     "metadata": {},
     "output_type": "display_data"
    },
    {
     "data": {
      "text/plain": [
       "'zum'"
      ]
     },
     "metadata": {},
     "output_type": "display_data"
    },
    {
     "data": {
      "text/plain": [
       "'umsätzig'"
      ]
     },
     "metadata": {},
     "output_type": "display_data"
    },
    {
     "data": {
      "text/plain": [
       "'von'"
      ]
     },
     "metadata": {},
     "output_type": "display_data"
    },
    {
     "data": {
      "text/plain": [
       "'der'"
      ]
     },
     "metadata": {},
     "output_type": "display_data"
    },
    {
     "data": {
      "text/plain": [
       "'remotion'"
      ]
     },
     "metadata": {},
     "output_type": "display_data"
    },
    {
     "data": {
      "text/plain": [
       "'berichtig'"
      ]
     },
     "metadata": {},
     "output_type": "display_data"
    },
    {
     "data": {
      "text/plain": [
       "'zitiert'"
      ]
     },
     "metadata": {},
     "output_type": "display_data"
    },
    {
     "data": {
      "text/plain": [
       "'wurde'"
      ]
     },
     "metadata": {},
     "output_type": "display_data"
    },
    {
     "data": {
      "text/plain": [
       "'on'"
      ]
     },
     "metadata": {},
     "output_type": "display_data"
    },
    {
     "data": {
      "text/plain": [
       "'contonsra'"
      ]
     },
     "metadata": {},
     "output_type": "display_data"
    },
    {
     "data": {
      "text/plain": [
       "'bobenhenscher'"
      ]
     },
     "metadata": {},
     "output_type": "display_data"
    },
    {
     "data": {
      "text/plain": [
       "'zweimal'"
      ]
     },
     "metadata": {},
     "output_type": "display_data"
    },
    {
     "data": {
      "text/plain": [
       "'über'"
      ]
     },
     "metadata": {},
     "output_type": "display_data"
    },
    {
     "data": {
      "text/plain": [
       "'das'"
      ]
     },
     "metadata": {},
     "output_type": "display_data"
    },
    {
     "data": {
      "text/plain": [
       "'thema'"
      ]
     },
     "metadata": {},
     "output_type": "display_data"
    },
    {
     "data": {
      "text/plain": [
       "'gret'"
      ]
     },
     "metadata": {},
     "output_type": "display_data"
    },
    {
     "data": {
      "text/plain": [
       "'ärmenrhäum'"
      ]
     },
     "metadata": {},
     "output_type": "display_data"
    },
    {
     "data": {
      "text/plain": [
       "'probiercoclare'"
      ]
     },
     "metadata": {},
     "output_type": "display_data"
    },
    {
     "data": {
      "text/plain": [
       "'das'"
      ]
     },
     "metadata": {},
     "output_type": "display_data"
    },
    {
     "data": {
      "text/plain": [
       "'aber'"
      ]
     },
     "metadata": {},
     "output_type": "display_data"
    },
    {
     "data": {
      "text/plain": [
       "'der'"
      ]
     },
     "metadata": {},
     "output_type": "display_data"
    },
    {
     "data": {
      "text/plain": [
       "'vorplar'"
      ]
     },
     "metadata": {},
     "output_type": "display_data"
    },
    {
     "data": {
      "text/plain": [
       "'monicons'"
      ]
     },
     "metadata": {},
     "output_type": "display_data"
    },
    {
     "data": {
      "text/plain": [
       "'bestimmttisch'"
      ]
     },
     "metadata": {},
     "output_type": "display_data"
    },
    {
     "data": {
      "text/plain": [
       "'richtig'"
      ]
     },
     "metadata": {},
     "output_type": "display_data"
    },
    {
     "data": {
      "text/plain": [
       "'weeder'"
      ]
     },
     "metadata": {},
     "output_type": "display_data"
    },
    {
     "data": {
      "text/plain": [
       "'garme'"
      ]
     },
     "metadata": {},
     "output_type": "display_data"
    },
    {
     "data": {
      "text/plain": [
       "'wüste'"
      ]
     },
     "metadata": {},
     "output_type": "display_data"
    },
    {
     "data": {
      "text/plain": [
       "'net'"
      ]
     },
     "metadata": {},
     "output_type": "display_data"
    },
    {
     "data": {
      "text/plain": [
       "'ganzknaven'"
      ]
     },
     "metadata": {},
     "output_type": "display_data"
    },
    {
     "data": {
      "text/plain": [
       "'das'"
      ]
     },
     "metadata": {},
     "output_type": "display_data"
    },
    {
     "data": {
      "text/plain": [
       "'bundesseits'"
      ]
     },
     "metadata": {},
     "output_type": "display_data"
    },
    {
     "data": {
      "text/plain": [
       "'hund'"
      ]
     },
     "metadata": {},
     "output_type": "display_data"
    },
    {
     "data": {
      "text/plain": [
       "'fhrieschenhof'"
      ]
     },
     "metadata": {},
     "output_type": "display_data"
    },
    {
     "data": {
      "text/plain": [
       "'verbar'"
      ]
     },
     "metadata": {},
     "output_type": "display_data"
    },
    {
     "data": {
      "text/plain": [
       "'as'"
      ]
     },
     "metadata": {},
     "output_type": "display_data"
    },
    {
     "data": {
      "text/plain": [
       "'das'"
      ]
     },
     "metadata": {},
     "output_type": "display_data"
    },
    {
     "data": {
      "text/plain": [
       "'bundeskriet'"
      ]
     },
     "metadata": {},
     "output_type": "display_data"
    },
    {
     "data": {
      "text/plain": [
       "'sossiswederwerg'"
      ]
     },
     "metadata": {},
     "output_type": "display_data"
    },
    {
     "data": {
      "text/plain": [
       "'setsvom'"
      ]
     },
     "metadata": {},
     "output_type": "display_data"
    },
    {
     "data": {
      "text/plain": [
       "'bund'"
      ]
     },
     "metadata": {},
     "output_type": "display_data"
    },
    {
     "data": {
      "text/plain": [
       "'neis'"
      ]
     },
     "metadata": {},
     "output_type": "display_data"
    },
    {
     "data": {
      "text/plain": [
       "'veloksez'"
      ]
     },
     "metadata": {},
     "output_type": "display_data"
    },
    {
     "data": {
      "text/plain": [
       "'heißt'"
      ]
     },
     "metadata": {},
     "output_type": "display_data"
    },
    {
     "data": {
      "text/plain": [
       "'ibem'"
      ]
     },
     "metadata": {},
     "output_type": "display_data"
    },
    {
     "data": {
      "text/plain": [
       "'un'"
      ]
     },
     "metadata": {},
     "output_type": "display_data"
    },
    {
     "data": {
      "text/plain": [
       "'komfriesten'"
      ]
     },
     "metadata": {},
     "output_type": "display_data"
    },
    {
     "data": {
      "text/plain": [
       "'zum'"
      ]
     },
     "metadata": {},
     "output_type": "display_data"
    },
    {
     "data": {
      "text/plain": [
       "'hersc'"
      ]
     },
     "metadata": {},
     "output_type": "display_data"
    },
    {
     "data": {
      "text/plain": [
       "'dies'"
      ]
     },
     "metadata": {},
     "output_type": "display_data"
    },
    {
     "data": {
      "text/plain": [
       "'parlamant'"
      ]
     },
     "metadata": {},
     "output_type": "display_data"
    },
    {
     "data": {
      "text/plain": [
       "'die'"
      ]
     },
     "metadata": {},
     "output_type": "display_data"
    },
    {
     "data": {
      "text/plain": [
       "'gerchcammer'"
      ]
     },
     "metadata": {},
     "output_type": "display_data"
    },
    {
     "data": {
      "text/plain": [
       "'im'"
      ]
     },
     "metadata": {},
     "output_type": "display_data"
    },
    {
     "data": {
      "text/plain": [
       "'winterhuf'"
      ]
     },
     "metadata": {},
     "output_type": "display_data"
    },
    {
     "data": {
      "text/plain": [
       "'verbod'"
      ]
     },
     "metadata": {},
     "output_type": "display_data"
    },
    {
     "data": {
      "text/plain": [
       "'röhrchten'"
      ]
     },
     "metadata": {},
     "output_type": "display_data"
    },
    {
     "data": {
      "text/plain": [
       "'sie'"
      ]
     },
     "metadata": {},
     "output_type": "display_data"
    },
    {
     "data": {
      "text/plain": [
       "'die'"
      ]
     },
     "metadata": {},
     "output_type": "display_data"
    },
    {
     "data": {
      "text/plain": [
       "'zwei'"
      ]
     },
     "metadata": {},
     "output_type": "display_data"
    },
    {
     "data": {
      "text/plain": [
       "'commere'"
      ]
     },
     "metadata": {},
     "output_type": "display_data"
    },
    {
     "data": {
      "text/plain": [
       "'als'"
      ]
     },
     "metadata": {},
     "output_type": "display_data"
    },
    {
     "data": {
      "text/plain": [
       "'geriss'"
      ]
     },
     "metadata": {},
     "output_type": "display_data"
    },
    {
     "data": {
      "text/plain": [
       "'zweizwansgeneer'"
      ]
     },
     "metadata": {},
     "output_type": "display_data"
    },
    {
     "data": {
      "text/plain": [
       "'bis'"
      ]
     },
     "metadata": {},
     "output_type": "display_data"
    },
    {
     "data": {
      "text/plain": [
       "'das'"
      ]
     },
     "metadata": {},
     "output_type": "display_data"
    },
    {
     "data": {
      "text/plain": [
       "'bundeskreig'"
      ]
     },
     "metadata": {},
     "output_type": "display_data"
    },
    {
     "data": {
      "text/plain": [
       "'start'"
      ]
     },
     "metadata": {},
     "output_type": "display_data"
    },
    {
     "data": {
      "text/plain": [
       "'unterglaber'"
      ]
     },
     "metadata": {},
     "output_type": "display_data"
    },
    {
     "data": {
      "text/plain": [
       "'sich'"
      ]
     },
     "metadata": {},
     "output_type": "display_data"
    },
    {
     "data": {
      "text/plain": [
       "'nachvollzehrbar'"
      ]
     },
     "metadata": {},
     "output_type": "display_data"
    },
    {
     "data": {
      "text/plain": [
       "'dass'"
      ]
     },
     "metadata": {},
     "output_type": "display_data"
    },
    {
     "data": {
      "text/plain": [
       "'die'"
      ]
     },
     "metadata": {},
     "output_type": "display_data"
    },
    {
     "data": {
      "text/plain": [
       "'nymaterie'"
      ]
     },
     "metadata": {},
     "output_type": "display_data"
    },
    {
     "data": {
      "text/plain": [
       "'sätzlich'"
      ]
     },
     "metadata": {},
     "output_type": "display_data"
    },
    {
     "data": {
      "text/plain": [
       "'nummaterie'"
      ]
     },
     "metadata": {},
     "output_type": "display_data"
    },
    {
     "data": {
      "text/plain": [
       "'ermermenlogeweste'"
      ]
     },
     "metadata": {},
     "output_type": "display_data"
    },
    {
     "data": {
      "text/plain": [
       "'bunt'"
      ]
     },
     "metadata": {},
     "output_type": "display_data"
    },
    {
     "data": {
      "text/plain": [
       "'handhaft'"
      ]
     },
     "metadata": {},
     "output_type": "display_data"
    },
    {
     "data": {
      "text/plain": [
       "'wee'"
      ]
     },
     "metadata": {},
     "output_type": "display_data"
    },
    {
     "data": {
      "text/plain": [
       "'die'"
      ]
     },
     "metadata": {},
     "output_type": "display_data"
    },
    {
     "data": {
      "text/plain": [
       "'vorgabe'"
      ]
     },
     "metadata": {},
     "output_type": "display_data"
    },
    {
     "data": {
      "text/plain": [
       "'und'"
      ]
     },
     "metadata": {},
     "output_type": "display_data"
    },
    {
     "data": {
      "text/plain": [
       "'funktionen'"
      ]
     },
     "metadata": {},
     "output_type": "display_data"
    },
    {
     "data": {
      "text/plain": [
       "'bund'"
      ]
     },
     "metadata": {},
     "output_type": "display_data"
    },
    {
     "data": {
      "text/plain": [
       "'wahrnehmt'"
      ]
     },
     "metadata": {},
     "output_type": "display_data"
    },
    {
     "data": {
      "text/plain": [
       "'und'"
      ]
     },
     "metadata": {},
     "output_type": "display_data"
    },
    {
     "data": {
      "text/plain": [
       "'mehcher'"
      ]
     },
     "metadata": {},
     "output_type": "display_data"
    },
    {
     "data": {
      "text/plain": [
       "'mit'"
      ]
     },
     "metadata": {},
     "output_type": "display_data"
    },
    {
     "data": {
      "text/plain": [
       "'haimsin'"
      ]
     },
     "metadata": {},
     "output_type": "display_data"
    },
    {
     "data": {
      "text/plain": [
       "'stuktie'"
      ]
     },
     "metadata": {},
     "output_type": "display_data"
    },
    {
     "data": {
      "text/plain": [
       "'pom'"
      ]
     },
     "metadata": {},
     "output_type": "display_data"
    },
    {
     "data": {
      "text/plain": [
       "'renarschlusseets'"
      ]
     },
     "metadata": {},
     "output_type": "display_data"
    },
    {
     "data": {
      "text/plain": [
       "'gabe'"
      ]
     },
     "metadata": {},
     "output_type": "display_data"
    },
    {
     "data": {
      "text/plain": [
       "'gomendes'"
      ]
     },
     "metadata": {},
     "output_type": "display_data"
    },
    {
     "data": {
      "text/plain": [
       "'im'"
      ]
     },
     "metadata": {},
     "output_type": "display_data"
    },
    {
     "data": {
      "text/plain": [
       "'frührlich'"
      ]
     },
     "metadata": {},
     "output_type": "display_data"
    },
    {
     "data": {
      "text/plain": [
       "'abe'"
      ]
     },
     "metadata": {},
     "output_type": "display_data"
    },
    {
     "data": {
      "text/plain": [
       "'nach'"
      ]
     },
     "metadata": {},
     "output_type": "display_data"
    },
    {
     "data": {
      "text/plain": [
       "'fortbon'"
      ]
     },
     "metadata": {},
     "output_type": "display_data"
    },
    {
     "data": {
      "text/plain": [
       "'hüttenbund'"
      ]
     },
     "metadata": {},
     "output_type": "display_data"
    },
    {
     "data": {
      "text/plain": [
       "'eim'"
      ]
     },
     "metadata": {},
     "output_type": "display_data"
    },
    {
     "data": {
      "text/plain": [
       "'vorabschitd'"
      ]
     },
     "metadata": {},
     "output_type": "display_data"
    },
    {
     "data": {
      "text/plain": [
       "'wird'"
      ]
     },
     "metadata": {},
     "output_type": "display_data"
    },
    {
     "data": {
      "text/plain": [
       "'wirds'"
      ]
     },
     "metadata": {},
     "output_type": "display_data"
    },
    {
     "data": {
      "text/plain": [
       "'relativ'"
      ]
     },
     "metadata": {},
     "output_type": "display_data"
    },
    {
     "data": {
      "text/plain": [
       "'knapp'"
      ]
     },
     "metadata": {},
     "output_type": "display_data"
    },
    {
     "data": {
      "text/plain": [
       "'mit'"
      ]
     },
     "metadata": {},
     "output_type": "display_data"
    },
    {
     "data": {
      "text/plain": [
       "'dem'"
      ]
     },
     "metadata": {},
     "output_type": "display_data"
    },
    {
     "data": {
      "text/plain": [
       "'zweierzwangs'"
      ]
     },
     "metadata": {},
     "output_type": "display_data"
    },
    {
     "data": {
      "text/plain": [
       "'ginosme'"
      ]
     },
     "metadata": {},
     "output_type": "display_data"
    },
    {
     "data": {
      "text/plain": [
       "'im'"
      ]
     },
     "metadata": {},
     "output_type": "display_data"
    },
    {
     "data": {
      "text/plain": [
       "'zweizwanzigen'"
      ]
     },
     "metadata": {},
     "output_type": "display_data"
    },
    {
     "data": {
      "text/plain": [
       "'bereits'"
      ]
     },
     "metadata": {},
     "output_type": "display_data"
    },
    {
     "data": {
      "text/plain": [
       "'im'"
      ]
     },
     "metadata": {},
     "output_type": "display_data"
    },
    {
     "data": {
      "text/plain": [
       "'cantonsratbinder'"
      ]
     },
     "metadata": {},
     "output_type": "display_data"
    },
    {
     "data": {
      "text/plain": [
       "'sind'"
      ]
     },
     "metadata": {},
     "output_type": "display_data"
    },
    {
     "data": {
      "text/plain": [
       "'un'"
      ]
     },
     "metadata": {},
     "output_type": "display_data"
    },
    {
     "data": {
      "text/plain": [
       "'dicahtlemozidiccent'"
      ]
     },
     "metadata": {},
     "output_type": "display_data"
    },
    {
     "data": {
      "text/plain": [
       "'die'"
      ]
     },
     "metadata": {},
     "output_type": "display_data"
    },
    {
     "data": {
      "text/plain": [
       "'sinder'"
      ]
     },
     "metadata": {},
     "output_type": "display_data"
    },
    {
     "data": {
      "text/plain": [
       "'bezogene'"
      ]
     },
     "metadata": {},
     "output_type": "display_data"
    },
    {
     "data": {
      "text/plain": [
       "'reperatig'"
      ]
     },
     "metadata": {},
     "output_type": "display_data"
    },
    {
     "data": {
      "text/plain": [
       "'ihr'"
      ]
     },
     "metadata": {},
     "output_type": "display_data"
    },
    {
     "data": {
      "text/plain": [
       "'tem'"
      ]
     },
     "metadata": {},
     "output_type": "display_data"
    },
    {
     "data": {
      "text/plain": [
       "'vortbehalten'"
      ]
     },
     "metadata": {},
     "output_type": "display_data"
    },
    {
     "data": {
      "text/plain": [
       "'rendem'"
      ]
     },
     "metadata": {},
     "output_type": "display_data"
    },
    {
     "data": {
      "text/plain": [
       "'conpontrat'"
      ]
     },
     "metadata": {},
     "output_type": "display_data"
    },
    {
     "data": {
      "text/plain": [
       "'indernich'"
      ]
     },
     "metadata": {},
     "output_type": "display_data"
    },
    {
     "data": {
      "text/plain": [
       "'stecentiuste'"
      ]
     },
     "metadata": {},
     "output_type": "display_data"
    },
    {
     "data": {
      "text/plain": [
       "'fahrtplan'"
      ]
     },
     "metadata": {},
     "output_type": "display_data"
    },
    {
     "data": {
      "text/plain": [
       "'spezi'"
      ]
     },
     "metadata": {},
     "output_type": "display_data"
    },
    {
     "data": {
      "text/plain": [
       "'rabbrackseite'"
      ]
     },
     "metadata": {},
     "output_type": "display_data"
    },
    {
     "data": {
      "text/plain": [
       "'wenn'"
      ]
     },
     "metadata": {},
     "output_type": "display_data"
    },
    {
     "data": {
      "text/plain": [
       "'mökockisch'"
      ]
     },
     "metadata": {},
     "output_type": "display_data"
    },
    {
     "data": {
      "text/plain": [
       "'oder'"
      ]
     },
     "metadata": {},
     "output_type": "display_data"
    },
    {
     "data": {
      "text/plain": [
       "'mökoccaro'"
      ]
     },
     "metadata": {},
     "output_type": "display_data"
    },
    {
     "data": {
      "text/plain": [
       "'sinnvolli'"
      ]
     },
     "metadata": {},
     "output_type": "display_data"
    },
    {
     "data": {
      "text/plain": [
       "'strenpen'"
      ]
     },
     "metadata": {},
     "output_type": "display_data"
    },
    {
     "data": {
      "text/plain": [
       "'sie'"
      ]
     },
     "metadata": {},
     "output_type": "display_data"
    },
    {
     "data": {
      "text/plain": [
       "'straßecksezenena'"
      ]
     },
     "metadata": {},
     "output_type": "display_data"
    },
    {
     "data": {
      "text/plain": [
       "'was'"
      ]
     },
     "metadata": {},
     "output_type": "display_data"
    },
    {
     "data": {
      "text/plain": [
       "'das'"
      ]
     },
     "metadata": {},
     "output_type": "display_data"
    },
    {
     "data": {
      "text/plain": [
       "'intruktionen'"
      ]
     },
     "metadata": {},
     "output_type": "display_data"
    },
    {
     "data": {
      "text/plain": [
       "'ofeen'"
      ]
     },
     "metadata": {},
     "output_type": "display_data"
    },
    {
     "data": {
      "text/plain": [
       "'wennetzte'"
      ]
     },
     "metadata": {},
     "output_type": "display_data"
    },
    {
     "data": {
      "text/plain": [
       "'kantonsrybop'"
      ]
     },
     "metadata": {},
     "output_type": "display_data"
    },
    {
     "data": {
      "text/plain": [
       "'rouv'"
      ]
     },
     "metadata": {},
     "output_type": "display_data"
    },
    {
     "data": {
      "text/plain": [
       "'namen'"
      ]
     },
     "metadata": {},
     "output_type": "display_data"
    },
    {
     "data": {
      "text/plain": [
       "'explizit'"
      ]
     },
     "metadata": {},
     "output_type": "display_data"
    },
    {
     "data": {
      "text/plain": [
       "'youvenon'"
      ]
     },
     "metadata": {},
     "output_type": "display_data"
    },
    {
     "data": {
      "text/plain": [
       "'von'"
      ]
     },
     "metadata": {},
     "output_type": "display_data"
    },
    {
     "data": {
      "text/plain": [
       "'t'"
      ]
     },
     "metadata": {},
     "output_type": "display_data"
    },
    {
     "data": {
      "text/plain": [
       "'velo'"
      ]
     },
     "metadata": {},
     "output_type": "display_data"
    },
    {
     "data": {
      "text/plain": [
       "'m'"
      ]
     },
     "metadata": {},
     "output_type": "display_data"
    },
    {
     "data": {
      "text/plain": [
       "'xet'"
      ]
     },
     "metadata": {},
     "output_type": "display_data"
    },
    {
     "data": {
      "text/plain": [
       "'beartragte'"
      ]
     },
     "metadata": {},
     "output_type": "display_data"
    },
    {
     "data": {
      "text/plain": [
       "'durch'"
      ]
     },
     "metadata": {},
     "output_type": "display_data"
    },
    {
     "data": {
      "text/plain": [
       "'das'"
      ]
     },
     "metadata": {},
     "output_type": "display_data"
    },
    {
     "data": {
      "text/plain": [
       "'minusrachten'"
      ]
     },
     "metadata": {},
     "output_type": "display_data"
    },
    {
     "data": {
      "text/plain": [
       "'soziollastigen'"
      ]
     },
     "metadata": {},
     "output_type": "display_data"
    },
    {
     "data": {
      "text/plain": [
       "'nauftragt'"
      ]
     },
     "metadata": {},
     "output_type": "display_data"
    },
    {
     "data": {
      "text/plain": [
       "'würsie'"
      ]
     },
     "metadata": {},
     "output_type": "display_data"
    },
    {
     "data": {
      "text/plain": [
       "'aber'"
      ]
     },
     "metadata": {},
     "output_type": "display_data"
    },
    {
     "data": {
      "text/plain": [
       "'bitte'"
      ]
     },
     "metadata": {},
     "output_type": "display_data"
    },
    {
     "data": {
      "text/plain": [
       "'der'"
      ]
     },
     "metadata": {},
     "output_type": "display_data"
    },
    {
     "data": {
      "text/plain": [
       "'atsläneweseid'"
      ]
     },
     "metadata": {},
     "output_type": "display_data"
    },
    {
     "data": {
      "text/plain": [
       "'relativem'"
      ]
     },
     "metadata": {},
     "output_type": "display_data"
    },
    {
     "data": {
      "text/plain": [
       "'trüben'"
      ]
     },
     "metadata": {},
     "output_type": "display_data"
    },
    {
     "data": {
      "text/plain": [
       "'inderfischet'"
      ]
     },
     "metadata": {},
     "output_type": "display_data"
    },
    {
     "data": {
      "text/plain": [
       "'das'"
      ]
     },
     "metadata": {},
     "output_type": "display_data"
    },
    {
     "data": {
      "text/plain": [
       "'marchd'"
      ]
     },
     "metadata": {},
     "output_type": "display_data"
    },
    {
     "data": {
      "text/plain": [
       "'casinvo'"
      ]
     },
     "metadata": {},
     "output_type": "display_data"
    },
    {
     "data": {
      "text/plain": [
       "'mencrinen'"
      ]
     },
     "metadata": {},
     "output_type": "display_data"
    },
    {
     "data": {
      "text/plain": [
       "'und'"
      ]
     },
     "metadata": {},
     "output_type": "display_data"
    },
    {
     "data": {
      "text/plain": [
       "'niedmoohosake'"
      ]
     },
     "metadata": {},
     "output_type": "display_data"
    },
    {
     "data": {
      "text/plain": [
       "'otuel'"
      ]
     },
     "metadata": {},
     "output_type": "display_data"
    },
    {
     "data": {
      "text/plain": [
       "'ird'"
      ]
     },
     "metadata": {},
     "output_type": "display_data"
    },
    {
     "data": {
      "text/plain": [
       "'mit'"
      ]
     },
     "metadata": {},
     "output_type": "display_data"
    },
    {
     "data": {
      "text/plain": [
       "'das'"
      ]
     },
     "metadata": {},
     "output_type": "display_data"
    },
    {
     "data": {
      "text/plain": [
       "'sxe'"
      ]
     },
     "metadata": {},
     "output_type": "display_data"
    },
    {
     "data": {
      "text/plain": [
       "'owir'"
      ]
     },
     "metadata": {},
     "output_type": "display_data"
    },
    {
     "data": {
      "text/plain": [
       "'die'"
      ]
     },
     "metadata": {},
     "output_type": "display_data"
    },
    {
     "data": {
      "text/plain": [
       "'bestämigeber'"
      ]
     },
     "metadata": {},
     "output_type": "display_data"
    },
    {
     "data": {
      "text/plain": [
       "'über'"
      ]
     },
     "metadata": {},
     "output_type": "display_data"
    },
    {
     "data": {
      "text/plain": [
       "'quelong'"
      ]
     },
     "metadata": {},
     "output_type": "display_data"
    },
    {
     "data": {
      "text/plain": [
       "'sinvhollriesis'"
      ]
     },
     "metadata": {},
     "output_type": "display_data"
    },
    {
     "data": {
      "text/plain": [
       "'straßteckselte'"
      ]
     },
     "metadata": {},
     "output_type": "display_data"
    },
    {
     "data": {
      "text/plain": [
       "'zenehehm'"
      ]
     },
     "metadata": {},
     "output_type": "display_data"
    },
    {
     "data": {
      "text/plain": [
       "'odr'"
      ]
     },
     "metadata": {},
     "output_type": "display_data"
    },
    {
     "data": {
      "text/plain": [
       "'sinnvoll'"
      ]
     },
     "metadata": {},
     "output_type": "display_data"
    },
    {
     "data": {
      "text/plain": [
       "'orieses'"
      ]
     },
     "metadata": {},
     "output_type": "display_data"
    },
    {
     "data": {
      "text/plain": [
       "'langsamn'"
      ]
     },
     "metadata": {},
     "output_type": "display_data"
    },
    {
     "data": {
      "text/plain": [
       "'vehärfssets'"
      ]
     },
     "metadata": {},
     "output_type": "display_data"
    },
    {
     "data": {
      "text/plain": [
       "'macht'"
      ]
     },
     "metadata": {},
     "output_type": "display_data"
    },
    {
     "data": {
      "text/plain": [
       "'aber'"
      ]
     },
     "metadata": {},
     "output_type": "display_data"
    },
    {
     "data": {
      "text/plain": [
       "'abangig'"
      ]
     },
     "metadata": {},
     "output_type": "display_data"
    },
    {
     "data": {
      "text/plain": [
       "'vor'"
      ]
     },
     "metadata": {},
     "output_type": "display_data"
    },
    {
     "data": {
      "text/plain": [
       "'te'"
      ]
     },
     "metadata": {},
     "output_type": "display_data"
    },
    {
     "data": {
      "text/plain": [
       "'bondesgretzgapig'"
      ]
     },
     "metadata": {},
     "output_type": "display_data"
    },
    {
     "data": {
      "text/plain": [
       "'eirnmürdigt'"
      ]
     },
     "metadata": {},
     "output_type": "display_data"
    },
    {
     "data": {
      "text/plain": [
       "'sie'"
      ]
     },
     "metadata": {},
     "output_type": "display_data"
    },
    {
     "data": {
      "text/plain": [
       "'bet'"
      ]
     },
     "metadata": {},
     "output_type": "display_data"
    },
    {
     "data": {
      "text/plain": [
       "'de'"
      ]
     },
     "metadata": {},
     "output_type": "display_data"
    },
    {
     "data": {
      "text/plain": [
       "'netz'"
      ]
     },
     "metadata": {},
     "output_type": "display_data"
    },
    {
     "data": {
      "text/plain": [
       "'mitdreifach'"
      ]
     },
     "metadata": {},
     "output_type": "display_data"
    },
    {
     "data": {
      "text/plain": [
       "'erendino'"
      ]
     },
     "metadata": {},
     "output_type": "display_data"
    },
    {
     "data": {
      "text/plain": [
       "'schnell'"
      ]
     },
     "metadata": {},
     "output_type": "display_data"
    },
    {
     "data": {
      "text/plain": [
       "'und'"
      ]
     },
     "metadata": {},
     "output_type": "display_data"
    },
    {
     "data": {
      "text/plain": [
       "'hypohal'"
      ]
     },
     "metadata": {},
     "output_type": "display_data"
    },
    {
     "data": {
      "text/plain": [
       "'eites'"
      ]
     },
     "metadata": {},
     "output_type": "display_data"
    },
    {
     "data": {
      "text/plain": [
       "'kret'"
      ]
     },
     "metadata": {},
     "output_type": "display_data"
    },
    {
     "data": {
      "text/plain": [
       "'senatur'"
      ]
     },
     "metadata": {},
     "output_type": "display_data"
    },
    {
     "data": {
      "text/plain": [
       "'und'"
      ]
     },
     "metadata": {},
     "output_type": "display_data"
    },
    {
     "data": {
      "text/plain": [
       "'der'"
      ]
     },
     "metadata": {},
     "output_type": "display_data"
    },
    {
     "data": {
      "text/plain": [
       "'biststr'"
      ]
     },
     "metadata": {},
     "output_type": "display_data"
    },
    {
     "data": {
      "text/plain": [
       "'stadt'"
      ]
     },
     "metadata": {},
     "output_type": "display_data"
    },
    {
     "data": {
      "text/plain": [
       "'duerwo'"
      ]
     },
     "metadata": {},
     "output_type": "display_data"
    },
    {
     "data": {
      "text/plain": [
       "'frirch'"
      ]
     },
     "metadata": {},
     "output_type": "display_data"
    },
    {
     "data": {
      "text/plain": [
       "'den'"
      ]
     },
     "metadata": {},
     "output_type": "display_data"
    },
    {
     "data": {
      "text/plain": [
       "'ondergrund'"
      ]
     },
     "metadata": {},
     "output_type": "display_data"
    },
    {
     "data": {
      "text/plain": [
       "'ab'"
      ]
     },
     "metadata": {},
     "output_type": "display_data"
    },
    {
     "data": {
      "text/plain": [
       "'langrede'"
      ]
     },
     "metadata": {},
     "output_type": "display_data"
    },
    {
     "data": {
      "text/plain": [
       "'kurze'"
      ]
     },
     "metadata": {},
     "output_type": "display_data"
    },
    {
     "data": {
      "text/plain": [
       "'sinne'"
      ]
     },
     "metadata": {},
     "output_type": "display_data"
    },
    {
     "data": {
      "text/plain": [
       "'sich'"
      ]
     },
     "metadata": {},
     "output_type": "display_data"
    },
    {
     "data": {
      "text/plain": [
       "'als'"
      ]
     },
     "metadata": {},
     "output_type": "display_data"
    },
    {
     "data": {
      "text/plain": [
       "'programm'"
      ]
     },
     "metadata": {},
     "output_type": "display_data"
    },
    {
     "data": {
      "text/plain": [
       "'das'"
      ]
     },
     "metadata": {},
     "output_type": "display_data"
    },
    {
     "data": {
      "text/plain": [
       "'gretsgabicx'"
      ]
     },
     "metadata": {},
     "output_type": "display_data"
    },
    {
     "data": {
      "text/plain": [
       "'programm'"
      ]
     },
     "metadata": {},
     "output_type": "display_data"
    },
    {
     "data": {
      "text/plain": [
       "'wo'"
      ]
     },
     "metadata": {},
     "output_type": "display_data"
    },
    {
     "data": {
      "text/plain": [
       "'orientierende'"
      ]
     },
     "metadata": {},
     "output_type": "display_data"
    },
    {
     "data": {
      "text/plain": [
       "'charakter'"
      ]
     },
     "metadata": {},
     "output_type": "display_data"
    },
    {
     "data": {
      "text/plain": [
       "'stuckrie'"
      ]
     },
     "metadata": {},
     "output_type": "display_data"
    },
    {
     "data": {
      "text/plain": [
       "'terheidungnambustrina'"
      ]
     },
     "metadata": {},
     "output_type": "display_data"
    },
    {
     "data": {
      "text/plain": [
       "'wennr'"
      ]
     },
     "metadata": {},
     "output_type": "display_data"
    },
    {
     "data": {
      "text/plain": [
       "'gründerführen'"
      ]
     },
     "metadata": {},
     "output_type": "display_data"
    },
    {
     "data": {
      "text/plain": [
       "'des'"
      ]
     },
     "metadata": {},
     "output_type": "display_data"
    },
    {
     "data": {
      "text/plain": [
       "'cabarasi'"
      ]
     },
     "metadata": {},
     "output_type": "display_data"
    },
    {
     "data": {
      "text/plain": [
       "'das'"
      ]
     },
     "metadata": {},
     "output_type": "display_data"
    },
    {
     "data": {
      "text/plain": [
       "'eiszes'"
      ]
     },
     "metadata": {},
     "output_type": "display_data"
    },
    {
     "data": {
      "text/plain": [
       "'rund'"
      ]
     },
     "metadata": {},
     "output_type": "display_data"
    },
    {
     "data": {
      "text/plain": [
       "'dem'"
      ]
     },
     "metadata": {},
     "output_type": "display_data"
    },
    {
     "data": {
      "text/plain": [
       "'rückblickend'"
      ]
     },
     "metadata": {},
     "output_type": "display_data"
    },
    {
     "data": {
      "text/plain": [
       "'racheschaf'"
      ]
     },
     "metadata": {},
     "output_type": "display_data"
    },
    {
     "data": {
      "text/plain": [
       "'daritrybrabka'"
      ]
     },
     "metadata": {},
     "output_type": "display_data"
    },
    {
     "data": {
      "text/plain": [
       "'das'"
      ]
     },
     "metadata": {},
     "output_type": "display_data"
    },
    {
     "data": {
      "text/plain": [
       "'razi'"
      ]
     },
     "metadata": {},
     "output_type": "display_data"
    },
    {
     "data": {
      "text/plain": [
       "'da'"
      ]
     },
     "metadata": {},
     "output_type": "display_data"
    },
    {
     "data": {
      "text/plain": [
       "'sientarhondorsits'"
      ]
     },
     "metadata": {},
     "output_type": "display_data"
    },
    {
     "data": {
      "text/plain": [
       "'nickel'"
      ]
     },
     "metadata": {},
     "output_type": "display_data"
    },
    {
     "data": {
      "text/plain": [
       "'kcnawedam'"
      ]
     },
     "metadata": {},
     "output_type": "display_data"
    },
    {
     "data": {
      "text/plain": [
       "'fartplon'"
      ]
     },
     "metadata": {},
     "output_type": "display_data"
    },
    {
     "data": {
      "text/plain": [
       "'hinrund'"
      ]
     },
     "metadata": {},
     "output_type": "display_data"
    },
    {
     "data": {
      "text/plain": [
       "'wenns'"
      ]
     },
     "metadata": {},
     "output_type": "display_data"
    },
    {
     "data": {
      "text/plain": [
       "'aber'"
      ]
     },
     "metadata": {},
     "output_type": "display_data"
    },
    {
     "data": {
      "text/plain": [
       "'gurt'"
      ]
     },
     "metadata": {},
     "output_type": "display_data"
    },
    {
     "data": {
      "text/plain": [
       "'degrüntet'"
      ]
     },
     "metadata": {},
     "output_type": "display_data"
    },
    {
     "data": {
      "text/plain": [
       "'rum'"
      ]
     },
     "metadata": {},
     "output_type": "display_data"
    },
    {
     "data": {
      "text/plain": [
       "'das'"
      ]
     },
     "metadata": {},
     "output_type": "display_data"
    },
    {
     "data": {
      "text/plain": [
       "'nitovaroisch'"
      ]
     },
     "metadata": {},
     "output_type": "display_data"
    },
    {
     "data": {
      "text/plain": [
       "'witeaimem'"
      ]
     },
     "metadata": {},
     "output_type": "display_data"
    },
    {
     "data": {
      "text/plain": [
       "'sinn'"
      ]
     },
     "metadata": {},
     "output_type": "display_data"
    },
    {
     "data": {
      "text/plain": [
       "'würde'"
      ]
     },
     "metadata": {},
     "output_type": "display_data"
    },
    {
     "data": {
      "text/plain": [
       "'voolterau'"
      ]
     },
     "metadata": {},
     "output_type": "display_data"
    },
    {
     "data": {
      "text/plain": [
       "'prordaktionrenlasti'"
      ]
     },
     "metadata": {},
     "output_type": "display_data"
    },
    {
     "data": {
      "text/plain": [
       "'gwenn'"
      ]
     },
     "metadata": {},
     "output_type": "display_data"
    },
    {
     "data": {
      "text/plain": [
       "'sie'"
      ]
     },
     "metadata": {},
     "output_type": "display_data"
    },
    {
     "data": {
      "text/plain": [
       "'wüllquentrib'"
      ]
     },
     "metadata": {},
     "output_type": "display_data"
    },
    {
     "data": {
      "text/plain": [
       "'abstimmen'"
      ]
     },
     "metadata": {},
     "output_type": "display_data"
    },
    {
     "data": {
      "text/plain": [
       "'dstels'"
      ]
     },
     "metadata": {},
     "output_type": "display_data"
    },
    {
     "data": {
      "text/plain": [
       "'venovarxes'"
      ]
     },
     "metadata": {},
     "output_type": "display_data"
    },
    {
     "data": {
      "text/plain": [
       "'oder'"
      ]
     },
     "metadata": {},
     "output_type": "display_data"
    },
    {
     "data": {
      "text/plain": [
       "'rasami'"
      ]
     },
     "metadata": {},
     "output_type": "display_data"
    },
    {
     "data": {
      "text/plain": [
       "'wissenan'"
      ]
     },
     "metadata": {},
     "output_type": "display_data"
    },
    {
     "data": {
      "text/plain": [
       "'edem'"
      ]
     },
     "metadata": {},
     "output_type": "display_data"
    },
    {
     "data": {
      "text/plain": [
       "'aulh'"
      ]
     },
     "metadata": {},
     "output_type": "display_data"
    },
    {
     "data": {
      "text/plain": [
       "'katcatythe'"
      ]
     },
     "metadata": {},
     "output_type": "display_data"
    },
    {
     "data": {
      "text/plain": [
       "'einem'"
      ]
     },
     "metadata": {},
     "output_type": "display_data"
    },
    {
     "data": {
      "text/plain": [
       "'dreinenhameder'"
      ]
     },
     "metadata": {},
     "output_type": "display_data"
    },
    {
     "data": {
      "text/plain": [
       "'vitier'"
      ]
     },
     "metadata": {},
     "output_type": "display_data"
    },
    {
     "data": {
      "text/plain": [
       "'dedatte'"
      ]
     },
     "metadata": {},
     "output_type": "display_data"
    },
    {
     "data": {
      "text/plain": [
       "'deede'"
      ]
     },
     "metadata": {},
     "output_type": "display_data"
    },
    {
     "data": {
      "text/plain": [
       "'artrok'"
      ]
     },
     "metadata": {},
     "output_type": "display_data"
    },
    {
     "data": {
      "text/plain": [
       "'abt'"
      ]
     },
     "metadata": {},
     "output_type": "display_data"
    },
    {
     "data": {
      "text/plain": [
       "'s'"
      ]
     },
     "metadata": {},
     "output_type": "display_data"
    },
    {
     "data": {
      "text/plain": [
       "'lehnen'"
      ]
     },
     "metadata": {},
     "output_type": "display_data"
    },
    {
     "data": {
      "text/plain": [
       "'was'"
      ]
     },
     "metadata": {},
     "output_type": "display_data"
    },
    {
     "data": {
      "text/plain": [
       "'nit'"
      ]
     },
     "metadata": {},
     "output_type": "display_data"
    },
    {
     "data": {
      "text/plain": [
       "'heißt'"
      ]
     },
     "metadata": {},
     "output_type": "display_data"
    },
    {
     "data": {
      "text/plain": [
       "'dass'"
      ]
     },
     "metadata": {},
     "output_type": "display_data"
    },
    {
     "data": {
      "text/plain": [
       "'mihr'"
      ]
     },
     "metadata": {},
     "output_type": "display_data"
    },
    {
     "data": {
      "text/plain": [
       "'nider'"
      ]
     },
     "metadata": {},
     "output_type": "display_data"
    },
    {
     "data": {
      "text/plain": [
       "'der'"
      ]
     },
     "metadata": {},
     "output_type": "display_data"
    },
    {
     "data": {
      "text/plain": [
       "'motere'"
      ]
     },
     "metadata": {},
     "output_type": "display_data"
    },
    {
     "data": {
      "text/plain": [
       "'dra'"
      ]
     },
     "metadata": {},
     "output_type": "display_data"
    },
    {
     "data": {
      "text/plain": [
       "'sind'"
      ]
     },
     "metadata": {},
     "output_type": "display_data"
    },
    {
     "data": {
      "text/plain": [
       "'wenden'"
      ]
     },
     "metadata": {},
     "output_type": "display_data"
    },
    {
     "data": {
      "text/plain": [
       "'da'"
      ]
     },
     "metadata": {},
     "output_type": "display_data"
    },
    {
     "data": {
      "text/plain": [
       "'bereits'"
      ]
     },
     "metadata": {},
     "output_type": "display_data"
    },
    {
     "data": {
      "text/plain": [
       "'eine'"
      ]
     },
     "metadata": {},
     "output_type": "display_data"
    },
    {
     "data": {
      "text/plain": [
       "'dia'"
      ]
     },
     "metadata": {},
     "output_type": "display_data"
    },
    {
     "data": {
      "text/plain": [
       "'langsam'"
      ]
     },
     "metadata": {},
     "output_type": "display_data"
    },
    {
     "data": {
      "text/plain": [
       "'veherstellen'"
      ]
     },
     "metadata": {},
     "output_type": "display_data"
    },
    {
     "data": {
      "text/plain": [
       "'wenn'"
      ]
     },
     "metadata": {},
     "output_type": "display_data"
    },
    {
     "data": {
      "text/plain": [
       "'ie'"
      ]
     },
     "metadata": {},
     "output_type": "display_data"
    },
    {
     "data": {
      "text/plain": [
       "'das'"
      ]
     },
     "metadata": {},
     "output_type": "display_data"
    },
    {
     "data": {
      "text/plain": [
       "'gattenew'"
      ]
     },
     "metadata": {},
     "output_type": "display_data"
    },
    {
     "data": {
      "text/plain": [
       "'informativ'"
      ]
     },
     "metadata": {},
     "output_type": "display_data"
    },
    {
     "data": {
      "text/plain": [
       "'durchsaal'"
      ]
     },
     "metadata": {},
     "output_type": "display_data"
    },
    {
     "data": {
      "text/plain": [
       "'die'"
      ]
     },
     "metadata": {},
     "output_type": "display_data"
    },
    {
     "data": {
      "text/plain": [
       "'langsam'"
      ]
     },
     "metadata": {},
     "output_type": "display_data"
    },
    {
     "data": {
      "text/plain": [
       "'prersteatzen'"
      ]
     },
     "metadata": {},
     "output_type": "display_data"
    },
    {
     "data": {
      "text/plain": [
       "'bou'"
      ]
     },
     "metadata": {},
     "output_type": "display_data"
    },
    {
     "data": {
      "text/plain": [
       "'deypartna'"
      ]
     },
     "metadata": {},
     "output_type": "display_data"
    },
    {
     "data": {
      "text/plain": [
       "'bu'"
      ]
     },
     "metadata": {},
     "output_type": "display_data"
    },
    {
     "data": {
      "text/plain": [
       "'deportemantner'"
      ]
     },
     "metadata": {},
     "output_type": "display_data"
    },
    {
     "data": {
      "text/plain": [
       "'memänder'"
      ]
     },
     "metadata": {},
     "output_type": "display_data"
    },
    {
     "data": {
      "text/plain": [
       "'bereits'"
      ]
     },
     "metadata": {},
     "output_type": "display_data"
    },
    {
     "data": {
      "text/plain": [
       "'was'"
      ]
     },
     "metadata": {},
     "output_type": "display_data"
    },
    {
     "data": {
      "text/plain": [
       "'mat'"
      ]
     },
     "metadata": {},
     "output_type": "display_data"
    },
    {
     "data": {
      "text/plain": [
       "'dehder'"
      ]
     },
     "metadata": {},
     "output_type": "display_data"
    },
    {
     "data": {
      "text/plain": [
       "'verwautigurganmacht'"
      ]
     },
     "metadata": {},
     "output_type": "display_data"
    },
    {
     "data": {
      "text/plain": [
       "'sctell'"
      ]
     },
     "metadata": {},
     "output_type": "display_data"
    },
    {
     "data": {
      "text/plain": [
       "'auch'"
      ]
     },
     "metadata": {},
     "output_type": "display_data"
    },
    {
     "data": {
      "text/plain": [
       "'eine'"
      ]
     },
     "metadata": {},
     "output_type": "display_data"
    },
    {
     "data": {
      "text/plain": [
       "'rufstokre'"
      ]
     },
     "metadata": {},
     "output_type": "display_data"
    },
    {
     "data": {
      "text/plain": [
       "'dass'"
      ]
     },
     "metadata": {},
     "output_type": "display_data"
    },
    {
     "data": {
      "text/plain": [
       "'mit'"
      ]
     },
     "metadata": {},
     "output_type": "display_data"
    },
    {
     "data": {
      "text/plain": [
       "'die'"
      ]
     },
     "metadata": {},
     "output_type": "display_data"
    },
    {
     "data": {
      "text/plain": [
       "'matedien'"
      ]
     },
     "metadata": {},
     "output_type": "display_data"
    },
    {
     "data": {
      "text/plain": [
       "'aber'"
      ]
     },
     "metadata": {},
     "output_type": "display_data"
    },
    {
     "data": {
      "text/plain": [
       "'nauu'"
      ]
     },
     "metadata": {},
     "output_type": "display_data"
    },
    {
     "data": {
      "text/plain": [
       "'seriös'"
      ]
     },
     "metadata": {},
     "output_type": "display_data"
    },
    {
     "data": {
      "text/plain": [
       "'und'"
      ]
     },
     "metadata": {},
     "output_type": "display_data"
    },
    {
     "data": {
      "text/plain": [
       "'nu'"
      ]
     },
     "metadata": {},
     "output_type": "display_data"
    },
    {
     "data": {
      "text/plain": [
       "'besseren'"
      ]
     },
     "metadata": {},
     "output_type": "display_data"
    },
    {
     "data": {
      "text/plain": [
       "'behandler'"
      ]
     },
     "metadata": {},
     "output_type": "display_data"
    },
    {
     "data": {
      "text/plain": [
       "'die'"
      ]
     },
     "metadata": {},
     "output_type": "display_data"
    },
    {
     "data": {
      "text/plain": [
       "'zur'"
      ]
     },
     "metadata": {},
     "output_type": "display_data"
    },
    {
     "data": {
      "text/plain": [
       "'eurkunft'"
      ]
     },
     "metadata": {},
     "output_type": "display_data"
    },
    {
     "data": {
      "text/plain": [
       "'dals'"
      ]
     },
     "metadata": {},
     "output_type": "display_data"
    },
    {
     "data": {
      "text/plain": [
       "'er'"
      ]
     },
     "metadata": {},
     "output_type": "display_data"
    },
    {
     "data": {
      "text/plain": [
       "'dorch'"
      ]
     },
     "metadata": {},
     "output_type": "display_data"
    },
    {
     "data": {
      "text/plain": [
       "'an'"
      ]
     },
     "metadata": {},
     "output_type": "display_data"
    },
    {
     "data": {
      "text/plain": [
       "'zieh'"
      ]
     },
     "metadata": {},
     "output_type": "display_data"
    },
    {
     "data": {
      "text/plain": [
       "'erworden'"
      ]
     },
     "metadata": {},
     "output_type": "display_data"
    },
    {
     "data": {
      "text/plain": [
       "'hat'"
      ]
     },
     "metadata": {},
     "output_type": "display_data"
    },
    {
     "data": {
      "text/plain": [
       "'das'"
      ]
     },
     "metadata": {},
     "output_type": "display_data"
    },
    {
     "data": {
      "text/plain": [
       "'m'"
      ]
     },
     "metadata": {},
     "output_type": "display_data"
    },
    {
     "data": {
      "text/plain": [
       "'nithnorabalot'"
      ]
     },
     "metadata": {},
     "output_type": "display_data"
    },
    {
     "data": {
      "text/plain": [
       "'pizar'"
      ]
     },
     "metadata": {},
     "output_type": "display_data"
    },
    {
     "data": {
      "text/plain": [
       "'gezumena'"
      ]
     },
     "metadata": {},
     "output_type": "display_data"
    },
    {
     "data": {
      "text/plain": [
       "'orgiered'"
      ]
     },
     "metadata": {},
     "output_type": "display_data"
    },
    {
     "data": {
      "text/plain": [
       "'aber'"
      ]
     },
     "metadata": {},
     "output_type": "display_data"
    },
    {
     "data": {
      "text/plain": [
       "'nur'"
      ]
     },
     "metadata": {},
     "output_type": "display_data"
    },
    {
     "data": {
      "text/plain": [
       "'einnig'"
      ]
     },
     "metadata": {},
     "output_type": "display_data"
    },
    {
     "data": {
      "text/plain": [
       "'das'"
      ]
     },
     "metadata": {},
     "output_type": "display_data"
    },
    {
     "data": {
      "text/plain": [
       "'sind'"
      ]
     },
     "metadata": {},
     "output_type": "display_data"
    },
    {
     "data": {
      "text/plain": [
       "'sehr'"
      ]
     },
     "metadata": {},
     "output_type": "display_data"
    },
    {
     "data": {
      "text/plain": [
       "'höherhe'"
      ]
     },
     "metadata": {},
     "output_type": "display_data"
    },
    {
     "data": {
      "text/plain": [
       "'erwarte'"
      ]
     },
     "metadata": {},
     "output_type": "display_data"
    },
    {
     "data": {
      "text/plain": [
       "'genomme'"
      ]
     },
     "metadata": {},
     "output_type": "display_data"
    },
    {
     "data": {
      "text/plain": [
       "'mit'"
      ]
     },
     "metadata": {},
     "output_type": "display_data"
    },
    {
     "data": {
      "text/plain": [
       "'deiner'"
      ]
     },
     "metadata": {},
     "output_type": "display_data"
    },
    {
     "data": {
      "text/plain": [
       "'wedermargähm'"
      ]
     },
     "metadata": {},
     "output_type": "display_data"
    },
    {
     "data": {
      "text/plain": [
       "'wen'"
      ]
     },
     "metadata": {},
     "output_type": "display_data"
    },
    {
     "data": {
      "text/plain": [
       "'mit'"
      ]
     },
     "metadata": {},
     "output_type": "display_data"
    },
    {
     "data": {
      "text/plain": [
       "'de'"
      ]
     },
     "metadata": {},
     "output_type": "display_data"
    },
    {
     "data": {
      "text/plain": [
       "'zerhmoghent'"
      ]
     },
     "metadata": {},
     "output_type": "display_data"
    },
    {
     "data": {
      "text/plain": [
       "'bielondeeigetümg'"
      ]
     },
     "metadata": {},
     "output_type": "display_data"
    },
    {
     "data": {
      "text/plain": [
       "'verhandel'"
      ]
     },
     "metadata": {},
     "output_type": "display_data"
    },
    {
     "data": {
      "text/plain": [
       "'und'"
      ]
     },
     "metadata": {},
     "output_type": "display_data"
    },
    {
     "data": {
      "text/plain": [
       "'sacetork'"
      ]
     },
     "metadata": {},
     "output_type": "display_data"
    },
    {
     "data": {
      "text/plain": [
       "'war'"
      ]
     },
     "metadata": {},
     "output_type": "display_data"
    },
    {
     "data": {
      "text/plain": [
       "'fal'"
      ]
     },
     "metadata": {},
     "output_type": "display_data"
    },
    {
     "data": {
      "text/plain": [
       "'di'"
      ]
     },
     "metadata": {},
     "output_type": "display_data"
    },
    {
     "data": {
      "text/plain": [
       "'ve'"
      ]
     },
     "metadata": {},
     "output_type": "display_data"
    },
    {
     "data": {
      "text/plain": [
       "'dam'"
      ]
     },
     "metadata": {},
     "output_type": "display_data"
    },
    {
     "data": {
      "text/plain": [
       "'menüer'"
      ]
     },
     "metadata": {},
     "output_type": "display_data"
    },
    {
     "data": {
      "text/plain": [
       "'velovagpur'"
      ]
     },
     "metadata": {},
     "output_type": "display_data"
    },
    {
     "data": {
      "text/plain": [
       "'befeinte'"
      ]
     },
     "metadata": {},
     "output_type": "display_data"
    },
    {
     "data": {
      "text/plain": [
       "'schwerigkeit'"
      ]
     },
     "metadata": {},
     "output_type": "display_data"
    },
    {
     "data": {
      "text/plain": [
       "'dartes'"
      ]
     },
     "metadata": {},
     "output_type": "display_data"
    },
    {
     "data": {
      "text/plain": [
       "'defizit'"
      ]
     },
     "metadata": {},
     "output_type": "display_data"
    },
    {
     "data": {
      "text/plain": [
       "'mit'"
      ]
     },
     "metadata": {},
     "output_type": "display_data"
    },
    {
     "data": {
      "text/plain": [
       "'unterschätzet'"
      ]
     },
     "metadata": {},
     "output_type": "display_data"
    },
    {
     "data": {
      "text/plain": [
       "'dass'"
      ]
     },
     "metadata": {},
     "output_type": "display_data"
    },
    {
     "data": {
      "text/plain": [
       "'das'"
      ]
     },
     "metadata": {},
     "output_type": "display_data"
    },
    {
     "data": {
      "text/plain": [
       "'nechztzu'"
      ]
     },
     "metadata": {},
     "output_type": "display_data"
    },
    {
     "data": {
      "text/plain": [
       "'wehifach'"
      ]
     },
     "metadata": {},
     "output_type": "display_data"
    },
    {
     "data": {
      "text/plain": [
       "'wirt'"
      ]
     },
     "metadata": {},
     "output_type": "display_data"
    },
    {
     "data": {
      "text/plain": [
       "'zieht'"
      ]
     },
     "metadata": {},
     "output_type": "display_data"
    },
    {
     "data": {
      "text/plain": [
       "'der'"
      ]
     },
     "metadata": {},
     "output_type": "display_data"
    },
    {
     "data": {
      "text/plain": [
       "'flechgortnun'"
      ]
     },
     "metadata": {},
     "output_type": "display_data"
    },
    {
     "data": {
      "text/plain": [
       "'stellvertratend'"
      ]
     },
     "metadata": {},
     "output_type": "display_data"
    },
    {
     "data": {
      "text/plain": [
       "'an'"
      ]
     },
     "metadata": {},
     "output_type": "display_data"
    },
    {
     "data": {
      "text/plain": [
       "'nacht'"
      ]
     },
     "metadata": {},
     "output_type": "display_data"
    },
    {
     "data": {
      "text/plain": [
       "'prufdrucgebehrofe'"
      ]
     },
     "metadata": {},
     "output_type": "display_data"
    },
    {
     "data": {
      "text/plain": [
       "'der'"
      ]
     },
     "metadata": {},
     "output_type": "display_data"
    },
    {
     "data": {
      "text/plain": [
       "'sicherheitsberachter'"
      ]
     },
     "metadata": {},
     "output_type": "display_data"
    },
    {
     "data": {
      "text/plain": [
       "'d'"
      ]
     },
     "metadata": {},
     "output_type": "display_data"
    },
    {
     "data": {
      "text/plain": [
       "'transparant'"
      ]
     },
     "metadata": {},
     "output_type": "display_data"
    },
    {
     "data": {
      "text/plain": [
       "'säszischs'"
      ]
     },
     "metadata": {},
     "output_type": "display_data"
    },
    {
     "data": {
      "text/plain": [
       "'dormsätsige'"
      ]
     },
     "metadata": {},
     "output_type": "display_data"
    },
    {
     "data": {
      "text/plain": [
       "'der'"
      ]
     },
     "metadata": {},
     "output_type": "display_data"
    },
    {
     "data": {
      "text/plain": [
       "'verwaltigsinternen'"
      ]
     },
     "metadata": {},
     "output_type": "display_data"
    },
    {
     "data": {
      "text/plain": [
       "'mibrichts'"
      ]
     },
     "metadata": {},
     "output_type": "display_data"
    },
    {
     "data": {
      "text/plain": [
       "'verfahren'"
      ]
     },
     "metadata": {},
     "output_type": "display_data"
    },
    {
     "data": {
      "text/plain": [
       "'im'"
      ]
     },
     "metadata": {},
     "output_type": "display_data"
    },
    {
     "data": {
      "text/plain": [
       "'frührebährm'"
      ]
     },
     "metadata": {},
     "output_type": "display_data"
    },
    {
     "data": {
      "text/plain": [
       "'end'"
      ]
     },
     "metadata": {},
     "output_type": "display_data"
    },
    {
     "data": {
      "text/plain": [
       "'mit'"
      ]
     },
     "metadata": {},
     "output_type": "display_data"
    },
    {
     "data": {
      "text/plain": [
       "'der'"
      ]
     },
     "metadata": {},
     "output_type": "display_data"
    },
    {
     "data": {
      "text/plain": [
       "'namelate'"
      ]
     },
     "metadata": {},
     "output_type": "display_data"
    },
    {
     "data": {
      "text/plain": [
       "'gusega'"
      ]
     },
     "metadata": {},
     "output_type": "display_data"
    },
    {
     "data": {
      "text/plain": [
       "'untr'"
      ]
     },
     "metadata": {},
     "output_type": "display_data"
    },
    {
     "data": {
      "text/plain": [
       "'wird'"
      ]
     },
     "metadata": {},
     "output_type": "display_data"
    },
    {
     "data": {
      "text/plain": [
       "'das'"
      ]
     },
     "metadata": {},
     "output_type": "display_data"
    },
    {
     "data": {
      "text/plain": [
       "'im'"
      ]
     },
     "metadata": {},
     "output_type": "display_data"
    },
    {
     "data": {
      "text/plain": [
       "'ferlaf'"
      ]
     },
     "metadata": {},
     "output_type": "display_data"
    },
    {
     "data": {
      "text/plain": [
       "'vom'"
      ]
     },
     "metadata": {},
     "output_type": "display_data"
    },
    {
     "data": {
      "text/plain": [
       "'herbströn'"
      ]
     },
     "metadata": {},
     "output_type": "display_data"
    },
    {
     "data": {
      "text/plain": [
       "'we'"
      ]
     },
     "metadata": {},
     "output_type": "display_data"
    },
    {
     "data": {
      "text/plain": [
       "'canton'"
      ]
     },
     "metadata": {},
     "output_type": "display_data"
    },
    {
     "data": {
      "text/plain": [
       "'snatiur'"
      ]
     },
     "metadata": {},
     "output_type": "display_data"
    },
    {
     "data": {
      "text/plain": [
       "'geleitet'"
      ]
     },
     "metadata": {},
     "output_type": "display_data"
    },
    {
     "data": {
      "text/plain": [
       "'warsie'"
      ]
     },
     "metadata": {},
     "output_type": "display_data"
    },
    {
     "data": {
      "text/plain": [
       "'dürfe'"
      ]
     },
     "metadata": {},
     "output_type": "display_data"
    },
    {
     "data": {
      "text/plain": [
       "'jonycont'"
      ]
     },
     "metadata": {},
     "output_type": "display_data"
    },
    {
     "data": {
      "text/plain": [
       "'so'"
      ]
     },
     "metadata": {},
     "output_type": "display_data"
    },
    {
     "data": {
      "text/plain": [
       "'untershätzend'"
      ]
     },
     "metadata": {},
     "output_type": "display_data"
    },
    {
     "data": {
      "text/plain": [
       "'oder'"
      ]
     },
     "metadata": {},
     "output_type": "display_data"
    },
    {
     "data": {
      "text/plain": [
       "'die'"
      ]
     },
     "metadata": {},
     "output_type": "display_data"
    },
    {
     "data": {
      "text/plain": [
       "'cisponnen'"
      ]
     },
     "metadata": {},
     "output_type": "display_data"
    },
    {
     "data": {
      "text/plain": [
       "'au'"
      ]
     },
     "metadata": {},
     "output_type": "display_data"
    },
    {
     "data": {
      "text/plain": [
       "'mehn'"
      ]
     },
     "metadata": {},
     "output_type": "display_data"
    },
    {
     "data": {
      "text/plain": [
       "'der'"
      ]
     },
     "metadata": {},
     "output_type": "display_data"
    },
    {
     "data": {
      "text/plain": [
       "'prozess'"
      ]
     },
     "metadata": {},
     "output_type": "display_data"
    },
    {
     "data": {
      "text/plain": [
       "'sossitzkal'"
      ]
     },
     "metadata": {},
     "output_type": "display_data"
    },
    {
     "data": {
      "text/plain": [
       "'tegitt'"
      ]
     },
     "metadata": {},
     "output_type": "display_data"
    },
    {
     "data": {
      "text/plain": [
       "'beschwader'"
      ]
     },
     "metadata": {},
     "output_type": "display_data"
    },
    {
     "data": {
      "text/plain": [
       "'fürdrer'"
      ]
     },
     "metadata": {},
     "output_type": "display_data"
    },
    {
     "data": {
      "text/plain": [
       "'oder'"
      ]
     },
     "metadata": {},
     "output_type": "display_data"
    },
    {
     "data": {
      "text/plain": [
       "'hrici'"
      ]
     },
     "metadata": {},
     "output_type": "display_data"
    },
    {
     "data": {
      "text/plain": [
       "'lythentas'"
      ]
     },
     "metadata": {},
     "output_type": "display_data"
    },
    {
     "data": {
      "text/plain": [
       "'vorbondesgericht'"
      ]
     },
     "metadata": {},
     "output_type": "display_data"
    },
    {
     "data": {
      "text/plain": [
       "'sorgenund'"
      ]
     },
     "metadata": {},
     "output_type": "display_data"
    },
    {
     "data": {
      "text/plain": [
       "'zweier'"
      ]
     },
     "metadata": {},
     "output_type": "display_data"
    },
    {
     "data": {
      "text/plain": [
       "'langferzöugern'"
      ]
     },
     "metadata": {},
     "output_type": "display_data"
    },
    {
     "data": {
      "text/plain": [
       "'nettrig'"
      ]
     },
     "metadata": {},
     "output_type": "display_data"
    },
    {
     "data": {
      "text/plain": [
       "'jerigxsrat'"
      ]
     },
     "metadata": {},
     "output_type": "display_data"
    },
    {
     "data": {
      "text/plain": [
       "'das'"
      ]
     },
     "metadata": {},
     "output_type": "display_data"
    },
    {
     "data": {
      "text/plain": [
       "'sich'"
      ]
     },
     "metadata": {},
     "output_type": "display_data"
    },
    {
     "data": {
      "text/plain": [
       "'durch'"
      ]
     },
     "metadata": {},
     "output_type": "display_data"
    },
    {
     "data": {
      "text/plain": [
       "'beschwader'"
      ]
     },
     "metadata": {},
     "output_type": "display_data"
    },
    {
     "data": {
      "text/plain": [
       "'verzögert'"
      ]
     },
     "metadata": {},
     "output_type": "display_data"
    },
    {
     "data": {
      "text/plain": [
       "'wurde'"
      ]
     },
     "metadata": {},
     "output_type": "display_data"
    },
    {
     "data": {
      "text/plain": [
       "'die'"
      ]
     },
     "metadata": {},
     "output_type": "display_data"
    },
    {
     "data": {
      "text/plain": [
       "'schetz'"
      ]
     },
     "metadata": {},
     "output_type": "display_data"
    },
    {
     "data": {
      "text/plain": [
       "'kanz'"
      ]
     },
     "metadata": {},
     "output_type": "display_data"
    },
    {
     "data": {
      "text/plain": [
       "'im'"
      ]
     },
     "metadata": {},
     "output_type": "display_data"
    },
    {
     "data": {
      "text/plain": [
       "'denune'"
      ]
     },
     "metadata": {},
     "output_type": "display_data"
    },
    {
     "data": {
      "text/plain": [
       "'gebodtete'"
      ]
     },
     "metadata": {},
     "output_type": "display_data"
    },
    {
     "data": {
      "text/plain": [
       "'pun'"
      ]
     },
     "metadata": {},
     "output_type": "display_data"
    },
    {
     "data": {
      "text/plain": [
       "'gor'"
      ]
     },
     "metadata": {},
     "output_type": "display_data"
    },
    {
     "data": {
      "text/plain": [
       "'kyswote'"
      ]
     },
     "metadata": {},
     "output_type": "display_data"
    },
    {
     "data": {
      "text/plain": [
       "'des'"
      ]
     },
     "metadata": {},
     "output_type": "display_data"
    },
    {
     "data": {
      "text/plain": [
       "'werden'"
      ]
     },
     "metadata": {},
     "output_type": "display_data"
    },
    {
     "data": {
      "text/plain": [
       "'dumkgesetzt'"
      ]
     },
     "metadata": {},
     "output_type": "display_data"
    },
    {
     "data": {
      "text/plain": [
       "'aber'"
      ]
     },
     "metadata": {},
     "output_type": "display_data"
    },
    {
     "data": {
      "text/plain": [
       "'mit'"
      ]
     },
     "metadata": {},
     "output_type": "display_data"
    },
    {
     "data": {
      "text/plain": [
       "'dem'"
      ]
     },
     "metadata": {},
     "output_type": "display_data"
    },
    {
     "data": {
      "text/plain": [
       "'valdix'"
      ]
     },
     "metadata": {},
     "output_type": "display_data"
    },
    {
     "data": {
      "text/plain": [
       "'inteinem'"
      ]
     },
     "metadata": {},
     "output_type": "display_data"
    },
    {
     "data": {
      "text/plain": [
       "'mitbrigszfahrer'"
      ]
     },
     "metadata": {},
     "output_type": "display_data"
    },
    {
     "data": {
      "text/plain": [
       "'für'"
      ]
     },
     "metadata": {},
     "output_type": "display_data"
    },
    {
     "data": {
      "text/plain": [
       "'namahalfs'"
      ]
     },
     "metadata": {},
     "output_type": "display_data"
    },
    {
     "data": {
      "text/plain": [
       "'cixofahrer'"
      ]
     },
     "metadata": {},
     "output_type": "display_data"
    },
    {
     "data": {
      "text/plain": [
       "'kommissionsberatigungd'"
      ]
     },
     "metadata": {},
     "output_type": "display_data"
    },
    {
     "data": {
      "text/plain": [
       "'dekantonsrat'"
      ]
     },
     "metadata": {},
     "output_type": "display_data"
    },
    {
     "data": {
      "text/plain": [
       "'bruchs'"
      ]
     },
     "metadata": {},
     "output_type": "display_data"
    },
    {
     "data": {
      "text/plain": [
       "'torth'"
      ]
     },
     "metadata": {},
     "output_type": "display_data"
    },
    {
     "data": {
      "text/plain": [
       "'abarmonnet'"
      ]
     },
     "metadata": {},
     "output_type": "display_data"
    },
    {
     "data": {
      "text/plain": [
       "'aber'"
      ]
     },
     "metadata": {},
     "output_type": "display_data"
    },
    {
     "data": {
      "text/plain": [
       "'veseit'"
      ]
     },
     "metadata": {},
     "output_type": "display_data"
    },
    {
     "data": {
      "text/plain": [
       "'es'"
      ]
     },
     "metadata": {},
     "output_type": "display_data"
    },
    {
     "data": {
      "text/plain": [
       "'wird'"
      ]
     },
     "metadata": {},
     "output_type": "display_data"
    },
    {
     "data": {
      "text/plain": [
       "'dals'"
      ]
     },
     "metadata": {},
     "output_type": "display_data"
    },
    {
     "data": {
      "text/plain": [
       "'er'"
      ]
     },
     "metadata": {},
     "output_type": "display_data"
    },
    {
     "data": {
      "text/plain": [
       "'mortmaßlich'"
      ]
     },
     "metadata": {},
     "output_type": "display_data"
    },
    {
     "data": {
      "text/plain": [
       "'die'"
      ]
     },
     "metadata": {},
     "output_type": "display_data"
    },
    {
     "data": {
      "text/plain": [
       "'kantounser'"
      ]
     },
     "metadata": {},
     "output_type": "display_data"
    },
    {
     "data": {
      "text/plain": [
       "'preccecjhetste'"
      ]
     },
     "metadata": {},
     "output_type": "display_data"
    },
    {
     "data": {
      "text/plain": [
       "'cantonswai'"
      ]
     },
     "metadata": {},
     "output_type": "display_data"
    },
    {
     "data": {
      "text/plain": [
       "'popisch'"
      ]
     },
     "metadata": {},
     "output_type": "display_data"
    },
    {
     "data": {
      "text/plain": [
       "'interpretiere'"
      ]
     },
     "metadata": {},
     "output_type": "display_data"
    },
    {
     "data": {
      "text/plain": [
       "'die'"
      ]
     },
     "metadata": {},
     "output_type": "display_data"
    },
    {
     "data": {
      "text/plain": [
       "'artag'"
      ]
     },
     "metadata": {},
     "output_type": "display_data"
    },
    {
     "data": {
      "text/plain": [
       "'als'"
      ]
     },
     "metadata": {},
     "output_type": "display_data"
    },
    {
     "data": {
      "text/plain": [
       "'ein'"
      ]
     },
     "metadata": {},
     "output_type": "display_data"
    },
    {
     "data": {
      "text/plain": [
       "'auftrock'"
      ]
     },
     "metadata": {},
     "output_type": "display_data"
    },
    {
     "data": {
      "text/plain": [
       "'für'"
      ]
     },
     "metadata": {},
     "output_type": "display_data"
    },
    {
     "data": {
      "text/plain": [
       "'den'"
      ]
     },
     "metadata": {},
     "output_type": "display_data"
    },
    {
     "data": {
      "text/plain": [
       "'gründegeführen'"
      ]
     },
     "metadata": {},
     "output_type": "display_data"
    },
    {
     "data": {
      "text/plain": [
       "'ställe'"
      ]
     },
     "metadata": {},
     "output_type": "display_data"
    },
    {
     "data": {
      "text/plain": [
       "'vom'"
      ]
     },
     "metadata": {},
     "output_type": "display_data"
    },
    {
     "data": {
      "text/plain": [
       "'revellerwarke'"
      ]
     },
     "metadata": {},
     "output_type": "display_data"
    },
    {
     "data": {
      "text/plain": [
       "'setz'"
      ]
     },
     "metadata": {},
     "output_type": "display_data"
    },
    {
     "data": {
      "text/plain": [
       "'sich'"
      ]
     },
     "metadata": {},
     "output_type": "display_data"
    },
    {
     "data": {
      "text/plain": [
       "'dass'"
      ]
     },
     "metadata": {},
     "output_type": "display_data"
    },
    {
     "data": {
      "text/plain": [
       "'sie'"
      ]
     },
     "metadata": {},
     "output_type": "display_data"
    },
    {
     "data": {
      "text/plain": [
       "'iem'"
      ]
     },
     "metadata": {},
     "output_type": "display_data"
    },
    {
     "data": {
      "text/plain": [
       "'sinnadann'"
      ]
     },
     "metadata": {},
     "output_type": "display_data"
    },
    {
     "data": {
      "text/plain": [
       "'verlehzen'"
      ]
     },
     "metadata": {},
     "output_type": "display_data"
    },
    {
     "data": {
      "text/plain": [
       "'größte'"
      ]
     },
     "metadata": {},
     "output_type": "display_data"
    },
    {
     "data": {
      "text/plain": [
       "'rraunwortjoseit'"
      ]
     },
     "metadata": {},
     "output_type": "display_data"
    },
    {
     "data": {
      "text/plain": [
       "'s'"
      ]
     },
     "metadata": {},
     "output_type": "display_data"
    },
    {
     "data": {
      "text/plain": [
       "'rer'"
      ]
     },
     "metadata": {},
     "output_type": "display_data"
    },
    {
     "data": {
      "text/plain": [
       "'präsidentschätzt'"
      ]
     },
     "metadata": {},
     "output_type": "display_data"
    },
    {
     "data": {
      "text/plain": [
       "'die'"
      ]
     },
     "metadata": {},
     "output_type": "display_data"
    },
    {
     "data": {
      "text/plain": [
       "'kolleginnen'"
      ]
     },
     "metadata": {},
     "output_type": "display_data"
    },
    {
     "data": {
      "text/plain": [
       "'und'"
      ]
     },
     "metadata": {},
     "output_type": "display_data"
    },
    {
     "data": {
      "text/plain": [
       "'kollege'"
      ]
     },
     "metadata": {},
     "output_type": "display_data"
    },
    {
     "data": {
      "text/plain": [
       "'neihts'"
      ]
     },
     "metadata": {},
     "output_type": "display_data"
    },
    {
     "data": {
      "text/plain": [
       "'schnück'"
      ]
     },
     "metadata": {},
     "output_type": "display_data"
    },
    {
     "data": {
      "text/plain": [
       "'aum'"
      ]
     },
     "metadata": {},
     "output_type": "display_data"
    },
    {
     "data": {
      "text/plain": [
       "'zu'"
      ]
     },
     "metadata": {},
     "output_type": "display_data"
    },
    {
     "data": {
      "text/plain": [
       "'sorch'"
      ]
     },
     "metadata": {},
     "output_type": "display_data"
    },
    {
     "data": {
      "text/plain": [
       "'miczflichtnahmversuche'"
      ]
     },
     "metadata": {},
     "output_type": "display_data"
    },
    {
     "data": {
      "text/plain": [
       "'präzisiere'"
      ]
     },
     "metadata": {},
     "output_type": "display_data"
    },
    {
     "data": {
      "text/plain": [
       "'übergrundsatzlich'"
      ]
     },
     "metadata": {},
     "output_type": "display_data"
    },
    {
     "data": {
      "text/plain": [
       "'gauten'"
      ]
     },
     "metadata": {},
     "output_type": "display_data"
    },
    {
     "data": {
      "text/plain": [
       "'und'"
      ]
     },
     "metadata": {},
     "output_type": "display_data"
    },
    {
     "data": {
      "text/plain": [
       "'die'"
      ]
     },
     "metadata": {},
     "output_type": "display_data"
    },
    {
     "data": {
      "text/plain": [
       "'emotion'"
      ]
     },
     "metadata": {},
     "output_type": "display_data"
    },
    {
     "data": {
      "text/plain": [
       "'m'"
      ]
     },
     "metadata": {},
     "output_type": "display_data"
    },
    {
     "data": {
      "text/plain": [
       "'acht'"
      ]
     },
     "metadata": {},
     "output_type": "display_data"
    },
    {
     "data": {
      "text/plain": [
       "'zairnhünzer'"
      ]
     },
     "metadata": {},
     "output_type": "display_data"
    },
    {
     "data": {
      "text/plain": [
       "'und'"
      ]
     },
     "metadata": {},
     "output_type": "display_data"
    },
    {
     "data": {
      "text/plain": [
       "'derermotionen'"
      ]
     },
     "metadata": {},
     "output_type": "display_data"
    },
    {
     "data": {
      "text/plain": [
       "'grat'"
      ]
     },
     "metadata": {},
     "output_type": "display_data"
    },
    {
     "data": {
      "text/plain": [
       "'zum'"
      ]
     },
     "metadata": {},
     "output_type": "display_data"
    },
    {
     "data": {
      "text/plain": [
       "'financieri'"
      ]
     },
     "metadata": {},
     "output_type": "display_data"
    },
    {
     "data": {
      "text/plain": [
       "'ga'"
      ]
     },
     "metadata": {},
     "output_type": "display_data"
    },
    {
     "data": {
      "text/plain": [
       "'sasgar'"
      ]
     },
     "metadata": {},
     "output_type": "display_data"
    },
    {
     "data": {
      "text/plain": [
       "'nonik'"
      ]
     },
     "metadata": {},
     "output_type": "display_data"
    },
    {
     "data": {
      "text/plain": [
       "'drom'"
      ]
     },
     "metadata": {},
     "output_type": "display_data"
    },
    {
     "data": {
      "text/plain": [
       "'das'"
      ]
     },
     "metadata": {},
     "output_type": "display_data"
    },
    {
     "data": {
      "text/plain": [
       "'manizagt'"
      ]
     },
     "metadata": {},
     "output_type": "display_data"
    },
    {
     "data": {
      "text/plain": [
       "'wurde'"
      ]
     },
     "metadata": {},
     "output_type": "display_data"
    },
    {
     "data": {
      "text/plain": [
       "'randwar'"
      ]
     },
     "metadata": {},
     "output_type": "display_data"
    },
    {
     "data": {
      "text/plain": [
       "'adha'"
      ]
     },
     "metadata": {},
     "output_type": "display_data"
    },
    {
     "data": {
      "text/plain": [
       "'wellowerak'"
      ]
     },
     "metadata": {},
     "output_type": "display_data"
    },
    {
     "data": {
      "text/plain": [
       "'anduregard'"
      ]
     },
     "metadata": {},
     "output_type": "display_data"
    },
    {
     "data": {
      "text/plain": [
       "'und'"
      ]
     },
     "metadata": {},
     "output_type": "display_data"
    },
    {
     "data": {
      "text/plain": [
       "'sgortnaniko'"
      ]
     },
     "metadata": {},
     "output_type": "display_data"
    },
    {
     "data": {
      "text/plain": [
       "'mentar'"
      ]
     },
     "metadata": {},
     "output_type": "display_data"
    },
    {
     "data": {
      "text/plain": [
       "'chnikenandalisc'"
      ]
     },
     "metadata": {},
     "output_type": "display_data"
    },
    {
     "data": {
      "text/plain": [
       "'schwieriger'"
      ]
     },
     "metadata": {},
     "output_type": "display_data"
    },
    {
     "data": {
      "text/plain": [
       "'sache'"
      ]
     },
     "metadata": {},
     "output_type": "display_data"
    },
    {
     "data": {
      "text/plain": [
       "'sondern'"
      ]
     },
     "metadata": {},
     "output_type": "display_data"
    },
    {
     "data": {
      "text/plain": [
       "'skat'"
      ]
     },
     "metadata": {},
     "output_type": "display_data"
    },
    {
     "data": {
      "text/plain": [
       "'drom'"
      ]
     },
     "metadata": {},
     "output_type": "display_data"
    },
    {
     "data": {
      "text/plain": [
       "'dass'"
      ]
     },
     "metadata": {},
     "output_type": "display_data"
    },
    {
     "data": {
      "text/plain": [
       "'die'"
      ]
     },
     "metadata": {},
     "output_type": "display_data"
    },
    {
     "data": {
      "text/plain": [
       "'finanzieerigfor'"
      ]
     },
     "metadata": {},
     "output_type": "display_data"
    },
    {
     "data": {
      "text/plain": [
       "'einen'"
      ]
     },
     "metadata": {},
     "output_type": "display_data"
    },
    {
     "data": {
      "text/plain": [
       "'hufkörper'"
      ]
     },
     "metadata": {},
     "output_type": "display_data"
    },
    {
     "data": {
      "text/plain": [
       "'war'"
      ]
     },
     "metadata": {},
     "output_type": "display_data"
    },
    {
     "data": {
      "text/plain": [
       "'er'"
      ]
     },
     "metadata": {},
     "output_type": "display_data"
    },
    {
     "data": {
      "text/plain": [
       "'mit'"
      ]
     },
     "metadata": {},
     "output_type": "display_data"
    },
    {
     "data": {
      "text/plain": [
       "'dem'"
      ]
     },
     "metadata": {},
     "output_type": "display_data"
    },
    {
     "data": {
      "text/plain": [
       "'national'"
      ]
     },
     "metadata": {},
     "output_type": "display_data"
    },
    {
     "data": {
      "text/plain": [
       "'eceeswetcole'"
      ]
     },
     "metadata": {},
     "output_type": "display_data"
    },
    {
     "data": {
      "text/plain": [
       "'das'"
      ]
     },
     "metadata": {},
     "output_type": "display_data"
    },
    {
     "data": {
      "text/plain": [
       "'mit'"
      ]
     },
     "metadata": {},
     "output_type": "display_data"
    },
    {
     "data": {
      "text/plain": [
       "'ihrem'"
      ]
     },
     "metadata": {},
     "output_type": "display_data"
    },
    {
     "data": {
      "text/plain": [
       "'counto'"
      ]
     },
     "metadata": {},
     "output_type": "display_data"
    },
    {
     "data": {
      "text/plain": [
       "'schwiz'"
      ]
     },
     "metadata": {},
     "output_type": "display_data"
    },
    {
     "data": {
      "text/plain": [
       "'sicher'"
      ]
     },
     "metadata": {},
     "output_type": "display_data"
    },
    {
     "data": {
      "text/plain": [
       "'stelltan'"
      ]
     },
     "metadata": {},
     "output_type": "display_data"
    },
    {
     "data": {
      "text/plain": [
       "'dass'"
      ]
     },
     "metadata": {},
     "output_type": "display_data"
    },
    {
     "data": {
      "text/plain": [
       "'sich'"
      ]
     },
     "metadata": {},
     "output_type": "display_data"
    },
    {
     "data": {
      "text/plain": [
       "'eigentlich'"
      ]
     },
     "metadata": {},
     "output_type": "display_data"
    },
    {
     "data": {
      "text/plain": [
       "'ter'"
      ]
     },
     "metadata": {},
     "output_type": "display_data"
    },
    {
     "data": {
      "text/plain": [
       "'punkt'"
      ]
     },
     "metadata": {},
     "output_type": "display_data"
    },
    {
     "data": {
      "text/plain": [
       "'unter'"
      ]
     },
     "metadata": {},
     "output_type": "display_data"
    },
    {
     "data": {
      "text/plain": [
       "'artrag'"
      ]
     },
     "metadata": {},
     "output_type": "display_data"
    },
    {
     "data": {
      "text/plain": [
       "'strämse'"
      ]
     },
     "metadata": {},
     "output_type": "display_data"
    },
    {
     "data": {
      "text/plain": [
       "'in'"
      ]
     },
     "metadata": {},
     "output_type": "display_data"
    },
    {
     "data": {
      "text/plain": [
       "'einssitzers'"
      ]
     },
     "metadata": {},
     "output_type": "display_data"
    },
    {
     "data": {
      "text/plain": [
       "'neues'"
      ]
     },
     "metadata": {},
     "output_type": "display_data"
    },
    {
     "data": {
      "text/plain": [
       "'wailuxzed'"
      ]
     },
     "metadata": {},
     "output_type": "display_data"
    },
    {
     "data": {
      "text/plain": [
       "'unregende'"
      ]
     },
     "metadata": {},
     "output_type": "display_data"
    },
    {
     "data": {
      "text/plain": [
       "'säypis'"
      ]
     },
     "metadata": {},
     "output_type": "display_data"
    },
    {
     "data": {
      "text/plain": [
       "'isselsgewichtsprogrammhuf'"
      ]
     },
     "metadata": {},
     "output_type": "display_data"
    },
    {
     "data": {
      "text/plain": [
       "'knovwez'"
      ]
     },
     "metadata": {},
     "output_type": "display_data"
    },
    {
     "data": {
      "text/plain": [
       "'und'"
      ]
     },
     "metadata": {},
     "output_type": "display_data"
    },
    {
     "data": {
      "text/plain": [
       "'da'"
      ]
     },
     "metadata": {},
     "output_type": "display_data"
    },
    {
     "data": {
      "text/plain": [
       "'aartrag'"
      ]
     },
     "metadata": {},
     "output_type": "display_data"
    },
    {
     "data": {
      "text/plain": [
       "'ist'"
      ]
     },
     "metadata": {},
     "output_type": "display_data"
    },
    {
     "data": {
      "text/plain": [
       "'das'"
      ]
     },
     "metadata": {},
     "output_type": "display_data"
    },
    {
     "data": {
      "text/plain": [
       "'im'"
      ]
     },
     "metadata": {},
     "output_type": "display_data"
    },
    {
     "data": {
      "text/plain": [
       "'xetzgavigs'"
      ]
     },
     "metadata": {},
     "output_type": "display_data"
    },
    {
     "data": {
      "text/plain": [
       "'programm'"
      ]
     },
     "metadata": {},
     "output_type": "display_data"
    },
    {
     "data": {
      "text/plain": [
       "'als'"
      ]
     },
     "metadata": {},
     "output_type": "display_data"
    },
    {
     "data": {
      "text/plain": [
       "'viters'"
      ]
     },
     "metadata": {},
     "output_type": "display_data"
    },
    {
     "data": {
      "text/plain": [
       "'vorhaberufs'"
      ]
     },
     "metadata": {},
     "output_type": "display_data"
    },
    {
     "data": {
      "text/plain": [
       "'nähisch'"
      ]
     },
     "metadata": {},
     "output_type": "display_data"
    },
    {
     "data": {
      "text/plain": [
       "'wo'"
      ]
     },
     "metadata": {},
     "output_type": "display_data"
    },
    {
     "data": {
      "text/plain": [
       "'di'"
      ]
     },
     "metadata": {},
     "output_type": "display_data"
    },
    {
     "data": {
      "text/plain": [
       "'zitgerach'"
      ]
     },
     "metadata": {},
     "output_type": "display_data"
    },
    {
     "data": {
      "text/plain": [
       "'die'"
      ]
     },
     "metadata": {},
     "output_type": "display_data"
    },
    {
     "data": {
      "text/plain": [
       "'umsätzig'"
      ]
     },
     "metadata": {},
     "output_type": "display_data"
    },
    {
     "data": {
      "text/plain": [
       "'vor'"
      ]
     },
     "metadata": {},
     "output_type": "display_data"
    },
    {
     "data": {
      "text/plain": [
       "'der'"
      ]
     },
     "metadata": {},
     "output_type": "display_data"
    },
    {
     "data": {
      "text/plain": [
       "'motion'"
      ]
     },
     "metadata": {},
     "output_type": "display_data"
    },
    {
     "data": {
      "text/plain": [
       "'m'"
      ]
     },
     "metadata": {},
     "output_type": "display_data"
    },
    {
     "data": {
      "text/plain": [
       "'ochtzer'"
      ]
     },
     "metadata": {},
     "output_type": "display_data"
    },
    {
     "data": {
      "text/plain": [
       "'nünzer'"
      ]
     },
     "metadata": {},
     "output_type": "display_data"
    },
    {
     "data": {
      "text/plain": [
       "'garantiert'"
      ]
     },
     "metadata": {},
     "output_type": "display_data"
    },
    {
     "data": {
      "text/plain": [
       "'das'"
      ]
     },
     "metadata": {},
     "output_type": "display_data"
    },
    {
     "data": {
      "text/plain": [
       "'ran'"
      ]
     },
     "metadata": {},
     "output_type": "display_data"
    },
    {
     "data": {
      "text/plain": [
       "'dores'"
      ]
     },
     "metadata": {},
     "output_type": "display_data"
    },
    {
     "data": {
      "text/plain": [
       "'neus'"
      ]
     },
     "metadata": {},
     "output_type": "display_data"
    },
    {
     "data": {
      "text/plain": [
       "'sezi'"
      ]
     },
     "metadata": {},
     "output_type": "display_data"
    },
    {
     "data": {
      "text/plain": [
       "'das'"
      ]
     },
     "metadata": {},
     "output_type": "display_data"
    },
    {
     "data": {
      "text/plain": [
       "'ron'"
      ]
     },
     "metadata": {},
     "output_type": "display_data"
    },
    {
     "data": {
      "text/plain": [
       "'durrethal'"
      ]
     },
     "metadata": {},
     "output_type": "display_data"
    },
    {
     "data": {
      "text/plain": [
       "'revisionen'"
      ]
     },
     "metadata": {},
     "output_type": "display_data"
    },
    {
     "data": {
      "text/plain": [
       "'vom'"
      ]
     },
     "metadata": {},
     "output_type": "display_data"
    },
    {
     "data": {
      "text/plain": [
       "'straße'"
      ]
     },
     "metadata": {},
     "output_type": "display_data"
    },
    {
     "data": {
      "text/plain": [
       "'säzt'"
      ]
     },
     "metadata": {},
     "output_type": "display_data"
    },
    {
     "data": {
      "text/plain": [
       "'sietäiss'"
      ]
     },
     "metadata": {},
     "output_type": "display_data"
    },
    {
     "data": {
      "text/plain": [
       "'ofwetrigärich'"
      ]
     },
     "metadata": {},
     "output_type": "display_data"
    },
    {
     "data": {
      "text/plain": [
       "'das'"
      ]
     },
     "metadata": {},
     "output_type": "display_data"
    },
    {
     "data": {
      "text/plain": [
       "'norhtenen'"
      ]
     },
     "metadata": {},
     "output_type": "display_data"
    },
    {
     "data": {
      "text/plain": [
       "'umsetzt'"
      ]
     },
     "metadata": {},
     "output_type": "display_data"
    },
    {
     "data": {
      "text/plain": [
       "'aberder'"
      ]
     },
     "metadata": {},
     "output_type": "display_data"
    },
    {
     "data": {
      "text/plain": [
       "'art'"
      ]
     },
     "metadata": {},
     "output_type": "display_data"
    },
    {
     "data": {
      "text/plain": [
       "'trage'"
      ]
     },
     "metadata": {},
     "output_type": "display_data"
    },
    {
     "data": {
      "text/plain": [
       "'ich'"
      ]
     },
     "metadata": {},
     "output_type": "display_data"
    },
    {
     "data": {
      "text/plain": [
       "'dass'"
      ]
     },
     "metadata": {},
     "output_type": "display_data"
    },
    {
     "data": {
      "text/plain": [
       "'die'"
      ]
     },
     "metadata": {},
     "output_type": "display_data"
    },
    {
     "data": {
      "text/plain": [
       "'motionen'"
      ]
     },
     "metadata": {},
     "output_type": "display_data"
    },
    {
     "data": {
      "text/plain": [
       "'itres'"
      ]
     },
     "metadata": {},
     "output_type": "display_data"
    },
    {
     "data": {
      "text/plain": [
       "'gesrätsd'"
      ]
     },
     "metadata": {},
     "output_type": "display_data"
    },
    {
     "data": {
      "text/plain": [
       "'die'"
      ]
     },
     "metadata": {},
     "output_type": "display_data"
    },
    {
     "data": {
      "text/plain": [
       "'omenseitzigfor'"
      ]
     },
     "metadata": {},
     "output_type": "display_data"
    },
    {
     "data": {
      "text/plain": [
       "'der'"
      ]
     },
     "metadata": {},
     "output_type": "display_data"
    },
    {
     "data": {
      "text/plain": [
       "'motionen'"
      ]
     },
     "metadata": {},
     "output_type": "display_data"
    },
    {
     "data": {
      "text/plain": [
       "'was'"
      ]
     },
     "metadata": {},
     "output_type": "display_data"
    },
    {
     "data": {
      "text/plain": [
       "'um'"
      ]
     },
     "metadata": {},
     "output_type": "display_data"
    },
    {
     "data": {
      "text/plain": [
       "'finanzierigsgade'"
      ]
     },
     "metadata": {},
     "output_type": "display_data"
    },
    {
     "data": {
      "text/plain": [
       "'romisch'"
      ]
     },
     "metadata": {},
     "output_type": "display_data"
    },
    {
     "data": {
      "text/plain": [
       "'das'"
      ]
     },
     "metadata": {},
     "output_type": "display_data"
    },
    {
     "data": {
      "text/plain": [
       "'die'"
      ]
     },
     "metadata": {},
     "output_type": "display_data"
    },
    {
     "data": {
      "text/plain": [
       "'uf'"
      ]
     },
     "metadata": {},
     "output_type": "display_data"
    },
    {
     "data": {
      "text/plain": [
       "'gnoowees'"
      ]
     },
     "metadata": {},
     "output_type": "display_data"
    },
    {
     "data": {
      "text/plain": [
       "'sergsetsgewichtsprogramm'"
      ]
     },
     "metadata": {},
     "output_type": "display_data"
    },
    {
     "data": {
      "text/plain": [
       "'den'"
      ]
     },
     "metadata": {},
     "output_type": "display_data"
    },
    {
     "data": {
      "text/plain": [
       "'olondischer'"
      ]
     },
     "metadata": {},
     "output_type": "display_data"
    },
    {
     "data": {
      "text/plain": [
       "'torbdodrot'"
      ]
     },
     "metadata": {},
     "output_type": "display_data"
    },
    {
     "data": {
      "text/plain": [
       "'quermel'"
      ]
     },
     "metadata": {},
     "output_type": "display_data"
    },
    {
     "data": {
      "text/plain": [
       "'bis'"
      ]
     },
     "metadata": {},
     "output_type": "display_data"
    },
    {
     "data": {
      "text/plain": [
       "'e'"
      ]
     },
     "metadata": {},
     "output_type": "display_data"
    },
    {
     "data": {
      "text/plain": [
       "'zursage'"
      ]
     },
     "metadata": {},
     "output_type": "display_data"
    },
    {
     "data": {
      "text/plain": [
       "'der'"
      ]
     },
     "metadata": {},
     "output_type": "display_data"
    },
    {
     "data": {
      "text/plain": [
       "'konnt'"
      ]
     },
     "metadata": {},
     "output_type": "display_data"
    },
    {
     "data": {
      "text/plain": [
       "'onver'"
      ]
     },
     "metadata": {},
     "output_type": "display_data"
    },
    {
     "data": {
      "text/plain": [
       "'bot'"
      ]
     },
     "metadata": {},
     "output_type": "display_data"
    },
    {
     "data": {
      "text/plain": [
       "'mangsteins'"
      ]
     },
     "metadata": {},
     "output_type": "display_data"
    },
    {
     "data": {
      "text/plain": [
       "'wirt'"
      ]
     },
     "metadata": {},
     "output_type": "display_data"
    },
    {
     "data": {
      "text/plain": [
       "'scho'"
      ]
     },
     "metadata": {},
     "output_type": "display_data"
    },
    {
     "data": {
      "text/plain": [
       "'kompliziert'"
      ]
     },
     "metadata": {},
     "output_type": "display_data"
    },
    {
     "data": {
      "text/plain": [
       "'muss'"
      ]
     },
     "metadata": {},
     "output_type": "display_data"
    },
    {
     "data": {
      "text/plain": [
       "'de'"
      ]
     },
     "metadata": {},
     "output_type": "display_data"
    },
    {
     "data": {
      "text/plain": [
       "'verkandzähnlich'"
      ]
     },
     "metadata": {},
     "output_type": "display_data"
    },
    {
     "data": {
      "text/plain": [
       "'sagen'"
      ]
     },
     "metadata": {},
     "output_type": "display_data"
    },
    {
     "data": {
      "text/plain": [
       "'um'"
      ]
     },
     "metadata": {},
     "output_type": "display_data"
    },
    {
     "data": {
      "text/plain": [
       "'hermn'"
      ]
     },
     "metadata": {},
     "output_type": "display_data"
    },
    {
     "data": {
      "text/plain": [
       "'tochno'"
      ]
     },
     "metadata": {},
     "output_type": "display_data"
    },
    {
     "data": {
      "text/plain": [
       "'parandri'"
      ]
     },
     "metadata": {},
     "output_type": "display_data"
    },
    {
     "data": {
      "text/plain": [
       "'theme'"
      ]
     },
     "metadata": {},
     "output_type": "display_data"
    },
    {
     "data": {
      "text/plain": [
       "'auf'"
      ]
     },
     "metadata": {},
     "output_type": "display_data"
    },
    {
     "data": {
      "text/plain": [
       "'der'"
      ]
     },
     "metadata": {},
     "output_type": "display_data"
    },
    {
     "data": {
      "text/plain": [
       "'erwaltung'"
      ]
     },
     "metadata": {},
     "output_type": "display_data"
    },
    {
     "data": {
      "text/plain": [
       "'mit'"
      ]
     },
     "metadata": {},
     "output_type": "display_data"
    },
    {
     "data": {
      "text/plain": [
       "'dem'"
      ]
     },
     "metadata": {},
     "output_type": "display_data"
    },
    {
     "data": {
      "text/plain": [
       "'camponen'"
      ]
     },
     "metadata": {},
     "output_type": "display_data"
    },
    {
     "data": {
      "text/plain": [
       "'als'"
      ]
     },
     "metadata": {},
     "output_type": "display_data"
    },
    {
     "data": {
      "text/plain": [
       "'jedes'"
      ]
     },
     "metadata": {},
     "output_type": "display_data"
    },
    {
     "data": {
      "text/plain": [
       "'parti'"
      ]
     },
     "metadata": {},
     "output_type": "display_data"
    },
    {
     "data": {
      "text/plain": [
       "'programm'"
      ]
     },
     "metadata": {},
     "output_type": "display_data"
    },
    {
     "data": {
      "text/plain": [
       "'is'"
      ]
     },
     "metadata": {},
     "output_type": "display_data"
    },
    {
     "data": {
      "text/plain": [
       "'es'"
      ]
     },
     "metadata": {},
     "output_type": "display_data"
    },
    {
     "data": {
      "text/plain": [
       "'virganeinig'"
      ]
     },
     "metadata": {},
     "output_type": "display_data"
    },
    {
     "data": {
      "text/plain": [
       "'seitig'"
      ]
     },
     "metadata": {},
     "output_type": "display_data"
    },
    {
     "data": {
      "text/plain": [
       "'die'"
      ]
     },
     "metadata": {},
     "output_type": "display_data"
    },
    {
     "data": {
      "text/plain": [
       "'reinig'"
      ]
     },
     "metadata": {},
     "output_type": "display_data"
    },
    {
     "data": {
      "text/plain": [
       "'seit'"
      ]
     },
     "metadata": {},
     "output_type": "display_data"
    },
    {
     "data": {
      "text/plain": [
       "'das'"
      ]
     },
     "metadata": {},
     "output_type": "display_data"
    },
    {
     "data": {
      "text/plain": [
       "'bundessetz'"
      ]
     },
     "metadata": {},
     "output_type": "display_data"
    },
    {
     "data": {
      "text/plain": [
       "'vorgabenwehrtmach'"
      ]
     },
     "metadata": {},
     "output_type": "display_data"
    },
    {
     "data": {
      "text/plain": [
       "'ramawird'"
      ]
     },
     "metadata": {},
     "output_type": "display_data"
    },
    {
     "data": {
      "text/plain": [
       "'stecker'"
      ]
     },
     "metadata": {},
     "output_type": "display_data"
    },
    {
     "data": {
      "text/plain": [
       "'merwüßte'"
      ]
     },
     "metadata": {},
     "output_type": "display_data"
    },
    {
     "data": {
      "text/plain": [
       "'nidemal'"
      ]
     },
     "metadata": {},
     "output_type": "display_data"
    },
    {
     "data": {
      "text/plain": [
       "'ypxco'"
      ]
     },
     "metadata": {},
     "output_type": "display_data"
    },
    {
     "data": {
      "text/plain": [
       "'finanzierigi'"
      ]
     },
     "metadata": {},
     "output_type": "display_data"
    },
    {
     "data": {
      "text/plain": [
       "'mit'"
      ]
     },
     "metadata": {},
     "output_type": "display_data"
    },
    {
     "data": {
      "text/plain": [
       "'dem'"
      ]
     },
     "metadata": {},
     "output_type": "display_data"
    },
    {
     "data": {
      "text/plain": [
       "'boldunen'"
      ]
     },
     "metadata": {},
     "output_type": "display_data"
    },
    {
     "data": {
      "text/plain": [
       "'kanton'"
      ]
     },
     "metadata": {},
     "output_type": "display_data"
    },
    {
     "data": {
      "text/plain": [
       "'ergoshins'"
      ]
     },
     "metadata": {},
     "output_type": "display_data"
    },
    {
     "data": {
      "text/plain": [
       "'doc'"
      ]
     },
     "metadata": {},
     "output_type": "display_data"
    },
    {
     "data": {
      "text/plain": [
       "'sin'"
      ]
     },
     "metadata": {},
     "output_type": "display_data"
    },
    {
     "data": {
      "text/plain": [
       "'und'"
      ]
     },
     "metadata": {},
     "output_type": "display_data"
    },
    {
     "data": {
      "text/plain": [
       "'logis'"
      ]
     },
     "metadata": {},
     "output_type": "display_data"
    },
    {
     "data": {
      "text/plain": [
       "'sie'"
      ]
     },
     "metadata": {},
     "output_type": "display_data"
    },
    {
     "data": {
      "text/plain": [
       "'das'"
      ]
     },
     "metadata": {},
     "output_type": "display_data"
    },
    {
     "data": {
      "text/plain": [
       "'mesakemevent'"
      ]
     },
     "metadata": {},
     "output_type": "display_data"
    },
    {
     "data": {
      "text/plain": [
       "'warte'"
      ]
     },
     "metadata": {},
     "output_type": "display_data"
    },
    {
     "data": {
      "text/plain": [
       "'bis'"
      ]
     },
     "metadata": {},
     "output_type": "display_data"
    },
    {
     "data": {
      "text/plain": [
       "'der'"
      ]
     },
     "metadata": {},
     "output_type": "display_data"
    },
    {
     "data": {
      "text/plain": [
       "'puntgregelledung'"
      ]
     },
     "metadata": {},
     "output_type": "display_data"
    },
    {
     "data": {
      "text/plain": [
       "'der'"
      ]
     },
     "metadata": {},
     "output_type": "display_data"
    },
    {
     "data": {
      "text/plain": [
       "'hölmemeer'"
      ]
     },
     "metadata": {},
     "output_type": "display_data"
    },
    {
     "data": {
      "text/plain": [
       "'und'"
      ]
     },
     "metadata": {},
     "output_type": "display_data"
    },
    {
     "data": {
      "text/plain": [
       "'erimotion'"
      ]
     },
     "metadata": {},
     "output_type": "display_data"
    },
    {
     "data": {
      "text/plain": [
       "'compendra'"
      ]
     },
     "metadata": {},
     "output_type": "display_data"
    },
    {
     "data": {
      "text/plain": [
       "'wenn'"
      ]
     },
     "metadata": {},
     "output_type": "display_data"
    },
    {
     "data": {
      "text/plain": [
       "'mit'"
      ]
     },
     "metadata": {},
     "output_type": "display_data"
    },
    {
     "data": {
      "text/plain": [
       "'fakt'"
      ]
     },
     "metadata": {},
     "output_type": "display_data"
    },
    {
     "data": {
      "text/plain": [
       "'kann'"
      ]
     },
     "metadata": {},
     "output_type": "display_data"
    },
    {
     "data": {
      "text/plain": [
       "'wärem'"
      ]
     },
     "metadata": {},
     "output_type": "display_data"
    },
    {
     "data": {
      "text/plain": [
       "'sie'"
      ]
     },
     "metadata": {},
     "output_type": "display_data"
    },
    {
     "data": {
      "text/plain": [
       "'zieht'"
      ]
     },
     "metadata": {},
     "output_type": "display_data"
    },
    {
     "data": {
      "text/plain": [
       "'durch'"
      ]
     },
     "metadata": {},
     "output_type": "display_data"
    },
    {
     "data": {
      "text/plain": [
       "'moche'"
      ]
     },
     "metadata": {},
     "output_type": "display_data"
    },
    {
     "data": {
      "text/plain": [
       "'ber'"
      ]
     },
     "metadata": {},
     "output_type": "display_data"
    },
    {
     "data": {
      "text/plain": [
       "'sog'"
      ]
     },
     "metadata": {},
     "output_type": "display_data"
    },
    {
     "data": {
      "text/plain": [
       "'das'"
      ]
     },
     "metadata": {},
     "output_type": "display_data"
    },
    {
     "data": {
      "text/plain": [
       "'nit'"
      ]
     },
     "metadata": {},
     "output_type": "display_data"
    },
    {
     "data": {
      "text/plain": [
       "'wystekremberne'"
      ]
     },
     "metadata": {},
     "output_type": "display_data"
    },
    {
     "data": {
      "text/plain": [
       "'diedemotion'"
      ]
     },
     "metadata": {},
     "output_type": "display_data"
    },
    {
     "data": {
      "text/plain": [
       "'beantworte'"
      ]
     },
     "metadata": {},
     "output_type": "display_data"
    },
    {
     "data": {
      "text/plain": [
       "'respektiv'"
      ]
     },
     "metadata": {},
     "output_type": "display_data"
    },
    {
     "data": {
      "text/plain": [
       "'umsetzt'"
      ]
     },
     "metadata": {},
     "output_type": "display_data"
    },
    {
     "data": {
      "text/plain": [
       "'sbitte'"
      ]
     },
     "metadata": {},
     "output_type": "display_data"
    },
    {
     "data": {
      "text/plain": [
       "'sie'"
      ]
     },
     "metadata": {},
     "output_type": "display_data"
    },
    {
     "data": {
      "text/plain": [
       "'schätz'"
      ]
     },
     "metadata": {},
     "output_type": "display_data"
    },
    {
     "data": {
      "text/plain": [
       "'se'"
      ]
     },
     "metadata": {},
     "output_type": "display_data"
    },
    {
     "data": {
      "text/plain": [
       "'kantonsrat'"
      ]
     },
     "metadata": {},
     "output_type": "display_data"
    },
    {
     "data": {
      "text/plain": [
       "'das'"
      ]
     },
     "metadata": {},
     "output_type": "display_data"
    },
    {
     "data": {
      "text/plain": [
       "'es'"
      ]
     },
     "metadata": {},
     "output_type": "display_data"
    },
    {
     "data": {
      "text/plain": [
       "'o'"
      ]
     },
     "metadata": {},
     "output_type": "display_data"
    },
    {
     "data": {
      "text/plain": [
       "'zur'"
      ]
     },
     "metadata": {},
     "output_type": "display_data"
    },
    {
     "data": {
      "text/plain": [
       "'kammpnissna'"
      ]
     },
     "metadata": {},
     "output_type": "display_data"
    },
    {
     "data": {
      "text/plain": [
       "'bratrock'"
      ]
     },
     "metadata": {},
     "output_type": "display_data"
    },
    {
     "data": {
      "text/plain": [
       "'opts'"
      ]
     },
     "metadata": {},
     "output_type": "display_data"
    },
    {
     "data": {
      "text/plain": [
       "'lehnenot'"
      ]
     },
     "metadata": {},
     "output_type": "display_data"
    },
    {
     "data": {
      "text/plain": [
       "'alßmehrenitzternde'"
      ]
     },
     "metadata": {},
     "output_type": "display_data"
    },
    {
     "data": {
      "text/plain": [
       "'interpretationsgschicht'"
      ]
     },
     "metadata": {},
     "output_type": "display_data"
    },
    {
     "data": {
      "text/plain": [
       "'wenn'"
      ]
     },
     "metadata": {},
     "output_type": "display_data"
    },
    {
     "data": {
      "text/plain": [
       "'eir'"
      ]
     },
     "metadata": {},
     "output_type": "display_data"
    },
    {
     "data": {
      "text/plain": [
       "'de'"
      ]
     },
     "metadata": {},
     "output_type": "display_data"
    },
    {
     "data": {
      "text/plain": [
       "'zuzazsetzmen'"
      ]
     },
     "metadata": {},
     "output_type": "display_data"
    },
    {
     "data": {
      "text/plain": [
       "'duselecke'"
      ]
     },
     "metadata": {},
     "output_type": "display_data"
    },
    {
     "data": {
      "text/plain": [
       "'und'"
      ]
     },
     "metadata": {},
     "output_type": "display_data"
    },
    {
     "data": {
      "text/plain": [
       "'dem'"
      ]
     },
     "metadata": {},
     "output_type": "display_data"
    },
    {
     "data": {
      "text/plain": [
       "'normalvermess'"
      ]
     },
     "metadata": {},
     "output_type": "display_data"
    },
    {
     "data": {
      "text/plain": [
       "'wurder'"
      ]
     },
     "metadata": {},
     "output_type": "display_data"
    },
    {
     "data": {
      "text/plain": [
       "'verkriecht'"
      ]
     },
     "metadata": {},
     "output_type": "display_data"
    },
    {
     "data": {
      "text/plain": [
       "'und'"
      ]
     },
     "metadata": {},
     "output_type": "display_data"
    },
    {
     "data": {
      "text/plain": [
       "'aus'"
      ]
     },
     "metadata": {},
     "output_type": "display_data"
    },
    {
     "data": {
      "text/plain": [
       "'dass'"
      ]
     },
     "metadata": {},
     "output_type": "display_data"
    },
    {
     "data": {
      "text/plain": [
       "'iertür'"
      ]
     },
     "metadata": {},
     "output_type": "display_data"
    },
    {
     "data": {
      "text/plain": [
       "'und'"
      ]
     },
     "metadata": {},
     "output_type": "display_data"
    },
    {
     "data": {
      "text/plain": [
       "'dorwalt'"
      ]
     },
     "metadata": {},
     "output_type": "display_data"
    },
    {
     "data": {
      "text/plain": [
       "'ferderendehufer'"
      ]
     },
     "metadata": {},
     "output_type": "display_data"
    },
    {
     "data": {
      "text/plain": [
       "'aus'"
      ]
     },
     "metadata": {},
     "output_type": "display_data"
    },
    {
     "data": {
      "text/plain": [
       "'dem'"
      ]
     },
     "metadata": {},
     "output_type": "display_data"
    },
    {
     "data": {
      "text/plain": [
       "'besigt'"
      ]
     },
     "metadata": {},
     "output_type": "display_data"
    },
    {
     "data": {
      "text/plain": [
       "'desetzgaber'"
      ]
     },
     "metadata": {},
     "output_type": "display_data"
    },
    {
     "data": {
      "text/plain": [
       "'und'"
      ]
     },
     "metadata": {},
     "output_type": "display_data"
    },
    {
     "data": {
      "text/plain": [
       "'das'"
      ]
     },
     "metadata": {},
     "output_type": "display_data"
    },
    {
     "data": {
      "text/plain": [
       "'sinzi'"
      ]
     },
     "metadata": {},
     "output_type": "display_data"
    },
    {
     "data": {
      "text/plain": [
       "'trubedics'"
      ]
     },
     "metadata": {},
     "output_type": "display_data"
    },
    {
     "data": {
      "text/plain": [
       "'abstimbalern'"
      ]
     },
     "metadata": {},
     "output_type": "display_data"
    },
    {
     "data": {
      "text/plain": [
       "'yprnatisdolper'"
      ]
     },
     "metadata": {},
     "output_type": "display_data"
    },
    {
     "data": {
      "text/plain": [
       "'habt'"
      ]
     },
     "metadata": {},
     "output_type": "display_data"
    },
    {
     "data": {
      "text/plain": [
       "'zolastiges'"
      ]
     },
     "metadata": {},
     "output_type": "display_data"
    },
    {
     "data": {
      "text/plain": [
       "'unternedes'"
      ]
     },
     "metadata": {},
     "output_type": "display_data"
    },
    {
     "data": {
      "text/plain": [
       "'übyrof'"
      ]
     },
     "metadata": {},
     "output_type": "display_data"
    },
    {
     "data": {
      "text/plain": [
       "'verbuoder'"
      ]
     },
     "metadata": {},
     "output_type": "display_data"
    },
    {
     "data": {
      "text/plain": [
       "'bestritte'"
      ]
     },
     "metadata": {},
     "output_type": "display_data"
    },
    {
     "data": {
      "text/plain": [
       "'wenterautra'"
      ]
     },
     "metadata": {},
     "output_type": "display_data"
    },
    {
     "data": {
      "text/plain": [
       "'vor'"
      ]
     },
     "metadata": {},
     "output_type": "display_data"
    },
    {
     "data": {
      "text/plain": [
       "'ihnen'"
      ]
     },
     "metadata": {},
     "output_type": "display_data"
    },
    {
     "data": {
      "text/plain": [
       "'als'"
      ]
     },
     "metadata": {},
     "output_type": "display_data"
    },
    {
     "data": {
      "text/plain": [
       "'zulässig'"
      ]
     },
     "metadata": {},
     "output_type": "display_data"
    },
    {
     "data": {
      "text/plain": [
       "'deklariert'"
      ]
     },
     "metadata": {},
     "output_type": "display_data"
    },
    {
     "data": {
      "text/plain": [
       "'wird'"
      ]
     },
     "metadata": {},
     "output_type": "display_data"
    },
    {
     "data": {
      "text/plain": [
       "'die'"
      ]
     },
     "metadata": {},
     "output_type": "display_data"
    },
    {
     "data": {
      "text/plain": [
       "'würde'"
      ]
     },
     "metadata": {},
     "output_type": "display_data"
    },
    {
     "data": {
      "text/plain": [
       "'men'"
      ]
     },
     "metadata": {},
     "output_type": "display_data"
    },
    {
     "data": {
      "text/plain": [
       "'nocher'"
      ]
     },
     "metadata": {},
     "output_type": "display_data"
    },
    {
     "data": {
      "text/plain": [
       "'darüber'"
      ]
     },
     "metadata": {},
     "output_type": "display_data"
    },
    {
     "data": {
      "text/plain": [
       "'der'"
      ]
     },
     "metadata": {},
     "output_type": "display_data"
    },
    {
     "data": {
      "text/plain": [
       "'auter'"
      ]
     },
     "metadata": {},
     "output_type": "display_data"
    },
    {
     "data": {
      "text/plain": [
       "'gobstimmeng'"
      ]
     },
     "metadata": {},
     "output_type": "display_data"
    },
    {
     "data": {
      "text/plain": [
       "'und'"
      ]
     },
     "metadata": {},
     "output_type": "display_data"
    },
    {
     "data": {
      "text/plain": [
       "'system'"
      ]
     },
     "metadata": {},
     "output_type": "display_data"
    },
    {
     "data": {
      "text/plain": [
       "'im'"
      ]
     },
     "metadata": {},
     "output_type": "display_data"
    },
    {
     "data": {
      "text/plain": [
       "'redeberatra'"
      ]
     },
     "metadata": {},
     "output_type": "display_data"
    },
    {
     "data": {
      "text/plain": [
       "'rubeta'"
      ]
     },
     "metadata": {},
     "output_type": "display_data"
    },
    {
     "data": {
      "text/plain": [
       "'stimmezeller'"
      ]
     },
     "metadata": {},
     "output_type": "display_data"
    },
    {
     "data": {
      "text/plain": [
       "'ist'"
      ]
     },
     "metadata": {},
     "output_type": "display_data"
    },
    {
     "data": {
      "text/plain": [
       "'erster'"
      ]
     },
     "metadata": {},
     "output_type": "display_data"
    },
    {
     "data": {
      "text/plain": [
       "'mehr'"
      ]
     },
     "metadata": {},
     "output_type": "display_data"
    },
    {
     "data": {
      "text/plain": [
       "'wee'"
      ]
     },
     "metadata": {},
     "output_type": "display_data"
    },
    {
     "data": {
      "text/plain": [
       "'ich'"
      ]
     },
     "metadata": {},
     "output_type": "display_data"
    },
    {
     "data": {
      "text/plain": [
       "'nah'"
      ]
     },
     "metadata": {},
     "output_type": "display_data"
    },
    {
     "data": {
      "text/plain": [
       "'dier'"
      ]
     },
     "metadata": {},
     "output_type": "display_data"
    },
    {
     "data": {
      "text/plain": [
       "'ofinde'"
      ]
     },
     "metadata": {},
     "output_type": "display_data"
    },
    {
     "data": {
      "text/plain": [
       "'der'"
      ]
     },
     "metadata": {},
     "output_type": "display_data"
    },
    {
     "data": {
      "text/plain": [
       "'altrag'"
      ]
     },
     "metadata": {},
     "output_type": "display_data"
    },
    {
     "data": {
      "text/plain": [
       "'sowest'"
      ]
     },
     "metadata": {},
     "output_type": "display_data"
    },
    {
     "data": {
      "text/plain": [
       "'den'"
      ]
     },
     "metadata": {},
     "output_type": "display_data"
    },
    {
     "data": {
      "text/plain": [
       "'kantonsart'"
      ]
     },
     "metadata": {},
     "output_type": "display_data"
    },
    {
     "data": {
      "text/plain": [
       "'voformulierte'"
      ]
     },
     "metadata": {},
     "output_type": "display_data"
    },
    {
     "data": {
      "text/plain": [
       "'sie'"
      ]
     },
     "metadata": {},
     "output_type": "display_data"
    },
    {
     "data": {
      "text/plain": [
       "'zulaßig'"
      ]
     },
     "metadata": {},
     "output_type": "display_data"
    },
    {
     "data": {
      "text/plain": [
       "'und'"
      ]
     },
     "metadata": {},
     "output_type": "display_data"
    },
    {
     "data": {
      "text/plain": [
       "'die'"
      ]
     },
     "metadata": {},
     "output_type": "display_data"
    },
    {
     "data": {
      "text/plain": [
       "'el'"
      ]
     },
     "metadata": {},
     "output_type": "display_data"
    },
    {
     "data": {
      "text/plain": [
       "'droplene'"
      ]
     },
     "metadata": {},
     "output_type": "display_data"
    },
    {
     "data": {
      "text/plain": [
       "'ware'"
      ]
     },
     "metadata": {},
     "output_type": "display_data"
    },
    {
     "data": {
      "text/plain": [
       "'dem'"
      ]
     },
     "metadata": {},
     "output_type": "display_data"
    },
    {
     "data": {
      "text/plain": [
       "'zweiten'"
      ]
     },
     "metadata": {},
     "output_type": "display_data"
    },
    {
     "data": {
      "text/plain": [
       "'mehr'"
      ]
     },
     "metadata": {},
     "output_type": "display_data"
    },
    {
     "data": {
      "text/plain": [
       "'deo'"
      ]
     },
     "metadata": {},
     "output_type": "display_data"
    },
    {
     "data": {
      "text/plain": [
       "'de'"
      ]
     },
     "metadata": {},
     "output_type": "display_data"
    },
    {
     "data": {
      "text/plain": [
       "'dharautoos'"
      ]
     },
     "metadata": {},
     "output_type": "display_data"
    },
    {
     "data": {
      "text/plain": [
       "'zolassig'"
      ]
     },
     "metadata": {},
     "output_type": "display_data"
    },
    {
     "data": {
      "text/plain": [
       "'dekrarierte'"
      ]
     },
     "metadata": {},
     "output_type": "display_data"
    },
    {
     "data": {
      "text/plain": [
       "'tät'"
      ]
     },
     "metadata": {},
     "output_type": "display_data"
    },
    {
     "data": {
      "text/plain": [
       "'is'"
      ]
     },
     "metadata": {},
     "output_type": "display_data"
    },
    {
     "data": {
      "text/plain": [
       "'mit'"
      ]
     },
     "metadata": {},
     "output_type": "display_data"
    },
    {
     "data": {
      "text/plain": [
       "'jetzt'"
      ]
     },
     "metadata": {},
     "output_type": "display_data"
    },
    {
     "data": {
      "text/plain": [
       "'bezügetrizezwei'"
      ]
     },
     "metadata": {},
     "output_type": "display_data"
    },
    {
     "data": {
      "text/plain": [
       "'uhr'"
      ]
     },
     "metadata": {},
     "output_type": "display_data"
    },
    {
     "data": {
      "text/plain": [
       "'vierzig'"
      ]
     },
     "metadata": {},
     "output_type": "display_data"
    },
    {
     "data": {
      "text/plain": [
       "'wärder'"
      ]
     },
     "metadata": {},
     "output_type": "display_data"
    },
    {
     "data": {
      "text/plain": [
       "'autho'"
      ]
     },
     "metadata": {},
     "output_type": "display_data"
    },
    {
     "data": {
      "text/plain": [
       "'aus'"
      ]
     },
     "metadata": {},
     "output_type": "display_data"
    },
    {
     "data": {
      "text/plain": [
       "'nicht'"
      ]
     },
     "metadata": {},
     "output_type": "display_data"
    },
    {
     "data": {
      "text/plain": [
       "'so'"
      ]
     },
     "metadata": {},
     "output_type": "display_data"
    },
    {
     "data": {
      "text/plain": [
       "'lastiger'"
      ]
     },
     "metadata": {},
     "output_type": "display_data"
    },
    {
     "data": {
      "text/plain": [
       "'dektoder'"
      ]
     },
     "metadata": {},
     "output_type": "display_data"
    },
    {
     "data": {
      "text/plain": [
       "'dass'"
      ]
     },
     "metadata": {},
     "output_type": "display_data"
    },
    {
     "data": {
      "text/plain": [
       "'hat'"
      ]
     },
     "metadata": {},
     "output_type": "display_data"
    },
    {
     "data": {
      "text/plain": [
       "'das'"
      ]
     },
     "metadata": {},
     "output_type": "display_data"
    },
    {
     "data": {
      "text/plain": [
       "'bi'"
      ]
     },
     "metadata": {},
     "output_type": "display_data"
    },
    {
     "data": {
      "text/plain": [
       "'jetzst'"
      ]
     },
     "metadata": {},
     "output_type": "display_data"
    },
    {
     "data": {
      "text/plain": [
       "'bezügeviertrisk'"
      ]
     },
     "metadata": {},
     "output_type": "display_data"
    },
    {
     "data": {
      "text/plain": [
       "'sie'"
      ]
     },
     "metadata": {},
     "output_type": "display_data"
    },
    {
     "data": {
      "text/plain": [
       "'and'"
      ]
     },
     "metadata": {},
     "output_type": "display_data"
    },
    {
     "data": {
      "text/plain": [
       "'bestimme'"
      ]
     },
     "metadata": {},
     "output_type": "display_data"
    },
    {
     "data": {
      "text/plain": [
       "'nicht'"
      ]
     },
     "metadata": {},
     "output_type": "display_data"
    },
    {
     "data": {
      "text/plain": [
       "'vilgewecft'"
      ]
     },
     "metadata": {},
     "output_type": "display_data"
    },
    {
     "data": {
      "text/plain": [
       "'zu'"
      ]
     },
     "metadata": {},
     "output_type": "display_data"
    },
    {
     "data": {
      "text/plain": [
       "'auch'"
      ]
     },
     "metadata": {},
     "output_type": "display_data"
    },
    {
     "data": {
      "text/plain": [
       "'die'"
      ]
     },
     "metadata": {},
     "output_type": "display_data"
    },
    {
     "data": {
      "text/plain": [
       "'strime'"
      ]
     },
     "metadata": {},
     "output_type": "display_data"
    },
    {
     "data": {
      "text/plain": [
       "'das'"
      ]
     },
     "metadata": {},
     "output_type": "display_data"
    },
    {
     "data": {
      "text/plain": [
       "'deratrag'"
      ]
     },
     "metadata": {},
     "output_type": "display_data"
    },
    {
     "data": {
      "text/plain": [
       "'zulässige'"
      ]
     },
     "metadata": {},
     "output_type": "display_data"
    },
    {
     "data": {
      "text/plain": [
       "'wir'"
      ]
     },
     "metadata": {},
     "output_type": "display_data"
    },
    {
     "data": {
      "text/plain": [
       "'nc'"
      ]
     },
     "metadata": {},
     "output_type": "display_data"
    },
    {
     "data": {
      "text/plain": [
       "'detaberatik'"
      ]
     },
     "metadata": {},
     "output_type": "display_data"
    },
    {
     "data": {
      "text/plain": [
       "'über'"
      ]
     },
     "metadata": {},
     "output_type": "display_data"
    },
    {
     "data": {
      "text/plain": [
       "'der'"
      ]
     },
     "metadata": {},
     "output_type": "display_data"
    },
    {
     "data": {
      "text/plain": [
       "'abstimmung'"
      ]
     },
     "metadata": {},
     "output_type": "display_data"
    },
    {
     "data": {
      "text/plain": [
       "'holgadeias'"
      ]
     },
     "metadata": {},
     "output_type": "display_data"
    },
    {
     "data": {
      "text/plain": [
       "'vurde'"
      ]
     },
     "metadata": {},
     "output_type": "display_data"
    },
    {
     "data": {
      "text/plain": [
       "'mochemre'"
      ]
     },
     "metadata": {},
     "output_type": "display_data"
    },
    {
     "data": {
      "text/plain": [
       "'wenn'"
      ]
     },
     "metadata": {},
     "output_type": "display_data"
    },
    {
     "data": {
      "text/plain": [
       "'es'"
      ]
     },
     "metadata": {},
     "output_type": "display_data"
    },
    {
     "data": {
      "text/plain": [
       "'schot'"
      ]
     },
     "metadata": {},
     "output_type": "display_data"
    },
    {
     "data": {
      "text/plain": [
       "'raussehndlicg'"
      ]
     },
     "metadata": {},
     "output_type": "display_data"
    },
    {
     "data": {
      "text/plain": [
       "'wort'"
      ]
     },
     "metadata": {},
     "output_type": "display_data"
    },
    {
     "data": {
      "text/plain": [
       "'kot'"
      ]
     },
     "metadata": {},
     "output_type": "display_data"
    },
    {
     "data": {
      "text/plain": [
       "'außerwerm'"
      ]
     },
     "metadata": {},
     "output_type": "display_data"
    },
    {
     "data": {
      "text/plain": [
       "'autolafvon'"
      ]
     },
     "metadata": {},
     "output_type": "display_data"
    },
    {
     "data": {
      "text/plain": [
       "'rhothiwop'"
      ]
     },
     "metadata": {},
     "output_type": "display_data"
    },
    {
     "data": {
      "text/plain": [
       "'wir'"
      ]
     },
     "metadata": {},
     "output_type": "display_data"
    },
    {
     "data": {
      "text/plain": [
       "'sostimme'"
      ]
     },
     "metadata": {},
     "output_type": "display_data"
    },
    {
     "data": {
      "text/plain": [
       "'dass'"
      ]
     },
     "metadata": {},
     "output_type": "display_data"
    },
    {
     "data": {
      "text/plain": [
       "'das'"
      ]
     },
     "metadata": {},
     "output_type": "display_data"
    },
    {
     "data": {
      "text/plain": [
       "'vorhaber'"
      ]
     },
     "metadata": {},
     "output_type": "display_data"
    },
    {
     "data": {
      "text/plain": [
       "'esersiegrecht'"
      ]
     },
     "metadata": {},
     "output_type": "display_data"
    },
    {
     "data": {
      "text/plain": [
       "'umsetzt'"
      ]
     },
     "metadata": {},
     "output_type": "display_data"
    },
    {
     "data": {
      "text/plain": [
       "'weiter'"
      ]
     },
     "metadata": {},
     "output_type": "display_data"
    },
    {
     "data": {
      "text/plain": [
       "'noch'"
      ]
     },
     "metadata": {},
     "output_type": "display_data"
    },
    {
     "data": {
      "text/plain": [
       "'der'"
      ]
     },
     "metadata": {},
     "output_type": "display_data"
    },
    {
     "data": {
      "text/plain": [
       "'emotion'"
      ]
     },
     "metadata": {},
     "output_type": "display_data"
    },
    {
     "data": {
      "text/plain": [
       "'ewantet'"
      ]
     },
     "metadata": {},
     "output_type": "display_data"
    },
    {
     "data": {
      "text/plain": [
       "'satispitets'"
      ]
     },
     "metadata": {},
     "output_type": "display_data"
    },
    {
     "data": {
      "text/plain": [
       "'bezügedreisiebe'"
      ]
     },
     "metadata": {},
     "output_type": "display_data"
    },
    {
     "data": {
      "text/plain": [
       "'nut'"
      ]
     },
     "metadata": {},
     "output_type": "display_data"
    },
    {
     "data": {
      "text/plain": [
       "'zwans'"
      ]
     },
     "metadata": {},
     "output_type": "display_data"
    },
    {
     "data": {
      "text/plain": [
       "'wär'"
      ]
     },
     "metadata": {},
     "output_type": "display_data"
    },
    {
     "data": {
      "text/plain": [
       "'das'"
      ]
     },
     "metadata": {},
     "output_type": "display_data"
    },
    {
     "data": {
      "text/plain": [
       "'weit'"
      ]
     },
     "metadata": {},
     "output_type": "display_data"
    },
    {
     "data": {
      "text/plain": [
       "'ubbplehneert'"
      ]
     },
     "metadata": {},
     "output_type": "display_data"
    },
    {
     "data": {
      "text/plain": [
       "'het'"
      ]
     },
     "metadata": {},
     "output_type": "display_data"
    },
    {
     "data": {
      "text/plain": [
       "'das'"
      ]
     },
     "metadata": {},
     "output_type": "display_data"
    },
    {
     "data": {
      "text/plain": [
       "'bitte'"
      ]
     },
     "metadata": {},
     "output_type": "display_data"
    },
    {
     "data": {
      "text/plain": [
       "'jetzt'"
      ]
     },
     "metadata": {},
     "output_type": "display_data"
    },
    {
     "data": {
      "text/plain": [
       "'bezügefünftedtrür'"
      ]
     },
     "metadata": {},
     "output_type": "display_data"
    },
    {
     "data": {
      "text/plain": [
       "'vierzg'"
      ]
     },
     "metadata": {},
     "output_type": "display_data"
    },
    {
     "data": {
      "text/plain": [
       "'zählte'"
      ]
     },
     "metadata": {},
     "output_type": "display_data"
    },
    {
     "data": {
      "text/plain": [
       "'altrakbob'"
      ]
     },
     "metadata": {},
     "output_type": "display_data"
    },
    {
     "data": {
      "text/plain": [
       "'mit'"
      ]
     },
     "metadata": {},
     "output_type": "display_data"
    },
    {
     "data": {
      "text/plain": [
       "'triskezoo'"
      ]
     },
     "metadata": {},
     "output_type": "display_data"
    },
    {
     "data": {
      "text/plain": [
       "'auch'"
      ]
     },
     "metadata": {},
     "output_type": "display_data"
    },
    {
     "data": {
      "text/plain": [
       "'der'"
      ]
     },
     "metadata": {},
     "output_type": "display_data"
    },
    {
     "data": {
      "text/plain": [
       "'rifts'"
      ]
     },
     "metadata": {},
     "output_type": "display_data"
    },
    {
     "data": {
      "text/plain": [
       "'stimme'"
      ]
     },
     "metadata": {},
     "output_type": "display_data"
    },
    {
     "data": {
      "text/plain": [
       "'abglehnt'"
      ]
     },
     "metadata": {},
     "output_type": "display_data"
    },
    {
     "data": {
      "text/plain": [
       "'veraubte'"
      ]
     },
     "metadata": {},
     "output_type": "display_data"
    },
    {
     "data": {
      "text/plain": [
       "'m'"
      ]
     },
     "metadata": {},
     "output_type": "display_data"
    },
    {
     "data": {
      "text/plain": [
       "'detta'"
      ]
     },
     "metadata": {},
     "output_type": "display_data"
    },
    {
     "data": {
      "text/plain": [
       "'beatig'"
      ]
     },
     "metadata": {},
     "output_type": "display_data"
    },
    {
     "data": {
      "text/plain": [
       "'die'"
      ]
     },
     "metadata": {},
     "output_type": "display_data"
    },
    {
     "data": {
      "text/plain": [
       "'zoitmalige'"
      ]
     },
     "metadata": {},
     "output_type": "display_data"
    },
    {
     "data": {
      "text/plain": [
       "'zum'"
      ]
     },
     "metadata": {},
     "output_type": "display_data"
    },
    {
     "data": {
      "text/plain": [
       "'rückblick'"
      ]
     },
     "metadata": {},
     "output_type": "display_data"
    },
    {
     "data": {
      "text/plain": [
       "'über'"
      ]
     },
     "metadata": {},
     "output_type": "display_data"
    },
    {
     "data": {
      "text/plain": [
       "'setzgabis'"
      ]
     },
     "metadata": {},
     "output_type": "display_data"
    },
    {
     "data": {
      "text/plain": [
       "'programmnitterfalzeg'"
      ]
     },
     "metadata": {},
     "output_type": "display_data"
    },
    {
     "data": {
      "text/plain": [
       "'geht'"
      ]
     },
     "metadata": {},
     "output_type": "display_data"
    },
    {
     "data": {
      "text/plain": [
       "'wotmäßige'"
      ]
     },
     "metadata": {},
     "output_type": "display_data"
    },
    {
     "data": {
      "text/plain": [
       "'zum'"
      ]
     },
     "metadata": {},
     "output_type": "display_data"
    },
    {
     "data": {
      "text/plain": [
       "'seehsberbürgsprogramm'"
      ]
     },
     "metadata": {},
     "output_type": "display_data"
    },
    {
     "data": {
      "text/plain": [
       "'zwanfsgeinzwanzig'"
      ]
     },
     "metadata": {},
     "output_type": "display_data"
    },
    {
     "data": {
      "text/plain": [
       "'zweiudzwanzig'"
      ]
     },
     "metadata": {},
     "output_type": "display_data"
    },
    {
     "data": {
      "text/plain": [
       "'aunit'"
      ]
     },
     "metadata": {},
     "output_type": "display_data"
    },
    {
     "data": {
      "text/plain": [
       "'de'"
      ]
     },
     "metadata": {},
     "output_type": "display_data"
    },
    {
     "data": {
      "text/plain": [
       "'falzi'"
      ]
     },
     "metadata": {},
     "output_type": "display_data"
    },
    {
     "data": {
      "text/plain": [
       "'der'"
      ]
     },
     "metadata": {},
     "output_type": "display_data"
    },
    {
     "data": {
      "text/plain": [
       "'überatserkenne'"
      ]
     },
     "metadata": {},
     "output_type": "display_data"
    },
    {
     "data": {
      "text/plain": [
       "'bereits'"
      ]
     },
     "metadata": {},
     "output_type": "display_data"
    },
    {
     "data": {
      "text/plain": [
       "'abschwimme'"
      ]
     },
     "metadata": {},
     "output_type": "display_data"
    },
    {
     "data": {
      "text/plain": [
       "'gibt'"
      ]
     },
     "metadata": {},
     "output_type": "display_data"
    },
    {
     "data": {
      "text/plain": [
       "'sich'"
      ]
     },
     "metadata": {},
     "output_type": "display_data"
    },
    {
     "data": {
      "text/plain": [
       "'nur'"
      ]
     },
     "metadata": {},
     "output_type": "display_data"
    },
    {
     "data": {
      "text/plain": [
       "'irgendwach'"
      ]
     },
     "metadata": {},
     "output_type": "display_data"
    },
    {
     "data": {
      "text/plain": [
       "'wie'"
      ]
     },
     "metadata": {},
     "output_type": "display_data"
    },
    {
     "data": {
      "text/plain": [
       "'driebotmardige'"
      ]
     },
     "metadata": {},
     "output_type": "display_data"
    },
    {
     "data": {
      "text/plain": [
       "'schnittfelde'"
      ]
     },
     "metadata": {},
     "output_type": "display_data"
    },
    {
     "data": {
      "text/plain": [
       "'machmer'"
      ]
     },
     "metadata": {},
     "output_type": "display_data"
    },
    {
     "data": {
      "text/plain": [
       "'entschluss'"
      ]
     },
     "metadata": {},
     "output_type": "display_data"
    },
    {
     "data": {
      "text/plain": [
       "'abstimmig'"
      ]
     },
     "metadata": {},
     "output_type": "display_data"
    },
    {
     "data": {
      "text/plain": [
       "'wäre'"
      ]
     },
     "metadata": {},
     "output_type": "display_data"
    },
    {
     "data": {
      "text/plain": [
       "'das'"
      ]
     },
     "metadata": {},
     "output_type": "display_data"
    },
    {
     "data": {
      "text/plain": [
       "'zetskebx'"
      ]
     },
     "metadata": {},
     "output_type": "display_data"
    },
    {
     "data": {
      "text/plain": [
       "'programm'"
      ]
     },
     "metadata": {},
     "output_type": "display_data"
    },
    {
     "data": {
      "text/plain": [
       "'rückblick'"
      ]
     },
     "metadata": {},
     "output_type": "display_data"
    },
    {
     "data": {
      "text/plain": [
       "'plus'"
      ]
     },
     "metadata": {},
     "output_type": "display_data"
    },
    {
     "data": {
      "text/plain": [
       "'usbleckhufswans'"
      ]
     },
     "metadata": {},
     "output_type": "display_data"
    },
    {
     "data": {
      "text/plain": [
       "'eine'"
      ]
     },
     "metadata": {},
     "output_type": "display_data"
    },
    {
     "data": {
      "text/plain": [
       "'zwandzweiundzwanziggurtheil'"
      ]
     },
     "metadata": {},
     "output_type": "display_data"
    },
    {
     "data": {
      "text/plain": [
       "'sowitdricge'"
      ]
     },
     "metadata": {},
     "output_type": "display_data"
    },
    {
     "data": {
      "text/plain": [
       "'serbste'"
      ]
     },
     "metadata": {},
     "output_type": "display_data"
    },
    {
     "data": {
      "text/plain": [
       "'männer'"
      ]
     },
     "metadata": {},
     "output_type": "display_data"
    },
    {
     "data": {
      "text/plain": [
       "'und'"
      ]
     },
     "metadata": {},
     "output_type": "display_data"
    },
    {
     "data": {
      "text/plain": [
       "'uplener'"
      ]
     },
     "metadata": {},
     "output_type": "display_data"
    },
    {
     "data": {
      "text/plain": [
       "'ist'"
      ]
     },
     "metadata": {},
     "output_type": "display_data"
    },
    {
     "data": {
      "text/plain": [
       "'zweitermeer'"
      ]
     },
     "metadata": {},
     "output_type": "display_data"
    },
    {
     "data": {
      "text/plain": [
       "'wer'"
      ]
     },
     "metadata": {},
     "output_type": "display_data"
    },
    {
     "data": {
      "text/plain": [
       "'das'"
      ]
     },
     "metadata": {},
     "output_type": "display_data"
    },
    {
     "data": {
      "text/plain": [
       "'hlombe'"
      ]
     },
     "metadata": {},
     "output_type": "display_data"
    },
    {
     "data": {
      "text/plain": [
       "'vultliht'"
      ]
     },
     "metadata": {},
     "output_type": "display_data"
    },
    {
     "data": {
      "text/plain": [
       "'vedaune'"
      ]
     },
     "metadata": {},
     "output_type": "display_data"
    },
    {
     "data": {
      "text/plain": [
       "'sal'"
      ]
     },
     "metadata": {},
     "output_type": "display_data"
    },
    {
     "data": {
      "text/plain": [
       "'s'"
      ]
     },
     "metadata": {},
     "output_type": "display_data"
    },
    {
     "data": {
      "text/plain": [
       "'bitte'"
      ]
     },
     "metadata": {},
     "output_type": "display_data"
    },
    {
     "data": {
      "text/plain": [
       "'jetzt'"
      ]
     },
     "metadata": {},
     "output_type": "display_data"
    },
    {
     "data": {
      "text/plain": [
       "'bezügesah'"
      ]
     },
     "metadata": {},
     "output_type": "display_data"
    },
    {
     "data": {
      "text/plain": [
       "'wirhtsauch'"
      ]
     },
     "metadata": {},
     "output_type": "display_data"
    },
    {
     "data": {
      "text/plain": [
       "'der'"
      ]
     },
     "metadata": {},
     "output_type": "display_data"
    },
    {
     "data": {
      "text/plain": [
       "'zwansig'"
      ]
     },
     "metadata": {},
     "output_type": "display_data"
    },
    {
     "data": {
      "text/plain": [
       "'weres'"
      ]
     },
     "metadata": {},
     "output_type": "display_data"
    },
    {
     "data": {
      "text/plain": [
       "'het'"
      ]
     },
     "metadata": {},
     "output_type": "display_data"
    },
    {
     "data": {
      "text/plain": [
       "'opleiner'"
      ]
     },
     "metadata": {},
     "output_type": "display_data"
    },
    {
     "data": {
      "text/plain": [
       "'hat'"
      ]
     },
     "metadata": {},
     "output_type": "display_data"
    },
    {
     "data": {
      "text/plain": [
       "'das'"
      ]
     },
     "metadata": {},
     "output_type": "display_data"
    },
    {
     "data": {
      "text/plain": [
       "'bitte'"
      ]
     },
     "metadata": {},
     "output_type": "display_data"
    },
    {
     "data": {
      "text/plain": [
       "'jetzt'"
      ]
     },
     "metadata": {},
     "output_type": "display_data"
    },
    {
     "data": {
      "text/plain": [
       "'mit'"
      ]
     },
     "metadata": {},
     "output_type": "display_data"
    },
    {
     "data": {
      "text/plain": [
       "'handzeichen'"
      ]
     },
     "metadata": {},
     "output_type": "display_data"
    },
    {
     "data": {
      "text/plain": [
       "'bezügenosiebe'"
      ]
     },
     "metadata": {},
     "output_type": "display_data"
    },
    {
     "data": {
      "text/plain": [
       "'sird'"
      ]
     },
     "metadata": {},
     "output_type": "display_data"
    },
    {
     "data": {
      "text/plain": [
       "'das'"
      ]
     },
     "metadata": {},
     "output_type": "display_data"
    },
    {
     "data": {
      "text/plain": [
       "'testkebese'"
      ]
     },
     "metadata": {},
     "output_type": "display_data"
    },
    {
     "data": {
      "text/plain": [
       "'programm'"
      ]
     },
     "metadata": {},
     "output_type": "display_data"
    },
    {
     "data": {
      "text/plain": [
       "'mit'"
      ]
     },
     "metadata": {},
     "output_type": "display_data"
    },
    {
     "data": {
      "text/plain": [
       "'vierr'"
      ]
     },
     "metadata": {},
     "output_type": "display_data"
    },
    {
     "data": {
      "text/plain": [
       "'siebelsi'"
      ]
     },
     "metadata": {},
     "output_type": "display_data"
    },
    {
     "data": {
      "text/plain": [
       "'zu'"
      ]
     },
     "metadata": {},
     "output_type": "display_data"
    },
    {
     "data": {
      "text/plain": [
       "'siebestimme'"
      ]
     },
     "metadata": {},
     "output_type": "display_data"
    },
    {
     "data": {
      "text/plain": [
       "'orknu'"
      ]
     },
     "metadata": {},
     "output_type": "display_data"
    },
    {
     "data": {
      "text/plain": [
       "'wir'"
      ]
     },
     "metadata": {},
     "output_type": "display_data"
    },
    {
     "data": {
      "text/plain": [
       "'machet'"
      ]
     },
     "metadata": {},
     "output_type": "display_data"
    },
    {
     "data": {
      "text/plain": [
       "'her'"
      ]
     },
     "metadata": {},
     "output_type": "display_data"
    },
    {
     "data": {
      "text/plain": [
       "'ambrece'"
      ]
     },
     "metadata": {},
     "output_type": "display_data"
    },
    {
     "data": {
      "text/plain": [
       "'moch'"
      ]
     },
     "metadata": {},
     "output_type": "display_data"
    },
    {
     "data": {
      "text/plain": [
       "'mit'"
      ]
     },
     "metadata": {},
     "output_type": "display_data"
    },
    {
     "data": {
      "text/plain": [
       "'der'"
      ]
     },
     "metadata": {},
     "output_type": "display_data"
    },
    {
     "data": {
      "text/plain": [
       "'rachtorgnan'"
      ]
     },
     "metadata": {},
     "output_type": "display_data"
    },
    {
     "data": {
      "text/plain": [
       "'des'"
      ]
     },
     "metadata": {},
     "output_type": "display_data"
    },
    {
     "data": {
      "text/plain": [
       "'narmavita'"
      ]
     },
     "metadata": {},
     "output_type": "display_data"
    },
    {
     "data": {
      "text/plain": [
       "'chomuno'"
      ]
     },
     "metadata": {},
     "output_type": "display_data"
    },
    {
     "data": {
      "text/plain": [
       "'zo'"
      ]
     },
     "metadata": {},
     "output_type": "display_data"
    },
    {
     "data": {
      "text/plain": [
       "'mitteilig'"
      ]
     },
     "metadata": {},
     "output_type": "display_data"
    },
    {
     "data": {
      "text/plain": [
       "'zum'"
      ]
     },
     "metadata": {},
     "output_type": "display_data"
    },
    {
     "data": {
      "text/plain": [
       "'sitix'"
      ]
     },
     "metadata": {},
     "output_type": "display_data"
    },
    {
     "data": {
      "text/plain": [
       "'andyder'"
      ]
     },
     "metadata": {},
     "output_type": "display_data"
    },
    {
     "data": {
      "text/plain": [
       "'condon'"
      ]
     },
     "metadata": {},
     "output_type": "display_data"
    },
    {
     "data": {
      "text/plain": [
       "'trot'"
      ]
     },
     "metadata": {},
     "output_type": "display_data"
    },
    {
     "data": {
      "text/plain": [
       "'wollte'"
      ]
     },
     "metadata": {},
     "output_type": "display_data"
    },
    {
     "data": {
      "text/plain": [
       "'dusssei'"
      ]
     },
     "metadata": {},
     "output_type": "display_data"
    },
    {
     "data": {
      "text/plain": [
       "'der'"
      ]
     },
     "metadata": {},
     "output_type": "display_data"
    },
    {
     "data": {
      "text/plain": [
       "'mülzeit'"
      ]
     },
     "metadata": {},
     "output_type": "display_data"
    },
    {
     "data": {
      "text/plain": [
       "'febra'"
      ]
     },
     "metadata": {},
     "output_type": "display_data"
    },
    {
     "data": {
      "text/plain": [
       "'reine'"
      ]
     },
     "metadata": {},
     "output_type": "display_data"
    },
    {
     "data": {
      "text/plain": [
       "'zwanzig'"
      ]
     },
     "metadata": {},
     "output_type": "display_data"
    },
    {
     "data": {
      "text/plain": [
       "'gis'"
      ]
     },
     "metadata": {},
     "output_type": "display_data"
    },
    {
     "data": {
      "text/plain": [
       "'sundheitlich'"
      ]
     },
     "metadata": {},
     "output_type": "display_data"
    },
    {
     "data": {
      "text/plain": [
       "'ergründet'"
      ]
     },
     "metadata": {},
     "output_type": "display_data"
    },
    {
     "data": {
      "text/plain": [
       "'sie'"
      ]
     },
     "metadata": {},
     "output_type": "display_data"
    },
    {
     "data": {
      "text/plain": [
       "'sowortige'"
      ]
     },
     "metadata": {},
     "output_type": "display_data"
    },
    {
     "data": {
      "text/plain": [
       "'rücktritt'"
      ]
     },
     "metadata": {},
     "output_type": "display_data"
    },
    {
     "data": {
      "text/plain": [
       "'als'"
      ]
     },
     "metadata": {},
     "output_type": "display_data"
    },
    {
     "data": {
      "text/plain": [
       "'kantonsrat'"
      ]
     },
     "metadata": {},
     "output_type": "display_data"
    },
    {
     "data": {
      "text/plain": [
       "'mitteilt'"
      ]
     },
     "metadata": {},
     "output_type": "display_data"
    },
    {
     "data": {
      "text/plain": [
       "'der'"
      ]
     },
     "metadata": {},
     "output_type": "display_data"
    },
    {
     "data": {
      "text/plain": [
       "'walte'"
      ]
     },
     "metadata": {},
     "output_type": "display_data"
    },
    {
     "data": {
      "text/plain": [
       "'russ'"
      ]
     },
     "metadata": {},
     "output_type": "display_data"
    },
    {
     "data": {
      "text/plain": [
       "'ist'"
      ]
     },
     "metadata": {},
     "output_type": "display_data"
    },
    {
     "data": {
      "text/plain": [
       "'zweidussig'"
      ]
     },
     "metadata": {},
     "output_type": "display_data"
    },
    {
     "data": {
      "text/plain": [
       "'orh'"
      ]
     },
     "metadata": {},
     "output_type": "display_data"
    },
    {
     "data": {
      "text/plain": [
       "'sitz'"
      ]
     },
     "metadata": {},
     "output_type": "display_data"
    },
    {
     "data": {
      "text/plain": [
       "'zwei'"
      ]
     },
     "metadata": {},
     "output_type": "display_data"
    },
    {
     "data": {
      "text/plain": [
       "'tussegorh'"
      ]
     },
     "metadata": {},
     "output_type": "display_data"
    },
    {
     "data": {
      "text/plain": [
       "'das'"
      ]
     },
     "metadata": {},
     "output_type": "display_data"
    },
    {
     "data": {
      "text/plain": [
       "'heßwarpriefeberat'"
      ]
     },
     "metadata": {},
     "output_type": "display_data"
    },
    {
     "data": {
      "text/plain": [
       "'rustik'"
      ]
     },
     "metadata": {},
     "output_type": "display_data"
    },
    {
     "data": {
      "text/plain": [
       "'main'"
      ]
     },
     "metadata": {},
     "output_type": "display_data"
    },
    {
     "data": {
      "text/plain": [
       "'frierbach'"
      ]
     },
     "metadata": {},
     "output_type": "display_data"
    },
    {
     "data": {
      "text/plain": [
       "'im'"
      ]
     },
     "metadata": {},
     "output_type": "display_data"
    },
    {
     "data": {
      "text/plain": [
       "'kantonrrakxie'"
      ]
     },
     "metadata": {},
     "output_type": "display_data"
    },
    {
     "data": {
      "text/plain": [
       "'it'"
      ]
     },
     "metadata": {},
     "output_type": "display_data"
    },
    {
     "data": {
      "text/plain": [
       "'die'"
      ]
     },
     "metadata": {},
     "output_type": "display_data"
    },
    {
     "data": {
      "text/plain": [
       "'staatwirtschaftskommission'"
      ]
     },
     "metadata": {},
     "output_type": "display_data"
    },
    {
     "data": {
      "text/plain": [
       "'iter'"
      ]
     },
     "metadata": {},
     "output_type": "display_data"
    },
    {
     "data": {
      "text/plain": [
       "'sitzweit'"
      ]
     },
     "metadata": {},
     "output_type": "display_data"
    },
    {
     "data": {
      "text/plain": [
       "'dussigocft'"
      ]
     },
     "metadata": {},
     "output_type": "display_data"
    },
    {
     "data": {
      "text/plain": [
       "'mitglied'"
      ]
     },
     "metadata": {},
     "output_type": "display_data"
    },
    {
     "data": {
      "text/plain": [
       "'und'"
      ]
     },
     "metadata": {},
     "output_type": "display_data"
    },
    {
     "data": {
      "text/plain": [
       "'sie'"
      ]
     },
     "metadata": {},
     "output_type": "display_data"
    },
    {
     "data": {
      "text/plain": [
       "'zwei'"
      ]
     },
     "metadata": {},
     "output_type": "display_data"
    },
    {
     "data": {
      "text/plain": [
       "'tec'"
      ]
     },
     "metadata": {},
     "output_type": "display_data"
    },
    {
     "data": {
      "text/plain": [
       "'zwölf'"
      ]
     },
     "metadata": {},
     "output_type": "display_data"
    },
    {
     "data": {
      "text/plain": [
       "'bis'"
      ]
     },
     "metadata": {},
     "output_type": "display_data"
    },
    {
     "data": {
      "text/plain": [
       "'hede'"
      ]
     },
     "metadata": {},
     "output_type": "display_data"
    },
    {
     "data": {
      "text/plain": [
       "'präsident'"
      ]
     },
     "metadata": {},
     "output_type": "display_data"
    },
    {
     "data": {
      "text/plain": [
       "'wahrzi'"
      ]
     },
     "metadata": {},
     "output_type": "display_data"
    },
    {
     "data": {
      "text/plain": [
       "'nder'"
      ]
     },
     "metadata": {},
     "output_type": "display_data"
    },
    {
     "data": {
      "text/plain": [
       "'amtssieht'"
      ]
     },
     "metadata": {},
     "output_type": "display_data"
    },
    {
     "data": {
      "text/plain": [
       "'der'"
      ]
     },
     "metadata": {},
     "output_type": "display_data"
    },
    {
     "data": {
      "text/plain": [
       "'insgesamt'"
      ]
     },
     "metadata": {},
     "output_type": "display_data"
    },
    {
     "data": {
      "text/plain": [
       "'nün'"
      ]
     },
     "metadata": {},
     "output_type": "display_data"
    },
    {
     "data": {
      "text/plain": [
       "'spezial'"
      ]
     },
     "metadata": {},
     "output_type": "display_data"
    },
    {
     "data": {
      "text/plain": [
       "'kommissionen'"
      ]
     },
     "metadata": {},
     "output_type": "display_data"
    },
    {
     "data": {
      "text/plain": [
       "'mitwirkt'"
      ]
     },
     "metadata": {},
     "output_type": "display_data"
    },
    {
     "data": {
      "text/plain": [
       "'betrüfer'"
      ]
     },
     "metadata": {},
     "output_type": "display_data"
    },
    {
     "data": {
      "text/plain": [
       "'derne'"
      ]
     },
     "metadata": {},
     "output_type": "display_data"
    },
    {
     "data": {
      "text/plain": [
       "'auwaitspräsident'"
      ]
     },
     "metadata": {},
     "output_type": "display_data"
    },
    {
     "data": {
      "text/plain": [
       "'im'"
      ]
     },
     "metadata": {},
     "output_type": "display_data"
    },
    {
     "data": {
      "text/plain": [
       "'namen'"
      ]
     },
     "metadata": {},
     "output_type": "display_data"
    },
    {
     "data": {
      "text/plain": [
       "'von'"
      ]
     },
     "metadata": {},
     "output_type": "display_data"
    },
    {
     "data": {
      "text/plain": [
       "'kontonsrat'"
      ]
     },
     "metadata": {},
     "output_type": "display_data"
    },
    {
     "data": {
      "text/plain": [
       "'dohim'"
      ]
     },
     "metadata": {},
     "output_type": "display_data"
    },
    {
     "data": {
      "text/plain": [
       "'behtons'"
      ]
     },
     "metadata": {},
     "output_type": "display_data"
    },
    {
     "data": {
      "text/plain": [
       "'fis'"
      ]
     },
     "metadata": {},
     "output_type": "display_data"
    },
    {
     "data": {
      "text/plain": [
       "'dis'"
      ]
     },
     "metadata": {},
     "output_type": "display_data"
    },
    {
     "data": {
      "text/plain": [
       "'großtes'"
      ]
     },
     "metadata": {},
     "output_type": "display_data"
    },
    {
     "data": {
      "text/plain": [
       "'engagement'"
      ]
     },
     "metadata": {},
     "output_type": "display_data"
    },
    {
     "data": {
      "text/plain": [
       "'für'"
      ]
     },
     "metadata": {},
     "output_type": "display_data"
    },
    {
     "data": {
      "text/plain": [
       "'der'"
      ]
     },
     "metadata": {},
     "output_type": "display_data"
    },
    {
     "data": {
      "text/plain": [
       "'comdoin'"
      ]
     },
     "metadata": {},
     "output_type": "display_data"
    },
    {
     "data": {
      "text/plain": [
       "'shweads'"
      ]
     },
     "metadata": {},
     "output_type": "display_data"
    },
    {
     "data": {
      "text/plain": [
       "'und'"
      ]
     },
     "metadata": {},
     "output_type": "display_data"
    },
    {
     "data": {
      "text/plain": [
       "'wünschin'"
      ]
     },
     "metadata": {},
     "output_type": "display_data"
    },
    {
     "data": {
      "text/plain": [
       "'ihm'"
      ]
     },
     "metadata": {},
     "output_type": "display_data"
    },
    {
     "data": {
      "text/plain": [
       "'roschi'"
      ]
     },
     "metadata": {},
     "output_type": "display_data"
    },
    {
     "data": {
      "text/plain": [
       "'und'"
      ]
     },
     "metadata": {},
     "output_type": "display_data"
    },
    {
     "data": {
      "text/plain": [
       "'got'"
      ]
     },
     "metadata": {},
     "output_type": "display_data"
    },
    {
     "data": {
      "text/plain": [
       "'di'"
      ]
     },
     "metadata": {},
     "output_type": "display_data"
    },
    {
     "data": {
      "text/plain": [
       "'beszerikder'"
      ]
     },
     "metadata": {},
     "output_type": "display_data"
    },
    {
     "data": {
      "text/plain": [
       "'naxysitzig'"
      ]
     },
     "metadata": {},
     "output_type": "display_data"
    },
    {
     "data": {
      "text/plain": [
       "'findet'"
      ]
     },
     "metadata": {},
     "output_type": "display_data"
    },
    {
     "data": {
      "text/plain": [
       "'vorursichtlich'"
      ]
     },
     "metadata": {},
     "output_type": "display_data"
    },
    {
     "data": {
      "text/plain": [
       "'am'"
      ]
     },
     "metadata": {},
     "output_type": "display_data"
    },
    {
     "data": {
      "text/plain": [
       "'werde'"
      ]
     },
     "metadata": {},
     "output_type": "display_data"
    },
    {
     "data": {
      "text/plain": [
       "'zwanzig'"
      ]
     },
     "metadata": {},
     "output_type": "display_data"
    },
    {
     "data": {
      "text/plain": [
       "'sti'"
      ]
     },
     "metadata": {},
     "output_type": "display_data"
    },
    {
     "data": {
      "text/plain": [
       "'märz'"
      ]
     },
     "metadata": {},
     "output_type": "display_data"
    },
    {
     "data": {
      "text/plain": [
       "'statt'"
      ]
     },
     "metadata": {},
     "output_type": "display_data"
    },
    {
     "data": {
      "text/plain": [
       "'ob'"
      ]
     },
     "metadata": {},
     "output_type": "display_data"
    },
    {
     "data": {
      "text/plain": [
       "'dem'"
      ]
     },
     "metadata": {},
     "output_type": "display_data"
    },
    {
     "data": {
      "text/plain": [
       "'knauesurwis'"
      ]
     },
     "metadata": {},
     "output_type": "display_data"
    },
    {
     "data": {
      "text/plain": [
       "'wird'"
      ]
     },
     "metadata": {},
     "output_type": "display_data"
    },
    {
     "data": {
      "text/plain": [
       "'noch'"
      ]
     },
     "metadata": {},
     "output_type": "display_data"
    },
    {
     "data": {
      "text/plain": [
       "'der'"
      ]
     },
     "metadata": {},
     "output_type": "display_data"
    },
    {
     "data": {
      "text/plain": [
       "'draht'"
      ]
     },
     "metadata": {},
     "output_type": "display_data"
    },
    {
     "data": {
      "text/plain": [
       "'leipzig'"
      ]
     },
     "metadata": {},
     "output_type": "display_data"
    },
    {
     "data": {
      "text/plain": [
       "'im'"
      ]
     },
     "metadata": {},
     "output_type": "display_data"
    },
    {
     "data": {
      "text/plain": [
       "'ausschluss'"
      ]
     },
     "metadata": {},
     "output_type": "display_data"
    },
    {
     "data": {
      "text/plain": [
       "'de'"
      ]
     },
     "metadata": {},
     "output_type": "display_data"
    },
    {
     "data": {
      "text/plain": [
       "'cantosasiszik'"
      ]
     },
     "metadata": {},
     "output_type": "display_data"
    },
    {
     "data": {
      "text/plain": [
       "'entscheidet'"
      ]
     },
     "metadata": {},
     "output_type": "display_data"
    },
    {
     "data": {
      "text/plain": [
       "'ratsleite'"
      ]
     },
     "metadata": {},
     "output_type": "display_data"
    },
    {
     "data": {
      "text/plain": [
       "'etrifft'"
      ]
     },
     "metadata": {},
     "output_type": "display_data"
    },
    {
     "data": {
      "text/plain": [
       "'sich'"
      ]
     },
     "metadata": {},
     "output_type": "display_data"
    },
    {
     "data": {
      "text/plain": [
       "'in'"
      ]
     },
     "metadata": {},
     "output_type": "display_data"
    },
    {
     "data": {
      "text/plain": [
       "'fünfzehn'"
      ]
     },
     "metadata": {},
     "output_type": "display_data"
    },
    {
     "data": {
      "text/plain": [
       "'minuten'"
      ]
     },
     "metadata": {},
     "output_type": "display_data"
    },
    {
     "data": {
      "text/plain": [
       "'im'"
      ]
     },
     "metadata": {},
     "output_type": "display_data"
    },
    {
     "data": {
      "text/plain": [
       "'kantonsratsaal'"
      ]
     },
     "metadata": {},
     "output_type": "display_data"
    },
    {
     "data": {
      "text/plain": [
       "'der'"
      ]
     },
     "metadata": {},
     "output_type": "display_data"
    },
    {
     "data": {
      "text/plain": [
       "'hone'"
      ]
     },
     "metadata": {},
     "output_type": "display_data"
    },
    {
     "data": {
      "text/plain": [
       "'mitteilig'"
      ]
     },
     "metadata": {},
     "output_type": "display_data"
    },
    {
     "data": {
      "text/plain": [
       "'für'"
      ]
     },
     "metadata": {},
     "output_type": "display_data"
    },
    {
     "data": {
      "text/plain": [
       "'der'"
      ]
     },
     "metadata": {},
     "output_type": "display_data"
    },
    {
     "data": {
      "text/plain": [
       "'kommission'"
      ]
     },
     "metadata": {},
     "output_type": "display_data"
    },
    {
     "data": {
      "text/plain": [
       "'boote'"
      ]
     },
     "metadata": {},
     "output_type": "display_data"
    },
    {
     "data": {
      "text/plain": [
       "'straßen'"
      ]
     },
     "metadata": {},
     "output_type": "display_data"
    },
    {
     "data": {
      "text/plain": [
       "'und'"
      ]
     },
     "metadata": {},
     "output_type": "display_data"
    },
    {
     "data": {
      "text/plain": [
       "'anlage'"
      ]
     },
     "metadata": {},
     "output_type": "display_data"
    },
    {
     "data": {
      "text/plain": [
       "'der'"
      ]
     },
     "metadata": {},
     "output_type": "display_data"
    },
    {
     "data": {
      "text/plain": [
       "'präsident'"
      ]
     },
     "metadata": {},
     "output_type": "display_data"
    },
    {
     "data": {
      "text/plain": [
       "'bitte'"
      ]
     },
     "metadata": {},
     "output_type": "display_data"
    },
    {
     "data": {
      "text/plain": [
       "'mich'"
      ]
     },
     "metadata": {},
     "output_type": "display_data"
    },
    {
     "data": {
      "text/plain": [
       "'in'"
      ]
     },
     "metadata": {},
     "output_type": "display_data"
    },
    {
     "data": {
      "text/plain": [
       "'mitdall'"
      ]
     },
     "metadata": {},
     "output_type": "display_data"
    },
    {
     "data": {
      "text/plain": [
       "'dass'"
      ]
     },
     "metadata": {},
     "output_type": "display_data"
    },
    {
     "data": {
      "text/plain": [
       "'kommission'"
      ]
     },
     "metadata": {},
     "output_type": "display_data"
    },
    {
     "data": {
      "text/plain": [
       "'gute'"
      ]
     },
     "metadata": {},
     "output_type": "display_data"
    },
    {
     "data": {
      "text/plain": [
       "'straßlage'"
      ]
     },
     "metadata": {},
     "output_type": "display_data"
    },
    {
     "data": {
      "text/plain": [
       "'sich'"
      ]
     },
     "metadata": {},
     "output_type": "display_data"
    },
    {
     "data": {
      "text/plain": [
       "'in'"
      ]
     },
     "metadata": {},
     "output_type": "display_data"
    },
    {
     "data": {
      "text/plain": [
       "'trisgenminute'"
      ]
     },
     "metadata": {},
     "output_type": "display_data"
    },
    {
     "data": {
      "text/plain": [
       "'trifft'"
      ]
     },
     "metadata": {},
     "output_type": "display_data"
    },
    {
     "data": {
      "text/plain": [
       "'und'"
      ]
     },
     "metadata": {},
     "output_type": "display_data"
    },
    {
     "data": {
      "text/plain": [
       "'zwar'"
      ]
     },
     "metadata": {},
     "output_type": "display_data"
    },
    {
     "data": {
      "text/plain": [
       "'im'"
      ]
     },
     "metadata": {},
     "output_type": "display_data"
    },
    {
     "data": {
      "text/plain": [
       "'amt'"
      ]
     },
     "metadata": {},
     "output_type": "display_data"
    },
    {
     "data": {
      "text/plain": [
       "'für'"
      ]
     },
     "metadata": {},
     "output_type": "display_data"
    },
    {
     "data": {
      "text/plain": [
       "'militarführen'"
      ]
     },
     "metadata": {},
     "output_type": "display_data"
    },
    {
     "data": {
      "text/plain": [
       "'ze'"
      ]
     },
     "metadata": {},
     "output_type": "display_data"
    },
    {
     "data": {
      "text/plain": [
       "'viel'"
      ]
     },
     "metadata": {},
     "output_type": "display_data"
    },
    {
     "data": {
      "text/plain": [
       "'schulze'"
      ]
     },
     "metadata": {},
     "output_type": "display_data"
    },
    {
     "data": {
      "text/plain": [
       "'der'"
      ]
     },
     "metadata": {},
     "output_type": "display_data"
    },
    {
     "data": {
      "text/plain": [
       "'schlagstrass'"
      ]
     },
     "metadata": {},
     "output_type": "display_data"
    },
    {
     "data": {
      "text/plain": [
       "'sieberdachsgesant'"
      ]
     },
     "metadata": {},
     "output_type": "display_data"
    },
    {
     "data": {
      "text/plain": [
       "'haltbach'"
      ]
     },
     "metadata": {},
     "output_type": "display_data"
    },
    {
     "data": {
      "text/plain": [
       "'in'"
      ]
     },
     "metadata": {},
     "output_type": "display_data"
    },
    {
     "data": {
      "text/plain": [
       "'schwyz'"
      ]
     },
     "metadata": {},
     "output_type": "display_data"
    },
    {
     "data": {
      "text/plain": [
       "'für'"
      ]
     },
     "metadata": {},
     "output_type": "display_data"
    },
    {
     "data": {
      "text/plain": [
       "'huze'"
      ]
     },
     "metadata": {},
     "output_type": "display_data"
    },
    {
     "data": {
      "text/plain": [
       "'kommission'"
      ]
     },
     "metadata": {},
     "output_type": "display_data"
    },
    {
     "data": {
      "text/plain": [
       "'sitzig'"
      ]
     },
     "metadata": {},
     "output_type": "display_data"
    },
    {
     "data": {
      "text/plain": [
       "'mit'"
      ]
     },
     "metadata": {},
     "output_type": "display_data"
    },
    {
     "data": {
      "text/plain": [
       "'eine'"
      ]
     },
     "metadata": {},
     "output_type": "display_data"
    },
    {
     "data": {
      "text/plain": [
       "'sing'"
      ]
     },
     "metadata": {},
     "output_type": "display_data"
    },
    {
     "data": {
      "text/plain": [
       "'blieb'"
      ]
     },
     "metadata": {},
     "output_type": "display_data"
    },
    {
     "data": {
      "text/plain": [
       "'minunno'"
      ]
     },
     "metadata": {},
     "output_type": "display_data"
    },
    {
     "data": {
      "text/plain": [
       "'ehner'"
      ]
     },
     "metadata": {},
     "output_type": "display_data"
    },
    {
     "data": {
      "text/plain": [
       "'zwünsche'"
      ]
     },
     "metadata": {},
     "output_type": "display_data"
    },
    {
     "data": {
      "text/plain": [
       "'dass'"
      ]
     },
     "metadata": {},
     "output_type": "display_data"
    },
    {
     "data": {
      "text/plain": [
       "'die'"
      ]
     },
     "metadata": {},
     "output_type": "display_data"
    },
    {
     "data": {
      "text/plain": [
       "'sum'"
      ]
     },
     "metadata": {},
     "output_type": "display_data"
    },
    {
     "data": {
      "text/plain": [
       "'liebes'"
      ]
     },
     "metadata": {},
     "output_type": "display_data"
    },
    {
     "data": {
      "text/plain": [
       "'hatzisgot'"
      ]
     },
     "metadata": {},
     "output_type": "display_data"
    },
    {
     "data": {
      "text/plain": [
       "'den'"
      ]
     },
     "metadata": {},
     "output_type": "display_data"
    },
    {
     "data": {
      "text/plain": [
       "'schize'"
      ]
     },
     "metadata": {},
     "output_type": "display_data"
    },
    {
     "data": {
      "text/plain": [
       "'geschlosse'"
      ]
     },
     "metadata": {},
     "output_type": "display_data"
    },
    {
     "data": {
      "text/plain": [
       "'messeoder'"
      ]
     },
     "metadata": {},
     "output_type": "display_data"
    },
    {
     "data": {
      "text/plain": [
       "'muss'"
      ]
     },
     "metadata": {},
     "output_type": "display_data"
    },
    {
     "data": {
      "text/plain": [
       "'sie'"
      ]
     },
     "metadata": {},
     "output_type": "display_data"
    },
    {
     "data": {
      "text/plain": [
       "'diskussieren'"
      ]
     },
     "metadata": {},
     "output_type": "display_data"
    }
   ],
   "source": [
    "# calibration offset for timestamps: 180 ms\n",
    "offset = -0.18\n",
    "\n",
    "# split the transcript into words\n",
    "words = stt_output.split()\n",
    "\n",
    "# cut words\n",
    "pos_prev = 0\n",
    "for j, spot in enumerate(spaces):\n",
    "    display(words[j])\n",
    "    pos_end = offset + (spot[0]+spot[1])/2*time_stride\n",
    "    #display(Audio(signal[int(pos_prev*sample_rate):int(pos_end*sample_rate)],\n",
    "    #             rate=sample_rate))\n",
    "    storage_words.append(words[j])\n",
    "    storage_start_time.append(pos_prev)\n",
    "    storage_end_time.append(pos_end)\n",
    "    pos_prev = pos_end\n",
    "\n",
    "#display(words[j+1])\n",
    "#display(Audio(signal[int(pos_prev*sample_rate):],\n",
    "#        rate=sample_rate))\n"
   ]
  },
  {
   "cell_type": "code",
   "execution_count": 47,
   "metadata": {
    "collapsed": false,
    "jupyter": {
     "outputs_hidden": false
    },
    "pycharm": {
     "name": "#%%\n"
    }
   },
   "outputs": [
    {
     "name": "stdout",
     "output_type": "stream",
     "text": [
      "3520\n"
     ]
    }
   ],
   "source": [
    "print(len(storage_start_time))"
   ]
  },
  {
   "cell_type": "code",
   "execution_count": 48,
   "metadata": {
    "collapsed": false,
    "jupyter": {
     "outputs_hidden": false
    },
    "pycharm": {
     "name": "#%%\n"
    }
   },
   "outputs": [],
   "source": [
    "processed_stt_output = pd.DataFrame(\n",
    "    {'startTime': storage_start_time,\n",
    "     'endTime': storage_end_time,\n",
    "     'words': storage_words,\n",
    "     'confidence': average_probs\n",
    "    })"
   ]
  },
  {
   "cell_type": "code",
   "execution_count": 49,
   "metadata": {
    "collapsed": false,
    "jupyter": {
     "outputs_hidden": false
    },
    "pycharm": {
     "name": "#%%\n"
    }
   },
   "outputs": [
    {
     "name": "stdout",
     "output_type": "stream",
     "text": [
      "      startTime  endTime         words  confidence\n",
      "0          0.00     0.12           ich    0.797649\n",
      "1          0.12     0.36          mich    0.922934\n",
      "2          0.36     2.21       ridrale    0.809643\n",
      "3          2.21     2.44          eire    0.649945\n",
      "4          2.44     2.84         defte    0.915000\n",
      "...         ...      ...           ...         ...\n",
      "3515    2326.57  2327.20    geschlosse    0.992727\n",
      "3516    2327.20  2344.88     messeoder    0.864784\n",
      "3517    2344.88  2345.07          muss    0.824691\n",
      "3518    2345.07  2345.24           sie    0.921515\n",
      "3519    2345.24  2346.26  diskussieren    0.838446\n",
      "\n",
      "[3520 rows x 4 columns]\n"
     ]
    }
   ],
   "source": [
    "print(processed_stt_output)"
   ]
  },
  {
   "cell_type": "markdown",
   "metadata": {
    "pycharm": {
     "name": "#%% md\n"
    }
   },
   "source": [
    "## Language Model\n",
    "Get the 5-gram german language model from huggingface (https://huggingface.co/aware-ai/wav2vec2-xls-r-1b-5gram-german)"
   ]
  },
  {
   "cell_type": "code",
   "execution_count": 50,
   "metadata": {
    "collapsed": false,
    "jupyter": {
     "outputs_hidden": false
    },
    "pycharm": {
     "name": "#%%\n"
    }
   },
   "outputs": [],
   "source": [
    "#lm_path = \"language_model/wav2vec2-xls-r-1b-german-german-5g.binary\""
   ]
  },
  {
   "cell_type": "markdown",
   "metadata": {
    "pycharm": {
     "name": "#%% md\n"
    }
   },
   "source": [
    "Instantiate beam search with language model"
   ]
  },
  {
   "cell_type": "code",
   "execution_count": 51,
   "metadata": {
    "collapsed": false,
    "jupyter": {
     "outputs_hidden": false
    },
    "pycharm": {
     "name": "#%%\n"
    }
   },
   "outputs": [
    {
     "data": {
      "text/plain": [
       "'\\nbeam_search_lm = nemo_asr.modules.BeamSearchDecoderWithLM(\\n    vocab=list(model.decoder.vocabulary),\\n    beam_width=16,\\n    alpha=2, beta=1.5,\\n    lm_path=lm_path,\\n    num_cpus=max(os.cpu_count(), 1),\\n    input_tensor=False)\\n'"
      ]
     },
     "execution_count": 51,
     "metadata": {},
     "output_type": "execute_result"
    }
   ],
   "source": [
    "'''\n",
    "beam_search_lm = nemo_asr.modules.BeamSearchDecoderWithLM(\n",
    "    vocab=list(model.decoder.vocabulary),\n",
    "    beam_width=16,\n",
    "    alpha=2, beta=1.5,\n",
    "    lm_path=lm_path,\n",
    "    num_cpus=max(os.cpu_count(), 1),\n",
    "    input_tensor=False)\n",
    "'''"
   ]
  },
  {
   "cell_type": "code",
   "execution_count": 52,
   "metadata": {
    "collapsed": false,
    "jupyter": {
     "outputs_hidden": false
    },
    "pycharm": {
     "name": "#%%\n"
    }
   },
   "outputs": [],
   "source": [
    "#best_sentence_prediction = beam_search_lm.forward(log_probs = np.expand_dims(stt_probs, axis=0), log_probs_length=None)[0][0][1]"
   ]
  },
  {
   "cell_type": "code",
   "execution_count": 53,
   "metadata": {
    "collapsed": false,
    "jupyter": {
     "outputs_hidden": false
    },
    "pycharm": {
     "name": "#%%\n"
    }
   },
   "outputs": [],
   "source": [
    "#print(best_sentence_prediction)"
   ]
  },
  {
   "cell_type": "markdown",
   "metadata": {
    "pycharm": {
     "name": "#%% md\n"
    }
   },
   "source": [
    "## Alignment Procedure"
   ]
  },
  {
   "cell_type": "code",
   "execution_count": 54,
   "metadata": {
    "collapsed": false,
    "jupyter": {
     "outputs_hidden": false
    },
    "pycharm": {
     "name": "#%%\n"
    }
   },
   "outputs": [],
   "source": [
    "from aligning.sentence_aligner import SentenceAligner\n",
    "from aligning.stt_reader import NeMoSttOutputReader\n",
    "from aligning.utils import Word"
   ]
  },
  {
   "cell_type": "code",
   "execution_count": 55,
   "metadata": {
    "collapsed": false,
    "jupyter": {
     "outputs_hidden": false
    },
    "pycharm": {
     "name": "#%%\n"
    }
   },
   "outputs": [
    {
     "name": "stdout",
     "output_type": "stream",
     "text": [
      "3520\n"
     ]
    }
   ],
   "source": [
    "final_stt_output = []\n",
    "for i in range(0, len(processed_stt_output)):\n",
    "    final_stt_output.append(Word(storage_words[i], storage_start_time[i], storage_end_time[i], average_probs[i]))\n",
    "\n",
    "print(len(final_stt_output))"
   ]
  },
  {
   "cell_type": "code",
   "execution_count": 56,
   "metadata": {
    "collapsed": false,
    "jupyter": {
     "outputs_hidden": false
    },
    "pycharm": {
     "name": "#%%\n"
    }
   },
   "outputs": [],
   "source": [
    "sentence_aligner = SentenceAligner()"
   ]
  },
  {
   "cell_type": "code",
   "execution_count": 57,
   "metadata": {
    "collapsed": false,
    "jupyter": {
     "outputs_hidden": false
    },
    "pycharm": {
     "name": "#%%\n"
    }
   },
   "outputs": [],
   "source": [
    "sentence_alignment, alignment_info = sentence_aligner.predict_one(\n",
    "    truth_sentences, final_stt_output,\n",
    "    do_length_ratio_full_transcript_filtering=False,\n",
    "    do_time_correction=False,\n",
    ")"
   ]
  },
  {
   "cell_type": "code",
   "execution_count": 58,
   "metadata": {
    "collapsed": false,
    "jupyter": {
     "outputs_hidden": false
    },
    "pycharm": {
     "name": "#%%\n"
    }
   },
   "outputs": [
    {
     "name": "stdout",
     "output_type": "stream",
     "text": [
      "0       180\n",
      "1        84\n",
      "2       121\n",
      "3        30\n",
      "4        52\n",
      "       ... \n",
      "1649     67\n",
      "1650     87\n",
      "1651    264\n",
      "1652    126\n",
      "1653      6\n",
      "Name: truth_length, Length: 1654, dtype: int64\n"
     ]
    }
   ],
   "source": [
    "print(alignment_info.truth_length)"
   ]
  },
  {
   "cell_type": "code",
   "execution_count": 59,
   "metadata": {
    "collapsed": false,
    "jupyter": {
     "outputs_hidden": false
    },
    "pycharm": {
     "name": "#%%\n"
    }
   },
   "outputs": [],
   "source": [
    "NONE_TIME_STRING_REPRESENTATION = '-1.0'\n",
    "def transform_start_time(time):\n",
    "    if time is None:\n",
    "        return NONE_TIME_STRING_REPRESENTATION\n",
    "    else:\n",
    "        return time\n",
    "\n",
    "def transform_end_time(time):\n",
    "    if time is None:\n",
    "        return NONE_TIME_STRING_REPRESENTATION\n",
    "    else:\n",
    "        return time"
   ]
  },
  {
   "cell_type": "code",
   "execution_count": 60,
   "metadata": {
    "collapsed": false,
    "jupyter": {
     "outputs_hidden": false
    },
    "pycharm": {
     "name": "#%%\n"
    }
   },
   "outputs": [],
   "source": [
    "with open(\"final_output_0224.txt\", 'w', encoding='utf-8') as f:\n",
    "        for aligned_sentence in sentence_alignment:\n",
    "            f.write(f'{transform_start_time(aligned_sentence.start_time)}\\t{transform_end_time(aligned_sentence.end_time)}\\t{aligned_sentence.sentence}\\n')"
   ]
  },
  {
   "cell_type": "markdown",
   "metadata": {},
   "source": [
    "## IOU Estimation\n",
    "With the following features the IOU is estimated:\n",
    "- Length Ratio\n",
    "- Alignment Score\n",
    "- Mean speech recognition confidence\n",
    "- Chars per second\n",
    "\n",
    "Given the IOU a threshold is set determining whether the sentence is discarded for training or not. "
   ]
  },
  {
   "cell_type": "code",
   "execution_count": 61,
   "metadata": {},
   "outputs": [
    {
     "name": "stdout",
     "output_type": "stream",
     "text": [
      "      confidence     score  length_ratio  chars_per_second\n",
      "0       0.797649 -0.262142     60.000000       1500.000000\n",
      "1       0.797649 -0.272974     28.000000          0.000000\n",
      "2       0.797649 -0.266763     40.333333          0.000000\n",
      "3       0.797649 -0.309530     10.000000          0.000000\n",
      "4       0.797649 -0.285471     17.333333          0.000000\n",
      "...          ...       ...           ...               ...\n",
      "1649    0.966948 -0.160701      0.930556         13.188976\n",
      "1650    0.946148 -0.373308      1.129870         18.510638\n",
      "1651    0.954532 -0.431939      1.168142         15.612064\n",
      "1652    0.861879 -0.380734      1.340426         20.160000\n",
      "1653    0.864784 -0.791969      0.666667          0.339367\n",
      "\n",
      "[1654 rows x 4 columns]\n"
     ]
    }
   ],
   "source": [
    "normalized_score = alignment_info.score / alignment_info.truth_length\n",
    "length_ratio = alignment_info.truth_length / alignment_info.stt_length\n",
    "chars_per_second = alignment_info.truth_length / alignment_info.audio_duration\n",
    "\n",
    "features = pd.DataFrame(\n",
    "                        {'confidence': alignment_info.stt_confidence,\n",
    "                        'score': normalized_score,\n",
    "                        'length_ratio': length_ratio,\n",
    "                        'chars_per_second': chars_per_second\n",
    "                        }\n",
    "                       )\n",
    "features['chars_per_second'].replace(np.inf, 0, inplace=True)\n",
    "print(features)"
   ]
  },
  {
   "cell_type": "markdown",
   "metadata": {
    "pycharm": {
     "name": "#%% md\n"
    }
   },
   "source": [
    "## Audio Splitting\n",
    "Given the sequences determined by the alignments with sentences, we split up the large audio files into digestable sequences. \n",
    "To prepare the sequences for training manifests for NeMo will be built. "
   ]
  },
  {
   "cell_type": "markdown",
   "metadata": {},
   "source": [
    "Prepare data for fitting the IOU estimator. First all the features are loaded and possible NAs are dropped from the dataframe. \n",
    "The actual IOUs are calculated given the start and end time of the truth sentence alignment and the predicted sentence alignment. "
   ]
  },
  {
   "cell_type": "code",
   "execution_count": 62,
   "metadata": {},
   "outputs": [],
   "source": [
    "df_features = features.dropna()"
   ]
  },
  {
   "cell_type": "code",
   "execution_count": 63,
   "metadata": {},
   "outputs": [],
   "source": [
    "df = df_features.copy()"
   ]
  },
  {
   "cell_type": "code",
   "execution_count": 64,
   "metadata": {},
   "outputs": [],
   "source": [
    "df = df.drop(df[df.chars_per_second == 0].index)\n",
    "df = df.iloc[1: , :]"
   ]
  },
  {
   "cell_type": "code",
   "execution_count": 65,
   "metadata": {},
   "outputs": [
    {
     "name": "stdout",
     "output_type": "stream",
     "text": [
      "      confidence     score  length_ratio  chars_per_second\n",
      "1366    0.843409 -0.455796      1.562500         11.961722\n",
      "1367    0.943141 -0.389824      1.106977         14.875000\n",
      "1368    0.834532 -0.773286      0.517241          3.456221\n",
      "1369    0.851718 -0.648332      0.566667          3.932151\n",
      "1370    0.873994 -0.469443      1.073171          8.118081\n",
      "...          ...       ...           ...               ...\n",
      "1649    0.966948 -0.160701      0.930556         13.188976\n",
      "1650    0.946148 -0.373308      1.129870         18.510638\n",
      "1651    0.954532 -0.431939      1.168142         15.612064\n",
      "1652    0.861879 -0.380734      1.340426         20.160000\n",
      "1653    0.864784 -0.791969      0.666667          0.339367\n",
      "\n",
      "[288 rows x 4 columns]\n"
     ]
    }
   ],
   "source": [
    "print(df)"
   ]
  },
  {
   "cell_type": "markdown",
   "metadata": {},
   "source": [
    "Get estimated alignments of the audio file provided"
   ]
  },
  {
   "cell_type": "code",
   "execution_count": 68,
   "metadata": {},
   "outputs": [
    {
     "name": "stdout",
     "output_type": "stream",
     "text": [
      "0.12\n"
     ]
    }
   ],
   "source": [
    "time_first_sentences = sentence_alignment[1].start_time\n",
    "print(time_first_sentences)"
   ]
  },
  {
   "cell_type": "code",
   "execution_count": 69,
   "metadata": {},
   "outputs": [],
   "source": [
    "estimated_alignments = [item for item in sentence_alignment if item.start_time != time_first_sentences]"
   ]
  },
  {
   "cell_type": "code",
   "execution_count": 111,
   "metadata": {},
   "outputs": [],
   "source": [
    "def write_sentence_alignment(sentence_alignment: List[AlignedSentence], path_to_sentence_alignment):\n",
    "    with open(path_to_sentence_alignment, 'w', encoding='utf-8') as f:\n",
    "        for aligned_sentence in sentence_alignment:\n",
    "            f.write(f'{aligned_sentence.start_time}\\t{aligned_sentence.end_time}\\t{aligned_sentence.sentence}\\n')"
   ]
  },
  {
   "cell_type": "code",
   "execution_count": 113,
   "metadata": {},
   "outputs": [],
   "source": [
    "write_sentence_alignment(estimated_alignments, \"data/estimated_timestamps_0224.txt\")"
   ]
  },
  {
   "cell_type": "code",
   "execution_count": 130,
   "metadata": {},
   "outputs": [
    {
     "name": "stdout",
     "output_type": "stream",
     "text": [
      "[1, 6, 7, 9, 10, 12, 13, 14, 15, 16, 18, 19, 21, 22, 23, 24, 28, 29, 30, 31, 34, 35, 36, 37, 38, 41, 43, 44, 45, 46, 48, 52, 53, 54, 55, 57, 59, 60, 62, 63, 64, 70, 74, 77, 78, 80, 81, 82, 84, 85, 86, 87, 88, 90, 91, 92, 95, 96, 97, 98, 99, 100, 101, 102, 103, 104, 105, 106, 107, 108, 109, 110, 111, 112, 115, 118, 119, 123, 124, 125, 126, 127, 128, 129, 131, 133, 134, 135, 136, 137, 138, 139, 141, 142, 144, 145, 146, 147, 148, 149, 150, 151, 152, 154, 155, 156, 157, 158, 159, 160, 161, 162, 163, 165, 167, 168, 169, 173, 174, 175, 176, 177, 178, 179, 180, 181, 182, 183, 184, 185, 187, 193, 195, 196, 198, 199, 200, 201, 202, 203, 204, 205, 206, 207, 208, 209, 210, 211, 212, 214, 215, 216, 217, 218, 219, 220, 221, 222, 223, 224, 225, 228, 230, 231, 236, 237, 238, 239, 240, 241, 242, 243, 244, 245, 248, 249, 250, 251, 252, 253, 254, 255, 256, 257, 258, 259, 260, 261, 269, 270, 276, 277, 278, 279, 280, 281, 282, 283, 284, 285, 286]\n"
     ]
    }
   ],
   "source": [
    "print(index_keep)"
   ]
  },
  {
   "cell_type": "code",
   "execution_count": 131,
   "metadata": {},
   "outputs": [],
   "source": [
    "high_quality_sentences = [sentence_alignment[i] for i in range(len(sentence_alignment)) if i in index_keep]"
   ]
  },
  {
   "cell_type": "code",
   "execution_count": 147,
   "metadata": {},
   "outputs": [],
   "source": [
    "AUDIO_FILE = ['data/final_0224.wav']"
   ]
  },
  {
   "cell_type": "code",
   "execution_count": 150,
   "metadata": {},
   "outputs": [
    {
     "name": "stdout",
     "output_type": "stream",
     "text": [
      "Ich begrüsse Sie recht herzlich zur ersten Sitzung im Jahr zweitausendeinundzwanzig.\n",
      "Er nahm zweitausendsieben bis zum Legislaturwechsel im Sommer zweitausendzwanzig als CVP-Vertreter aus der Gemeinde Arth im Kantonsrat Einsitz.\n",
      "Von zweitausendzwölf bis zweitausendfünfzehn war er Fraktionspräsident der CVP und von zweitausendsechzehn bis zweitausendachtzehn amtete er als Präsident der Kommission für Bildung und Kultur.\n",
      "Er sass von eintausendneunhundertzweiundsiebzig bis eintausendneunhundertachtzig als SP-Vertreter aus der Gemeinde Ingenbohl im Kantonsrat.\n",
      "Am sechster Februar zweitausendeinundzwanzig verstarb alt Kantonsrat Bruno Germann aus Pfäffikon.\n",
      "Ich bitte Sie, die lieben Verstorbenen in Ihr stilles Gebet einzuschliessen.\n",
      "Vielen Dank.\n",
      "Wir sind es uns beinahe gewohnt, hier drin zu tagen.\n",
      "Erlauben Sie mir trotzdem, die wichtigsten Punkte unseres Sicherheitskonzepts noch einmal kurz erläutern.\n",
      "Bitte halten Sie heute die Abstands- und die Hygienemassnahmen den ganzen Tag wiederum konsequent ein.\n",
      "Gesprochen wird wie üblich vorne an einem der Rednerpulte.\n",
      "Es empfiehlt sich auch, bereits nach vorne zu kommen, wenn der Vorredner oder die Vorrednerin noch am Sprechen ist.\n",
      "Ich bitte Sie, für das Votum jeweils immer das vom Vorredner oder der Vorrednerin nicht benutzte Rednerpult zu verwenden, weil das andere Rednerpult jeweils nach dem vorgängigen Votum gereinigt wird.\n",
      "Während des ganzen Tages herrscht auf dem Gelände des MythenForums eine generelle Maskenpflicht.\n",
      "Lediglich am Rednerpult ist das Tragen der Maske fakultativ.\n",
      "Im hintersten Bereich sind wiederum jene Kantonsratsmitglieder platziert, die mit einem Arztzeugnis von der Maskenpflicht befreit sind.\n",
      "Wie Sie wissen, braucht es gemäss\n",
      "Paragraph einundvierzig Absatz eins der Geschäftsordnung für eine Festlegung eines anderen Sitzungsortes eine Zwei-Drittels-Mehrheit der Stimmenden.\n",
      "Wir stimmen darüber ab.\n",
      "Es sind auch Medienvertreter anwesend.\n",
      "Ein Bericht darüber wird, soviel ich weiss, heute in Schweiz aktuell ausgestrahlt.\n",
      "Wir kommen zum Geschäftsverzeichnis.\n",
      "Gibt es Wortmeldungen zum Geschäftsverzeichnis?\n",
      "Sehr geehrter Präsident, meine Damen und Herren.\n",
      "Letzte Woche haben die bürgerlichen Parteien einen offenen Brief an die Regierung verfasst.\n",
      "Mit einer Dringlich- und Erheblicherklärung dieses Postulats hätten wir heute als Parlament die Möglichkeit gehabt, die Regierung auf diese Forderungen zu verpflichten oder entsprechende Handlungen einzufordern.\n",
      "In dieser Stellungnahme fordert die Regierung eine schnelle Öffnung der Gastronomiebetriebe, von Freizeit- und Sportanlagen und gewissen Veranstaltungen per erster März zweitausendeinundzwanzig.\n",
      "Dies liegt ganz im Sinne unseres Postulats.\n",
      "Natürlich sollen all diese Öffnungen unter Einbezug von Schutzkonzepten stattfinden.\n",
      "Dafür danke ich der Regierung herzlich.\n",
      "Das ist wirklich toll, hier arbeitet man nämlich bei uns im Kanton mit den Leuten zusammen, es wird auf die Leute gehört, das schätzen wir wirklich sehr.\n",
      "Mit teilweise absolut bizarren und immer auch mit neuen Argumenten versucht er den Lockdown, in dem wir uns derzeit befinden, weiter zu verlängern.\n",
      "Wir müssen schon sehen, die Auswirkungen dieses Lockdowns sind für die Wirtschaft aber auch für die Menschen in diesem Land absolut katastrophal – Leute vereinsamen.\n",
      "Wenn man heute die Medien liest, leidet auch die Psyche der Menschen, häusliche Gewalt nimmt zu und Tausende Arbeits- und Ausbildungsplätze gehen verloren, Betriebe werden in den Ruin getrieben, unglaublich.\n",
      "Jede Stunde steigt die Staatsverschuldung um weitere sechs Millionen Franken an.\n",
      "Langsam aber sicher müssen wir uns fragen, sind die Folgen der Behandlung nicht schwerer als es die Krankheit?\n",
      "Denken Sie daran, das ist wirklich unglaublich, was wir hier zukünftigen Generationen zumuten.\n",
      "Nehmen Sie diese Verantwortung bitte wahr, wehren Sie sich gegen diese praktisch absolutistische Corona-Diktatur des Bundesrates.\n",
      "Von Seiten der Postulanten verzichten wir auf den Antrag, das Postulat für dringlich zu erklären.\n",
      "Wir unterstützen den Kurs der Regierung.\n",
      "Was Sie auch noch mitnehmen sollten:\n",
      "Sehr geehrter Präsident, meine Damen und Herren.\n",
      "Mit einer Dringlich- und Erheblicherklärung dieses Postulats hätten wir heute als Parlament die Möglichkeit gehabt, die Regierung auf diese Forderungen zu verpflichten oder entsprechende Handlungen einzufordern.\n",
      "Dies liegt ganz im Sinne unseres Postulats.\n",
      "Natürlich sollen all diese Öffnungen unter Einbezug von Schutzkonzepten stattfinden.\n",
      "Respekt für die mutige und couragierte Kommunikation und danke für die schnelle Aufnahme unseres Anliegens.\n",
      "Das ist wirklich toll, hier arbeitet man nämlich bei uns im Kanton mit den Leuten zusammen, es wird auf die Leute gehört, das schätzen wir wirklich sehr.\n",
      "Nicht so, wie es nämlich die Landesregierung bisweilen tut.\n",
      "Heute entscheidet der Bundesrat wieder.\n",
      "Mit teilweise absolut bizarren und immer auch mit neuen Argumenten versucht er den Lockdown, in dem wir uns derzeit befinden, weiter zu verlängern.\n",
      "Wir müssen schon sehen, die Auswirkungen dieses Lockdowns sind für die Wirtschaft aber auch für die Menschen in diesem Land absolut katastrophal – Leute vereinsamen.\n",
      "Wenn man heute die Medien liest, leidet auch die Psyche der Menschen, häusliche Gewalt nimmt zu und Tausende Arbeits- und Ausbildungsplätze gehen verloren, Betriebe werden in den Ruin getrieben, unglaublich.\n",
      "Jede Stunde steigt die Staatsverschuldung um weitere sechs Millionen Franken an.\n",
      "Langsam aber sicher müssen wir uns fragen, sind die Folgen der Behandlung nicht schwerer als es die Krankheit?\n",
      "Auch heute werden wir voraussichtlich wieder eine Millionenhilfe sprechen, um die Auswirkungen dieses Lockdowns abzufedern, es wird wahrscheinlich auch nicht das letzte Mal sein.\n",
      "Denken Sie daran, das ist wirklich unglaublich, was wir hier zukünftigen Generationen zumuten.\n",
      "Von Seiten der Postulanten verzichten wir auf den Antrag, das Postulat für dringlich zu erklären.\n",
      "Wir unterstützen den Kurs der Regierung.\n",
      "Was Sie auch noch mitnehmen sollten:\n",
      "Reduzieren Sie die Massnahmen im Kanton Schwyz, die Einschränkungen, die im Moment über das Obligatorium hinausgehen.\n",
      "reduzieren Sie diese auf ein Minimum.\n",
      "Der Bildungsdirektor weiss, was ich meine.\n",
      "Wir verzichten auf eine Dringlicherklärung des Postulats, wir werden dieses zurückziehen.\n",
      "Danke vielmals.\n",
      "Wir sind nach wie vor beim Geschäftsverzeichnis.\n",
      "Für Corona-Diskussionen haben wir beim übernächsten Traktandum viel Zeit.\n",
      "Wenn es noch weitere Voten zum Geschäftsverzeichnis gibt, dann bitte jetzt.\n",
      "Herr Präsident, meine Damen und Herren.\n",
      "Ich bin sehr verwirrt.\n",
      "Wir sprechen über das Geschäftsverzeichnis und dann kommt ein solches Votum.\n",
      "Wir haben keinen Antrag zum Geschäftsverzeichnis gehört.\n",
      "Ich kann mir nicht vorstellen, weshalb jetzt dieses Votum unter diesem Traktandum hätte gehalten werden sollen.\n",
      "Ich bin wirklich erneut wieder sehr, sehr enttäuscht.\n",
      "Ich finde es gibt absolut keinen Platz hier drin, um von Diktatur zu sprechen.\n",
      "Wir leben in einer der besten Demokratien der Welt.\n",
      "Gerade in einer solch schwierigen Zeit muss das nicht sein.\n",
      "Wir sind nach wie vor beim Geschäftsverzeichnis.\n",
      "Es ist wichtig, dass wir als Kantonsrätinnen und Kantonsräte direkt aus erster Hand von der Regierung informiert werden.\n",
      "Hierfür hat sich Frau Landammann bereits bereitgemacht.\n",
      "Herr Präsident, meine Damen und Herren.\n",
      "Coronavirus breitet sich in Europa aus.\n",
      "In Italien ist die Zahl der Toten durch das Coronavirus auf sieben gestiegen.\n",
      "Mehr als zweihundertzwanzig Menschen sind infiziert.\n",
      "Die Regierung ergriff drastische Massnahmen gegen die Ausbreitung.\n",
      "Am fünfundzwanzigster Februar zweitausendzwanzig wurde offiziell der erste Corona-Fall in der Schweiz im Tessin registriert.\n",
      "Eine Krise, die seit zwölf Monaten dauert, hinterlässt Spuren bei jedem Einzelnen aber auch in der Gesellschaft.\n",
      "Die Corona-Pandemie beeinflusst unser Leben, unser Verhalten, unsere Gefühle, unser Klima, unseren Konsum und sogar unsere Sprache.\n",
      "Kurz: Corona hat unser Leben verändert.\n",
      "Masken werden so selbstverständlich getragen wie Socken, es gibt Ellbogengruss statt Umarmung, alte Hobbys werden aufgegeben und neue werden gefunden.\n",
      "Ein häufiger Satz lautet: Du musst noch das Mikrophon einstellen.\n",
      "Im Fernsehen sieht man auf einen Blick, welche Filme vor Corona gedreht wurden und bei den Bildern vom Oktoberfest ist man schon fast peinlich berührt.\n",
      "Das Gesundheitswesen in der Schweiz ist im vergangen Jahr an seine Grenzen gelangt.\n",
      "Die Krise hat uns schonungslos Defizite in der Digitalisierung aufgezeigt und sogar der Föderalismus ist zeitweise hinterfragt worden.\n",
      "Nach einem Jahr stehen wir jetzt an einem Wendepunkt.\n",
      "Wir fordern Lockerungen, weil die Leute eine Perspektive brauchen – und dies nicht nur wirtschaftlich gesehen.\n",
      "Wir beobachten die zunehmende Polarisierung mit Sorge.\n",
      "Corona ist schwierig, braucht Geduld, ist frustrierend, schürt Ängste und verlangt Jung und Alt viel ab.\n",
      "Aber all das ändert nichts daran:\n",
      "Durch diese Krise kommen wir nur gemeinsam.\n",
      "Stärker denn je braucht es ein Zusammenstehen, ein Rücksichtnehmen und ein Füreinandereinstehen.\n",
      "Ich bedanke mich bei allen von ganzem Herzen, die genau dies vorleben, mittragen und mitgestalten.\n",
      "Sie sind der Kitt unserer Gesellschaft.\n",
      "Nun zu ein paar nüchternen Zahlen und Fakten:\n",
      "neuntausendfünfhunderteins Personen wurden bis anhin insgesamt positiv auf COVID getestet.\n",
      "zweihundertvierzehn Todesfälle haben rund um Corona beklagt werden müssen.\n",
      "Seit einer Woche kam zum Glück kein weiterer Todesfall mehr dazu.\n",
      "Der Altersdurchschnitt bei den Todesfällen liegt bei zweiundachtzig.sechs Jahren.\n",
      "dreihundertsiebenundvierzig Personen befinden sich aktuell in Quarantäne.\n",
      "Bei den Tests haben wir eine Positivitätsrate von vier.vier Prozent und die sieben-Tage-Inzidenz liegt bei sechzig.\n",
      "Der Höchstwert am zweiter November zweitausendzwanzig betrug sechshundertelf.\n",
      "Das Contact Tracing funktioniert, ebenfalls das Ausbruchsmanagement.\n",
      "Das bedeutet, wenn zum Beispiel in einer Schulklasse ein Fall auftritt, dass die ganze Klasse durchgetestet wird.\n",
      "Zum Impfen: Es wurden elf achthundertsechsundsiebzig Impfungen verabreicht, über siebentausend Termine sind vergeben und knapp achttausend Personen befinden sich auf der Warteliste.\n",
      "Das sind Zahlen, aber hinter jeder Zahl steht ein Mensch.\n",
      "Vergessen wir neben den gesellschaftlichen und wirtschaftlichen Aspekten diese Menschen nicht.\n",
      "Zu den Zahlen im Bereich Volkswirtschaft wird Sie unter Traktandum zwei der Volkswirtschaftsdirektor informieren.\n",
      "Jetzt eine Information, die mich sehr freut und uns auch wirklich Hoffnung gibt: Wir hatten vor Weihnachten am einundzwanzigster Dezember zweitausendzwanzig auf diverse Pflegeheime verteilt insgesamt neunundneunzig infizierte Bewohnerinnen und Bewohner.\n",
      "Vielleicht ist das statistisch nicht relevant und epidemiologisch nicht aussagekräftig, aber sehr erfreulich ist es trotzdem.\n",
      "Es war ja immer unser Ansinnen, die gefährdeten Personen zu schützen und das Gesundheitswesen nicht zu überlasten.\n",
      "Aufgrund dieser Entwicklung, aber auch aufgrund der gesellschaftlichen und wirtschaftlichen Aspekte hat sich der Regierungsrat bei der Konsultation zu den Öffnungsschritten dafür ausgesprochen, schneller und stärker zu öffnen.\n",
      "Sie konnten es lesen, der Regierungsrat hat beantragt, die Gastronomiebetriebe – selbstverständlich unter Einhaltung der entsprechenden Schutzkonzepte – bereits ab erster März zweitausendeinundzwanzig zu öffnen.\n",
      "Professionelle Veranstaltungen in den Bereichen Kultur, Freizeit und Sport, Sport und Kultur auch im Innenbereich, sollen unter Einhaltung der entsprechenden Schutzkonzepte ab erster März zweitausendeinundzwanzig möglich sein.\n",
      "Dazu gehören auch religiöse Veranstaltungen.\n",
      "Kapazitätsbeschränkungen bei Ladengeschäften und Dienstleistungsbetrieben sollen bei den heute geltenden zehn mzwei pro Kunde liegen und nicht auf fünfundzwanzig mzwei pro Kunde erhöht werden.\n",
      "Der Regierungsrat des Kantons Schwyz hat ebenfalls angemerkt, dass weitere Schritte nicht erst nach einem Monat entschieden werden sollen, sondern in kürzeren Intervallen.\n",
      "Das sind weitgehende Forderungen, welche die Exekutive des Kantons Schwyz an die Exekutive des Bundes gerichtet hat.\n",
      "Wichtig zu diesen Massnahmen ist noch zu wissen, dass wir kantonal – ausser wenigen im Bereich Bildung – schon seit längerem keine weitergehenden kantonalen Massnahmen mehr haben.\n",
      "Der Bundesrat wird heute Morgen entscheiden, welche Lockerungen ab erster März zweitausendeinundzwanzig definitiv gelten, wie das weitere Vorgehen aussieht und dies am Nachmittag kundtun.\n",
      "Meine Damen und Herren, die nächsten Wochen werden entscheidend sein:\n",
      "Die Auswirkungen der Lockerungen, die Entwicklung der Mutationen, die Geschwindigkeit beim Impfen, aber allem voran das Verhalten der Leute.\n",
      "Wir brauchen Ihre Unterstützung und ich bedanke mich bei allen ganz herzlich, die uns diese Unterstützung geben.\n",
      "Das ist ja etwas, das uns Schwyzern liegt.\n",
      "Anschliessend werden wir die Detailberatung zu den einzelnen Punkten durchführen.\n",
      "Das Wort ist frei für den Kommissionssprecher.\n",
      "Angesichts des ausführlichen Votums von LA Petra Steimen-Rickenbacher möchte ich zur Situation, in der wir uns befinden, und weshalb die ganze Massnahme, über die wir jetzt diskutieren, notwendig sind, nicht weiter ausholen.\n",
      "An der Session vom sechszehnter Dezember des letzten Jahres hat der Kantonsrat beschlossen, sich aufgrund der COVID-neunzehn-Pandemie an einem ersten vom Bund lancierten COVID-neunzehn-Pandemie Härtefall-Unterstützungspaket mit einem Bundesvolumen von insgesamt eins Mrd. Franken in einem kantonal maximal möglichen Umfang zu beteiligen und damit der Schwyzer Wirtschaft zu helfen.\n",
      "Mit Ausgaben von vier.neunhundertsechsundsiebzig Millionen Franken zulasten der Kantonskasse konnten wir damals ein erstes Hilfspaket für die Schwyzer Wirtschaft im Umfang von fünfzehn.fünfundfünfzig Millionen Franken schnüren.\n",
      "Bereits am achtzehnter Dezember zweitausendzwanzig, also nur zwei Tage später, hat der Bundesrat aufgrund des sich abzeichnenden grösseren Bedarfs ein weiteres Unterstützungspaket im schweizweiten Umfang von siebenhundertfünfzig Millionen Franken aufgesetzt.\n",
      "Dabei wurden die Anwendungskriterien leicht gelockert, mindestens auf Stufe Bund.\n",
      "Neu ist nicht nur ein Umsatzrückgang von vierzigProzent im Jahr zweitausendzwanzig ausschlaggebend, sondern auch eine behördliche Schliessung von mindestens vierzig Tagen im Zeitraum vom erster November zweitausendzwanzig bis dreissigster Juni zweitausendeinundzwanzig.\n",
      "Das sind also die gelockerten Bundeskriterien zur Ausschüttung von solchen Härtefallentschädigungen.\n",
      "Über die Beteiligung an diesem neuen Härtefallunterstützungspaket zweitausendeinundzwanzig haben wir heute zu entscheiden.\n",
      "Falls sich der Kanton Schwyz auch an diesem Programm beteiligt, kann er mit einem Mitteleinsatz von drei.achthunderteinundsechzig Millionen Franken zulasten des Kantonssäckels insgesamt zehn.fünfhundertvierundsiebzig Millionen Franken für die notleidenden Betriebe auslösen.\n",
      "Zusammen mit dem Programm des letzten Jahres betragen die für die Betriebe zur Verfügung stehenden Mittel insgesamt siebenundzwanzig.fünfundzwanzig Millionen Franken.\n",
      "Die Staatswirtschaftskommission hat sich an einer virtuell stattfindenden Sitzung vom siebenundzwanzigster Januar zweitausendeinundzwanzig darüber informieren können, dass die zusätzlichen Mittel auch im Kanton Schwyz dringend benötigt werden.\n",
      "Im Amt für Wirtschaft geht man aufgrund von Rückmeldungen davon aus, dass die bei einer Annahme des heute zur Debatte stehenden Pakets zur Verfügung stehenden Mittel nicht einmal die Hälfte des erwarteten Hilfsvolumens abdecken.\n",
      "Wir sind also noch nicht am Ende, wie bereits ein Vorredner bemerkt hat.\n",
      "Es ist kaum anzunehmen, dass der Kanton Schwyz im Vergleich mit anderen Kantonen besonders exponiert ist, besonders schlecht dasteht.\n",
      "Es ist vielmehr davon auszugehen, dass weitere Hilfsprogramme folgen dürften.\n",
      "Ebenso unbestritten war, dass die Härtefallgelder in Form von à fonds perdu Beiträgen eingesetzt werden.\n",
      "In der aktuellen Situation helfen rückzahlbare Kredite nichts.\n",
      "Es wurde aber in der STAWIKO sehr wohl darüber diskutiert, wie man eine möglichst faire, bedürfnisgerechte Verteilung der Mittel sicherstellen kann, ohne in eine zu tiefe, letztendlich nicht zielführende Granularität der anwendbaren Regeln abzurutschen.\n",
      "Die Festlegung der Kriterien – der Kanton hat hier, wie Sie sicher wissen, die Bundesregeln noch etwas verfeinert – sowie die Auszahlungsmodalitäten sind sicher diskussionswürdig, aber nicht Bestandteil des heutigen Entscheids.\n",
      "Der Regierungsrat ist in der Verantwortung für eine faire Verteilung dieser Mittel und der Regierungsrat hält sich dabei an Paragraph fünf Absatz eins des Gesetzes über die Wirtschaftsförderung.\n",
      "Aufgrund des enormen, letztlich aber nicht klar definierten Bedarfs hat die Kommission immerhin volles Verständnis dafür, dass man vorläufig nur fünfzigProzent der berechneten Entschädigungssumme ausbezahlt, damit der Punkt nicht zu früh erreicht wird, dass keine Mittel mehr vorhanden sind und man die gesuchstellenden Betriebe auf später vertrösten müsste.\n",
      "Das wäre wirklich gar nicht gut.\n",
      "Wir hoffen also, dass mit diesem Prozedere mindestens fünfzig Prozent der vorgesehenen Unterstützung sofort gewährt werden kann und die Betriebe auf diese Weise über die Runden kommen.\n",
      "Damit komme ich zum einstimmig angenommenen Antrag der Staatswirtschaftskommission.\n",
      "Der Voranschlagskredit der Erfolgsrechnung zweitausendeinundzwanzig des Amtes für Wirtschaft ist um drei.achthunderteinundsechzig Millionen Franken zu erhöhen und dem Regierungsrat der Auftrag zu erteilen, diese Mittel für die kantonalen Massnahmen zur COVID-neunzehn-Härtefallregelung einzusetzen.\n",
      "Zu den zwei in diesem Traktandum enthaltenen Vorstössen zu pandemiebedingten Mietzinsentlastungen, Motion M sechzehn/zwanzig: «Geschäftsmieten während Corona-Lockdown: Dreidrittels-Kompromiss» sowie Postulat P zwei/einundzwanzig: «Mieter und Eigentümer von Gewerberäumen entlasten», hat die STAWIKO keinen formellen Entscheid fällen wollen.\n",
      "Über diese Vorstösse soll der Kantonsrat frei von einer STAWIKO-Empfehlung diskutieren und entscheiden können.\n",
      "Ich bin zwar nicht persönlich an der Front betroffen.\n",
      "Wenn ich aber die Nachrichten auf den verschiedenen Kanälen studiere, stelle ich fest, dass der Kanton Schwyz bezüglich der Härtefallunterstützung wirklich sehr gut unterwegs ist, früh Gelder ausbezahlen kann, früh die entsprechenden Gesetze erlassen hat.\n",
      "Auch die Umsetzung erfolgt zügig.\n",
      "Herr Kantonsratspräsident, geschätzte Kantonsratskolleginnen und -kollegen.\n",
      "Die Massnahmen von Bund und Kantone für die Bekämpfung des Coronavirus treffen die Schweizer Wirtschaft hart.\n",
      "Unser Gewerbe leidet.\n",
      "In RRB Nr. sechsundsechzig/zweitausendeinundzwanzig sind die finanziellen Eckdaten für die öffentliche Hand – Stand Mitte Januar – sehr gut zusammengefasst: einhundertdreißig Millionen Franken Kurzarbeitsentschädigung, zweiunddreißig Millionen Franken Corona-Erwerbsausfall-Entschädigung, dreihundertachtundfünfzig Millionen Franken COVIDKredite, eins Millionen Franken zusätzlich für Kultur und Sport aus dem Lotteriefonds, Startup-Bürgschaften von rund sechs Millionen Franken, dann das Härtefallpaket, das der Kantonsrat im Dezember im Kanton Schwyz für vier.neunhundertsechsundsiebzig Millionen Franken geschnürt hat und jetzt also noch einmal drei.achthunderteinundsechzig Millionen Franken für das nächste Hilfspaket.\n",
      "auch das wird noch nicht reichen.\n",
      "Der Bund macht jeden Tag aufgrund der Pandemie einhundertvierundvierzig Millionen Franken neue Schulden.\n",
      "Meine Damen und Herren, so kann es definitiv nicht mehr weitergehen.\n",
      "Ich nehme das Virus sehr ernst, aber wir müssen uns damit abfinden, dass das Virus wahrscheinlich noch längere Zeit in unserer Gesellschaft nachgewiesen werden wird und wir müssen lernen, mit dem Virus zu leben.\n",
      "Wir müssen die Risikopersonen schützen und nicht die Gesunden einsperren.\n",
      "Wir können uns diese Massnahmen wirtschaftlich nicht mehr leisten und wir können uns diese Massnahmen aber vor allem auch sozial nicht mehr leisten.\n",
      "Der Drogenkonsum nimmt zu und die KJPD sind zu überlastet, weil immer mehr Jugendliche psychische Probleme haben.\n",
      "Insofern danke ich unserem Regierungsrat, dass er unser Anliegen aufgenommen hat und dass er sich in Bern für eine rasche Öffnung einsetzt.\n",
      "Ich finde generell, unser Regierungsrat im Kanton Schwyz macht einen guten Job.\n",
      "Meine Kritik geht deshalb auch nicht an unsere Regierung, sondern vor allem an das BAG mit seinen über sechshundert teuer bezahlten Mitarbeitern, mit Epidemiologen und Virologen, wie diese alle heissen, und an Bundesrat Alain Berset, der als Chef die Verantwortung für diesen Laden trägt.\n",
      "Wir hatten zuerst ein Maskendebakel, jetzt hapert es mit dem Impfstoff.\n",
      "Die Zahlen werden irgendwie per Fax übermittelt und die Statistiken stimmen nicht.\n",
      "Der R-Wert ist mehrmals nachweislich falsch berechnet worden und jetzt wird auch noch die Positivitätsrate verfälscht.\n",
      "Aufgrund von solchen Daten werden nachher politisch weitreichende Entscheide gefällt.\n",
      "So geht es nicht.\n",
      "Ich bin überzeugt, dies muss nach der Krise schonungslos aufgearbeitet werden.\n",
      "Wir müssen jetzt unter Einhaltung der Schutzmassnahmen die Wirtschaft sofort öffnen und zwar auch das Gastgewerbe und die Eventbranche.\n",
      "Zurück zu der Ausgabenbewilligung:\n",
      "Für die SVP-Fraktion ist ganz klar, wir dürfen unser Gewerbe jetzt nicht hängen lassen.\n",
      "Wir sagen immer:\n",
      "Die SVP-Fraktion unterstützt die Ausgabenbewilligung grossmehrheitlich.\n",
      "Die neue Härtefallunterstützung leistet einen wichtigen Beitrag an die Fixkosten der betroffenen Betriebe, also somit auch an die Mietkosten bzw. an die Hypothekar- und Unterhaltskosten.\n",
      "Sehr geehrter Präsident, geschätzte Damen und Herren.\n",
      "Wie sind die Auswirkungen der COVID-Krise auf die Unternehmen?\n",
      "Meine Präsidentenkollegen aus der Zentralschweiz des Gewerbeverbandes Luzern und der Wirtschaft Uri haben dazu eine repräsentative Umfrage gemacht, die sicher auch für den Kanton Schwyz ihre Gültigkeit hat.\n",
      "Circa ein Viertel der Unternehmen profitieren von der Krise.\n",
      "Für etwa ein Viertel hat die Krise mehr oder weniger keinen Einfluss.\n",
      "Der Rest, also etwa die Hälfte, sind mehr oder weniger stark betroffen.\n",
      "Rund zwanzig Prozent bezeichnet sich sogar von dieser Krise als sehr stark betroffen.\n",
      "Die Umfrage stammt vom Ende des letzten Jahres.\n",
      "Seit dem neuen Lockdown dieses Jahres hat sich die Betroffenheit spürbar und stark ausgeweitet.\n",
      "Die wirtschaftlichen Schäden sind massiv.\n",
      "Es wäre eine Illusion, wenn man meint, man könne all diese Schäden decken.\n"
     ]
    }
   ],
   "source": [
    "from pydub import AudioSegment\n",
    "\n",
    "audio_file = AudioSegment.from_wav(AUDIO_FILE[0])\n",
    "\n",
    "for i, sentence in enumerate(high_quality_sentences):\n",
    "    \n",
    "    # file path for each sentence\n",
    "    new_file_path = f'data/audio_output_0224/sentence_{i}.wav'\n",
    "\n",
    "    # splitting - works in miliseconds (*1000)\n",
    "\n",
    "    start = sentence.start_time * 1000\n",
    "    end = sentence.end_time * 1000\n",
    "    \n",
    "    #new_audio_file = audio_file[start:end]\n",
    "\n",
    "    # saving\n",
    "    #new_audio_file.export(new_file_path, format=\"wav\")"
   ]
  },
  {
   "cell_type": "code",
   "execution_count": null,
   "metadata": {},
   "outputs": [],
   "source": []
  }
 ],
 "metadata": {
  "kernelspec": {
   "display_name": "Python 3 (ipykernel)",
   "language": "python",
   "name": "python3"
  },
  "language_info": {
   "codemirror_mode": {
    "name": "ipython",
    "version": 3
   },
   "file_extension": ".py",
   "mimetype": "text/x-python",
   "name": "python",
   "nbconvert_exporter": "python",
   "pygments_lexer": "ipython3",
   "version": "3.9.13"
  }
 },
 "nbformat": 4,
 "nbformat_minor": 4
}
