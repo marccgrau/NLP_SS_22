{
 "cells": [
  {
   "cell_type": "code",
   "execution_count": 33,
   "id": "e27a411f-5225-4f3e-a27a-59e99552af66",
   "metadata": {},
   "outputs": [
    {
     "name": "stdout",
     "output_type": "stream",
     "text": [
      "\u001b[33mWARNING: The directory '/home/user/.cache/pip' or its parent directory is not owned or is not writable by the current user. The cache has been disabled. Check the permissions and owner of that directory. If executing pip with sudo, you should use sudo's -H flag.\u001b[0m\u001b[33m\n",
      "\u001b[0mDefaulting to user installation because normal site-packages is not writeable\n",
      "Requirement already satisfied: lightgbm in /home/user/.local/lib/python3.9/site-packages (3.3.2)\n",
      "Requirement already satisfied: scikit-learn!=0.22.0 in /home/user/.local/lib/python3.9/site-packages (from lightgbm) (1.1.1)\n",
      "Requirement already satisfied: scipy in /home/user/.local/lib/python3.9/site-packages (from lightgbm) (1.8.1)\n",
      "Requirement already satisfied: numpy in /home/user/.local/lib/python3.9/site-packages (from lightgbm) (1.21.6)\n",
      "Requirement already satisfied: wheel in /home/user/.local/lib/python3.9/site-packages (from lightgbm) (0.37.1)\n",
      "Requirement already satisfied: joblib>=1.0.0 in /home/user/.local/lib/python3.9/site-packages (from scikit-learn!=0.22.0->lightgbm) (1.1.0)\n",
      "Requirement already satisfied: threadpoolctl>=2.0.0 in /home/user/.local/lib/python3.9/site-packages (from scikit-learn!=0.22.0->lightgbm) (3.1.0)\n",
      "\u001b[33mWARNING: The directory '/home/user/.cache/pip' or its parent directory is not owned or is not writable by the current user. The cache has been disabled. Check the permissions and owner of that directory. If executing pip with sudo, you should use sudo's -H flag.\u001b[0m\u001b[33m\n",
      "\u001b[0mDefaulting to user installation because normal site-packages is not writeable\n",
      "Requirement already satisfied: scikit-optimize in /home/user/.local/lib/python3.9/site-packages (0.9.0)\n",
      "Requirement already satisfied: scipy>=0.19.1 in /home/user/.local/lib/python3.9/site-packages (from scikit-optimize) (1.8.1)\n",
      "Requirement already satisfied: numpy>=1.13.3 in /home/user/.local/lib/python3.9/site-packages (from scikit-optimize) (1.21.6)\n",
      "Requirement already satisfied: scikit-learn>=0.20.0 in /home/user/.local/lib/python3.9/site-packages (from scikit-optimize) (1.1.1)\n",
      "Requirement already satisfied: pyaml>=16.9 in /home/user/.local/lib/python3.9/site-packages (from scikit-optimize) (21.10.1)\n",
      "Requirement already satisfied: joblib>=0.11 in /home/user/.local/lib/python3.9/site-packages (from scikit-optimize) (1.1.0)\n",
      "Requirement already satisfied: PyYAML in /home/user/.local/lib/python3.9/site-packages (from pyaml>=16.9->scikit-optimize) (5.4.1)\n",
      "Requirement already satisfied: threadpoolctl>=2.0.0 in /home/user/.local/lib/python3.9/site-packages (from scikit-learn>=0.20.0->scikit-optimize) (3.1.0)\n"
     ]
    }
   ],
   "source": [
    "!pip install lightgbm\n",
    "!pip install scikit-optimize"
   ]
  },
  {
   "cell_type": "code",
   "execution_count": 60,
   "id": "c72b7631-9098-4e8f-89b1-2f93603f4bd2",
   "metadata": {},
   "outputs": [],
   "source": [
    "from typing import List, Union, Tuple\n",
    "import pandas as pd\n",
    "from lightgbm import LGBMRegressor\n",
    "from sklearn.metrics import mean_absolute_error\n",
    "from skopt import BayesSearchCV\n",
    "from skopt.space.space import Integer\n",
    "import numpy as np\n",
    "import pickle"
   ]
  },
  {
   "cell_type": "code",
   "execution_count": 44,
   "id": "b36b7f69-014b-49b6-a1f7-7f56e1d9b0ba",
   "metadata": {},
   "outputs": [],
   "source": [
    "\n",
    "class AlignedSentence:\n",
    "    def __init__(self, sentence: str, start_time: Union[float, None], end_time: Union[float, None]):\n",
    "        self.sentence = sentence\n",
    "        self.start_time = start_time\n",
    "        self.end_time = end_time\n",
    "\n",
    "def read_sentence_alignment(path_to_alignment) -> List[AlignedSentence]:\n",
    "    with open(path_to_alignment, encoding='utf-8') as f:\n",
    "        alignment = []\n",
    "        last_end_time = None\n",
    "        for line in f:\n",
    "            start_time, end_time, sentence = line.strip().split('\\t', maxsplit=2)\n",
    "            start_time = float(start_time)\n",
    "            end_time = float(end_time)\n",
    "            if start_time < 0:\n",
    "                start_time = None\n",
    "            if end_time < 0:\n",
    "                end_time = None\n",
    "            if start_time is not None and end_time is not None:\n",
    "                assert start_time <= end_time, f'start_time={start_time}, end_time={end_time}'\n",
    "                if last_end_time is not None:\n",
    "                    if start_time < last_end_time:\n",
    "                        print(f'WARNING: overlapping intervals, start_time={start_time} < last_end_time={last_end_time}')\n",
    "            last_end_time = end_time\n",
    "\n",
    "            alignment.append(AlignedSentence(sentence, start_time, end_time))\n",
    "\n",
    "    return alignment"
   ]
  },
  {
   "cell_type": "code",
   "execution_count": 45,
   "id": "74012e0e-6e68-4085-8fa8-5aa35a7594ea",
   "metadata": {},
   "outputs": [],
   "source": [
    "true_alignments = read_sentence_alignment(\"../data/true_timestamps_0224_without_pauses.txt\")\n",
    "estimated_alignments = read_sentence_alignment(\"../data/estimated_timestamps_0224.txt\")"
   ]
  },
  {
   "cell_type": "code",
   "execution_count": 46,
   "id": "25f1fe3e-c0a2-4052-936a-84ddced1ed2e",
   "metadata": {},
   "outputs": [],
   "source": [
    "def calculate_ious(sentence_alignment_1: List[AlignedSentence], sentence_alignment_2: List[AlignedSentence]):\n",
    "        ious = []\n",
    "        for aligned_sentence_1, aligned_sentence_2 in zip(sentence_alignment_1, sentence_alignment_2):\n",
    "            start_time_1 = aligned_sentence_1.start_time\n",
    "            start_time_2 = aligned_sentence_2.start_time\n",
    "            end_time_1 = aligned_sentence_1.end_time\n",
    "            end_time_2 = aligned_sentence_2.end_time\n",
    "            if start_time_1 is None or start_time_2 is None:\n",
    "                ious.append(None)\n",
    "            else:\n",
    "                intersection = min(end_time_1, end_time_2) - max(start_time_1, start_time_2)\n",
    "                intersection = 0.0 if intersection < 0.0 else intersection\n",
    "                union = max(end_time_1, end_time_2) - min(start_time_1, start_time_2)\n",
    "                assert union > 0.0\n",
    "                iou = intersection / union\n",
    "                ious.append(iou)\n",
    "\n",
    "        return ious"
   ]
  },
  {
   "cell_type": "code",
   "execution_count": 47,
   "id": "01f7a271-a46a-4a13-a087-99f09416a3af",
   "metadata": {},
   "outputs": [
    {
     "name": "stdout",
     "output_type": "stream",
     "text": [
      "18.21\n"
     ]
    }
   ],
   "source": [
    "print(estimated_alignments[2].start_time)"
   ]
  },
  {
   "cell_type": "code",
   "execution_count": 48,
   "id": "ab07922c-f234-4fea-bc54-02b87fb7ce3c",
   "metadata": {},
   "outputs": [],
   "source": [
    "ious = calculate_ious(true_alignments, estimated_alignments)"
   ]
  },
  {
   "cell_type": "code",
   "execution_count": 49,
   "id": "bdf479c4-23f0-4e65-9523-7d865130a6d6",
   "metadata": {},
   "outputs": [
    {
     "name": "stdout",
     "output_type": "stream",
     "text": [
      "[0.06, 0.9123997532387415, 0.14234234234234217, 0.693099273607748, 0.3573487031700285, 0.5153284671532847, 0.7027363184079601, 0.7299630086313196, 0.15451388888888923, 0.7369439071566738, 0.6522043386983913, 0.3137614678899104, 0.8975054229934931, 0.7185104052573938, 0.5304990757855834, 0.8235604860010564, 0.7103873239436623, 0.6295793758480341, 0.8456642800318219, 0.6328571428571438, 0.34482758620689585, 0.705679862306367, 0.6889848812095034, 0.668218859138534, 0.790432801822324, 0.3860759493670905, 0.7788235294117636, 0.5697211155378445, 0.9124087591240846, 0.7962577962577956, 0.7069645203679351, 0.5092807424593949, 0.0, 0.5751004016064283, 0.6132075471698115, 0.3607305936073027, 0.9037499999999987, 0.8403361344537751, 0.690624999999996, 0.5389221556886302, 0.7316666666666739, 0.6024096385542181, 0.43981481481480444, 0.8929159802306414, 0.7940379403794061, 0.8619631901840522, 0.6247755834829484, 0.37931034482758985, 0.593085106382985, 0.06504065040650657, 0.3179634966378477, 0.17927631578947004, 0.8097959183673482, 0.6641870350690737, 0.7093649085037632, 0.74721603563474, 0.1935483870967714, 0.31003584229391096, 0.4717948717948827, 0.652173913043477, 0.8026796589524959, 0.5222672064777353, 0.868978805394989, 0.7770224337185604, 0.5429042904290461, 0.4674698795180743, 0.5840163934426281, 0.38686131386861267, 0.1777003484320523, 0.29787234042552846, 0.4057507987220395, 0.5191292875989441, 0.33531250000000057, 0.05458515283842797, 0.6585714285714305, 0.20935101186322425, 0.0520646319569104, 0.8623507228158293, 0.5325520833333183, 0.6337662337662245, 0.7614678899082516, 0.8200000000000074, 0.8120649651972154, 0.35055350553503944, 0.6975265017667722, 0.7781050564555629, 0.7878024193548315, 0.5917496443812116, 0.8523852385238435, 0.5160714285714241, 0.6957132817990137, 0.6271739130434731, 0.7065217391304257, 0.5675057208237818, 0.4909638554216609, 0.8176254589963203, 0.7099165894346536, 0.6673202614379005, 0.7542329399692067, 0.7606981981981868, 0.42352941176468717, 0.7324561403508634, 0.6678383128295111, 0.6773333333333168, 0.7841328413284012, 0.7786046511627818, 0.7170795306388438, 0.4463087248322067, 0.6550825369244044, 0.80636237897648, 0.8836239575435879, 0.7270992366412097, 0.6334913112164242, 0.0, 0.09279538904898546, 0.8252720677146317, 0.5736434108527364, 0.6094420600858872, 0.5557163531114655, 0.820000000000019, 0.6479481641468848, 0.6482939632546096, 0.1501976284585428, 0.5720461095100859, 0.5719626168224294, 0.7761732851985939, 0.7667020148462321, 0.8057409879839734, 0.750233863423755, 0.6896174863388022, 0.40043290043293944, 0.6292397660818875, 0.29233870967742637, 0.701697655618443, 0.657643312101931, 0.6077738515901313, 0.3823529411765012, 0.7559912854030508, 0.509890109890101, 0.4328732747804308, 0.17913043478260396, 0.6606397774687015, 0.698312236286907, 0.8049792531120429, 0.766153846153849, 0.8542713567839157, 0.833333333333328, 0.8924999999999841, 0.8781558726674081, 0.8496420047732958, 0.9700230591852519, 0.9062027231467624, 0.9163314561544683, 0.5612431444241172, 0.7334479793637196, 0.6507936507936991, 0.7548330404218132, 0.7439180537772214, 0.6143057503506566, 0.6239130434782989, 0.9255898366606227, 0.8358208955223894, 0.8445028471309696, 0.571902654867267, 0.22660098522169583, 0.7414529914529872, 0.5272727272727291, 0.8533333333333455, 0.8877840909090955, 0.6419294990723782, 0.527868852459066, 0.08407079646018135, 0.19424460431655194, 0.7911802853437234, 0.8887973640856736, 0.8594594594594925, 0.8228980322003943, 0.6409090909091149, 0.7753303964757732, 0.7388939256573084, 0.8355140186916081, 0.7737104825291344, 0.7821316614420222, 0.9059999999999946, 0.9672619047619009, 0.846956521739151, 0.5714285714285714, 0.7575757575757615, 0.16549295774649325, 0.2864721485411263, 0.07809847198642553, 0.2535753575357597, 0.061886792452825384, 0.863453815261041, 0.6054687499999951, 0.6666666666666666, 0.7857142857142619, 0.5060606060606007, 0.764144011756074, 0.7298311444653195, 0.8516699410609055, 0.6125461254612347, 0.7483333333333159, 0.7458333333333312, 0.5050505050505584, 0.921538461538463, 0.5905511811023177, 0.8662952646239501, 0.8650000000000091, 0.9300595238095357, 0.8840700583819957, 0.6999999999999318, 0.6399506781750891, 0.0688468158347448, 0.7888805409466464, 0.8683544303797505, 0.7206632653061416, 0.8087215064420364, 0.773216031280554, 0.7539341917024285, 0.799999999999987, 0.9523809523809523, 0.7434782608695958, 0.9247058823529561, 0.8946280991735538, 0.8284023668639009, 0.34444444444443434, 0.542299349240766, 0.8335832083957848, 0.8149847094801157, 0.8745603751465487, 0.8600628930817789, 0.15802469135805117, 0.0, 0.5531772575250807, 0.786802030456848, 0.6425120772946706, 0.7500000000000175, 0.8245614035087798, 0.8255319148936722, 0.9479054779806764, 0.6798029556650875, 0.9600000000000096, 0.9541984732824493, 0.894984326018831, 0.7572254335260378, 0.6692063492063469, 0.0, 0.5519412381951737, 0.9200000000000728, 0.9162303664921618, 0.8657587548638436, 0.681978798586585, 0.6271676300577851, 0.5098039215686188, 0.5835866261398462, 0.9382470119522018, 0.742175856929954, 0.7357440890125068, 0.7699999999999818, 0.8528784648187534, 0.8386206896551623, 0.15612409347300604, 0.0, 0.0825100876582692, 0.8405755395683464, 0.0, 0.4560530679933686, 0.2522361359570336, 0.39626556016593145, 0.4105461393596369, 0.05459770114931001, 0.05514316012724982, 0.06452173913043542, 0.0, 0.3192848020434164, 0.4869791666666342, 0.7217391304347474, 0.7503234152651634, 0.865728900255734, 0.6451033243485863, 0.5264864864864747, 0.8505917159763039, 0.7003745318351461, 0.6059602649005962, 0.8334261838439752, 0.7621951219511387, 0.04524886877826437]\n"
     ]
    }
   ],
   "source": [
    "print(ious)"
   ]
  },
  {
   "cell_type": "code",
   "execution_count": 50,
   "id": "f5c8955d-766f-4fc7-8507-b266628ea628",
   "metadata": {},
   "outputs": [],
   "source": [
    "X_features = pd.read_csv(\"../data/X_features.csv\")"
   ]
  },
  {
   "cell_type": "code",
   "execution_count": 51,
   "id": "2e13abfc-8ed1-4333-a05a-e366da01a702",
   "metadata": {},
   "outputs": [
    {
     "name": "stdout",
     "output_type": "stream",
     "text": [
      "     confidence     score  length_ratio  chars_per_second\n",
      "0      0.843409 -0.455796      1.562500         11.961722\n",
      "1      0.943141 -0.389824      1.106977         14.875000\n",
      "2      0.834532 -0.773286      0.517241          3.456221\n",
      "3      0.851718 -0.648332      0.566667          3.932151\n",
      "4      0.873994 -0.469443      1.073171          8.118081\n",
      "..          ...       ...           ...               ...\n",
      "283    0.966948 -0.160701      0.930556         13.188976\n",
      "284    0.946148 -0.373308      1.129870         18.510638\n",
      "285    0.954532 -0.431939      1.168142         15.612064\n",
      "286    0.861879 -0.380734      1.340426         20.160000\n",
      "287    0.864784 -0.791969      0.666667          0.339367\n",
      "\n",
      "[288 rows x 4 columns]\n"
     ]
    }
   ],
   "source": [
    "print(X_features)"
   ]
  },
  {
   "cell_type": "code",
   "execution_count": 52,
   "id": "f7c7d0b1-7d93-48a8-bcf9-ba5ec7709f65",
   "metadata": {},
   "outputs": [],
   "source": [
    "y_target = ious"
   ]
  },
  {
   "cell_type": "code",
   "execution_count": 53,
   "id": "cf22358e-93ce-4f71-a1aa-002889014f4d",
   "metadata": {},
   "outputs": [],
   "source": [
    "def scorer(estimator, X, y):\n",
    "                y_pred = np.clip(np.squeeze(estimator.predict(X)), 0.0, 1.0)\n",
    "                return -mean_absolute_error(y, y_pred)\n",
    "\n",
    "opt = BayesSearchCV(\n",
    "                LGBMRegressor(),\n",
    "                {\n",
    "                    'num_leaves': Integer(\n",
    "                        2, 128,\n",
    "                        prior='log-uniform', base=2\n",
    "                    ),\n",
    "                    'min_child_samples': Integer(\n",
    "                        2, 512,\n",
    "                        prior='log-uniform', base=2\n",
    "                    ),\n",
    "                    'max_bin': Integer(\n",
    "                        2, 8192,\n",
    "                        prior='log-uniform', base=2\n",
    "                    ),\n",
    "                },\n",
    "                n_iter=60,\n",
    "                optimizer_kwargs={\n",
    "                    'n_initial_points': 20,\n",
    "                    'base_estimator': 'GP',\n",
    "                },\n",
    "                scoring=scorer,\n",
    "                cv=3,\n",
    "                refit=False,\n",
    "                random_state=42,\n",
    "                return_train_score=True,\n",
    "            )"
   ]
  },
  {
   "cell_type": "code",
   "execution_count": 54,
   "id": "87d3343b-214a-46d3-bd3b-470f1e807695",
   "metadata": {},
   "outputs": [
    {
     "data": {
      "text/html": [
       "<style>#sk-container-id-3 {color: black;background-color: white;}#sk-container-id-3 pre{padding: 0;}#sk-container-id-3 div.sk-toggleable {background-color: white;}#sk-container-id-3 label.sk-toggleable__label {cursor: pointer;display: block;width: 100%;margin-bottom: 0;padding: 0.3em;box-sizing: border-box;text-align: center;}#sk-container-id-3 label.sk-toggleable__label-arrow:before {content: \"▸\";float: left;margin-right: 0.25em;color: #696969;}#sk-container-id-3 label.sk-toggleable__label-arrow:hover:before {color: black;}#sk-container-id-3 div.sk-estimator:hover label.sk-toggleable__label-arrow:before {color: black;}#sk-container-id-3 div.sk-toggleable__content {max-height: 0;max-width: 0;overflow: hidden;text-align: left;background-color: #f0f8ff;}#sk-container-id-3 div.sk-toggleable__content pre {margin: 0.2em;color: black;border-radius: 0.25em;background-color: #f0f8ff;}#sk-container-id-3 input.sk-toggleable__control:checked~div.sk-toggleable__content {max-height: 200px;max-width: 100%;overflow: auto;}#sk-container-id-3 input.sk-toggleable__control:checked~label.sk-toggleable__label-arrow:before {content: \"▾\";}#sk-container-id-3 div.sk-estimator input.sk-toggleable__control:checked~label.sk-toggleable__label {background-color: #d4ebff;}#sk-container-id-3 div.sk-label input.sk-toggleable__control:checked~label.sk-toggleable__label {background-color: #d4ebff;}#sk-container-id-3 input.sk-hidden--visually {border: 0;clip: rect(1px 1px 1px 1px);clip: rect(1px, 1px, 1px, 1px);height: 1px;margin: -1px;overflow: hidden;padding: 0;position: absolute;width: 1px;}#sk-container-id-3 div.sk-estimator {font-family: monospace;background-color: #f0f8ff;border: 1px dotted black;border-radius: 0.25em;box-sizing: border-box;margin-bottom: 0.5em;}#sk-container-id-3 div.sk-estimator:hover {background-color: #d4ebff;}#sk-container-id-3 div.sk-parallel-item::after {content: \"\";width: 100%;border-bottom: 1px solid gray;flex-grow: 1;}#sk-container-id-3 div.sk-label:hover label.sk-toggleable__label {background-color: #d4ebff;}#sk-container-id-3 div.sk-serial::before {content: \"\";position: absolute;border-left: 1px solid gray;box-sizing: border-box;top: 0;bottom: 0;left: 50%;z-index: 0;}#sk-container-id-3 div.sk-serial {display: flex;flex-direction: column;align-items: center;background-color: white;padding-right: 0.2em;padding-left: 0.2em;position: relative;}#sk-container-id-3 div.sk-item {position: relative;z-index: 1;}#sk-container-id-3 div.sk-parallel {display: flex;align-items: stretch;justify-content: center;background-color: white;position: relative;}#sk-container-id-3 div.sk-item::before, #sk-container-id-3 div.sk-parallel-item::before {content: \"\";position: absolute;border-left: 1px solid gray;box-sizing: border-box;top: 0;bottom: 0;left: 50%;z-index: -1;}#sk-container-id-3 div.sk-parallel-item {display: flex;flex-direction: column;z-index: 1;position: relative;background-color: white;}#sk-container-id-3 div.sk-parallel-item:first-child::after {align-self: flex-end;width: 50%;}#sk-container-id-3 div.sk-parallel-item:last-child::after {align-self: flex-start;width: 50%;}#sk-container-id-3 div.sk-parallel-item:only-child::after {width: 0;}#sk-container-id-3 div.sk-dashed-wrapped {border: 1px dashed gray;margin: 0 0.4em 0.5em 0.4em;box-sizing: border-box;padding-bottom: 0.4em;background-color: white;}#sk-container-id-3 div.sk-label label {font-family: monospace;font-weight: bold;display: inline-block;line-height: 1.2em;}#sk-container-id-3 div.sk-label-container {text-align: center;}#sk-container-id-3 div.sk-container {/* jupyter's `normalize.less` sets `[hidden] { display: none; }` but bootstrap.min.css set `[hidden] { display: none !important; }` so we also need the `!important` here to be able to override the default hidden behavior on the sphinx rendered scikit-learn.org. See: https://github.com/scikit-learn/scikit-learn/issues/21755 */display: inline-block !important;position: relative;}#sk-container-id-3 div.sk-text-repr-fallback {display: none;}</style><div id=\"sk-container-id-3\" class=\"sk-top-container\"><div class=\"sk-text-repr-fallback\"><pre>BayesSearchCV(cv=3, estimator=LGBMRegressor(), n_iter=60,\n",
       "              optimizer_kwargs={&#x27;base_estimator&#x27;: &#x27;GP&#x27;, &#x27;n_initial_points&#x27;: 20},\n",
       "              random_state=42, refit=False, return_train_score=True,\n",
       "              scoring=&lt;function scorer at 0x7f1c59583c10&gt;,\n",
       "              search_spaces={&#x27;max_bin&#x27;: Integer(low=2, high=8192, prior=&#x27;log-uniform&#x27;, transform=&#x27;normalize&#x27;),\n",
       "                             &#x27;min_child_samples&#x27;: Integer(low=2, high=512, prior=&#x27;log-uniform&#x27;, transform=&#x27;normalize&#x27;),\n",
       "                             &#x27;num_leaves&#x27;: Integer(low=2, high=128, prior=&#x27;log-uniform&#x27;, transform=&#x27;normalize&#x27;)})</pre><b>In a Jupyter environment, please rerun this cell to show the HTML representation or trust the notebook. <br />On GitHub, the HTML representation is unable to render, please try loading this page with nbviewer.org.</b></div><div class=\"sk-container\" hidden><div class=\"sk-item sk-dashed-wrapped\"><div class=\"sk-label-container\"><div class=\"sk-label sk-toggleable\"><input class=\"sk-toggleable__control sk-hidden--visually\" id=\"sk-estimator-id-5\" type=\"checkbox\" ><label for=\"sk-estimator-id-5\" class=\"sk-toggleable__label sk-toggleable__label-arrow\">BayesSearchCV</label><div class=\"sk-toggleable__content\"><pre>BayesSearchCV(cv=3, estimator=LGBMRegressor(), n_iter=60,\n",
       "              optimizer_kwargs={&#x27;base_estimator&#x27;: &#x27;GP&#x27;, &#x27;n_initial_points&#x27;: 20},\n",
       "              random_state=42, refit=False, return_train_score=True,\n",
       "              scoring=&lt;function scorer at 0x7f1c59583c10&gt;,\n",
       "              search_spaces={&#x27;max_bin&#x27;: Integer(low=2, high=8192, prior=&#x27;log-uniform&#x27;, transform=&#x27;normalize&#x27;),\n",
       "                             &#x27;min_child_samples&#x27;: Integer(low=2, high=512, prior=&#x27;log-uniform&#x27;, transform=&#x27;normalize&#x27;),\n",
       "                             &#x27;num_leaves&#x27;: Integer(low=2, high=128, prior=&#x27;log-uniform&#x27;, transform=&#x27;normalize&#x27;)})</pre></div></div></div><div class=\"sk-parallel\"><div class=\"sk-parallel-item\"><div class=\"sk-item\"><div class=\"sk-label-container\"><div class=\"sk-label sk-toggleable\"><input class=\"sk-toggleable__control sk-hidden--visually\" id=\"sk-estimator-id-6\" type=\"checkbox\" ><label for=\"sk-estimator-id-6\" class=\"sk-toggleable__label sk-toggleable__label-arrow\">estimator: LGBMRegressor</label><div class=\"sk-toggleable__content\"><pre>LGBMRegressor()</pre></div></div></div><div class=\"sk-serial\"><div class=\"sk-item\"><div class=\"sk-estimator sk-toggleable\"><input class=\"sk-toggleable__control sk-hidden--visually\" id=\"sk-estimator-id-7\" type=\"checkbox\" ><label for=\"sk-estimator-id-7\" class=\"sk-toggleable__label sk-toggleable__label-arrow\">LGBMRegressor</label><div class=\"sk-toggleable__content\"><pre>LGBMRegressor()</pre></div></div></div></div></div></div></div></div></div></div>"
      ],
      "text/plain": [
       "BayesSearchCV(cv=3, estimator=LGBMRegressor(), n_iter=60,\n",
       "              optimizer_kwargs={'base_estimator': 'GP', 'n_initial_points': 20},\n",
       "              random_state=42, refit=False, return_train_score=True,\n",
       "              scoring=<function scorer at 0x7f1c59583c10>,\n",
       "              search_spaces={'max_bin': Integer(low=2, high=8192, prior='log-uniform', transform='normalize'),\n",
       "                             'min_child_samples': Integer(low=2, high=512, prior='log-uniform', transform='normalize'),\n",
       "                             'num_leaves': Integer(low=2, high=128, prior='log-uniform', transform='normalize')})"
      ]
     },
     "execution_count": 54,
     "metadata": {},
     "output_type": "execute_result"
    }
   ],
   "source": [
    "opt.fit(X_features, y_target)"
   ]
  },
  {
   "cell_type": "code",
   "execution_count": 55,
   "id": "0fe34a8e-9ca1-43a4-88fd-a4c852f3a402",
   "metadata": {},
   "outputs": [
    {
     "name": "stdout",
     "output_type": "stream",
     "text": [
      "Found hyperparams OrderedDict([('max_bin', 98), ('min_child_samples', 3), ('num_leaves', 5)])\n"
     ]
    }
   ],
   "source": [
    "print(f'Found hyperparams {opt.best_params_}')"
   ]
  },
  {
   "cell_type": "code",
   "execution_count": 56,
   "id": "e3592c76-9daf-4457-b388-b5acc721807d",
   "metadata": {},
   "outputs": [],
   "source": [
    "estimator = LGBMRegressor(**opt.best_params_)"
   ]
  },
  {
   "cell_type": "code",
   "execution_count": 57,
   "id": "1fce33ab-d0c6-4c31-bc90-2103a20a113d",
   "metadata": {},
   "outputs": [
    {
     "data": {
      "text/html": [
       "<style>#sk-container-id-4 {color: black;background-color: white;}#sk-container-id-4 pre{padding: 0;}#sk-container-id-4 div.sk-toggleable {background-color: white;}#sk-container-id-4 label.sk-toggleable__label {cursor: pointer;display: block;width: 100%;margin-bottom: 0;padding: 0.3em;box-sizing: border-box;text-align: center;}#sk-container-id-4 label.sk-toggleable__label-arrow:before {content: \"▸\";float: left;margin-right: 0.25em;color: #696969;}#sk-container-id-4 label.sk-toggleable__label-arrow:hover:before {color: black;}#sk-container-id-4 div.sk-estimator:hover label.sk-toggleable__label-arrow:before {color: black;}#sk-container-id-4 div.sk-toggleable__content {max-height: 0;max-width: 0;overflow: hidden;text-align: left;background-color: #f0f8ff;}#sk-container-id-4 div.sk-toggleable__content pre {margin: 0.2em;color: black;border-radius: 0.25em;background-color: #f0f8ff;}#sk-container-id-4 input.sk-toggleable__control:checked~div.sk-toggleable__content {max-height: 200px;max-width: 100%;overflow: auto;}#sk-container-id-4 input.sk-toggleable__control:checked~label.sk-toggleable__label-arrow:before {content: \"▾\";}#sk-container-id-4 div.sk-estimator input.sk-toggleable__control:checked~label.sk-toggleable__label {background-color: #d4ebff;}#sk-container-id-4 div.sk-label input.sk-toggleable__control:checked~label.sk-toggleable__label {background-color: #d4ebff;}#sk-container-id-4 input.sk-hidden--visually {border: 0;clip: rect(1px 1px 1px 1px);clip: rect(1px, 1px, 1px, 1px);height: 1px;margin: -1px;overflow: hidden;padding: 0;position: absolute;width: 1px;}#sk-container-id-4 div.sk-estimator {font-family: monospace;background-color: #f0f8ff;border: 1px dotted black;border-radius: 0.25em;box-sizing: border-box;margin-bottom: 0.5em;}#sk-container-id-4 div.sk-estimator:hover {background-color: #d4ebff;}#sk-container-id-4 div.sk-parallel-item::after {content: \"\";width: 100%;border-bottom: 1px solid gray;flex-grow: 1;}#sk-container-id-4 div.sk-label:hover label.sk-toggleable__label {background-color: #d4ebff;}#sk-container-id-4 div.sk-serial::before {content: \"\";position: absolute;border-left: 1px solid gray;box-sizing: border-box;top: 0;bottom: 0;left: 50%;z-index: 0;}#sk-container-id-4 div.sk-serial {display: flex;flex-direction: column;align-items: center;background-color: white;padding-right: 0.2em;padding-left: 0.2em;position: relative;}#sk-container-id-4 div.sk-item {position: relative;z-index: 1;}#sk-container-id-4 div.sk-parallel {display: flex;align-items: stretch;justify-content: center;background-color: white;position: relative;}#sk-container-id-4 div.sk-item::before, #sk-container-id-4 div.sk-parallel-item::before {content: \"\";position: absolute;border-left: 1px solid gray;box-sizing: border-box;top: 0;bottom: 0;left: 50%;z-index: -1;}#sk-container-id-4 div.sk-parallel-item {display: flex;flex-direction: column;z-index: 1;position: relative;background-color: white;}#sk-container-id-4 div.sk-parallel-item:first-child::after {align-self: flex-end;width: 50%;}#sk-container-id-4 div.sk-parallel-item:last-child::after {align-self: flex-start;width: 50%;}#sk-container-id-4 div.sk-parallel-item:only-child::after {width: 0;}#sk-container-id-4 div.sk-dashed-wrapped {border: 1px dashed gray;margin: 0 0.4em 0.5em 0.4em;box-sizing: border-box;padding-bottom: 0.4em;background-color: white;}#sk-container-id-4 div.sk-label label {font-family: monospace;font-weight: bold;display: inline-block;line-height: 1.2em;}#sk-container-id-4 div.sk-label-container {text-align: center;}#sk-container-id-4 div.sk-container {/* jupyter's `normalize.less` sets `[hidden] { display: none; }` but bootstrap.min.css set `[hidden] { display: none !important; }` so we also need the `!important` here to be able to override the default hidden behavior on the sphinx rendered scikit-learn.org. See: https://github.com/scikit-learn/scikit-learn/issues/21755 */display: inline-block !important;position: relative;}#sk-container-id-4 div.sk-text-repr-fallback {display: none;}</style><div id=\"sk-container-id-4\" class=\"sk-top-container\"><div class=\"sk-text-repr-fallback\"><pre>LGBMRegressor(max_bin=98, min_child_samples=3, num_leaves=5)</pre><b>In a Jupyter environment, please rerun this cell to show the HTML representation or trust the notebook. <br />On GitHub, the HTML representation is unable to render, please try loading this page with nbviewer.org.</b></div><div class=\"sk-container\" hidden><div class=\"sk-item\"><div class=\"sk-estimator sk-toggleable\"><input class=\"sk-toggleable__control sk-hidden--visually\" id=\"sk-estimator-id-8\" type=\"checkbox\" checked><label for=\"sk-estimator-id-8\" class=\"sk-toggleable__label sk-toggleable__label-arrow\">LGBMRegressor</label><div class=\"sk-toggleable__content\"><pre>LGBMRegressor(max_bin=98, min_child_samples=3, num_leaves=5)</pre></div></div></div></div></div>"
      ],
      "text/plain": [
       "LGBMRegressor(max_bin=98, min_child_samples=3, num_leaves=5)"
      ]
     },
     "execution_count": 57,
     "metadata": {},
     "output_type": "execute_result"
    }
   ],
   "source": [
    "estimator.fit(X_features, y_target)"
   ]
  },
  {
   "cell_type": "code",
   "execution_count": 58,
   "id": "8a2a8c49-b618-4653-8d85-e4bf00df64ac",
   "metadata": {},
   "outputs": [],
   "source": [
    "preds = estimator.predict(X_features)"
   ]
  },
  {
   "cell_type": "code",
   "execution_count": 59,
   "id": "66d9ebca-e603-41ad-aefb-d6dc1c83ac13",
   "metadata": {},
   "outputs": [
    {
     "name": "stdout",
     "output_type": "stream",
     "text": [
      "0.6964208788151437\n"
     ]
    }
   ],
   "source": [
    "print(np.median(preds))"
   ]
  },
  {
   "cell_type": "code",
   "execution_count": 61,
   "id": "d59b8f7a-a6f0-4c42-9ea1-734c8f5f337b",
   "metadata": {},
   "outputs": [],
   "source": [
    "pickle.dump(estimator, open(\"iou_estimator.pkl\", \"wb\"))"
   ]
  }
 ],
 "metadata": {
  "kernelspec": {
   "display_name": "Python 3 (ipykernel)",
   "language": "python",
   "name": "python3"
  },
  "language_info": {
   "codemirror_mode": {
    "name": "ipython",
    "version": 3
   },
   "file_extension": ".py",
   "mimetype": "text/x-python",
   "name": "python",
   "nbconvert_exporter": "python",
   "pygments_lexer": "ipython3",
   "version": "3.9.13"
  }
 },
 "nbformat": 4,
 "nbformat_minor": 5
}
